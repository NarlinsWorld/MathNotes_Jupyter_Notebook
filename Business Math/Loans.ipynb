{
 "cells": [
  {
   "cell_type": "markdown",
   "id": "c69dfbfa",
   "metadata": {},
   "source": [
    "We are looking at how to estimate the monthly payment of a loan from the APR (Annual percentage rate), the amount borrowed, and the number of payback months. <br>\n",
    "Let $P$ be the initial loan principle.<br>\n",
    "Let $n$ be the number of payments to be made. (e.g. 5 years = 60 months=60 payments)<br>\n",
    "Let $r$ be the $$\\frac{\\text{(fractional annual percentage rate)}}{12},$$ which is the monthly interest rate expressed as a fraction. e.g. 8% = .08/12.<br>\n",
    "\n",
    "The usual and correct equation for the calculation of monthly payments is\n",
    "$$M = \\frac{P r (1+r)^n}{(1+r)^n-1}$$\n",
    "The formula derivation is lengthy and even using it is a pain.<br><br>\n",
    "An alternative, which is an approximation, but quite a good one, is $$Monthly Payment \\approx \\frac{P+\\frac{1}{2}Pnr}{n}$$"
   ]
  },
  {
   "cell_type": "markdown",
   "id": "61d38149",
   "metadata": {},
   "source": [
    "<font size=3>\n",
    "If there were no interest then the monthly payment would be $\\frac{P}{n},$ the amount of the loan divided by the total number of monthly payments. But since there is interest to be paid, we can calculate it as simple interest, i.e. $$\\text{Simple Interest}=(P)(r).$$ calculated over half of the loan period.\n",
    "It is cut in half because as we make payments, the principle is decreased which of course also decreases the interest. I might do the calculation like this,\n",
    "    \n",
    " $$\\text{Monthly Payment}= \\frac{P}{n}+\\frac{P\\left( \\frac{APR}{12} \\right)}{2}$$<br><br>\n",
    " Example: \n",
    " Loan principle = P = 60,000 dollars<br>\n",
    " APR=8% = .08<br>\n",
    " $$\\text{Monthly Payment}\\approx \\frac{60,000\\text{ dollars}}{60\\text{ months}}+\\frac{60,000\\left(\\frac{.08}{12} \\right)}{2}\\approx1200 \\text{ dollars/month}$$\n",
    " Whereas, doing the real calculation gets,\n",
    "    $$M = \\frac{P r (1+r)^n}{(1+r)^n-1}=1216.58 \\text{ dollars/month}$$\n",
    " \n",
    " The calculation is always an underestimate.\n",
    "   \n",
    " "
   ]
  },
  {
   "cell_type": "code",
   "execution_count": 17,
   "id": "6f576d9c",
   "metadata": {},
   "outputs": [
    {
     "name": "stdout",
     "output_type": "stream",
     "text": [
      "Principle   APR       Period    Estimated        Actual           %Error\n",
      "                     (months)   Payment/Mo.      Payment/Mo.\n",
      " $ 10000    0.08       24       $ 450.00          $ 452.27       0.022729%\n",
      " $ 60000    0.08       60       $1200.00          $1216.58       0.027639%\n",
      " $120000    0.05      120       $1250.00          $1272.79       0.018988%\n",
      " $400000    0.04      360       $1777.78          $1909.66       0.032971%\n"
     ]
    }
   ],
   "source": [
    "P=[10_000,60_000,120_000,400_000]; APR=[.08,.08,.05,.04]; n=[2*12,5*12,10*12,30*12];M=[];A=[];Err=[]\n",
    "for k in range(4):\n",
    "    M.append(P[k]/n[k]+P[k]*(APR[k]/12)/2)\n",
    "    A.append(P[k]*(APR[k]/12)*((APR[k]/12+1)**n[k])/((APR[k]/12+1)**n[k]-1))\n",
    "    Err.append((A[k]-M[k])*100/P[k])\n",
    "print(\"Principle   APR       Period    Estimated        Actual           %Error\")\n",
    "print(\"                     (months)   Payment/Mo.      Payment/Mo.\")\n",
    "for k in range(4):\n",
    "    print(\" ${0:6d}    {1:3.2f}      {2:3d}       ${3:7.2f}          ${4:7.2f}       {5:8.6f}%\".format(P[k],APR[k],n[k],M[k],A[k],Err[k]))\n",
    "\n",
    "# r=APR/12\n",
    "# M=P*r*((r+1)**n)/((r+1)**n-1)\n",
    "# print(M)"
   ]
  },
  {
   "cell_type": "code",
   "execution_count": 42,
   "id": "07674a0b",
   "metadata": {},
   "outputs": [
    {
     "name": "stdout",
     "output_type": "stream",
     "text": [
      "869.8842908542201 866.6666666666667 869.4444444444445\n",
      "my underestimate = 38.61149025064151\n"
     ]
    },
    {
     "data": {
      "image/png": "[encoded data removed]",
      "text/plain": [
       "<Figure size 400x400 with 1 Axes>"
      ]
     },
     "metadata": {},
     "output_type": "display_data"
    }
   ],
   "source": [
    "%reset -f\n",
    "from numpy import *\n",
    "import matplotlib.pyplot as plt\n",
    "%matplotlib inline\n",
    "\n",
    "P = 10_000\n",
    "r = 0.08/12\n",
    "N = 1*12\n",
    "\n",
    "t = (1 + r)**N\n",
    "#C = r*t*P/(t - 1)\n",
    "C=r*t*P/(t-1)\n",
    "C1 = (P + 0.5*P*N*r)/N\n",
    "#C1=P/N+P*r/2\n",
    "C2 = (P + 0.5*P*(N+1)*r)/N\n",
    "print(C, C1, C2)\n",
    "\n",
    "def CostPerMonth(N,P,R): \n",
    "    #N=number of months of the load\n",
    "    #R=Annual interest rate\n",
    "    #P= principle owed\n",
    "    t = (1 + r)**N\n",
    "    C = r*t*P/(t - 1)\n",
    "    return C\n",
    "\n",
    "month=[]; total=[]; nbbtotal=[]\n",
    "C = CostPerMonth(N,P,r)\n",
    "APD=0; nbb=0;\n",
    "for i in range(1,N+1):\n",
    "    APD = APD+C\n",
    "    nbb = nbb+C1\n",
    "    \n",
    "    month.append(i)\n",
    "    total.append(APD)\n",
    "    nbbtotal.append(nbb)\n",
    "\n",
    "fig,ax=plt.subplots(figsize=(4,4))\n",
    "\n",
    "plt.plot(month,total)\n",
    "plt.plot(month,nbbtotal)\n",
    "print('my underestimate =',total[N-1]-nbbtotal[N-1])"
   ]
  },
  {
   "cell_type": "code",
   "execution_count": 43,
   "id": "f4b8a3f7",
   "metadata": {},
   "outputs": [
    {
     "name": "stdout",
     "output_type": "stream",
     "text": [
      "1.08\n",
      "1 1.08\n",
      "10 1.082942308472839\n",
      "100 1.083252421519852\n",
      "1000 1.0832836013467584\n",
      "10000 1.0832867210250106\n",
      "100000 1.0832870330097897\n",
      "\n",
      "100 1.083252421519843\n"
     ]
    }
   ],
   "source": [
    "P=1\n",
    "APR = .08\n",
    "P=P+P*(APR)  #most simple concept. 1 term \n",
    "print(P)\n",
    "\n",
    "#But pay every month. Then let N be the  number of periods\n",
    "#and all of the periods in 1 year ('annual for APR')\n",
    "P=1\n",
    "for k in range(6):\n",
    "    N=10**k; P=1\n",
    "    r=APR/N\n",
    "    for j in range(1,N+1):\n",
    "        P=P+P*r\n",
    "    print(N,P)\n",
    "print(\"\")\n",
    "\n",
    "#The limit of continuous compounding\n",
    "P=1\n",
    "N=100\n",
    "r=APR/N\n",
    "P=P*(1+r)**N\n",
    "print(N,P)"
   ]
  },
  {
   "cell_type": "markdown",
   "id": "705e7a78",
   "metadata": {},
   "source": [
    "In the cell below I will demonstrate compound interest using simple math.<br>\n",
    "$P$ is the loan principle.\n",
    "$APR$ is the annual percentage rate of interest. 8% = 0.08$\\quad$ 'as a fraction,'<br>\n",
    "$r=\\frac{APR}{12}$ is the monthly interest rate as a fraction.<br>\n",
    "For example an APR of 8% translates as follows.\n",
    "$$r=\\frac{8\\%}{12}=\\frac{.08}{12}=\\frac{8}{1200}=\\frac{2}{300}=\\frac{1}{150}$$\n",
    "First we will find the simple interest paid on a 1 dollar investment with an APR.<br>\n",
    "When there are no monthly payments, then the math is truly simple and at the end of a year we just pay out the $APR\\times P.$<br> \n",
    "Suppose the loan amount is $10000$ at $8\\%,$ then $$10000+10000\\times .08=10800$$\n",
    "However, when there is a monthly payment, we increase the\n",
    "$$\\begin{align}\n",
    "r &= APR/12\\\\\n",
    "\\text{Value } &=P+Pr\\\\\n",
    "\\end{align}$$"
   ]
  },
  {
   "cell_type": "code",
   "execution_count": 42,
   "id": "38b83634",
   "metadata": {},
   "outputs": [
    {
     "name": "stdout",
     "output_type": "stream",
     "text": [
      "For 1 payment simple =  10800.0\n",
      "[1, 10066.666666666666, 66.66666666666667]\n",
      "[2, 10133.777777777777, 67.11111111111111]\n",
      "[3, 10201.336296296296, 67.55851851851853]\n",
      "[4, 10269.345204938272, 68.00890864197531]\n",
      "[5, 10337.807506304527, 68.46230136625515]\n",
      "[6, 10406.726223013224, 68.91871670869685]\n",
      "[7, 10476.104397833313, 69.37817482008816]\n",
      "[8, 10545.945093818867, 69.84069598555543]\n",
      "[9, 10616.251394444327, 70.30630062545912]\n",
      "[10, 10687.026403740623, 70.77500929629552]\n",
      "[11, 10758.273246432227, 71.24684269160416]\n",
      "[12, 10829.995068075108, 71.72182164288152]\n",
      "sum of monthly interest earned =  829.9950680751074\n",
      "Calculation of interest earned over a year =  829.9950680750972\n"
     ]
    }
   ],
   "source": [
    "P=10000; L=[]\n",
    "APR=.08\n",
    "r=APR/12\n",
    "print('For 1 payment simple = ',P+P*APR)\n",
    "N=12\n",
    "for j in range(1,N+1):\n",
    "    i=r*P\n",
    "    P=P+P*r\n",
    "    L.append([j,P,i])\n",
    "print(*L,sep=\"\\n\")\n",
    "#sum the interest payments\n",
    "s=0\n",
    "for j in range(N):\n",
    "    s=s+L[j][2]\n",
    "print('sum of monthly interest earned = ',s)\n",
    "\n",
    "P=10_000\n",
    "print('Calculation of interest earned over a year = ',P*(1+r)**N-P)"
   ]
  },
  {
   "cell_type": "markdown",
   "id": "0df92f64",
   "metadata": {},
   "source": [
    "<font size=3>\n",
    "Now let's take the above and work it as a loan rather than an investment.\n",
    "We first have to derive a monthly payment.<br>\n",
    "Let $P$ be the loan amount.<br>\n",
    "Let $APR$ be the fractional (0 to 1) annual percentage rate for interest.<br>\n",
    "Let $r=APR/12$ be the monthly interest rate.<br>\n",
    "Let $n$ be the number of payments at 1 payment per month.<br>\n",
    "Let $M$ be the amount of each monthly payment.<br><br>\n",
    "\n",
    "We want to find $M.$ The $\\color{red}{relation}$ to be satisfied is that the sum of all montly payments, part of which is paid as prinicple and part as interest, will equal to zero after $n$ payments are made.<br><br>\n",
    "    \n",
    "In the first month we will pay some of the principle, $P,$ as well as the some of the interest. The interest amount paid in month one will be $r\\cdot P.$ The principle is reduced every time a payment is made, therefore, the interest, calculated as $r\\cdot P_n$ is also reduced each time.<br>\n",
    "In month 1, the principle is $P_0=P.$ and we pay $(M-P_0\\cdot r).$<br>\n",
    "In month 2, the new principle is $P_1$ and it is $P_0-\\text{(our payment}).$<br>\n",
    "Month 2, the principle is $P_1=P_0-(M-P_0\\cdot r).$<br>\n",
    "Month 3, the principle is $P_2=P_1-(M-P_1\\cdot r).$<br>\n",
    "Month 4, the principle is $P_3=P_2-(M-P_2\\cdot r). $<br><br>\n",
    "But what is $M?\\quad$\n",
    "Looking at month 2, we do a wee bit of algebra to help the situation.<br>\n",
    "$P_1=P_0(1+r)-M$ and all of them can be arranged accordingly.<br><br>\n",
    "Month 2,  $P_1=P_0(1+r)-M$<br>\n",
    "Month 3,  $P_2=P_1(1+r)-M$<br>\n",
    "Month 4,  $P_3=P_2(1+r)-M$<br>\n",
    "etc.<br><br>\n",
    "For the purpose of working at a value for $M,$ let's suppose that there are only four payments. Then we can write the relation. Namely, the principle remaining after the $n^{th}$ payment will be zero.\n",
    "$$0=P_3$$\n",
    "Now we start back substituting.<br><br>\n",
    "   $$0=P_2(1+r)-M$$\n",
    "   $$0=( P_1(1+r)-M)(1+r)-M$$\n",
    "   $$0=( (P_0(1+r)-M)(1+r)-M)(1+r)-M$$\n",
    "until we arrive at an equation that has only $P_0,r,$ and $M,$ all values that we know. However, solving for $M$ is not trivial. <br>\n",
    "For $(1-r)$ substitute $q.$  \n",
    "    $$\\begin{align}\n",
    "    0&=( (P_0q-M)q-M)q-M\\\\\n",
    "    0&=(P_0q^2-Mq-M)q-M\\\\\n",
    "    0&=P_0q^3-Mq^2-Mq-M\\\\\n",
    "    \\end{align}$$\n",
    "From here, I recognize the sum of a geometric series.<br>\n",
    "<hr style=\"border-top: 1px solid green;\">\n",
    "Aside: Sum of a geometric series.<br>\n",
    "    $$ \\sigma = a+ar^1+ar^2+ar^3+\\ldots +ar^{n-1} \\tag{EQ 1}$$\n",
    "    Multiply equation 1 by $r.$<br>\n",
    "    $$ \\sigma\\cdot r = +ar^1+ar^2+ar^3+\\ldots +ar^n \\tag{EQ 1}$$\n",
    "Subtract: (EQ 2) - (EQ 1)<br>\n",
    "    $$\\sigma\\cdot r = -a + ar^n$$\n",
    "Solve for $\\sigma.$\n",
    "    $$\\begin{align}\n",
    "    \\sigma(r-1) &= -a+ar^n\\\\\n",
    "    \\sigma(1-r) &= a=ar^n \\\\\n",
    "    \\sigma &= \\frac{a(1-r^n)}{1-r}\n",
    "    \\end{align}$$\n",
    "<hr style=\"border-top: 1px solid green;\">\n",
    "The relation can be written as $$0=P_0q^3-\\left( M+Mq+Mq^2  \\right)$$\n",
    "          <br><br>\n",
    "Or, more generally, $$0=P_0 q^n -\\left( M+Mq+Mq^2+Mq^3+\\ldots +Mq^{n-1}\\right)$$\n",
    "Matching this to the geometric series, it is,\n",
    "$$0=P_0q^n-\\sigma = P_0q^n - \\frac{M(1-q^n)}{1-q}$$\n",
    "Now we need to change $q$ back to (r+1) and simplify the expression and solve for $M.$<br>\n",
    "$$\\begin{align}\n",
    "0 &= P_0q^n - \\frac{M(1-q^n)}{1-q}\\\\\n",
    "P_0q^n &=\\frac{M(1-q^n)}{1-q}\\\\\n",
    "(1-q^n)M &= P_0q^n(1-q)\\\\\n",
    "M &= \\frac{P_0 q^n (1-q)}{1-q^n}\\\\\n",
    "M &= \\frac{P_0(1+r)^n(1-(1+r))}{1-(1+r)^n}\\\\\n",
    "M &= \\frac{-P_0\\cdot r\\cdot (1+r)^n}{1-(1+r)^n}\\\\\n",
    "M &= \\frac{P_0 r (1+r)^n}{(1+r)^n-1}\n",
    "\\end{align}$$"
   ]
  },
  {
   "cell_type": "code",
   "execution_count": 33,
   "id": "e5913746",
   "metadata": {},
   "outputs": [
    {
     "name": "stdout",
     "output_type": "stream",
     "text": [
      "869.8842908542201\n",
      "[1, 9196.782375812447, 803.2176241875535, 66.66666666666667]\n",
      "[2, 8388.209967463643, 808.5724083488038, 61.311882505416314]\n",
      "[3, 7574.247076392514, 813.9628910711292, 55.921399783090955]\n",
      "[4, 6754.857766047578, 819.3893103449367, 50.49498050928343]\n",
      "[5, 5930.005860300342, 824.8519057472363, 45.03238510698385]\n",
      "[6, 5099.654941848124, 830.3509184522178, 39.53337240200228]\n",
      "[7, 4263.768350606224, 835.8865912418993, 33.99769961232083]\n",
      "[8, 3422.3091820893787, 841.4591685168454, 28.425122337374827]\n",
      "[9, 2575.240285782421, 847.0688963069576, 22.815394547262528]\n",
      "[10, 1722.5242635000836, 852.7160222823373, 17.168268571882805]\n",
      "[11, 864.1234677358641, 858.4007957642195, 11.483495090000558]\n",
      "[12, -1.169837560155429e-10, 864.1234677359811, 5.760823118239094]\n"
     ]
    }
   ],
   "source": [
    "P=10000; L=[]\n",
    "APR=.08\n",
    "n=12\n",
    "r=APR/n\n",
    "M=P*r*((r+1)**n)/((r+1)**n-1) #the monthly payment\n",
    "print(M)\n",
    "for j in range(1,n+1):\n",
    "    i=r*P\n",
    "    P=P-(M-P*r)\n",
    "    L.append([j,P,M-i,i])\n",
    "print(*L,sep=\"\\n\")\n"
   ]
  },
  {
   "cell_type": "code",
   "execution_count": 34,
   "id": "d527ed29",
   "metadata": {},
   "outputs": [
    {
     "name": "stdout",
     "output_type": "stream",
     "text": [
      "869.8842908542201\n"
     ]
    }
   ],
   "source": [
    "P=10_000\n",
    "r=.08/12\n",
    "M=P*r*((r+1)**12)/((r+1)**12-1)\n",
    "print(M)"
   ]
  }
 ],
 "metadata": {
  "kernelspec": {
   "display_name": "Python 3 (ipykernel)",
   "language": "python",
   "name": "python3"
  },
  "language_info": {
   "codemirror_mode": {
    "name": "ipython",
    "version": 3
   },
   "file_extension": ".py",
   "mimetype": "text/x-python",
   "name": "python",
   "nbconvert_exporter": "python",
   "pygments_lexer": "ipython3",
   "version": "3.11.0"
  }
 },
 "nbformat": 4,
 "nbformat_minor": 5
}
