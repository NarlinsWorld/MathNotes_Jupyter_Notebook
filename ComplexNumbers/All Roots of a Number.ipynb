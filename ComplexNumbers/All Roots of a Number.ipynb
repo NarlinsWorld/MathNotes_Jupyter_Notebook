{
 "cells": [
  {
   "cell_type": "markdown",
   "metadata": {},
   "source": [
    "<font size=\"5\">\n",
    "    How to find complex solutions for $z^6=−9$?<br><br>\n",
    "<strong>Find all the solutions of the equation $z^n = w$, where $n \\in \\mathbb{N}$ and $w \\in \\mathbb C.$</strong>\n",
    "\n",
    "Solution : \n",
    "\n",
    "Let $ w=|w|e^{iφ} = |w|\\cosφ + i|w|\\sin φ, φ=\\arg w$\n",
    "\n",
    "If $ z=|z|e^{iθ} = |z|\\cosθ + i|z|\\sin θ, θ=\\arg z$\n",
    "\n",
    "Then, $|z|^ne^{inθ}=|w|e^{iφ} \\Leftrightarrow |z|^n(|z|\\cosθ + i|z|\\sin θ)=|w|(\\cosφ + i\\sin φ)$\n",
    "\n",
    "Obviously, $|z|^n=|w| \\Leftrightarrow |z| = \\sqrt[n]{|w|}$\n",
    "\n",
    "We get : \n",
    "\n",
    "$|w|e^{inθ} = |w|e^{iφ} \\Leftrightarrow |w|(\\cos nθ + i\\sin nθ) = |w|(\\cosφ + i\\sin φ) \\Rightarrow \\{\\cos nθ = \\cos φ , \\sin nθ = \\sin φ \\} \\Rightarrow \\{nθ = 2κπ + φ \\} \\Leftrightarrow \\{ θ = \\frac{2κπ +φ}{n} \\}$\n",
    "\n",
    "Eventually, the solutions are : \n",
    "\n",
    "$ |z| = \\sqrt[n]{|w|}[\\cos (\\frac{2κπ +φ}{n}) + i\\sin (\\frac{2κπ +φ}{n})] = \\sqrt[n]{|w|}e^{\\frac{2κπ +φ}{n}i} , κ \\in \\mathbb Z, κ=0,1,...,n-1$ or $κ=1,2,...n $ \n",
    "\n",
    "So, what are the important parts?<br>\n",
    "$w=a+bi$ Any complex number.<br>\n",
    "$|w|=\\sqrt{a^2+b^2}$<br>\n",
    "$\\phi=arg(w)$ $\\begin{cases} \\text{This is }\\pi \\text{ for all negative real numbers.}\\\\ \n",
    "\\text{For } a=0\\text{ and }+i\\text{ it is }\\frac{\\pi}{2}\\\\\n",
    "\\text{For }a=0\\text{ and }-i\\text{ it is }\\frac{3\\pi}{2}\\\\\n",
    "\\text{For +Real and }\\pm\\text{ Imag, it is }\\tan^{-1}\\left(\\frac{b}{a}\\right)\\\\\n",
    "\\text{For -Real and }\\pm\\text{ Imag, it is }\\tan^{-1}\\left(\\frac{b}{a}\\right)+\\pi\n",
    " \\end{cases}$<br>\n",
    " $z=\\sqrt[n]{|w|}e^{\\frac{2κπ +φ}{n}i} , κ \\in \\mathbb Z, κ=0,1,...,n-1$ or $κ=1,2,...n $\n",
    "\n",
    "</font>"
   ]
  },
  {
   "cell_type": "code",
   "execution_count": 3,
   "metadata": {},
   "outputs": [
    {
     "data": {
      "text/html": [
       "<html><script type=\"math/tex; mode=display\">\\newcommand{\\Bold}[1]{\\mathbf{#1}}\\frac{1}{2} \\cdot 9^{\\frac{1}{6}} {\\left(\\sqrt{3} + i\\right)}</script></html>"
      ],
      "text/plain": [
       "1/2*9^(1/6)*(sqrt(3) + I)"
      ]
     },
     "metadata": {},
     "output_type": "display_data"
    },
    {
     "data": {
      "text/html": [
       "<html><script type=\"math/tex; mode=display\">\\newcommand{\\Bold}[1]{\\mathbf{#1}}1.24902476648341 + 0.721124785153704i</script></html>"
      ],
      "text/plain": [
       "1.24902476648341 + 0.721124785153704*I"
      ]
     },
     "metadata": {},
     "output_type": "display_data"
    },
    {
     "name": "stdout",
     "output_type": "stream",
     "text": [
      "-9.00\n",
      "-------------\n"
     ]
    },
    {
     "data": {
      "text/html": [
       "<html><script type=\"math/tex; mode=display\">\\newcommand{\\Bold}[1]{\\mathbf{#1}}i \\cdot 9^{\\frac{1}{6}}</script></html>"
      ],
      "text/plain": [
       "I*9^(1/6)"
      ]
     },
     "metadata": {},
     "output_type": "display_data"
    },
    {
     "data": {
      "text/html": [
       "<html><script type=\"math/tex; mode=display\">\\newcommand{\\Bold}[1]{\\mathbf{#1}}1.44224957030741i</script></html>"
      ],
      "text/plain": [
       "1.44224957030741*I"
      ]
     },
     "metadata": {},
     "output_type": "display_data"
    },
    {
     "name": "stdout",
     "output_type": "stream",
     "text": [
      "-9.00\n",
      "-------------\n"
     ]
    },
    {
     "data": {
      "text/html": [
       "<html><script type=\"math/tex; mode=display\">\\newcommand{\\Bold}[1]{\\mathbf{#1}}-\\frac{1}{2} \\cdot 9^{\\frac{1}{6}} {\\left(\\sqrt{3} - i\\right)}</script></html>"
      ],
      "text/plain": [
       "-1/2*9^(1/6)*(sqrt(3) - I)"
      ]
     },
     "metadata": {},
     "output_type": "display_data"
    },
    {
     "data": {
      "text/html": [
       "<html><script type=\"math/tex; mode=display\">\\newcommand{\\Bold}[1]{\\mathbf{#1}}-1.24902476648341 + 0.721124785153704i</script></html>"
      ],
      "text/plain": [
       "-1.24902476648341 + 0.721124785153704*I"
      ]
     },
     "metadata": {},
     "output_type": "display_data"
    },
    {
     "name": "stdout",
     "output_type": "stream",
     "text": [
      "-9.00\n",
      "-------------\n"
     ]
    },
    {
     "data": {
      "text/html": [
       "<html><script type=\"math/tex; mode=display\">\\newcommand{\\Bold}[1]{\\mathbf{#1}}-\\frac{1}{2} \\cdot 9^{\\frac{1}{6}} {\\left(\\sqrt{3} + i\\right)}</script></html>"
      ],
      "text/plain": [
       "-1/2*9^(1/6)*(sqrt(3) + I)"
      ]
     },
     "metadata": {},
     "output_type": "display_data"
    },
    {
     "data": {
      "text/html": [
       "<html><script type=\"math/tex; mode=display\">\\newcommand{\\Bold}[1]{\\mathbf{#1}}-1.24902476648341 - 0.721124785153704i</script></html>"
      ],
      "text/plain": [
       "-1.24902476648341 - 0.721124785153704*I"
      ]
     },
     "metadata": {},
     "output_type": "display_data"
    },
    {
     "name": "stdout",
     "output_type": "stream",
     "text": [
      "-9.00\n",
      "-------------\n"
     ]
    },
    {
     "data": {
      "text/html": [
       "<html><script type=\"math/tex; mode=display\">\\newcommand{\\Bold}[1]{\\mathbf{#1}}-i \\cdot 9^{\\frac{1}{6}}</script></html>"
      ],
      "text/plain": [
       "-I*9^(1/6)"
      ]
     },
     "metadata": {},
     "output_type": "display_data"
    },
    {
     "data": {
      "text/html": [
       "<html><script type=\"math/tex; mode=display\">\\newcommand{\\Bold}[1]{\\mathbf{#1}}-1.44224957030741i</script></html>"
      ],
      "text/plain": [
       "-1.44224957030741*I"
      ]
     },
     "metadata": {},
     "output_type": "display_data"
    },
    {
     "name": "stdout",
     "output_type": "stream",
     "text": [
      "-9.00\n",
      "-------------\n"
     ]
    },
    {
     "data": {
      "text/html": [
       "<html><script type=\"math/tex; mode=display\">\\newcommand{\\Bold}[1]{\\mathbf{#1}}\\frac{1}{2} \\cdot 9^{\\frac{1}{6}} {\\left(\\sqrt{3} - i\\right)}</script></html>"
      ],
      "text/plain": [
       "1/2*9^(1/6)*(sqrt(3) - I)"
      ]
     },
     "metadata": {},
     "output_type": "display_data"
    },
    {
     "data": {
      "text/html": [
       "<html><script type=\"math/tex; mode=display\">\\newcommand{\\Bold}[1]{\\mathbf{#1}}1.24902476648341 - 0.721124785153704i</script></html>"
      ],
      "text/plain": [
       "1.24902476648341 - 0.721124785153704*I"
      ]
     },
     "metadata": {},
     "output_type": "display_data"
    },
    {
     "name": "stdout",
     "output_type": "stream",
     "text": [
      "-9.00\n",
      "-------------\n"
     ]
    }
   ],
   "source": [
    "#example solve z^6 = -9.\n",
    "w=-9; L=[];\n",
    "r=abs(w);\n",
    "ϕ=arg(w)\n",
    "n=6\n",
    "for k in range(n):\n",
    "    L.append(r^(1/n)*e^((2*k*pi+ϕ)*i/n))\n",
    "for j in range(n):\n",
    "    show(L[j])\n",
    "    show(L[j].n())\n",
    "    print((L[j]^n).n(digits=3))\n",
    "    print('-------------')"
   ]
  },
  {
   "cell_type": "code",
   "execution_count": 10,
   "metadata": {},
   "outputs": [
    {
     "data": {
      "text/html": [
       "<html><script type=\"math/tex; mode=display\">\\newcommand{\\Bold}[1]{\\mathbf{#1}}\\left(2\\right) \\cdot (x + 1 - 1 \\sqrt{-1})^{-1} \\cdot (x + 1 + 1 \\sqrt{-1})^{-1} \\cdot (x + 2 \\sqrt{-1})</script></html>"
      ],
      "text/latex": [
       "$$\\newcommand{\\Bold}[1]{\\mathbf{#1}}\\left(2\\right) \\cdot (x + 1 - 1 \\sqrt{-1})^{-1} \\cdot (x + 1 + 1 \\sqrt{-1})^{-1} \\cdot (x + 2 \\sqrt{-1})$$"
      ],
      "text/plain": [
       "(2) * (x + 1 - I)^-1 * (x + 1 + I)^-1 * (x + 2*I)"
      ]
     },
     "metadata": {},
     "output_type": "display_data"
    },
    {
     "data": {
      "text/html": [
       "<html><script type=\"math/tex; mode=display\">\\newcommand{\\Bold}[1]{\\mathbf{#1}}\\verb|x|\\phantom{\\verb!x!}\\verb|-|\\phantom{\\verb!x!}\\verb|a|\\phantom{\\verb!x!}\\verb|=| x + 1 - 1 \\sqrt{-1}</script></html>"
      ],
      "text/latex": [
       "$$\\newcommand{\\Bold}[1]{\\mathbf{#1}}\\verb|x|\\phantom{\\verb!x!}\\verb|-|\\phantom{\\verb!x!}\\verb|a|\\phantom{\\verb!x!}\\verb|=| x + 1 - 1 \\sqrt{-1}$$"
      ],
      "text/plain": [
       "'x - a =' x + 1 - I"
      ]
     },
     "metadata": {},
     "output_type": "display_data"
    },
    {
     "data": {
      "text/html": [
       "<html><script type=\"math/tex; mode=display\">\\newcommand{\\Bold}[1]{\\mathbf{#1}}\\phantom{\\verb!xx!}\\verb|a|\\phantom{\\verb!x!}\\verb|=| -1 + 1 \\sqrt{-1}</script></html>"
      ],
      "text/latex": [
       "$$\\newcommand{\\Bold}[1]{\\mathbf{#1}}\\phantom{\\verb!xx!}\\verb|a|\\phantom{\\verb!x!}\\verb|=| -1 + 1 \\sqrt{-1}$$"
      ],
      "text/plain": [
       "'  a =' -1 + 1*I"
      ]
     },
     "metadata": {},
     "output_type": "display_data"
    },
    {
     "data": {
      "text/html": [
       "<html><script type=\"math/tex; mode=display\">\\newcommand{\\Bold}[1]{\\mathbf{#1}}\\phantom{\\verb!xx!}\\verb|minpoly:| x^{2} + 2 x + 2</script></html>"
      ],
      "text/latex": [
       "$$\\newcommand{\\Bold}[1]{\\mathbf{#1}}\\phantom{\\verb!xx!}\\verb|minpoly:| x^{2} + 2 x + 2$$"
      ],
      "text/plain": [
       "'  minpoly:' x^2 + 2*x + 2"
      ]
     },
     "metadata": {},
     "output_type": "display_data"
    },
    {
     "data": {
      "text/html": [
       "<html><script type=\"math/tex; mode=display\">\\newcommand{\\Bold}[1]{\\mathbf{#1}}\\phantom{\\verb!xx!}\\verb|radical:| i - 1</script></html>"
      ],
      "text/latex": [
       "$$\\newcommand{\\Bold}[1]{\\mathbf{#1}}\\phantom{\\verb!xx!}\\verb|radical:| i - 1$$"
      ],
      "text/plain": [
       "'  radical:' I - 1"
      ]
     },
     "metadata": {},
     "output_type": "display_data"
    },
    {
     "data": {
      "text/html": [
       "<html><script type=\"math/tex; mode=display\">\\newcommand{\\Bold}[1]{\\mathbf{#1}}\\verb|x|\\phantom{\\verb!x!}\\verb|-|\\phantom{\\verb!x!}\\verb|a|\\phantom{\\verb!x!}\\verb|=| x + 1 + 1 \\sqrt{-1}</script></html>"
      ],
      "text/latex": [
       "$$\\newcommand{\\Bold}[1]{\\mathbf{#1}}\\verb|x|\\phantom{\\verb!x!}\\verb|-|\\phantom{\\verb!x!}\\verb|a|\\phantom{\\verb!x!}\\verb|=| x + 1 + 1 \\sqrt{-1}$$"
      ],
      "text/plain": [
       "'x - a =' x + 1 + I"
      ]
     },
     "metadata": {},
     "output_type": "display_data"
    },
    {
     "data": {
      "text/html": [
       "<html><script type=\"math/tex; mode=display\">\\newcommand{\\Bold}[1]{\\mathbf{#1}}\\phantom{\\verb!xx!}\\verb|a|\\phantom{\\verb!x!}\\verb|=| -1 - 1 \\sqrt{-1}</script></html>"
      ],
      "text/latex": [
       "$$\\newcommand{\\Bold}[1]{\\mathbf{#1}}\\phantom{\\verb!xx!}\\verb|a|\\phantom{\\verb!x!}\\verb|=| -1 - 1 \\sqrt{-1}$$"
      ],
      "text/plain": [
       "'  a =' -1 - 1*I"
      ]
     },
     "metadata": {},
     "output_type": "display_data"
    },
    {
     "data": {
      "text/html": [
       "<html><script type=\"math/tex; mode=display\">\\newcommand{\\Bold}[1]{\\mathbf{#1}}\\phantom{\\verb!xx!}\\verb|minpoly:| x^{2} + 2 x + 2</script></html>"
      ],
      "text/latex": [
       "$$\\newcommand{\\Bold}[1]{\\mathbf{#1}}\\phantom{\\verb!xx!}\\verb|minpoly:| x^{2} + 2 x + 2$$"
      ],
      "text/plain": [
       "'  minpoly:' x^2 + 2*x + 2"
      ]
     },
     "metadata": {},
     "output_type": "display_data"
    },
    {
     "data": {
      "text/html": [
       "<html><script type=\"math/tex; mode=display\">\\newcommand{\\Bold}[1]{\\mathbf{#1}}\\phantom{\\verb!xx!}\\verb|radical:| -i - 1</script></html>"
      ],
      "text/latex": [
       "$$\\newcommand{\\Bold}[1]{\\mathbf{#1}}\\phantom{\\verb!xx!}\\verb|radical:| -i - 1$$"
      ],
      "text/plain": [
       "'  radical:' -I - 1"
      ]
     },
     "metadata": {},
     "output_type": "display_data"
    },
    {
     "data": {
      "text/html": [
       "<html><script type=\"math/tex; mode=display\">\\newcommand{\\Bold}[1]{\\mathbf{#1}}\\verb|x|\\phantom{\\verb!x!}\\verb|-|\\phantom{\\verb!x!}\\verb|a|\\phantom{\\verb!x!}\\verb|=| x + 2 \\sqrt{-1}</script></html>"
      ],
      "text/latex": [
       "$$\\newcommand{\\Bold}[1]{\\mathbf{#1}}\\verb|x|\\phantom{\\verb!x!}\\verb|-|\\phantom{\\verb!x!}\\verb|a|\\phantom{\\verb!x!}\\verb|=| x + 2 \\sqrt{-1}$$"
      ],
      "text/plain": [
       "'x - a =' x + 2*I"
      ]
     },
     "metadata": {},
     "output_type": "display_data"
    },
    {
     "data": {
      "text/html": [
       "<html><script type=\"math/tex; mode=display\">\\newcommand{\\Bold}[1]{\\mathbf{#1}}\\phantom{\\verb!xx!}\\verb|a|\\phantom{\\verb!x!}\\verb|=| -2 \\sqrt{-1}</script></html>"
      ],
      "text/latex": [
       "$$\\newcommand{\\Bold}[1]{\\mathbf{#1}}\\phantom{\\verb!xx!}\\verb|a|\\phantom{\\verb!x!}\\verb|=| -2 \\sqrt{-1}$$"
      ],
      "text/plain": [
       "'  a =' -2*I"
      ]
     },
     "metadata": {},
     "output_type": "display_data"
    },
    {
     "data": {
      "text/html": [
       "<html><script type=\"math/tex; mode=display\">\\newcommand{\\Bold}[1]{\\mathbf{#1}}\\phantom{\\verb!xx!}\\verb|minpoly:| x^{2} + 4</script></html>"
      ],
      "text/latex": [
       "$$\\newcommand{\\Bold}[1]{\\mathbf{#1}}\\phantom{\\verb!xx!}\\verb|minpoly:| x^{2} + 4$$"
      ],
      "text/plain": [
       "'  minpoly:' x^2 + 4"
      ]
     },
     "metadata": {},
     "output_type": "display_data"
    },
    {
     "data": {
      "text/html": [
       "<html><script type=\"math/tex; mode=display\">\\newcommand{\\Bold}[1]{\\mathbf{#1}}\\phantom{\\verb!xx!}\\verb|radical:| -2 i</script></html>"
      ],
      "text/latex": [
       "$$\\newcommand{\\Bold}[1]{\\mathbf{#1}}\\phantom{\\verb!xx!}\\verb|radical:| -2 i$$"
      ],
      "text/plain": [
       "'  radical:' -2*I"
      ]
     },
     "metadata": {},
     "output_type": "display_data"
    }
   ],
   "source": [
    "R.<x> = QQbar['x']\n",
    "#ff = x^3 - 2\n",
    "ff=(2*x+4*I)/(x^2+2*x+2)\n",
    "ans = factor(ff)\n",
    "show(ans)\n",
    "\n",
    "for q in factor(ff):\n",
    "    q = q[0]\n",
    "    show('x - a =', q)\n",
    "    a = QQbar(x - q)\n",
    "    show('  a =', a)\n",
    "    show('  minpoly:', a.minpoly())\n",
    "    show('  radical:', a.radical_expression())"
   ]
  },
  {
   "cell_type": "code",
   "execution_count": null,
   "metadata": {},
   "outputs": [],
   "source": []
  }
 ],
 "metadata": {
  "kernelspec": {
   "display_name": "SageMath 9.3",
   "language": "sage",
   "name": "sagemath"
  },
  "language_info": {
   "codemirror_mode": {
    "name": "ipython",
    "version": 3
   },
   "file_extension": ".py",
   "mimetype": "text/x-python",
   "name": "python",
   "nbconvert_exporter": "python",
   "pygments_lexer": "ipython3",
   "version": "3.7.10"
  }
 },
 "nbformat": 4,
 "nbformat_minor": 2
}
