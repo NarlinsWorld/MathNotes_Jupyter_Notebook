{
 "cells": [
  {
   "cell_type": "markdown",
   "metadata": {},
   "source": [
    "<font size=4>\n",
    "    <h2>DeMoivre's Theorem</h2>\n",
    "    For any complex number, $z=a+bi$ and integer $n$, the complex number can be written in polar form as $\\displaystyle{re^{i\\theta}},$ where $r=|z|$ and $\\theta=arg(z).$\n",
    "    \n",
    "$\\color{blue}{Theorem:}$ Any complex number written in polar form, if raised to a power, $n,$\n",
    "    $$\\left(re^{i\\theta}\\right)^n=r\\left(\\cos\\theta+i\\sin\\theta\\right)^n \\tag{EQ 1}$$\n",
    "    $$r^ne^{in\\theta}=r^n\\left(\\cos(n\\theta)+i\\sin(n\\theta)\\right) \\tag{EQ 2}$$\n",
    "    \n",
    "$\\color{blue}{Proof:}$ By the rule of exponents, the left side of EQ 1 becomes\n",
    "$$\\left(re^{i\\theta}\\right)^n=r^ne^{in\\theta}\\tag{EQ 3}$$\n",
    "Euler's formula says $$e^{i\\phi} = \\cos\\phi+i\\sin\\phi$$ but the range is $-\\infty<\\phi<\\infty$ Therefore, we can apply Euler's formula to EQ 3,\n",
    "$$r^ne^{in\\theta}=r^n\\left(\\cos (n\\theta)+i\\sin( n\\theta) \\right) \\qquad \\blacksquare$$\n",
    "     "
   ]
  },
  {
   "cell_type": "markdown",
   "metadata": {},
   "source": [
    "<hr>\n",
    "<font size=4>\n",
    "    Suppose $z^n=1 \\Longrightarrow |z|=1^{\\frac{1}{n}}$<br>\n",
    "    $$z=|z|e^{i\\theta} \\tag{EQ 1}$$\n",
    "    $|z|^ne^{in\\theta}=1e^{i\\phi}$ $\\leftarrow$ convert both sides to polar form, and since $|z|^n=1,$ make that substitution.\n",
    "    $$1e^{i n\\theta}=1e^{i\\phi}$$ Use the Euler formula\n",
    "    $$\\cos n\\theta + i\\sin n\\theta=\\cos\\phi+i\\sin\\phi$$\n",
    "   ergo:<br>\n",
    "    $$\\cos n\\theta=\\cos\\phi \\,\\text{ and }sin\\,n\\theta=\\sin\\phi$$\n",
    "   which means that $$n\\theta=\\phi$$\n",
    "  Thus $$\\theta=\\frac{\\phi+k2\\pi}{n},\\quad k=\\{0,1,\\cdots,n-1\\}$$\n",
    "  From EQ 1, $$z=1e^{i\\frac{\\phi+k2\\pi}{n}}$$ \n",
    "  But $\\phi=0$ for a real number with no imaginary part.\n",
    "  $$z_k=e^{\\frac{ik2\\pi}{n}}$$"
   ]
  },
  {
   "cell_type": "code",
   "execution_count": 23,
   "metadata": {},
   "outputs": [
    {
     "name": "stdout",
     "output_type": "stream",
     "text": [
      "[ 1.        +0.j          0.6234898 +0.78183148j -0.22252093+0.97492791j\n",
      " -0.90096887+0.43388374j -0.90096887-0.43388374j -0.22252093-0.97492791j\n",
      "  0.6234898 -0.78183148j]\n"
     ]
    },
    {
     "data": {
      "image/png": "[encoded data removed]",
      "text/plain": [
       "<Figure size 400x400 with 1 Axes>"
      ]
     },
     "metadata": {},
     "output_type": "display_data"
    }
   ],
   "source": [
    "%reset -f\n",
    "from numpy import *\n",
    "import matplotlib.pyplot as plt\n",
    "%matplotlib inline\n",
    "n=7 #number of roots of unity to find.\n",
    "y=linspace(0j,0j,n)\n",
    "for i in range(n):\n",
    "    y[i]=exp(i*2j*pi/n)\n",
    "   \n",
    "    #y[i]=y[i].imag\n",
    "# extract real part\n",
    "x = [ele.real for ele in y]\n",
    "# extract imaginary part\n",
    "why = [ele.imag for ele in y]\n",
    "\n",
    "# plot the complex numbers\n",
    "t = linspace(0,10,1000)\n",
    "plt.figure(figsize=(4, 4))\n",
    "plt.scatter(x, why)\n",
    "plt.ylabel('Imaginary')\n",
    "plt.xlabel('Real')\n",
    "s = cos(pi*t)\n",
    "s1 =sin(pi*t)\n",
    "line, = plt.plot(s, s1, color='blue', lw=.75)\n",
    "#plt.show()\n",
    "print(y)"
   ]
  },
  {
   "cell_type": "code",
   "execution_count": 9,
   "metadata": {},
   "outputs": [
    {
     "data": {
      "text/latex": [
       "$\\displaystyle x^{2} - 0.5 x + 0.5 \\sqrt{3} i x - 0.5 - 0.5 \\sqrt{3} i$"
      ],
      "text/plain": [
       "x**2 - 0.5*x + 0.5*sqrt(3)*I*x - 0.5 - 0.5*sqrt(3)*I"
      ]
     },
     "execution_count": 9,
     "metadata": {},
     "output_type": "execute_result"
    }
   ],
   "source": [
    "from sympy import *\n",
    "x,z=symbols('x z')\n",
    "z=-1/2+sqrt(3)/2j\n",
    "expand((x-1)*(x-z))"
   ]
  },
  {
   "cell_type": "code",
   "execution_count": 21,
   "metadata": {},
   "outputs": [
    {
     "data": {
      "text/latex": [
       "$\\displaystyle 1$"
      ],
      "text/plain": [
       "1"
      ]
     },
     "metadata": {},
     "output_type": "display_data"
    },
    {
     "data": {
      "text/latex": [
       "$\\displaystyle 0$"
      ],
      "text/plain": [
       "0"
      ]
     },
     "metadata": {},
     "output_type": "display_data"
    },
    {
     "data": {
      "text/latex": [
       "$\\displaystyle - \\frac{1}{4} + \\frac{\\sqrt{5}}{4}$"
      ],
      "text/plain": [
       "-1/4 + sqrt(5)/4"
      ]
     },
     "metadata": {},
     "output_type": "display_data"
    },
    {
     "data": {
      "text/latex": [
       "$\\displaystyle \\sqrt{\\frac{\\sqrt{5}}{8} + \\frac{5}{8}}$"
      ],
      "text/plain": [
       "sqrt(sqrt(5)/8 + 5/8)"
      ]
     },
     "metadata": {},
     "output_type": "display_data"
    },
    {
     "data": {
      "text/latex": [
       "$\\displaystyle - \\frac{\\sqrt{5}}{4} - \\frac{1}{4}$"
      ],
      "text/plain": [
       "-sqrt(5)/4 - 1/4"
      ]
     },
     "metadata": {},
     "output_type": "display_data"
    },
    {
     "data": {
      "text/latex": [
       "$\\displaystyle \\sqrt{\\frac{5}{8} - \\frac{\\sqrt{5}}{8}}$"
      ],
      "text/plain": [
       "sqrt(5/8 - sqrt(5)/8)"
      ]
     },
     "metadata": {},
     "output_type": "display_data"
    },
    {
     "data": {
      "text/latex": [
       "$\\displaystyle - \\frac{\\sqrt{5}}{4} - \\frac{1}{4}$"
      ],
      "text/plain": [
       "-sqrt(5)/4 - 1/4"
      ]
     },
     "metadata": {},
     "output_type": "display_data"
    },
    {
     "data": {
      "text/latex": [
       "$\\displaystyle - \\sqrt{\\frac{5}{8} - \\frac{\\sqrt{5}}{8}}$"
      ],
      "text/plain": [
       "-sqrt(5/8 - sqrt(5)/8)"
      ]
     },
     "metadata": {},
     "output_type": "display_data"
    },
    {
     "data": {
      "text/latex": [
       "$\\displaystyle - \\frac{1}{4} + \\frac{\\sqrt{5}}{4}$"
      ],
      "text/plain": [
       "-1/4 + sqrt(5)/4"
      ]
     },
     "metadata": {},
     "output_type": "display_data"
    },
    {
     "data": {
      "text/latex": [
       "$\\displaystyle - \\sqrt{\\frac{\\sqrt{5}}{8} + \\frac{5}{8}}$"
      ],
      "text/plain": [
       "-sqrt(sqrt(5)/8 + 5/8)"
      ]
     },
     "metadata": {},
     "output_type": "display_data"
    }
   ],
   "source": [
    "from sympy import *\n",
    "x,z=symbols('x z')\n",
    "n=5\n",
    "for k in range(n):\n",
    "    z=exp(k*2*sqrt(-1)*pi/5)\n",
    "    display(re(z),im(z))\n",
    "    "
   ]
  }
 ],
 "metadata": {
  "kernelspec": {
   "display_name": "Python 3 (ipykernel)",
   "language": "python",
   "name": "python3"
  },
  "language_info": {
   "codemirror_mode": {
    "name": "ipython",
    "version": 3
   },
   "file_extension": ".py",
   "mimetype": "text/x-python",
   "name": "python",
   "nbconvert_exporter": "python",
   "pygments_lexer": "ipython3",
   "version": "3.9.7"
  }
 },
 "nbformat": 4,
 "nbformat_minor": 2
}
