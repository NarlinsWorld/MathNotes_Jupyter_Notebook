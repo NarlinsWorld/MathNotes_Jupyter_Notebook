{
 "cells": [
  {
   "cell_type": "markdown",
   "id": "75f0157b",
   "metadata": {},
   "source": [
    "<h1>Find an Equilateral Triangle with conditions</h1>\n",
    "<font size=\"4\">\n",
    "Given a point, $P$ in the plane, find an equilateral triangle, $ABC,$ which has $P$ inside, and where $P$ is 3 units from $A$, 2 units from $B$ and 4 units from $C.$ Here I have drawn an approximation to the problem. The point $P=(6,4).$\n",
    "    \n",
    "<img src=\"../Images/Triangle Equilateral Point Inside.png\" width=\"40%\">\n",
    "We will first try to get the side length of the equilateral triangle.  To do that, I will rotate point $P$ about $A$ by 60 degrees and name it $X.$  In doing this, I have created a new equilateral triangle (APX) and, if I connect $X$ with $B$ then a second triangle (PBX).  Their side lengths are known because they were created by $60^\\circ$ rotation of known side lengths.\n",
    "    \n",
    "<img src=\"../Images/Triangle Equilateral Point Inside01.png\" width=\"40%\">\n",
    "Next, we can do this again, but this time rotate $P$ by $60^\\circ$ about point $B.$ and create $Y.$ and then connect $Y$ and $C$ to made another 2,3,4 triangle.\n",
    " \n",
    "<img src=\"../Images/Triangle Equilateral Point Inside02.png\" width=\"40%\">\n",
    "In the final instance, we will rotate point $P$ about $C$ by $60^\\circ$ and create $Z$ followed by connecting $Z$ and $A$ to the the final 2,3,4 triangle.\n",
    "    \n",
    "\n",
    "<img src=\"../Images/Triangle Equilateral Point Inside03.png\" width=\"40%\">\n",
    "So it turns out that these 6 colored triangles, with all sides known, have exactly twice the area of triangle ABC and that will let us find the area of equilateral triangle ABC and thus its side length.\n",
    "    \n",
    "Aside: Why would that be? If we look inside ABC we will find three triangles which are congruent to the same three triangles in the Hexagon that are outside of ABC.  Specifically: $$APC \\cong AXB$$\n",
    " $$CPB \\cong CZA$$  $$APB \\cong CYB$$\n",
    "So, the Hexagon area is twice the Equilateral Triangle Area.\n",
    "   \n",
    "    \n",
    "The (2,3,4) triangle areas can be found from Heron's theorem. $$s_p=\\frac{2+3+4}{2}$$<br><br>\n",
    "$$Area_{234}=\\sqrt{s_p(s_p-2)(s_p-3)(s_p-4)}$$ Since $s_p=\\frac{9}{2},$ $$Area_{234}=\\frac{3\\sqrt{15}}{4}$$\n",
    "We need to remember that there are three of these.\n",
    "    \n",
    "Now we can look at the area for each of the three equilateral triangles.\n",
    "$$Area_{222}=\\frac{1}{2}\\cdot h \\cdot base = \\frac{1}{2}\\left(\\frac{\\sqrt{3}}{2}\\cdot 2\\right)\\cdot 2 = \\sqrt{3}$$\n",
    "$$Area_{333}=\\frac{1}{2}\\cdot h \\cdot base = \\frac{1}{2}\\left(\\frac{\\sqrt{3}}{2}\\cdot 3\\right)\\cdot 3 = \\frac{9\\sqrt{3}}{4}$$\n",
    "$$Area_{444}=\\frac{1}{2}\\cdot h \\cdot base = \\frac{1}{2}\\left(\\frac{\\sqrt{3}}{2}\\cdot 4\\right)\\cdot 4  = 4\\sqrt{3}$$\n",
    "Now we sum the areas of the six colored triangles.\n",
    "$$\\text{Hexagon Area} = 3\\cdot\\left(3 \\frac{\\sqrt{15}}{4}\\right)+\\sqrt{3}+\\frac{9\\sqrt{3}}{4}+4\\sqrt{3} = \\frac{29\\sqrt{3}+9\\sqrt{15}}{4}$$\n",
    "\n",
    "    \n",
    "We know that the Hexagon area is twice the area of ABC and we know how to calculate the area of an equilateral triangle from its side length.  Let S be the side length of ABC, and Area_{ABC} be it area.\n",
    " $$Area_{ABC}=\\frac{1}{2}h\\cdot S = \\frac{1}{2}\\frac{\\sqrt{3}}{2}S\\cdot S$$\n",
    " $$Area_{ABC}=\\frac{1}{2}\\frac{\\sqrt{3}}{2}S^2 = \\frac{1}{2}\\left(\\text{Hexagon Area}  \\right)$$\n",
    " $\\therefore$ we can compute S.\n",
    " $$\\frac{1}{2}\\frac{\\sqrt{3}}{2}S^2= \\frac{1}{2}\\frac{29\\sqrt{3}+9\\sqrt{15}}{4}$$\n",
    "$$S = \\frac{\\sqrt{18\\sqrt{5}+58}}{2}\\approx 4.95603731813523$$\n",
    "    \n",
    " <hr style=\"border: 1px green solid;\">\n",
    "   "
   ]
  },
  {
   "cell_type": "markdown",
   "id": "2c25c48a",
   "metadata": {},
   "source": [
    "Now we can build the equilateral triangle and put an appropriate radius circle around $A$ and $B$.  It doesn't matter where exactly $A$ and $B$ are located because we will translate the triangle by an appropriate amount to get point P at (6,4).  Use\n",
    "$$A = (0,0)$$\n",
    "$$B =\\left(x_A+S,y_A+0  \\right)$$\n",
    "$$C = A + S\\cdot\\left(\\begin{array}{c}\\cos(60^\\circ)\\\\sin(60^\\circ) \\end{array}\\right)$$\n",
    "\n",
    "To find the point, $P,$ we intersect the circle around $A$ that has radius $3$  with the circle around $C$ that has radius $2.$  <br>\n",
    "For the circle about $A,$ $r=3, (h,k)=(0,0)$<br>\n",
    "For the circle about $B$, $r=2, (h,k)=(S,0)$<br>\n",
    "From the intersection of two circles, we have the equation of a line that connects the two intersection points. Solve it for x and substitute into either circle to find y:\n",
    "$$-2x(h_1-h_2)-2y(k_1-k_2)=(r_1^2-r_2^2)-(h_1^2-h_2^2)-(k_1^2-k_2^2)$$"
   ]
  },
  {
   "cell_type": "code",
   "execution_count": 38,
   "id": "2d7fe685",
   "metadata": {},
   "outputs": [
    {
     "data": {
      "text/latex": [
       "$\\displaystyle \\left\\{ x : - \\frac{45 \\sqrt{5} \\sqrt{18 \\sqrt{5} + 58}}{872} + \\frac{363 \\sqrt{18 \\sqrt{5} + 58}}{872}\\right\\}$"
      ],
      "text/plain": [
       "⎧             ____________         ____________⎫\n",
       "⎪     45⋅√5⋅╲╱ 18⋅√5 + 58    363⋅╲╱ 18⋅√5 + 58 ⎪\n",
       "⎨x: - ──────────────────── + ──────────────────⎬\n",
       "⎪             872                   872        ⎪\n",
       "⎩                                              ⎭"
      ]
     },
     "metadata": {},
     "output_type": "display_data"
    },
    {
     "name": "stdout",
     "output_type": "stream",
     "text": [
      "2.98245392448661\n",
      "-45*sqrt(5)*sqrt(18*sqrt(5) + 58)/872 + 363*sqrt(18*sqrt(5) + 58)/872\n"
     ]
    },
    {
     "data": {
      "text/latex": [
       "$\\displaystyle \\left[ - \\frac{3 \\sqrt{10791 - 4578 \\sqrt{5}}}{218}, \\  \\frac{3 \\sqrt{10791 - 4578 \\sqrt{5}}}{218}\\right]$"
      ],
      "text/plain": [
       "⎡     _________________       _________________⎤\n",
       "⎢-3⋅╲╱ 10791 - 4578⋅√5    3⋅╲╱ 10791 - 4578⋅√5 ⎥\n",
       "⎢───────────────────────, ─────────────────────⎥\n",
       "⎣          218                     218         ⎦"
      ]
     },
     "metadata": {},
     "output_type": "display_data"
    },
    {
     "name": "stdout",
     "output_type": "stream",
     "text": [
      "0.323988562011690\n"
     ]
    }
   ],
   "source": [
    "from sympy import *\n",
    "init_printing(use_latex='mathjax')\n",
    "var('x y');\n",
    "S = (sqrt(18*sqrt(5)+58))/2\n",
    "r1 = 3\n",
    "r2 = 2\n",
    "h1 = 0\n",
    "k1 = 0\n",
    "h2 = S\n",
    "k2 = 0\n",
    "eq1=-2*x*(h1-h2)-2*y*(k1-k2)-(r1**2-r2**2)+(h1**2-h2**2)+(k1**2-k2**2)\n",
    "soln = solve([eq1], [x])\n",
    "key, val = next(iter(soln.items()))\n",
    "display(soln)\n",
    "print(N(val))\n",
    "print(val)\n",
    "\n",
    "x = val\n",
    "cir1 = (x-h1)**2+(y-k1)**2-r1**2\n",
    "soln1 = solve(cir1,y)\n",
    "display(soln1)\n",
    "print(N(soln1[1]))\n"
   ]
  },
  {
   "cell_type": "markdown",
   "id": "b6aa0bb2",
   "metadata": {},
   "source": [
    "<font size = \"4\">\n",
    "So now we have values for point $P^\\prime$ whenever the equilateral triangle is level, meaning $A$ and $B$  have the same y coordinate and $A$ is at (0,0).  Therefore, the point $P^\\prime$ is used to get the vector from $P^\\prime$ to $P.$\n",
    "  $$P = (6,4)$$<br><br>\n",
    "  $$P^\\prime = \\left(\\frac{(-45\\sqrt{5}\\sqrt{18\\sqrt{5} + 58}}{872} + \\frac{363\\sqrt{18\\sqrt{5} + 58}}{872},  \\frac{3\\sqrt{10791-4578\\sqrt{5}}}{218}  \\right)$$\n",
    "\n",
    "$$\\mathbf{u}=\\left(6 - \\frac{(-45\\sqrt{5}\\sqrt{18\\sqrt{5} + 58}}{872} + \\frac{363\\sqrt{18\\sqrt{5} + 58}}{872},  4 - \\frac{3\\sqrt{10791-4578\\sqrt{5}}}{218}  \\right)$$\n",
    "The translation of points $A,B,C$ are shown below.\n",
    "$$A=(0,0)+\\mathbf{u}$$\n",
    "$$B=\\left( \\frac{\\sqrt{18\\sqrt{5}+58}}{2},0\\right)+\\mathbf{u}$$\n",
    "$$C = A+S\\cdot\\left(\\begin{array}{c}\\cos(60^\\circ)\\\\ \\sin(60^\\circ) \\end{array}    \\right)$$"
   ]
  }
 ],
 "metadata": {
  "kernelspec": {
   "display_name": "Python 3 (ipykernel)",
   "language": "python",
   "name": "python3"
  },
  "language_info": {
   "codemirror_mode": {
    "name": "ipython",
    "version": 3
   },
   "file_extension": ".py",
   "mimetype": "text/x-python",
   "name": "python",
   "nbconvert_exporter": "python",
   "pygments_lexer": "ipython3",
   "version": "3.9.7"
  }
 },
 "nbformat": 4,
 "nbformat_minor": 5
}
