{
 "cells": [
  {
   "cell_type": "markdown",
   "id": "6d4fe1cf",
   "metadata": {},
   "source": [
    "<h2>Compute the intersection points of two circles</h2>"
   ]
  },
  {
   "cell_type": "markdown",
   "id": "853a7f44",
   "metadata": {},
   "source": [
    "This can be done without any trigonometry at all. Let the equations of the circles be\n",
    "$$(x-x_1)^2 + (y-y_1)^2 = r_1^2, \\tag{1}$$\n",
    "$$(x-x_2)^2 + (y-y_2)^2 = r_2^2. \\tag{2}$$\n",
    "By subtracting $(2)$ from $(1)$ and then expanding, we in fact obtain a *linear* equation for $x$ and $y$; after a little rearranging it becomes\n",
    "$$-2x(x_1 - x_2) - 2y(y_1 - y_2) = (r_1^2 - r_2^2) - (x_1^2 - x_2^2) - (y_1^2 - y_2^2).$$\n",
    "(If the circles intersect, this is the equation of the line that passes through the intersection points.) This equation can be solved for one of $x$ or $y$; let's suppose $y_1 - y_2 \\ne 0$ so that we can solve for $y$:\n",
    "$$y = -\\frac{x_1 - x_2}{y_1 - y_2} x + \\dotsc. \\tag{3}$$\n",
    " Substituting this expression for $y$ into $(1)$ or $(2)$ gives a quadratic equation in only $x$. Then the $x$-coordinates of the intersection points are the solutions to this; the $y$-coordinates can be obtained by plugging the $x$-coordinates into $(3)$."
   ]
  }
 ],
 "metadata": {
  "kernelspec": {
   "display_name": "Python 3 (ipykernel)",
   "language": "python",
   "name": "python3"
  },
  "language_info": {
   "codemirror_mode": {
    "name": "ipython",
    "version": 3
   },
   "file_extension": ".py",
   "mimetype": "text/x-python",
   "name": "python",
   "nbconvert_exporter": "python",
   "pygments_lexer": "ipython3",
   "version": "3.9.7"
  }
 },
 "nbformat": 4,
 "nbformat_minor": 5
}
