{
 "cells": [
  {
   "cell_type": "markdown",
   "id": "3c14ebc0",
   "metadata": {},
   "source": [
    "https://math.stackexchange.com/questions/4597085/in-the-given-triangle-with-two-intersecting-cevians-find-the-area-of-the-shaded\n",
    "\n",
    "In the following triangles we are given areas for 3 of the triangles as shown, and ask to find the area x. \n",
    "\n",
    "<img src=\"../Images/MenelausTheorem.png\" width=400px>\n",
    "\n",
    "Lemma: The ratio of the areas of two triangles which share the same height is equal to the ratio of their bases.\n",
    "Proof: $$Area_1=\\frac{b_1\\cdot h}{2}\\qquad Area_2=\\frac{b_2\\cdot h}{2}$$<br>\n",
    "$$\\frac{Area_1}{Area_2}=\\frac{\\frac{b_1\\cdot h}{2}}{\\frac{b_2\\cdot h}{2}}=\\frac{b_1}{b_2}\\qquad\\blacksquare$$\n",
    "<br>Now to solve the problem, apply Meneslaus's  theorem to triangle EFB with respect to line CDA.\n",
    "$$\n",
    "1=\n",
    "\\frac{CE}{CF}\\cdot\n",
    "\\frac{DF}{DB}\\cdot\n",
    "\\frac{AB}{AE}\n",
    "=\n",
    "\\frac{6+9}{9}\\cdot\n",
    "\\frac{3}{3+9}\\cdot\n",
    "\\frac{x+3+6+9}{x+3}\\ ,\n",
    "$$\n",
    "<br>Line CE is the base of triangle with area 6+9 as well as area 9. The 2 triangles have the same height. The triangles with the same height are CEB with base CE and CFB with base CF.<br>\n",
    "Line DF is the base of triangles with area 3+9 and area 9.  The triangles with the same height are DFC with base DF and DBC with base DB.<br>\n",
    "Line AB is the base of triangles with area (x+3+6+9) and area x+3<br>\n",
    "The equation has but one unknown, x, and it is what we want.\n",
    "$$x=\\frac{54}{7}$$\n"
   ]
  },
  {
   "cell_type": "markdown",
   "id": "734ec947",
   "metadata": {},
   "source": [
    "The triangles with the same height are DFC with base DF and DBC with base DB."
   ]
  }
 ],
 "metadata": {
  "kernelspec": {
   "display_name": "Python 3 (ipykernel)",
   "language": "python",
   "name": "python3"
  },
  "language_info": {
   "codemirror_mode": {
    "name": "ipython",
    "version": 3
   },
   "file_extension": ".py",
   "mimetype": "text/x-python",
   "name": "python",
   "nbconvert_exporter": "python",
   "pygments_lexer": "ipython3",
   "version": "3.9.7"
  }
 },
 "nbformat": 4,
 "nbformat_minor": 5
}
