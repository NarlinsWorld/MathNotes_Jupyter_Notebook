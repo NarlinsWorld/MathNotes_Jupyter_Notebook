{
 "cells": [
  {
   "cell_type": "markdown",
   "id": "ac5b1515",
   "metadata": {},
   "source": [
    "<font size=3>\n",
    "Pitot's theorem of Quadrilaterals.\n",
    "If a circle can be inscribed into a quadrilateral, such that it is tangent to all four sides, then the sums of the two opposite sides  are equal.\n",
    "<img src=\"../Images/PitotsTheorem.png\" width=400>\n",
    "Proof: Label the segments which are equal with the same letter.  The equal length segments are a consequence of \"tangents from a point outside a circle to the circle are of equal length\". Next pick two opposite sides and sum their segments. For the top and bottom in the diagram,$$\\sum(top+bottom)=c+d+b+a$$<br>\n",
    "Now also sum the two sides: $$\\sum(sides)=c+d+b+a\\qquad\\blacksquare$$ "
   ]
  },
  {
   "cell_type": "markdown",
   "id": "52a35e0c",
   "metadata": {},
   "source": [
    "<font size=3>\n",
    "Theorem 1. A convex quadrilateral is tangential if and only if the incircles in the\n",
    "two triangles formed by a diagonal are tangent to each other.<br>\n",
    "<br>Theorem 2. If a convex polygon is a tangential polygon, then $$Area=\\frac{1}{2}sr$$ where $s$ is the perimeter and r is the radius.  This leads to a method for finding the radius.\n",
    "    <br><br>The converse of Pitot's Theorem is true.  If a quadrilateral has summed opposite side lengths that are equal, then it is a tangential quadrilateral. To find the center, bisect any two angles and get their intersection.  To find the radius, first find the area of the quadrilateral, then $r=\\frac{1}{2}\\frac{area}{perimeter}.$"
   ]
  },
  {
   "cell_type": "code",
   "execution_count": 1,
   "id": "1b98d5dc",
   "metadata": {},
   "outputs": [
    {
     "name": "stdout",
     "output_type": "stream",
     "text": [
      "['C:\\\\Users\\\\Bennet\\\\Documents\\\\Jupyter_notebooks\\\\Geometry', 'C:\\\\Program Files\\\\Python311\\\\python311.zip', 'C:\\\\Program Files\\\\Python311\\\\Lib', 'C:\\\\Program Files\\\\Python311\\\\DLLs', '', 'C:\\\\Users\\\\Bennet\\\\AppData\\\\Roaming\\\\Python\\\\Python311\\\\site-packages', 'C:\\\\Users\\\\Bennet\\\\AppData\\\\Roaming\\\\Python\\\\Python311\\\\site-packages\\\\win32', 'C:\\\\Users\\\\Bennet\\\\AppData\\\\Roaming\\\\Python\\\\Python311\\\\site-packages\\\\win32\\\\lib', 'C:\\\\Users\\\\Bennet\\\\AppData\\\\Roaming\\\\Python\\\\Python311\\\\site-packages\\\\Pythonwin', 'C:\\\\Program Files\\\\Python311', 'C:\\\\Program Files\\\\Python311\\\\Lib\\\\site-packages', 'C:\\\\Program Files\\\\Python311\\\\Lib\\\\site-packages\\\\vboxapi-1.0-py3.11.egg']\n",
      "False\n"
     ]
    }
   ],
   "source": [
    "import sys\n",
    "print(sys.path)\n",
    "import module2\n",
    "print(module2.iss_prime(511))"
   ]
  }
 ],
 "metadata": {
  "kernelspec": {
   "display_name": "Python 3 (ipykernel)",
   "language": "python",
   "name": "python3"
  },
  "language_info": {
   "codemirror_mode": {
    "name": "ipython",
    "version": 3
   },
   "file_extension": ".py",
   "mimetype": "text/x-python",
   "name": "python",
   "nbconvert_exporter": "python",
   "pygments_lexer": "ipython3",
   "version": "3.9.7"
  }
 },
 "nbformat": 4,
 "nbformat_minor": 5
}
