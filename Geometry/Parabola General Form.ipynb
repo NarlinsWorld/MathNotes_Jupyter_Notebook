{
 "cells": [
  {
   "cell_type": "code",
   "execution_count": 2,
   "metadata": {},
   "outputs": [
    {
     "data": {
      "application/javascript": [
       "IPython.notebook.set_autosave_interval(0)"
      ]
     },
     "metadata": {},
     "output_type": "display_data"
    },
    {
     "name": "stdout",
     "output_type": "stream",
     "text": [
      "Autosave disabled\n"
     ]
    }
   ],
   "source": [
    "%autosave 0"
   ]
  },
  {
   "cell_type": "markdown",
   "metadata": {},
   "source": [
    "<h2>Parabola in General Form</h2>\n",
    "$$Ax^2+Bxy+Cy^2+Dx+Ey+F=0,  \\begin{cases} C=\\frac{B^2}{4A}\\\\or\\, B=\\pm\\sqrt{4AC} \\end{cases} \\tag{EQ1}$$\n",
    "The condition on $A, B, C$ comes from a requirement that $B^2-4AC=0.$<br>\n",
    "An interesting way to write the general form is\n",
    "$$(\\sqrt{A}x+\\sqrt{C}y)^2+Dx+Ey+F=0$$\n",
    "We can get the two vectors, one parallel to the parabola axis and the other parallel to the parabola directrix.\n",
    "$$e_1=\\left(\\begin{array}{c}2A\\\\-B\\end{array}\\right)\\qquad e_2=\\left(\\begin{array}{c}B\\\\2A\\end{array}\\right)$$\n",
    "These came from the eigenvectors of the conic matrix.\n",
    "$$\\left(\\begin{array}{cc}A&\\frac{B}{2}\\\\ \\frac{B}{2}&A \\end{array}\\right)$$\n",
    "We can also get the angle of the parabola. $$\\phi = -atan2\\left(y_{e_1},x_{e_1}\\right)\\quad\\leftarrow \\text{in radians}$$\n",
    "Although the angle to rotate is $90^\\circ$ more:\n",
    "$$\\phi = -atan2\\left(y_{e_2},x_{e_2}\\right)\\quad\\leftarrow \\text{in radians}$$\n",
    "To rotate the parabola to vertical,is to remove the $xy$ term. Use this substitution into the original equation.\n",
    "$$\\begin{align} x&=x'\\cos(\\phi)+y'\\sin(\\phi) \\\\ y&=-x'\\sin(\\phi)+y'\\cos(\\phi) \\end{align}$$\n",
    "The rotated to vertical equation will have the general form: $$ax^2+bx+cy+d=0 \\tag{EQ2}$$\n"
   ]
  },
  {
   "cell_type": "markdown",
   "metadata": {},
   "source": [
    "To get its vertex, take the partial derivative with repect to $x$ and solve the equation for $x.$  That will yield the $x$-coordinate of the vertex of the veritcal parabola. $$\\frac{\\partial}{\\partial x}\\left(ax^2+bx+cy+d=0\\right)\\Rightarrow 2ax+b=0\\qquad h\\Rightarrow x=\\frac{-b}{2a}$$ \n",
    "To get the $y$-coordinate, substitute the newly found $x$ value into EQ 2 and solve for $y$\n",
    "$$a\\left(\\frac{-b}{2a}\\right)^2+b\\left(\\frac{-b}{2a}\\right)+cy+d=0$$ $$k\\Rightarrow y=\\frac{-4ad+b^2}{4ac}$$\n",
    "So the Vertex of the vertical parabola is $$V_{EQ2}=(h,k)$$\n",
    "Now for the Vertex of EQ1. Create the matrix M.\n",
    "$$M=\\left(\n",
    "\\begin{array}{cc}\\cos(\\phi) & -\\sin(\\phi) \\\\ \\sin(\\phi) &  \\cos(\\phi)\\end{array}\n",
    "\\right)$$\n",
    "and multiply that matrix times the Vertex of EQ2.\n",
    "$$V_{EQ1}=M\\cdot V_{EQ2}$$\n",
    "Next we want to translate the vertical parabola to the origin. This is easier than completeing the square in order to get $p.$ At the origin, the vertical equation will be $$4py=x^2$$\n",
    "$$p=\\frac{\\text{coefficient of y}}{4}$$\n",
    "and the coefficient of y can be used to find $p.$ \n",
    "To translate EQ2 to the origin, just substitute into \n",
    "$$EQ2:\\begin{cases}X=(x+h)\\\\Y=(y+k) \\end{cases}$$\n",
    "The focus is $$V=p\\cdot \\frac{e_1}{|e_1|}$$"
   ]
  }
 ],
 "metadata": {
  "kernelspec": {
   "display_name": "Python 3 (ipykernel)",
   "language": "python",
   "name": "python3"
  },
  "language_info": {
   "codemirror_mode": {
    "name": "ipython",
    "version": 3
   },
   "file_extension": ".py",
   "mimetype": "text/x-python",
   "name": "python",
   "nbconvert_exporter": "python",
   "pygments_lexer": "ipython3",
   "version": "3.9.7"
  }
 },
 "nbformat": 4,
 "nbformat_minor": 4
}
