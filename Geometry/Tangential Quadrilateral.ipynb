{
 "cells": [
  {
   "cell_type": "markdown",
   "id": "4898ebdd",
   "metadata": {},
   "source": [
    "The incenter of a tangential quadrilateral can be found in one of two ways.  \n",
    "Method 1: Bisect any two angles. Their intersection is the incenter.\n",
    "\n",
    "Method 2: Extend any two opposite and non-parallel sides of the quadrilateral, thus forming a triangle that is larger than the quadrilateral.  The incenter of that triangle is the incenter of the quadrilateral.\n",
    "<img src=\"..\\Images/TangentialQuadrilateral_Incenter.png\" width=\"200\">\n",
    "The incenter of this triangle is $$\\frac{aA+bB+eE}{a+b+e}$$\n",
    "The point of tangency between $A$ and $B$ is located by vector projection. $$P_{tan}=A+\\left( \\frac{(I-A)(B-A)}{|B-A|^2} \\right)(B-A)$$\n",
    "So $$r=|P_{tan}-I|$$                                                               "
   ]
  },
  {
   "cell_type": "markdown",
   "id": "07d67ee3",
   "metadata": {},
   "source": [
    "<font size=3>\n",
    "Method 1:\n",
    "To draw a tangential quadrilateral, first draw a circle, then put 4 points on it, W,x,Y,Z.<br>\n",
    "    Next add tangent lines to the circle at the 4 points. <br>\n",
    "    Where these tangents intersect will be the points of the quadrilateral.\n",
    "Move them around until you like the quadrilateral.\\\\\n",
    "Finally, add intersections of the tangents to get A, B, C, D.   \n",
    "    <br><br>\n",
    "Method 2: We will use Pitot's theorem to make the sides with known lengths.<br>\n",
    "    How to construct a tangential quadrilateral.<br>\n",
    "Let's name the lenghts of the four sides consecutively as $a, b, c, d.$ In order to be tangential, we must adhere to Pitot's theorem. $$a+c = b+d$$ \n",
    "    <br>By way of example, we will have sides $a=11$ and side $c=4$.  Since that adds to $15$ sides $b$ and $d$ must also sum to $15.$\n",
    "<br>\n",
    "Pick a starting point, $A.$ We can use $A=(4,3).$<br>\n",
    "    Draw a $r=11$ circle about point $A.$ Point $B$ can go anywhere on the circle. Constraints will come later.<br>\n",
    "    <img src=\"../Images/TangentialQuadrilateralConstruction1.png\" width=\"400\">\n",
    "    Draw a $r=7$ circle about point $B.$ We are currently working on point $C$ and the distance for $B$ to $C$ will be $7.$ That fixes the distance from $D$ back to $A$ as $8,$ since $8+7=15.$\n",
    "<br>Point $C$ can't go just anywhere on the circle around $B,$ but it also isn't completely fixed.<br>\n",
    "    <img src=\"../Images/TangentialQuadrilateralConstruction2.png\" width=\"400\">\n",
    "    Draw a $4$ unit circle around a point $C.$ and erase the circle about $A,$ replacing it with a $7$ unit circle. That is because the leg from $A$ to $D$ has to be $7$ units and the leg from $D$ to $C$ has to be $4$ units.  Therefore, point $D$ must be at an intersection of the two circles about $A$ and $C.$  In choosing $D$ keep in mind that the quadrilateral must also be convex.\n",
    "    <img src=\"../Images/TangentialQuadrilateralConstruction3.png\" width=\"400\">\n",
    "    Now erase the circles and show the  Quadrilateral.\n",
    "<img src=\"../Images/TangentialQuadrilateralConstruction4.png\" width=\"400\">"
   ]
  },
  {
   "cell_type": "markdown",
   "id": "8bf3d445",
   "metadata": {},
   "source": [
    "<font size=3>\n",
    "    The area of any polynomial can be found as follows:<br>\n",
    "    $$Area=\\frac{1}{2}\\left( \\left| \\begin{array}{cc}x_A & y_A\\\\x_B & y_B \\end{array} \\right| +\n",
    " \\left| \\begin{array}{cc}x_B & y_B\\\\x_C & y_C \\end{array} \\right|  \n",
    "\\left| \\begin{array}{cc}x_C & y_C\\\\x_D & y_D \\end{array} \\right|\n",
    "\\left| \\begin{array}{cc}x_D & y_D\\\\x_A & y_A \\end{array} \\right|\\right)$$\n",
    "    One easy-ish way to get the Area of any quadrilateral is to use the formula $$Area =\\frac{1}{2}\\Vert (A-C)\\times (B-D)\\Vert$$\n",
    "    that is, half of the cross product of the diagonal vectors."
   ]
  }
 ],
 "metadata": {
  "kernelspec": {
   "display_name": "Python 3 (ipykernel)",
   "language": "python",
   "name": "python3"
  },
  "language_info": {
   "codemirror_mode": {
    "name": "ipython",
    "version": 3
   },
   "file_extension": ".py",
   "mimetype": "text/x-python",
   "name": "python",
   "nbconvert_exporter": "python",
   "pygments_lexer": "ipython3",
   "version": "3.11.0"
  }
 },
 "nbformat": 4,
 "nbformat_minor": 5
}
