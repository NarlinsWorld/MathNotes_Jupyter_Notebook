{
 "cells": [
  {
   "cell_type": "code",
   "execution_count": 22,
   "id": "831bd428",
   "metadata": {},
   "outputs": [
    {
     "name": "stdout",
     "output_type": "stream",
     "text": [
      "3 4 3 1 2 1 3 4 4 3 1 3 1 3 4 2 4 3 1 2 2 3 4 3 3 1 5 1 1 5 3 3 3 2 2 1 2 5 4 1 3 5 3 4 5 4 4 3 5 5 2 2 5 4 1 2 4 1 4 3 2 3 1 4 3 2 4 2 3 1 3 5 4 1 3 2 4 2 4 1 4 5 4 4 3 1 2 3 4 1 2 4 3 2 3 2 1 4 5 2 \n",
      "one= 19\n",
      "two= 20\n",
      "three= 26\n",
      "four= 24\n",
      "five= 11\n",
      "[5, 4, 3, 2, 1]\n"
     ]
    }
   ],
   "source": [
    "#random.choice(List) will pick a random list entry\n",
    "#the choice() function can repeat the selection\n",
    "#each choice is independent\n",
    "%reset -f\n",
    "from numpy import *\n",
    "\n",
    "L=[5,4,3,2,1]\n",
    "one=0; two=0; three=0; four=0; five=0\n",
    "for _ in range(100):\n",
    "    x=random.choice(L)\n",
    "    if x==5: five=five+1\n",
    "    if x==4: four=four+1\n",
    "    if x==3: three=three+1\n",
    "    if x==2: two=two+1\n",
    "    if x==1: one=one+1\n",
    "    print(x,end=' ')\n",
    "print('')\n",
    "print('one=',one)\n",
    "print('two=',two)\n",
    "print('three=',three)\n",
    "print('four=',four)\n",
    "print('five=',five)\n",
    "print(L)"
   ]
  },
  {
   "cell_type": "code",
   "execution_count": 7,
   "id": "511f6278",
   "metadata": {},
   "outputs": [
    {
     "name": "stdout",
     "output_type": "stream",
     "text": [
      "[1, 4, 3, 5, 2]\n"
     ]
    }
   ],
   "source": [
    "#Random choice without repetition\n",
    "#Use the random.sample() function when you want to choose multiple\n",
    "#random items from a list without repetition or duplicates.\n",
    "\n",
    "%reset -f\n",
    "from numpy import *\n",
    "import random\n",
    "\n",
    "L=[5,4,3,2,1]\n",
    "x=random.sample(L,5)\n",
    "print(x)"
   ]
  },
  {
   "cell_type": "code",
   "execution_count": 8,
   "id": "2c1a300f",
   "metadata": {},
   "outputs": [
    {
     "name": "stdout",
     "output_type": "stream",
     "text": [
      "88\n"
     ]
    }
   ],
   "source": [
    "#To choose a random integer, we can use the range function as input\n",
    "%reset -f\n",
    "from numpy import *\n",
    "\n",
    "x=random.choice(range(1,100))\n",
    "print(x)"
   ]
  },
  {
   "cell_type": "code",
   "execution_count": 11,
   "id": "8b602c80",
   "metadata": {},
   "outputs": [
    {
     "name": "stdout",
     "output_type": "stream",
     "text": [
      "0.6191095970987339\n"
     ]
    }
   ],
   "source": [
    "#To choose a random number between 0 and 1,\n",
    "%reset -f\n",
    "from numpy import *\n",
    "from random import random\n",
    "\n",
    "x=random()\n",
    "print(x)"
   ]
  },
  {
   "cell_type": "code",
   "execution_count": 15,
   "id": "5d1188d5",
   "metadata": {},
   "outputs": [
    {
     "name": "stdout",
     "output_type": "stream",
     "text": [
      "Randomly selected L[ 2 ] which is equal to 3\n"
     ]
    }
   ],
   "source": [
    "# Many times we need an index position of an item along\n",
    "# with its value. \n",
    "#Randomly choose the index, then pick the data at that index.\n",
    "\n",
    "%reset -f\n",
    "from numpy import *\n",
    "\n",
    "L=[1,2,3,4,5]\n",
    "i=random.choice(L)\n",
    "\n",
    "print(\"Randomly selected L[\",i,\"] which is equal to\",L[i])"
   ]
  },
  {
   "cell_type": "code",
   "execution_count": 21,
   "id": "9d1a8ac6",
   "metadata": {},
   "outputs": [
    {
     "name": "stdout",
     "output_type": "stream",
     "text": [
      "[0, 1, 2, 3, 4, 6, 7, 8, 9, 10, 11, 12]\n"
     ]
    }
   ],
   "source": [
    "#Delete a list item by index\n",
    "%reset -f\n",
    "from numpy import *\n",
    "\n",
    "L=[0,1,2,3,4,5,6,7,8,9,10,11,12]\n",
    "del L[5] #note that this changes list L\n",
    "print(L)"
   ]
  },
  {
   "cell_type": "code",
   "execution_count": 42,
   "id": "b9cbf2fd",
   "metadata": {},
   "outputs": [
    {
     "name": "stdout",
     "output_type": "stream",
     "text": [
      "[0, 'Green'] [1, 'Blue'] [2, 'Yellow'] [3, 'Red'] [4, 'Purple'] \n",
      " [0, 'Green'] [1, 'Yellow'] [2, 'Red'] [3, 'Blue'] [4, 'Purple'] \n",
      " [0, 'Red'] [1, 'Purple'] [2, 'Blue'] [3, 'Yellow'] [4, 'Green'] \n",
      " [0, 'Purple'] [1, 'Yellow'] [2, 'Green'] [3, 'Red'] [4, 'Blue'] \n",
      " [0, 'Green'] [1, 'Blue'] [2, 'Yellow'] [3, 'Purple'] [4, 'Red'] \n",
      "\n"
     ]
    }
   ],
   "source": [
    "#Select 5 items randomly from a 5 item list, removing each item as it is selected.\n",
    "%reset -f\n",
    "from numpy import *\n",
    "import random\n",
    "B=[]\n",
    "L=['Blue','Red','Green','Yellow','Purple']\n",
    "for _ in range(5):\n",
    "    x=random.sample(L,5)\n",
    "\n",
    "\n",
    "#and place them into 5 boxes each box being chosen randomly\n",
    "\n",
    "\n",
    "    index=random.sample([0,1,2,3,4],5)\n",
    "    for i in range(5):\n",
    "        B.append([i,x[index[i]]])\n",
    "    B.append('\\n')\n",
    "print(*B)\n",
    "    "
   ]
  }
 ],
 "metadata": {
  "kernelspec": {
   "display_name": "Python 3 (ipykernel)",
   "language": "python",
   "name": "python3"
  },
  "language_info": {
   "codemirror_mode": {
    "name": "ipython",
    "version": 3
   },
   "file_extension": ".py",
   "mimetype": "text/x-python",
   "name": "python",
   "nbconvert_exporter": "python",
   "pygments_lexer": "ipython3",
   "version": "3.9.7"
  }
 },
 "nbformat": 4,
 "nbformat_minor": 5
}
