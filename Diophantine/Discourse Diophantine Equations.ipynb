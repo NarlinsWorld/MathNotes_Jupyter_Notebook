{
 "cells": [
  {
   "cell_type": "code",
   "execution_count": 4,
   "metadata": {},
   "outputs": [
    {
     "name": "stdout",
     "output_type": "stream",
     "text": [
      "x= -4 y= -8 20    x= -1 y= -3 20    x= 2 y= 2 20    x= 5 y= 7 20    x= 8 y= 12 20    x= 11 y= 17 20    x= 14 y= 22 20    x= 17 y= 27 20    x= 20 y= 32 20    x= 23 y= 37 20    "
     ]
    }
   ],
   "source": [
    "import module2 as M2 #so i can use M2.xgcd\n",
    "\n",
    "for k in range(0,-10,-1):\n",
    "    x=-4-3*k\n",
    "    y=-8-5*k\n",
    "    print('x=',x,'y=',y,x*25-y*15, end=\"    \")"
   ]
  },
  {
   "cell_type": "markdown",
   "metadata": {},
   "source": [
    "We can construct 5 and 10 as differences of multiples of 25 and 15:\n",
    "$$2\\cdot 25 - 3\\cdot 15= 5$$\n",
    "$$1\\cdot 25 - 1 \\cdot 15= 10$$\n",
    "In this way, generate the next $8$ smallest multiples of $5.$\n",
    "<hr style=\"border-top: 2px green solid;\">\n",
    "If $a$ and $b$ are positive integers, we can find their GCD, $g,$ using the Extended Euclidean algorithm, along with $x_g$ & $y_g$, so: $$ax_g + by_g = g.$$\n",
    "Let $a=25, b=-15,$ then $xgcd(25,-15)=\\{-5,1,2\\}$ $$\\therefore 25(1)+(-15)(2)=-5 \\tag{EQ1}$$\n",
    "If $c$ is a multiple of $g,$ the Diophantine equation $ax + by = c$ has solution, otherwise, there is no solution.<br><br>\n",
    "That is if $c$ is a multiple of $g$, then\n",
    "$$ax_g\\left(\\frac{c}{g}\\right) + by_g\\left(\\frac{c}{g}\\right)=g\\left(\\frac{c}{g} \\right)$$ \n",
    "So, for instance, if $c=20,$ we might have \n",
    "$$25(1)\\left(\\frac{20}{-5}\\right) - 15(2)\\left(\\frac{20}{-5}\\right)=20$$<br><br>\n",
    "\n",
    "$$25(-4)-15(-8)=20$$ which solves the pattern for $20,$ although the $x,y$ values are not positive numbers.\n",
    "The following theorem completely describes the solutions:<br><br> \n",
    "\n",
    "<span style=\"color: blue; font-weight: bold;\">Theorem:</span> <em>The Diophantine equation $ax+by=c$ has a solution (where $x$ and $y$ are integers) if and only if $c$ is a multiple of the greatest common divisor of $a$ and $b.$ Moreover, if $(x, y)$ is a solution, then the other solutions have the form $(x + kv, y - ku),$ where $k$ is an arbitrary integer, and $u$ and $v$ are the quotients of $a$ and $b$ (respectively) by the greatest common divisor of $a$ and $b.$</em>\n",
    "\n",
    "<br>In our most general equation $25(1)-15(2)=-5,$ using EQ1,   $u$ is the quotient $\\frac{25}{-5}=-5$ and $v$ is the quotient $\\frac{-15}{-5}=3$ $$u=\\frac{25}{-5}=-5$$ $$v=\\frac{-15}{-5}=3$$ and $$\\begin{cases}x=1+k(3) \\\\ y=2-k(-5)\\end{cases}k\\in \\mathbb{Z}$$"
   ]
  },
  {
   "cell_type": "code",
   "execution_count": 3,
   "metadata": {},
   "outputs": [
    {
     "data": {
      "text/plain": [
       "(1, 7, -9)"
      ]
     },
     "execution_count": 3,
     "metadata": {},
     "output_type": "execute_result"
    }
   ],
   "source": [
    "a=22; b=17;\n",
    "M2.xgcd(a,b)"
   ]
  },
  {
   "cell_type": "code",
   "execution_count": 1,
   "metadata": {},
   "outputs": [
    {
     "name": "stdout",
     "output_type": "stream",
     "text": [
      "['/home/sage', '/usr/lib/python37.zip', '/usr/lib/python3.7', '/usr/lib/python3.7/lib-dynload', '', '/opt/sagemath-9.3/local/lib/python3.7/site-packages', '/opt/sagemath-9.3/local/lib/python3.7/site-packages/IPython/extensions', '/home/sage/.sage/ipython-5.0.0']\n"
     ]
    }
   ],
   "source": []
  }
 ],
 "metadata": {
  "kernelspec": {
   "display_name": "Python 3",
   "language": "python",
   "name": "python3"
  },
  "language_info": {
   "codemirror_mode": {
    "name": "ipython",
    "version": 3
   },
   "file_extension": ".py",
   "mimetype": "text/x-python",
   "name": "python",
   "nbconvert_exporter": "python",
   "pygments_lexer": "ipython3",
   "version": "3.7.10"
  }
 },
 "nbformat": 4,
 "nbformat_minor": 5
}
