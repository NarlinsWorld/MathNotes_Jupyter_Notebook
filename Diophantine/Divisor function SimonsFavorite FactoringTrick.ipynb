{
 "cells": [
  {
   "cell_type": "markdown",
   "id": "6ead6d40",
   "metadata": {},
   "source": [
    "<h2>Simon's favorite Factoring Trick</h2>\n",
    "<font size=2>\n",
    "    <h4>Adding $a\\cdot b$ to the expression makes it factorable.</h4>\n",
    "$$\\begin{align}ax+xy+by&=0\\\\\n",
    "ax+xy+by+ab&=ab\\\\\n",
    "(x+b)(y+a)&=ab \\end{align}$$\n",
    "<span style='color:red; font-weight: bold;'>Example</span> Find integer solutions for $x$ and $y.$<br>\n",
    "$$\\begin{align}\n",
    "\\frac{1}{x}+\\frac{1}{y}&=\\frac{1}{7}\\\\\n",
    "\\frac{1}{x}(7xy)+\\frac{1}{y}(7xy)&=\\frac{1}{7}(7xy)\\\\\n",
    "7y+7x&=xy\\\\\n",
    "7x-xy+7y&=0\\\\\n",
    "(x-7)(y-7)&=49\\cdot 1=7\\cdot 7\\\\\n",
    "\\end{align}$$\n",
    "$$\\begin{align}x-7=49\\quad y-7=1 &\\Leftarrow x=56\\quad y=8\\\\\n",
    "x-7=1\\quad y-7=49 &\\Leftarrow x=8\\quad y=56\\\\\n",
    "x-7=7\\quad y-7=7 &\\Leftarrow x=14\\quad y=14\n",
    "\\end{align}$$    \n"
   ]
  },
  {
   "cell_type": "markdown",
   "id": "28b7e729",
   "metadata": {},
   "source": [
    "<h2>Counting the number of Integer divisors of a number</h2>\n",
    "<font size=3>\n",
    "Suppose we have some number, $n.$ For example purposes, let $n=120$ We can find all of the <span style=\"color: red\">prime</span> factors of $n$ using any method. $$120=2^3\\times 3\\times5$$\n",
    "For counting, we can have either $0,1,2,$ or $3$ factors of $2.$  Think of this as $(3+1)$ where the $3$ is the exponent of $2$ in the list of prime factors.  Similarly, we can have $0$ or $1$ factor of $3$ and $0$ or $1$ factor of $5.$ Therefore, the ways for combining factors to obtain an integer divisor are \n",
    "    $$(3+1)(1+1)(1+1)=16$$ so there must be 16 integer divisors of $120.$\n",
    "    \n",
    "Finding the integer divisors is not difficult using this method.\n",
    "    $$p_1^i\\times p_2^j \\times p_3^k \\begin{cases}\n",
    "  i=0,1,2,3\\\\\n",
    "  j=0,1\\\\\n",
    "  k=0,1\n",
    "\\end{cases}$$"
   ]
  },
  {
   "cell_type": "code",
   "execution_count": 76,
   "id": "5a3c75ed",
   "metadata": {},
   "outputs": [
    {
     "name": "stdout",
     "output_type": "stream",
     "text": [
      "[1, 7, 11, 13, 77, 91, 143, 1001]\n"
     ]
    }
   ],
   "source": [
    "#For the integer 1001, the primes are 7x11x13 and all divisors are given here\n",
    "L=[]\n",
    "for i in range(2):\n",
    "    for j in range(2):\n",
    "        for k in range(2):\n",
    "            L.append((7**i)*(11**j)*(13**k))\n",
    "L.sort()\n",
    "print(L)"
   ]
  },
  {
   "cell_type": "code",
   "execution_count": 2,
   "id": "53970377",
   "metadata": {},
   "outputs": [
    {
     "name": "stdout",
     "output_type": "stream",
     "text": [
      "[1, 2, 3, 4, 6, 7, 8, 12, 14, 21, 24, 28, 42, 56, 84, 168]\n"
     ]
    }
   ],
   "source": [
    "#Find all of the divisors of 168\n",
    "import sympy as sy\n",
    "import math\n",
    "n=168\n",
    "D=sy.divisors(n)\n",
    "print(D)"
   ]
  },
  {
   "cell_type": "code",
   "execution_count": 61,
   "id": "f054a6c8",
   "metadata": {},
   "outputs": [
    {
     "name": "stdout",
     "output_type": "stream",
     "text": [
      "[1, 3, 7, 9, 11, 13, 21, 27, 33, 37, 39, 63, 77, 91, 99, 111, 117, 143, 189, 231, 259, 273, 297, 333, 351, 407, 429, 481, 693, 777, 819, 999, 1001, 1221, 1287, 1443, 2079, 2331, 2457, 2849, 3003, 3367, 3663, 3861, 4329, 5291, 6993, 8547, 9009, 10101, 10989, 12987, 15873, 25641, 27027, 30303, 37037, 47619, 76923, 90909, 111111, 142857, 333333, 999999]\n",
      "999968000495995040035959798624906188634154518271951264512110975745792492626871435034277881079824277751435252626625792710975584512211951210518296634144906191798624035959995040000495999968000001\n",
      "999968000495995040035959798624906188634154518271951264512110975745792492626871435034277881079824277751435252626625792710975584512211951210518296634144906191798624035959995040000495999968000001\n",
      "t(n)= 64 9.99968000495995e+191 "
     ]
    }
   ],
   "source": [
    "import sympy as sy\n",
    "import math\n",
    "n=999999\n",
    "D=sy.divisors(n)\n",
    "print(D)\n",
    "m = 1\n",
    "for x in D:\n",
    "    m = m * x\n",
    "print(m)\n",
    "print(math.prod(D))\n",
    "print('t(n)=',len(D),n**(len(D)/2), end=\" \")\n"
   ]
  },
  {
   "cell_type": "markdown",
   "id": "5402c3ce",
   "metadata": {},
   "source": [
    "The total number of positive divisors of an integer is prime. How many prime numbers arc\n",
    "divisors of the integer? "
   ]
  },
  {
   "cell_type": "code",
   "execution_count": 39,
   "id": "7f6a1200",
   "metadata": {},
   "outputs": [
    {
     "name": "stdout",
     "output_type": "stream",
     "text": [
      "2 2 [1, 2]\n",
      "3 2 [1, 3]\n",
      "4 3 [1, 2, 4]\n",
      "5 2 [1, 5]\n",
      "7 2 [1, 7]\n",
      "9 3 [1, 3, 9]\n",
      "11 2 [1, 11]\n",
      "13 2 [1, 13]\n",
      "16 5 [1, 2, 4, 8, 16]\n",
      "17 2 [1, 17]\n",
      "19 2 [1, 19]\n",
      "23 2 [1, 23]\n",
      "25 3 [1, 5, 25]\n",
      "29 2 [1, 29]\n",
      "31 2 [1, 31]\n",
      "37 2 [1, 37]\n",
      "41 2 [1, 41]\n",
      "43 2 [1, 43]\n",
      "47 2 [1, 47]\n",
      "49 3 [1, 7, 49]\n",
      "53 2 [1, 53]\n",
      "59 2 [1, 59]\n",
      "61 2 [1, 61]\n",
      "64 7 [1, 2, 4, 8, 16, 32, 64]\n",
      "67 2 [1, 67]\n",
      "71 2 [1, 71]\n",
      "73 2 [1, 73]\n",
      "79 2 [1, 79]\n",
      "81 5 [1, 3, 9, 27, 81]\n",
      "83 2 [1, 83]\n",
      "89 2 [1, 89]\n",
      "97 2 [1, 97]\n",
      "101 2 [1, 101]\n",
      "103 2 [1, 103]\n",
      "107 2 [1, 107]\n",
      "109 2 [1, 109]\n",
      "113 2 [1, 113]\n",
      "121 3 [1, 11, 121]\n",
      "127 2 [1, 127]\n",
      "131 2 [1, 131]\n",
      "137 2 [1, 137]\n",
      "139 2 [1, 139]\n",
      "149 2 [1, 149]\n"
     ]
    }
   ],
   "source": [
    "from module2 import iss_prime\n",
    "for i in range(150):\n",
    "    if iss_prime(len(sy.divisors(i))):\n",
    "        print(i,len(sy.divisors(i)),sy.divisors(i))"
   ]
  },
  {
   "cell_type": "markdown",
   "id": "399adfa1",
   "metadata": {},
   "source": [
    "What is the sum of the three numbers less than 1000 that have exactly five positive integer divisors?"
   ]
  },
  {
   "cell_type": "code",
   "execution_count": 50,
   "id": "c93121e9",
   "metadata": {},
   "outputs": [
    {
     "name": "stdout",
     "output_type": "stream",
     "text": [
      "16 [1, 2, 4, 8, 16]\n",
      "81 [1, 3, 9, 27, 81]\n",
      "625 [1, 5, 25, 125, 625]\n",
      "sum= 722\n"
     ]
    }
   ],
   "source": [
    "import numpy as np\n",
    "s=[]\n",
    "for i in range(1001):\n",
    "    if len(sy.divisors(i))==5:\n",
    "        print(i, sy.divisors(i))\n",
    "        s.append(i)\n",
    "print('sum=',np.sum(s))"
   ]
  },
  {
   "cell_type": "markdown",
   "id": "01f815f3",
   "metadata": {},
   "source": [
    "Suppose we want to know how many divisors there are of integer 5?  Well, the prime factors of 5, which also happen to divide into 5, include only the number 5. So $$5=5^1$$"
   ]
  },
  {
   "cell_type": "code",
   "execution_count": 2,
   "id": "863eb7df",
   "metadata": {},
   "outputs": [
    {
     "name": "stdout",
     "output_type": "stream",
     "text": [
      "[1, 5]\n"
     ]
    }
   ],
   "source": [
    "L=[]\n",
    "for i in range(2):\n",
    "            L.append((5**i))\n",
    "L.sort()\n",
    "print(L)"
   ]
  },
  {
   "cell_type": "code",
   "execution_count": 1,
   "id": "487eb2e5",
   "metadata": {},
   "outputs": [
    {
     "name": "stdout",
     "output_type": "stream",
     "text": [
      "Number: 12\n",
      "There are 2 instances of 2\n",
      "There are 1 instances of 3\n",
      "number of divisors of 12 is 6\n"
     ]
    }
   ],
   "source": [
    "## %reset -f\n",
    "import time, math\n",
    "from numpy import prod\n",
    "def is_fermat_probable_prime(n, *, trials = 32):\n",
    "    # https://en.wikipedia.org/wiki/Fermat_primality_test\n",
    "    import random\n",
    "    if n <= 16:\n",
    "        return n in (2, 3, 5, 7, 11, 13)\n",
    "    for i in range(trials):\n",
    "        if pow(random.randint(2, n - 2), n - 1, n) != 1:\n",
    "            return False\n",
    "    return True\n",
    "\n",
    "def pollard_rho_factor(N, *, trials = 16):\n",
    "    # https://en.wikipedia.org/wiki/Pollard%27s_rho_algorithm\n",
    "    import random, math\n",
    "    for j in range(trials):\n",
    "        i, stage, y, x = 0, 2, 1, random.randint(1, N - 2)\n",
    "        while True:\n",
    "            r = math.gcd(N, x - y)\n",
    "            if r != 1:\n",
    "                break\n",
    "            if i == stage:\n",
    "                y = x\n",
    "                stage <<= 1\n",
    "            x = (x * x + 1) % N\n",
    "            i += 1\n",
    "        if r != N:\n",
    "            return [r, N // r]\n",
    "    return [N] # Pollard-Rho failed\n",
    "\n",
    "def trial_division_factor(n, *, limit = None):\n",
    "    # https://en.wikipedia.org/wiki/Trial_division\n",
    "    fs = []\n",
    "    while n & 1 == 0:\n",
    "        fs.append(2)\n",
    "        n >>= 1\n",
    "    d = 3\n",
    "    while d * d <= n and limit is None or d <= limit:\n",
    "        q, r = divmod(n, d)\n",
    "        if r == 0:\n",
    "            fs.append(d)\n",
    "            n = q\n",
    "        else:\n",
    "            d += 2\n",
    "    if n > 1:\n",
    "        fs.append(n)\n",
    "    return fs\n",
    "\n",
    "def factor(n):\n",
    "    if n <= 1:\n",
    "        return []\n",
    "    if is_fermat_probable_prime(n):\n",
    "        return [n]\n",
    "    fs = trial_division_factor(n, limit = 1 << 12)\n",
    "    if len(fs) >= 2:\n",
    "        return sorted(fs[:-1] + factor(fs[-1]))\n",
    "    fs = pollard_rho_factor(n)\n",
    "    if len(fs) >= 2:\n",
    "        return sorted([e1 for e0 in fs for e1 in factor(e0)])\n",
    "    return trial_division_factor(n)\n",
    "\n",
    "def number_of_divisors(n):\n",
    "    g=[];f=[]\n",
    "    fs=factor(n)\n",
    "    g=list(set(fs))\n",
    "    for i in range(len(g)):\n",
    "        print(\"There are\", fs.count(g[i]),\"instances of\",g[i])\n",
    "        f.append(fs.count(g[i])+1)\n",
    "    #print(f)\n",
    "    nod=prod(f)\n",
    "    return nod\n",
    "\n",
    "def demo():\n",
    "    \n",
    "    # http://www.math.com/tables/constants/pi.htm\n",
    "    # pi = 3.\n",
    "    #     1415926535 8979323846 2643383279 5028841971 6939937510 5820974944 5923078164 0628620899 8628034825 3421170679\n",
    "    #     8214808651 3282306647 0938446095 5058223172 5359408128 4811174502 8410270193 8521105559 6446229489 5493038196\n",
    "    # n = first 190 fractional digits of Pi\n",
    "    n =   1415926535_8979323846_2643383279_5028841971_6939937510_5820974944_5923078164_0628620899_8628034825_3421170679_8214808651_3282306647_0938446095_5058223172_5359408128_4811174502_8410270193_8521105559_6446229489\n",
    "    n=10001\n",
    "    print('Number:', n)\n",
    "    tb = time.time()\n",
    "    fs = factor(n)\n",
    "    print('All Prime Factors:', fs)\n",
    "    print('Largest Prime Factor:', f'({math.log2(fs[-1]):.02f} bits, {len(str(fs[-1]))} digits)', fs[-1])\n",
    "    print('Time Elapsed:', round(time.time() - tb, 3), 'sec')\n",
    "    \n",
    "if __name__ == '__main__':\n",
    "   # demo()\n",
    "    n = 12\n",
    "    print('Number:', n)\n",
    "\n",
    "    nod=number_of_divisors(n)\n",
    "    print(\"number of divisors of\",n,\"is\",nod)\n",
    "\n",
    "\n"
   ]
  },
  {
   "cell_type": "code",
   "execution_count": 26,
   "id": "71154eb1",
   "metadata": {},
   "outputs": [
    {
     "data": {
      "text/plain": [
       "8100"
      ]
     },
     "execution_count": 26,
     "metadata": {},
     "output_type": "execute_result"
    }
   ],
   "source": [
    "2**2*5**2*3**4"
   ]
  },
  {
   "cell_type": "markdown",
   "id": "c3c18c40",
   "metadata": {},
   "source": [
    "<font size=1>\n",
    "Diophantine equations are polynomials with two or more unknowns and for which integer solutions are desired. If we confine the number of undetermined variables to $2$, call them $x,y,$ then the equation can be constructed as $$axy+bx+cy=d$$ where $a,b,c,d$ are integers. Very frequently, $a=1.$ <br>\n",
    "    By completing the rectangle, in a manner analogous to completing the square, the left side of the equation can be factored.  This is most easily shown by example.<br>\n",
    "Suppose we have the equation $$xy+2x+5y=14$$ and we want to find all integer solutions.<br>\n",
    "    Factoring the equation gives $$(x+5)(y+2)=14+10$$\n",
    "    Notice that we had to add $10$ on the right because it was needed on the left to make the factoring work.\n",
    "    <br>List the prime factors of 24. $$P=\\{2,2,2,3\\}=\\{2^3\\times 3^1\\}$$"
   ]
  },
  {
   "cell_type": "code",
   "execution_count": 4,
   "id": "d10b59c5",
   "metadata": {},
   "outputs": [
    {
     "name": "stdout",
     "output_type": "stream",
     "text": [
      "[1, 2, 3, 4, 6, 8, 12, 24]\n"
     ]
    }
   ],
   "source": [
    "L=[]\n",
    "for i in range(4):\n",
    "    for j in range(2):\n",
    "        L.append((2**i)*(3**j))\n",
    "L.sort()\n",
    "print(L)"
   ]
  },
  {
   "cell_type": "markdown",
   "id": "310e0458",
   "metadata": {},
   "source": [
    "<font size=1>\n",
    "If $x$ is assigned to one of these integer values, then $y=\\frac{24}{x}$ and we have a pair of divisors. \n",
    "$$\\begin{array}{cccccc}(x+5)(y+2)=1\\times 24\\\\\n",
    "(x+5)(y+2)=2\\times 12\\\\\n",
    "(x+5)(y+2)=3\\times 8\\\\\n",
    "(x+5)(y+2)=6\\times 4\\\\\n",
    "(x+5)(y+2)=8\\times 3\\\\\n",
    "(x+5)(y+2)=12\\times 2\\\\\n",
    "(x+5)(y+2)=24\\times 1\\\\\n",
    "\\end{array}$$\n",
    "Similar to the way we might say that if $(x+a)(x+b)=0$ then either $(x+a)=0$ or $(y+b)=0,$ we can say that for each line above, $$(x+5)(y+2=a\\times b$$\n",
    "therefore $$\\begin{array}{cc}\n",
    "x+5=a\\\\\n",
    "y+2=b\n",
    "\\end{array}$$\n",
    "Solving this set yields all possible integer solutions of $$\\color{red}{xy+2x+5y=14}.$$\n",
    "$$\\begin{array}{lllllll}\n",
    "x+5=1\\quad y+2=24 \\quad x=-4 \\quad y=22\\\\\n",
    "x+5=2\\quad y+2=12\\quad x=-3\\quad y=10\\\\\n",
    "x+5=3\\quad y+2=8 \\quad x=-2\\quad y=6\\\\\n",
    "x+5=6\\quad y+2=4\\quad x=1 \\quad y=2\\\\\n",
    "x+5=8\\quad y+2=3 \\quad x=3 \\quad y=1 \\\\\n",
    "x+5=12\\quad y+2=2\\quad x=7 \\quad y=0 \\\\\n",
    "x+5=24\\quad y+2=1\\quad x=19\\quad y=-1\n",
    "\\end{array}$$"
   ]
  },
  {
   "cell_type": "code",
   "execution_count": 5,
   "id": "4a28547d",
   "metadata": {},
   "outputs": [
    {
     "name": "stdout",
     "output_type": "stream",
     "text": [
      "1 1\n",
      "[]\n",
      "2 11\n",
      "[11]\n",
      "3 111\n",
      "[3, 37]\n",
      "4 1111\n",
      "[11, 101]\n",
      "5 11111\n",
      "[41, 271]\n",
      "6 111111\n",
      "[3, 7, 11, 13, 37]\n",
      "7 1111111\n",
      "[239, 4649]\n",
      "8 11111111\n",
      "[11, 73, 101, 137]\n",
      "9 111111111\n",
      "[3, 3, 37, 333667]\n",
      "10 1111111111\n",
      "[11, 41, 271, 9091]\n",
      "11 11111111111\n",
      "[21649, 513239]\n",
      "12 111111111111\n",
      "[3, 7, 11, 13, 37, 101, 9901]\n",
      "13 1111111111111\n",
      "[79, 53, 265371653]\n",
      "14 11111111111111\n",
      "[11, 239, 4649, 909091]\n",
      "15 111111111111111\n",
      "[3, 31, 37, 41, 271, 2906161]\n",
      "16 1111111111111111\n",
      "[11, 1241, 101, 137, 5882353]\n",
      "17 11111111111111111\n",
      "[2071723, 5363222357]\n"
     ]
    }
   ],
   "source": [
    "from math import gcd\n",
    "\n",
    "def factorization(n):\n",
    "\n",
    "    factors = []\n",
    "\n",
    "    def get_factor(n):\n",
    "        x_fixed = 2\n",
    "        cycle_size = 2\n",
    "        x = 2\n",
    "        factor = 1\n",
    "\n",
    "        while factor == 1:\n",
    "            for count in range(cycle_size):\n",
    "                if factor > 1: break\n",
    "                x = (x * x + 1) % n\n",
    "                factor = gcd(x - x_fixed, n)\n",
    "\n",
    "            cycle_size *= 2\n",
    "            x_fixed = x\n",
    "\n",
    "        return factor\n",
    "\n",
    "    while n > 1:\n",
    "        next = get_factor(n)\n",
    "        factors.append(next)\n",
    "        n //= next\n",
    "\n",
    "    return factors\n",
    "\n",
    "n=0\n",
    "for i in range(1,18):\n",
    "    n=n+10**(i-1)\n",
    "    print(i,n)\n",
    "    print(factorization(n))"
   ]
  },
  {
   "cell_type": "markdown",
   "id": "e63aa253",
   "metadata": {},
   "source": [
    "If d is not a multiple of 2 or 5, then there is some number made up of only 1’s that is divisible by d. And in fact, the number of 1’s is no more than d."
   ]
  },
  {
   "cell_type": "code",
   "execution_count": 6,
   "id": "29dbe5b3",
   "metadata": {},
   "outputs": [
    {
     "name": "stdout",
     "output_type": "stream",
     "text": [
      "1 1\n",
      "3 3\n",
      "7 6\n",
      "9 9\n",
      "11 2\n",
      "13 6\n",
      "17 16\n",
      "19 18\n",
      "21 6\n",
      "23 22\n",
      "27 27\n",
      "29 28\n",
      "31 15\n",
      "33 6\n",
      "37 3\n",
      "39 6\n"
     ]
    }
   ],
   "source": [
    "from math import gcd\n",
    "    \n",
    "def all_ones(n, b = 10):\n",
    "    return sum(b**i for i in range(n))\n",
    "\n",
    "def find_multiple(k, b = 10):\n",
    "    if gcd(k, b) > 1:\n",
    "        return 0\n",
    "    for n in range(1, k+1):\n",
    "        if all_ones(n, b) % k == 0:\n",
    "            return n\n",
    "for i in range(41):\n",
    "    if i%2 != 0 and i%5 != 0:\n",
    "        print(i,find_multiple(i,10))"
   ]
  },
  {
   "cell_type": "markdown",
   "id": "c9edfe5d",
   "metadata": {},
   "source": [
    "<font size=4>\n",
    "The GCD method below relies on the proposition: If $a\\mid b$ then $a \\mid (b-a)$\n",
    "It isn't optimized but for small numbers it works well."
   ]
  },
  {
   "cell_type": "code",
   "execution_count": 70,
   "id": "82404c02",
   "metadata": {},
   "outputs": [
    {
     "name": "stdout",
     "output_type": "stream",
     "text": [
      "a= 37\n"
     ]
    }
   ],
   "source": [
    "from numpy import *\n",
    "a=407; b=1332\n",
    "a=111; b=407\n",
    "\n",
    "while b>0:\n",
    "    if a>b:\n",
    "        a=abs(b-a)\n",
    "    else:\n",
    "        b=abs(b-a)\n",
    "print(\"a=\",a)"
   ]
  },
  {
   "cell_type": "markdown",
   "id": "1fc63703",
   "metadata": {},
   "source": [
    "<font size=4>\n",
    "The GCD method below relies on the proposition: If $a\\mid b$ then $a \\mid mod(a,b)$"
   ]
  },
  {
   "cell_type": "code",
   "execution_count": 8,
   "id": "03c0a119",
   "metadata": {},
   "outputs": [
    {
     "name": "stdout",
     "output_type": "stream",
     "text": [
      "37\n"
     ]
    }
   ],
   "source": [
    "from numpy import *\n",
    "a=407; b=1332\n",
    "while (a != 0 and b !=0):\n",
    "    if a>b:\n",
    "        a=mod(a,b)\n",
    "    else:\n",
    "        b=mod(b,a)\n",
    "print(max(a,b))"
   ]
  },
  {
   "cell_type": "code",
   "execution_count": 59,
   "id": "8be25dde",
   "metadata": {},
   "outputs": [
    {
     "name": "stdout",
     "output_type": "stream",
     "text": [
      "(101,103) (107,109) (137,139) (149,151) (179,181) (191,193) (197,199) (227,229) (239,241) (269,271) (281,283) (311,313) (347,349) (419,421) (431,433) (461,463) (521,523) (569,571) (599,601) (617,619) (641,643) (659,661) (809,811) (821,823) (827,829) (857,859) (881,883) "
     ]
    }
   ],
   "source": [
    "# Let's find some twin primes\n",
    "for i in range(101,1000,2):\n",
    "    if iss_prime(i):\n",
    "        if iss_prime(i+2):\n",
    "            result='('+str(i)+','+str(i+2)+')'\n",
    "            print(result,end=' ')"
   ]
  },
  {
   "cell_type": "code",
   "execution_count": 75,
   "id": "0fc75251",
   "metadata": {},
   "outputs": [
    {
     "name": "stdout",
     "output_type": "stream",
     "text": [
      "2047\n",
      "{23: 1, 89: 1}\n"
     ]
    }
   ],
   "source": [
    "a=2047\n",
    "print(a)\n",
    "L=sy.factorint(a)\n",
    "print(L)\n"
   ]
  }
 ],
 "metadata": {
  "kernelspec": {
   "display_name": "Python 3 (ipykernel)",
   "language": "python",
   "name": "python3"
  },
  "language_info": {
   "codemirror_mode": {
    "name": "ipython",
    "version": 3
   },
   "file_extension": ".py",
   "mimetype": "text/x-python",
   "name": "python",
   "nbconvert_exporter": "python",
   "pygments_lexer": "ipython3",
   "version": "3.9.7"
  }
 },
 "nbformat": 4,
 "nbformat_minor": 5
}
