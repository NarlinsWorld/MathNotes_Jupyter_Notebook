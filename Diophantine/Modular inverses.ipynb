{
 "cells": [
  {
   "cell_type": "markdown",
   "metadata": {},
   "source": [
    "<h2>Congruence Relation</h2>\n",
    "$$a\\equiv b \\pmod m$$\n",
    "means that $a$ and $b$ have the same remainder when divided by $m.$\n",
    "Also $$m|(a-b)$$ which reads $m$ divides $a-b.$\n",
    "<br>Both addition and multiplication hold for integer modular arithmetic.<br>\n",
    "$$\\text{if }\\begin{cases}a\\equiv b &\\pmod m \\\\ c\\equiv d &\\pmod m  \\end{cases}$$\n",
    "$$\\text{then }\\begin{cases}a+c\\equiv b+d &\\pmod m\\\\ ac\\equiv bd & \\pmod m \\end{cases}$$"
   ]
  },
  {
   "cell_type": "markdown",
   "metadata": {},
   "source": [
    "<h2>Modular Additive Inverse</h2>\n",
    "Variable $x$ is a modular additive inverse of $a$ when an operation performed on $x$ and $a$ yields the identity element, which for addition is zero.\n",
    "$$a+x=0 \\pmod m$$\n",
    "To find $x,$ negate 'a' and add multiples of $m$ until we arrive at an integer that is between $0$ and $m.$<br><br>\n",
    "<span style=\"color: red; font-weight: bold;\">Example:</span> Find the modular inverse of 23 modulo 17.<br>\n",
    "$$-23+2\\cdot 17=11$$\n",
    "Show that $11$ is the additive mod 17 inverse of 23.\n",
    "$$23+11=34  \\text{ and } 17|34 \\text{ with remainder }= 0$$"
   ]
  },
  {
   "cell_type": "code",
   "execution_count": 7,
   "metadata": {},
   "outputs": [
    {
     "name": "stdout",
     "output_type": "stream",
     "text": [
      "-231 // 29 = -8 additive inverse = 28 (mod 29 )\n",
      "-231+28=-203%29=0\n"
     ]
    }
   ],
   "source": [
    "from numpy import *\n",
    "a=-231; m=29 #find a+x=0 (mod m)\n",
    "g=-a\n",
    "inv=g+(1+a//m)*m\n",
    "print(a,'//',m,'=',a//m,'additive inverse =',inv,'(mod',m,')')\n",
    "result = str(a)+'+'+str(inv)+'='+str(a+inv)+'%'+str(m)+'='+str((a+inv)%m)\n",
    "print(result)"
   ]
  },
  {
   "cell_type": "markdown",
   "metadata": {},
   "source": [
    "<h2>Modular Multiplicative Inverse</h2>\n",
    "Variable $x$ is a multiplicative inverse of $a$ modulo $m$ if ax and 1 are congruent modulo m:\n",
    "\n",
    "$$a \\cdot x ≡ 1 \\pmod m$$\n",
    "\n",
    "Unlike additive inverses, the multiplicative modular inverse does not always exist! If it does exists, however, all numbers of the form x + k * m satisfy the required congruency. In particular, in such cases you can always find the solution (exactly one!) in the range {1, ... , m - 1}.\n",
    "One method of finding the multiplicative inverse, if it exists, is to try all of the possibilities from $1$ to $1-m.$\n",
    "\n"
   ]
  },
  {
   "cell_type": "code",
   "execution_count": 31,
   "metadata": {},
   "outputs": [
    {
     "name": "stdout",
     "output_type": "stream",
     "text": [
      "The multiplicative inverse is 9\n"
     ]
    }
   ],
   "source": [
    "#Examine every number method\n",
    "from numpy import *\n",
    "\n",
    "a=432; m=13;\n",
    "def MultInverse(a,m):\n",
    "    if gcd(a,m)!=1: print('There is no multiplicative inverse.')\n",
    "    for i in range(1,m):\n",
    "         if (a*i)%m==1:\n",
    "                return i\n",
    "inv=MultInverse(a,m)\n",
    "print('The multiplicative inverse is',inv)"
   ]
  },
  {
   "cell_type": "code",
   "execution_count": 3,
   "metadata": {},
   "outputs": [
    {
     "name": "stdout",
     "output_type": "stream",
     "text": [
      "The multiplicative inverse is 9\n"
     ]
    }
   ],
   "source": [
    "#Examine every number method\n",
    "from numpy import gcd \n",
    "\n",
    "a=432; m=13;        #ax=1 (mod m)\n",
    "def MultInverse(a,m):\n",
    "    if gcd(a,m)!=1: print('There is no multiplicative inverse.')\n",
    "    for i in range(1,m):\n",
    "         if (a*i)%m==1:\n",
    "                return i\n",
    "inv=MultInverse(a,m)\n",
    "print('The multiplicative inverse is',inv)"
   ]
  },
  {
   "cell_type": "code",
   "execution_count": 20,
   "metadata": {},
   "outputs": [],
   "source": [
    "import MyLibraryModules as MLM\n",
    "#help(MLM)"
   ]
  },
  {
   "cell_type": "markdown",
   "metadata": {},
   "source": [
    "<hr style=\"border-top: 2px solid green;\">\n",
    "A better method to find the multiplicative inverse is to use the Extended Euclidean Algorithm. <br>\n",
    "Bézout's identity says that: $a \\cdot x + m \\cdot y = gcd(a,m)$ for some integers x and y. Use the extended Euclidean algorithm to find $x$ and $y$. Of course for the multiplicative inverse we need $$a\\cdot x+m\\cdot y=1$$\n",
    "1. Assure that the inverse exists.<br>\n",
    "2. Apply the (mod m) operation to both sides: $$ax+my=1 \\pmod m$$  \n",
    "3. The extended euclidean will return values for $x$ and $y$, but clearly, one of them will be negative.<br>  \n",
    "4. If $x$ is negative, scale it to $0 \\le x < m$ by adding $m.$ <br> \n",
    "5. if $x$ is $\\ge m$ then we need to subtract $m$ to be scaled.<br>"
   ]
  },
  {
   "cell_type": "code",
   "execution_count": 1,
   "metadata": {},
   "outputs": [
    {
     "name": "stdout",
     "output_type": "stream",
     "text": [
      "The modular inverse of 7 mod(19) is 11, check: 1\n"
     ]
    }
   ],
   "source": [
    "import MyLibraryModules as MLM\n",
    "#import importlib\n",
    "#importlib.reload(MLM)\n",
    "from numpy import *\n",
    "    \n",
    "m=19\n",
    "a=7\n",
    "x=MLM.modular_inverse(a,m)\n",
    "if x != None:\n",
    "    printthis='The modular inverse of '+str(a)+' mod('+str(m)+') is '+str(x)+','\n",
    "    print(printthis,'check:',(a*x)%m)"
   ]
  },
  {
   "cell_type": "markdown",
   "metadata": {},
   "source": [
    "<h2>Congruence Equations $bx\\equiv a \\pmod m$</h2>\n",
    "Now what about the congruence equation: $bx\\equiv a \\pmod m .$ It has a unique solution iff $a$ and $b$ are relatively prime (i.e. coprime), which means that the gcd(a,b)=1.  If so, then $b$ is invertible$\\pmod m .$ Thus $x\\equiv b^{-1}a.$"
   ]
  },
  {
   "cell_type": "code",
   "execution_count": 6,
   "metadata": {},
   "outputs": [
    {
     "name": "stdout",
     "output_type": "stream",
     "text": [
      "The modular inverse of 13 mod(23) is 16, check: 1\n",
      "20\n"
     ]
    }
   ],
   "source": [
    "# Solve the equivalence bx=a (mod m)\n",
    "m=23\n",
    "b=13\n",
    "a=7\n",
    "b_i=MLM.modular_inverse(b,m)\n",
    "if b_i != None:\n",
    "    printthis='The modular inverse of '+str(b)+' mod('+str(m)+') is '+str(b_i)+','\n",
    "    print(printthis,'check:',(b*b_i)%m)\n",
    "    x=(b_i*a)%m\n",
    "    print(x)"
   ]
  },
  {
   "cell_type": "markdown",
   "metadata": {},
   "source": [
    "<h2>Modular Fractions</h2>\n",
    "We can define $$\\frac{a}{b}=ab^{-1}=c$$ as the unique solution to $$bx\\equiv a \\pmod m \\Longleftrightarrow gcd(b,m)=1$$ \n",
    "That says the <span style=\"color: red;\">denominator must be coprime to $m.$</span>\n",
    "With that provision, the normal addition and multiplication rules hold.\n",
    "$$\\frac{a}{b}+\\frac{c}{d}=\\frac{ad+bc}{bd}$$<br>\n",
    "$$\\text{Proof }(ad+bc)\\color{red}{(bd)^{-1}}\\equiv a\\color{red}{d\\ d^{-1}}b^{-1}+d^{-1}\\color{red}{b^{-1}b}c\\equiv ab^{-1}+d^{-1}c \\square$$\n",
    "<br><br>\n",
    "<span style=\"color: red;\">Example</span> Find $3\\cdot \\frac{2}{5} \\pmod 7$<br>\n",
    "To divide by 5, we have to multiply by $5^{-1}$<br>\n",
    "$5^{-1}=3 \\pmod 7$ check: $5\\cdot 3=15$ and $15 \\pmod 7=1$<br>\n",
    "Now evaluate the fraction $$3\\cdot2\\cdot 5^{-1}=3\\cdot 2\\cdot 3=18 \\pmod 7=4$$<br><br>\n",
    "\n",
    "<span style=\"color: red;\">Example</span> Find $\\frac{2}{5} \\pmod 3$<br>\n",
    "$$5^{-1}\\equiv 2 \\pmod 3$$\n",
    "So $$2\\cdot 5^{-1}\\pmod 3 \\iff 2\\cdot 2\\equiv 4\\equiv 1 \\pmod 3$$"
   ]
  },
  {
   "cell_type": "code",
   "execution_count": 8,
   "metadata": {},
   "outputs": [
    {
     "data": {
      "text/plain": [
       "3"
      ]
     },
     "execution_count": 8,
     "metadata": {},
     "output_type": "execute_result"
    }
   ],
   "source": [
    "MLM.modular_inverse(17,5)"
   ]
  },
  {
   "cell_type": "markdown",
   "metadata": {},
   "source": [
    "<h2>Working with Remainders</h2>\n",
    "How many numbers between 300 and 1000 leave a remainder of 6 when divided by 11?<br><br>\n",
    "We are looking for numbers $q$ that are of the form $$11q+6$$ and also $$300\\le 11q+6 \\le 1000.$$\n",
    "Subtract $6$ to all sides: $$294\\le 11q \\le 994$$\n",
    "And divide by $11$ $$\\frac{294}{11}\\le q \\le \\frac{994}{11}\\Longrightarrow 26\\frac{8}{11}\\le q \\le 90\\frac{4}{11}$$So the answer will be the number of integers between those two values, which is from 27 to 90 inclusive.$$90-27+1=64$$\n",
    "Code below shows the exhaustive method to get this. "
   ]
  },
  {
   "cell_type": "code",
   "execution_count": 15,
   "metadata": {},
   "outputs": [
    {
     "name": "stdout",
     "output_type": "stream",
     "text": [
      "64\n"
     ]
    }
   ],
   "source": [
    "cnt=0\n",
    "for i in range(300,1001):\n",
    "    if i%11==6:cnt=cnt+1\n",
    "print(cnt)"
   ]
  },
  {
   "cell_type": "code",
   "execution_count": 197,
   "metadata": {},
   "outputs": [
    {
     "name": "stdout",
     "output_type": "stream",
     "text": [
      "3 2\n",
      "2 1\n",
      "1 1\n",
      "\n",
      "223 13\n",
      "13 223\n",
      "2 13\n",
      "1 2\n",
      "0 1\n"
     ]
    },
    {
     "data": {
      "text/plain": [
       "1"
      ]
     },
     "execution_count": 197,
     "metadata": {},
     "output_type": "execute_result"
    }
   ],
   "source": [
    "import module2 as m2\n",
    "from numpy import *\n",
    "\n",
    "def GCD(a,b):\n",
    "    print(a,b)\n",
    "    if a==0: return b\n",
    "    return GCD(b%a,a)\n",
    "\n",
    "def euclidean(a,b):\n",
    "    print(a,b)\n",
    "    c=a-b\n",
    "    a=max(b,c)\n",
    "    b=min(b,c)\n",
    "    if b>0: \n",
    "        a=euclidean(a,b)        \n",
    "\n",
    "    return a\n",
    "\n",
    "euclidean(3,2) #place the larger number first       \n",
    "print()\n",
    "GCD(223,13)"
   ]
  },
  {
   "cell_type": "code",
   "execution_count": 208,
   "metadata": {},
   "outputs": [
    {
     "name": "stdout",
     "output_type": "stream",
     "text": [
      "(1, 26, -11)\n"
     ]
    }
   ],
   "source": [
    "def bezout(a,b):\n",
    "    if b==0: return a,1,0\n",
    "    else:\n",
    "        q,r=divmod(a,b)\n",
    "        g,x,y=bezout(b,r)\n",
    "        return g,y,x-q*y\n",
    "    \n",
    "print(bezout(223,527))\n"
   ]
  },
  {
   "cell_type": "code",
   "execution_count": 5,
   "metadata": {},
   "outputs": [
    {
     "name": "stdout",
     "output_type": "stream",
     "text": [
      "[236, 1, 0]\n",
      "[75, 0, 1]\n",
      "\n",
      "----------------\n",
      "[75, 0, 1]\n",
      "[11.0, 1.0, -3.0]\n",
      "\n",
      "----------------\n",
      "[11.0, 1.0, -3.0]\n",
      "[9.0, -6.0, 19.0]\n",
      "\n",
      "----------------\n",
      "[9.0, -6.0, 19.0]\n",
      "[2.0, 7.0, -22.0]\n",
      "\n",
      "----------------\n",
      "[2.0, 7.0, -22.0]\n",
      "[1.0, -34.0, 107.0]\n",
      "\n",
      "----------------\n",
      "(1.0, -34.0, 107.0)\n"
     ]
    }
   ],
   "source": [
    "##### Code for Blankinship's Method\n",
    "from numpy import *\n",
    "\n",
    "def Blankinship(a0,a1,a2,b0,b1,b2):\n",
    "    if b0==0:\n",
    "        return a0,a1,a2 \n",
    "    else:\n",
    "        q=floor(a0/b0)\n",
    "        c0=a0-q*b0\n",
    "        c1=a1-q*b1\n",
    "        c2=a2-q*b2\n",
    "        print([a0,a1,a2])\n",
    "        print([b0,b1,b2])\n",
    "        print()\n",
    "    \n",
    "        #swap rows.\n",
    "        a0=b0; a1=b1; a2=b2;\n",
    "        b0=c0; b1=c1; b2=c2\n",
    "#         print([a0,a1,a2])\n",
    "#         print([b0,b1,b2])\n",
    "        print('----------------')\n",
    "        return Blankinship(a0,a1,a2,b0,b1,b2)\n",
    "\n",
    "a=236; b=75;\n",
    "print(Blankinship(a,1,0,b,0,1))\n",
    "#print(value)"
   ]
  },
  {
   "cell_type": "code",
   "execution_count": 259,
   "metadata": {},
   "outputs": [
    {
     "data": {
      "text/plain": [
       "(5, 2, -1)"
      ]
     },
     "execution_count": 259,
     "metadata": {},
     "output_type": "execute_result"
    }
   ],
   "source": [
    "def xgcd(a, b):\n",
    "    if b == 0:\n",
    "        return a ,1, 0\n",
    "    else :\n",
    "        q, r = divmod (a, b)\n",
    "        g,x, y = xgcd(b, r)\n",
    "    return g,y, x - q * y\n",
    "\n",
    "xgcd(15,25)"
   ]
  },
  {
   "cell_type": "code",
   "execution_count": 258,
   "metadata": {},
   "outputs": [
    {
     "data": {
      "text/plain": [
       "5"
      ]
     },
     "execution_count": 258,
     "metadata": {},
     "output_type": "execute_result"
    }
   ],
   "source": [
    "2*15-1*25"
   ]
  }
 ],
 "metadata": {
  "kernelspec": {
   "display_name": "Python 3",
   "language": "python",
   "name": "python3"
  },
  "language_info": {
   "codemirror_mode": {
    "name": "ipython",
    "version": 3
   },
   "file_extension": ".py",
   "mimetype": "text/x-python",
   "name": "python",
   "nbconvert_exporter": "python",
   "pygments_lexer": "ipython3",
   "version": "3.7.10"
  }
 },
 "nbformat": 4,
 "nbformat_minor": 4
}
