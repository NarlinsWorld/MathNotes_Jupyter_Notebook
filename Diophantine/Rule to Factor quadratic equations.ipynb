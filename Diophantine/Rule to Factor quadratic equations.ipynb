{
 "cells": [
  {
   "cell_type": "code",
   "execution_count": 48,
   "id": "03870a13",
   "metadata": {},
   "outputs": [
    {
     "data": {
      "text/html": [
       "<style>\n",
       ".bigblue{\n",
       "    color: blue;\n",
       "    font-weight: bold;\n",
       "}\n",
       ".blueital{\n",
       "    color:blue;\n",
       "    font-style:italic;\n",
       "}\n",
       ".bar{\n",
       "    border-top: 2px green solid;\n",
       "}\n",
       ".green{\n",
       "    color:green;\n",
       "    text-decoration: underline;\n",
       "}\n",
       "</style>\n"
      ],
      "text/plain": [
       "<IPython.core.display.HTML object>"
      ]
     },
     "metadata": {},
     "output_type": "display_data"
    }
   ],
   "source": [
    "%%html\n",
    "<style>\n",
    ".bigblue{\n",
    "    color: blue;\n",
    "    font-weight: bold;\n",
    "}\n",
    ".blueital{\n",
    "    color:blue;\n",
    "    font-style:italic;\n",
    "}\n",
    ".bar{\n",
    "    border-top: 2px green solid;\n",
    "}\n",
    ".green{\n",
    "    color:green;\n",
    "    text-decoration: underline;\n",
    "}\n",
    "</style>"
   ]
  },
  {
   "cell_type": "markdown",
   "id": "f7190a84",
   "metadata": {},
   "source": [
    "<font size=4>\n",
    "Rules to factor a quadratic equation of the form $ax+bx+c$<br>\n",
    "<ul>\n",
    "    <li>Multiply the $a$ term by the $c$ term to get $a\\cdot c.\\quad$ Keep the sign and the value.</li>\n",
    "    <li>Find all divisors of the new number and make a list of the divisor pairs that multiply to give the number. If the number is negative, then one of the pair values must be negative. That means that each pair yields two divisors pairs where first one of the numbers in the pair is negative and then the second one in the pair is negative.</li>\n",
    "    <li>Find a pair that adds to the middle number (i.e. The two values that multiply together to give $a\\cdot c$ also add together to give $b$)</li>\n",
    "    <li>Rewrite the orginal equation, but instead of the $bx$ term, write the $x$ term as the sum of the two pair values that was found.</li>\n",
    "    <li>Split the equation down the middle and $\\mathbf{fully}$ factorise each half.</li>\n",
    "<ul>\n",
    "<span class='bigblue'>Example:</span> Let the equation be $$6x^2-7x-5$$\n",
    "<ol>\n",
    "    <li>Multiply 6 and -5 to get -30.</li>\n",
    "    <li>List the divisors of 30, and find a pair that adds to $-7$</li>\n",
    "        <table width=10%>\n",
    "            <tr><td>1</td><td>-30</td></tr>\n",
    "            <tr><td>2</td><td>-15</td></tr>\n",
    "            <tr><td>3</td><td>-10</td></tr>\n",
    "            <tr><td>5</td><td>-6</td></tr>\n",
    "            <tr><td>6</td><td>-5</td></tr>\n",
    "            <tr><td>10</td><td>-3</td></tr>\n",
    "            <tr><td>15</td><td>-2</td></tr>\n",
    "            <tr><td>30</td><td>-1</td></tr>\n",
    "        </table>\n",
    "    <li>The pair (3,-10) adds to -7.</li>\n",
    "    <li>The original equation is $$6x^2-7x-5=0$$\n",
    "    The new equation will be $$6x^2+3x-10x-5=0$$</li>\n",
    "    <li>Split it in the middle and factorise each pair of terms.\n",
    "    $$6x^2+3x = 3x(2x+1)$$\n",
    "    $$-10x-5 = -5(2x+1)$$\n",
    "    and combining those: $$(3x-5)(2x+1)$$\n",
    "    yields the factored quadratic.</li>\n",
    "    \n",
    "</ol>"
   ]
  },
  {
   "cell_type": "markdown",
   "id": "dc9c88c2",
   "metadata": {},
   "source": [
    "<font size=5>\n",
    "Goal is to write code that will produce example problems for factoring quadratics.<br>\n",
    "The method might be to select factors, multiply them together and expand, there by getting a quadratic that I know is factorable. Then we can print the quadratic and its factors on a line."
   ]
  },
  {
   "cell_type": "code",
   "execution_count": null,
   "id": "05b59258",
   "metadata": {},
   "outputs": [],
   "source": [
    "from sympy import *\n",
    "init_printing(use_latex='mathjax')\n",
    "var('a b c');\n",
    "p=28\n",
    "h=5\n",
    "α=42*pi/180\n",
    "s=(a+b+c)/2\n",
    "eq1=a+b+c-p\n",
    "eq2=sqrt(s*(s-a)*(s-b)*(s-c))-h*b/2\n",
    "soln = solve([eq1,eq2], [a,b])\n",
    "display(soln)\n",
    "\n"
   ]
  },
  {
   "cell_type": "code",
   "execution_count": 16,
   "id": "df609b25",
   "metadata": {},
   "outputs": [
    {
     "data": {
      "text/latex": [
       "$\\displaystyle x^{3} - x^{2} + x - 1$"
      ],
      "text/plain": [
       " 3    2        \n",
       "x  - x  + x - 1"
      ]
     },
     "metadata": {},
     "output_type": "display_data"
    }
   ],
   "source": [
    "x = symbols('x') \n",
    "display(expand((x - 1)*(x + I)*(x - I)))"
   ]
  },
  {
   "cell_type": "code",
   "execution_count": 47,
   "id": "8cbc1029",
   "metadata": {},
   "outputs": [
    {
     "data": {
      "text/latex": [
       "$\\displaystyle 3 x^{2} - 6 x + 3$"
      ],
      "text/plain": [
       "   2          \n",
       "3⋅x  - 6⋅x + 3"
      ]
     },
     "metadata": {},
     "output_type": "display_data"
    },
    {
     "data": {
      "text/latex": [
       "$\\displaystyle 3 x - 3$"
      ],
      "text/plain": [
       "3⋅x - 3"
      ]
     },
     "metadata": {},
     "output_type": "display_data"
    },
    {
     "data": {
      "text/latex": [
       "$\\displaystyle x - 1$"
      ],
      "text/plain": [
       "x - 1"
      ]
     },
     "metadata": {},
     "output_type": "display_data"
    },
    {
     "name": "stdout",
     "output_type": "stream",
     "text": [
      "----\n"
     ]
    },
    {
     "data": {
      "text/latex": [
       "$\\displaystyle 3 x^{2} - 14 x + 15$"
      ],
      "text/plain": [
       "   2            \n",
       "3⋅x  - 14⋅x + 15"
      ]
     },
     "metadata": {},
     "output_type": "display_data"
    },
    {
     "data": {
      "text/latex": [
       "$\\displaystyle 3 x - 5$"
      ],
      "text/plain": [
       "3⋅x - 5"
      ]
     },
     "metadata": {},
     "output_type": "display_data"
    },
    {
     "data": {
      "text/latex": [
       "$\\displaystyle x - 3$"
      ],
      "text/plain": [
       "x - 3"
      ]
     },
     "metadata": {},
     "output_type": "display_data"
    },
    {
     "name": "stdout",
     "output_type": "stream",
     "text": [
      "----\n"
     ]
    },
    {
     "data": {
      "text/latex": [
       "$\\displaystyle 4 x^{2} - 19 x - 5$"
      ],
      "text/plain": [
       "   2           \n",
       "4⋅x  - 19⋅x - 5"
      ]
     },
     "metadata": {},
     "output_type": "display_data"
    },
    {
     "data": {
      "text/latex": [
       "$\\displaystyle 4 x + 1$"
      ],
      "text/plain": [
       "4⋅x + 1"
      ]
     },
     "metadata": {},
     "output_type": "display_data"
    },
    {
     "data": {
      "text/latex": [
       "$\\displaystyle x - 5$"
      ],
      "text/plain": [
       "x - 5"
      ]
     },
     "metadata": {},
     "output_type": "display_data"
    },
    {
     "name": "stdout",
     "output_type": "stream",
     "text": [
      "----\n"
     ]
    },
    {
     "data": {
      "text/latex": [
       "$\\displaystyle 8 x^{2} + 10 x + 3$"
      ],
      "text/plain": [
       "   2           \n",
       "8⋅x  + 10⋅x + 3"
      ]
     },
     "metadata": {},
     "output_type": "display_data"
    },
    {
     "data": {
      "text/latex": [
       "$\\displaystyle 4 x + 3$"
      ],
      "text/plain": [
       "4⋅x + 3"
      ]
     },
     "metadata": {},
     "output_type": "display_data"
    },
    {
     "data": {
      "text/latex": [
       "$\\displaystyle 2 x + 1$"
      ],
      "text/plain": [
       "2⋅x + 1"
      ]
     },
     "metadata": {},
     "output_type": "display_data"
    },
    {
     "name": "stdout",
     "output_type": "stream",
     "text": [
      "----\n"
     ]
    },
    {
     "data": {
      "text/latex": [
       "$\\displaystyle 8 x^{2} + 22 x + 15$"
      ],
      "text/plain": [
       "   2            \n",
       "8⋅x  + 22⋅x + 15"
      ]
     },
     "metadata": {},
     "output_type": "display_data"
    },
    {
     "data": {
      "text/latex": [
       "$\\displaystyle 4 x + 5$"
      ],
      "text/plain": [
       "4⋅x + 5"
      ]
     },
     "metadata": {},
     "output_type": "display_data"
    },
    {
     "data": {
      "text/latex": [
       "$\\displaystyle 2 x + 3$"
      ],
      "text/plain": [
       "2⋅x + 3"
      ]
     },
     "metadata": {},
     "output_type": "display_data"
    },
    {
     "name": "stdout",
     "output_type": "stream",
     "text": [
      "----\n"
     ]
    },
    {
     "data": {
      "text/latex": [
       "$\\displaystyle 2 x^{2} + 3 x - 5$"
      ],
      "text/plain": [
       "   2          \n",
       "2⋅x  + 3⋅x - 5"
      ]
     },
     "metadata": {},
     "output_type": "display_data"
    },
    {
     "data": {
      "text/latex": [
       "$\\displaystyle x - 1$"
      ],
      "text/plain": [
       "x - 1"
      ]
     },
     "metadata": {},
     "output_type": "display_data"
    },
    {
     "data": {
      "text/latex": [
       "$\\displaystyle 2 x + 5$"
      ],
      "text/plain": [
       "2⋅x + 5"
      ]
     },
     "metadata": {},
     "output_type": "display_data"
    },
    {
     "name": "stdout",
     "output_type": "stream",
     "text": [
      "----\n"
     ]
    },
    {
     "data": {
      "text/latex": [
       "$\\displaystyle 3 x^{2} - 10 x + 3$"
      ],
      "text/plain": [
       "   2           \n",
       "3⋅x  - 10⋅x + 3"
      ]
     },
     "metadata": {},
     "output_type": "display_data"
    },
    {
     "data": {
      "text/latex": [
       "$\\displaystyle x - 3$"
      ],
      "text/plain": [
       "x - 3"
      ]
     },
     "metadata": {},
     "output_type": "display_data"
    },
    {
     "data": {
      "text/latex": [
       "$\\displaystyle 3 x - 1$"
      ],
      "text/plain": [
       "3⋅x - 1"
      ]
     },
     "metadata": {},
     "output_type": "display_data"
    },
    {
     "name": "stdout",
     "output_type": "stream",
     "text": [
      "----\n"
     ]
    },
    {
     "data": {
      "text/latex": [
       "$\\displaystyle 3 x^{2} - 18 x + 15$"
      ],
      "text/plain": [
       "   2            \n",
       "3⋅x  - 18⋅x + 15"
      ]
     },
     "metadata": {},
     "output_type": "display_data"
    },
    {
     "data": {
      "text/latex": [
       "$\\displaystyle x - 5$"
      ],
      "text/plain": [
       "x - 5"
      ]
     },
     "metadata": {},
     "output_type": "display_data"
    },
    {
     "data": {
      "text/latex": [
       "$\\displaystyle 3 x - 3$"
      ],
      "text/plain": [
       "3⋅x - 3"
      ]
     },
     "metadata": {},
     "output_type": "display_data"
    },
    {
     "name": "stdout",
     "output_type": "stream",
     "text": [
      "----\n"
     ]
    },
    {
     "data": {
      "text/latex": [
       "$\\displaystyle 6 x^{2} - 7 x - 5$"
      ],
      "text/plain": [
       "   2          \n",
       "6⋅x  - 7⋅x - 5"
      ]
     },
     "metadata": {},
     "output_type": "display_data"
    },
    {
     "data": {
      "text/latex": [
       "$\\displaystyle 2 x + 1$"
      ],
      "text/plain": [
       "2⋅x + 1"
      ]
     },
     "metadata": {},
     "output_type": "display_data"
    },
    {
     "data": {
      "text/latex": [
       "$\\displaystyle 3 x - 5$"
      ],
      "text/plain": [
       "3⋅x - 5"
      ]
     },
     "metadata": {},
     "output_type": "display_data"
    },
    {
     "name": "stdout",
     "output_type": "stream",
     "text": [
      "----\n"
     ]
    },
    {
     "data": {
      "text/latex": [
       "$\\displaystyle 8 x^{2} + 14 x + 3$"
      ],
      "text/plain": [
       "   2           \n",
       "8⋅x  + 14⋅x + 3"
      ]
     },
     "metadata": {},
     "output_type": "display_data"
    },
    {
     "data": {
      "text/latex": [
       "$\\displaystyle 2 x + 3$"
      ],
      "text/plain": [
       "2⋅x + 3"
      ]
     },
     "metadata": {},
     "output_type": "display_data"
    },
    {
     "data": {
      "text/latex": [
       "$\\displaystyle 4 x + 1$"
      ],
      "text/plain": [
       "4⋅x + 1"
      ]
     },
     "metadata": {},
     "output_type": "display_data"
    },
    {
     "name": "stdout",
     "output_type": "stream",
     "text": [
      "----\n"
     ]
    },
    {
     "data": {
      "text/latex": [
       "$\\displaystyle 8 x^{2} + 26 x + 15$"
      ],
      "text/plain": [
       "   2            \n",
       "8⋅x  + 26⋅x + 15"
      ]
     },
     "metadata": {},
     "output_type": "display_data"
    },
    {
     "data": {
      "text/latex": [
       "$\\displaystyle 2 x + 5$"
      ],
      "text/plain": [
       "2⋅x + 5"
      ]
     },
     "metadata": {},
     "output_type": "display_data"
    },
    {
     "data": {
      "text/latex": [
       "$\\displaystyle 4 x + 3$"
      ],
      "text/plain": [
       "4⋅x + 3"
      ]
     },
     "metadata": {},
     "output_type": "display_data"
    },
    {
     "name": "stdout",
     "output_type": "stream",
     "text": [
      "----\n"
     ]
    },
    {
     "data": {
      "text/latex": [
       "$\\displaystyle 12 x^{2} + 11 x - 5$"
      ],
      "text/plain": [
       "    2           \n",
       "12⋅x  + 11⋅x - 5"
      ]
     },
     "metadata": {},
     "output_type": "display_data"
    },
    {
     "data": {
      "text/latex": [
       "$\\displaystyle 3 x - 1$"
      ],
      "text/plain": [
       "3⋅x - 1"
      ]
     },
     "metadata": {},
     "output_type": "display_data"
    },
    {
     "data": {
      "text/latex": [
       "$\\displaystyle 4 x + 5$"
      ],
      "text/plain": [
       "4⋅x + 5"
      ]
     },
     "metadata": {},
     "output_type": "display_data"
    },
    {
     "name": "stdout",
     "output_type": "stream",
     "text": [
      "----\n"
     ]
    }
   ],
   "source": [
    "from sympy import *\n",
    "init_printing(use_latex='mathjax')\n",
    "x = symbols('x')\n",
    "F=[]\n",
    "for i in range(1,5):\n",
    "    for j in range(1,7,2):\n",
    "        F.append(i*x+((-1)**i)*j)\n",
    "#display(F)\n",
    "\n",
    "for i in range(len(F)):\n",
    "    display(expand(F[i-5]*F[i]),F[i-5],F[i])\n",
    "    print('----')"
   ]
  }
 ],
 "metadata": {
  "kernelspec": {
   "display_name": "Python 3 (ipykernel)",
   "language": "python",
   "name": "python3"
  },
  "language_info": {
   "codemirror_mode": {
    "name": "ipython",
    "version": 3
   },
   "file_extension": ".py",
   "mimetype": "text/x-python",
   "name": "python",
   "nbconvert_exporter": "python",
   "pygments_lexer": "ipython3",
   "version": "3.9.7"
  }
 },
 "nbformat": 4,
 "nbformat_minor": 5
}
