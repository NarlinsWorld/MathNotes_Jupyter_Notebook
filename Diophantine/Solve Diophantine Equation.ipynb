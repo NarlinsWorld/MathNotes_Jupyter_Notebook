{
 "cells": [
  {
   "cell_type": "markdown",
   "metadata": {},
   "source": [
    "<span style=\"color: blue; font-weight: bold;\">Theorem:</span> If $ax_g+by_g=g,$ where g=gcd(a,b), then $x_g$ and $y_g$ are given by Bezout's identity.  Here, $\\{gcd(a,b),x,y\\} \\Leftarrow xgcd(a,b).$<br><br>\n",
    "\n",
    "if $c$ is a multiple of $g$, then\n",
    "$$ax_g\\left(\\frac{c}{g}\\right) + by_g\\left(\\frac{c}{g}\\right)=g\\left(\\frac{c}{g} \\right)$$\n",
    "\n",
    "<span style=\"color: blue; font-weight: bold;\">Theorem:</span> <em>The Diophantine equation $ax+by=c$ has a solution (where $x$ and $y$ are integers) if and only if $c$ is a multiple of the greatest common divisor of $a$ and $b.$ Moreover, if $(x, y)$ is a solution, then the other solutions have the form $(x + kv, y - ku),$ where $k$ is an arbitrary integer, and $u$ and $v$ are the quotients of $a$ and $b$ (respectively) by the greatest common divisor of $a$ and $b.$</em><br><br>\n",
    "Given constants $a$ and $b$, solve $$ax + by = c$$ or indicate that no integer solution exists."
   ]
  },
  {
   "cell_type": "code",
   "execution_count": 65,
   "metadata": {},
   "outputs": [
    {
     "name": "stdout",
     "output_type": "stream",
     "text": [
      "General Solution:\n",
      "25*(1) + -15*(2) = -5\n",
      "Specific Solution to 25x + -15y = -25: is x = 5  y = 10\n",
      "25*5 + -15*10 = -25\n",
      "Another Solution based on x=x1+k*3  &   y=y1-k*-5 where k is 6\n",
      "25*23 + -15*40 = -25\n"
     ]
    }
   ],
   "source": [
    "import module2 as M2 #includes xgcd(a,b) output is gcd(a,b),x,y\n",
    "a=25; b=-15; c=-25\n",
    "g,x,y = M2.xgcd(a,b)\n",
    "if c%g!=0:\n",
    "    print('This input has no integer solution because gcd(a,b)=',g, 'does not divide', c)\n",
    "else:    \n",
    "    print('General Solution:')\n",
    "    eq1=str(a)+'*('+str(x)+') + '+str(b)+'*('+str(y)+') = '+str(g)\n",
    "    print(eq1)\n",
    "    eq2=str(a)+'x + '+str(b)+'y = '+str(c)+':'\n",
    "    x1=int(x*c/g);  y1=int(y*c/g)\n",
    "    eq3='x = ' + str(x1) + '  y = '+ str(y1)\n",
    "    print('Specific Solution to '+ eq2 + ' is '+eq3)\n",
    "    eq4 = str(a)+'*'+str(x1) + ' + ' + str(b)+'*'+str(y1)+' = '+str(c)\n",
    "    print(eq4)\n",
    "    u=int(a/g)\n",
    "    v=int(b/g)\n",
    "    k=int(-x1/u-g)\n",
    "    print('Another Solution based on x=x1+k*'+str(v)+'  &   y=y1-k*'+str(u)+' where k is '+str(k))\n",
    "    x2=x1+k*v\n",
    "    y2=y1-k*u\n",
    "    eq5 = str(a)+'*'+str(x2) + ' + ' + str(b)+'*'+str(y2)+' = '+str(c)\n",
    "    print(eq5)"
   ]
  },
  {
   "cell_type": "code",
   "execution_count": 34,
   "metadata": {},
   "outputs": [
    {
     "data": {
      "text/plain": [
       "(23, -1, 2)"
      ]
     },
     "execution_count": 34,
     "metadata": {},
     "output_type": "execute_result"
    }
   ],
   "source": [
    "M2.xgcd(161,92)"
   ]
  }
 ],
 "metadata": {
  "kernelspec": {
   "display_name": "Python 3",
   "language": "python",
   "name": "python3"
  },
  "language_info": {
   "codemirror_mode": {
    "name": "ipython",
    "version": 3
   },
   "file_extension": ".py",
   "mimetype": "text/x-python",
   "name": "python",
   "nbconvert_exporter": "python",
   "pygments_lexer": "ipython3",
   "version": "3.7.10"
  }
 },
 "nbformat": 4,
 "nbformat_minor": 4
}
