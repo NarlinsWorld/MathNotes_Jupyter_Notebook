{
 "cells": [
  {
   "cell_type": "code",
   "execution_count": 66,
   "id": "246d4a4b",
   "metadata": {},
   "outputs": [
    {
     "data": {
      "text/html": [
       "<style>\n",
       ".bigblue{\n",
       "   color: blue;\n",
       "   font-weight: bold;\n",
       "}\n",
       "</style>\n"
      ],
      "text/plain": [
       "<IPython.core.display.HTML object>"
      ]
     },
     "metadata": {},
     "output_type": "display_data"
    }
   ],
   "source": [
    "%%html\n",
    "<style>\n",
    ".bigblue{\n",
    "   color: blue;\n",
    "   font-weight: bold;\n",
    "}\n",
    "</style>"
   ]
  },
  {
   "cell_type": "markdown",
   "id": "5fd794e3",
   "metadata": {},
   "source": [
    "<font size=4>\n",
    "<h1> Pell Equations</h1>\n",
    "A Pell equation has the form $$x^2-dy^2=1\\quad x,y,d\\in\\mathbb{Z}.$$ Also, we don't consider cases where $d$ is the square of an integer because if $d=c^2,$ then the equation becomes $$x^2-d\\,y^2=x^2-(cy)^2=1$$ and the only squares that differ by $1$ are $0$ and $1$ leading to the trivial solutions.<br><br>\n",
    "Every non-trivial solution can be made into a positive solution by changing the sign of $x$ or $y.$<br>\n",
    "Rewrite the equation as $$x^2=dy^2+1$$ then set $y=1,2,3\\cdots $ until you reach a value where dy^2+1 is a perfect square.  Call that $x^2$ and the solution will be $(x,y).$"
   ]
  },
  {
   "cell_type": "code",
   "execution_count": 69,
   "id": "22c941d0",
   "metadata": {},
   "outputs": [
    {
     "name": "stdout",
     "output_type": "stream",
     "text": [
      "x: 1.0  y: 0    1.0\n",
      "x: 3.0  y: 2    1.0\n",
      "x: 17.0  y: 12    1.0\n",
      "x: 99.0  y: 70    1.0\n",
      "x: 577.0  y: 408    1.0\n",
      "x: 3363.0  y: 2378    1.0\n",
      "x: 19601.0  y: 13860    1.0\n"
     ]
    }
   ],
   "source": [
    "from numpy import *\n",
    "d=2\n",
    "for y in range(40000):\n",
    "    x=sqrt(d*y**2+1)\n",
    "    if x==floor(x):\n",
    "        print('x:',x,' y:',y,'  ',x**2-d*y**2) "
   ]
  },
  {
   "cell_type": "code",
   "execution_count": 75,
   "id": "e5203ce1",
   "metadata": {},
   "outputs": [
    {
     "data": {
      "text/latex": [
       "$\\displaystyle 70 \\sqrt{2} + 99$"
      ],
      "text/plain": [
       "70⋅√2 + 99"
      ]
     },
     "execution_count": 75,
     "metadata": {},
     "output_type": "execute_result"
    }
   ],
   "source": [
    "#if I take a pair from above and raise to an integer power, \n",
    "#I get a new valid pair, but I get them as the coefficients \n",
    "#of a FOIL multiplication. The new valid pair is (99,70).\n",
    "\n",
    "from sympy import *\n",
    "init_printing(use_latex='mathjax')\n",
    "var('f');\n",
    "expand((3+2*sqrt(2))**3)"
   ]
  },
  {
   "cell_type": "markdown",
   "id": "df8e73f2",
   "metadata": {},
   "source": [
    "<font size=4>\n",
    "The following data suggests that solutions are available for every d that isn't a square.<br><br>\n",
    "When we get to $d=61$ or $d=109$ there is still a solution, but the code below is too slow to find it.\n",
    "<br><br>For $d=61,$ $y=226 153 980$<br>\n",
    "    For $d=109,$ $y=15 140 424 455 100$\n",
    "    when these numbers get large, you have to float(y) in order to square them and then take a sqrt.<br><br>\n",
    " In the next cell, I have found the minimum value Pell pair for each $d$ up to $60$"
   ]
  },
  {
   "cell_type": "code",
   "execution_count": 65,
   "id": "9ced826b",
   "metadata": {},
   "outputs": [
    {
     "name": "stdout",
     "output_type": "stream",
     "text": [
      "d:  2   x:    3    y:    2    check:1\n",
      "d:  3   x:    2    y:    1    check:1\n",
      "d:  5   x:    9    y:    4    check:1\n",
      "d:  6   x:    5    y:    2    check:1\n",
      "d:  7   x:    8    y:    3    check:1\n",
      "d:  8   x:    3    y:    1    check:1\n",
      "d: 10   x:   19    y:    6    check:1\n",
      "d: 11   x:   10    y:    3    check:1\n",
      "d: 12   x:    7    y:    2    check:1\n",
      "d: 13   x:  649    y:  180    check:1\n",
      "d: 14   x:   15    y:    4    check:1\n",
      "d: 15   x:    4    y:    1    check:1\n",
      "d: 17   x:   33    y:    8    check:1\n",
      "d: 18   x:   17    y:    4    check:1\n",
      "d: 19   x:  170    y:   39    check:1\n",
      "d: 20   x:    9    y:    2    check:1\n",
      "d: 21   x:   55    y:   12    check:1\n",
      "d: 22   x:  197    y:   42    check:1\n",
      "d: 23   x:   24    y:    5    check:1\n",
      "d: 24   x:    5    y:    1    check:1\n",
      "d: 26   x:   51    y:   10    check:1\n",
      "d: 27   x:   26    y:    5    check:1\n",
      "d: 28   x:  127    y:   24    check:1\n",
      "d: 29   x: 9801    y: 1820    check:1\n",
      "d: 30   x:   11    y:    2    check:1\n",
      "d: 31   x: 1520    y:  273    check:1\n",
      "d: 32   x:   17    y:    3    check:1\n",
      "d: 33   x:   23    y:    4    check:1\n",
      "d: 34   x:   35    y:    6    check:1\n",
      "d: 35   x:    6    y:    1    check:1\n",
      "d: 37   x:   73    y:   12    check:1\n",
      "d: 38   x:   37    y:    6    check:1\n",
      "d: 39   x:   25    y:    4    check:1\n",
      "d: 40   x:   19    y:    3    check:1\n",
      "d: 41   x: 2049    y:  320    check:1\n",
      "d: 42   x:   13    y:    2    check:1\n",
      "d: 43   x: 3482    y:  531    check:1\n",
      "d: 44   x:  199    y:   30    check:1\n",
      "d: 45   x:  161    y:   24    check:1\n",
      "d: 46   x:24335    y: 3588    check:1\n",
      "d: 47   x:   48    y:    7    check:1\n",
      "d: 48   x:    7    y:    1    check:1\n",
      "d: 50   x:   99    y:   14    check:1\n",
      "d: 51   x:   50    y:    7    check:1\n",
      "d: 52   x:  649    y:   90    check:1\n",
      "d: 53   x:66249    y: 9100    check:1\n",
      "d: 54   x:  485    y:   66    check:1\n",
      "d: 55   x:   89    y:   12    check:1\n",
      "d: 56   x:   15    y:    2    check:1\n",
      "d: 57   x:  151    y:   20    check:1\n",
      "d: 58   x:19603    y: 2574    check:1\n",
      "d: 59   x:  530    y:   69    check:1\n",
      "d: 60   x:   31    y:    4    check:1\n"
     ]
    }
   ],
   "source": [
    "# for print formatting see\n",
    "#https://python-course.eu/python-tutorial/formatted-output.php\n",
    "from numpy import *\n",
    "for d in range(1,61):\n",
    "    onetime=True; y=int(-1)\n",
    "    if sqrt(d)==floor(sqrt(d)):\n",
    "        onetime=False\n",
    "    while onetime:\n",
    "        y=y+1\n",
    "        x=sqrt(d*y**2+1)\n",
    "        #print([d,y],end=\"  \")\n",
    "        \n",
    "        if x==floor(x) and x!=1:\n",
    "            #print('d:',d,'  x:',x,' y:',y,'  ',x**2-d*y**2) \n",
    "            print(\"d:{0:3d}   x:{1:5d}    y:{2:5d}    check:{3:1.0f}\".format(d,int(x),y,x**2-d*y**2))\n",
    "            onetime=False"
   ]
  },
  {
   "cell_type": "markdown",
   "id": "5d3939fc",
   "metadata": {},
   "source": [
    "<font size=4>\n",
    " <span class='bigblue'>Theorem: </span> If $x^2 − dy^2 = 1$ has solutions $(x, y)$ and $\\left(x^\\prime y^\\prime\\right)$ then the coefficients of\n",
    "$\\left(x + y\\sqrt{d}\\right)\\cdot \\left(x^\\prime + y^\\prime \\sqrt{d}\\right)$ are also a solution. \n",
    "<br><br>\n",
    "A solution to $x^2+48\\cdot y^2=1$ is $x=7, y=1$ Another solution is $x=97 y=14.$ Therefore, a third solution is\n",
    "$$\\left(7+1\\sqrt{48}\\right)\\cdot \\left(97+14\\sqrt{48}\\right)$$\n",
    "    This has to be multiplied out by foil  without losing the $\\sqrt{d}.$\n",
    "    $$\\left(7\\cdot 97+1\\cdot 14\\cdot 48\\right)+\\left(97\\sqrt{48}+7\\cdot 14\\sqrt{48}\\right)$$\n",
    "    $$\\left(679+672\\right)+\\left(97\\sqrt{48}+98\\sqrt{48}\\right)$$\n",
    "$$1351+195\\sqrt{48}$$\n",
    "    Since the answer is the coefficients, the new pair is $(1351,195)$"
   ]
  },
  {
   "cell_type": "code",
   "execution_count": 108,
   "id": "3f28486a",
   "metadata": {},
   "outputs": [
    {
     "name": "stdout",
     "output_type": "stream",
     "text": [
      "(9863382151, 1423656585)\n",
      "1\n"
     ]
    }
   ],
   "source": [
    "#newPell comes directly from the Theorem.\n",
    "def newPell(d,x,y,x_1,y_1):\n",
    "    nx=x*x_1+d*y*y_1\n",
    "    ny=y*x_1+x*y_1\n",
    "    return(nx,ny)\n",
    "\n",
    "print(newPell(48,18817,2716,262087,37829))\n",
    "print(9863382151**2-48*1423656585**2) #can't do sqrt, but can verify result"
   ]
  },
  {
   "cell_type": "code",
   "execution_count": 106,
   "id": "e62f1eed",
   "metadata": {},
   "outputs": [
    {
     "name": "stdout",
     "output_type": "stream",
     "text": [
      "x: 1.0  y: 0    1.0\n",
      "x: 7.0  y: 1    1.0\n",
      "x: 97.0  y: 14    1.0\n",
      "x: 1351.0  y: 195    1.0\n",
      "x: 18817.0  y: 2716    1.0\n",
      "x: 262087.0  y: 37829    1.0\n"
     ]
    }
   ],
   "source": [
    "from numpy import sqrt\n",
    "d=48\n",
    "for y in range(200000):\n",
    "    x=sqrt(d*y**2+1)\n",
    "    if x==floor(x):\n",
    "        print('x:',x,' y:',y,'  ',x**2-d*y**2) \n"
   ]
  },
  {
   "cell_type": "code",
   "execution_count": 110,
   "id": "fb6e9c55",
   "metadata": {},
   "outputs": [
    {
     "name": "stdout",
     "output_type": "stream",
     "text": [
      "{3: 2, 5: 1, 13: 1, 17: 1, 37: 1, 53: 1, 73: 1}\n",
      "{7: 1, 193: 1, 7300801: 1}\n"
     ]
    }
   ],
   "source": [
    "import sympy as sy\n",
    "L=factorint(1423656585)\n",
    "print(L)\n",
    "L=factorint(9863382151)\n",
    "print(L)\n"
   ]
  }
 ],
 "metadata": {
  "kernelspec": {
   "display_name": "Python 3 (ipykernel)",
   "language": "python",
   "name": "python3"
  },
  "language_info": {
   "codemirror_mode": {
    "name": "ipython",
    "version": 3
   },
   "file_extension": ".py",
   "mimetype": "text/x-python",
   "name": "python",
   "nbconvert_exporter": "python",
   "pygments_lexer": "ipython3",
   "version": "3.9.7"
  }
 },
 "nbformat": 4,
 "nbformat_minor": 5
}
