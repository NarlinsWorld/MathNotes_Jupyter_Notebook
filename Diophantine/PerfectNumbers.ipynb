{
 "cells": [
  {
   "cell_type": "markdown",
   "id": "532e3c13",
   "metadata": {},
   "source": [
    "Euclid said that $$\\text{Perfect Number}=(2^{p-1})(2^p-1)\\Leftarrow \\text{for prime p and prime term, }2^p-1$$\n",
    "$\\tau (n)$ is the number of positive divisors of $n$"
   ]
  },
  {
   "cell_type": "code",
   "execution_count": 17,
   "id": "57b5ebfa",
   "metadata": {},
   "outputs": [
    {
     "name": "stdout",
     "output_type": "stream",
     "text": [
      "2 3 6\n",
      "3 7 28\n",
      "5 31 496\n",
      "7 127 8128\n",
      "11 2047 2096128\n",
      "13 8191 33550336\n",
      "17 131071 8589869056\n",
      "19 524287 137438691328\n"
     ]
    }
   ],
   "source": [
    "import module2\n",
    "for p in range(1,20,1):\n",
    "    if module2.iss_prime(p) and (2**p-1):\n",
    "        PN=(2**(p-1))*(2**p-1)\n",
    "        print(p,(2**p-1),PN)"
   ]
  },
  {
   "cell_type": "code",
   "execution_count": 27,
   "id": "3f6bbac6",
   "metadata": {},
   "outputs": [
    {
     "name": "stdout",
     "output_type": "stream",
     "text": [
      "2 6  τ( 6 )= 4 Σ(divisors)= 6\n",
      "3 28  τ( 28 )= 6 Σ(divisors)= 28\n",
      "5 496  τ( 496 )= 10 Σ(divisors)= 496\n",
      "7 8128  τ( 8128 )= 14 Σ(divisors)= 8128\n",
      "13 33550336  τ( 33550336 )= 26 Σ(divisors)= 33550336\n",
      "17 8589869056  τ( 8589869056 )= 34 Σ(divisors)= 8589869056\n",
      "19 137438691328  τ( 137438691328 )= 38 Σ(divisors)= 137438691328\n",
      "31 2305843008139952128  τ( 2305843008139952128 )= 62 Σ(divisors)= 2305843008139952128\n"
     ]
    }
   ],
   "source": [
    "import sympy as sy\n",
    "#D=sy.divisors(n)\n",
    "for p in range(1,32,1):\n",
    "    if module2.iss_prime(p) and module2.iss_prime(2**p-1):\n",
    "        PN=(2**(p-1))*(2**p-1)\n",
    "        D=sy.divisors(PN)\n",
    "        print(p,PN,' τ(',PN,')=',len(D),'Σ(divisors)=',int(sum(D)/2))"
   ]
  }
 ],
 "metadata": {
  "kernelspec": {
   "display_name": "Python 3 (ipykernel)",
   "language": "python",
   "name": "python3"
  },
  "language_info": {
   "codemirror_mode": {
    "name": "ipython",
    "version": 3
   },
   "file_extension": ".py",
   "mimetype": "text/x-python",
   "name": "python",
   "nbconvert_exporter": "python",
   "pygments_lexer": "ipython3",
   "version": "3.11.0"
  }
 },
 "nbformat": 4,
 "nbformat_minor": 5
}
