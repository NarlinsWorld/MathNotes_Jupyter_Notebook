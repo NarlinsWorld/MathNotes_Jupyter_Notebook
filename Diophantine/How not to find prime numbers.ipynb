{
 "cells": [
  {
   "cell_type": "markdown",
   "metadata": {},
   "source": [
    "This worksheet shows my counter example that the product of a series of primes starting at $2,3,... p$ gives<br>\n",
    "$2\\cdot 3\\cdot 5\\cdots p$, and that p+1 is a new odd number, but not necessarily a prime number.<br>\n",
    "The first code cell is just a fast method to factor the numbers.<br>\n",
    "The 2nd code cell finds the counter examples."
   ]
  },
  {
   "cell_type": "code",
   "execution_count": 21,
   "metadata": {},
   "outputs": [],
   "source": [
    "import time, math\n",
    "from numpy import prod\n",
    "def is_fermat_probable_prime(n, *, trials = 32):\n",
    "    # https://en.wikipedia.org/wiki/Fermat_primality_test\n",
    "    import random\n",
    "    if n <= 16:\n",
    "        return n in (2, 3, 5, 7, 11, 13)\n",
    "    for i in range(trials):\n",
    "        if pow(random.randint(2, n - 2), n - 1, n) != 1:\n",
    "            return False\n",
    "    return True\n",
    "\n",
    "def pollard_rho_factor(N, *, trials = 16):\n",
    "    # https://en.wikipedia.org/wiki/Pollard%27s_rho_algorithm\n",
    "    import random, math\n",
    "    for j in range(trials):\n",
    "        i, stage, y, x = 0, 2, 1, random.randint(1, N - 2)\n",
    "        while True:\n",
    "            r = math.gcd(N, x - y)\n",
    "            if r != 1:\n",
    "                break\n",
    "            if i == stage:\n",
    "                y = x\n",
    "                stage <<= 1\n",
    "            x = (x * x + 1) % N\n",
    "            i += 1\n",
    "        if r != N:\n",
    "            return [r, N // r]\n",
    "    return [N] # Pollard-Rho failed\n",
    "\n",
    "def trial_division_factor(n, *, limit = None):\n",
    "    # https://en.wikipedia.org/wiki/Trial_division\n",
    "    fs = []\n",
    "    while n & 1 == 0:\n",
    "        fs.append(2)\n",
    "        n >>= 1\n",
    "    d = 3\n",
    "    while d * d <= n and limit is None or d <= limit:\n",
    "        q, r = divmod(n, d)\n",
    "        if r == 0:\n",
    "            fs.append(d)\n",
    "            n = q\n",
    "        else:\n",
    "            d += 2\n",
    "    if n > 1:\n",
    "        fs.append(n)\n",
    "    return fs\n",
    "\n",
    "def factor(n):\n",
    "    if n <= 1:\n",
    "        return []\n",
    "    if is_fermat_probable_prime(n):\n",
    "        return [n]\n",
    "    fs = trial_division_factor(n, limit = 1 << 12)\n",
    "    if len(fs) >= 2:\n",
    "        return sorted(fs[:-1] + factor(fs[-1]))\n",
    "    fs = pollard_rho_factor(n)\n",
    "    if len(fs) >= 2:\n",
    "        return sorted([e1 for e0 in fs for e1 in factor(e0)])\n",
    "    return trial_division_factor(n)\n",
    "\n",
    "def number_of_divisors(n):\n",
    "    g=[];f=[]\n",
    "    fs=factor(n)\n",
    "    g=list(set(fs))\n",
    "    for i in range(len(g)):\n",
    "        print(\"There are\", fs.count(g[i]),\"instances of\",g[i])\n",
    "        f.append(fs.count(g[i])+1)\n",
    "    #print(f)\n",
    "    nod=prod(f)\n",
    "    return nod\n",
    "\n",
    "def demo(n):\n",
    "    \n",
    "    # http://www.math.com/tables/constants/pi.htm\n",
    "    # pi = 3.\n",
    "    #     1415926535 8979323846 2643383279 5028841971 6939937510 5820974944 5923078164 0628620899 8628034825 3421170679\n",
    "    #     8214808651 3282306647 0938446095 5058223172 5359408128 4811174502 8410270193 8521105559 6446229489 5493038196\n",
    "    # n = first 190 fractional digits of Pi\n",
    "    #n =   1415926535_8979323846_2643383279_5028841971_6939937510_5820974944_5923078164_0628620899_8628034825_3421170679_8214808651_3282306647_0938446095_5058223172_5359408128_4811174502_8410270193_8521105559_6446229489\n",
    "    n=10001\n",
    "    print('Number:', n)\n",
    "    tb = time.time()\n",
    "    fs = factor(n)\n",
    "    print('All Prime Factors:', fs)\n",
    "    print('Largest Prime Factor:', f'({math.log2(fs[-1]):.02f} bits, {len(str(fs[-1]))} digits)', fs[-1])\n",
    "    print('Time Elapsed:', round(time.time() - tb, 3), 'sec')"
   ]
  },
  {
   "cell_type": "code",
   "execution_count": 29,
   "metadata": {},
   "outputs": [
    {
     "name": "stdout",
     "output_type": "stream",
     "text": [
      "[2, 3, 5, 7, 11, 13, 17, 19, 23, 29]\n",
      "3 prime\n",
      "7 prime\n",
      "31 prime\n",
      "211 prime\n",
      "2311 prime\n",
      "30031 not prime There are 1 instances of 59\n",
      "There are 1 instances of 509\n",
      "510511 not prime There are 1 instances of 97\n",
      "There are 1 instances of 19\n",
      "There are 1 instances of 277\n",
      "9699691 not prime There are 1 instances of 27953\n",
      "There are 1 instances of 347\n",
      "223092871 not prime There are 1 instances of 703763\n",
      "There are 1 instances of 317\n",
      "6469693231 not prime There are 1 instances of 571\n",
      "There are 1 instances of 331\n",
      "There are 1 instances of 34231\n"
     ]
    }
   ],
   "source": [
    "from module2 import *\n",
    "\n",
    "\n",
    "n=30; L=[]\n",
    "for i in range(2,n):\n",
    "    if iss_prime(i):\n",
    "        L.append(i)\n",
    "print(L)\n",
    "m=1\n",
    "for i in range(len(L)):\n",
    "    m=(L[i])*m\n",
    "    print(m+1,end=\" \")\n",
    "    if iss_prime(m+1):\n",
    "        print('prime')\n",
    "    else:\n",
    "        print('not prime', end=' ')\n",
    "        nod=number_of_divisors(m+1)\n",
    "\n",
    "#FACTOR THE NUMBERS        \n",
    "# print('Number:', m+1)\n",
    "\n",
    "# nod=number_of_divisors(m+1)\n",
    "# print(\"number of divisors of\",m+1,\"is\",nod)"
   ]
  },
  {
   "cell_type": "markdown",
   "metadata": {},
   "source": [
    "The code below lists all of the divisors of some number for which we know the factors. The Factors are listed in F, although they are not used.  This is not general.  "
   ]
  },
  {
   "cell_type": "code",
   "execution_count": null,
   "metadata": {},
   "outputs": [],
   "source": [
    "F=[2,2,2,3,7];\n",
    "L=[];\n",
    "for i in range(4):\n",
    "    for j in range(2):\n",
    "        for k in range(2):\n",
    "            L.append((2**i)*(3**j)*(7**k))\n",
    "L.sort()\n",
    "print(L)"
   ]
  },
  {
   "cell_type": "code",
   "execution_count": 19,
   "metadata": {},
   "outputs": [
    {
     "name": "stdout",
     "output_type": "stream",
     "text": [
      "[1, 2, 3, 4, 6, 7, 8, 12, 14, 21, 24, 28, 42, 56, 84, 168]\n"
     ]
    }
   ],
   "source": [
    "import sympy as sy\n",
    "print(sy.divisors(168))"
   ]
  },
  {
   "cell_type": "code",
   "execution_count": 25,
   "metadata": {},
   "outputs": [
    {
     "name": "stdout",
     "output_type": "stream",
     "text": [
      "Dictionary containing factors of 168 with respective multiplicities : {2: 3, 3: 1, 7: 1}\n"
     ]
    }
   ],
   "source": [
    "# import factorint() method from sympy\n",
    "from sympy import factorint\n",
    "  \n",
    "n = 168\n",
    "#n =   1415926535_8979323846_2643383279_5028841971_6939937510_5820974944_5923078164_0628620899_8628034825_3421170679_8214808651_3282306647_0938446095_5058223172_5359408128_4811174502_8410270193_8521105559_6446229489\n",
    "\n",
    "  \n",
    "# Use factorint() method \n",
    "factor_dict = factorint(n) \n",
    "      \n",
    "print(\"Dictionary containing factors of {} with respective multiplicities : {}\".\n",
    "      format(n, factor_dict))\n"
   ]
  }
 ],
 "metadata": {
  "kernelspec": {
   "display_name": "Python 3 (ipykernel)",
   "language": "python",
   "name": "python3"
  },
  "language_info": {
   "codemirror_mode": {
    "name": "ipython",
    "version": 3
   },
   "file_extension": ".py",
   "mimetype": "text/x-python",
   "name": "python",
   "nbconvert_exporter": "python",
   "pygments_lexer": "ipython3",
   "version": "3.11.0"
  }
 },
 "nbformat": 4,
 "nbformat_minor": 4
}
