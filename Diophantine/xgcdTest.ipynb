{
 "cells": [
  {
   "cell_type": "code",
   "execution_count": 12,
   "metadata": {},
   "outputs": [
    {
     "name": "stdout",
     "output_type": "stream",
     "text": [
      "x= -7   y= 4\n",
      "x inv = 16\n",
      "1\n"
     ]
    }
   ],
   "source": [
    "def xgcd(a, b):\n",
    "    '''extended Euclidean for python3. Returns gcd(a,b),x,y \n",
    "       gcd(a,b) = x*a + b*y'''\n",
    "    if b == 0:\n",
    "        return a ,1, 0\n",
    "    else :\n",
    "        q, r = divmod (a, b)\n",
    "        g,x, y = xgcd(b, r)\n",
    "    return g,y, x - q * y\n",
    "\n",
    "a=13; m=23\n",
    "g,x,y = xgcd(a,m)\n",
    "print('x=',x,'  y=',y)\n",
    "print('x inv =',x+m)\n",
    "print(a*x+m*y)\n"
   ]
  },
  {
   "cell_type": "code",
   "execution_count": null,
   "metadata": {},
   "outputs": [],
   "source": []
  }
 ],
 "metadata": {
  "kernelspec": {
   "display_name": "Python 3 (ipykernel)",
   "language": "python",
   "name": "python3"
  },
  "language_info": {
   "codemirror_mode": {
    "name": "ipython",
    "version": 3
   },
   "file_extension": ".py",
   "mimetype": "text/x-python",
   "name": "python",
   "nbconvert_exporter": "python",
   "pygments_lexer": "ipython3",
   "version": "3.9.7"
  }
 },
 "nbformat": 4,
 "nbformat_minor": 4
}
