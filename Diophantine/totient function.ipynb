{
 "cells": [
  {
   "cell_type": "markdown",
   "metadata": {},
   "source": [
    "The totient function,$\\varphi(n)$ is the number of integers $k$ in the range $1 <= k <= n$ for which the greatest common divisor $gcd(n, k)$ is equal to $1.$<br><br>\n",
    "If  $p$ is prime, then  $\\varphi(p)=p−1$. Conversely, if  $p$ is an integer such that  $\\varphi(p)=p−1$ , then  $p$ is prime."
   ]
  },
  {
   "cell_type": "code",
   "execution_count": 20,
   "metadata": {},
   "outputs": [
    {
     "name": "stdout",
     "output_type": "stream",
     "text": [
      "1 2 1   1 \n",
      "2 3 2   1 1 \n",
      "3 5 4   1 1 1 1 \n",
      "4 7 6   1 1 1 1 1 1 \n",
      "5 11 10   1 1 1 1 1 1 1 1 1 1 \n",
      "6 13 12   1 1 1 1 1 1 1 1 1 1 1 1 \n",
      "7 17 16   1 1 1 1 1 1 1 1 1 1 1 1 1 1 1 1 \n",
      "8 19 18   1 1 1 1 1 1 1 1 1 1 1 1 1 1 1 1 1 1 \n"
     ]
    }
   ],
   "source": [
    "from sympy import totient\n",
    "from numpy import gcd\n",
    "from module2 import *\n",
    "cnt=0;\n",
    "for i in range(21):\n",
    "    if iss_prime(i):\n",
    "        cnt += 1\n",
    "        print(cnt,i,totient(i),end=\"   \")\n",
    "        for j in range(1,i):\n",
    "            print(gcd(i,j),end=\" \")\n",
    "        print()\n",
    "        "
   ]
  },
  {
   "cell_type": "markdown",
   "metadata": {},
   "source": [
    "What is the total number of divisors of 5400 that are not multiples of any perfect square greater\n",
    "than 1?"
   ]
  },
  {
   "cell_type": "code",
   "execution_count": 54,
   "metadata": {},
   "outputs": [],
   "source": [
    "def get_divisors(n):\n",
    "    \"\"\"\n",
    "    :param n: positive integer.\n",
    "    :return: list of all different divisors of n.\n",
    "    \"\"\"\n",
    "    if n <= 0:\n",
    "        return []\n",
    "    divisors = [1, n]\n",
    "    for div in range(1, int(n ** 0.5 + 1)):\n",
    "        if n % div == 0:\n",
    "            divisors.extend([n // div, div])\n",
    "    return sorted(list(set(divisors)))\n",
    "\n",
    "L=get_divisors(5400)"
   ]
  },
  {
   "cell_type": "code",
   "execution_count": 68,
   "metadata": {},
   "outputs": [
    {
     "name": "stdout",
     "output_type": "stream",
     "text": [
      "[1, 2, 3, 4, 5, 6, 8, 9, 10, 12, 15, 18, 20, 24, 25, 27, 30, 36, 40, 45, 50, 54, 60, 72, 75, 90, 100, 108, 120, 135, 150, 180, 200, 216, 225, 270, 300, 360, 450, 540, 600, 675, 900, 1080, 1350, 1800, 2700, 5400]\n",
      "\n",
      "[4, 9, 16, 25, 36, 49, 64, 81, 100, 121, 144, 169, 196, 225, 256, 289, 324, 361, 400, 441, 484, 529, 576, 625, 676, 729, 784, 841, 900, 961, 1024, 1089, 1156, 1225, 1296, 1369, 1444, 1521, 1600, 1681, 1764, 1849, 1936, 2025, 2116, 2209, 2304, 2401, 2500, 2601, 2704, 2809, 2916, 3025, 3136, 3249, 3364, 3481, 3600, 3721, 3844, 3969, 4096, 4225, 4356, 4489, 4624, 4761, 4900, 5041, 5184, 5329]\n",
      "1 5329\n",
      "2 5329\n",
      "3 5329\n",
      "5 5329\n",
      "6 5329\n",
      "10 5329\n",
      "15 5329\n",
      "30 5329\n",
      "{1, 2, 3, 5, 6, 10, 15, 30}\n"
     ]
    }
   ],
   "source": [
    "from numpy import *\n",
    "#perfect squares up to sqrt(5400)\n",
    "L1=[];  L2=[]\n",
    "for i in range(2,74):\n",
    "    L1.append(i**2)\n",
    "print(L)\n",
    "print()\n",
    "print(L1)\n",
    "\n",
    "for j in range(len(L)):\n",
    "    ct=0\n",
    "    for i in range(len(L1)):\n",
    "        if L[j]%L1[i]!=0:\n",
    "            ct=ct+1\n",
    "        if ct==len(L1):\n",
    "            print(L[j],L1[i])\n",
    "            L2.append(L[j])\n",
    "thisset=(set(L2))\n",
    "print(thisset)"
   ]
  }
 ],
 "metadata": {
  "kernelspec": {
   "display_name": "Python 3",
   "language": "python",
   "name": "python3"
  },
  "language_info": {
   "codemirror_mode": {
    "name": "ipython",
    "version": 3
   },
   "file_extension": ".py",
   "mimetype": "text/x-python",
   "name": "python",
   "nbconvert_exporter": "python",
   "pygments_lexer": "ipython3",
   "version": "3.7.10"
  }
 },
 "nbformat": 4,
 "nbformat_minor": 4
}
