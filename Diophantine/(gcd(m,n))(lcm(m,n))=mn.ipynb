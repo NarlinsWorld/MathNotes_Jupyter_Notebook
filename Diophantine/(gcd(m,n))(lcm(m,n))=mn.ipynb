{
 "cells": [
  {
   "cell_type": "markdown",
   "metadata": {},
   "source": [
    "The product of two natural numbers, $m$ and $n,$ is equal to the product of\n",
    "their GCD and LCM:\n",
    "$$mn = gcd(m, n) \\cdot lcm[m, n].$$"
   ]
  },
  {
   "cell_type": "markdown",
   "metadata": {},
   "source": [
    "This proog is lifted verbatim from https://math.stackexchange.com/questions/2406406/alternate-proof-for-gcd-%c3%97-lcm-product <br><br>\n",
    "Given two numbers, $a,b$, let $d:=\\gcd(a,b)$ and then $f:=a/d$ and $g:=b/d$, giving $a=df$ and $b=dg$.\n",
    "\n",
    "Now we know that the least common multiple, $c$, of $a$ and $b$ has to be divisible by $df$ and by $dg$. We also know that $f$ and $g$ have no common factors (otherwise $d$ would be bigger by that factor). So $c=dfg$ is the smallest number that can fulfill all these requirements.\n",
    "\n",
    "Then $ab = df\\cdot dg = d\\cdot dfg = \\gcd\\cdot {\\rm lcm}$"
   ]
  }
 ],
 "metadata": {
  "kernelspec": {
   "display_name": "Python 3",
   "language": "python",
   "name": "python3"
  },
  "language_info": {
   "codemirror_mode": {
    "name": "ipython",
    "version": 3
   },
   "file_extension": ".py",
   "mimetype": "text/x-python",
   "name": "python",
   "nbconvert_exporter": "python",
   "pygments_lexer": "ipython3",
   "version": "3.7.10"
  }
 },
 "nbformat": 4,
 "nbformat_minor": 4
}
