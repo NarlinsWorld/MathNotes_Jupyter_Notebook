{
 "cells": [
  {
   "cell_type": "markdown",
   "metadata": {},
   "source": [
    "<h3> Repeating Decimals</h3>\n",
    "<font size=4>\n",
    "For relatively prime numbers, $a$ and $b$, $\\frac{a}{b}$ terminates iff $b$ has no prime factors other than $2$ or $5.$\n",
    "<br><br>The code below doesn't prove this statement.  It does however, verify it for a very small range of values.  Ignoring \"relative prime\", since computer division doesn't care, we can see that the $\\frac{a}{b}$ values that don't quickly terminate are the ones where $b$ has prime factors other than $2$ or $5.$<br><br>\n",
    "If you look at $\\frac{15}{48}$ we see a factor of $3$ in the denominator and we see that the fraction terminated.  However, that factor would have cancelled out for the relative prime numbers $\\frac{5}{16}.$\n",
    "<br><br> Getting sufficient precision in python, I had to use the decimal package and assure that my numbers were being calculated with adequate precision."
   ]
  },
  {
   "cell_type": "code",
   "execution_count": 17,
   "metadata": {},
   "outputs": [
    {
     "name": "stdout",
     "output_type": "stream",
     "text": [
      "15 16 0.9375 {2: 4}\n",
      "15 17 0.8823529411764705882352941176470588 {17: 1}\n",
      "15 18 0.8333333333333333333333333333333333 {2: 1, 3: 2}\n",
      "15 19 0.7894736842105263157894736842105263 {19: 1}\n",
      "15 20 0.75 {2: 2, 5: 1}\n",
      "15 21 0.7142857142857142857142857142857143 {3: 1, 7: 1}\n",
      "15 22 0.6818181818181818181818181818181818 {2: 1, 11: 1}\n",
      "15 23 0.6521739130434782608695652173913043 {23: 1}\n",
      "15 24 0.625 {2: 3, 3: 1}\n",
      "15 25 0.6 {5: 2}\n",
      "15 26 0.5769230769230769230769230769230769 {2: 1, 13: 1}\n",
      "15 27 0.5555555555555555555555555555555556 {3: 3}\n",
      "15 28 0.5357142857142857142857142857142857 {2: 2, 7: 1}\n",
      "15 29 0.5172413793103448275862068965517241 {29: 1}\n",
      "15 30 0.5 {2: 1, 3: 1, 5: 1}\n",
      "15 31 0.4838709677419354838709677419354839 {31: 1}\n",
      "15 32 0.46875 {2: 5}\n",
      "15 33 0.4545454545454545454545454545454545 {3: 1, 11: 1}\n",
      "15 34 0.4411764705882352941176470588235294 {2: 1, 17: 1}\n",
      "15 35 0.4285714285714285714285714285714286 {5: 1, 7: 1}\n",
      "15 36 0.4166666666666666666666666666666667 {2: 2, 3: 2}\n",
      "15 37 0.4054054054054054054054054054054054 {37: 1}\n",
      "15 38 0.3947368421052631578947368421052632 {2: 1, 19: 1}\n",
      "15 39 0.3846153846153846153846153846153846 {3: 1, 13: 1}\n",
      "15 40 0.375 {2: 3, 5: 1}\n",
      "15 41 0.3658536585365853658536585365853659 {41: 1}\n",
      "15 42 0.3571428571428571428571428571428571 {2: 1, 3: 1, 7: 1}\n",
      "15 43 0.3488372093023255813953488372093023 {43: 1}\n",
      "15 44 0.3409090909090909090909090909090909 {2: 2, 11: 1}\n",
      "15 45 0.3333333333333333333333333333333333 {3: 2, 5: 1}\n",
      "15 46 0.3260869565217391304347826086956522 {2: 1, 23: 1}\n",
      "15 47 0.3191489361702127659574468085106383 {47: 1}\n",
      "15 48 0.3125 {2: 4, 3: 1}\n",
      "15 49 0.3061224489795918367346938775510204 {7: 2}\n",
      "15 50 0.3 {2: 1, 5: 2}\n"
     ]
    }
   ],
   "source": [
    "import sympy as sy\n",
    "import numpy as np\n",
    "from decimal import *\n",
    "sy.init_printing(use_latex='mathjax')\n",
    "\n",
    "getcontext().prec=34\n",
    "a=Decimal(15)\n",
    "b=Decimal(50)\n",
    "for b in range(16,51):\n",
    "    L=sy.factorint(b)\n",
    "    print(a,b,a/b,L)\n",
    "    #print(a,b,'{0:.64f}'.format(a/b))"
   ]
  },
  {
   "cell_type": "markdown",
   "metadata": {},
   "source": [
    "<font size=5>\n",
    "<span style='color: red; font-weight: bold;'>Theorem:</span> \n",
    "<span style='color: blue;'>A rational reduced fraction, converted to a decimal in base 10 will repeat if the denominator of the reduced fraction has a prime factor other than $2$ or $5.$</span><br><br>\n",
    "<span style='color: red; font-weight: bold; font-style: italic'>Proof:</span>\n",
    "Let $\\frac{a}{b}$ be a terminating reduced fraction s.t. $a,b\\in\\mathbb{N}$ and $b>a.$ We can express\n",
    "$$\\frac{a}{b}=0.x_1x_2\\ldots x_n$$\n",
    "We can choose a value $10^n$ that will convert the decimal representation into an integer.\n",
    "    $$\\frac{a}{b}\\cdot 10^n=\\text{integer}=\\frac{a2^n5^n}{b}$$\n",
    "Because we get an integer, all of the prime factors of $b$ must be present in the numerator, otherwise, $b$ would not divide $a10^n.$ <br>\n",
    "But those prime factors of $b$ cannot be in $a$ because $gcd(a,b)=1,$ that is, the fraction was reduced. Therefore, if $b$ has any prime factors other than $2$ or $5$ then the decimal expansion will not terminate."
   ]
  }
 ],
 "metadata": {
  "kernelspec": {
   "display_name": "Python 3",
   "language": "python",
   "name": "python3"
  },
  "language_info": {
   "codemirror_mode": {
    "name": "ipython",
    "version": 3
   },
   "file_extension": ".py",
   "mimetype": "text/x-python",
   "name": "python",
   "nbconvert_exporter": "python",
   "pygments_lexer": "ipython3",
   "version": "3.7.10"
  }
 },
 "nbformat": 4,
 "nbformat_minor": 5
}
