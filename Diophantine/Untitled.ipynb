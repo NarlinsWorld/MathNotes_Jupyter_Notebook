{
 "cells": [
  {
   "cell_type": "code",
   "execution_count": 27,
   "metadata": {},
   "outputs": [
    {
     "name": "stdout",
     "output_type": "stream",
     "text": [
      "4792 1000;   4 792\n",
      "1000 792;   1 208\n",
      "792 208;   3 168\n",
      "208 168;   1 40\n",
      "168 40;   4 8\n",
      "40 8;   5 0\n",
      "[4, 1, 3, 1, 4, 5]\n"
     ]
    }
   ],
   "source": [
    "q=4792; r=1000; L=[]\n",
    "while r != 0:\n",
    "    den=r\n",
    "    print(q,r,end=';   ')\n",
    "    q,r=divmod(q,r)\n",
    "    print(q,r)\n",
    "    L.append(q)\n",
    "    q=den\n",
    "print(L)    "
   ]
  },
  {
   "cell_type": "code",
   "execution_count": 28,
   "metadata": {},
   "outputs": [
    {
     "name": "stdout",
     "output_type": "stream",
     "text": [
      "[1, 5, 1, 28, 3]\n"
     ]
    }
   ],
   "source": [
    "def continuedfractions(q,r):\n",
    "    L=[];den=r;\n",
    "    while r != 0:\n",
    "        den=r\n",
    "        #print(q,r,end=';   ')\n",
    "        q,r=divmod(q,r)\n",
    "        #print(q,r)\n",
    "        L.append(q)\n",
    "        q=den\n",
    "    return(L)\n",
    "\n",
    "print(continuedfractions(613,525))"
   ]
  },
  {
   "cell_type": "markdown",
   "metadata": {},
   "source": [
    "$$a=1+\\cfrac{1}{5+\\cfrac{1}{1+\\cfrac{1}{28+\\cfrac{1}{3}}}}$$"
   ]
  }
 ],
 "metadata": {
  "kernelspec": {
   "display_name": "Python 3",
   "language": "python",
   "name": "python3"
  },
  "language_info": {
   "codemirror_mode": {
    "name": "ipython",
    "version": 3
   },
   "file_extension": ".py",
   "mimetype": "text/x-python",
   "name": "python",
   "nbconvert_exporter": "python",
   "pygments_lexer": "ipython3",
   "version": "3.7.10"
  }
 },
 "nbformat": 4,
 "nbformat_minor": 4
}
