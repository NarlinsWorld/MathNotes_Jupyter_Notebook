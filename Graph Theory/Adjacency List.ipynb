{
 "cells": [
  {
   "cell_type": "markdown",
   "id": "0a3faf17",
   "metadata": {},
   "source": [
    "<font size=\"3\">\n",
    "<h1>Adjacency List</h1>\n",
    "<ol>\n",
    "<li>Make an adjacency list for a random \"connected\" simple graph with a limit to the maximum degree of any vertex.  How can we be sure that it is connected?</li>\n",
    "    <li>Number the vertices from 0 to n-1.</li>\n",
    "    <li>Randomly choose other vertices to have an edge between them.</li>\n",
    "    <li>If node 0 is adj to node 1, then it must be that node 1 is adj to node 0. Make this true\n",
    "    </ol>\n",
    "    <h2>Alternative</h2>\n",
    "    This turns out to be rather dificult to do.  The Goal is to find the number of graphs on $n$ unlabeled nodes. A000088. There is a website to do this up to n=20.\n",
    "    \n",
    "  <a href=\"http://combos.org/nauty\">http://combos.org/nauty</a>\n",
    "    "
   ]
  },
  {
   "cell_type": "code",
   "execution_count": 65,
   "id": "80779c32",
   "metadata": {},
   "outputs": [
    {
     "name": "stdout",
     "output_type": "stream",
     "text": [
      "[[0 2 3]\n",
      " [1 3 0]\n",
      " [2 4 1]\n",
      " [3 1 0]\n",
      " [4 1 2]]\n"
     ]
    }
   ],
   "source": [
    "import numpy as np\n",
    "import random\n",
    "def pickelements(List,num2pick):\n",
    "    return random.sample(List,num2pick)\n",
    "\n",
    "\n",
    "#n will be the number of vertices in the graph\n",
    "n=5\n",
    "#d will be the number of degrees at each vertex\n",
    "d=2\n",
    "\n",
    "L=np.zeros(shape=(n,d+1),dtype=int16) #Initialize the adjacency list as a numpy array\n",
    "for i in range(n):\n",
    "    L[i,0]=i\n",
    "\n",
    "for i in range(n):\n",
    "    K=list(range(n));  #this produces a list from 0 to n\n",
    "    K.pop(i);          #removes the ith element and repacks it.\n",
    "    a,b = pickelements(K,d) #a,b,c,... have to be as many and the degree. no less, no more\n",
    "    L[i,1]=a\n",
    "    L[i,2]=b\n",
    "#     L[i,3]=c\n",
    "    \n",
    "print(L)"
   ]
  },
  {
   "cell_type": "code",
   "execution_count": 2,
   "id": "afcf3a6c",
   "metadata": {},
   "outputs": [
    {
     "name": "stdout",
     "output_type": "stream",
     "text": [
      "[4, 3]\n",
      "[2, 3]\n",
      "[0, 1]\n",
      "[4, 2]\n",
      "[4, 2]\n",
      "[2, 3]\n",
      "[1, 0]\n",
      "[4, 2]\n",
      "[2, 1]\n",
      "[0, 3]\n"
     ]
    }
   ],
   "source": [
    "import random\n",
    "\n",
    "l = [0, 1, 2, 3, 4]\n",
    "for i in range(10):\n",
    "    print(random.sample(l, 2))"
   ]
  },
  {
   "cell_type": "markdown",
   "id": "39d1dfdd",
   "metadata": {},
   "source": [
    "<font size=\"3\">\n",
    "for the next cell, see<br>\n",
    "  <a href=\"https://www.programiz.com/dsa/graph-adjacency-list\">https://www.programiz.com/dsa/graph-adjacency-list</a>\n",
    "    <br><br>\n",
    "    Also this site on linked lists is helpful:<br>\n",
    "    <a href=\"https://realpython.com/linked-lists-python/#:~:text=Linked%20lists%20are%20an%20ordered,part%20of%20their%20own%20elements\">https://realpython.com/linked-lists-python/#:~:text=Linked%20lists%20are%20an%20ordered,part%20of%20their%20own%20elements.</a>"
   ]
  },
  {
   "cell_type": "code",
   "execution_count": 6,
   "id": "4555bcf4",
   "metadata": {},
   "outputs": [
    {
     "name": "stdout",
     "output_type": "stream",
     "text": [
      "<__main__.Graph object at 0x79790b41c0>\n",
      "Vertex 0: -> 3 -> 2 -> 1 \n",
      "\n",
      "Vertex 1: -> 2 -> 0 \n",
      "\n",
      "Vertex 2: -> 1 -> 0 \n",
      "\n",
      "Vertex 3: -> 0 \n",
      "\n",
      "Vertex 4: \n",
      "\n"
     ]
    }
   ],
   "source": [
    "\n",
    "print(graph)\n",
    "# Adjascency List representation in Python\n",
    "\n",
    "\n",
    "class AdjNode:\n",
    "    def __init__(self, value):\n",
    "        self.vertex = value\n",
    "        self.next = None\n",
    "\n",
    "\n",
    "class Graph:\n",
    "    def __init__(self, num):\n",
    "        self.V = num\n",
    "        self.graph = [None] * self.V\n",
    "\n",
    "    # Add edges\n",
    "    def add_edge(self, s, d):\n",
    "        node = AdjNode(d)\n",
    "        node.next = self.graph[s]\n",
    "        self.graph[s] = node\n",
    "\n",
    "        node = AdjNode(s)\n",
    "        node.next = self.graph[d]\n",
    "        self.graph[d] = node\n",
    "\n",
    "    # Print the graph\n",
    "    def print_agraph(self):\n",
    "        for i in range(self.V):\n",
    "            print(\"Vertex \" + str(i) + \":\", end=\"\")\n",
    "            temp = self.graph[i]\n",
    "            while temp:\n",
    "                print(\" -> {}\".format(temp.vertex), end=\"\")\n",
    "                temp = temp.next\n",
    "            print(\" \\n\")\n",
    "\n",
    "\n",
    "if __name__ == \"__main__\":\n",
    "    V = 5\n",
    "\n",
    "    # Create graph and edges\n",
    "    graph = Graph(V)\n",
    "    graph.add_edge(0, 1)\n",
    "    graph.add_edge(0, 2)\n",
    "    graph.add_edge(0, 3)\n",
    "    graph.add_edge(1, 2)\n",
    "\n",
    "    graph.print_agraph()"
   ]
  }
 ],
 "metadata": {
  "kernelspec": {
   "display_name": "Python 3 (ipykernel)",
   "language": "python",
   "name": "python3"
  },
  "language_info": {
   "codemirror_mode": {
    "name": "ipython",
    "version": 3
   },
   "file_extension": ".py",
   "mimetype": "text/x-python",
   "name": "python",
   "nbconvert_exporter": "python",
   "pygments_lexer": "ipython3",
   "version": "3.9.7"
  }
 },
 "nbformat": 4,
 "nbformat_minor": 5
}
