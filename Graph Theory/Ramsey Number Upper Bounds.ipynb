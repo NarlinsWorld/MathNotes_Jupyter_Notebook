{
 "cells": [
  {
   "cell_type": "markdown",
   "id": "e437c4b0",
   "metadata": {},
   "source": [
    "<h1> Ramsey Number Upper Bounds</h1>\n",
    "<font size=3>\n",
    "Assume $r(n,m)\\le r(n-1,m)+r(n,m-1)$ and that this gives an upper bound for the ramsey numbers. Make a table.\n",
    "\n",
    "If we know this relationship, then just being able to create the table is proof of Ramsey's Theorem."
   ]
  },
  {
   "cell_type": "code",
   "execution_count": 28,
   "id": "aeeb044c",
   "metadata": {},
   "outputs": [
    {
     "name": "stdout",
     "output_type": "stream",
     "text": [
      "n= 1 [1, 1, 1, 1, 1, 1, 1, 1, 1, 1]\n",
      "n= 2 [1, 2, 3, 4, 5, 6, 7, 8, 9, 10]\n",
      "n= 3 [1, 3, 6, 10, 15, 21, 28, 36, 45, 55]\n",
      "n= 4 [1, 4, 10, 20, 35, 56, 84, 120, 165, 220]\n",
      "n= 5 [1, 5, 15, 35, 70, 126, 210, 330, 495, 715]\n",
      "n= 6 [1, 6, 21, 56, 126, 252, 462, 792, 1287, 2002]\n",
      "n= 7 [1, 7, 28, 84, 210, 462, 924, 1716, 3003, 5005]\n",
      "n= 8 [1, 8, 36, 120, 330, 792, 1716, 3432, 6435, 11440]\n",
      "n= 9 [1, 9, 45, 165, 495, 1287, 3003, 6435, 12870, 24310]\n",
      "n= 10 [1, 10, 55, 220, 715, 2002, 5005, 11440, 24310, 48620]\n"
     ]
    }
   ],
   "source": [
    "from array import *\n",
    "rows, cols = (10, 10)\n",
    "r=[[0 for i in range(cols)] for j in range(rows)]\n",
    "for i in range(rows):\n",
    "    r[i][0]=1\n",
    "    r[0][i]=1\n",
    "\n",
    "for n in range(1,rows):\n",
    "    for m in range(1,cols):\n",
    "        r[n][m]=r[n-1][m]+r[n][m-1]\n",
    "for i in range(rows):\n",
    "    print('n=',i+1,r[i])\n"
   ]
  }
 ],
 "metadata": {
  "kernelspec": {
   "display_name": "Python 3 (ipykernel)",
   "language": "python",
   "name": "python3"
  },
  "language_info": {
   "codemirror_mode": {
    "name": "ipython",
    "version": 3
   },
   "file_extension": ".py",
   "mimetype": "text/x-python",
   "name": "python",
   "nbconvert_exporter": "python",
   "pygments_lexer": "ipython3",
   "version": "3.9.7"
  }
 },
 "nbformat": 4,
 "nbformat_minor": 5
}
