{
 "cells": [
  {
   "cell_type": "code",
   "execution_count": 2,
   "id": "3a5fb5de",
   "metadata": {},
   "outputs": [
    {
     "data": {
      "text/html": [
       "<style>\n",
       ".bigblue{\n",
       "    color: blue;\n",
       "    font-weight: bold;\n",
       "}\n",
       ".blueital{\n",
       "    color:blue;\n",
       "    font-style:italic;\n",
       "}\n",
       ".bar{\n",
       "    border-top: 2px green solid;\n",
       "}\n",
       ".green{\n",
       "    color:green;\n",
       "    text-decoration: underline;\n",
       "}\n",
       "</style>\n"
      ],
      "text/plain": [
       "<IPython.core.display.HTML object>"
      ]
     },
     "metadata": {},
     "output_type": "display_data"
    }
   ],
   "source": [
    "%%html\n",
    "<style>\n",
    ".bigblue{\n",
    "    color: blue;\n",
    "    font-weight: bold;\n",
    "}\n",
    ".blueital{\n",
    "    color:blue;\n",
    "    font-style:italic;\n",
    "}\n",
    ".bar{\n",
    "    border-top: 2px green solid;\n",
    "}\n",
    ".green{\n",
    "    color:green;\n",
    "    text-decoration: underline;\n",
    "}\n",
    "</style>"
   ]
  },
  {
   "cell_type": "markdown",
   "id": "ed093305",
   "metadata": {},
   "source": [
    "<font size=3>\n",
    "<span class='bigblue'>Definition: Euler Walk</span> An Euler Walk or Tour is a path along the edges of a connected graph which traverses all edges one time only. <br><br>An Euler walk is a path that uses every edge of the graph exactly once. If it ends where it started, it is an Euler Circuit, otherwise it is an Euler walk. An Euler circuit can be called a 'closed' Euler walk.\n",
    "    \n",
    "<span class='bigblue'>Theorem 1:</span> If a connected graph has an Euler circuit, that is, a closed Euler walk, then every vertex is even. <br><br>\n",
    "    \n",
    "<span class='blueital'>Proof:</span>A closed Euler walk begins at a vertex and ends at the same vertex, thus its degree is at least 2.  Every other vertex is passed through having both an entry and an exit, leaving each vertex with an even degree number at all times. $\\tag*{$\\blacksquare$}$ \n",
    "    \n",
    "<span class='bigblue'> Corollary 1a:</span>If a graph is connected and every vertex is even, then that graph has an Euler circuit.<br><br>\n",
    "<span class='blueital'>Proof:</span> For every path into a vertex, and since every vertex degree is even, there exists a different path out of the vertex, thus it is possible to visit every vertex and leave every vertex by a unique path, thus defining an Euler walk.  $\\tag*{$\\blacksquare$}$ \n",
    "<br><br>\n",
    "<span class='bigblue'>Theorem 2:</span> If a connected graph has an open Euler Walk, then it has exactly two odd degree vertices and those are necessarily the first and last.<br><br>\n",
    "<span class='blueital'>Proof:</span> Every Euler walk visits every vertex. At each visit to a vertex, one must enter and exit, making the degree of the vertex even. Suppose that there is a vertex with degree 1, with an exit only.  That happens at the start of the walk.  Suppose that there is a degree 1 vertex, with only an entry.  That happens at the end of the walk. So the first and last vertices must each have an odd degree, which might commonly be degree 1.  Added together, that is 2 degrees added to the total for the graph.  At every vertex,expect for the first and last,degree 3 or any odd degree, is impossible, since it implies that we enter twice and only exit once, or vice versa. That is equally true of all higher odd degrees. The figure has an example graph that has 3 degrees at the first and last vertex. An Euler walk in the figure is $$D A B C D B$$\n",
    "    <img src=\"Euler Walk.jpg\" width='200'> The path, which starts at vertex $D$ goes over every edge one time only and D had degree 3, an odd degree vertex The path ends at B, the other odd degree vertex. All other vertices must be of even degree. $\\tag*{$\\blacksquare$}$<br><br>\n",
    "    \n",
    "<span class='blueital'>Corollary 2a:</span> If a connected graph has exactly two odd degree vertices then it has an open Euler walk.<br><br>\n",
    "    \n",
    "<span class='blueital'>Proof:</span>  Suppose we have a connected graph with two odd vertices. By Theorem 2, those vertices are the first and last, thus we can create a new graph by connecting them with and edge. Having done that, every vertex in the graph is even because we added one edge end to the only two odd degree vertices. Since all vertices are now even, and by Corollary 1a, the new graph has an Euler circuit thus it the original graph must have had an open Euler walk. $\\tag*{$\\blacksquare$}$<br><br>\n",
    "    \n"
   ]
  },
  {
   "cell_type": "markdown",
   "id": "4feb5539",
   "metadata": {},
   "source": [
    "<font size=3>\n",
    "    <h3>Multigraphs</h3>\n",
    "Next we would like to prove these theorems and corollaries for multigraphs that have parallel edges.\n",
    "From both Theorem 1 and Theorem 2, we can admit multigraphs. When counting degrees for a node (vertex), we count the number of edges connected to that vertex.  That is not a change. We always count edges into a vertex as the degree of the vertex. <br><br>\n",
    "    <span class='bigblue'>Definition:</span> <span class='green'>Skein</span> - two edges connected to the same two vertices. <br><br>\n",
    "<span class='blueital'>Theorem 3:</span> Theorems 1 and 2 and Corollaries 1a and 2a are true for multigraphs.<br><br>\n",
    "<span class='blueital'>Proof:</span> Any skein can be split by splicing in a node. Having spliced a new node into all skeins, we have converted a multigraph into a simple graph. That particular conversion, doesn't change the character of a Walk, except for adding nodes that are passed through. Also, every added node has exactly a degree of 2. The theorems, 1, 2, 1a, 2a, have already been proved for the simple graph. $\\tag*{$\\blacksquare$}$ "
   ]
  },
  {
   "cell_type": "markdown",
   "id": "b2cf937b",
   "metadata": {},
   "source": [
    "<font size=3>\n",
    "<hr class='bar'>\n",
    "Let me describe a very old problem, which I first learned about in approximately 1958.  Draw the figure below on a sheet of paper.  It needn't be large.\n",
    "<img src='5-bricks-game_a.png' width='200'>\n",
    "Think of the picture as 5 bricks with mortar joints between them.  The game is to draw a continuous curve that goes through every outer brick wall and every mortar joint, <span class='green'>and doing so only 1 time.</span>  You can begin wherever you like, outside the bricks, or inside any brick.  The goal is to make the curved line go through all of the horizontal and vertical lines of the bricks. Here is an example of the game having been played. As we see in the example, the player failed as one mortar joint (the thick one) was not crossed by the player's curve.\n",
    "<img src='5-bricks-game_b.png' width='200'>\n",
    "I played this game occassionally for most of my life, having figured out in the first few years that it was impossible, but not having the tools to prove it. Here, I will prove that the game cannot be won.\n",
    "<br><br>\n",
    "The key idea for this proof is to change the way the picture looks. We will make the picture into a mathematical multigraph. For every brick in the game, we will make a vertex. Additionally, we will add a vertex to represent the region outside the bricks, since that is a place that we frequent in playing the game. Then, we will connect the vertices with edges where each edge represents a wall of the brick that has to be crossed by our pencil.\n",
    "<img src='5-bricks-game_d.png' width='300'>\n",
    "Let's review the transform. \n",
    "<ol><li>Looking at vertex $A,$ which is inside of the upper left brick:  In playing the game we need to draw a line that goes across all four walls where $A$ is.  We have given vertex $F$ as the vertex that is always outside all of the bricks.  We can see that from $A$ we need to have a line to $B$ and a line to $D$ and two lines to the outside. Therefore, in the graph, we have an edge between $A$ and $B,$ an edge between $A$ and $D$ and two parallel edges from $A$ to $F.$ In our graph, vertex $A$ has degree 4.  We can represent it like this.\n",
    "   <ul>\n",
    "   <li>$A \\longleftrightarrow B$</li>\n",
    "   <li>$A \\longleftrightarrow D$</li>\n",
    "   <li>$A \\longleftrightarrow F$</li>\n",
    "   <li>$A \\longleftrightarrow F$</li>\n",
    "   </ul>\n",
    "   </li>\n",
    "<li>For vertex B, the original drawing shows that there are 5 walls that we want to draw a curve across. Transformed to a graph, we see the following 5 edges. The degree of vertex $B$ is $5.$\n",
    "   <ul>\n",
    "   <li>$B \\longleftrightarrow A$</li>\n",
    "   <li>$B \\longleftrightarrow C$</li>\n",
    "   <li>$B \\longleftrightarrow D$</li>\n",
    "   <li>$B \\longleftrightarrow E$</li>\n",
    "   <li>$B \\longleftrightarrow F \\text{ only one edge to outside here}$ </li></ul>\n",
    "<li>The third brick has vertex $C$ and like vertex $A$ will only have $4$ edges. The degree of vertex $C$ is $4.$\n",
    "<ul>\n",
    "   <li>$C \\longleftrightarrow B$</li>\n",
    "   <li>$C \\longleftrightarrow E$</li>\n",
    "   <li>$C \\longleftrightarrow F$</li>\n",
    "   <li>$C \\longleftrightarrow F$</li></ul>    \n",
    "</li>\n",
    "<li>Bricks $D$ and $E$ each have $5$ walls to cross and thus $5$ edges. Some of these edges are redundant with ones already listed, but we aren't going to count edges, just degrees at a vertex, so there shouldn't be any confusion. The degree of vertex $D$ and $E$ is $5.$\n",
    "    <ul>\n",
    "   <li>$D \\longleftrightarrow A$</li>\n",
    "   <li>$D \\longleftrightarrow B$</li>\n",
    "   <li>$D \\longleftrightarrow E$</li>\n",
    "   <li>$D \\longleftrightarrow F$</li>\n",
    "   <li>$D \\longleftrightarrow F$</li></ul> \n",
    "   <br>\n",
    "    <ul>\n",
    "   <li>$E \\longleftrightarrow C$</li>\n",
    "   <li>$E \\longleftrightarrow B$</li>\n",
    "   <li>$E \\longleftrightarrow D$</li>\n",
    "   <li>$E \\longleftrightarrow F$</li>\n",
    "   <li>$E \\longleftrightarrow F$</li></ul>\n",
    "   \n",
    "</li>\n",
    "</ol>\n",
    "Vertex $F$ has degree $9.$  It connects to each of $A,C,D,E$ with parallel skeins but connects to node $B$ only once, since $B$ is on a brick with only $1$ external wall. <br> \n",
    "We have already proven that If a connected graph or multigraph has an open Euler Walk, then it has exactly two odd degree vertices and those are necessarily the first and last. Our multigraph has four vertices $(B,D,E)$ and $F$ with odd degree. Therefore, the multigraph cannot have an Euler Walk and therefore the puzzle presented is impossible. $\\tag*{$\\blacksquare$}$"
   ]
  },
  {
   "cell_type": "raw",
   "id": "74d89aee",
   "metadata": {},
   "source": []
  }
 ],
 "metadata": {
  "kernelspec": {
   "display_name": "Python 3 (ipykernel)",
   "language": "python",
   "name": "python3"
  },
  "language_info": {
   "codemirror_mode": {
    "name": "ipython",
    "version": 3
   },
   "file_extension": ".py",
   "mimetype": "text/x-python",
   "name": "python",
   "nbconvert_exporter": "python",
   "pygments_lexer": "ipython3",
   "version": "3.9.7"
  }
 },
 "nbformat": 4,
 "nbformat_minor": 5
}
