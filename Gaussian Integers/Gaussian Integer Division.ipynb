{
 "cells": [
  {
   "cell_type": "markdown",
   "metadata": {},
   "source": [
    "\n",
    "Gaussian Integers, $\\mathbb{Z}[i]$<br>\n",
    "$$\\mathbb{Z}[i]=\\{a+bi:(a,b)\\in \\mathbb{Z}\\}$$\n",
    "That is, these are the integer grid points of the complex plane. It is a complex number such that its real and imaginary parts are integers.<br>\n",
    "    We have to <span style=\"color: blue\">define a different norm</span> for these numbers. The usual norm, which is the modulus will not work because it will return a fraction and we want to keep this group closed.  Therefore, the norm we will use is\n",
    "    $$N(\\mathcal{z})=N(a+bi)=a^2+b^2$$ Note that this is the square of the modulus. In Geogebra, CAS, we can define the norm as $$N(\\alpha)=(x(\\alpha))^2+(y(\\alpha))^2$$ However, due to a quirck in Geogebra, it must be done as follows in CAS:\n",
    "<ol>\n",
    "    <li> Define $\\alpha := 3+2*i$</li>\n",
    "    <li> Define the norm function: $N(\\alpha)=(x(\\alpha))^2+(y(\\alpha))^2$ </li>\n",
    "    <li> Define any complex number: $\\beta := 23-7i$</li>\n",
    "    <li> Use the function. $N(\\beta)\\ (return)$</li>\n",
    "    <li> Now you can delete the $\\alpha$ definition from above and it will continue to work correctly.</li></ol>\n",
    "\n",
    "<span style=\"color: blue;\"><i style=\"font-weight:bold;\">Theorem:</i> Division: If $\\alpha$ and $\\beta$ are Gaussian integers, and $\\beta\\ne 0$, then \n",
    "$$\\alpha =\\gamma\\beta+\\rho $$ and $\\gamma$ and $\\rho$ will be also Gaussian integers and $N(rho)<N(beta).$</span><br>\n",
    "Division with Gaussian integers is similar to complex division, but the difference in definition of norm causes a complication.<br>Complex division doesn't result in integers. What we will want is to get a Gaussian integer that is as close as possible to the complex division result. <br>\n",
    "<i style=\"font-weight:bold; color:turquoise\">Example:</i> Set $\\alpha=4+5i$ and $\\beta = 3+6i$, then $$\\frac{\\alpha}{\\beta}=\\frac{42-9i}{45}=\\frac{42}{45}-\\frac{1}{5}i$$\n",
    "The closest integer to the real part is 1 (rounding up) and the closest integer to the imaginary part is zero.  In both cases, we don't have to round up or down, but rather round correctly. Be not concerned if the remainder is negative.\n",
    "Since $\\alpha=\\gamma\\beta+\\rho,$ we can write $$\\rho=\\alpha-\\gamma\\beta$$\n",
    "Now we can calculate $\\rho$\n",
    "$$\\rho=4+5i-(1+0i)(3+6i)=1-i$$\n",
    "\n",
    "Our theorem said that $N(\\rho)<N(\\beta)$\n",
    "$$N(\\rho)=1^2+(-1)^2=2$$\n",
    "$$N(\\beta)=3^2+6^2-45$$\n",
    "$$2<45\\qquad \\square$$\n",
    "        \n",
    "Let's write a python program to compute the remainder of a Gaussian integer division."
   ]
  },
  {
   "cell_type": "code",
   "execution_count": 1,
   "metadata": {},
   "outputs": [
    {
     "name": "stdout",
     "output_type": "stream",
     "text": [
      "z_1= (7-3j)    z_2= (4+3j)\n"
     ]
    },
    {
     "data": {
      "text/latex": [
       "$\\displaystyle \\frac{z_1}{z_2}=$"
      ],
      "text/plain": [
       "<IPython.core.display.Math object>"
      ]
     },
     "metadata": {},
     "output_type": "display_data"
    },
    {
     "data": {
      "text/plain": [
       "(0.76-1.32j)"
      ]
     },
     "metadata": {},
     "output_type": "display_data"
    },
    {
     "name": "stdout",
     "output_type": "stream",
     "text": [
      "s ready to truncate= (1.26-1.82j)\n",
      "s after truncation: 1   -1\n",
      "γ = (1-1j)\n",
      "remainder= r = -2j\n"
     ]
    },
    {
     "data": {
      "text/latex": [
       "$\\displaystyle z_1=\\lambda\\cdot z_2+r$"
      ],
      "text/plain": [
       "<IPython.core.display.Math object>"
      ]
     },
     "metadata": {},
     "output_type": "display_data"
    },
    {
     "name": "stdout",
     "output_type": "stream",
     "text": [
      "(7-3j)  =  (1-1j) (4+3j)  +  -2j\n",
      "N(r)= 4.0  <  25.0\n"
     ]
    }
   ],
   "source": [
    "from IPython.display import display, Math, Latex\n",
    "z_1=7-3*1j\n",
    "z_2=4+3j\n",
    "print(\"z_1=\",z_1,\"   z_2=\",z_2)\n",
    "#f=lambda a,b:b and f(b,a-b*((t:=a/b+.5+.5j).real//1+t.imag//1*1j))or a\n",
    "#First we do regular division\n",
    "t=z_1/z_2\n",
    "#print(\"This is a/b, t=\",t)\n",
    "display(Math(r'\\frac{z_1}{z_2}='),t)\n",
    "#construct the quotient by rounding t\n",
    "if t.real<0 and t.imag<0: s=t-.5-.5j\n",
    "if t.real>=0 and t.imag<0: s=t+.5-.5j\n",
    "if t.real<0 and t.imag>=0: s=t-.5+.5j\n",
    "if t.real>=0 and t.imag>=0: s=t+.5+.5j\n",
    "print(\"s ready to truncate=\",s)\n",
    "α = int(s.real) #real part of division rounded to nearest integer\n",
    "β = int(s.imag) #imaginary part of division rounded to nearest integer\n",
    "print(\"s after truncation:\",α,\" \",β)\n",
    "γ=α+β*1j\n",
    "print(\"γ =\",γ)\n",
    "r=z_1-γ*z_2\n",
    "print(\"remainder= r =\",r)\n",
    "#### Show that the norm of the remainder < norm of the divisor\n",
    "norm = lambda z: z.real**2+z.imag**2\n",
    "display(Math(r'z_1=\\lambda\\cdot z_2+r'))\n",
    "print(z_1,\" = \",γ,z_2,\" + \",r)\n",
    "print(\"N(r)=\",norm(r),\" < \",norm(z_2))"
   ]
  },
  {
   "cell_type": "markdown",
   "metadata": {},
   "source": [
    "Now tighten up the program and omit unnecessary displays.  \n",
    "The input should be two Gaussian integers.  \n",
    "The output should be their division with quotient and remainder.  "
   ]
  },
  {
   "cell_type": "code",
   "execution_count": 5,
   "metadata": {},
   "outputs": [
    {
     "name": "stdout",
     "output_type": "stream",
     "text": [
      "quotient = (-2+1j)\n",
      "remainder = (1-2j)\n"
     ]
    }
   ],
   "source": [
    "def GaussianDivide(z_1,z_2):\n",
    "    t=z_1/z_2\n",
    "    if t.real<0 and t.imag<0: s=t-.5-.5j\n",
    "    if t.real>=0 and t.imag<0: s=t+.5-.5j\n",
    "    if t.real<0 and t.imag>=0: s=t-.5+.5j\n",
    "    if t.real>=0 and t.imag>=0: s=t+.5+.5j\n",
    "    α = int(s.real) \n",
    "    β = int(s.imag)\n",
    "    γ=α+β*1j\n",
    "    r=z_1-γ*z_2\n",
    "    return γ,r  #Quotient and Remainder\n",
    "\n",
    "a = 1+8*1j\n",
    "b = 2-4*1j\n",
    "quotient,remainder=GaussianDivide(a,b)\n",
    "print(\"quotient =\",quotient)\n",
    "print(\"remainder =\",remainder)"
   ]
  }
 ],
 "metadata": {
  "kernelspec": {
   "display_name": "Python 3 (ipykernel)",
   "language": "python",
   "name": "python3"
  },
  "language_info": {
   "codemirror_mode": {
    "name": "ipython",
    "version": 3
   },
   "file_extension": ".py",
   "mimetype": "text/x-python",
   "name": "python",
   "nbconvert_exporter": "python",
   "pygments_lexer": "ipython3",
   "version": "3.9.7"
  }
 },
 "nbformat": 4,
 "nbformat_minor": 4
}
