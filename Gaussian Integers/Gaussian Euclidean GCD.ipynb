{
 "cells": [
  {
   "cell_type": "markdown",
   "metadata": {},
   "source": [
    "<span style=\"font-weight: bold; color: blue;\">Definition:</span> Greatest Common Divisor. For non-zero $z_1$ and $z_2$ in Z[i], a greatest common divisor of $z_1$ and $z_2$ is a\n",
    "common divisor with <span style=\"font-weight: bold;\">maximum</span> norm. There can be more than one GDC.\n",
    "\n",
    "<span style=\"font-weight: bold; color: blue;\">Definition:</span> When $z_1$ and $z_2$ only have unit factors in common, that is 1,-1,i,-i, then we call them <span style=\"color: red;\">relatively prime.</span>\n",
    "\n",
    "<span style=\"font-weight: bold; color: blue;\">Theorem:</span> If $z_1$ and $z_2$ are non-zero, we can recursively apply Gaussian Division to $z_1$ and $z_2$ making the divisor and remainder of one equation be the dividend and divisor of the next. This is the same as the Euclidean algorithm in $\\mathbb{Z}$ except that we are using Gaussian Division. Indeed, since we do not need the quotient to accomplish the task, we can write a Gaussian Mod(a,b) function that just return the remainder, exactly as in $\\mathbb{Z}.$"
   ]
  },
  {
   "cell_type": "code",
   "execution_count": 20,
   "metadata": {},
   "outputs": [
    {
     "name": "stdout",
     "output_type": "stream",
     "text": [
      "Ergo: GCD = (1-2j)\n"
     ]
    }
   ],
   "source": [
    "%reset -f\n",
    "#\"a GCD algorithm yields the divisor(s) with maximum norm\"\n",
    "# a=32+9*1j; b=4+11*1j\n",
    "# a=4+5*1j;  b=4-5*1j\n",
    "\n",
    "import module2 as m1\n",
    "a=11+3*1j; b=1+8*1j\n",
    "while b!=0:\n",
    "    r= m1.Gmod(a,b)\n",
    "    \n",
    "    a=b\n",
    "    b=r\n",
    "    \n",
    "print('Ergo: GCD = '+str(a))"
   ]
  },
  {
   "cell_type": "code",
   "execution_count": 18,
   "metadata": {},
   "outputs": [
    {
     "name": "stdout",
     "output_type": "stream",
     "text": [
      "(-1-13j)\n",
      "((133+38j), 0j)\n"
     ]
    }
   ],
   "source": [
    "import module2 as m1\n",
    "def GaussianGCD(a,b):\n",
    "    '''The GausssianGCD(a,b) where a and b are Gaussian Integers returns\n",
    "    a single Gaussian Integer that is the greatest common divisor.'''\n",
    "    while b!=0:\n",
    "        r= m1.Gmod(a,b)   \n",
    "        a=b\n",
    "        b=r\n",
    "    return a\n",
    "\n",
    "print(GaussianGCD(361-1767j, 39-3j))\n",
    "print(m1.GaussianDivide(361-1767j,-1-13j))"
   ]
  },
  {
   "cell_type": "markdown",
   "metadata": {},
   "source": [
    "The complex units $1,-1,i,-i$ have each other as divisors.  Gaussian integers with real or imaginary parts larger than the units have at least 8 divisors. Given a Gaussian integer $m+ni,$ its divisors at least include\n",
    "$$-m-ni,\\quad n-mi,\\quad -n+mi,\\quad m+ni $$as well as the 4 units. A Gaussian Prime, has only these 8 divisors."
   ]
  },
  {
   "cell_type": "code",
   "execution_count": 19,
   "metadata": {},
   "outputs": [
    {
     "name": "stdout",
     "output_type": "stream",
     "text": [
      "((1+5j), 0j) 26.0\n",
      "((-1-5j), 0j) 26.0\n",
      "((-3+4j), 1j) 25.0  not a GCD\n",
      "((3-4j), 1j) 25.0  not a GCD\n"
     ]
    }
   ],
   "source": [
    "%reset -f\n",
    "from module2 import *\n",
    "a=11+3*1j; b=1+8*1j\n",
    "\n",
    "print(GaussianDivide(a,1-2j), N(GaussianDivide(a,1-2j)[0]))\n",
    "print(GaussianDivide(a,-1+2j), N(GaussianDivide(a,-1+2j)[0]))\n",
    "print(GaussianDivide(a,-1-2j), N(GaussianDivide(a,-1-2j)[0]),\" not a GCD\")\n",
    "print(GaussianDivide(a,1+2j), N(GaussianDivide(a,1+2j)[0]),\" not a GCD\")"
   ]
  },
  {
   "cell_type": "code",
   "execution_count": 22,
   "metadata": {},
   "outputs": [
    {
     "data": {
      "text/plain": [
       "3j"
      ]
     },
     "execution_count": 22,
     "metadata": {},
     "output_type": "execute_result"
    }
   ],
   "source": [
    "import module2\n",
    "import importlib\n",
    "importlib.reload(module2)\n",
    "module2.Gmod(8+7j,6-2j)"
   ]
  },
  {
   "cell_type": "code",
   "execution_count": 24,
   "metadata": {},
   "outputs": [
    {
     "name": "stdout",
     "output_type": "stream",
     "text": [
      "Help on module module2:\n",
      "\n",
      "NAME\n",
      "    module2 - Functions in the module named module2.\n",
      "\n",
      "DESCRIPTION\n",
      "    N(z1) Returns the Gaussian norm of a single complex number given as the argument\n",
      "    GaussianDivide(z1,z2) Return Quotient,Remainder from division of 2 complex numbers given as arguments\n",
      "    Gmod(z1,z2) Return Remainder from z1/z2 given as arguments\n",
      "    GaussianGCD(z1,z2) Return GCD of two Gaussian Integers\n",
      "\n",
      "FUNCTIONS\n",
      "    GaussianDivide(z_1, z_2)\n",
      "        Return Quotient,Remainder from division of 2 complex numbers given as arguments.\n",
      "    \n",
      "    GaussianGCD(a, b)\n",
      "        Where a and b are Gaussian Integers returns\n",
      "        a single Gaussian Integer that is the greatest common divisor.\n",
      "    \n",
      "    Gmod(z_1, z_2)\n",
      "        Return Remainder from z1/z2 given as arguments.\n",
      "    \n",
      "    N(z_1)\n",
      "        Returns the Gaussian norm of a single complex number given as the argument.\n",
      "\n",
      "FILE\n",
      "    /home/sage/Jupyter notebooks/Gaussian Integers/module2.py\n",
      "\n",
      "\n"
     ]
    }
   ],
   "source": [
    "help(module2)"
   ]
  }
 ],
 "metadata": {
  "kernelspec": {
   "display_name": "Python 3 (ipykernel)",
   "language": "python",
   "name": "python3"
  },
  "language_info": {
   "codemirror_mode": {
    "name": "ipython",
    "version": 3
   },
   "file_extension": ".py",
   "mimetype": "text/x-python",
   "name": "python",
   "nbconvert_exporter": "python",
   "pygments_lexer": "ipython3",
   "version": "3.9.7"
  }
 },
 "nbformat": 4,
 "nbformat_minor": 4
}
