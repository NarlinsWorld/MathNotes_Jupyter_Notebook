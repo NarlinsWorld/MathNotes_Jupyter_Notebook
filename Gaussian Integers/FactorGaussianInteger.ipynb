{
 "cells": [
  {
   "cell_type": "markdown",
   "metadata": {},
   "source": [
    "$G=a+bi$ is a Gaussian Integer, denoted $Z[i],$ when $a$ and $b$ are integers.<br>\n",
    "$norm(G)=N(G)=a^2+b^2$ is how we define its norm.<br>\n",
    "$norm(I,J)=norm(I)\\cdot norm(J)$ is just a fact previously proven.<br>\n",
    "So, if you want to factor a Gaussian Integer $G,$ take advantage of the fact that any Gaussian Integer I that divides $G$ must satisfy the property that $N(I)|N(G),$ and you know how to find the factors of $N(G).$<br><br>\n",
    "\n",
    "<span style=\"font-weight: bold; color: blue;\">Definition:</span> Composite Gaussian Integer. A Gaussian integer that can be factored into 2 or more non-trivial factors.<br><br>\n",
    "Let $G=I\\cdot J.$ That is, $I$ and $J$ are two factors of $G.$ So $1<N(I)<N(G).\\ $   If $N(I)>1$ and $N(J)>1$ then we have a non-trivial factorization. <br><br>\n",
    "<span style=\"font-weight: bold; color: blue;\">Example:</span> The Gaussian Integer $2$ has factors $(1+i)(1-i).$ $N(1+i)=2$ and $N(1-i)=2$ So both of the factors have $norm>1$ therfore Gaussian integer $2$ is composite.\n",
    "\n",
    "<span style=\"font-weight: bold; color: blue;\">Definition:</span> Prime Gaussian Integer. A Gaussian integer that only admits trivial factors.<br><br>\n",
    "<span style=\"font-weight: bold; color: blue;\">Example:</span> To prove $3$ is Gaussian prime, assume $3$ is composite, thus $3=I\\cdot J.$  Apply the norm to both sides, $$9=N(I)\\cdot N(J)$$ Because the factorization is non-trivial, $N(I)>1$ and $N(J)>1.$ But $I$ cannot be greater than $3$ if $3=I\\cdot J,$ Therefore, let $I=a+bi$ and $N(I)=a^2+b^2$ and $a^2+b^2=3$ has no integer solution. We have a contradiction, so $3$ is a Gaussian prime.<br><br>\n",
    "\n",
    "<span style=\"font-weight: bold; color: red;\">Theorem:</span> If the norm of a Gaussian Integer is prime in $\\mathbb{Z},$ then the Gaussian Integer is prime in $Z[i].$<br><br>\n",
    "<span style=\"color: brown\">The converse of this theorem is not true. We just showed that $3$ is prime in $\\mathbb{Z}[i]$ but\n",
    "$$N(3+0\\cdot i)=3^2+0^2=9$$\n",
    "not a prime number in $\\mathbb{Z}$</span><br>\n",
    "What about $G=(1+i),\\quad$ then $N(G)=2$ which is prime in $\\mathbb{Z}.$ Therefore, by the theorem, $1+i$ must be prime in $\\mathbb{Z}[i].$ Similarly we could try $G=(1+2i)$ with $N(G)=5$ so (1+2i) must be prime in $\\mathbb{Z}[i].$ Can we prove the theorem?<br><br>\n"
   ]
  },
  {
   "cell_type": "markdown",
   "metadata": {},
   "source": [
    "<span style=\"font-weight: bold; color: red; font-style: italic;\">Proof:</span> Let $G,I,J\\in \\mathbb{Z}[i]$ and $G=I\\cdot J.$ We will show that any two factors of $G$ has one of the factors being trivial, thus making $G$ prime.  Assume $p$ a prime number in $\\mathbb{Z}$ such that $p=N(I)N(J).$ Since $p$ is prime, either $N(I)=1$ or $N(J)=1.$ Therefore $G$ is prime in $\\mathbb{Z}[i].\\quad\\square$"
   ]
  },
  {
   "cell_type": "markdown",
   "metadata": {},
   "source": [
    "Another way to state the theorem: <span style=\"color: green;\">A prime number $p\\in \\mathbb{Z}$ fails to be prime in $\\mathbb{Z}[i]$ iff $p$ can be written as the sum of two integer squares.</span>\n",
    "\n",
    "<span style=\"font-weight: bold; color: red;\">Lemma:</span> If a prime number $p$ can be written as the sum of two squares, then $p = 2$ or $p ≡ 1 (mod 4).$<br><br>\n",
    "<span style=\"font-weight: bold; color: red; font-style: italic;\">Proof:</span>\n",
    "Assume $p=a^2+b^2, a,b\\in\\mathbb{Z}$ $a^2$ and $b^2$ must be either 0 or 1 (mod 4). Look at this table to convince you of that. \n",
    "$$\\begin{array}{|c|c|c|}\n",
    " \\hline\n",
    " a & a^2 & a^2 mod 4 \\\\\n",
    " \\hline\n",
    " 0 & 0 & 0 \\\\\n",
    " \\hline\n",
    " 1 & 1 & 1 \\\\\n",
    " \\hline\n",
    " 2 & 4 & 0 \\\\\n",
    " \\hline\n",
    " 3 & 9 & 1 \\\\\n",
    " \\hline\n",
    " 4 & 16 & 0 \\\\\n",
    " \\hline\n",
    " 5 & 25 & 1 \\\\\n",
    " \\hline\n",
    "\\end{array}$$\n",
    "Therefore, $a^2+b^2 \\equiv 0,1,2 (mod 4).$  Also, since $p$ is prime it is not divisible by $4.$  So we have that $p\\equiv 2(mod 4),$ in which case $p=2,$ or $p\\equiv 1(mod 4).$<br><br>\n",
    "\n",
    "To continue this page 2:\n",
    "\n",
    "<a href=\"https://mathweb.ucsd.edu/~alina/oldcourses/2012/104b/zi.pdf\">https://mathweb.ucsd.edu/~alina/oldcourses/2012/104b/zi.pdf</a>\n",
    "<br>Next we can try to prove the converse of the Lemma.<br>\n",
    "<span style=\"font-weight: bold; color: red;\">Theorem:</span> A prime $p ∈ Z$ can be written as the sum of two squares if and only if $p = 2$ or $p\\equiv 1 (mod 4).$<br><br>\n",
    "Well, if $p = 2 = 1^2 + 1^2$ and all of the remaining primes in $\\mathbb{Z}$ are odd. Now\n",
    "we have to show that if $p\\equiv 1 (mod 4),$ then it can be written as the sum of two squares.<br>\n",
    "<span style=\"font-weight: bold; color: red;\">Lemma:</span>If prime $p\\equiv 1 (mod 4),$ then it divides $N = a^2 + b^2$ with $a$ and $b$ relatively prime integers. The code below lists some prime numbers which are $\\equiv 1 mod 4.$  Each of them can be written as $a^2+b^2$"
   ]
  },
  {
   "cell_type": "code",
   "execution_count": 10,
   "metadata": {},
   "outputs": [
    {
     "name": "stdout",
     "output_type": "stream",
     "text": [
      "5 13 17 29 37 41 53 61 73 89 97 101 109 113 \n",
      "1 1 2||1 2 5||1 3 10||1 4 17||1 5 26||1 6 37||1 7 50||1 8 65||1 9 82||2 1 5||2 3 13||2 5 29||2 7 53||2 9 85||3 1 10||3 2 13||3 4 25||3 5 34||3 7 58||3 8 73||4 1 17||4 3 25||4 5 41||4 7 65||4 9 97||5 1 26||5 2 29||5 3 34||5 4 41||5 6 61||5 7 74||5 8 89||5 9 106||6 1 37||6 5 61||6 7 85||7 1 50||7 2 53||7 3 58||7 4 65||7 5 74||7 6 85||7 8 113||7 9 130||8 1 65||8 3 73||8 5 89||8 7 113||8 9 145||9 1 82||9 2 85||9 4 97||9 5 106||9 7 130||9 8 145||"
     ]
    }
   ],
   "source": [
    "import sys, os\n",
    "#run the next statemennt 1 time only!!!!!!!!!!!!!!!!!!!!!!!!!!!!!!!!!!!!!!!!\n",
    "#sys.path.insert(1, '/home/sage/Jupyter_notebooks/Libraries')\n",
    "#print(sys.path) for DEBUG only.\n",
    "\n",
    "import MyLibraryModules as MLM\n",
    "import module2 as M2\n",
    "from numpy import *\n",
    "\n",
    "for i in range(1,120,2):\n",
    "    if M2.iss_prime(i):\n",
    "        if i%4==1:\n",
    "            print(i,end=\" \")\n",
    "            \n",
    "print()\n",
    "#find relatively prime integers a and b\n",
    "for a in range(1,10):\n",
    "    for b in range(1,10):\n",
    "        if gcd(a,b)==1:\n",
    "            print(a,b,a**2+b**2, end=\"||\")"
   ]
  },
  {
   "cell_type": "markdown",
   "metadata": {},
   "source": [
    "$1^2+2^2=5$<br>\n",
    "$2^2+3^2=13$<br>\n",
    "$1^2+4^2=17$<br>\n",
    "$2^2+5^2=29$<br>\n",
    "$1^2+6^2=37$<br>\n",
    "$4^2+5^2=41$<br>\n",
    "$2^2+7^2=53$<br>\n",
    "$5^2+6^2=61$<br>\n",
    "$3^2+8^2=73$<br>\n",
    "$5^2+8^2=89$<br>\n",
    "$4^2+9^2=97$<br>\n",
    "$1^2+10^2=101$<br>\n",
    "$3^2+10^2=109$<br>\n",
    "$7^2+8^2=113$<br>\n"
   ]
  },
  {
   "cell_type": "markdown",
   "metadata": {},
   "source": [
    "<span style=\"font-weight: bold; color: red;\">Lemma:</span>If a prime $p$ divides a number $N$ of the form $N = a^2+b^2,$ where $gcd(a, b) = 1,$ then $p$ itself can be written as $p = x^2+y^2$ for some $gcd(x, y) = 1.$"
   ]
  }
 ],
 "metadata": {
  "kernelspec": {
   "display_name": "Python 3 (ipykernel)",
   "language": "python",
   "name": "python3"
  },
  "language_info": {
   "codemirror_mode": {
    "name": "ipython",
    "version": 3
   },
   "file_extension": ".py",
   "mimetype": "text/x-python",
   "name": "python",
   "nbconvert_exporter": "python",
   "pygments_lexer": "ipython3",
   "version": "3.9.7"
  }
 },
 "nbformat": 4,
 "nbformat_minor": 4
}
