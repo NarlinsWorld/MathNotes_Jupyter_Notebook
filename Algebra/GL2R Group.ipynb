{
 "cells": [
  {
   "cell_type": "markdown",
   "metadata": {},
   "source": [
    "# GL(2,R)\n",
    "General Linear group of 2x2 invertible matrices with real numbers.<br>\n",
    "We would like to prove that this is a group.<br><br>\n",
    "To be invertible, we are saying that the the determinant is nonzero.\n",
    "$$\\text{Det}\\left[\\begin{array}{cc} a&b\\\\ c&d \\end{array}  \\right] \\Rightarrow ab-cd\\ne 0$$\n",
    "From linear algebra we know that $$\\text{det}\\left( AB \\right)=\\text{det}(A)\\text{det}(B)$$\n",
    "* Since both $A$ and $B$ are nonzero, their product is necessarily nonzero, and thus they are invertible, which shows that we have $\\color{red}{\\text{closure under the operation}}$.\n",
    "* The identity matrix is $$\\left[\\begin{array}{cc} 1&0\\\\ 0&1 \\end{array}  \\right]$$ and its determinant is $1$, therefore it is invertible and is in the set.\n",
    "* Associativity is inherited from the operation and is true for any 2x2 matrices. $$A(BC)=(AB)C$$\n",
    "* Next we show that the inverse exists and is in the set for all $A^{-1}$.  To form the inverse of a 2x2 matrix, \n",
    "$$A^{-1}=\\frac{1}{\\text{det}(A)}\\left[\\begin{array}{cc}d&-b\\\\ -c&a \\end{array}  \\right]$$<br>\n",
    "The 2x2 inverse is formed by 1/det(A) times a 2x2 formed from A. [We flip terms on the diagonal, and negate terms off the diagonal.]<br>\n",
    "Since $\\text{det}(A)\\ne 0$, $\\frac{1}{\\text{det}(A)}\\ne 0$\n",
    "To show that $A^{-1}$ is in the set, we have to show that its determinant is not zero. Since $\\frac{1}{\\text{det}(A)}$ is a scaler we can call it $\\alpha$ and show $$A^{-1}=\\left[\\begin{array}{cc} \\alpha d& -\\alpha b\\\\ -\\alpha c& \\alpha a \\end{array}  \\right]$$\n",
    "$$\\text{Det}(A^{-1})=\\alpha^2ad-\\alpha^2cb$$\n",
    "$$=\\alpha^2 \\text{det}( A )=\\left( \\frac{1}{\\text{det}(A)^2} \\text{det}(A)\\right)=\\frac{1}{\\text{det}(A)}$$ which we have already shown to be nonzero.  Therefore, the inverse is closed in the set. $\\qquad\\qquad\\blacksquare$"
   ]
  },
  {
   "cell_type": "code",
   "execution_count": null,
   "metadata": {},
   "outputs": [],
   "source": []
  }
 ],
 "metadata": {
  "kernelspec": {
   "display_name": "Python 3",
   "language": "python",
   "name": "python3"
  },
  "language_info": {
   "codemirror_mode": {
    "name": "ipython",
    "version": 3
   },
   "file_extension": ".py",
   "mimetype": "text/x-python",
   "name": "python",
   "nbconvert_exporter": "python",
   "pygments_lexer": "ipython3",
   "version": "3.7.3"
  }
 },
 "nbformat": 4,
 "nbformat_minor": 2
}
