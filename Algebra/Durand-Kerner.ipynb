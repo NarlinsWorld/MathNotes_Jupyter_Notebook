{
 "cells": [
  {
   "cell_type": "markdown",
   "id": "7f884a18",
   "metadata": {},
   "source": [
    "This is from John Cook. https://www.johndcook.com/blog/2022/11/14/simultaneous-root-finding/\n",
    "\n",
    "The idea of the Weierstrass-Durand-Kerner method is to imagine you already had all but one of the roots and write down the expression you’d use to find the remaining root. Take a guess at all the roots, then solve for each root as if the remaining roots were correct. Iterate this process, and hopefully the process will converge on the roots. I say “hopefully” because the method does not always converge, though it often works very well in practice [1].\n",
    "\n",
    "Lets apply this to the polynomial\n",
    "\n",
    "$$(x² + 1)(x + 2)(x – 3)$$\n",
    "\n",
    "whose roots are $i, –i, -2,$ and $3.$"
   ]
  },
  {
   "cell_type": "code",
   "execution_count": 7,
   "id": "66c23365",
   "metadata": {},
   "outputs": [
    {
     "data": {
      "text/plain": [
       "((6.162975822039155e-33+1j), (3+0j), (4.591774807899561e-41-1j), (-2+0j))"
      ]
     },
     "execution_count": 7,
     "metadata": {},
     "output_type": "execute_result"
    }
   ],
   "source": [
    "def maxabs(a, b, c, d):\n",
    "        return max(abs(a), abs(b), abs(c), abs(d))\n",
    "    \n",
    "# Find roots for the special case of a 4th degree polynomial f\n",
    "# starting with initial guess powers of g.\n",
    "def findroots(f, g):\n",
    "    p, q, r, s = 1, g, g**2, g**3\n",
    "    dp = dq = dr = ds = 1\n",
    "\n",
    "    tol = 1e-10\n",
    "    while maxabs(dp, dq, dr, ds) > tol:\n",
    "        dp = f(p)/((p-q)*(p-r)*(p-s)); p -= dp\n",
    "        dq = f(q)/((q-p)*(q-r)*(q-s)); q -= dq\n",
    "        dr = f(r)/((r-p)*(r-q)*(r-s)); r -= dr\n",
    "        ds = f(s)/((s-p)*(s-q)*(s-r)); s -= ds\n",
    "\n",
    "    return p, q, r, s\n",
    "    \n",
    "f = lambda x: (x**2 + 1)*(x + 2)*(x-3)\n",
    "findroots(f, 1 + 1.2j)"
   ]
  },
  {
   "cell_type": "markdown",
   "id": "65596839",
   "metadata": {},
   "source": [
    "this next section comes from\n",
    "https://flothesof.github.io/durand-kerner-degree-3.html"
   ]
  },
  {
   "cell_type": "code",
   "execution_count": 13,
   "id": "b40b2ca7",
   "metadata": {},
   "outputs": [
    {
     "data": {
      "text/html": [
       "<div>\n",
       "<style scoped>\n",
       "    .dataframe tbody tr th:only-of-type {\n",
       "        vertical-align: middle;\n",
       "    }\n",
       "\n",
       "    .dataframe tbody tr th {\n",
       "        vertical-align: top;\n",
       "    }\n",
       "\n",
       "    .dataframe thead th {\n",
       "        text-align: right;\n",
       "    }\n",
       "</style>\n",
       "<table border=\"1\" class=\"dataframe\">\n",
       "  <thead>\n",
       "    <tr style=\"text-align: right;\">\n",
       "      <th></th>\n",
       "      <th>p</th>\n",
       "      <th>q</th>\n",
       "      <th>r</th>\n",
       "    </tr>\n",
       "  </thead>\n",
       "  <tbody>\n",
       "    <tr>\n",
       "      <th>0</th>\n",
       "      <td>1.000000+0.000000j</td>\n",
       "      <td>0.400000+0.900000j</td>\n",
       "      <td>-0.650000+0.720000j</td>\n",
       "    </tr>\n",
       "    <tr>\n",
       "      <th>1</th>\n",
       "      <td>1.360773+2.022230j</td>\n",
       "      <td>-1.398213-0.693566j</td>\n",
       "      <td>3.037440-1.328664j</td>\n",
       "    </tr>\n",
       "    <tr>\n",
       "      <th>2</th>\n",
       "      <td>0.980963+1.347463j</td>\n",
       "      <td>-0.335252-0.644069j</td>\n",
       "      <td>2.354289-0.703394j</td>\n",
       "    </tr>\n",
       "    <tr>\n",
       "      <th>3</th>\n",
       "      <td>0.317181+0.936495j</td>\n",
       "      <td>0.490016-0.966141j</td>\n",
       "      <td>2.192804+0.029647j</td>\n",
       "    </tr>\n",
       "    <tr>\n",
       "      <th>4</th>\n",
       "      <td>0.209016+1.572742j</td>\n",
       "      <td>0.041206-1.527519j</td>\n",
       "      <td>2.749778-0.045223j</td>\n",
       "    </tr>\n",
       "    <tr>\n",
       "      <th>5</th>\n",
       "      <td>0.212971+1.394827j</td>\n",
       "      <td>0.184678-1.384565j</td>\n",
       "      <td>2.602351-0.010262j</td>\n",
       "    </tr>\n",
       "    <tr>\n",
       "      <th>6</th>\n",
       "      <td>0.206531+1.374879j</td>\n",
       "      <td>0.206001-1.374653j</td>\n",
       "      <td>2.587468-0.000226j</td>\n",
       "    </tr>\n",
       "  </tbody>\n",
       "</table>\n",
       "</div>"
      ],
      "text/plain": [
       "                    p                   q                   r\n",
       "0  1.000000+0.000000j  0.400000+0.900000j -0.650000+0.720000j\n",
       "1  1.360773+2.022230j -1.398213-0.693566j  3.037440-1.328664j\n",
       "2  0.980963+1.347463j -0.335252-0.644069j  2.354289-0.703394j\n",
       "3  0.317181+0.936495j  0.490016-0.966141j  2.192804+0.029647j\n",
       "4  0.209016+1.572742j  0.041206-1.527519j  2.749778-0.045223j\n",
       "5  0.212971+1.394827j  0.184678-1.384565j  2.602351-0.010262j\n",
       "6  0.206531+1.374879j  0.206001-1.374653j  2.587468-0.000226j"
      ]
     },
     "execution_count": 13,
     "metadata": {},
     "output_type": "execute_result"
    }
   ],
   "source": [
    "%reset -f\n",
    "import numpy as np\n",
    "import matplotlib.pyplot as plt\n",
    "%matplotlib inline\n",
    "\n",
    "def f(z):\n",
    "    \"\"\"Sample function for root finding.\"\"\"\n",
    "    return z**3 - 3*z**2 + 3*z - 5\n",
    "\n",
    "def durand_kerner(p, q, r, func):\n",
    "    \"\"\"Performs a step of the Durand-Kerner algorithm for order 3 polynomial.\"\"\"\n",
    "    pp = p - func(p) / ((p - q) * (p - r))\n",
    "    qq = q - func(q) / ((q - p) * (q - r))\n",
    "    rr = r - func(r) / ((r - p) * (r - q))\n",
    "    return pp, qq, rr\n",
    "\n",
    "p, q, r = 1 + 0*1j, 0.4 + 0.9j, -0.65 + 0.72j \n",
    "\n",
    "vals = [(p, q, r)]  \n",
    "for _ in range(6):\n",
    "    p, q, r = durand_kerner(p, q, r, f)\n",
    "    vals.append((p, q, r))\n",
    "    \n",
    "import pandas as pd\n",
    "    \n",
    "pd.DataFrame(vals, columns=['p', 'q', 'r'])"
   ]
  }
 ],
 "metadata": {
  "kernelspec": {
   "display_name": "Python 3 (ipykernel)",
   "language": "python",
   "name": "python3"
  },
  "language_info": {
   "codemirror_mode": {
    "name": "ipython",
    "version": 3
   },
   "file_extension": ".py",
   "mimetype": "text/x-python",
   "name": "python",
   "nbconvert_exporter": "python",
   "pygments_lexer": "ipython3",
   "version": "3.11.0"
  }
 },
 "nbformat": 4,
 "nbformat_minor": 5
}
