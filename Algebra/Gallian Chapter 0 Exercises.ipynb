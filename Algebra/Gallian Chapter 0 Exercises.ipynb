{
 "cells": [
  {
   "cell_type": "code",
   "execution_count": 1,
   "id": "b6b59a73",
   "metadata": {},
   "outputs": [
    {
     "data": {
      "text/html": [
       "<style>\n",
       "div{\n",
       "    font-size:medium;\n",
       "}\n",
       ".theorem{\n",
       "    color: navy;\n",
       "    font-weight: bold;\n",
       "    font-size:x-large;\n",
       "}\n",
       ".lemma {\n",
       "    color: blue;\n",
       "    font-style: italic;\n",
       "}\n",
       ".proof {\n",
       "    color: red;\n",
       "    font-weight: bold;\n",
       "}\n",
       ".red {\n",
       "    color: red;\n",
       "}\n",
       ".blue {\n",
       "    color: blue;\n",
       "}\n",
       "hr{\n",
       "    border-top: 2px purple solid;\n",
       "}\n",
       ".oomph{\n",
       "    color:darkgreen;\n",
       "    font-weight: bold;\n",
       "}\n",
       "</style>\n"
      ],
      "text/plain": [
       "<IPython.core.display.HTML object>"
      ]
     },
     "metadata": {},
     "output_type": "display_data"
    }
   ],
   "source": [
    "%%html\n",
    "<style>\n",
    "div{\n",
    "    font-size:medium;\n",
    "}\n",
    ".theorem{\n",
    "    color: navy;\n",
    "    font-weight: bold;\n",
    "    font-size:x-large;\n",
    "}\n",
    ".lemma {\n",
    "    color: blue;\n",
    "    font-style: italic;\n",
    "}\n",
    ".proof {\n",
    "    color: red;\n",
    "    font-weight: bold;\n",
    "}\n",
    ".red {\n",
    "    color: red;\n",
    "}\n",
    ".blue {\n",
    "    color: blue;\n",
    "}\n",
    "hr{\n",
    "    border-top: 2px purple solid;\n",
    "}\n",
    ".oomph{\n",
    "    color:darkgreen;\n",
    "    font-weight: bold;\n",
    "}\n",
    "</style>"
   ]
  },
  {
   "cell_type": "markdown",
   "id": "b397c499",
   "metadata": {},
   "source": [
    "<hr>\n",
    "<font size=\"4\">\n",
    "\n",
    "<span class=\"proof\">Problem 0.01 (Gallian):</span> For $n=5,8,12,20,25,$ find all positive integers less than $n$ and coprime to $n.$\n",
    "\n",
    "<span class=\"proof\">Solution:</span> For $n=5$ which is a prime number, it is only divisible by $1$ and $5.$ Therefore the coprime integers less than $5$ are $1,2,3,4.$\n",
    "\n",
    "For $n=8$ we will look through integers $\\{2,3,4,5,6,7\\}$ for coprimes to $8.$ These are $1,3,5,7.$ We need to notice that only the primes and $1$ had to be considered. \n",
    "    \n",
    "For $n=12$ we will only search through primes and exclude divisors of $12.$ The divisors of $12=\\{1,2,3,4,6,12\\}.$  That leaves the following set both less than $12$ and coprime with $12.$ $S=\\{1,5,7,11\\}.$ Again note that if we had only considered prime numbers less than $12$ we would have gotten the corrected answer.\n",
    "    \n",
    "For $n=20$ we will search through primes less than 20 and then exclude divisors of $20.$ For $p<20$ we have $\\{1,2,3,5,7,11,13,17,19\\}.$ Excluding $2\\text{ and }5,$ a divisor of $20$ we get $S=\\{1,3,7,11,13,17,19  \\}.$\n",
    "\n",
    "For $n=25,$ we have to consider even numbers too, since they could be coprime with 25. It is faster to consider all integers less than $25$ except for the divisors of $25.$ Divisors $D=\\{1,5,25\\}$ and that's all, but multiples of $5$ which are less than $25$ must also be excluded.\n",
    "So $S=\\{1,2,3,4,6,7,8,9,11,12,13,14,16,17,18,19,21,22,23,24\\}$\n",
    "\n",
    "Below is the python code to find the coprimes of $25.$"
   ]
  },
  {
   "cell_type": "code",
   "execution_count": 3,
   "id": "03b948e1",
   "metadata": {},
   "outputs": [
    {
     "name": "stdout",
     "output_type": "stream",
     "text": [
      "1, 2, 3, 4, 6, 7, 8, 9, 11, 12, 13, 14, 16, 17, 18, 19, 21, 22, 23, 24, "
     ]
    }
   ],
   "source": [
    "from sympy import gcd,isprime\n",
    "for i in range(26):\n",
    "    if gcd(i,25)==1:\n",
    "        print(i, end=\", \")"
   ]
  },
  {
   "cell_type": "markdown",
   "id": "eb1c35fd",
   "metadata": {},
   "source": [
    "<hr>\n",
    "<font size=\"4\">\n",
    "<span class=\"proof\">Problem 0.02 (Gallian):</span>Find the $$gcd(2^4\\cdot 3^2\\cdot 5\\cdot 7^2,\\ 2\\cdot 3^3\\cdot 7\\cdot 11)$$ and $$lcm(2^3\\cdot 3^2\\cdot 5,\\ \\ 2\\cdot 3^3\\cdot 7\\cdot 11)$$\n",
    "    \n",
    "<span class=\"proof\">Solution:</span> The greatest common divisor of two integers includes the multiplication of all common factors.  So we have $$gcd(2^4\\cdot 3^2\\cdot 5\\cdot 7^2,\\ 2\\cdot 3^3\\cdot 7\\cdot 11)=\\{2\\cdot 3^2\\cdot 7 \\}=126$$\n",
    "    \n",
    "The least common multiple of two integers includes at least one copy of all factors, including multiplicity, but it does not double count between the two integers. So $$lcm(2^3\\cdot 3^2\\cdot 5,\\ \\ 2\\cdot 3^3\\cdot 7\\cdot 11)=\\{2^3\\cdot 3^3\\cdot 5\\cdot 7\\cdot 11 \\}=83160$$"
   ]
  },
  {
   "cell_type": "markdown",
   "id": "43a35956",
   "metadata": {},
   "source": [
    "<hr>\n",
    "<font size=\"4\">\n",
    "<span class=\"proof\">Problem 0.03 (Gallian):</span>\n",
    "Determine $51 \\bmod 13, 342 \\bmod 85, 62 \\bmod 15, 10 \\bmod 15, (82\\cdot 73)\n",
    "\\bmod 7, (51 + 68) \\bmod 7, (35 \\cdot 24) \\bmod 11,\\text{ and }(47 + 68) \\bmod 11.$\n",
    "    \n",
    "<span class=\"proof\">Solution</span> In each case, we are asked for the remainder after doing the division.\n",
    "\n",
    "$$\\begin{align}\n",
    "51\\bmod 13 &= 12\\\\\n",
    "342\\bmod 85 &= 2\\\\\n",
    "62\\bmod 15 &= 2\\\\\n",
    "10\\bmod 15 &= 10\\\\\n",
    "(82\\cdot 73)\\bmod 7 &= 1\\\\\n",
    "(51+68)\\bmod 7 &= 0 = \\left[(51\\bmod 7)+(68\\bmod 7)\\right]\\bmod 7\\\\\n",
    "(35\\cdot 24)\\bmod 11 &= 4\\\\\n",
    "(47+68)\\bmod 11 &= 5\n",
    "\\end{align}$$"
   ]
  },
  {
   "cell_type": "markdown",
   "id": "e1d68a5d",
   "metadata": {},
   "source": [
    "<hr>\n",
    "<font size=\"4\">\n",
    "<span class=\"proof\">Problem 0.04 (Gallian):</span> Find integers $s$ and $t$ such that $1=7s+11t.$  Show that $s$ and $t$ are not unique.\n",
    "    \n",
    "<span class=\"proof\">Solution:</span> Merely by inspection (guessing) we see that $$1=-(3)\\cdot 7+(2)\\cdot 11$$  With only a little more guessing, we see $$1=(8)\\cdot 7 +(-5)\\cdot 11$$ Now we will notice that the $(8)$ came from $-3+11$ and that the $5$ came from $2-7.$<br>\n",
    "If we did this again, $8+11=19$ and $-5-7=-12$ Does this pair work?\n",
    "$$(19)7+(-12)11=1$$ Again:$19+11=30,\\qquad -12-7=-19$\n",
    "$$(30)7+(-19)11=1$$ It appears that besides showing that $s$ and $t$ are not unique, we may have also found a method for obtaining other values.\n",
    "\n",
    "Having found one set $\\{s,t \\}$, where $gcd(a,b)=a\\cdot s+b\\cdot t$ we can find other pairs as \n",
    "$$\\begin{align}\n",
    "s_1 &=s+b,\\quad t_1 &=t-a\\\\\n",
    "s_2 &= s_1+b,\\quad t_2 &=t_1-a\\\\\n",
    "s_3 &= s_2+b,\\quad t_3 &=t_2-a\n",
    "\\end{align}$$\n",
    "    \n",
    "By and by, the first set $\\{s,t\\}$ can be found with the extended Euclidean algorithm."
   ]
  },
  {
   "cell_type": "markdown",
   "id": "3f1e92c8",
   "metadata": {},
   "source": [
    "<hr>\n",
    "<font size=\"4\">\n",
    "<span class=\"proof\">Problem 0.05 (Gallian):</span>\n",
    "Show that if $a$ and $b$ are positive integers, then $ab= lcm(a, b)\\cdot gcd(a, b).$\n",
    "    \n",
    "<span class=\"proof\">Proof:</span> By definition, the $gcd(a,b)$ is the product of all common factors from $a$ and $b.$ Let \n",
    "$$\\begin{align}\n",
    "a&=(f_1f_2\\cdots f_n)\\\\\n",
    "b&=(f_2f_3\\cdots f_{n+1})\n",
    "\\end{align}$$\n",
    "Then $$gcd(a,b)=(f_2f_3\\cdots f_n)$$ which excludes $f_1$ and $f_{n+1}$\n",
    "    \n",
    "Meanwhile, the $lcm(a,b)$ contains one copy of each factor in $a$ and $b$ so $$lcm(a,b)=(f_1f_2f_3\\cdots f_nf_{n+1})$$\n",
    "\n",
    "$$\\begin{align}\n",
    "a\\cdot b &= (f_1 f_2^2 f_3^2\\cdots f_n^2\\cdot f_{n+1})\\\\\n",
    "gcd(a,b)\\cdot lcm(a,b) &= (f_1 f_2^2 f_3^2\\cdots f_n^2\\cdot f_{n+1})\n",
    "\\end{align}$$    \n",
    "\n",
    "We see that the factors of the $gcd(a,b)$ are complementary to the factors of the $lcm(a,b)$ When multiplied, the $gcd(a,b) \\cdot lcm(a,b)=a\\cdot b.$\n"
   ]
  },
  {
   "cell_type": "markdown",
   "id": "9d07efcd",
   "metadata": {},
   "source": [
    "<hr>\n",
    "<font size=\"4\">\n",
    "<span class=\"proof\">Problem 0.06 (Gallian):</span>\n",
    "Suppose $a$ and $b$ are integers that divide integer $c.$ If $a$ and $b$ are coprime, show that $ab$ divides $c.$ Show by example, that if $a$ and $b$ are NOT coprime, then $ab$ need not divide $c.$\n",
    "    \n",
    "<span class=\"proof\">Proof:</span> By Bezout, because $gcd(a,b)=1,$ there exists integers $s$ and $t$ such that $as+bt=1.$  Multiplying thru by $c$ we get $$cas+cbt=c.\\tag{1}$$ \n",
    "By the division algorithm and from $a\\mid c$ and $b\\mid c$, $$c=ma\\qquad c=nb \\tag{2}$$ for some integers $m$ and $n$\n",
    "Substituting (2) into (1): $$\\begin{align}\n",
    "nbas+mabt &= c\\\\\n",
    "ab(ns+mt) &= c\\\\\n",
    "\\end{align}$$ \n",
    "Since $ab$ divides the left side, it also divides the right side, so $$ab\\mid c.$$\n",
    "    \n",
    "A counter example for when $a$ and $b$ are NOT coprime.<br>\n",
    "  $$a=5\\quad b=10\\quad c=20$$\n",
    "  $$5\\mid 20\\quad 10\\mid 20\\quad (5\\cdot 10)\\nmid 20$$"
   ]
  },
  {
   "cell_type": "markdown",
   "id": "7c6c4279",
   "metadata": {},
   "source": [
    "<hr>\n",
    "<font size=\"4\">\n",
    "<span class=\"proof\">Problem 0.07 (Gallian):</span>\n",
    "For $\\{a,b,n\\}\\in\\mathbb{Z},$ prove that $a\\bmod n=b\\bmod n\\iff n\\mid (a-b)$\n",
    "    \n",
    "<span class=\"proof\">Proof:</span> We need to prove that $$a\\equiv b \\pmod{n}\\iff n\\mid (a-b)$$\n",
    "For the 'if' direction,$$a=nq_1+r\\qquad b=nq_2+r$$\n",
    " $$\\begin{align}\n",
    "(a-b) &= nq_1+r-nq_2-r\\\\\n",
    "&=n(q_1-q_2)\\\\\n",
    "\\implies \\frac{a-b}{n} &= q_1-q_2\n",
    "\\end{align}$$\n",
    "and since $q_1-q_2$ is in $\\mathbb{Z},$ we have shown that $n\\mid (a-b).$\n",
    "    \n",
    "For the 'only if' direction:\n",
    "    \n",
    "Suppose $n\\mid(a-b)$ so there exists $x\\in\\mathbb{Z}$ with $(a-b)=xn.$ That is, $$a=xn+b \\tag{1}$$\n",
    "Suppose $r$ is the remainder of $b\\mid n.$ That is, $$\\frac{b}{n}\\implies b=nq+r \\tag{2}$$\n",
    "    \n",
    "We will show that $r$ is also the remainder when $n\\mid a.$\n",
    "  $$\\begin{align}\n",
    "  \\frac{a}{n}\\implies a&=b+xn\\qquad\\text{from (1)}\\\\  \n",
    "  &=nq+r+xn \\qquad\\text{by substitution of (2)}\\\\\n",
    "  &=n(q+x)+r\n",
    "  \\end{align}$$\n",
    "Thus we see that $r$ is the remainder of $\\frac{b}{n} \\text{ see (2)}\\text{ and }\\frac{a}{n}.$ \n",
    "  "
   ]
  },
  {
   "cell_type": "markdown",
   "id": "554eae75",
   "metadata": {},
   "source": [
    "<hr>\n",
    "<font size=\"4\">\n",
    "<span class=\"proof\">Problem 0.08 (Gallian):</span>\n",
    "Let $d=gcd(a,b).$  If $a=da'$ and $b=db'$ show that $gcd(a',b')=1$\n",
    "    \n",
    "<span class=\"proof\">Proof:</span> We want to show that $$gcd\\left(\\frac{a}{d},\\frac{b}{d}\\right)=1 \\tag{1}$$\n",
    "$$\\begin{align}\n",
    "d\\mid a &\\implies a=dk_1\\\\\n",
    "d\\mid b &\\implies b=dk_2 \\tag{2}\n",
    "\\end{align}$$\n",
    "    \n",
    "The divisors on any integer are unique,  that is, by definition they do not prossess multiplicity.  Therefore, the gcd of any two integers is unique, it being a divisor of both numbers.\n",
    "    \n",
    "We not substitute $dk_1$ and $dk_2$ for $a$ and $b$ in (1).\n",
    "$$gcd\\left(\\frac{dk_1}{d},\\frac{dk_2}{d}  \\right)=gcd(k_1,k_2)$$\n",
    " Let $$d'=gcd(k_1,k_2) \\tag{3}$$\n",
    "    \n",
    "By the definition of gcd() as a divisor, $d'\\mid k_1$ and $d'\\mid k_2.$  <br>So for some $p,q\\in\\mathbb{Z},$ \n",
    "  $$\\begin{align}\n",
    "  k_1&=pd' \\text{ and}\\\\\n",
    "  k_2&=qd'.\\\\\n",
    "  \\tag{4}\n",
    "  \\end{align}$$\n",
    "Therefore, \n",
    "    $$\\begin{align}\n",
    "    a&=dpd'\\\\\n",
    "    b&=dqd' \\text{ by substitution of }k_1,k_2\\text{ into (2)}\n",
    "    \\end{align}$$\n",
    "  Which shows that $dd'$ divides $a$ and $b.$\n",
    "    \n",
    "  if $d'>1$ then $d$ could not be the greatest common divisor of $a,b$ since $dd'$ would be a greater divisor.  Therefore, $d'=1$ and by (3) the statement is proved."
   ]
  },
  {
   "cell_type": "markdown",
   "id": "5667f68e",
   "metadata": {},
   "source": [
    "<hr>\n",
    "<font size=\"4\">\n",
    "<span class=\"proof\">Problem 0.09 (Gallian):</span>\n",
    "Let $n$ be a fixed positive integer greater than $1.$ If $(a \\bmod n) = a'$ and $(b \\bmod n) = b',$ prove that<br> $\\left[(a+b) \\bmod n\\right] = \\left[(a'+b')\\bmod n\\right]$ and that $\\left[(a\\cdot b)\\bmod n\\right] = \\left[(a' \\cdot b)\\bmod n\\right].$<br><br>\n",
    "    \n",
    "<span class=\"proof\">Proof:</span> In the problem statement, $a'$ and $b'$ are remainders mod $n.$ $$a=nq+a'\\qquad b=nq_1+b'$$ \n",
    "For the summation,\n",
    "$$\\begin{align}\n",
    "(a+b) &\\equiv (nq+a')+(nq_1+b')\\pmod{n}\\\\\n",
    "&\\equiv n(q+q_1)+(a'+b') \\pmod{n}\n",
    "\\end{align}$$\n",
    "Since $q+q_1$ is integer, $n(q+q_1)$ has no remainder after division by $n$,\n",
    "$$(a+b)\\equiv (a'+b')\\pmod{n}\\tag*{$\\square$}$$\n",
    "    \n",
    "for the product,\n",
    "$$\\begin{align}\n",
    "a\\cdot b &\\equiv (nq+a')(nq_1+b')\\\\\n",
    "&\\equiv nqnq_1+a'nq_q+b'nq+a'b'\\\\\n",
    "\\end{align}$$\n",
    "All of the terms containing $n$ have no remainder, thus\n",
    "$$a\\cdot b \\equiv a'\\cdot b'\\pmod{n}\\tag*{$\\square$}$$"
   ]
  },
  {
   "cell_type": "markdown",
   "id": "2b8eb703",
   "metadata": {},
   "source": [
    "<hr>\n",
    "<div>\n",
    "<span class=\"proof\">Problem 0.10 (Gallian):</span> Let $(a,b)\\in\\mathbb{N}$ and let $d=gcd(a,b)$ and $m=lcm(a,b).$  If $t\\mid a$ and $t\\mid b$ prove that $t\\mid d.$  If $s$ is a multiple of both $a$ and $b,$ prove that $s$ is a multiple of $m.$\n",
    "    \n",
    "<span class=\"proof\">Proof:Part 1)</span><br>  Since $d=gcd(a,b), \\exists x,y\\in\\mathbb{Z}\\ \\  s.t.\\ \\  d=xa+yb$\n",
    "$$\\begin{align}\n",
    "t\\mid a &\\implies t\\mid xa\\\\\n",
    "t\\mid b &\\implies t\\mid yb\n",
    "\\end{align}$$\n",
    "Because all common divisors of $a$ and $b$ divide any linear combination of $a$ and $b,$\n",
    "  $$t\\mid(xa+yb)\\implies t\\mid d \\tag*{$\\square$}$$\n",
    "\n",
    "<span class=\"proof\">Part 2)</span> Here we need to show that $s,$ a multiple of both $a$ and $b$ is necessarily a multiple of $m=lcm(a,b).$<br> If $s$ is a multiple of $a$ then $$s=qm+r\\quad 0\\le r<m$$ So $$r=s-qm$$  Since $a\\mid s$ and $a\\mid m,$ $$a\\mid(s-qm) = a\\mid r$$ By  the same argument, $$b\\mid(s-qm)=b\\mid r$$\n",
    "Therefore, $r$ is a common multiple of both $a$ and $b.$ If $r>0,$ because $r<m,$ $m$ cannot be a 'least' common multiple.  Hence $r=0.$ Thus $s=qm$ and $m\\mid s,$ i.e. $s$ is a multiple of $m.$ QED "
   ]
  },
  {
   "cell_type": "markdown",
   "id": "59af8dab",
   "metadata": {},
   "source": [
    "<hr>\n",
    "\n",
    "<span class=\"proof\">Problem 0.11 (Gallian):</span> Let $n$ and $a$ be positive integers.  Let $d=gcd(a,n).$ Show that the equation $$ax \\bmod n\\equiv 1$$ has a solution if and only if $d=1.$$\n",
    "\n",
    "<span class=\"proof\">Proof:</span>From Bezout we know that $$gcd(a,n)=as+nt$$ for some integers $s,t.$<br><br>\n",
    "Assume $ma+pn=1$ and that $a$ and $n$ are <span class='oomph'>not</span> coprime.\n",
    "Thus there is some integer $d>1$ which divides both $a$ and $n.$<br>  \n",
    "From the definition of 'divides', if $d$ divides $a$ and $n$ then $\\exists (x,y)\\in\\mathbb{Z}$ for which $a=dx$ and $n=dy.$\n",
    "In that case, $$ma+pn=1\\iff m(dx)+p(dy)=1\\iff d(mx+py)=1$$\n",
    "It follows that $d\\mid 1.$ Since the only integer that divides $1$ is $1, d=1.$ Hence $a$ and $n$ are coprime. By symmetry, $x$ and $y$ are also coprime.\n"
   ]
  },
  {
   "cell_type": "markdown",
   "id": "9455dbae",
   "metadata": {},
   "source": [
    "<hr>\n",
    "<div>\n",
    "<span class=\"proof\">Problem 0.12 (Gallian):</span> Show that $(5n+3)$ and $(7n+4)$ are coprime.\n",
    "    \n",
    "    \n",
    "<span class=\"proof\">Proof:</span> When two values are coprime, then their gcd=1. We can use the Euclidean algorithm on these two numbers.\n",
    "$$\\begin{align}\n",
    "gcd(5n+3,7n+4) &= gcd(5n+3,(7n+4-(5n+3))\\\\\n",
    "&=gcd(5n+3,2n+1)\\\\\n",
    "&= gcd(3n+2,2n+1)\\\\\n",
    "&= gcd(n+1,n)\n",
    "\\end{align}$$\n",
    "Now it is just a matter of showing that two consecutive integers are coprime.\n",
    "    \n",
    "Now suppose $d$ is the $gcd(n,n+1).$ Then $d\\mid n$ and $d\\mid n+1$ and by applying the Euclidian algorithm as above, $d\\mid (n+1-n)=1$ showing that two consecutive integers are coprime. $$\\tag*{$\\blacksquare$}$$\n",
    "</div>\n"
   ]
  },
  {
   "cell_type": "markdown",
   "id": "ebed70bd",
   "metadata": {},
   "source": [
    "<hr>\n",
    "<div>\n",
    "    <span class=proof>Problem 0.13 (Gallian)</span>Suppose that $m$ and $n$ are relatively prime and $r$ is any integer. Show that there are integers $x$ and $y$ such that $mx + ny = r.$\n",
    "    \n",
    "<span class=proof>Proof: </span> By Bezout for coprime integers $m$ and $n$ there exist integers $s,t$ such that $$ms+nt=1$$\n",
    "We can multiply both sides by $r$ to get $$msr+ntr=r$$\n",
    "Let $x=sr$ and $y=nt$ then $$mx+ny=r \\tag*{$\\blacksquare$}$$\n",
    "</div>"
   ]
  },
  {
   "cell_type": "markdown",
   "id": "9cc755f1",
   "metadata": {},
   "source": [
    "<hr>\n",
    "<div>\n",
    "    <span class=proof>Problem 0.14 (Gallian)</span>\n",
    "Let $\\{p,q,r\\}$ be primes other than 3. Show that 3 divides $p^2+q^2+ r^2$\n",
    "\n",
    "All primes $\\bmod{3}$ are either $1$ or $2$(which is $-1).$  Therefore all primes squared $\\bmod{3}$ are always $1$ since $(-1)^2=1.$ Therefore, $$p^2\\equiv 1\\pmod{3}$$ and $$p^2+q^2+r^2\\equiv 3\\pmod{3}$$\n",
    "\n",
    "Brief lemma: From <a href=\" https://math.stackexchange.com/questions/485359/let-p-q-and-r-be-prime-other-than-3-show-that-3-divides-p%c2%b2q%c2%b2r%c2%b2/3639462#3639462\">485359</a>\n",
    "\n",
    "<span class=\"lemma\">Lemma: </span>If $s\\neq 3$ is prime, then $s^{2}=3t+1$, where $t \\in \\mathbb{N}$.\n",
    "    \n",
    " <span class=\"proof\">Proof:</span>   'Note the case where $s=2$ is obvious. Now suppose $s\\neq 3$ is an odd prime. Consider the expression $s^{2}-1=(s+1)(s-1)$. Recall that for any three consecutive integers, exactly one is divisible by the integer three. By our givens, $3 \\nmid s$, and so either $$3|s-1 \\text{ or } 3|s+1.$$In any case, we have $3|s^{2}-1$. Hence there exists $t \\in \\mathbb{N}$ such that $s^{2}-1=3t$. Therefore $s \\neq 3$ is prime implies $s^{2}=3t+1$, where $t \\in \\mathbb{N}$. QED.'\n",
    "\n",
    "</div>"
   ]
  },
  {
   "cell_type": "markdown",
   "id": "01bea36f",
   "metadata": {},
   "source": [
    "<hr>\n",
    "<div class=\"proof\">Problem 0.15(Gallian)<br>\n",
    " Prove that every prime greater than $3$ can be written in the form $6n+1$ or $6n+5.$ </div>\n",
    "<span class=\"proof\">Proof:</span> $$\\begin{align}\n",
    "6\\mid 6n\\\\\n",
    "2\\mid (6n+2)\\\\\n",
    "3\\mid (6n+3)\\\\\n",
    "4\\mid (6n+4)\\\\\n",
    "\\end{align}$$\n",
    "None of the prime numbers greater than 3 end with 2,3,4,6, so $6n+1$ and $6n+5$ are the only possibilities remaining."
   ]
  },
  {
   "cell_type": "markdown",
   "id": "89ade124",
   "metadata": {},
   "source": [
    "<hr>\n",
    "<font size=\"4\">\n",
    "<span class=\"proof\">Problem 0.16(Gallian)</span><br>Find $7^{1000}\\bmod 6$ and $6^{1001}\\bmod 7.$\n",
    "<span class=\"proof\">Solution:</span> $$7^{1000}\\bmod 6 = 1^{1000}\\bmod 6=1$$\n",
    "    \n",
    "  $$6^{1001}\\bmod 7 = (-1)^{1001}\\bmod 7=-1\\bmod 7=6$$"
   ]
  },
  {
   "cell_type": "markdown",
   "id": "55d0eafa",
   "metadata": {},
   "source": [
    "<hr>\n",
    "<font size=\"4\">\n",
    "<span class=\"proof\">Problem 0.17(Gallian)</span><br>\n",
    "Let $a, b, s,$ and $t$ be integers. If $a \\bmod st = b \\bmod st,$ show that $a \\bmod s =  b \\bmod s$ and $a \\bmod t = b \\bmod t.$ What condition on $s$ and $t$ is needed to make the converse true?\n",
    "    \n",
    "<span class=\"proof\">Proof:</span>By the division algorithm, we are given that\n",
    "$$a=q\\cdot s\\cdot t+r\\text{ and }b=q_1\\cdot s\\cdot t+r$$\n",
    "Thus $\\frac{a}{s}=q\\cdot t+r\\text{ and }\\frac{b}{s}=q_1t+r$  That is, the divisions leave the same remainder. Ergo, $a\\bmod s=b\\bmod s.$ By analogy,  $\\frac{a}{t}=q\\cdot s+r\\text{ and }\\frac{b}{t}=q_1s+r.$  QED\n",
    "    \n",
    "<span class=\"proof\">Converse:</span> If $a \\bmod s =  b \\bmod s$ and $a \\bmod t = b \\bmod t,$ show that $a\\bmod st=b\\bmod st.$ <br> This is not true in general. But it is true when  $s\\cdot t\\mid abs(a-b).$"
   ]
  },
  {
   "cell_type": "markdown",
   "id": "0e913df0",
   "metadata": {},
   "source": [
    "<hr>\n",
    "<font size=\"4\">\n",
    "<span class=\"proof\">Problem 0.18(Gallian)</span><br>\n",
    "Determine $8^{402}\\bmod{5}$\n",
    "<span class=\"proof\">Solution:</span>\n",
    "$$\\begin{align}\n",
    "8^{402}\\bmod{5} &=3^{402}\\bmod{5}\\\\\n",
    "&=(3^2)^{201}\\bmod{5}\\\\\n",
    "&=4^{201}\\bmod{5}\\\\\n",
    "&=-1^{201}\\bmod{5}\\\\\n",
    "&=-1\\bmod{5}\\\\\n",
    "&=4\n",
    "\\end{align}$$"
   ]
  },
  {
   "cell_type": "markdown",
   "id": "07c1c3a8",
   "metadata": {},
   "source": [
    "<hr>\n",
    "<font size=\"4\">\n",
    "<span class=\"proof\">Problem 0.19(Gallian)</span><br>\n",
    "\n",
    "Show that, $gcd(a,bc)=1 \\iff gcd(a,b)=1$ and $gcd(a,c)=1.$\n",
    "    \n",
    "    \n",
    "<span class=\"proof\">Proof:</span>\n",
    "Part (a)  If $q\\mid b$ then $q\\mid bc$ so any common factor of $a$ and $b$ is also a common factor of $a$ and $bc.$ The same argument applies to $a$ and $c.$ This implies that because $a$ is coprime to $bc$ that it is coprime to $a$ and $c.$ \n",
    "    \n",
    "Part (b)  Let $\\{x,y,z,w\\}\\in\\mathbb{Z}.$ By Bezout's Identity, $$\\begin{align}\n",
    "ax+by&=1\\\\\n",
    "az+cw&=1\n",
    "\\end{align}$$\n",
    "Multiplying these equations together,\n",
    "$$\\begin{align}\n",
    "axaz+axcw+azby+bycw &= 1\\\\\n",
    "a(xaz+xcw+zby)+wy(bc) &= 1\\\\\n",
    "a(m)+bc(n) &= 1\n",
    "\\end{align}$$\n",
    "Where $m$ and $n$ represent the collection of integers, which imply that $$gcd(a,bc)=1$$"
   ]
  },
  {
   "cell_type": "markdown",
   "id": "a1ba01eb",
   "metadata": {},
   "source": [
    "<hr>\n",
    "<font size=\"4\">\n",
    "<span class=\"proof\">Problem 0.20(Gallian)</span><br>\n",
    "\n",
    "Let p_1,p_2,p_3,\\cdots,p_n by primes.  Show that p_1p_2p_3\\cdots p_n+1 is divisible by none of these primes.\n",
    "    \n",
    "    \n",
    "<span class=\"proof\">Proof:</span>\n",
    "Let $P=p_1p_2p_3\\cdots p_n$ and the new number will be P+1.  There are two possibilities P+1. It might be prime, in which case it is not divisible by any other prime and we are done.  It might be composite. \n",
    "    \n",
    "If $P+1$ is composite, then it is composed of prime factors. Suppose that one of those prime factors is in our list, call it $p.$  It clearly will divide into $P$ because $P$ is the product of all primes in the list.  However, we also have that $p\\mid (P+1).$ But since the smallest prime number is $2,$ there is no prime number that can divide two adjacent integers.  Hence, $p$ cannot be in the list and we have proven that $P+1$ is not divisible by any of the primes which served to create it. QED"
   ]
  },
  {
   "cell_type": "markdown",
   "id": "81ac828d",
   "metadata": {},
   "source": [
    "<hr>\n",
    "<font size=\"4\">\n",
    "<span class=\"proof\">Problem 0.21(Gallian)</span><br> Prove that there are infinitely many primes.\n",
    "   \n",
    "    \n",
    "<span class=\"proof\">Proof:</span>Let $P=p_1p_2p_3\\cdots p_n$ be the list of all prime numbers multiplied together.    Beyond $p_n$ we claim that no additional prime numbers will be encountered. \n",
    "The very next integer is $P+1.$  We may assume that it is not prime, since if it were prime, we would not have reached the end of the prime numbers. \n",
    "    \n",
    "So $P+1$ is composite and by the Fundamental Theorem of Arithmetic, it is composed of prime factors. However, none of those prime factors can be in the list which created $P$ as that would argue that a prime number can divide two adjacent integers.  Therefore, there must exists other prime numbers which are the factors of $P+1.$\n"
   ]
  },
  {
   "cell_type": "markdown",
   "id": "808a7328",
   "metadata": {},
   "source": [
    "<hr>\n",
    "<font size=\"4\">\n",
    "<span class=\"proof\">Problem 0.22(Gallian)</span><br> Express $(-7-3i)^{-1}) in standard form.\n",
    "   \n",
    "<span class=\"proof\">Solution:</span>\n",
    "$$\\begin{align}\n",
    "(-7-3i)^-1 &= \\frac{1}{-7-3i}\\\\\n",
    "&=\\frac{1}{-7-3i}\\cdot\\frac{-7+3i}{-7+3i}\\\\\n",
    "&=\\frac{-7+3i}{49+9}\\\\\n",
    "&=\\frac{-7+3i}{58}=-\\frac{7}{58}+i\\cdot\\frac{3}{58}\n",
    "\\end{align}$$"
   ]
  },
  {
   "cell_type": "markdown",
   "id": "eb927c87",
   "metadata": {},
   "source": [
    "<hr>\n",
    "<font size=\"4\">\n",
    "<span class=\"proof\">Problem 0.23(Gallian)</span>Express in standard form $\\frac{-5+2i}{4-5i}.$\n",
    "    \n",
    "<span class=\"proof\">Solution:</span>\n",
    "  $$\\begin{align}\n",
    "  \\frac{-5+2i}{4-5i} &= \\frac{-5+2i}{4-5i}\\cdot\\frac{4+5i}{4+5i}\\\\\n",
    "  &=\\frac{-20+8i-25+10i^2}{16+25}\\\\\n",
    "  &=\\frac{-30-17i}{41}\\\\\n",
    "  &=-\\frac{30}{41}-\\frac{17i}{41}\n",
    "  \\end{align}$$\n",
    "    \n"
   ]
  },
  {
   "cell_type": "markdown",
   "id": "d553ceb5",
   "metadata": {},
   "source": [
    "<hr>\n",
    "<font size=\"4\">\n",
    "<span class=\"proof\">Problem 0.24(Gallian)</span>Express in standard form and without trig functions,$$\\big[\\cos(360^\\circ +i\\,\\sin(360^\\circ)\\big]^{1/8}$$\n",
    "     \n",
    "<span class=\"proof\">Solution:</span>\n",
    "This question is posed as asking for the eighth root of $1,$ since $\\big[\\cos(360^\\circ +i\\,\\sin(360^\\circ)\\big]=1$  There are eight such roots.  If we first use DeMoivre's theorem,\n",
    "  $$\\big[\\cos(\\frac{1}{8}360^\\circ +i\\,\\sin(\\frac{1}{8}360^\\circ)\\big]=\\cos(45^\\circ +i\\,\\sin(45^\\circ)$$\n",
    "    \n",
    " Here, $\\theta$ is $45^\\circ = \\frac{\\pi}{4}$ and the modulus is $1.$ Using Euler's formula, the expression becomes $$e^{ik\\pi/4},\\quad k=0,1,\\ldots,7$$"
   ]
  },
  {
   "cell_type": "markdown",
   "id": "a8e573df",
   "metadata": {},
   "source": [
    "<hr>\n",
    "<font size=\"4\">\n",
    "<span class=\"proof\">Problem 0.25(Gallian)</span>Prove that for any positive integer $n,$ $$\\big[\\cos\\left(\\theta\\right) +i\\,\\sin(\\theta)\\big]^{1/n} = \\left[\\cos\\left(\\frac{\\theta}{n}\\right) +i\\,\\sin\\left(\\frac{\\theta}{n}\\right)\\right]$$\n",
    "     \n",
    "<span class=\"proof\">Proof:</span>Euler's formula is $$cos\\theta+i\\sin\\theta=e^{i\\theta}$$\n",
    "raise both sides to the power of $1/n.$\n",
    "  $$\\begin{align}\n",
    "  (cos\\theta+i\\sin\\theta)^{1/n} &= \\left(e^{i\\theta}\\right)^{1/n}\\\\\n",
    "  &= e^{\\frac{i\\theta}{n}} \\quad \\text{combine the exponents}\\\\\n",
    "  &= \\cos \\frac{\\theta}{n} +i \\sin\\frac{ \\theta}{n} \\quad \\text{using Euler's formula again}\n",
    "  \\end{align}$$\n"
   ]
  },
  {
   "cell_type": "markdown",
   "id": "b20643d6",
   "metadata": {},
   "source": [
    "<hr>\n",
    "<font size=\"4\">\n",
    "<span class=\"proof\">Problem 0.26(Gallian)</span>For every positive integer, prove that $$\\frac{n(n+1)}{2}=\\sum_{i=1}^ni$$\n",
    "    \n",
    "<span class=\"proof\">Proof:</span> We will use the method of induction to prove the statement.\n",
    "    \n",
    "Let the base case be $n=1$\n",
    "    \n",
    "$$\\frac{1(1+1)}{2}=\\frac{1(1+1)}{2}=\\frac{2}{2}=1$$ This shows that the statement is true when $n=1.$\n",
    "    \n",
    "Assume that $$\\frac{k(k+1)}{2}=\\sum_{i=1}^ki$$ is true.  This is our inductive hypothesis.\n",
    "    \n",
    "We need to show that the hypothesis is true for the next $k.$ That is, we need to show that $$\\frac{(k+1)((k+1)+1)}{2}=\\sum_{i=1}{k}+(k+1)$$\n",
    "Expand the LHS to show polynomial form.\n",
    "  $$\\frac{k^2+3k+2}{2}=\\sum_{i=1}^{k}i+(k+1)\\tag{1}$$\n",
    "Replace the summation on the RHS with the inductive hypothesis and then algebraically simplify the expression.\n",
    "  $$\\begin{align}\n",
    "  &=\\frac{k(k+1)}{2}+(k+1)\\\\\n",
    "  &=\\frac{k^2+k}{2}+\\frac{2k}{2}+\\frac{2}{2}\\\\\n",
    "  &= \\frac{k^2+3k+2}{2}\n",
    "  \\end{align}$$\n",
    "  Since the bottom line matches the expression in (1) we have proved the thesis. QED"
   ]
  },
  {
   "cell_type": "markdown",
   "id": "b7dbda29",
   "metadata": {},
   "source": [
    "<hr>\n",
    "<font size=\"4\">\n",
    "<span class=\"proof\">Problem 0.27(Gallian)</span>For every positive integer $n$ prove that a set with exactly $n$ elements has $2^n$ subsets.\n",
    "    \n",
    "<span class='lemma'>Definition: </span>The Power set is the set of all subsets of a set.  Example: S={A,B}.  Then P(S)={{$\\emptyset$},{A},{B},{AB}}<br>\n",
    "    \n",
    " <span class=\"proof\">Proof:</span> Let $X$ be a set with $n$ elements. To form a subset of $X$, we go over each element of $X$ and exercise a choice of whether or not to include the element in the subset. Every sequence of choices gives a different subset.\n",
    "\n",
    "Since for every element, there are 2 choices, for $n$ elements, there are $2 \\times 2 \\times ...$ $n$ times, choices, which is equal to $2^n.$ QED\n",
    "\n"
   ]
  },
  {
   "cell_type": "markdown",
   "id": "8c6e25f1",
   "metadata": {},
   "source": [
    "<hr>\n",
    "<font size=\"4\">\n",
    "<span class=\"proof\">Problem 0.28(Gallian)</span>Prove that $2^n\\cdot 3^{2n}-1$ is always divisible by 17.\n",
    "    \n",
    " <span class=\"proof\">Proof:</span>We need to show that $2^n3^{2n}-1 \\bmod{17}\\equiv 0$\n",
    " $$\\begin{align}\n",
    " 2^n3^{2n}-1 \\bmod{17}&= 2^n\\cdot 9^n-1\\bmod{17}\\\\\n",
    " &= 18^n-1\\bmod{17}\\\\\n",
    " &= 1^n-1\\bmod{17}\\\\\n",
    " &= 0\\bmod{17}=0\n",
    " \\end{align} QED$$"
   ]
  },
  {
   "cell_type": "markdown",
   "id": "8f0a927f",
   "metadata": {},
   "source": [
    "<hr>\n",
    "<font size=\"4\">\n",
    "<span class=\"proof\">Problem 0.29(Gallian)</span> Prove that there is some positive integer $n$ such that $n, n+1,n+2,\\ldots,n+200$ are all composite.\n",
    "    \n",
    " <span class=\"proof\">Proof:</span> The number given by $n!$ is divisible by the numbers $\\{1,2,3,4,\\cdots,n\\}.$  Consider $n\\ge 5.$ If we add a $2$ to $n!$ it is still divisible by $2.$  What if we add a $3,$ since it already has a factor of $3$ in it, $3\\mid (n!+3).$  Even if we add $n,$ since it already contains a factor of $n,$ then $n\\mid(n!+n).$\n",
    "    \n",
    "So if we wanted $5$ sequential composite numbers, $$\\{6!+2,6!+3,6!+4,6!+5,6!+6\\}=\\{722,723,724,725,726\\}$$ and each of the numbers sequentially is divisible by $\\{2,3,4,5,6\\}$\n",
    "    \n",
    "So we have an easy formula to find $n$ sequential composite numbers.\n",
    "  $$\\{(n+1)!+i\\}\\quad i=2,3,\\cdots,n+1 \\tag{1}$$\n",
    "    \n",
    "**Formula (1) does not find the least sequence of $n$ composite numbers, but it does prove the existence for any length $n,$ including $n=200.$\n",
    "    \n",
    "The following is a definition of the \"primorial\". Note that $\\pi(n)$ is called \"the prime counting function\" and it gives the number of primes up to and including $n.$ In sympy it is available as primpi(). The primorial definition is just the product of those primes.   \n",
    " $$n\\#=\\prod_{i=1}^{\\pi(n)}p_i$$"
   ]
  },
  {
   "cell_type": "code",
   "execution_count": 59,
   "id": "0c7d1e53",
   "metadata": {},
   "outputs": [
    {
     "name": "stdout",
     "output_type": "stream",
     "text": [
      "[212, 213, 214, 215, 216, 217, 218, 219]\n",
      "[362882, 362883, 362884, 362885, 362886, 362887, 362888, 362889]\n"
     ]
    }
   ],
   "source": [
    "#Produce a composite sequence of length n using the primorial and also the factorial.\n",
    "from sympy import primorial,factorial,isprime,primepi\n",
    "L=[]; M=[];n=8\n",
    "x=primorial(primepi(n+1)); y=factorial(n+1)\n",
    "for i in range(2,n+2):\n",
    "    if not isprime(x+i):\n",
    "        L.append(x+i)\n",
    "    if not isprime(y+i):\n",
    "        M.append(y+i)\n",
    "print(L)\n",
    "print(M)\n",
    "\n",
    "# for i in range(1,11):\n",
    "#     print(i,primorial(i))"
   ]
  },
  {
   "cell_type": "markdown",
   "id": "5cde0346",
   "metadata": {},
   "source": [
    "<hr>\n",
    "<font size=\"4\">\n",
    "<span class=\"proof\">Problem 0.30(Gallian)</span> (Generalized Euclid’s Lemma) If $p$ is a prime and, $p$ divides $a\\cdot a_1\\cdot a_2\\cdots a_n,$\n",
    "prove that $p$ divides $a_i$ for some $i.$\n",
    "\n",
    "<span class=\"proof\">Proof:</span> This proof by induction relies on Euclid's Lemma: For $(a,b)\\in\\mathbb{Z}$ If prime $p\\mid ab$ then either $p\\mid a$ or $p\\mid b.$\n",
    "    \n",
    "Let $a_1,a_2,\\ldots,a_n$ be integers.  Let $p,$ be a prime number.<br>\n",
    "$p\\mid a_1a_2\\cdots a_n \\implies p\\mid a_i$ for some $i, 1\\le i\\le n.$\n",
    "<br>To prove this we will use mathematical induction on $n.$<br>\n",
    "<span class='red'>Base Case:</span> Let $n=1,$ then $p\\mid a_1.$ OK if there is only one term, it must be $a_i$ so $p$ divides it and the case is true.<br>\n",
    " Let $n=2,$ then $p\\mid a_1\\cdot a_2.$ We know this to be true by Euclid's Lemma. \"If $p$ is prime and $p\\mid ab,$ then $p\\mid a$ or $p\\mid b.$\n",
    "    \n",
    "<span class='red'>Inductive Hypothesis</span> Assume the Generalized Euclid Lemma is true for $n=k.$  This means  $$p\\mid (a_1a_2\\cdots a_k)\\implies p\\mid a_i, 1\\le i \\le k$$\n",
    "    \n",
    "<span class='red'>Inductive Step</span> We want to show that the Lemma is true for $k+1$  $$p\\mid (a_1\\cdot a_2\\cdots a_k)\\cdot a_{k+1} \\implies p\\mid a_i, 1\\le i \\le k$$\n",
    "    \n",
    "If $p\\mid a_{k+1}$ we have our proof because $a_{k+1}$ is one of the $a_i.$\n",
    "Also, by the inductive hypothesis, $a\\mid (a_1\\cdot a_2\\cdots a_k).$\n",
    "    \n",
    "So we have two integers, $(a_1\\cdot a_2\\cdots a_k)$ and $a_{k+1}.$ By Euclid's Lemma, either prime $p$ divides $(a_1\\cdot a_2\\cdots a_k)$ or $p$ divides $a_{k+1}.$ The statement is proven.  QED\n",
    "   "
   ]
  },
  {
   "cell_type": "markdown",
   "id": "ad567378",
   "metadata": {},
   "source": [
    "<hr>\n",
    "<font size=\"4\">\n",
    "<span class=\"proof\">Problem 0.31(Gallian)</span> Use the Generalized Euclid’s Lemma (see Exercise 30) to establish the uniqueness portion of the Fundamental Theorem of Arithmetic.\n",
    "    \n",
    "<span class='proof'>Definition: Fundamental Theorem of Arithmetic.</span> Every integer greater than $1$ is a prime or a product of primes. This product is unique, except for the order in which the factors appear.That is, if $n = p_1\\cdot p_2\\cdots p_r$ and $n = q_1q_2 \\cdots q_s,$ where the $p$ and $q$ elements are primes, then $r = s$ and, after renumbering the $q$ elements, we have $p_i= q_i \\ \\forall\\  i.$\n",
    "    \n",
    "<span class=\"proof\">Proof:</span>Suppose some integer $n$ can be factored as $n=p_1\\cdot p_2\\cdots p_r$ but can also be factored as $n=q_1\\cdot q_2\\cdots q_s.$ Further, by the Well Order Principle, let $n$ be the least of all such integers.  Since $p_1\\mid n$ and $n=q_1\\cdot q_2\\cdots q_s,$ it follows that $p_1 \\mid (q_1\\cdot q_2\\cdots q_s).$  By the Generalized Euclid's Lemma, $p_1$ must divided one of the $q_i$ factors. That factor, $q_i,$ can then be cancelled as can be the factor $p_1$ and the remaining factors will give a new product $m.$  But $m<n,$ since it has one less positive factor. That is a contradiction, since $n$ was to be the least integer with the stated property. QED."
   ]
  },
  {
   "cell_type": "markdown",
   "id": "df0be547",
   "metadata": {},
   "source": [
    "<hr>\n",
    "<font size=\"4\">\n",
    "<span class=\"proof\">Problem 0.32(Gallian)</span>What is the largest bet that cannot be made with chips worth $7.00$ and $9.00$ dollars Verify that your answer is correct with both forms of\n",
    "induction.\n",
    "    \n",
    "A little inspection of the possibilities shows the sequence $\\{0, 7, 9, 14, 16, 18, 21, 23, 25, 27, 28, 30, 32, 34, 35, 36, 37, 39, 41, 42, 43, 44, 45, 46, 48, 49, 50, 51, 52, 53, 54, 55, 56, 57, 58, 59, 60\\}$ which continues probably forever.  The largest missing value is 47. The conjecture is that all integer values $n$ are possible beginning with $n=48.$\n",
    "    \n",
    "<span class=\"proof\">Induction </span>By the First principle of mathematical induction.  \n",
    "    \n",
    "Let $S$ be the set of all integers $\\ge 48$ of the form $a\\cdot 7+b\\cdot 5,$ where $a$ and $b$ are nonnegative.  Obviously, $48\\in S.$ Now assume that some integer $n\\in S,$ say, $n=a\\cdot 7+b\\cdot 9.$  We must show that $n+1\\in S.$ First, note that since $n\\ge 48,$ we cannot have both $a$ and $b$ less than 3 (since $3\\cdot 7 + 3\\cdot 9=48$). If $a\\ge 5,$  then\n",
    "$$\\begin{align}\n",
    "n+1 &= (a\\cdot 7+b\\cdot 9)+(-5\\cdot 7+4\\cdot 9)\\\\\n",
    "&=(a-5)\\cdot 7+(b+4)\\cdot 9.\n",
    "\\end{align}$$\n",
    "This last equation says that we may increase a bet from $n$ to $n+1$ by adding 5 sevens and removing 4 nines.  If $b\\ge 3$ then\n",
    "  $$\\begin{align}\n",
    "n+1 &= (a\\cdot 7+b\\cdot 9)+(-5\\cdot 7+4\\cdot 9)\\\\\n",
    "&=(a+4)\\cdot 7+(b-3)\\cdot 9.\n",
    "\\end{align}$$ This completes the proof. QED\n",
    "<span class='blue'>So for example, suppose there are 3 sevens and 3 nines in the pot and i want to increase the bet by 1 dollar to 49. I can remove all 3 nines and add 4 more sevens. It is always possible to remove nines and add sevens, or remove sevens and add nines so long as the pot has at least 48 dollars.</span>\n",
    "    \n",
    "<span class=\"proof\">Induction </span>By the Second principle of mathematical induction.  \n",
    "\n",
    "To prove the statement by the Second Principle, we note that each of the integers 48,49,50,51,52,53,54 is in $S.$  Now assume that k for some integer $n>54,$ that S contains all integers $k$ with $48\\le k<n.$  We must show that $n\\in S.$  Since $n-7\\in S,$ there are nonnegative integers $a$ and $b$ such that $n-7=a\\cdot 7+b\\cdot 9.$ But then $n=(a+1)\\cdot 7+b\\cdot 9.$ Thus $n$ is in $S.$"
   ]
  },
  {
   "cell_type": "code",
   "execution_count": 51,
   "id": "736f9ec7",
   "metadata": {},
   "outputs": [
    {
     "name": "stdout",
     "output_type": "stream",
     "text": [
      "7 3 + 9 3 = 48\n"
     ]
    }
   ],
   "source": [
    "from numpy import sort\n",
    "L=[]\n",
    "for i in range(0,100):\n",
    "    for j in range(0,100):\n",
    "        s=i*7\n",
    "        n=j*9\n",
    "        L.append(s+n)\n",
    "        if(s+n)==48:\n",
    "            print(\"7\",i,\"+ 9\",j,\"=\",s+n)\n",
    "S=set(sort(L))\n",
    "#print(S)"
   ]
  },
  {
   "cell_type": "markdown",
   "id": "4ac65422",
   "metadata": {},
   "source": [
    "<hr>\n",
    "<font size=\"4\">\n",
    "<span class=\"proof\">Problem 0.33(Gallian)</span>Prove that the First Principle of Mathematical Induction is a consequence of the Well Ordering Principle.\n",
    "    \n",
    "<span class=\"proof\">Proof: </span>   This proof comes directly (word for word) from the answers to selected exercises in the back of the book.\n",
    "    \n",
    "Suppose that $S$ is a set that contains $a$ and whenever $n\\ge a$ belongs to $S,$ then $(n+1)\\in S$. We must\n",
    "prove that $S$ contains all integers greater than or equal to $a.$ Let $T$ be the set of all integers greater than $a$ that are not in $S$ and suppose that $T$ is not empty. Let $b$ be the smallest integer in $T$ (if $T$ has no negative integers, $b$ exists because of the Well Ordering Principle; if $T$ has negative integers, it can have only a finite number of them so that there is a smallest one). Then $b-1\\in S,$ and therefore $b=(b-1)+1\\in S$\n",
    "    \n",
    "<span class=\"proof\">Proof: </span> A similar proof that I find easier to understand.\n",
    "    \n",
    " \n",
    "Let $S$ be the set of positive integers containing the integer $1$, and the integer $k + 1$ whenever it contains $k$. Assume also that $S$ is not the set of all positive integers. As a result, there are some integers that are not contained in $S$ and thus those integers must have a least element $\\alpha$ by the well ordering principle. Notice that $\\alpha \\neq 1$ since $1 \\in S$. But $\\alpha − 1 \\in S $ and thus using the property of $S$, $\\alpha \\in S$.\n",
    "Thus $S$ must contain all positive integers."
   ]
  },
  {
   "cell_type": "markdown",
   "id": "24a29ea7",
   "metadata": {},
   "source": [
    "<hr>\n",
    "<font size=\"4\">\n",
    "<span class=\"proof\">Problem 0.34(Gallian)</span>The Fibonacci numbers are 1, 1, 2, 3, 5, 8, 13, 21, 34, . . . . In general, the Fibonacci numbers are defined by $f_1=1, f_2=1,$ and for $n\\ge 3, f_n= f_{n-1}+f_n-2.$ Prove that the nth Fibonacci number $f_n$ satisfies $f_n\\le 2^n,$\n",
    "    \n",
    "<span class=\"proof\">Proof: </span>We will use strong induction.<br>\n",
    "<span class='red'>Base Cases </span> $F(1)=1<2^1$ and $F(2)=1<2^2$<br>\n",
    "<span class='red'>I.H.</span> Assume that the statement is true up to $F(k)<2^k.$<br>\n",
    "We want to show that $F(k+1)<2^{k+1}$<br>\n",
    "From the definition of the Fibonacci function, $$F(k+1)=F(k)+F(k-1)$$\n",
    "    \n",
    "By our strong induction, we have that $F(k)<2^k$ and $F(k-1)<2^{k-1}.$\n",
    "    \n",
    "So, $$\\begin{align}\n",
    "F(k+1)&< 2^k+2^{k-1}\\\\\n",
    "&<2^k+2^k\\\\\n",
    "&= 2\\cdot 2^k\\\\\n",
    "&= 2^{k+1}\n",
    "\\end{align}$$\n",
    "    Therefore, $$F(k+1)<2^{k+1}\\tag*{$\\blacksquare$}$$"
   ]
  },
  {
   "cell_type": "markdown",
   "id": "263bbe67",
   "metadata": {},
   "source": [
    "<hr>\n",
    "<font size='4'>\n",
    "<span class=\"proof\">Problem 0.35(Gallian)</span>Prove by induction on $n$ that for all positive integers $n,$  $n^3+(n+1)^3+(n+2)^3$ is a multiple of 9.\n",
    "\n",
    "<span class=\"proof\">Proof:</span><br>\n",
    "<span class=\"red\">Base Case:</span> Let n=1. Then $$1^3+2^3+3^3=36$$Since $9\\mid 36$ the base case is proved.\n",
    "    \n",
    "    \n",
    "Let $n=k$ and write $$f(k)=k^3+(k+1)^3+(k+2)^3$$ and $$f(k+1)=(k+1)^3+(k+2)^3+(k+3)^2$$\n",
    " \n",
    "Our assumption is that $9\\mid f(k).$\n",
    "    \n",
    "The inductive step will be to show that $9\\mid f(k)-f(k+1)$ because  $$a\\equiv b \\pmod{m}\\iff m\\mid(a-b)$$  In this case, $m=9$ $a$ is $f(k)$ and $b$ is $f(k+1)$\n",
    "\n",
    "So we write $$\\begin{align}\n",
    "f(k)-f(k+1) &= 3k^3+9k^2+ 15k+ 9 -(3k^3+18k^2+42k+36)\\\\\n",
    "&=-9k^2-27k-27\\\\\n",
    "&=9(-k^2-3k-3)\\\\\n",
    "&9\\mid 9(-k^2-3k-3)\\tag*{$\\square$}\n",
    "\\end{align}$$"
   ]
  },
  {
   "cell_type": "markdown",
   "id": "27352095",
   "metadata": {},
   "source": [
    "<hr>\n",
    "<font size=\"4\">\n",
    "<span class=\"proof\">Problem 0.36(Gallian)</span> Suppose that there is a statement involving a positive integer parameter $n$ and you have an argument that shows that whenever the statement is true for a particular $n$ it is also true for $n+2.$  What remains to be done to prove the statement is true for every positive integer? Describe a situation in which this strategy would be applicable.\n",
    "    \n",
    "<span class=\"proof\">Solution: </span> The question is \"what remains to be done?\".  We just need to show that the result is true for $n=1$ and $n=2.$ Then the result follows by induction.\n",
    "    \n",
    " Example:Show that $$\\sum_{k=0}^{n}(8k+1)^2=\\frac{64}{3}n^3+40n^2+\\frac{59}{3}n+1$$\n",
    "    \n",
    "The recurrence relation is $a_{n+1}=a_n+(8n+1)^2$\n",
    "    \n",
    "The G.F.= $\\frac{49x^2+78x+1}{x^4-4x^3+6x^2-4x+1}$\n",
    "The series is $$1+82+371+996+2085+3766\\cdots$$\n",
    "    \n",
    "<span class=\"proof\">Proof by Induction</span>\n",
    "    \n",
    "    \n",
    "<span class='red'>Base Case</span> for $n=0$ $(8\\cdot 1+1)^2=1$ and $\\frac{64}{3}0^3+40\\cdot 0^2+\\frac{59}{3}\\cdot 0+1=1$\n",
    "    <br>For $n=1, \\sum_{k=0}^1 (8n+1)^2=82$ and<br> $\\frac{64}{3}1^3+40\\cdot 1^2+\\frac{59}{3}\\cdot 1+1=82$ <br>So two base cases are proven.\n",
    "    \n",
    "Assign $k$ to $n.$  Assume $$\\sum_{t=0}^{k}(8t+1)^2=\\frac{64}{3}k^3+40k^2+\\frac{59}{3}k+1 \\tag{I.H.}$$\n",
    "<span class='red'>Induction Step</span> We need to show that\n",
    "    $$\\sum_{t=0}^{k+1}(8(k+1)+1)^2=\\frac{64}{3}(k+1)^3+40(k+1)^2+\\frac{59}{3}(k+1)+1\\tag{EQ 1}$$\n",
    "    \n",
    "For easing the algebra and notation, The RHS of (EQ 1) expands to $$\\color{red}{f(k+1)}:=\\frac{64}{3}k^3+104k^2+\\frac{491}{3}k+82$$\n",
    "Working with the LHS of (EQ 1), we first write it split out as the sum of the $k^{th}$ term plus the (k+1)term.\n",
    "    \n",
    " $$\\sum_{t=0}^k(8k+1)^2+\\left[8(k+1)+1\\right]^2=f(k+1)$$\n",
    "Use the inductive hypothesis to  replace the summed term.\n",
    "$$\\begin{align}\n",
    "\\frac{64}{3}k^3+40k^2+\\frac{59}{3}k+1+\\left[8(k+1)+1\\right]^2&\\quad=f(k+1)\\\\\n",
    "\\frac{64}{3}k^3+40k^2+\\frac{59}{3}k+1+(8k+8+1)^2 &\\quad =f(k+1)\\\\\n",
    "\\frac{64}{3}k^3+40k^2+\\frac{59}{3}k+1+(8k+9)(8k+9) &\\quad =f(k+1)\\\\\n",
    "\\frac{64}{3}k^3+40k^2+\\frac{59}{3}k+1+64k^2+72k+72k+81 &\\quad =f(k+1)\\\\\n",
    "\\frac{64}{3}k^3+(40k^2+64k^2) +\\left(\\frac{59}{3}k+144k\\right)+(1+81)&\\quad=f(+1)\\\\\n",
    "\\frac{64}{3}k^3+(104k^2) +\\frac{491}{3}k+82 &\\quad = f(k+1)\n",
    "\\end{align}$$\n",
    "    \n",
    "Now putting back the expression previosly derived for $f(k+1),$\n",
    "$$\\frac{64}{3}k^3+(104k^2) +\\frac{491}{3}k+82 = \\frac{64}{3}k^3+(104k^2) +\\frac{491}{3}k+82$$\n",
    "We have proven (EQ 1). QED"
   ]
  },
  {
   "cell_type": "markdown",
   "id": "91455adb",
   "metadata": {},
   "source": [
    "<hr>\n",
    "<font size=\"4\">\n",
    "<span class=\"proof\">Problem 0.37(Gallian)</span>In the cut “As” from Songs in the Key of Life, Stevie Wonder mentions the equation $8\\cdot 8\\cdot 8=4.$ Find all integers $n$ for which this statement is true, modulo $n.$\n",
    "    \n",
    "<span class=\"Solution\">Proof</span> By inspection, the statement is true for integers 127,254, and 508 and no other positive integers."
   ]
  },
  {
   "cell_type": "markdown",
   "id": "e98ab1f7",
   "metadata": {},
   "source": [
    "<hr>\n",
    "<font size=\"4\">\n",
    "<span class=\"proof\">Problem 0.38(Gallian)</span>Prove that for every integer $n,$ that $n^3 \\bmod{6}=n\\bmod{6}$\n",
    "    \n",
    "<span class=\"proof\">Proof</span>The question can be reinterpreted. Show that $6\\mid (n^3-n).$ The new interpretation is because $$a\\equiv b \\pmod{m}\\iff m\\mid (a-b)$$\n",
    "    \n",
    " Base Cases $n=1$\n",
    " $$\\begin{align}\n",
    "   \\qquad1^3 \\bmod{6} &= 1\\bmod{6}\\\\\n",
    "   1 &= 1\\\\\n",
    "   \\end{align}$$\n",
    "    $n=2$\n",
    " $$\\begin{align}\n",
    "   \\qquad2^3 \\bmod{6} &= 2\\bmod{6}\\\\\n",
    "   2 &= 2\\\\\n",
    "   \\end{align}$$\n",
    " \n",
    " <span class='red'>Inductive Hypothesis</span> Assume $6\\mid (n^3-n).\\tag{I.H.}$\n",
    "    \n",
    "Let $k=n$ and $F(k)=k^3-k$ and $F(k+1)=(k+1)^3-(k+1)$\n",
    "    \n",
    " We need to show that $F(k+1)$ is divisible by $6.$\n",
    "    \n",
    "  $$\\begin{align}\n",
    "  F(k+1) &=(k+1)^3 -(k+1)\\\\\n",
    "  &= k^3+3k^2+3k+1-k-a\\\\\n",
    "  &= (k^3-k)+3k^2+3k\\\\\n",
    "  &= (k^3-k)+3k(k+1)\\\\\n",
    "    \\end{align}$$\n",
    " By the I.H. $6$ divides the left term.\n",
    "    \n",
    " The right term, $3k(k+1)$ is the product of two consecutive integers and is therefore divisible by $2.$ Since it also has a factor of $3,$ we conclude that it too is divisible by $6.$\n",
    "    \n",
    "Therefore $6\\mid (n^3-n)\\qquad$ QED\n",
    " "
   ]
  },
  {
   "cell_type": "markdown",
   "id": "bf71cbd6",
   "metadata": {},
   "source": [
    "<hr>\n",
    "<font size=\"4\">\n",
    "<span class=\"proof\">Problem 0.39(Gallian)</span> If it is 2:00 a.m. now, what time will it be 3736 hours from now?\n",
    "    \n",
    "<span class=\"proof\">Solution</span>  $2+3736\\bmod(24)=18:00 = 6$ PM."
   ]
  },
  {
   "cell_type": "markdown",
   "id": "2698966a",
   "metadata": {},
   "source": [
    "<hr>\n",
    "<font size=\"4\">\n",
    "<span class=\"proof\">Problem 0.40(Gallian)</span> Determine the check digit for a money order with identification\n",
    "number 7234541780.\n",
    "    \n",
    "<span class=\"Solution\"></span> $7 234 541 780\\bmod{9}=5$  The printed number with its check digit will be $72 345 417 805$"
   ]
  },
  {
   "cell_type": "markdown",
   "id": "0657de49",
   "metadata": {},
   "source": [
    "<hr>\n",
    "<font size=\"4\">\n",
    "<span class=\"proof\">Problem 0.41(Gallian)</span>Suppose that in one of the noncheck positions of a money ordernumber, the digit 0 is substituted for the digit 9 or vice versa. Prove that this error will not be detected by the check digit. Prove that all other errors involving a single position are detected.\n",
    "    \n",
    "<span class=\"Solution\"></span>The digits 0 and 9 are both zero mod 9.  But the check digit is derived by $n\\bmod{9}.$ Therefore any 9 or zero in the number to be checked cannot contribute to the check digit and will be missed/ignored."
   ]
  },
  {
   "cell_type": "markdown",
   "id": "cb5291f5",
   "metadata": {},
   "source": [
    "<hr>\n",
    "<font size=\"4\">\n",
    "<span class=\"proof\">Problem 0.42(Gallian)</span>Suppose that a money order identification number and check digit\n",
    "of 21720421168 is erroneously copied as 27750421168. Will the\n",
    "check digit detect the error?\n",
    "    \n",
    "\n",
    "<span class=\"proof\">Solution: </span>No.  The error will be missed because both number are $8\\bmod{9}$"
   ]
  },
  {
   "cell_type": "markdown",
   "id": "2b0a4569",
   "metadata": {},
   "source": [
    "<hr>\n",
    "<font size=\"4\">\n",
    "<span class=\"proof\">Problem 0.43(Gallian)</span>A transposition error involving distinct adjacent digits is one of the form $\\ldots ab\\ldots \\longrightarrow \\ldots ba\\ldots$ with $a \\ne b.$ Prove that the money\n",
    "order check-digit scheme will not detect such errors unless the\n",
    "check digit itself is transposed.\n",
    "    \n",
    "<span class=\"proof\">Proof(Gallian)</span> The money order check digit scheme is nothing more that the mod 9 result from the digits not including the check digit. A simple transposition error will not change the digit sum ergo the scheme cannot catch the error.  However, if the error were in the check digit, then the check digit would no longer match the mod 9 digit sum and it would be caught."
   ]
  },
  {
   "cell_type": "markdown",
   "id": "44f1714d",
   "metadata": {},
   "source": [
    "<hr>\n",
    "<font size=\"4\">\n",
    "<span class=\"proof\">Problem 0.44(Gallian)</span> Determine the check digit for the Avis rental car with identification\n",
    "number 540047. (See Example 5.)\n",
    "    \n",
    "<span class='proof'>Solution</span> The check digit will be $540047\\bmod{7}=4."
   ]
  },
  {
   "cell_type": "markdown",
   "id": "ec21d079",
   "metadata": {},
   "source": [
    "<hr>\n",
    "<font size=\"4\">\n",
    "<span class=\"proof\">Problem 0.45(Gallian)</span>Show that a substitution of a digit $a_i'$ for the digit $a_i(a_i'\\ne a_i)$ in\n",
    "a noncheck position of a UPS number is detected if and only\n",
    "if $\\vert a_i-a_i'\\vert\\ne 7.$\n",
    "    \n",
    " <span class=\"proof\">Proof(Gallian)</span>   In modular arithmetic, $$a\\equiv a_i\\pmod{m}\\iff m\\mid(a-a_i)\\text{  see problem 7 for proof}$$\n",
    " The absolute value in the problem only serves to assure that we get a positive value when the subtraction is performed. In this problem $m=7$ which is the modulo value used by UPS.  If the digit differences happen to be $7,$ then the digit sum mod 7 is not changed and thus not detected."
   ]
  },
  {
   "cell_type": "markdown",
   "id": "734f31c9",
   "metadata": {},
   "source": [
    "<hr>\n",
    "<font size=\"4\">\n",
    "<span class=\"proof\">Problem 0.46(Gallian)</span> Determine which transposition errors involving adjacent digits are detected by the UPS check digit.\n",
    "    \n",
    " <span class=\"proof\">Proof(Gallian)</span> Any transposition of the digit prior to the check digit is likely to be detected. An exception is when the check digit is the same as the last digit of the UPS record.  The probability for detection of a transposition involving the check digit is 90%, but in general a transpostion cannont be detected, since it does not change the check sum.  \n",
    "    \n",
    "For the check digit transposition, any number 0-9 can occur in the last digit of the record. Only one number can be the checksum, so the chance of matching is 1 in 10.  Matches will go undetected."
   ]
  },
  {
   "cell_type": "code",
   "execution_count": 38,
   "id": "31f16c64",
   "metadata": {},
   "outputs": [
    {
     "name": "stdout",
     "output_type": "stream",
     "text": [
      "0.099657\n"
     ]
    }
   ],
   "source": [
    "#This code chooses a random number between 500000 and 600009 and determines its checksum.\n",
    "#Then it determines how many times the last digit matches the checksum.\n",
    "import random\n",
    "bignum=1000000\n",
    "sum=0\n",
    "for i in range(1,bignum):\n",
    "    a=random.randint(500000,600009);\n",
    "    A=str(a)\n",
    "    last_digit = int(A[-1:])\n",
    "    a= int(a)\n",
    "    cd=a%7\n",
    "    #print(a,cd)\n",
    "    if last_digit==cd:\n",
    "        sum=sum+1\n",
    "        #print(a,cd)\n",
    "    avg=sum/bignum\n",
    "print(avg)"
   ]
  },
  {
   "cell_type": "markdown",
   "id": "11444bdb",
   "metadata": {},
   "source": [
    "<hr>\n",
    "<font size=\"4\">\n",
    "<span class=\"proof\">Problem 0.47(Gallian)</span>Use the UPC scheme to determine the check digit for the number $07312400508.$\n",
    "    \n",
    "<span class='proof'>Solution</span>  The number given is $11$ digits. We want their array sum plus one additional digit$= (x)$ to be zero mod $10.$\n",
    "    $$\\begin{align}\n",
    "    &=(0\\cdot 3)+(7\\cdot 1)\\\\\n",
    "    &+(3\\cdot 3)+(1\\cdot 1)\\\\\n",
    "    &+(2\\cdot 3)+(4\\cdot 1)\\\\\n",
    "    &+(0\\cdot 3)+(0\\cdot 1)\\\\\n",
    "    &+(5\\cdot 3)+(0\\cdot 1)\\\\\n",
    "    &+(8\\cdot 3)+(x\\cdot 1)\\\\\n",
    "    \\end{align}$$\n",
    " So we want $66+x\\equiv 0\\pmod{10}.$ Merely by inspection, $x=4$ will cause this to be true."
   ]
  },
  {
   "cell_type": "markdown",
   "id": "b9de2acc",
   "metadata": {},
   "source": [
    "<hr>\n",
    "<font size=\"4\">\n",
    "<span class=\"proof\">Problem 0.48(Gallian)</span>Explain why the check digit for a money order for the number N is the repeated decimal digit in the real number $N\\div 9.$\n",
    "    \n",
    "<span class='proof'>Solution</span>  Check digits on a US postal money order are modulo 9, and appended as the last digit.  \n",
    "    \n",
    "The length of the period of all fractions with denominator $9$ is either zero or $1.$ If it is zero, then the sum of digits was a number, $n,$ such that $9\\mid n\\equiv 0\\bmod{9}$ That explains why the check digit is $0$ when the sum of digits is divisible by $9.$\n",
    "    \n",
    "All other digit sums modulo 9 will resolve to a single digit, and in the division algorithm that digit has a repeat period of one.  Therefore, all integers that are not evenly divisible by $9,$ resolve to one of the following cases.\n",
    "    $$\\begin{align}\n",
    "    1/9 &=0.\\overline{1}\\\\\n",
    "    2/9 &=0.\\overline{2}\\\\\n",
    "    3/9 &=0.\\overline{3}\\\\\n",
    "    4/9 &=0.\\overline{4}\\\\\n",
    "    5/9 &=0.\\overline{5}\\\\\n",
    "    6/9 &=0.\\overline{6}\\\\\n",
    "    7/9 &=0.\\overline{7}\\\\\n",
    "    8/9 &=0.\\overline{8}\n",
    "    \\end{align}$$"
   ]
  },
  {
   "cell_type": "markdown",
   "id": "4688d498",
   "metadata": {},
   "source": [
    "<hr>\n",
    "<font size=\"4\">\n",
    "<span class=\"proof\">Problem 0.49(Gallian)</span> The 10-digit International Standard Book Number (ISBN-10) $a_1a_2a_3a_4a_5a_6a_7a_8 a_9a_{10}$ has the property $$(a_1, a_2,\\ldots , a_{10})\\cdot (10, 9, 8, 7,6, 5, 4, 3, 2, 1) \\bmod{11}= 0.$$  The digit $a_{10}$ is the check digit. When $a_{10}$ is required to be $10$ to make the dot product $0,$ the character $X$ is used as the check digit. Verify the check digit for the ISBN-10 assigned to this book.\n",
    "    \n",
    "<span class='proof'>Solution</span> The international edition of Contemporary Abstract Algebra has ISBN: $113360675X.$\n",
    "    \n",
    "$$\\left[(1\\cdot10)+(1\\cdot9)+(3\\cdot8)+(3\\cdot7)+(6\\cdot6)+(0\\cdot5)+(6\\cdot4)+(7\\cdot3)+(5\\cdot2)+(10\\cdot1)\\right]\\bmod{11}=0$$"
   ]
  },
  {
   "cell_type": "markdown",
   "id": "f263e206",
   "metadata": {},
   "source": [
    "<hr>\n",
    "<font size=\"4\">\n",
    "<span class=\"proof\">Problem 0.50(Gallian)</span> Suppose that an ISBN-10 has a smudged entry where the question mark appears in the number 0-716?-2841-9. Determine the missing digit.\n",
    "    \n",
    "<span class='proof'>Solution</span> The digits that we have sum to $240.$  the missing digit is in position $5.$ So $$240+5y\\equiv 0\\pmod{11}$$\n",
    "    Which is the same as $$9+5y\\equiv 0\\pmod{11}$$\n",
    "    or $$5y\\equiv -9\\pmod{11}$$ or $$5y\\equiv 2\\pmod{11}.$$\n",
    "By inspection, $y=7$.  \n",
    "    \n",
    "Check\n",
    "$$\n",
    "\\big[(0\\cdot1)+(7\\cdot2)+(1\\cdot3)+(6\\cdot4)+(7\\cdot5)\\\\+(2\\cdot6)+(8\\cdot7)+(4\\cdot8)+(1\\cdot9)+(9\\cdot10)\\big]\\bmod11=0$$"
   ]
  },
  {
   "cell_type": "markdown",
   "id": "172b8e2d",
   "metadata": {},
   "source": [
    "<hr>\n",
    "<font size=\"4\">\n",
    "<span class=\"proof\">Problem 0.51(Gallian)</span> Suppose three consecutive digits $abc$ of an ISBN-10 are scrambled as $bca.$ Which such errors will go undetected?\n",
    "    \n",
    "<span class='proof'>Solution</span> The ISBN in correct order is already $0\\bmod{11}.$ Suppose the error occurs at position $P.$\n",
    "\n",
    "Before the error, the sum mod 11 of these three positions was\n",
    "$$\\begin{align}\n",
    "&=a\\cdot P\\\\\n",
    "&=b\\cdot (P+1)\\\\\n",
    "&=c\\cdot (P+2)\n",
    "\\end{align}$$\n",
    "After the error, the sum mod 11 of the positions is\n",
    "$$\\begin{align}\n",
    "&=b\\cdot P\\\\\n",
    "&=c\\cdot (P+1)\\\\\n",
    "&=a\\cdot (P+2)\n",
    "\\end{align}$$\n",
    "As long as the original 3 digit sum and the new 3 digit sum are both $0\\bmod{11}$ then the error will not be detected.  That will occur when\n",
    " $$\\begin{align}\n",
    " \\big[bP+c(P+1)+a(P+2)\\big]&-\\big[aP+b(P+1)+c(P+2)\\big]&\\equiv 0\\pmod{11}\\\\\n",
    " \\big[bP+cP+c+aP+2a \\big]&-\\big[aP+bP+b+cP+2c \\big]&\\equiv 0\\pmod{11}\\\\\n",
    " \\big[P(a+b+c)+c+2a \\big] &- \\big[P(a+b+c)+b+2c \\big] &\\equiv 0\\pmod{11}\\\\\n",
    " &2a+c-2c-b &\\equiv 0\\pmod{11}\\\\\n",
    " &2a-b-c &\\equiv 0\\pmod{11}\n",
    " \\end{align}$$\n",
    "So the only condition where the scramble of $abc\\rightarrow bca$ will go undetected is when $(2a-b-c)\\bmod{11}=0$"
   ]
  },
  {
   "cell_type": "markdown",
   "id": "08adcee7",
   "metadata": {},
   "source": [
    "<hr>\n",
    "<font size=\"4\">\n",
    "<span class=\"proof\">Problem 0.52(Gallian)</span> The ISBN10 = 0-66903925-4 is the result of a transposition of two adjacent digits not involving the first or last digit. Determine the correct ISBN-10.\n",
    "    \n",
    "<span class='proof'>Solution</span> We are told that the transposed digits are not the first one, which is $0$, or the last one, which is $4$. That leaves $0-66903925-4$ and any two consecutive digits might be transposed.  Lets look at their sum. Using the ISBN convention, we get $248\\bmod{11}=6$ and we see that it should have been $4.$\n",
    "    \n",
    "So, Let $P$ be the position of the error.Then the correct order is $\\big[aP+b(P+1)\\big]$ and the transposition is $\\big[a(P+1)+bP\\big].$\n",
    "    \n",
    "$$\\begin{align}\n",
    "&\\big[a(P+1)+bP\\big]-\\big[aP+b(P+1)\\big]&\\equiv 6 \\pmod{11}\\\\\n",
    "&\\big[aP+a+bP\\big] -\\big[aP+bP+b\\big] &\\equiv 6 \\pmod{11}\\\\\n",
    "&\\big[P(a+b)+a\\big] -\\big[P(a+b)+b\\big] &\\equiv 6 \\pmod{11}\\\\\n",
    "&a-b&\\equiv 6\\pmod{11}\\\\\n",
    "\\end{align}$$\n",
    "So we need to look for two digits with a difference of $6\\bmod{11},$ which of course just means a difference of 6.\n",
    "    \n",
    "Clearly 39 could be the transposed digits. Swapping them gives $0669093254$ which sums to 242 and is $0\\bmod{11}$"
   ]
  },
  {
   "cell_type": "code",
   "execution_count": 8,
   "id": "f952fc21",
   "metadata": {},
   "outputs": [
    {
     "name": "stdout",
     "output_type": "stream",
     "text": [
      "sum= 242\n",
      "0\n"
     ]
    }
   ],
   "source": [
    "#a_str=input(ISBN10 =) This code fails when the last digit is X\n",
    "a_str=\"0669039254\"\n",
    "a_str=\"0669093254\"\n",
    "sum=0\n",
    "for i in range(1,10+1):\n",
    "    sum=sum+int(a_str[i-1])*i\n",
    "print('sum=',sum)\n",
    "print(sum%11)\n"
   ]
  },
  {
   "cell_type": "markdown",
   "id": "62b147f0",
   "metadata": {},
   "source": [
    "<hr>\n",
    "<font size=\"4\">\n",
    "<span class=\"proof\">Problem 0.53(Gallian)</span> Suppose the weighting vector for ISBN10 was changed to (1, 2,3, 4, 5, 6, 7, 8, 9, 10). Explain how this would affect the check digit.\n",
    "    \n",
    "<span class='proof'>Solution</span> The new check digit will be 11-'the old check digit'.  Here is an explanation:<br> Let $a_i$ be the first 9 digits of the ISBN. \n",
    "With the proper weight vector, the algorithm for computing the check digit is $$\\begin{align}\n",
    "sum &= \\sum_{i=1}^9 a_i(11-i)\\tag{1}\\\\\n",
    "sum + (1)x&\\equiv 0\\pmod{11}\\\\\n",
    "x&=(-sum)\\bmod{11}\\\\\n",
    "\\end{align}$$\n",
    "    \n",
    "When doing the check digit calculation with the new vector, the check digit is\n",
    "$$\\begin{align}\n",
    "sum &= \\sum_{i=1}^9 a_i\\cdot i\\tag{2}\\\\\n",
    "sum+10x &\\equiv 0\\pmod{11}\\\\\n",
    "x&=(sum)\\bmod{11}\n",
    "\\end{align}$$\n",
    "    \n",
    "Expanding equation (1):\n",
    "    $$a_i\\cdot 11-a_i\\cdot i$$\n",
    " but $$a_i\\cdot 11\\equiv 0\\pmod{11}$$\n",
    "    So equation (1) becomes $$\\sum_{i=1}^9-a_i\\cdot i\\tag{3}$$\n",
    " That is, the two sums are just different by a sign mod 11.\n",
    "$$n+-n\\equiv 11\\pmod{11}$$\n"
   ]
  },
  {
   "cell_type": "markdown",
   "id": "f76e7502",
   "metadata": {},
   "source": [
    "<hr>\n",
    "<font size=\"4\">\n",
    "<span class=\"proof\">Problem 0.54(Gallian)</span> Use the two-check-digit error-correction method described in this chapter to append two check digits to the number $73445860.$\n",
    "    \n",
    "<span class='proof'>Solution</span> The idea is to start with an 8 digit number and assign 2 digits such that\n",
    "  $$(a_1+a_2+\\ldots+a_9+a_{10})\\bmod{11}=0$$\n",
    "and $$(a_1,a_s\\ldots,a_{10})\\cdot (1,2,\\ldots,10)\\mod11=0$$\n",
    " The 8 digit sum of $73445860$ is $37$ and $37\\bmod{11}=4.$\n",
    " Our first equation can be<br><br> $$(4+a_9+a_{10})\\equiv 0\\pmod{11}\\tag{1}$$<br><br>\n",
    " Our second equation has an 8 digit vector sum which is $156\\equiv 2\\pmod{11}$<br><br>\n",
    "  $$(2+(9)a_9+(10)a_{10})=0\\bmod{11}\\tag{2}$$\n",
    "<br><br>Change (2) by subtracting 11 everywhere, and then add it to (1)\n",
    "  $$\\begin{align}\n",
    "  (4+a_9+a_{10})&\\equiv 0\\pmod{11} \\tag{1}\\\\\n",
    "  (-9-2a_9-a{10}&\\equiv 0\\pmod{11} \\tag{2}\\\\\n",
    "  \\text{--------}&\\text{----------}\\\\\n",
    "  (-5-a_9)&\\equiv 0\\pmod{11}\\\\\n",
    "   a_9&\\equiv 6\\pmod{11}\n",
    "  \\end{align}$$\n",
    "    \n",
    "  With a_9 known, we get equation (1) as \n",
    "  $$\\begin{align}\n",
    "  10+a_{10}&\\equiv 0\\pmod{11}\\\\\n",
    "  a_{10}&\\equiv 1\\pmod{11}\n",
    "  \\end{align}$$\n",
    "  So the final number is $7344586061.$"
   ]
  },
  {
   "cell_type": "code",
   "execution_count": 14,
   "id": "5463020a",
   "metadata": {},
   "outputs": [
    {
     "name": "stdout",
     "output_type": "stream",
     "text": [
      "0\n",
      "220 0\n"
     ]
    }
   ],
   "source": [
    "print((7+3+4+4+5+8+6+0+6+1)%11)\n",
    "sum=7*1 +3*2 +4*3+ 4*4 +5*5 +8*6 +6*7 +0*8 +6*9 +1*10\n",
    "print(sum,sum%11)"
   ]
  },
  {
   "cell_type": "markdown",
   "id": "91e60bd1",
   "metadata": {},
   "source": [
    "<hr>\n",
    "<font size=\"4\">\n",
    "<span class=\"proof\">Problem 0.55(Gallian)</span> Suppose that an eight-digit number has two check digits appended using the error-correction method described in this chapter and it is incorrectly transcribed as 4302511568. If exactly one digit is incorrect, determine the correct number.\n",
    "\n",
    "<span class='proof'>Solution</span> If we just compute the digit sum, it should be $0\\bmod{11}$ but we find that it is $2.$  That gives us the magnitude of the error.  It is 2 too large. Computing the weight vector sum yields \n",
    "$$7(1) + 8(2) + 2(3) + 4(4) + 5(5) + 0(6) + 1(7) + 8(8) + 7(9) + 7(10)=230$$\n",
    "    $$230\\bmod{11}=10$$\n",
    " So $$230\\bmod{11}=10=2\\cdot position$$\n",
    "    $$position=5.$$\n",
    "Thus we lower the value in position 5 by 2 units.\n",
    "    $$Num = 4302\\color{red}{3}11568$$"
   ]
  },
  {
   "cell_type": "code",
   "execution_count": 31,
   "id": "866f0b29",
   "metadata": {},
   "outputs": [
    {
     "name": "stdout",
     "output_type": "stream",
     "text": [
      "33 0\n",
      "220 0\n"
     ]
    }
   ],
   "source": [
    "def add_digits(digitstr):\n",
    "    sum=0\n",
    "    for i in range(len(digitstr)):\n",
    "        sum=sum+int(digitstr[i])\n",
    "    return sum\n",
    "\n",
    "def add_vectorsum(digitstr):\n",
    "    V=[1,2,3,4,5,6,7,8,9,10]\n",
    "    sum=0\n",
    "    for i in range(len(digitstr)):\n",
    "        sum=sum+int(digitstr[i])*V[i]\n",
    "    return sum\n",
    "\n",
    "num= '4302311568'    #'4302511568'\n",
    "#num='7824501877' #7324501877\n",
    "\n",
    "print(add_digits(num),add_digits(num)%11)\n",
    "print(add_vectorsum(num),add_vectorsum(num)%11)"
   ]
  },
  {
   "cell_type": "markdown",
   "id": "f27f2f24",
   "metadata": {},
   "source": [
    "<hr>\n",
    "<font size=\"4\">\n",
    "<span class=\"proof\">Problem 0.56(Gallian)</span> The state of Utah appends a ninth digit $a_9$ to an eight-digit driver’slicense number $a_1a_2 . . . a_8$ so that $(9a_9+8a_8+7a_7+6a_6+5a_5+4a_4+3a_3+2a_2+a_1)\\bmod{10}=0.$ If you know that the license number 149105267 has exactly one digit incorrect, explain why the error cannot be in position 2, 4, 6, or 8.\n",
    "    \n",
    "<span class='proof'>Solution</span> The vector sum of digits 1 thru 8 need to be divisible by 10. Currently the sum is 153. We could drop it by 3 or raise it by 7.  Positions 2,4,6,8 multiply their digit by an even number, namely 8,6,4,or 2.  No value when multiplied by an even number could change the vector sum by 3.  Therefore, the error must be in positions 1,3,5,or 7.  "
   ]
  },
  {
   "cell_type": "code",
   "execution_count": 50,
   "id": "b4d328ec",
   "metadata": {},
   "outputs": [
    {
     "name": "stdout",
     "output_type": "stream",
     "text": [
      "digit sum is 34 sum%10 is 4\n",
      "vector sum is 153 Vsum%10 is 3\n"
     ]
    }
   ],
   "source": [
    "def add_digits(digitstr):\n",
    "    sum=0\n",
    "    for i in range(len(digitstr)):\n",
    "        sum=sum+int(digitstr[i])\n",
    "    return sum\n",
    "\n",
    "def add_vectorsum(digitstr):\n",
    "    V=[9,8,7,6,5,4,3,2,1]\n",
    "    sum=0\n",
    "    for i in range(len(digitstr)):\n",
    "        sum=sum+int(digitstr[i])*V[i]\n",
    "    return sum\n",
    "\n",
    "num= '149105257'\n",
    "\n",
    "print('digit sum is',add_digits(num),'sum%10 is',add_digits(num)%10)\n",
    "print('vector sum is',add_vectorsum(num),'Vsum%10 is',add_vectorsum(num)%10)"
   ]
  },
  {
   "cell_type": "markdown",
   "id": "505a6525",
   "metadata": {},
   "source": [
    "<hr>\n",
    "<font size=\"4\">\n",
    "<span class=\"proof\">Problem 0.57(Gallian)</span> Complete the proof of Theorem 0.8. These proofs are taken directly from the answers at the back of the book.<br>\n",
    "<span class='lemma'>Definition: </span> A function $\\phi$ from set $A$ is 'one to one' if for every $a_1,a_2\\in A, \\phi(a_1)=\\phi(a_2)\\Rightarrow a_1=a_2.$\n",
    "    \n",
    "<span class='proof'>Proof:</span> Given functions $\\alpha: A \\rightarrow B,\\qquad \\beta: B \\rightarrow C,$ and $\\qquad \\gamma: C \\rightarrow D,$ then <br><br>\n",
    "(2) We want to show that If $\\alpha$ and $\\beta$ are one-to-one, then $\\beta\\alpha$ is one-to-one.\n",
    "  \n",
    " <div class='lemma'>Since $\\beta$ is one-to-one, $\\beta(\\alpha(a_1))=\\beta(\\alpha(a_2))\\implies \\alpha(a_1)=\\alpha(a_2);$ and since $\\alpha$ is one-to-one, $a_1=a_2$</div>\n",
    " <br><br><br>   \n",
    "(3) We want to show that If $\\alpha$ and $\\beta$ are onto, then $\\beta\\alpha$ is onto.<br><br>\n",
    "<div class='lemma'>  \n",
    "\n",
    "Let $c\\in C.$ There is a $b\\in B$ such that $\\beta(b)=c$ and there is an $a\\in A$ such that $\\alpha(a)=b.$  Thus, $$(\\beta\\alpha)(a)=\\beta(\\alpha(a))=\\beta(b)=c.$$\n",
    " </div>   \n",
    "    \n",
    " (4) We want to show that  if $\\alpha$ is one-to-one and onto, then there is a function $a^{-1}$ from $B$ onto $A$ such that $(\\alpha^{-1}\\alpha)(a)=a$  for all $a \\in A$ and $(\\alpha\\alpha^{-1})(b)=b \\  \\forall\\  b\\in B.$\n",
    " \n",
    " <div class='lemma'>Since $\\alpha$ is one to one and onto, we may define $\\alpha^{-1}(x)=y \\iff \\alpha(y)=x.$  Then $\\alpha^{-1}(\\alpha(a))=a$ and $\\alpha(a^{-1}(b)=b$</div>"
   ]
  },
  {
   "cell_type": "markdown",
   "id": "9d2d30e9",
   "metadata": {},
   "source": [
    "<hr>\n",
    "<font size=\"4\">\n",
    "<span class=\"proof\">Problem 0.58(Gallian)</span> Let S be the set of real numbers. If $a,b\\in S,$ define $a\\sim b$ if $a-b$ is an integer. Show that $\\sim$ is an equivalence relation on $S.$ Describe the equivalence classes of $S.$\n",
    "    \n",
    "<span class='proof'>Proof:</span> The equivalence on $S$ can be described as $S=\\{(a,b)\\in\\mathbb{R} \\mid a-b\\in\\mathbb{Z}\\}$<br><br>\n",
    "    \n",
    " We need to show that members $a,b$ which are in the class are reflexive, symmetric, and transitive.\n",
    " \n",
    "First, reflexivity:  If $(a,b)\\in S,$ then $a-a=0$ and $b-b=0.$ Since $0$ is an integer, we have shown symmetry.\n",
    "    \n",
    "Second, symmetry: If $(a,b)\\in S,$ then $a-b\\in\\mathbb{Z}\\implies b-a\\in\\mathbb{Z}$<br> Let $x\\in\\mathbb{Z}=a-b$ then \n",
    " $$\\begin{align}\n",
    " x&=a-b\\\\\n",
    " b+x&=a\\\\\n",
    " b-a+x&=0\\\\\n",
    " b-a&=-x\n",
    " \\end{align}$$\n",
    " Since $-x$ is an integer, we have shown symmetry.\n",
    "    \n",
    " Third, transitivity: Assume \n",
    "  $$\\begin{align}\n",
    "  a-b&=n\\in\\mathbb{Z}\\tag{1}\\\\\n",
    "  a&=b+n\n",
    "  \\end{align}$$\n",
    " and $$\\begin{align}\n",
    " b-c&=m\\in\\mathbb{Z}.\\tag{2}\\\\\n",
    " c&=b-m\n",
    " \\end{align}$$\n",
    " Now write $a-c.$\n",
    " $$\\begin{align}\n",
    "  a-c&=n+b-(b-m)\\\\\n",
    "  &=n+m+b-b\\\\\n",
    "  &=n+m\n",
    "  \\end{align}$$\n",
    " Since $n$ and $m$ are both integers, then $n+m$ is an integer and we have transitivity.\n",
    "\n",
    "<br><br>The equivalence classes for this relation include those groups of rational numbers which exhibit transitivity with one another for the operation $a-b\\in\\mathbb{Z}.$ For example,  $A=\\{1/4, 5/4, 9/4\\ldots\\}$ form an equilence class, while $B=\\{2/4,6/4,10/4\\ldots\\}$ form a different equivalence class and members of $A$ are not in $B$"
   ]
  },
  {
   "cell_type": "markdown",
   "id": "2fadb980",
   "metadata": {},
   "source": [
    "<hr>\n",
    "<font size=\"4\">\n",
    "<span class=\"proof\">Problem 0.59(Gallian)</span> Let $S$ be the set of integers. If $a,b\\in S,$ define $aRb$ if $ab\\ge 0.$ Is $R$ an equivalence relation on $S?$\n",
    "    \n",
    "<span class='proof'>Answer:</span> Untangling this a bit, it asks \"if integers $a$ and $b$ combine by multiplication to be greater than or equal to zero, then (a,b) are they in an equivalence relation?\"  To be $aRb$ (is this similar to love?), the members have to be 'rst' (reflexive, symmetric,transitive.) <br><br>\n",
    "Reflexive seems to work. $a\\cdot a \\ge 0$<br>\n",
    "Symmetric seems to work. $a\\cdot b\\ge 0\\implies b\\cdot a\\ge 0$<br>\n",
    "Transitivity has a zero issue. Let $(a,b)=(-5,0)$ and $(b,c) = (0,4).$ The transitive relation, $(-5,4)<0,\\ \\notin R.$<br>"
   ]
  },
  {
   "cell_type": "markdown",
   "id": "486fc622",
   "metadata": {},
   "source": [
    "<hr>\n",
    "<font size=\"4\">\n",
    "<span class=\"proof\">Problem 0.60(Gallian)</span> Let $S$ be the set of integers. If $a,b\\in S,$ define $aRb$ if $a+b$ is even. Prove that $R$ is an equivalence relation and determine the equivalence classes of $S.$\n",
    "    \n",
    "<span class='proof'>Answer:</span> $A$ and $B$ are integers and $a+b=2n$ for $n\\in\\mathbb{Z}$<br>\n",
    "Assume $a+b=2n$ for $n\\in\\mathbb{Z}$<br><br>\n",
    "Reflexivity: Either $a$ is even or $a$ is odd.  If $a$ is even, then it can be represented by $2n$ and $2n+2n=2(2n)$ so $a=2n$ is even.  If $a$ is odd, then it can be represented by $2n+1$ and $(2n+1)+(2n+1)=4n+2=2(2n+1)$ which again is even so we have reflexivity.\n",
    "    \n",
    "Symmetric. If $a$ and $b$ are even, then we have $a=2n$ and $b=2m$ for integers $(n,m).$ We need to show that a+b is even. \n",
    "$$\\begin{align}\n",
    "a+b&=2n+2m\\\\\n",
    "&=2(n+m)\\\\\n",
    "&2\\mid (a+b)\\implies \\text{symmetry of (a,b) both even}\n",
    "\\end{align}$$\n",
    "    \n",
    "For (a,b) both odd, we have $a=2n+1$ and $b=2m+1$ for integers $n,m.$\n",
    " $$\\begin{align}\n",
    " a+b&=2n+1+2m+1\\\\\n",
    " &=2(n+m+1)\\\\\n",
    " &2\\mid 2(n+m+1)\\implies \\text{symmetry for (a,b) both odd}\n",
    " \\end{align}$$\n",
    "    \n",
    "Transitivity. We need to show that if $2\\mid a+b$ and $2\\mid b+c$ that $2\\mid a+c.$\n",
    "<br>Case 1: all even $(a=2k,b=2m,c=2n)$ for $(k,m,n)\\in\\mathbb{Z}.$\n",
    "$$\\begin{align}\n",
    "a+b&=2k+2m=2(k+m)\\\\\n",
    "a&=2(k+m)-b\\\\\n",
    "b+c&=2m+2n=2(m+n)\\\\\n",
    "c&=2(m+n)-b\\\\\n",
    "a+c&=2(k+m)-b+2(m+n)-b\\\\\n",
    "&=2[(k+m)+(m+n)-b]\\\\\n",
    "&2\\mid [(k+m)+(m+n)-b]\\implies \\text{transitivity for (a,b) both even}\n",
    "\\end{align}$$\n",
    "    \n",
    "<br>Case 2: all odd $(a=2k+1,b=2m+1,c=2n+1)$ for $(k,m,n)\\in\\mathbb{Z}.$\n",
    "$$\\begin{align}\n",
    "a+b&=2k+1+2m+1=2(k+m+2)\\\\\n",
    "a&=2(k+m+2)-b\\\\\n",
    "b+c&=2m+1+2n+1=2(m+n+2)\\\\\n",
    "c&=2(m+n+2)-b\\\\\n",
    "a+c&=2(k+m+2)-b+2(m+n+2)-b\\\\\n",
    "&=2[(k+m+2)+(m+n+2)-b]\\\\\n",
    "&2\\mid [(k+m+2)+(m+n+2)-b]\\implies \\text{transitivity for (a,b) both odd}\n",
    "\\end{align}$$\n",
    "    \n",
    "There are two equivalence classes. (a,b) both even and (a,b) both odd.\n",
    "\n"
   ]
  },
  {
   "cell_type": "markdown",
   "id": "29a5f597",
   "metadata": {},
   "source": [
    "<hr>\n",
    "<font size=\"4\">\n",
    "<span class=\"proof\">Problem 0.61(Gallian)</span> Complete the proof of Theorem 0.7 by showing that $\\sim,$ is an equivalence relation on $S.$\n",
    "    \n",
    "<span class='theorem'>Theorem 0.7</span>  The equivalence classes of an equivalence relation on a set $S$ constitute a partition of $S.$ Conversely, for any partition $P$ of $S,$ there is an equivalence relation on $S$ whose equivalence classes are the elements of $P.$\n",
    "    \n",
    "<span class='proof'>Proof:</span> (from the answers in the book) We are proving the 'converse' part of the theorem.\n",
    "    \n",
    " $a$ belongs to the same subset as $a.$ If $a$ and $b$ belong to the subset $A,$ then $b$ and $a$ also belong to $A.$ If $a$ and $b$ belong to the subset $A$ and $b$ and $c$ belong to the subset $B,$ then $A= B,$ since the distinct subsets of $P$ are disjoint. So, $a$ and $c$ belong to $A.$\n",
    "    \n"
   ]
  },
  {
   "cell_type": "markdown",
   "id": "1537795b",
   "metadata": {},
   "source": [
    "<hr>\n",
    "<font size=\"4\">\n",
    "<span class=\"proof\">Problem 0.62(Gallian)</span> Prove that 3, 5, and 7 are the only three consecutive odd integers that are prime.\n",
    "    \n",
    " <span class='proof'>Proof:</span> We can prove that any sequence of three consecutive odd numbers is divisible by 3.  Therefore, no consecutive odd numbers other than the one shown could possibly be prime.\n",
    "We can represent the numbers as $n,n+2,n+4$ and $n$ can be odd. Modulo 3, we would get $(1,0,2).$  If $n\\bmod{3}=0,$ we are done.  If $n\\bmod{3}=1,$ then $n+2\\bmod{3}=0$ and we are done, else if $n\\bmod{3}=2,$ then $n+4\\bmod{3}=0$ and we are done.\n",
    "    \n",
    "So the consecutive odd numbers associate into 3 equivalence classes modulo 3 and one of those classes is always divisible by 3."
   ]
  },
  {
   "cell_type": "markdown",
   "id": "3afba903",
   "metadata": {},
   "source": [
    "<hr>\n",
    "<font size=\"4\">\n",
    "<span class=\"proof\">Problem 0.63(Gallian)</span> What is the last digit of $3^{100}?$ $\\quad$ What is the last digit of $2^{100}?$\n",
    "    \n",
    "<span class='proof'>Answer:</span> Let's try a few.\n",
    " $$\\begin{array} {|r|r|}\\hline 3^0 & 3^1 & 3^2 & 3^3 & 3^4 & 3^5 & 3^6 & 3^7 & 3^8 & 3^9 \\\\ \\hline 1 & 3 & 9 & 27 & 81 & 243 & 729 & 2187 & 6561 & 19683 \\\\ \\hline  \\end{array}$$\n",
    "Looks like if it is even it will end in either 1 or 9 and they alternate. So if the exponent is a multiple of 4, then it ends in 1.  Ergo the last digit of $3^{100}=1.$\n",
    "    \n",
    "Let's look at $2^{100}.$\n",
    "$$\\begin{array} {|r|r|}\\hline 2^0 & 2^1 & 2^2 & 22^3 & 2^4 & 2^5 & 2^6 & 2^7 & 2^8 & 2^9 & 2^{10} & 2^{11} & 2^{12} \\\\ \\hline 1 & 2 & 4 & 8 & 16 & 32 & 64 & 128 & 256 & 512 & 1024 & 2048 & 4096 \\\\ \\hline  \\end{array}$$\n",
    "Again it looks like if the exponent is divisible by 4 that the value ends in 6.  Ergo the last digit of $2^{100}=6$"
   ]
  },
  {
   "cell_type": "code",
   "execution_count": 17,
   "id": "b8ce6e1e-002b-4815-894a-5dabc201f278",
   "metadata": {},
   "outputs": [
    {
     "name": "stdout",
     "output_type": "stream",
     "text": [
      "7\n",
      "0 1 1\n",
      "1 7 7\n",
      "2 49 9\n",
      "3 343 3\n",
      "4 2401 1\n",
      "5 16807 7\n",
      "6 117649 9\n",
      "7 823543 3\n",
      "8 5764801 1\n",
      "9 40353607 7\n",
      "10 282475249 9\n",
      "11 1977326743 3\n",
      "12 13841287201 1\n",
      "13 96889010407 7\n",
      "14 678223072849 9\n",
      "15 4747561509943 3\n",
      "16 33232930569601 1\n",
      "17 232630513987207 7\n",
      "18 1628413597910449 9\n",
      "19 11398895185373143 3\n",
      "20 79792266297612001 1\n",
      "21 558545864083284007 7\n",
      "22 3909821048582988049 9\n",
      "23 27368747340080916343 3\n",
      "24 191581231380566414401 1\n",
      "25 1341068619663964900807 7\n",
      "26 9387480337647754305649 9\n",
      "27 65712362363534280139543 3\n",
      "28 459986536544739960976801 1\n",
      "29 3219905755813179726837607 7\n",
      "30 22539340290692258087863249 9\n",
      "31 157775382034845806615042743 3\n",
      "32 1104427674243920646305299201 1\n",
      "33 7730993719707444524137094407 7\n",
      "34 54116956037952111668959660849 9\n",
      "35 378818692265664781682717625943 3\n",
      "36 2651730845859653471779023381601 1\n",
      "37 18562115921017574302453163671207 7\n",
      "38 129934811447123020117172145698449 9\n",
      "39 909543680129861140820205019889143 3\n",
      "40 6366805760909027985741435139224001 1\n",
      "41 44567640326363195900190045974568007 7\n",
      "42 311973482284542371301330321821976049 9\n",
      "43 2183814375991796599109312252753832343 3\n",
      "44 15286700631942576193765185769276826401 1\n",
      "45 107006904423598033356356300384937784807 7\n",
      "46 749048330965186233494494102694564493649 9\n",
      "47 5243338316756303634461458718861951455543 3\n",
      "48 36703368217294125441230211032033660188801 1\n",
      "49 256923577521058878088611477224235621321607 7\n"
     ]
    }
   ],
   "source": [
    "import sys\n",
    "sys.set_int_max_str_digits(100000)\n",
    "print((3**7)%(10))\n",
    "for i in range(0,50):\n",
    "    print(i,(7**i),(7**i)%10)\n",
    "    "
   ]
  },
  {
   "cell_type": "markdown",
   "id": "7a3cac8e-a320-40fc-bffc-db4a2cccc1d4",
   "metadata": {},
   "source": [
    "$7^0 = 1$<br>\n",
    "$7^1 = 7$<br>\n",
    "$7^2 = 49"
   ]
  },
  {
   "cell_type": "markdown",
   "id": "2fbd87ad",
   "metadata": {},
   "source": [
    "<hr>\n",
    "<font size=\"4\">\n",
    "<span class=\"proof\">Problem 0.64(Gallian)</span> Prove that none of the integers 11, 111, 1111, 11111, . . . is a square of an integer.\n",
    "    \n",
    "\n",
    "<span class='lemma'> Lemma:</span> All numbers that are divisible by 4 have the last two digits divisible by 4.<br><br>\n",
    "<span class='proof'>Proof: </span> Suppose some number is $$abcd=a\\cdot 1000+b\\cdot 100+c\\cdot 10+d$$ and is divisible by $4.$ We can show the number as\n",
    "$$\\begin{align}\n",
    "num &= a\\cdot 1000+b\\cdot 100+c\\cdot 10+d\\\\\n",
    "&= a\\cdot 250\\cdot 4+b\\cdot 25\\cdot 4+c\\cdot 10+d\\\\\n",
    "\\end{align}$$\n",
    "We see that the 1000's place and 100's place are divisible by $4,$ and since the number is divisible by 4, it must be that the (10's + 1's) place are together divisible by $4.$ QED\n",
    "<br><br>    \n",
    " Now to prove the problem statement.<br>\n",
    "<span class='proof'>Proof:</span> The integers partition into two class, the odds and evens. Let $a=2n,$ an even integer. Then $a^2=(2n)^2=4\\cdot n^2)$ and is therefore divisible by 4. That is, all even integers, when squared can be divided by 4.\n",
    "    \n",
    "Now consider the odd integers.  Let $a=2n+1,$ then $a^2=(2n+1)(2n+1)=4n^2+4n+1$.  That is, any odd square, when 1 is subtracted will be divisible by $4.$\n",
    "    \n",
    "Finally, consider the sequence $11, 111, 1111,\\cdots$ In all cases, the last two digits are not divisible by 4 therefore the number cannot be the result of any even number squared.  Also, if 1 is subtracted from each number in the sequence we get $10,110,1110,\\cdots$ and the last two digits cannot be divided by $4,$ therefore the number cannot be the result of any odd number squared. QED."
   ]
  },
  {
   "cell_type": "markdown",
   "id": "e4407941",
   "metadata": {},
   "source": [
    "<hr>\n",
    "<font size=\"4\">\n",
    "<span class=\"proof\">Problem 0.65(Gallian)</span> Cancellation Property: Suppose $\\alpha, \\beta,$ and $\\gamma$ are functions.  If $\\alpha\\gamma=\\beta\\gamma$ is one to one and onto, prove that $\\alpha=\\beta.$\n",
    "    \n",
    " <span class='proof'>Proof:</span> Since $\\alpha\\gamma = \\beta\\gamma$ and there exists an inverse, $\\gamma^{-1},$\n",
    " \n",
    "<div class='blue'> If $\\alpha$ is one-to-one and onto, then there is a function $\\alpha^{-1}$ from $B$ onto $A$ such that $(\\alpha^{-1}\\alpha)(a)=a$ for all $a$ in $A$ and $(\\alpha^{-1}\\alpha)(b)= b$\n",
    "    for all $b$ in $B.$   </div>\n",
    "    \n",
    " Because the above was proved in problem 0.57, we can write\n",
    " $$\\begin{align}\n",
    " \\alpha\\gamma\\gamma^{-1}&=\\beta\\gamma\\gamma^{-1}\\\\\n",
    " \\alpha&=\\beta\n",
    " \\end{align}$$"
   ]
  }
 ],
 "metadata": {
  "kernelspec": {
   "display_name": "Python 3 (ipykernel)",
   "language": "python",
   "name": "python3"
  },
  "language_info": {
   "codemirror_mode": {
    "name": "ipython",
    "version": 3
   },
   "file_extension": ".py",
   "mimetype": "text/x-python",
   "name": "python",
   "nbconvert_exporter": "python",
   "pygments_lexer": "ipython3",
   "version": "3.11.4"
  }
 },
 "nbformat": 4,
 "nbformat_minor": 5
}
