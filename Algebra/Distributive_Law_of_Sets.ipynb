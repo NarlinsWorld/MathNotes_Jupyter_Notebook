{
 "cells": [
  {
   "cell_type": "markdown",
   "id": "7f92aed1",
   "metadata": {},
   "source": [
    "<font size=3>\n",
    "The Venn diagram below shows that the distributive law holds for sets.<br>\n",
    "$A\\cup (B\\cap C) = (A\\cup B)\\cap (A\\cup C)$\n",
    "It would be helpful if more words were used. \n",
    "    See <a href=\"https://faculty.uml.edu/klevasseur/ads/s-proof-methods-sets.html\">here</a>\n"
   ]
  },
  {
   "cell_type": "markdown",
   "id": "f264239b",
   "metadata": {},
   "source": [
    "<img src=\"..\\Images\\Sets_Distributive_Law.png\" height=300 width=500>"
   ]
  }
 ],
 "metadata": {
  "kernelspec": {
   "display_name": "Python 3 (ipykernel)",
   "language": "python",
   "name": "python3"
  },
  "language_info": {
   "codemirror_mode": {
    "name": "ipython",
    "version": 3
   },
   "file_extension": ".py",
   "mimetype": "text/x-python",
   "name": "python",
   "nbconvert_exporter": "python",
   "pygments_lexer": "ipython3",
   "version": "3.11.0"
  }
 },
 "nbformat": 4,
 "nbformat_minor": 5
}
