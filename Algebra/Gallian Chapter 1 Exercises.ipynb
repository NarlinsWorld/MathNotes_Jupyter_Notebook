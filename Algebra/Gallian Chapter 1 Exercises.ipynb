{
 "cells": [
  {
   "cell_type": "code",
   "execution_count": 1,
   "id": "0d2fc148",
   "metadata": {},
   "outputs": [
    {
     "data": {
      "text/html": [
       "<style>\n",
       "div{\n",
       "    font-size:medium;\n",
       "}\n",
       ".theorem{\n",
       "    color: navy;\n",
       "    font-weight: bold;\n",
       "    font-size:x-large;\n",
       "}\n",
       ".lemma {\n",
       "    color: blue;\n",
       "    font-style: italic;\n",
       "}\n",
       ".proof {\n",
       "    color: red;\n",
       "    font-weight: bold;\n",
       "}\n",
       ".red {\n",
       "    color: red;\n",
       "}\n",
       ".blue {\n",
       "    color: blue;\n",
       "}\n",
       "hr{\n",
       "    border-top: 2px purple solid;\n",
       "}\n",
       ".oomph{\n",
       "    color:darkgreen;\n",
       "    font-weight: bold;\n",
       "}\n",
       "</style>\n"
      ],
      "text/plain": [
       "<IPython.core.display.HTML object>"
      ]
     },
     "metadata": {},
     "output_type": "display_data"
    }
   ],
   "source": [
    "%%html\n",
    "<style>\n",
    "div{\n",
    "    font-size:medium;\n",
    "}\n",
    ".theorem{\n",
    "    color: navy;\n",
    "    font-weight: bold;\n",
    "    font-size:x-large;\n",
    "}\n",
    ".lemma {\n",
    "    color: blue;\n",
    "    font-style: italic;\n",
    "}\n",
    ".proof {\n",
    "    color: red;\n",
    "    font-weight: bold;\n",
    "}\n",
    ".red {\n",
    "    color: red;\n",
    "}\n",
    ".blue {\n",
    "    color: blue;\n",
    "}\n",
    "hr{\n",
    "    border-top: 2px purple solid;\n",
    "}\n",
    ".oomph{\n",
    "    color:darkgreen;\n",
    "    font-weight: bold;\n",
    "}\n",
    "</style>"
   ]
  },
  {
   "cell_type": "markdown",
   "id": "c3823e91",
   "metadata": {},
   "source": [
    "<hr>\n",
    "<font size=\"4\">\n",
    "<span class=\"proof\">Problem 1.01 (Gallian):</span>\n",
    "With pictures and words, describe each symmetry in D3 (the set ofsymmetries of an equilateral triangle).\n",
    "    \n",
    "    \n",
    "<span class=\"proof\">Answer:</span>\n",
    "Rotations are counter clockwise by $120^\\circ$ each. When a dashed line is shown, it is meant that the plane is turned over such that the dashed line is returned to the same position.  Another way to say this is to rotate the image out of the plane by $180^\\circ$ with the rotation alone the dashed line. This operation is indicated in the diagram with the letter V and subscripted for the three different dashed lines. It is worth noting that the operation produces a mirror image (i.e. a reflection across the dashed line).\n",
    "    \n",
    "<img src=\"../Images/D3 group.png\" width=60%>\n",
    " "
   ]
  },
  {
   "cell_type": "markdown",
   "id": "ae19527d",
   "metadata": {},
   "source": [
    "<hr>\n",
    "<font size=\"4\">\n",
    "<span class=\"proof\">Problem 1.02 (Gallian):</span>\n",
    "Write out a complete Cayley table for D3. Is D3 Abelian?\n",
    "\n",
    "<span class=\"proof\">Answer:</span>\n",
    "$$\\begin{array} {|r|r|}\n",
    " &\\color{blue}{R_0} & \\color{blue}{R_{120}} & \\color{blue}{R_{240}} & \\color{blue}{V_1} & \\color{blue}{V_2} & \\color{blue}{V_3} \\\\ \\hline\n",
    " \\color{blue}{R_0}&R_0 & R_{120} & R_{240} & V_1 & V_2 & V_3 \\\\ \\hline \n",
    " \\color{blue}{R_{120}}&R_{120} & R_{240} & R_0 & V_3 & V_1 & V_2 \\\\ \\hline \n",
    " \\color{blue}{R_{240}}&R_{240} & R_0 & R_{120} & V_2 & V_3 & V_1 \\\\ \\hline\n",
    " \\color{blue}{V_1}&V_1 & V_2 & V_3 & R_0 & R_{120} & R_{240} \\\\ \\hline\n",
    " \\color{blue}{V_2}&V_2 & V_3 & V_1 & R_{240} & R_0 & R_{120} \\\\ \\hline\n",
    " \\color{blue}{V_3}&V_3 & V_1 & V_2 & R_{120} & R_{240} & R_0 \\\\ \\hline\n",
    " \\end{array}$$\n",
    "    \n",
    " $D_3$ is not Abelian. For example $V_2R_{240}=V_1$ but $R_{240}V_2=V_3$\n"
   ]
  },
  {
   "cell_type": "markdown",
   "id": "2238d59a",
   "metadata": {},
   "source": [
    "<hr>\n",
    "<font size=\"4\">\n",
    "<span class=\"proof\">Problem 1.03 (Gallian):</span>\n",
    "In $D_4,$ find all elements $X$ such that<br>\n",
    "a. $X^3= V$<br>\n",
    "b. $X^3= V_{90};$<br>\n",
    "c. $X^3=R_0$<br>\n",
    "d. $X^2= R_0$<br>\n",
    "e. $X^2= H.$<br>\n",
    "    \n",
    "<span class=\"proof\">Answer:</span> There are 8 elements in $D_4$ that could possibly be cubed.\n",
    "<img src=\"../Images/D4 group.png\" width=100%>\n",
    " <span class='blue'>Answer a:</span><br>\n",
    " $R_0^3=R_0$<br>\n",
    "$R_{90}^3=R_{90}\\cdot R_{180}=R_{270}$<br>\n",
    "$R_{180}^3=R_{180}$<br>\n",
    "$R_{270}^3=R_{90}$<br>\n",
    "$H^3=HH^2=HR_0=H$<br>\n",
    "$\\color{blue}{V^3=VV^2=VR_0=V}\\leftarrow\\text{only one that works}$<br>\n",
    "$D^3=DD^2=DR_0=D$<br>\n",
    "$D'^3=D'D'^2=D'R_0=D'$\n",
    "    \n",
    "<span class='blue'>Answer b:</span><br> A $90^\\circ$ CCW rotation of $V$ yields $D$ and only $D^3$ yields $D.$\n",
    "    \n",
    "<span class='blue'>Answer c:</span><br> Only $R_0^3$ yields $R_0$\n",
    "    \n",
    "<span class='blue'>Answer d:</span><br> All 8 elements except $R_{90}$ and $R_{270}$ will give R_0 when squared.\n",
    "    \n",
    "<span class='blue'>Answer e:</span><br> No element yields $H$ when squared."
   ]
  },
  {
   "cell_type": "markdown",
   "id": "0d574375",
   "metadata": {},
   "source": [
    "<hr>\n",
    "<font size=\"4\">\n",
    "<span class=\"proof\">Problem 1.04 (Gallian):</span> Describe in pictures or words the elements of $D_5$ (symmetries of a regular pentagon).\n",
    "    \n",
    "<span class=\"proof\">Answer:</span>  The 10 elements of $D_5$ include $5$ rotations of $72^\\circ$ each, so $R_0, R_{72}, R_{144}, R_{216}, R_{288}.$  Imagine a regular pentagon with a line thru each vertex that is perpendicular to the opposite side. Across each of those 5 lines, we reflect the vertex identifiers. Each time, the identifier at the vertex of the line is left in place. These rotation and reflection operations create all 10 elements of $D_5.$"
   ]
  },
  {
   "cell_type": "markdown",
   "id": "0ec241d2",
   "metadata": {},
   "source": [
    "<hr>\n",
    "<font size=\"4\">\n",
    "<span class=\"proof\">Problem 1.05 (Gallian):</span> For $n\\ge 3,$ describe the elements of $D_n.$ (Hint: You will need to consider two cases— $n$ even and $n$ odd.) How many elements does $D_n$ have?\n",
    "    \n",
    "<span class=\"proof\">Answer:</span> In mathematics, a dihedral group is the group of symmetries of a regular polygon in a plane, which includes rotations and reflections.  The number of rotations is equal to the number of vertices of the regular polygon and each rotation is through $\\frac{360^\\circ}{n}$ degrees. In addition, there are two sets of additional reflections, with n/2 different elements in each set.  <br>Set 1 reflection lines for even numbered polygons goes from each vertex to the opposite vertex, passing through the center of the polygon. There will be $n/2$ such reflection lines, and each line creates one new element. <br>\n",
    "Set 2 reflection lines are drawn from the midpoint of each side to the midpoint of the opposite side and the vertex numbers are reflected across the line. There will be $n/2$ of these lines and $n/2$ unique elements.\n",
    "<br>Summary of even vertex Polygons: There are  $n$ rotational elements and $\\frac{n}{2}+\\frac{n}{2}$ reflection elements.\n",
    "    \n",
    "Regular polygons with an odd number of vertices still have $n$ rotational elements as above.  Their reflection lines go from each vertex to the midpoint of the opposite side.  There are $n$ of these reflections resulting in $n$ elements.\n",
    "<br>Summary of odd vertex Polygons: There are  $n$ rotational elements and $n$ reflection elements.\n",
    "    \n",
    "The dihedral group $D_n$ has $2n$ elements.\n",
    "  "
   ]
  },
  {
   "cell_type": "markdown",
   "id": "ce4338af",
   "metadata": {},
   "source": [
    "<hr>\n",
    "<font size=\"4\">\n",
    "<span class=\"proof\">Problem 1.06 (Gallian):</span> In $D_n,$ explain geometrically why a reflection followed by a reflection must be a rotation\n",
    "    \n",
    "<span class=\"proof\">Answer:</span> Draw a regular polygon on a plane, for example a piece of paper.  All possible rotations can be made without flipping the paper over.  Flipping the plane over is a reflection and flipping it over again, regardless of which mirror line is used for the flip, just gets back to the rotations side. Consequently it will be in one of the possible rotations."
   ]
  },
  {
   "cell_type": "markdown",
   "id": "6db7cb57",
   "metadata": {},
   "source": [
    "<hr>\n",
    "<font size=\"4\">\n",
    "<span class=\"proof\">Problem 1.07 (Gallian):</span> \n",
    "   In $D_n,$ explain geometrically why a rotation followed by a rotation must be a rotation.\n",
    "    \n",
    "<span class=\"proof\">Answer:</span> All rotations come from one side of the plane.  Therefore no reflection occurs, then any rotation followed by any other rotation must still result in some rotation."
   ]
  },
  {
   "cell_type": "markdown",
   "id": "2244bd33",
   "metadata": {},
   "source": [
    "<hr>\n",
    "<font size=\"4\">\n",
    "<span class=\"proof\">Problem 1.08 (Gallian):</span> In $D_n,$ explain geometrically why a rotation and a reflection taken\n",
    "together in either order must be a reflection.\n",
    "\n",
    "<span class=\"proof\">Answer:</span>    A reflection is tatamount to flipping over the plane. It matters not whether the paper is flipped first or second.  The flip side is always some reflection."
   ]
  },
  {
   "cell_type": "markdown",
   "id": "b1cf8fca",
   "metadata": {},
   "source": [
    "<hr>\n",
    "<font size=\"4\">\n",
    "<span class=\"proof\">Problem 1.09 (Gallian):</span>  Associate the number $1$ with a rotation and the number $-1$ with a\n",
    "reflection. Describe an analogy between multiplying these two\n",
    "numbers and multiplying elements of $D_n.$\n",
    "\n",
    "<span class=\"proof\">Answer:</span>  The multiplication of $1$ and $-1$ is analogous to rotation and reflection. Suppose $1$ is the rotation side of the plane and $-1$ is the reflection side.  Then by analogy, if the multiplication (using as many elements as desired) is $+1$ then we will have a rotation and if it is negative 1, we have a reflection."
   ]
  },
  {
   "cell_type": "markdown",
   "id": "26385080",
   "metadata": {},
   "source": [
    "<hr>\n",
    "<font size=\"4\">\n",
    "<span class=\"proof\">Problem 1.10 (Gallian):</span>  If $r_1, r_2, r_3$ represent rotations from $D_n$ and $f_1, f_2, f_3$ represent\n",
    "reflections from $D_n,$ determine whether $r_1r_2f_1r_3f_2f_3r_3$ is a rotation \n",
    "or a reflection.\n",
    "\n",
    "<span class=\"proof\">Answer:</span>   It will be reflection because there are three reflections in the operation and thus on odd number of them. By analogy with $1$ and $-1$ it must be a reflection."
   ]
  },
  {
   "cell_type": "markdown",
   "id": "f7ec5351",
   "metadata": {},
   "source": [
    "<hr>\n",
    "<font size=\"4\">\n",
    "<span class=\"proof\">Problem 1.11 (Gallian):</span>\n",
    "Find elements $A, B,$ and $C$ in $D_4$ such that $AB= BC$ but $A\\ne C.$ (Thus, “cross cancellation” is not valid.)\n",
    "\n",
    "<span class=\"proof\">Answer:</span>   Finding an example is not hard. $$\\begin{align}\n",
    "H\\cdot &R_{90}&=D\\\\\n",
    "&R_{90}\\cdot V &=D\\\\\n",
    "\\text{so }&H\\cdot R_{90} &= R_{90}\\cdot V\\\\\n",
    "\\text{but }&H&\\ne V\\\\\n",
    "\\end{align}$$"
   ]
  },
  {
   "cell_type": "markdown",
   "id": "26ebfaaa",
   "metadata": {},
   "source": [
    "<hr>\n",
    "<font size=\"4\">\n",
    "<span class=\"proof\">Problem 1.12 (Gallian):</span> Explain what the following diagram proves about the group $D_n.$\n",
    " <img src=\"../Images/D4 not Abelian.png\" width=100%>\n",
    "\n",
    "<span class=\"proof\">Answer:</span>    The diagram shows that the general dihedral group, $D_n$ is not Abelian. It does so by taking general vertex $1$ and first performing a reflection followed by a rotation and then doing it again but first performing a rotation followed by a reflection.  clearly we arrive at a different result."
   ]
  },
  {
   "cell_type": "markdown",
   "id": "6d734709",
   "metadata": {},
   "source": [
    "<hr>\n",
    "<font size=\"4\">\n",
    "<span class=\"proof\">Problem 1.13 (Gallian):</span> Describe the symmetries of a nonsquare rectangle. Construct the corresponding Cayley table.\n",
    "\n",
    "<span class=\"proof\">Answer:</span>  A nonsquare rectangle has only 2 lines of symmetry. The symmetry lines join midpoints of 2 opposite sides.\n",
    "    \n",
    "$$\\begin{array} {|r|r|}\n",
    " &\\color{blue}{R_0} & \\color{blue}{R_{180}} & \\color{blue}{F_1} & \\color{blue}{F_2}\\\\ \\hline\n",
    " \\color{blue}{R_0}&R_0 & R_{180} & F_1 & F_2 \\\\ \\hline \n",
    " \\color{blue}{R_{180}}&R_{180} &R_0 & F_2 & F_1 \\\\ \\hline \n",
    " \\color{blue}{F_1}&F_1 & F_2 & R_{0} & R_{180} \\\\ \\hline\n",
    " \\color{blue}{F_2}&F_2 & F_1 & R_{180} & R_0 \\\\ \\hline\n",
    " \\end{array}$$\n"
   ]
  },
  {
   "cell_type": "markdown",
   "id": "669af2fb",
   "metadata": {},
   "source": [
    "<hr>\n",
    "<font size=\"4\">\n",
    "<span class=\"proof\">Problem 1.14 (Gallian):</span> Describe the symmetries of a parallelogram that is neither a rectangle nor a rhombus. Describe the symmetries of a rhombus that is\n",
    "not a rectangle.\n",
    "\n",
    "<span class=\"proof\">Answer:</span>  A rhombus that is not a rectangle is a combination parallelogram_kite.  It has 4 equal length sides and only opposite pairs of angles are equal. A square is a rhombus, but is not considered here. So our rhombus is a parallelogram that is not square.\n",
    "    \n",
    "The rhombus has 2 symmetry lines going between opposite vertices."
   ]
  },
  {
   "cell_type": "markdown",
   "id": "35b1e29c",
   "metadata": {},
   "source": [
    "<hr>\n",
    "<font size=\"4\">\n",
    "<span class=\"proof\">Problem 1.15 (Gallian):</span> Describe the symmetries of a noncircular ellipse. Do the same for a hyperbola.\n",
    "\n",
    "<span class=\"proof\">Answer:</span>  A noncircular ellipse has 2 lines of symmetry, one is the major axis and the other is the minor axis.\n",
    "    \n",
    "The hyperbola has also 2 lines of symmetry, and again they are through the major and minor axes. \n",
    " <img src=\"../Images/Hyperbolic Axes.png\" width=70%>"
   ]
  },
  {
   "cell_type": "markdown",
   "id": "a71f056f",
   "metadata": {},
   "source": [
    "<hr>\n",
    "<font size=\"4\">\n",
    "<span class=\"proof\">Problem 1.16 (Gallian):</span> Consider an infinitely long strip of equally spaced H’s:\n",
    "$\\cdots H H H H\\cdots$. Describe the symmetries of this strip. Is the group of symmetries of the strip Abelian?\n",
    "\n",
    "<span class=\"proof\">Answer:</span>  There are infinitely many lines of symmetry. Any line which symmetrically separates 2 H's or symmetrically bisects one of the H's is a line of symmetry.  Yes, the group of symmetries is Abelian since, being infinitely long, it matters not whether we put H or H first."
   ]
  },
  {
   "cell_type": "markdown",
   "id": "84fb6967",
   "metadata": {},
   "source": [
    "<hr>\n",
    "<font size=\"4\">\n",
    "<span class=\"proof\">Problem 1.17 (Gallian):</span> For each of the snowflakes in the figure, find the symmetry group and locate the axes of reflective symmetry (disregard imperfections)\n",
    "\n",
    "<span class=\"proof\">Answer:</span> See your copy of the book for these snowflake pictures. Each of the flakes is an elaborate regular hexagon.  As such, it is a $D_6$ dihedral and has 6 elements and 6 lines of symmetry.  It is explained in the answer to problem 1.05."
   ]
  },
  {
   "cell_type": "markdown",
   "id": "bea7d201",
   "metadata": {},
   "source": [
    "\n",
    "<hr><font size=\"4\">\n",
    "<span class=\"proof\">Problem 1.18 (Gallian):</span> Determine the symmetry group of the $\\color{red}{outer\\  shell}$ of the cross section of the human immunodeficiency virus (HIV) shown below.\n",
    "    \n",
    "<span class=\"proof\">Answer:</span>  The HIV virus has 28 vertices, and is a $D_{28}$ dihedral."
   ]
  },
  {
   "cell_type": "markdown",
   "id": "8255316c",
   "metadata": {},
   "source": [
    "<hr>\n",
    "<font size=\"4\">\n",
    "<span class=\"proof\">Problem 1.19 (Gallian):</span> Does a fan blade have a cyclic symmetry group or a dihedral symmetry group?\n",
    "    \n",
    "<span class=\"proof\">Answer:</span>   Many objects and figures have rotational symmetry but not reflective symmetry. A symmetry group consisting of the rotational symmetries of $0\\circ, 360\\circ/n, 2(360\\circ)/n, . . . , (n-1)360\\circ/n,$ and no other symmetries, is called a cyclic rotation group of order $n$ and is denoted by $\\langle R_{360/n}\\,\\rangle.$<br><br>\n",
    "Because the fan blades themselves are not symmetrical, the fan lacks reflective symmetry."
   ]
  },
  {
   "cell_type": "markdown",
   "id": "58769409",
   "metadata": {},
   "source": [
    "<hr>\n",
    "<font size=\"4\">\n",
    "<span class=\"proof\">Problem 1.20 (Gallian):</span> Bottle caps that are pried off typically have 22 ridges around the rim. Find the symmetry group of such a cap.\n",
    "    \n",
    "<span class=\"proof\">Answer:</span>  If each ridge represents a vertex, the cap is a D_{22} dihedral in the plance of those vertices.  Otherwise, the cap has cyclic symmetry. "
   ]
  },
  {
   "cell_type": "markdown",
   "id": "6d32be3a",
   "metadata": {},
   "source": [
    "<hr>\n",
    "<font size=\"4\">\n",
    "<span class=\"proof\">Problem 1.21 (Gallian):</span> What group theoretic property do uppercase letters F, G, J, L, P, Q, R have that is not shared by the remaining uppercase letters in thealphabet?\n",
    "    \n",
    "<span class=\"proof\">Answer:</span>  These letters are not considered to have any symmetry. Most letters have a line of symmetry, which written in some font.  However, the letters S,Z,H,N have only a point rotation symmetry and he ones in the question have not even that."
   ]
  },
  {
   "cell_type": "markdown",
   "id": "61208698",
   "metadata": {},
   "source": [
    "<hr>\n",
    "<font size=\"4\">\n",
    "<span class=\"proof\">Problem 1.22 (Gallian):</span> What symmetry property does the word “zoonosis” have when written in uppercase letters? (It means a disease of humans acquired from animals.)\n",
    "    \n",
    "<span class=\"proof\">Answer:</span>   Each letter is rotationally symmetric."
   ]
  },
  {
   "cell_type": "markdown",
   "id": "59ce8dab",
   "metadata": {},
   "source": [
    "<hr>\n",
    "<font size=\"4\">\n",
    "<span class=\"proof\">Problem 1.23 (Gallian):</span> What symmetry property do the words “mow,” “sis,” and “swims”have when written in uppercase letters?\n",
    "    \n",
    "    \n",
    "<span class=\"proof\">Answer:</span>   They are rotationally symmetric at $180^\\circ$"
   ]
  },
  {
   "cell_type": "markdown",
   "id": "76594278",
   "metadata": {},
   "source": [
    "<hr>\n",
    "<font size=\"4\">\n",
    "<span class=\"proof\">Problem 1.24 (Gallian):</span> For each design below, determine the symmetry group (ignoreimperfections).\n",
    "    <img src=\"../Images/Chapter 1.24 pic.png\" width=\"70%\">\n",
    "    \n",
    "<img src=\"../Images/Dihedral and cyclic symmetry.png\">\n",
    "\n",
    "    \n",
    "<span class=\"proof\">Answer:</span> Name each figure abc... going across in reading order.<br>\n",
    "    a) $C_4$<br>\n",
    "    b) $D_5$<br>\n",
    "    c) $D_8$<br>\n",
    "    d) $C_2$<br>\n",
    "    e) $D_8$<br>\n",
    "    f) $C_3$<br>\n",
    "    g) $D_3$<br>\n",
    "    h) $D_{16}$<br>\n",
    "    i) $D_7$<br>\n",
    "    j) $D_4$<br>\n",
    "    k) $D_5$<br>\n",
    "    l) $C_{10}$<br>"
   ]
  }
 ],
 "metadata": {
  "kernelspec": {
   "display_name": "Python 3 (ipykernel)",
   "language": "python",
   "name": "python3"
  },
  "language_info": {
   "codemirror_mode": {
    "name": "ipython",
    "version": 3
   },
   "file_extension": ".py",
   "mimetype": "text/x-python",
   "name": "python",
   "nbconvert_exporter": "python",
   "pygments_lexer": "ipython3",
   "version": "3.9.7"
  }
 },
 "nbformat": 4,
 "nbformat_minor": 5
}
