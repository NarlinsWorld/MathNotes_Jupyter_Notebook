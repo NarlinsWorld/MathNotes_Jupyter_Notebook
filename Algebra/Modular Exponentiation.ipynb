{
 "cells": [
  {
   "cell_type": "markdown",
   "metadata": {},
   "source": [
    "For the modulo classes $\\mathbb{Z}_n$ Show that $a^n\\cdot b^n \\equiv (a\\cdot b)^n$  \n",
    "In modulo $x\\in\\mathbb{N}$ arithmetic, $a^{n}=(n\\cdot a)\\mod x$,\n",
    "therefore, we need to show that \n",
    "$$\n",
    "\\left[\\big(\\left(n\\cdot a\\right)\\bmod x\\big)+\\big(\\left(n\\cdot b\\right)\\bmod x\\big)\\right]\\bmod x=\\left(n\\cdot a+n\\cdot b\\right)\\bmod x.$$\n"
   ]
  },
  {
   "cell_type": "code",
   "execution_count": 20,
   "metadata": {},
   "outputs": [
    {
     "name": "stdout",
     "output_type": "stream",
     "text": [
      "[0 2 4 0 2 2 4 0 2 4 4 0 2 4 0 0 2 4 0 2 2 4 0 2 4]\n",
      "[0 2 4 0 2 2 4 0 2 4 4 0 2 4 0 0 2 4 0 2 2 4 0 2 4]\n"
     ]
    }
   ],
   "source": [
    "\n",
    "from numpy import *\n",
    "def ex1(a,b,n,x):\n",
    "    r=(n*a+n*b)%x\n",
    "    return r\n",
    "\n",
    "def ex(a,b,n,x):\n",
    "    r=((n*a)%x+(n*b)%x)%x\n",
    "    return r\n",
    "x=6;\n",
    "S=linspace(0,x-1,(x-1)*(x-1),dtype=int)\n",
    "S1=linspace(0,x-1,(x-1)*(x-1),dtype=int)\n",
    "n=2; cnt=0;\n",
    "for a in range(x-1):\n",
    "    for b in range(x-1):\n",
    "        S[cnt]=ex(a,b,n,x)\n",
    "        S1[cnt]=ex1(a,b,n,x)\n",
    "        cnt=cnt+1\n",
    "print(S)\n",
    "print(S1)"
   ]
  },
  {
   "cell_type": "markdown",
   "metadata": {},
   "source": [
    "Let $a\\in\\mathbb{Z}_x$ which are the x integer remainder classes modulo $x, x\\in\\mathbb{N}$\n",
    "Show that $a^{n+m}=a^na^m$ for $(n,m)\\in\\mathbb{N}$.<br>  In modulo $x\\in\\mathbb{N}$ arithmetic, $a^{n}=(n\\cdot a)\\bmod x$,\n",
    "therefore, we need to show that $$\\left(n\\times a\\right)\\bmod x+\\left(m\\times a\\right)\\bmod x=\\big((n+m)\\times a\\big)\\bmod x.$$  "
   ]
  },
  {
   "cell_type": "code",
   "execution_count": 28,
   "metadata": {},
   "outputs": [
    {
     "name": "stdout",
     "output_type": "stream",
     "text": [
      "[0 5 4 3 2 5 4 3 2 1 4 3 2 1 0 3 2 1 0 5 2 1 0 5 4]\n",
      "[0 5 4 3 2 5 4 3 2 1 4 3 2 1 0 3 2 1 0 5 2 1 0 5 4]\n"
     ]
    }
   ],
   "source": [
    "from numpy import *\n",
    "def exL(m,n,a,x):\n",
    "    r=((n*a)%x+(m*a)%x)%x\n",
    "    return r\n",
    "\n",
    "def exR(m,n,a,x):\n",
    "    r=((n+m)*a)%x\n",
    "    return r\n",
    "x=6;\n",
    "S=linspace(0,x-1,(x-1)*(x-1),dtype=int)\n",
    "S1=linspace(0,x-1,(x-1)*(x-1),dtype=int)\n",
    "a=5; cnt=0;\n",
    "for m in range(x-1):\n",
    "    for n in range(x-1):\n",
    "        S[cnt]=exL(m,n,a,x)\n",
    "        S1[cnt]=exR(m,n,a,x)\n",
    "        cnt=cnt+1\n",
    "print(S)\n",
    "print(S1)"
   ]
  },
  {
   "cell_type": "code",
   "execution_count": null,
   "metadata": {},
   "outputs": [],
   "source": []
  }
 ],
 "metadata": {
  "kernelspec": {
   "display_name": "Python 3",
   "language": "python",
   "name": "python3"
  },
  "language_info": {
   "codemirror_mode": {
    "name": "ipython",
    "version": 3
   },
   "file_extension": ".py",
   "mimetype": "text/x-python",
   "name": "python",
   "nbconvert_exporter": "python",
   "pygments_lexer": "ipython3",
   "version": "3.7.3"
  }
 },
 "nbformat": 4,
 "nbformat_minor": 2
}
