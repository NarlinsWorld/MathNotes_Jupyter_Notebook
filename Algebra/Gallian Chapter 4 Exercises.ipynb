{
 "cells": [
  {
   "cell_type": "code",
   "execution_count": 8,
   "id": "be72fa28-62ae-40ac-963e-89646a4baf64",
   "metadata": {},
   "outputs": [
    {
     "data": {
      "text/html": [
       "<style>\n",
       "div{\n",
       "    font-size:medium;\n",
       "}\n",
       ".box{\n",
       "    border: 2px red solid;\n",
       "    padding: 10px;\n",
       "    }\n",
       ".theorem{\n",
       "    color: navy;\n",
       "    font-weight: bold;\n",
       "    font-size:x-large;\n",
       "}\n",
       ".lemma {\n",
       "    color: blue;\n",
       "    font-style: italic;\n",
       "}\n",
       ".proof {\n",
       "    color: red;\n",
       "    font-weight: bold;\n",
       "}\n",
       ".red {\n",
       "    color: red;\n",
       "}\n",
       ".blue {\n",
       "    color: blue;\n",
       "}\n",
       "hr{\n",
       "    border-top: 2px purple solid;\n",
       "}\n",
       ".oomph{\n",
       "    color:darkgreen;\n",
       "    font-weight: bold;\n",
       "}\n",
       "\n",
       "\n",
       "</style>\n"
      ],
      "text/plain": [
       "<IPython.core.display.HTML object>"
      ]
     },
     "metadata": {},
     "output_type": "display_data"
    }
   ],
   "source": [
    "%%html\n",
    "<style>\n",
    "div{\n",
    "    font-size:medium;\n",
    "}\n",
    ".box{\n",
    "    border: 2px red solid;\n",
    "    padding: 10px;\n",
    "    }\n",
    ".theorem{\n",
    "    color: navy;\n",
    "    font-weight: bold;\n",
    "    font-size:x-large;\n",
    "}\n",
    ".lemma {\n",
    "    color: blue;\n",
    "    font-style: italic;\n",
    "}\n",
    ".proof {\n",
    "    color: red;\n",
    "    font-weight: bold;\n",
    "}\n",
    ".red {\n",
    "    color: red;\n",
    "}\n",
    ".blue {\n",
    "    color: blue;\n",
    "}\n",
    "hr{\n",
    "    border-top: 2px purple solid;\n",
    "}\n",
    ".oomph{\n",
    "    color:darkgreen;\n",
    "    font-weight: bold;\n",
    "}\n",
    "\n",
    "\n",
    "</style>"
   ]
  },
  {
   "cell_type": "markdown",
   "id": "1a970afe",
   "metadata": {},
   "source": [
    "<hr>\n",
    "To find all of the generators of U(50) we <br>\n",
    "1) List,L,the elements of U(50).<br>\n",
    "2) Find one generator,$\\langle g \\rangle$ of U(50). No formula for this.<br>\n",
    "3) Get the order of U(50) <br>\n",
    "4) Make a list,J, of numbers coprime to the order of U(50) <br>\n",
    "4) Then, the generators of U(50) are given by $g^j\\bmod{50}.$"
   ]
  },
  {
   "cell_type": "code",
   "execution_count": 10,
   "id": "a4d7ab76-1263-40f3-9218-b65629d729f5",
   "metadata": {},
   "outputs": [
    {
     "name": "stdout",
     "output_type": "stream",
     "text": [
      "\u001b[31m\u001b[1m\u001b[43msome BOLD red tet \u001b[30m\n",
      "\u001b[1mHello, World!\u001b[0m\n"
     ]
    }
   ],
   "source": [
    "class color:\n",
    "   PURPLE = '\\033[95m'\n",
    "   CYAN = '\\033[96m'\n",
    "   DARKCYAN = '\\033[36m'\n",
    "   BLUE = '\\033[94m'\n",
    "   GREEN = '\\033[92m'\n",
    "   YELLOW = '\\033[93m'\n",
    "   RED = '\\033[91m'\n",
    "   BOLD = '\\033[1m'\n",
    "   UNDERLINE = '\\033[4m'\n",
    "   END = '\\033[0m'\n",
    "\n",
    "from colorama import *\n",
    "print(Fore.RED + Style.BRIGHT + Back.YELLOW + 'some BOLD red tet',Fore.BLACK)\n",
    "print(color.BOLD + 'Hello, World!' + color.END)"
   ]
  },
  {
   "cell_type": "code",
   "execution_count": 11,
   "id": "a7571f7c",
   "metadata": {},
   "outputs": [
    {
     "name": "stdout",
     "output_type": "stream",
     "text": [
      "1)  U(50)= [1, 3, 7, 9, 11, 13, 17, 19, 21, 23, 27, 29, 31, 33, 37, 39, 41, 43, 47, 49]\n",
      "-----------------------\n",
      "2)  3 is a generator of U(50)\n",
      "-.-.-.-.-.-.-.-.-.-.-.-.-.-\n",
      "3)  The order of U(50) is 20\n",
      ".............................\n",
      "4)  List of exponents j = [1, 3, 7, 9, 11, 13, 17, 19]\n",
      "  There are 8 elements that can generate U(50)\n",
      "- - - - - - - - - - - - - - - -\n",
      "******************************\n",
      "5)  Generators, g^j, of U(50) =  [3, 27, 37, 33, 47, 23, 13, 17]\n"
     ]
    }
   ],
   "source": [
    "\n",
    "#List the elements of U(n).\n",
    "from sympy import gcd\n",
    "n=50;  # i.e. U(n)\n",
    "L=[]\n",
    "for i in range(n+1):\n",
    "    if gcd(i,n)==1:\n",
    "        L.append(i)\n",
    "print('1)  U('+str(n)+')=',L)\n",
    "print('-----------------------')\n",
    "\n",
    "\n",
    "#Find one generator of U(n).\n",
    "g=-1\n",
    "for j in range(1,len(L)+1):\n",
    "    S=[]\n",
    "    for i in range(1,len(L)+1):\n",
    "        S.append((L[j-1]**i)%n)\n",
    "        if S[-1]==1:break\n",
    "    #print(S,Fore.BLUE+'  |'+str(len(S))+'|',Style.RESET_ALL)\n",
    "    if len(L)==len(S):\n",
    "        g=S[0]\n",
    "        print('2)  '+str(g)+' is a generator of U('+str(n)+')')\n",
    "        break\n",
    "if g==-1:print('U('+str(n)+') is not cyclic. So, no generators')\n",
    "    \n",
    "    \n",
    "print('-.-.-.-.-.-.-.-.-.-.-.-.-.-')\n",
    "#Get the order of U(n)\n",
    "o=len(L)\n",
    "print('3)  The order of U('+str(n)+') is '+str(o))\n",
    "\n",
    "\n",
    "print('.............................')\n",
    "#List of the values coprime to o\n",
    "J=[]\n",
    "for i in range(o):\n",
    "    if gcd(i,o)==1:J.append(i)\n",
    "if g!=-1: \n",
    "    print('4)  List of exponents j =',J)\n",
    "    print('  There are '+str(len(J))+' elements that can generate U('+str(n)+')')\n",
    "\n",
    "\n",
    "print('- - - - - - - - - - - - - - - -')\n",
    "#These will be elements that can generate all of U(50)\n",
    "L1=[]\n",
    "for j in range(len(J)):\n",
    "    L1.append((g**(J[j]))%n) #we can use any g for (g^j)%50\n",
    "print('******************************')\n",
    "if g!=-1:\n",
    "    print('5)  Generators, g^j, of U('+str(n)+') = ',L1)"
   ]
  },
  {
   "cell_type": "markdown",
   "id": "5a857f84",
   "metadata": {},
   "source": [
    "$\\newcommand{\\<}{\\langle}$\n",
    "$\\newcommand{\\>}{\\rangle}$\n",
    "<span class='theorem'>Theorem 4.1 Criterion for $a^i  a^j$</span><br>\n",
    "Let $G$ be a group, and let $a$ belong to $G.$ If $a$ has infinite order, then\n",
    "$a^i = a^j \\iff i = j.$ If $a$ has finite order, say, $n,$ then $\\<a\\> = \\{e, a, a^2,\\ldots,a^{n–1}\\}$  and $a^i = a^j \\iff n$ divides $i – j.$"
   ]
  },
  {
   "cell_type": "markdown",
   "id": "127779ac-e952-46d3-9d71-4e5cc1775d7b",
   "metadata": {},
   "source": [
    "<span class='proof'>Proof:</span> For an infinite order group, there is no $a^n=e$ except for $n=0.$ Also, $a^i=a^j\\implies a^{i-j}=e.$ Thus $i-j=0.$ $$\\tag*{$\\square$}$$\n",
    "\n",
    "<span class='blue'>Definition:</span> Order of element $g$ in group $G.$ $|g|$ is the smallest positive integer, $n,$ such that $g^n=e.$\n",
    "\n",
    "\n",
    "* For $a$ of finite order, let's **assume** that $|a|=n$ and we will first prove that $$\\<a\\>=\\{e,a,a^2,\\ldots,a^{n-1}\\}.$$ By the closure property, we are assured that the elements of the set are in $\\<a\\>.$<br>\n",
    "We will let $a^k$ be an arbitrary member of $\\<a\\>$ such that $k$ need not be between $0$ and $n-1.$ By the division algorithm, there exists integers $q$ and $r$ such that $$k=qn+r\\quad 0\\le r<n$$ Then\n",
    "$$a^k=a^{qn+r}=a^{qn}a^r=(a^n)^qa^r=ea^r=a^r.$$ Since $0\\le r < n$ we have proved that $a^k\\in\\<a\\>.$ $$\\tag*{$\\square$}$$\n",
    "* Now we will let $a^i=a^j$ and prove that <span class='oomph'>$n$ divides $i-j.$</span> Since $a^i=a^j,$ it is implied that $a^{i-j}=e.$ Applying the division algorithm, $$i-j=qn+r\\quad 0\\le r<n$$\n",
    "Start with $$a^{i-j}=e=a^{qn+r}=a^{qn}a^r=(a^n)^qa^r=ea^r=a^r$$ Since $r<n,$ $r$ must be $0.$ and then of course $n$ divides $0$ so $n$ divides $i-j.$ $$\\tag*{$\\blacksquare$}$$"
   ]
  },
  {
   "cell_type": "code",
   "execution_count": null,
   "id": "67a359cf-0e56-4b5a-b4f0-96732123865a",
   "metadata": {},
   "outputs": [],
   "source": []
  },
  {
   "cell_type": "markdown",
   "id": "bd15d6cf",
   "metadata": {},
   "source": [
    "<span class='theorem'>Corollary 1:</span> $$|a|\\in G=|\\<a\\>|$$\n",
    "The corollary was proved by 4.1. We proved there that if $|a|=n$ then $|\\<a\\>|$ has $n$ elements."
   ]
  },
  {
   "cell_type": "markdown",
   "id": "bccda94f",
   "metadata": {},
   "source": [
    "<span class='theorem'>Corollary 2: $\\quad a^k=e\\implies |a|=k$</span> \n",
    "\n",
    "\n",
    "<span class='proof'>Proof: </span> Let $|a|=n.$ Since $a^k=e$ by Theorem 4.1, $a^k=e=a^0$ and by Theorem 4.1, $n$ divides $k-0$ so $|a|=n$ divides $k.$  Therefore the order of $a$ mod $n$ is $k$ mod $n.$"
   ]
  },
  {
   "cell_type": "markdown",
   "id": "83e2bc32",
   "metadata": {},
   "source": [
    "<hr>\n",
    "<span class='theorem'>Theorem 4.2 $\\<a^k\\> = \\<a^{gcd(n,k)}\\>$ and $|a^k|= \\frac{n}{gcd(n, k)}.$</span><br>\n",
    "Let $a$ be an element of order $n$ in a group and let $k$ be a positive\n",
    "integer. Then $\\<a^k\\> = \\<a^{gcd(n,k)}\\>$ and $|a^k|= \\frac{n}{gcd(n, k)}.$"
   ]
  },
  {
   "cell_type": "markdown",
   "id": "96fd96d5",
   "metadata": {},
   "source": [
    "<hr>\n",
    "<span class='theorem'>Corollary 1. The order of the element divides the order of the group.</span><br><br><br>\n",
    "<span class='theorem'>Corollary 2. Criterion for $\\<a^i\\>  \\<a^j\\>$ and $|a^i| = |a^j|$</span>\n",
    "<br>Let $|a|= n.$<br> Then $\\<a^i\\> = \\<a^j\\>\\iff gcd(n, i) = gcd(n, j),$<br>\n",
    "and $|a^i| = |a^j|\\iff gcd(n, i) = gcd(n, j).$\n",
    "<br><br><br>\n",
    "<span class='theorem'>Corollary 3. Generators of finite cyclic groups</span><br>\n",
    "Let $|a| = n.$ Then $\\<a\\> = \\<a^j\\> \\iff gcd(n, j) = 1,$ and\n",
    "$|a| = |\\<a^j\\>| \\iff gcd(n, j) = 1.$<br><br><br>\n",
    "<span class='theorem'>Corollary 4. Generators of $Z_n$</span><br>\n",
    "An integer $k$ in $Z_n$ is a generator of $Z_n \\iff gcd(n, k) = 1.$"
   ]
  },
  {
   "cell_type": "markdown",
   "id": "f2cac0bb",
   "metadata": {},
   "source": [
    "<hr>\n",
    "<span class='theorem'>"
   ]
  },
  {
   "cell_type": "markdown",
   "id": "bbdf5c98",
   "metadata": {},
   "source": [
    "$\\newcommand{\\<}{\\langle}$\n",
    "$\\newcommand{\\>}{\\rangle}$\n",
    "Suppose I want $\\< a \\>$\n",
    "\n",
    "<span class='theorem'>Theorem 4.3 Fundamental Theorem of Cyclic Groups   (FTCG)</span><br>\n",
    "Every subgroup of a cyclic group is cyclic. Moreover, if $|\\<a\\> |=n,$ then the order of any subgroup of $\\<a\\>$ is a divisor of $n;$ and, for each positive divisor $k$ of $n,$ the group $\\<a\\>$ has exactly one subgroup of order $k$ --- namely, $\\< a^{n/k}\\>$.\n",
    "\n",
    "Suppose $G=\\<a\\>$ and $G$ has order $30.$ The first and second parts of the\n",
    "theorem say that if $H$ is any subgroup of $G,$ then $H$ has the form $\\<a^{30/k}\\>$ for\n",
    "some $k$ that is a divisor of $30.$ The third part of the theorem says that $G$\n",
    "has one subgroup of each of the orders $1, 2, 3, 5, 6, 10, 15,$ and $30$ — and\n",
    "no others.\n",
    "\n",
    "We may conclude from Theorem 4.3 that the subgroups of $\\<a\\>$ are precisely those of the form $\\<a^m\\>,$ where $m$ is a divisor of $30.$ Moreover, if $k$ is a divisor of $30,$ the subgroup of order $k$ is $\\<a^{30/k}\\>.$ So the list of subgroups of $\\<a\\>$ is:<br>\n",
    "order 1 $\\quad a^{30/1}=a^{30}=e$<br>\n",
    "order 2 $\\quad \\{e,a^{15}\\}$<br>\n",
    "order 3 $\\quad \\{e,a^{10},a^{20}\\}$<br>\n",
    "order 5 $\\quad \\{e,a^6,a^{12},a^{18},a^{24}\\}$<br>\n",
    "order 6 $\\quad \\{e,a^5,a^{10},\\ldots,a^{25}\\}$<br>\n",
    "order 10 $\\quad \\{e,a^3,a^6,\\ldots,a^{27}\\}$<br>\n",
    "order 15 $\\quad \\{e,a^2,a^4,\\ldots,a^{28}\\}$<br>\n",
    "order 30$\\quad \\{e,a^1,a^2,\\ldots,a^{29}\\}$<br>\n",
    "\n",
    "In general, if $\\<a\\>$ has order $n$ and $k$ divides $n,$ then $\\<a^{n/k}\\>$ is the unique\n",
    "subgroup of order $k.$"
   ]
  },
  {
   "cell_type": "markdown",
   "id": "c6538345",
   "metadata": {},
   "source": [
    "\n",
    "<span class='theorem'>Theorem 4.4 Number of Elements of Each Order in a Cyclic Group</span>\n",
    "<br>If $d$ is a positive divisor of $n,$ the number of elements of order $d$ in\n",
    "a cyclic group of order $n$ is $\\phi(d),$ Eulers totient function.\n",
    "<hr>"
   ]
  },
  {
   "cell_type": "markdown",
   "id": "f952f88d",
   "metadata": {},
   "source": [
    "<h2>When is U(n) cyclic?</h2>\n",
    "U(n) is cyclic when n=1,2,4 or $p^k$ or $2p^k.$   \n",
    "<hr>"
   ]
  },
  {
   "cell_type": "code",
   "execution_count": 5,
   "id": "0d1180e5",
   "metadata": {},
   "outputs": [
    {
     "name": "stdout",
     "output_type": "stream",
     "text": [
      "n=12. the group is not cyclic\n"
     ]
    }
   ],
   "source": [
    "from sympy import isprime, factorint\n",
    "def cyclictest(n):\n",
    "    if n==1 or n==2 or n==4: return True\n",
    "    factor_dict=factorint(n)\n",
    "    L=list(factor_dict.items())\n",
    "    if len(L)==1: return True\n",
    "    if len(L)==2 and L[0]==(2,1) and isprime(L[1][0]): return LTrue\n",
    "    return L\n",
    "\n",
    "n=12\n",
    "ans=cyclictest(n)   \n",
    "if ans==True: ans='cyclic'\n",
    "else: ans='not cyclic'\n",
    "print('n={}. the group is {}'.format(n,ans))"
   ]
  },
  {
   "cell_type": "code",
   "execution_count": 8,
   "id": "23bd0aea",
   "metadata": {},
   "outputs": [
    {
     "name": "stdout",
     "output_type": "stream",
     "text": [
      "Dictionary containing factors of 16848 with respective multiplicities : {2: 4, 3: 4, 13: 1}\n"
     ]
    }
   ],
   "source": [
    "# import factorint() method from sympy \n",
    "from sympy import factorint \n",
    "\n",
    "n = 6**4 * 13\n",
    "\n",
    "# Use factorint() method \n",
    "factor_dict = factorint(n) \n",
    "\t\n",
    "print(\"Dictionary containing factors of {} with respective multiplicities : {}\". \n",
    "\tformat(n, factor_dict)) \n"
   ]
  },
  {
   "cell_type": "markdown",
   "id": "fb455aaf",
   "metadata": {},
   "source": [
    "<span class=\"proof\">Problem 4.xx (Gallian):</span> \n",
    "    \n",
    "<span class='proof'>Answer </span>\n",
    "<hr>"
   ]
  },
  {
   "cell_type": "markdown",
   "id": "228ef65d",
   "metadata": {},
   "source": [
    "<hr>\n",
    "<font size=\"3\">\n",
    "<span class=\"proof\">Problem 4.01 (Gallian):</span>  Find all generators of $Z_6,Z_8, and Z_{20}$\n",
    "    \n",
    "<span class='proof'>Answer </span> The generators of $Z_n$ will be those elements with order $n.$ There are $\\phi(6)=2$ elements that have order $6.$ We need the elements coprime with 6 and smaller than 6.  They are $a=\\{1,5\\}$\n",
    "    \n",
    "The generators of $Z_8$ are the numbers coprime with 8 and smaller than 8.  They are $\\{1,3,5,7\\}.$\n",
    "    \n",
    "The generators of $Z_{20}=\\{1,3,7,9,11,13,17,19 \\}$"
   ]
  },
  {
   "cell_type": "markdown",
   "id": "d7c026d7",
   "metadata": {},
   "source": [
    "<hr>\n",
    "<font size=\"3\">\n",
    "<span class=\"proof\">Problem 4.02 (Gallian):</span> Suppose that $\\<a\\>, \\<b\\>,$ and $\\<c\\>$ are cyclic groups of orders 6, 8, and\n",
    "20, respectively. Find all generators of $\\<a\\>, \\<b\\>,$ and $\\<c\\>.$\n",
    "    \n",
    "<span class='proof'>Answer </span> For $a$ generators are $\\{a,a^5 \\}.$<br>\n",
    "    for $b$ generators are $a,a^3,a^5,a^7.$<br>\n",
    "    for $c$ generators are $a,a^3,a^7,a^9,a^{11},a^{13},a^{17},a^{19}.$"
   ]
  },
  {
   "cell_type": "markdown",
   "id": "9b4a5ee4",
   "metadata": {},
   "source": [
    "<hr>\n",
    "<font size=\"3\">\n",
    "<span class=\"proof\">Problem 4.03 (Gallian):</span> List the elements of the subgroups $\\<20\\>$ and $\\<10\\>$ in $\\mathbb{Z}_{30}.$ Let $a$ be a group element of order 30. List the elements of the subgroups $\\<a^{20}\\>$\n",
    "and $\\<a^{10}\\>$\n",
    "    \n",
    "<span class='proof'>Answer </span> $\\<20\\>=\\{0,20,10 \\}$ and $\\<10\\>=\\{ 0,10,20 \\}$ \n",
    "    \n",
    "Here is how to get the 1st answer. $\\text{subgroup order}=\\frac{30}{gcd(20,30)}=3$ Zero, identity will be in the group. <br><br>\n",
    "    $$\\text{for i=1,3: (20i)%30 loop}$$\n",
    "    $$\\text{output: 20,10,0}$$ \n",
    "Here is how to get the 2nd answer. $$\\text{for i=1,3: (10i)%30 loop}$$\n",
    "    $$\\text{output: 10,20,0}$$\n",
    "   \n",
    "Part b: List the elements of the subgroups $\\<a^{20}\\>$ and $\\<a^{10}\\>$<br>\n",
    "    $\\{a^{20},a^{10},a^{0}\\}$ and $\\{a^{10},a^{20},a^{0} \\}.$\n",
    "    \n",
    " Note that $10$ and $20$ are inverses in $Z_{30}.$"
   ]
  },
  {
   "cell_type": "markdown",
   "id": "6abd7349",
   "metadata": {},
   "source": [
    "<hr>\n",
    "<font size=\"3\">\n",
    "<span class=\"proof\">Problem 4.04 (Gallian):</span> List the elements of the subgroups $\\<3\\>$ and $\\<15\\>$ in $Z_{18}.$ Let $a$ be a group element of order $18.$ List the elements of the subgroups $\\<a^3\\>$ and $\\<a^{15}\\>.$\n",
    "    \n",
    "<span class='proof'>Answer </span>$\\<3\\>=\\{3,6,9,12,15,0 \\}$<br>\n",
    "   $\\<15\\>=\\{15,12,9,6,3,0 \\}$ <br>\n",
    "   $\\<a^3\\>=\\{a^3,a^6,a^9,a^{12},a^{15},a^0\\}$\n",
    "   $\\<a^{15}\\>=\\{a^{15},a^{12},a^9,a^6,a^3,a^0 \\}$<br>\n",
    " Note that the elements of $\\<3\\>$ and $\\<15\\>$ are isomorphic with $\\<a^{3}\\>$ and $\\<a^{15}\\>$\n",
    "    \n",
    "Note that $3$ and $15$ are inverses in $Z_{18}$"
   ]
  },
  {
   "cell_type": "markdown",
   "id": "4dcb6a3e",
   "metadata": {},
   "source": [
    "<hr>\n",
    "<font size=\"3\">\n",
    "<span class=\"proof\">Problem 4.05 (Gallian):</span> List the elements of the subgroups $\\<3\\>$ and $\\<7\\>$ in $U(20).$\n",
    "    \n",
    "<span class='proof'>Answer </span> $\\<3\\>=\\{3^1\\%20,3^2\\%20,3^3\\%20,3^4\\%20 \\} = \\{3,9,7,1\\}$\n",
    " $\\{7^1\\%20,7^2\\%20,7^3\\%20,7^4\\%20\\}=\\{7,9,3,1 \\}$\n",
    "    \n",
    " Note that $3$ and  $7$ are inverses mod(20)!!!!!!"
   ]
  },
  {
   "cell_type": "markdown",
   "id": "9b263a72",
   "metadata": {},
   "source": [
    "<hr>\n",
    "<font size=\"3\">\n",
    "<span class=\"proof\">Problem 4.06 (Gallian):</span> What do Exercises 3, 4, and 5 have in common? Try to make a generalization that includes these three cases.\n",
    "    \n",
    "<span class='proof'>Answer </span> In any group, $\\<a\\>=\\<a^{-1}\\>$"
   ]
  },
  {
   "cell_type": "markdown",
   "id": "8ddd297b",
   "metadata": {},
   "source": [
    "<hr>\n",
    "<font size=\"3\">\n",
    "<span class=\"proof\">Problem 4.07 (Gallian):</span> Find an example of a noncyclic group, all of whose proper subgroups are cyclic.\n",
    "    \n",
    "<span class='proof'>Answer </span> $U(8)=\\{1,3,5,7 \\}$<br>\n",
    "    $\\<1\\>=\\{1\\}$<br>\n",
    "    $\\<3\\>=\\{3,1\\}$<br>\n",
    "    $\\<5\\>=\\{5,1\\}$<br>\n",
    "    $\\<7\\>=\\{7,1\\}$<br>\n",
    "   Definition: Cyclic Group, A group for which at least one of it elements will generate the whole group.<br>\n",
    "All of these subgroups are cyclic.\n",
    "\n",
    "$U(15)=\\{1, 2, 4, 7, 8, 11, 13, 14\\}$ is not cyclic.<br>\n",
    "$\\<1\\>=\\{1\\}$<br>\n",
    "$\\<2\\>=\\{2,4,8,1\\}$<br>\n",
    "$\\<4\\>=\\{4,1\\}$<br>\n",
    "$\\<7\\>=\\{7,4,13,1\\}$<br>\n",
    "$\\<8\\>=\\{8,4,2,1\\}$<br>\n",
    "$\\<11\\>=\\{11,1\\}$<br>\n",
    "$\\<13\\>=\\{13,4,7,1\\}$<br>\n",
    "$\\<14\\>=\\{14,1\\}$<br>"
   ]
  },
  {
   "cell_type": "markdown",
   "id": "2ce41396",
   "metadata": {},
   "source": [
    "<hr>\n",
    "<font size=\"3\">\n",
    "<span class=\"proof\">Problem 4.08 (Gallian):</span> Let $a$ be an element of a group and let $|a| = 15.$ Compute the orders of the following elements of $G.$<br>\n",
    "a. $a^3, a^6, a^9, a^{12}$<br>\n",
    "b. $a^5, a^{10}$<br>\n",
    "c. $a^2, a^4, a^8, a^{14}$\n",
    "    \n",
    "<span class='proof'>Answer </span> The order of $a^k = \\frac{n}{gcd(a,k)}$ Here, $|a|=n=15$\n",
    "    \n",
    "<br>a) For each $a^k,\\quad gcd(15,k)=3$ and $\\frac{15}{3}=5$ So the order for all of (a) is $5.$ <br>\n",
    "b) $gcd(15,5)=gcd(10,5)=5$ and $\\frac{15}{5}=3$ So the order of both is $3.$<br>\n",
    "c) The gcd(15,k) for all is $1$ and $\\frac{15}{1}=15$ so the order is 15.\n",
    "    \n",
    "Here is an example where the |G|=15:<br>\n",
    "Type the group modulus for $Z_n:$ 15<br>\n",
    "<1> [0, 1, 2, 3, 4, 5, 6, 7, 8, 9, 10, 11, 12, 13, 14]<br>\n",
    "<2> [0, 2, 4, 6, 8, 10, 12, 14, 1, 3, 5, 7, 9, 11, 13]<br>\n",
    "<3> [0, 3, 6, 9, 12]<br>\n",
    "<4> [0, 4, 8, 12, 1, 5, 9, 13, 2, 6, 10, 14, 3, 7, 11]<br>\n",
    "<5> [0, 5, 10]<br>\n",
    "<6> [0, 6, 12, 3, 9]<br>\n",
    "<7> [0, 7, 14, 6, 13, 5, 12, 4, 11, 3, 10, 2, 9, 1, 8]<br>\n",
    "<8> [0, 8, 1, 9, 2, 10, 3, 11, 4, 12, 5, 13, 6, 14, 7]<br>\n",
    "<9> [0, 9, 3, 12, 6]<br>\n",
    "<10> [0, 10, 5]<br>\n",
    "<11> [0, 11, 7, 3, 14, 10, 6, 2, 13, 9, 5, 1, 12, 8, 4]<br>\n",
    "<12> [0, 12, 9, 6, 3]<br>\n",
    "<13> [0, 13, 11, 9, 7, 5, 3, 1, 14, 12, 10, 8, 6, 4, 2]<br>\n",
    "<14> [0, 14, 13, 12, 11, 10, 9, 8, 7, 6, 5, 4, 3, 2, 1]<br>\n",
    "totient(n)= 8<br>"
   ]
  },
  {
   "cell_type": "markdown",
   "id": "864255d5",
   "metadata": {},
   "source": [
    "<hr>\n",
    "$\\newcommand{\\Z}{\\mathbb{Z}}$\n",
    "<span class=\"proof\">Problem 4.09 (Gallian):</span> How many subgroups does $\\Z_{20}$ have? List a generator for each of these subgroups. Suppose that $G=\\<a\\>$ and $|a| = 20.$ How many subgroups does $G$ have? List a generator for each of these subgroups.\n",
    "    \n",
    "<span class='proof'>Answer </span> $\\Z_{20}$ can only have as many subgroups as $20$ has divisors. This is because the order of each subgroup is $n/gcd(k,n)$ where $n=20$ and $k$ is each of the divisors because $\\Z_{20}$ is cyclic, only one subgroup of each order can exist.\n",
    "\n",
    "List of the divisors of 20: {1,2,4,5,10,20}, so there must be 6 subgroups.<br>\n",
    "Generators are $a^k$ where $k$ is the divisors of $20$<br>\n",
    "Let $a=1,$ since 2 is in the group.<br>\n",
    "$1\\times 1\\equiv 1$ a subgroup of order 20<br>\n",
    "$2\\times 1\\equiv 2$ a subgroup of order 10<br>\n",
    "$4\\times 1\\equiv 4$ a subgroup of order 5<br>\n",
    "$5\\times 1\\equiv 5$ a subgroup of order 4<br>\n",
    "$10\\times 1\\equiv 10$ a subgroup of order 2<br>\n",
    "$20\\times 1\\equiv 0$ a subgroup of order 1<br>\n",
    "\n",
    "The second question is the same answer as the first."
   ]
  },
  {
   "cell_type": "markdown",
   "id": "16221657",
   "metadata": {},
   "source": [
    "<hr>\n",
    "<font size=\"3\">\n",
    "<span class=\"proof\">Problem 4.10 (Gallian):</span> In $\\Z_{24},$ list all generators for the subgroup of order 8. Let $G=\\<a\\>$ and let $|a|= 24.$ List all generators for the subgroup of order $8.$\n",
    "    \n",
    "<span class='proof'>Answer </span>There will be totient(8)=4 generators of order 8 groups, and the coprime units of  8 are 1,3,5,7. <br> $\\frac{24}{gcd(3,24)}=8,$ so\n",
    "<br> The generators are $(a^3)^1,(a^3)^3,(a^3)^5,(a^3)^7=\\{3,9,15,21\\}$ <br>\n",
    "$\\<3\\> = \\{3,6,9,12,15,18,21,0\\}$\n",
    "$\\<9\\> = \\{9,18,3,12,21,6,15,0  \\}$\n",
    "$\\ldots a^i,i=1\\ldots 8$ which in additive notation is $i\\cdot a,i=1\\ldots 8$"
   ]
  },
  {
   "cell_type": "markdown",
   "id": "ad00843b",
   "metadata": {},
   "source": [
    "<hr>\n",
    "<font size=\"3\">\n",
    "<span class=\"proof\">Problem 4.11 (Gallian):</span> Let $G$ be a group and let $a \\in G.$ Prove that $\\<a^{-1} \\>=\\<a \\>$\n",
    "    \n",
    "<span class='proof'>Answer </span> We know that $a^{-1}\\in \\<a \\>$ because every group includes its inverse. Therefore, $\\< a^{-1}\\>\\subseteq \\< a\\>$ Likewise, $a\\in\\<a^{-1} \\>$ and $\\<a \\>\\subseteq \\<a^{-1}\\>$ Ergo, $\\<a\\>=\\<a^{-1}\\>$"
   ]
  },
  {
   "cell_type": "markdown",
   "id": "1e92ed72",
   "metadata": {},
   "source": [
    "<hr>\n",
    "<font size=\"3\">\n",
    "<span class=\"proof\">Problem 4.12 (Gallian):</span> In $\\Z,$ find all generators of the subgroup $\\<3\\>.$ If $a$ has infinite order, find all generators of the subgroup $\\<a^3\\>$\n",
    "    \n",
    "<span class='proof'>Answer </span> The subgroup of $\\Z$ generated by 3 is $\\{\\ldots,-6,-3,0,3,6\\ldots\\}.$  That is, $3\\Z$ generates all elements of the group. The group $a^3$ is generated by $a^3$ and $a^{-3}.$"
   ]
  },
  {
   "cell_type": "markdown",
   "id": "6f7d62d7",
   "metadata": {},
   "source": [
    "<hr>\n",
    "<font size=\"3\">\n",
    "<span class=\"proof\">Problem 4.13 (Gallian):</span> In $\\Z_{24},$ find a generator for $\\<21\\>\\cap \\<10\\>$. Suppose that $|a| = 24.$ Find\n",
    "a generator for $\\<a^{21}\\>\\cap \\<a^{10}\\>.$ In general, what is a generator for the\n",
    "subgroup $\\<a^m\\>\\cap \\<a^n\\>?$\n",
    "    \n",
    "<span class='proof'>Answer </span> In $\\Z_{24}\\quad\\< 10\\>=\\{0, 10, 20, 6, 16, 2, 12, 22, 8, 18, 4, 14\\}$<br>\n",
    "$\\Z_{24}\\quad\\< 21\\>=\\{   0, 21, 18, 15, 12, 9, 6, 3\\}$<br>\n",
    "The intersection is $\\{0,18,12,6 \\}$ which is generated by $\\<6\\>$  This is the \"smallest possible multiple of 1 that is in the intersection.\"\n",
    "    \n",
    "Similarly, $\\<a^{21}\\> = \\{e; a^{21}; a^{18}; a^{15}; a^{12}; a^9; a^6; a^3\\}$ and\n",
    "$\\<a^{10}\\> = \\{e; a^{10}; a^{20}; a^6; a^{16}; a^2; a^{12}; a^{22}; a^8; a^{18}; a^{4}; a^{14}\\}.$  Then again\n",
    "by the proof of Theorem 4.3, we can find a generator of the\n",
    "intersection by taking the smallest positive power of $a$ that is in the\n",
    "intersection. So, $\\<a^{21}\\> \\cap \\<a^{10}\\> = \\<a^6\\>.$"
   ]
  },
  {
   "cell_type": "markdown",
   "id": "d2cb21e6",
   "metadata": {},
   "source": [
    "<span class=\"proof\">Problem 4.14 (Gallian):</span> Suppose that a cyclic group $G$ has exactly three subgroups: $G$ itself, $\\{e\\},$ and a subgroup of order 7. What is $|G|?$ What can you say if 7 is replaced with p where p is a prime?\n",
    "    \n",
    "<span class='proof'>Answer </span>  Since G is cyclic, there is some element $a$ in G such that $\\<a\\> = G.$ Since G has a subgroup of order 7, and G is cyclic, we know that 7 divides the order of G.<span class='blue'>(Theorem 4.2 Corollary 1: The order of a subgroup divides the order of the group.)</span> That is, $|\\<a\\>|=|G|= 7n$ for some positive integer $n.$ We now test a few possible values of n:\n",
    "    \n",
    "$n=1$ then the $|G|=7$ and $\\<G\\>=\\{0,1,2,3,4,5,6\\}$ but all of the elements,$1\\ldots 6$ generate a group equal to $G.$ leaving only 2 distinct subgroups.  The problem says there are 3.\n",
    "    \n",
    "$n=2$ Theorem 4.3 FTCG states that $G$ will have exactly 1 subgroup of order $k$ and it will be $\\<a^{n/k}\\>$ The problem with this is too many subgroups: $G$ itself, $e,$ subgroup of order 7, and subgroup of order 2.\n",
    "\n",
    "$n=3,4,5,6$  Same issue as above.\n",
    "\n",
    "$n=7$ then the $|G|=7\\cdot 7=49$ FTCG says there will be 1 group of order 7 and we still have $G$ with order 49 and we still have $e.$ This solves the problem. $G\\equiv \\Z_{49}.$\n",
    "\n",
    "<span class='red'>Part 2</span> In general, if we suppose that $n$ is any positive integer besides 7, we see that G is guaranteed a subgroup of order $n$ by the FTCG, which means that G will have at least 4 distinct subgroups.  More specifically, if 7 is replaced by any prime p under the supposed conditions, then the order of $G$ must be $p^2.$\n",
    "    "
   ]
  },
  {
   "cell_type": "markdown",
   "id": "407ad1eb",
   "metadata": {},
   "source": [
    "<span class=\"proof\">Problem 4.15 (Gallian):</span> Let $G$ be an Abelian group and let $H= \\{g\\in G \\ s.t. |g| \\text{ divides } 12\\}.$ Prove that $H$ is a subgroup of $G.$ Is there anything special about 12 here? Would your proof be valid if 12 were replaced by some other \n",
    "positive integer? State the general result.\n",
    "\n",
    "<span class='proof'>Answer </span>  If $|g|$ divides 12, then $g^{12}=e$ by FTCG. There is only 1 such group. The integer 12 is not special. Any integer will work.\n",
    "\n",
    "General Result: If $a\\in G,$ then $|a|$ divides $|G|$ and any subgroups of $\\<a\\>$ are necessarily subgoups of $G.$  That is, all of the divisors of $|\\<a\\>|$ are also divisors of $G.$ \n",
    "\n",
    "The lemma below is the general result with 12 replaced by $n.$\n",
    "\n",
    "<span class='lemma'>Lemma:</span> Let $a$ be some element of group $G$. The set of powers generated by, $\\{a^n: n\\in\\mathbb{Z}\\}$ is a subgroup.\n",
    "<br><span class='proof'>Proof:</span> Let $H\\subset G =\\{a^n: n\\in\\mathbb{Z}\\}$ By closure of $G$ we are assured that $a^2\\in G$ ergo $(a^2\\cdot a)\\in G$ and $a^n\\in G.$  If $a=a^2,$ then $a=e$ and we have a trivial group with only the identity element. Otherwise, let $x\\ne e \\in H.$ Then $x^{-1}\\in H$ because $-1\\in \\mathbb{Z}$ and $H=\\{a^n:n\\in\\mathbb{Z}\\}.$  Then $ax^{-1}\\in H$ and by the one step subgroup test, $H\\le G.$\n"
   ]
  },
  {
   "cell_type": "markdown",
   "id": "8bfa7ede",
   "metadata": {},
   "source": [
    "<span class=\"proof\">Problem 4.16 (Gallian):</span> Find a collection of distinct subgroups $\\<a^1\\>,\\<a^2\\>,\\ldots,\\<a^n\\>$ of $\\Z_{240}$ with the property that $\\<a^1\\>\\subset \\<a^2\\>\\ldots\\subset \\<a^n\\>$  with $n$ as large as possible.\n",
    "    \n",
    "<span class='proof'>Answer </span> So the two extremes have to be $e$ and $a_{240}$ with the later obvios since it contains all other subgroups. Since $Z_{240}$ is cyclic and the order of a subgroup of a cyclic group divides the order of the group in which it is contained, we see it must be true that $$ord\\<a_i\\> \\mid ord\\<a_{i+1}\\> \\mid \\ldots \\mid ord\\<a_{n-1}\\> \\mid ord\\<a_n\\>$$\n",
    "where '$\\mid$' means 'divides'. Ergo, those orders all have to multiply together to give 240. That being true, we can look at the prime factors of 240 to get the longest run.\n",
    "\n",
    "$240=5\\cdot 3\\cdot 2\\cdot 2\\cdot 2\\cdot 2$\n",
    "The subset generated by $\\<2\\>$ has order 120\n",
    "\n",
    "<table>\n",
    "    <tr>\n",
    "        <td>$\\<240\\>$</td>\n",
    "        <td>$\\subset\\<48\\>$</td>\n",
    "        <td>$\\subset\\<16\\>$</td>\n",
    "        <td>$\\subset\\<8\\>$</td>\n",
    "        <td>$\\subset\\<4\\>$</td>\n",
    "        <td>$\\subset\\<2\\>$</td>\n",
    "        <td>$\\subset\\<1\\>$</td>\n",
    "    </tr>\n",
    "    <tr>\n",
    "        <td>$o(1)$</td>\n",
    "        <td>$o(5)$</td>\n",
    "        <td>$o(15)$</td>\n",
    "        <td>$o(30)$</td>\n",
    "        <td>$o(60)$</td>\n",
    "        <td>$o(120)$</td>\n",
    "        <td>$o(240)$</td>\n",
    "    </tr>\n",
    "     <tr>\n",
    "        <td>$5$</td>\n",
    "        <td>$\\times 3$</td>\n",
    "        <td>$\\times 2$</td>\n",
    "        <td>$\\times 2$</td>\n",
    "        <td>$\\times 2$</td>\n",
    "        <td>$\\times 2$</td>\n",
    "        <td>$\\times 1$</td>\n",
    "    </tr>  \n",
    "</table>\n",
    "        \n",
    "        "
   ]
  },
  {
   "cell_type": "code",
   "execution_count": 69,
   "id": "4065dac9",
   "metadata": {},
   "outputs": [
    {
     "name": "stdout",
     "output_type": "stream",
     "text": [
      "{0, 18, 12, 6}\n"
     ]
    }
   ],
   "source": [
    "from sympy import totient,divisors,gcd\n",
    "s={0,10,20,6,16,2,12,22,8,18,4,14}\n",
    "y={0,21,18,15,12,9,6,3}\n",
    "print(s.intersection(y))"
   ]
  },
  {
   "cell_type": "markdown",
   "id": "62b2e081",
   "metadata": {},
   "source": [
    "<span class=\"proof\">Problem 4.17 (Gallian):</span> Complete the following statement: $|a| = |a^2| \\iff |a| . . . .$\n",
    "    \n",
    "<span class='proof'>Answer </span> 1) is infinite.  2) is odd. By theorem 4.2 $$\\text{if }|a|=n=|a^2|=\\frac{n}{gcd(n,2)}$$\n",
    "and therefore $$gcd(n,2)=1\\implies \\text{n is odd}$$\n",
    "<hr>"
   ]
  },
  {
   "cell_type": "markdown",
   "id": "9535b6af",
   "metadata": {},
   "source": [
    "<hr>\n",
    "<font size=\"3\">\n",
    "<span class=\"proof\">Problem 4.19 (Gallian):</span> List the cyclic subgroups of U(30). \n",
    "    \n",
    "<span class='proof'>Answer </span> The elements of $U(30) = \\{ 1, 7, 11, 13, 17, 19, 23, 29\\}$ The group $U(30)$ is not cyclic since it cannot be generated by one of its elements.<br>\n",
    "All subgroups generated by an element are cyclic, but by convention we include only one copy of those that are the same.<br>\n",
    "$\\<1\\>=\\{1\\}=e$<br>\n",
    "$\\<7\\>=\\{7,19,13,1\\}$ same as $\\<13\\>$ order 2. They are inverses.<br>\n",
    "$\\<11\\>=\\{11,1\\}$<br>\n",
    "$\\<17\\>=\\{17,19,23,1 \\}$ same as $\\langle 23 \\rangle$<br>\n",
    "$\\<19\\>=\\{19,1\\}$<br>\n",
    "$\\<29\\>=\\{29,1\\}$\n"
   ]
  },
  {
   "cell_type": "markdown",
   "id": "09a08786",
   "metadata": {},
   "source": [
    "<span class=\"proof\">Problem 4.20 (Gallian):</span> Suppose that G is an Abelian group of order 35 and every element of G satisfies the equation $x^{35}= e.$ Prove that G is cyclic. Does your argument work if 35 is replaced with 33?\n",
    "    \n",
    "<span class='proof'>Answer </span> Answer is from math.stackexchange by José Carlos Santos.\n",
    "\n",
    "Gallian only proves Lagrange's theorem later.\n",
    "\n",
    "If $(\\forall g\\in G):g^{35}=e$, then the order of every element of $G$ is $1$, $5$, $7$, or $35$. Of course, the goal is to prove that *some* element of $G$ has order $35$.\n",
    "\n",
    "Suppose that every element other than $e$ has order $5$. Then every element of $G\\setminus\\{e\\}$ belongs to some subgroup of order $5$. Each such subgroup will consist of $4$ elements of order $5$ plus $e$. But there's a problem here: $35$ is not of the form $4k+1$. So, some element from $G\\setminus\\{e\\}$ must have order $7$ or $35$. And, by the same argument, not all elements from $G\\setminus\\{e\\}$ have order $7$.\n",
    "\n",
    "Therefore, some $a\\in G$ has order $5$ or $35$ and some $b\\in G\\setminus\\{e\\}$ has order $7$ or $35$. If one of them has order $35$, we're done: $G$ is cyclic. Otherwise, $ab$ has order $35$ and, again, $G$ is cyclic.\n",
    "\n",
    "And, clearly, this argument does *not* apply to $33$.\n",
    "<hr>"
   ]
  },
  {
   "cell_type": "markdown",
   "id": "d86d1618",
   "metadata": {},
   "source": [
    "<span class=\"proof\">Problem 4.21 (Gallian):</span> Let G be a group and let a be an element of G.<br>\n",
    "a. If $a^{12}=e,$ what can we say about the order of a?<br>\n",
    "b. If $a^m=e,$ what can we say about the order of a?<br>\n",
    "c. Suppose that $|G|=24$ and that $G$ is cyclic. If $a^8\\ne e$ and $a^{12}\\ne e$, show that $\\<a\\>= G.$\n",
    "    \n",
    "<span class='proof'>Answer </span><br>\n",
    "a) It could be 1,3,4, or 12. The order of a divides into 12.<br>\n",
    "b) The order of a divides into m.<br>\n",
    "c) Element $a$ must be chosen from the divisors of $24=1,2,3,4,6,8,12,24.$<br>\n",
    "If $|a|=1$ then $(a^1)^{12}=e^{12}=e$<br>\n",
    "If $|a|=2$ then $(a^2)^4=e^4=e$<br>\n",
    "If $|a|=3$ then $(a^3)^4=e^4=e$<br>\n",
    "If $|a|=4$ then $(a^4)^3=e^3=e$<br>\n",
    "If $|a|=6$ then $(a^6)^2=e^2=e$<br>\n",
    "If $|a|=8$ then $(a^8)=e$<br>\n",
    "If $|a|=12$ then $a^{12}=e$<br>\n",
    "The only divisor of 24 remaining, that does not cause a contradiction is $|a|=24$\n",
    "<h3>The order of every subgroup must divide the order of the group</h3>\n",
    "\n",
    "<hr>"
   ]
  },
  {
   "cell_type": "markdown",
   "id": "74c1e913",
   "metadata": {},
   "source": []
  },
  {
   "cell_type": "markdown",
   "id": "53d60fd5",
   "metadata": {},
   "source": [
    "<span class=\"proof\">Problem 4.22 (Gallian):</span> Prove that a group of order 3 must be cyclic.\n",
    "    \n",
    "<span class='proof'>Answer </span> A group of order 3 has but 3 elements and they are {e,a,b}.\n",
    "The two elements $a$ and $b$ must generate subgroups with orders that divide 3.  That means that $$|a|=1 \\text{ or } |a|=3$$\n",
    "But $|a|\\ne e$ and $e$ is the only subgroup of order 1, so $|a|=3$ which defines a cyclic group with 3 elements.\n",
    "<hr>"
   ]
  },
  {
   "cell_type": "markdown",
   "id": "fa768979",
   "metadata": {},
   "source": [
    "<span class='proof'>Problem 4.23 (Gallian):</span> Let Z denote the group of integers under addition. Is every subgroup of Z cyclic? Why? Describe all the subgroups of Z. Let $a$ be a group element with infinite order. Describe all subgroups of $\\<a\\>.$\n",
    "\n",
    "<span class='proof'>Answer </span> By Theoerem 4.3 FTCG, every subgroup of a cyclic group is cyclic.  So, Yes. The subgroups of $\\Z$ are $\\{0,\\pm n,\\pm 2n,\\ldots\\}$ The subgroups of $\\<a\\>$ are $$a^n \\quad n\\in \\Z$$\n",
    "<hr>"
   ]
  },
  {
   "cell_type": "markdown",
   "id": "8bcf1c54",
   "metadata": {},
   "source": [
    "<span class=\"proof\">Problem 4.24 (Gallian):</span> For any element $a$ in any group $G,$ prove that $\\<a\\>$ is a subgroup of $C(a)$ (the centralizer of a).\n",
    "    \n",
    "<span class='proof'>Answer </span> The centralizer, $C(a)\\in G,$ of any group with respect to some element $a\\in G$ is the set of all elements in the group that commute with $a.$ That is, $$\\{g\\in G, ga=ag\\}$$\n",
    "<span class='proof'>Proof:</span> Since $a\\in C(a)$ then $\\<a\\>\\in C(a).$ \n",
    "\n",
    "<span class='proof'>Better Proof:</span> Let $b\\in \\<a\\>.$ Then $b = a^n$ for some integer $n.$  Thus, $ab = a\\cdot a^n = a^{1+n} = a^{n+1} = a^n\\cdot a = ba.$ That is, $b$ commutes with $a,$ so $b\\in C(a).$  Since $b$ was arbitrary, we can conclude that $\\<a\\>\\subset C(a),$ and since $\\<a\\>$ is a subgroup of $G$ that is contained in $C(a)$ (with C(a) itself a subgroup), we conclude that $\\<a\\>$ is also a subgroup of $C(a).$\n",
    "<hr>"
   ]
  },
  {
   "cell_type": "markdown",
   "id": "0bcbf771",
   "metadata": {},
   "source": [
    "<span class=\"proof\">Problem 4.25 (Gallian):</span> If $d$ is a positive integer, $d\\ne 2,$ and $d$ divides $n,$ show that the number of elements of order $d$ in $D_n$ is $\\phi(d).$ How many elements of order 2 does $D_n$ have?\n",
    "    \n",
    "<span class='proof'>Answer </span> The dihedral group of order $2n$ is denoted $D_n$ and are the symmetries of the regular n-gon.  The number of rotational elements is $n.$ Performing exactly $n$ rotations returns the n-gon to $e.$  The number of reflections is also $n$ since there is a reflection for each line of symmetry and there are $n$ lines of symmetry. Therefore, the number of elements for $D_n$ is $2n.$\n",
    "\n",
    "All reflections have order $2,$ so there are $n$ reflection elements with order $2.$ That is, no reflections have order $d$ since $d\\ne 2.$\n",
    "The rotations form a cyclic subgroup and by theorem 4.4, if $d$ divides $n,$ the number of elements in this cyclic subgroup is $\\phi(d).$\n",
    "\n",
    "How many elements are of order 2?  We already said that there are $n$ order 2 elements which are reflections.  Now if $n$ is odd, none of the rotations can be order $2,$ so the answer is $n.$  However, if $n$ is even, there is one order $2$ rotations, namely $R_{180^\\circ}.$ So for even $n$ the answer is $n+1.$\n",
    "<hr>"
   ]
  },
  {
   "cell_type": "markdown",
   "id": "6482baa1",
   "metadata": {},
   "source": [
    "<span class=\"proof\">Problem 4.26 (Gallian):</span> Find all generators of $\\Z.$ Let $a$ be a group element that has infinite order. Find all generators of $\\<a\\>$.\n",
    "    \n",
    "<span class='proof'>Answer </span> $\\Z$ can be generated by $1$ and $-1$ only. <br>\n",
    "\n",
    "What are the generators of $\\<a\\> = a\\cdot \\Z?$ They are $\\pm a.$ <br>For example, the generators of $\\<3\\>=\\{3,6,9,\\cdots\\}$ are $\\pm 3$\n",
    "<hr>"
   ]
  },
  {
   "cell_type": "markdown",
   "id": "40f65ac5",
   "metadata": {},
   "source": [
    "<span class=\"proof\">Problem 4.27 (Galllian):</span> Prove that C*, the group of nonzero complex numbers under multiplication, has a cyclic subgroup of order n for every positive integer n.\n",
    "    \n",
    "<span class='proof'>Proof </span> Copied from https://math.stackexchange.com/questions/2685075/prove-that-the-nth-roots-of-unity-form-a-group-under-multiplication/2685678#2685678\n",
    "\n",
    "There is a more detailed answer at the above site if needed.\n",
    "\n",
    "More generally, if $C$ is a group and $z \\in C$ with $z^n=1$, where $1$ is the identity of $C$, then $G=\\{1,z,z^2,\\dots,z^{n-1}\\}$ is a group (actually, a subgroup of $C$).\n",
    "\n",
    "Indeed:\n",
    "\n",
    "- Closure: $z^j z^k = z^{j+k} = z^r \\in G$, where $r = (j+k) \\bmod n$.\n",
    "\n",
    "- Associativity: comes from $C$.\n",
    "\n",
    "- Identity: $1 \\in G$ by definition, and $1$ is the identity of $C$.\n",
    "\n",
    "- Inverse: $z^j z^{n-j} =1$.\n",
    "\n",
    "- Commutativity: $z^j z^k = z^{j+k} = z^{k+j} = z^k z^j$.\n",
    "<hr>"
   ]
  },
  {
   "cell_type": "markdown",
   "id": "88293b0e",
   "metadata": {},
   "source": [
    "<span class=\"proof\">Problem 4.28 (Gallian):</span> Let $a$ be a group element that has infinite order. Prove that $\\<a^i\\>= \\<a^j\\> \\iff i=\\pm j$\n",
    "    \n",
    "<span class='proof'>Answer </span> Previously, we have proved that an element and its inverse have the same order. (Ex 4 of Ch 3.)  If $a^i=a^j$ then for some $k,$ $a^i=(a^j)^k=a^{jk}.$ Because $a$ has infinite order, $i=jk.$ But that implies that $j$ divides $i$ and $i$ divides $j$ ergo, $i=\\pm j.$\n",
    "<hr>"
   ]
  },
  {
   "cell_type": "markdown",
   "id": "991c20ed",
   "metadata": {},
   "source": [
    "<span class=\"proof\">Problem 4.29 (Gallian):</span> List all the elements of order 8 in $\\Z_{8\\,000\\,000}.$ How do you know your list is complete? \n",
    "\n",
    "Let a be a group element such that $|a|= 8\\,000\\,000.$ List all elements of order 8 in $\\<a\\>.$ How do you know your list is complete?\n",
    "\n",
    "<h2>FTCG</h2> Every subgroup of a cyclic group is cyclic. Moreover, if $|\\<a\\> |=n,$ then the order of any subgroup of $\\<a\\>$ is a divisor of $n;$ and, for each positive divisor $k$ of $n,$ the group $\\<a\\>$ has exactly one subgroup of order $k$ --- namely, $\\< a^{n/k}\\>$.\n",
    "\n",
    "    \n",
    "<span class='proof'>Answer </span><h4>For a $\\color{red}{\\text{cyclic group}}$ only, I can get the order of an element, $m$ in a group $\\Z_n$ by $$|m| = \\frac{n}{gcd(m,n)} \\iff m\\mid n$$</h4>\n",
    "\n",
    "In a cyclic group of order $n$, with generator $a$, all subgroups are cyclic, generated (by definition) by some $a^k$, and the order of $a^k$ is equal to $$\\frac n{\\gcd(n,k)}.$$\n",
    "Therefore $a^k$ is another generator of the group if and only if $k$ is coprime to $n$.\n",
    "\n",
    "\n",
    "First, the number of elements with order 8 in any cyclic group will be $\\phi(8)=4.$ <br>\n",
    "$8a\\equiv 0\\pmod{8\\,000\\,000}$\n",
    "So $8$ divides $8\\,000\\,000$ evenly to give $1\\,000\\,000$ and we need multiples of 1 million. By FTCG, $1\\,000\\,000$ generates the unique subgroup or order $8.$ \n",
    "\n",
    "The order of $\\bar m$ in $\\mathbb{Z}_{8000000}$ is $\\frac{8000000}{gcd(m,8000000)}$. This is $8$ if and only if \n",
    "\n",
    "$$gcd(m,8000000)=1000000$$\n",
    "\n",
    "Thus, $m$ must be an odd multiple of $1000000$.\n",
    "<hr>"
   ]
  },
  {
   "cell_type": "markdown",
   "id": "792f8d8f",
   "metadata": {},
   "source": [
    "<span class=\"proof\">Problem 4.xx (Gallian):</span> \n",
    "    \n",
    "<span class='proof'>Answer </span>\n",
    "<hr>"
   ]
  },
  {
   "cell_type": "code",
   "execution_count": null,
   "id": "371835e4",
   "metadata": {},
   "outputs": [],
   "source": []
  }
 ],
 "metadata": {
  "kernelspec": {
   "display_name": "Python 3 (ipykernel)",
   "language": "python",
   "name": "python3"
  },
  "language_info": {
   "codemirror_mode": {
    "name": "ipython",
    "version": 3
   },
   "file_extension": ".py",
   "mimetype": "text/x-python",
   "name": "python",
   "nbconvert_exporter": "python",
   "pygments_lexer": "ipython3",
   "version": "3.11.4"
  }
 },
 "nbformat": 4,
 "nbformat_minor": 5
}
