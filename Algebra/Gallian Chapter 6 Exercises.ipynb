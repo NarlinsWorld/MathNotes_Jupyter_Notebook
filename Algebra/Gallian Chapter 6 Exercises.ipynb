{
 "cells": [
  {
   "cell_type": "code",
   "execution_count": 1,
   "id": "694a26ea-21bd-47b7-a1a1-f4e4204c9114",
   "metadata": {},
   "outputs": [
    {
     "data": {
      "text/html": [
       "<style>\n",
       "div{\n",
       "    font-size:medium;\n",
       "}\n",
       ".box{\n",
       "    border: 2px red solid;\n",
       "    padding: 10px;\n",
       "    }\n",
       ".theorem{\n",
       "    color: navy;\n",
       "    font-weight: bold;\n",
       "    font-size:x-large;\n",
       "}\n",
       ".lemma {\n",
       "    color: blue;\n",
       "    font-style: italic;\n",
       "}\n",
       ".proof {\n",
       "    color: red;\n",
       "    font-weight: bold;\n",
       "}\n",
       ".red {\n",
       "    color: red;\n",
       "}\n",
       ".blue {\n",
       "    color: blue;\n",
       "}\n",
       "hr{\n",
       "    border-top: 2px purple solid;\n",
       "}\n",
       ".oomph{\n",
       "    color:darkgreen;\n",
       "    font-weight: bold;\n",
       "}\n",
       "\n",
       "\n",
       "</style>\n"
      ],
      "text/plain": [
       "<IPython.core.display.HTML object>"
      ]
     },
     "metadata": {},
     "output_type": "display_data"
    }
   ],
   "source": [
    "%%html\n",
    "<style>\n",
    "div{\n",
    "    font-size:medium;\n",
    "}\n",
    ".box{\n",
    "    border: 2px red solid;\n",
    "    padding: 10px;\n",
    "    }\n",
    ".theorem{\n",
    "    color: navy;\n",
    "    font-weight: bold;\n",
    "    font-size:x-large;\n",
    "}\n",
    ".lemma {\n",
    "    color: blue;\n",
    "    font-style: italic;\n",
    "}\n",
    ".proof {\n",
    "    color: red;\n",
    "    font-weight: bold;\n",
    "}\n",
    ".red {\n",
    "    color: red;\n",
    "}\n",
    ".blue {\n",
    "    color: blue;\n",
    "}\n",
    "hr{\n",
    "    border-top: 2px purple solid;\n",
    "}\n",
    ".oomph{\n",
    "    color:darkgreen;\n",
    "    font-weight: bold;\n",
    "}\n",
    "\n",
    "\n",
    "</style>"
   ]
  },
  {
   "cell_type": "markdown",
   "id": "70eea994-d2af-4eea-b043-176223c53b38",
   "metadata": {},
   "source": [
    "<h2>Show that a function is one-2-one.</h2>\n",
    "<div><span class='blue'>\n",
    "What is the easiest way to prove that a given function is one-to-one? Depends on the function!\n",
    "\n",
    "For some functions, the definition is simplest: show that if you have $a$ and $b$ in the domain such that $f(a)=f(b)$, then you can conclude that $a=b$.\n",
    "\n",
    "For some functions, the contrapositive of the definition is simplest: show that if $a$ and $b$ are in the domain and $a\\neq b$, then $f(a)\\neq f(b)$.\n",
    "\n",
    "For yet other functions, it is easier to prove they are one-to-one by showing that they have a left inverse: that is, if $f\\colon X\\to Y$, then coming up with a function $g\\colon Y\\to X$ such that $g\\circ f = \\mathrm{id}_X$, the identity of $X$; this immediately implies that $f$ is one-to-one. \n",
    "\n",
    "When the sets have other structure, there may be other tools available (showing that a *linear transformation* is one-to-one can be done by showing that if $T(\\mathbf{x})=\\mathbf{0}$, then $\\mathbf{x}=\\mathbf{0}$, for example). \n",
    "\n",
    "Which one is easiest? Depends on the function.\n",
    "\n",
    "What's the easiest way to show that a function is not one-to-one? The *absolutely*, *definitely*  **best** way is to exhibit two *specific* elements in the domain, $a$ and $b$, showing that $a\\neq b$, and then showing that $f(a)\\neq f(b)$. In fact, I would say that 99% of the \"proofs that a function is not one-to-one\" should at the very list *end* with such an explicit example. \n",
    "\n",
    "How do you *find* such examples? Again, it depends on the function. Sometimes you try to see if the function is one-to-one by considering what you can conclude if $f(a)=f(b)$; this will lead you to a relationship between $a$ and $b$, and often you can see that the relation can be satisfied with $a\\neq b$. This will lead you to an example. For instance, to show that $f\\colon\\mathbb{R}\\to\\mathbb{R}$ defined by $f(x)=x^2$ is not one-to-one, you could go through the following thought process:\n",
    "\n",
    "> \"I wonder if it is one to one... let's see... if $f(a)=f(b)$, then this means that $a^2=b^2$; taking square roots, that says that $|a|=|b|$... ah! but that can happen even if $a\\neq b$! For instance, if $a=-b$... Okay, so here's a proof that $f$ is not one-to-one: take $a=1$, $b=-1$. Then $a\\neq b$, and $f(a)=f(1) = 1$, $f(b)=f(-1) = 1$. So $f(a)=f(b)$, and this shows that $f$ is not one-to-one.\"\n",
    "</span>\n",
    "</div>"
   ]
  },
  {
   "cell_type": "markdown",
   "id": "1f3aa859-b124-40e4-9c3b-c12024f46a30",
   "metadata": {},
   "source": [
    "<div>\n",
    "<span class=\"proof\">Problem 6.01 (Gallian):</span> Find an isomorphism from the group of integers under addition to the group of even integers under addition.\n",
    "<br><br>\n",
    "\n",
    "<span class='proof'>Answer </span> Here the domain is the group of Integers, $\\mathbb{Z},$ under addition.  The codomain is the group of even integers, $\\{\\mathbb{Z}\\pmod{2}=0\\},$ under addtion. Suppose $\\phi(n)=2n.$ $\\phi$ is onto if for all $y\\in \\{\\mathbb{Z}\\pmod{2}=0\\}$ there exists an $x$ in $\\phi$ such that $\\phi(x)=y.$  Here $\\phi(x)=y=2x$ which is the image of $\\phi,$ so $\\phi$ is onto.  To show that $\\phi(n)$ is one-to-one, we see that $\\forall \\text{ integers } (a,b), 2a=2b\\implies a=b.$  Therefore, $\\phi(n): \\mathbb{Z}\\rightarrow \\{\\mathbb{Z}\\pmod{2}=0\\}, n\\mapsto 2n$\n",
    "</div><hr>"
   ]
  },
  {
   "cell_type": "markdown",
   "id": "8f573af6-4458-4d71-91d1-b930cf213603",
   "metadata": {},
   "source": [
    "<div>\n",
    "<span class=\"proof\">Problem 6.02 (Gallian):</span> Find $Aut(\\mathbb{Z}).$\n",
    "<br><br>\n",
    "\n",
    "<span class='proof'>Answer </span> An automorphism of a cyclic group must carry a generator to a generator. Thus $1\\rightarrow 1$ and $1\\rightarrow −1$ are the only two choices for the image of $1.$ So let $\\alpha: n\\mapsto n \\text{ and } \\beta:n\\mapsto -n$ then $Aut(\\mathbb{Z})=\\{\\alpha,\\beta\\}$\n",
    "</div><hr>"
   ]
  },
  {
   "cell_type": "markdown",
   "id": "9d0c5726-8cbb-4d5a-9183-841483c79733",
   "metadata": {},
   "source": [
    "<div>\n",
    "<span class='proof'>Problem 6.04 (Gallian):</span> Show that U(8) is not isomorphic to U(10). That is, $U(8)\\ncong U(10)$\n",
    "<br><br>\n",
    "Comment: To be isomorphic we have 4 conditions.<br>\n",
    "1. We need a function,$\\phi$ that takes the domain to the codomain.<br>\n",
    "2. \"1-1\" Assume $\\phi(a)=\\phi(b)$ and show that $a=b.$<br>\n",
    "3. \"Onto\" Prove that $\\phi$ is onto; that is, for any element $g\\in G$,find an element $g\\in \\overline{G}$ such that $\\phi(g)=\\overline{g}.$<br>\n",
    "4. \"O.P.\" Operation Perserving. Show that $\\phi(ab)=\\phi(a)\\phi(b)$ for all $(a,b)$\n",
    "    <br><br>\n",
    "<span class='proof'>Answer </span> $U(8)=\\{1,3,5,7 \\}$ while $U(10)=\\{1,3,7,9\\}$ \n",
    "Since $U(10)$ is cyclic with 2 generators and $U(8)$ is not cyclic, they cannot be isomorphic.\n",
    "\n",
    "</div>"
   ]
  },
  {
   "cell_type": "markdown",
   "id": "b3616af3-41f0-4bce-92bf-e7ec219d57e2",
   "metadata": {},
   "source": [
    "<div>\n",
    "<span class=\"proof\">Problem 6.05 (Gallian):</span> Show that $U(8)\\cong U(12).$\n",
    "<br><br>\n",
    "\n",
    "<span class='proof'>Answer </span> $U(8)=\\{1,3,5,7\\}$ and $U(12)=\\{1,5,7,11\\}.$ <br>\n",
    "Let $\\phi = \\left[\\begin{array}{cc}1&3&5& 7\\\\1&5&7&11\\end{array}\\right]$ $\\phi(1)=1;\\ \\phi(3)=5;\\ \\phi(5)=7;\\ \\phi(7)=11$<br> $\\phi$ takes the Caley table of $U(8)$ to the Caley table of $U(12)$<br>\n",
    "$\\phi$ is bijective, and thus both one to one and onto.<br><br>\n",
    "$U(8): 3^2=5^2=7^2=1 \\pmod{8}$<br>\n",
    "$U12): 5^2=7^2=11^2=1 \\pmod{12}$<br>\n",
    "\n",
    "</div><hr>"
   ]
  }
 ],
 "metadata": {
  "kernelspec": {
   "display_name": "Python 3 (ipykernel)",
   "language": "python",
   "name": "python3"
  },
  "language_info": {
   "codemirror_mode": {
    "name": "ipython",
    "version": 3
   },
   "file_extension": ".py",
   "mimetype": "text/x-python",
   "name": "python",
   "nbconvert_exporter": "python",
   "pygments_lexer": "ipython3",
   "version": "3.11.4"
  }
 },
 "nbformat": 4,
 "nbformat_minor": 5
}
