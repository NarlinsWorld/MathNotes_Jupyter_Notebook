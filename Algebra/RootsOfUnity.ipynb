{
 "cells": [
  {
   "cell_type": "markdown",
   "metadata": {},
   "source": [
    "In complex numbers, the roots of unity are given by\n",
    "$$\\omega_k=e^{i\\frac{2k\\pi}{n}}\\qquad k\\in \\mathbb{Z}/n\\mathbb{Z}$$\n",
    "This forms a group $$G=\\left\\{\\omega_k=e^{i\\frac{2k\\pi}{n}}\\qquad k\\in \\mathbb{Z}/n\\mathbb{Z}\\right\\}$$\n",
    "$G$ is closed under multiplication as\n",
    "$$\\omega_k \\omega_\\ell =exp\\left(i\\frac{2k\\pi}{n}\\right) exp\\left(i\\frac{2\\ell\\pi}{n}\\right)\\quad \\ell\\in\\mathbb{Z}/n\\mathbb{Z}\\\\ =exp\\left(i\\frac{2(k+\\ell)\\pi}{n} \\right)$$\n",
    "Since $(k+\\ell)\\in\\mathbb{Z}/n\\mathbb{Z}$ we have closure as $\\omega_{k+\\ell\\pmod n)}$"
   ]
  },
  {
   "cell_type": "code",
   "execution_count": 8,
   "metadata": {},
   "outputs": [
    {
     "name": "stdout",
     "output_type": "stream",
     "text": [
      "These are the 7 roots of 1\n",
      "(1+0j)\n",
      "(0.6234898018587336+0.7818314824680298j)\n",
      "(-0.22252093395631434+0.9749279121818236j)\n",
      "(-0.900968867902419+0.43388373911755823j)\n",
      "(-0.9009688679024191-0.433883739117558j)\n",
      "(-0.2225209339563146-0.9749279121818236j)\n",
      "(0.6234898018587334-0.7818314824680299j)\n"
     ]
    },
    {
     "data": {
      "text/plain": [
       "[<matplotlib.lines.Line2D at 0x6fff905fe80>]"
      ]
     },
     "execution_count": 8,
     "metadata": {},
     "output_type": "execute_result"
    },
    {
     "data": {
      "image/png": "[encoded data removed]",
      "text/plain": [
       "<Figure size 432x288 with 1 Axes>"
      ]
     },
     "metadata": {},
     "output_type": "display_data"
    }
   ],
   "source": [
    "%reset-f\n",
    "from math import *\n",
    "from numpy import *\n",
    "import matplotlib.pyplot as plt\n",
    "n=7\n",
    "x=linspace(0,0,n)\n",
    "y=linspace(0,0,n)\n",
    "L=linspace(0+0j,0+0j,n)\n",
    "print(\"These are the \"+str(n)+\" roots of 1\")\n",
    "for k in range(n):\n",
    "    L[k]=exp(1j*2*k*pi/n)\n",
    "    print(L[k])\n",
    "    x[k]=real(L[k])\n",
    "    y[k]=imag(L[k])\n",
    "axes=plt.gca()\n",
    "axes.set_aspect(1)\n",
    "plt.axis([-1.5, 1.5, -1.5, 1.5])\n",
    "plt.ylabel('real part',size=16)\n",
    "plt.xlabel('imaginary part',size=16)\n",
    "plt.plot(x,y,'bo')"
   ]
  },
  {
   "cell_type": "code",
   "execution_count": null,
   "metadata": {},
   "outputs": [],
   "source": []
  }
 ],
 "metadata": {
  "kernelspec": {
   "display_name": "Python 3",
   "language": "python",
   "name": "python3"
  },
  "language_info": {
   "codemirror_mode": {
    "name": "ipython",
    "version": 3
   },
   "file_extension": ".py",
   "mimetype": "text/x-python",
   "name": "python",
   "nbconvert_exporter": "python",
   "pygments_lexer": "ipython3",
   "version": "3.7.3"
  }
 },
 "nbformat": 4,
 "nbformat_minor": 2
}
