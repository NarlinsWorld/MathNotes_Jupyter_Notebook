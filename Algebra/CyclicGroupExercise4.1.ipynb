{
 "cells": [
  {
   "cell_type": "markdown",
   "metadata": {},
   "source": [
    "This exercise comes from Michael Artin's \"Algebra\" chapter 2 exercise 4.1.  \n",
    "\n",
    "Given elements $a$ and $b$ in $G$. Assume $a$ is a cyclic group of order 7 and that $a^3b=ba^3$. Prove that $\\color{blue}{ab=ba}.$<br><br>\n",
    "<hr style=\"border-top blue solid 1px;\">\n",
    "<i>Proof</i> Multiply the equality $a^3b=ba^3$ by $a^3$ from the left.\n",
    "$$a^6b=\\color{green}{a^3ba^3} \\tag{eq 1}$$\n",
    "Now use the equality $a^3b=\\color{red}{ba^3}$ to show that the right side equals $ba^6$\n",
    "$$\\color{green}{a^3ba^3}=(a^3b)a^3=(\\color{red}{ba^3})a^3=ba^6$$ Thus eq 1 becomes $$a^6b=ba^6 \\tag{eq 2}$$\n",
    "Next multiply by $a$ from the left.\n",
    "$$a^7b=aba^6 \\tag{eq 3}$$\n",
    "<span style=\"color: red;\">Because it is a cyclic group of order 7, $a^7=1$,</span> thus<br>\n",
    "$$b=aba^6$$ Finally, multiply by $a$ from the right.\n",
    "$$ba=aba^7\\equiv ba=ab\\Rightarrow \\color{green}{ab=ba} \\qquad\\qquad\\blacksquare$$"
   ]
  },
  {
   "cell_type": "code",
   "execution_count": null,
   "metadata": {},
   "outputs": [],
   "source": []
  },
  {
   "cell_type": "code",
   "execution_count": null,
   "metadata": {},
   "outputs": [],
   "source": []
  }
 ],
 "metadata": {
  "kernelspec": {
   "display_name": "Python 3",
   "language": "python",
   "name": "python3"
  },
  "language_info": {
   "codemirror_mode": {
    "name": "ipython",
    "version": 3
   },
   "file_extension": ".py",
   "mimetype": "text/x-python",
   "name": "python",
   "nbconvert_exporter": "python",
   "pygments_lexer": "ipython3",
   "version": "3.7.3"
  }
 },
 "nbformat": 4,
 "nbformat_minor": 2
}
