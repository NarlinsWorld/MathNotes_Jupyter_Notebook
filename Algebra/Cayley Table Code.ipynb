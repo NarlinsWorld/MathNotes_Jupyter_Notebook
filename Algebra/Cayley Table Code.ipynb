{
 "cells": [
  {
   "cell_type": "code",
   "execution_count": 8,
   "id": "db781e00",
   "metadata": {},
   "outputs": [
    {
     "data": {
      "text/html": [
       "<style>\n",
       "div{\n",
       "    font-size:medium;\n",
       "}\n",
       ".theorem{\n",
       "    color: navy;\n",
       "    font-weight: bold;\n",
       "    font-size:x-large;\n",
       "}\n",
       ".lemma {\n",
       "    color: blue;\n",
       "    font-style: italic;\n",
       "}\n",
       ".proof {\n",
       "    color: red;\n",
       "    font-weight: bold;\n",
       "}\n",
       ".red {\n",
       "    color: red;\n",
       "}\n",
       ".blue {\n",
       "    color: blue;\n",
       "}\n",
       "hr{\n",
       "    border-top: 2px purple solid;\n",
       "}\n",
       ".oomph{\n",
       "    color:darkgreen;\n",
       "    font-weight: bold;\n",
       "}\n",
       "</style>\n"
      ],
      "text/plain": [
       "<IPython.core.display.HTML object>"
      ]
     },
     "metadata": {},
     "output_type": "display_data"
    }
   ],
   "source": [
    "%%html\n",
    "<style>\n",
    "div{\n",
    "    font-size:medium;\n",
    "}\n",
    ".theorem{\n",
    "    color: navy;\n",
    "    font-weight: bold;\n",
    "    font-size:x-large;\n",
    "}\n",
    ".lemma {\n",
    "    color: blue;\n",
    "    font-style: italic;\n",
    "}\n",
    ".proof {\n",
    "    color: red;\n",
    "    font-weight: bold;\n",
    "}\n",
    ".red {\n",
    "    color: red;\n",
    "}\n",
    ".blue {\n",
    "    color: blue;\n",
    "}\n",
    "hr{\n",
    "    border-top: 2px purple solid;\n",
    "}\n",
    ".oomph{\n",
    "    color:darkgreen;\n",
    "    font-weight: bold;\n",
    "}\n",
    "</style>"
   ]
  },
  {
   "cell_type": "markdown",
   "id": "1845520c",
   "metadata": {},
   "source": [
    "<hr>\n",
    "<font size=\"4\">\n",
    "The following code will print the Cayley table for a Dihedral group or order $2n.$  The rotations are prefaced with 'r' and the mirror line flips are prefaced with 's'.\n"
   ]
  },
  {
   "cell_type": "code",
   "execution_count": 7,
   "id": "039694b1",
   "metadata": {},
   "outputs": [
    {
     "name": "stdout",
     "output_type": "stream",
     "text": [
      "r0 r1 r2 r3 r4 s0 s4 s3 s2 s1\n",
      "r1 r2 r3 r4 r0 s1 s0 s4 s3 s2\n",
      "r2 r3 r4 r0 r1 s2 s1 s0 s4 s3\n",
      "r3 r4 r0 r1 r2 s3 s2 s1 s0 s4\n",
      "r4 r0 r1 r2 r3 s4 s3 s2 s1 s0\n",
      "s0 s1 s2 s3 s4 r0 r1 r2 r3 r4\n",
      "s4 s0 s1 s2 s3 r1 r2 r3 r4 r0\n",
      "s3 s4 s0 s1 s2 r2 r3 r4 r0 r1\n",
      "s2 s3 s4 s0 s1 r3 r4 r0 r1 r2\n",
      "s1 s2 s3 s4 s0 r4 r0 r1 r2 r3\n"
     ]
    }
   ],
   "source": [
    "def dihedral_cayley_table(n):\n",
    "    elements = [f'r{i}' for i in range(n)] + [f's{i}' for i in range(n)]\n",
    "    table = [[None] * (2 * n) for _ in range(2 * n)]\n",
    "    for i in range(2 * n):\n",
    "        for j in range(2 * n):\n",
    "            if i < n and j < n:\n",
    "                table[i][j] = f'r{(i + j) % n}'\n",
    "            elif i < n and j >= n:\n",
    "                table[i][j] = f's{(i - j + n) % n}'\n",
    "            elif i >= n and j < n:\n",
    "                table[i][j] = f's{(j - i + n) % n}'\n",
    "            else:\n",
    "                table[i][j] = f'r{(i + j - 2 * n) % n}'\n",
    "    return elements, table\n",
    "e,t = dihedral_cayley_table(5)\n",
    "for i in t:\n",
    "    print(*i)"
   ]
  },
  {
   "cell_type": "markdown",
   "id": "519a04a6",
   "metadata": {},
   "source": [
    " <img src=\"../Images/D3 group.png\" width=60%>\n",
    " $$\\begin{array} {|r|r|} \\hline\n",
    " R_0 & R_{120} & R_{240} & V_1 & V_2 & V_3 \\\\ \\hline \n",
    " R_{120} & R_{240} & R_0 & V_3 & V_1 & V_2 \\\\ \\hline \n",
    " R_{240} & R_0 & R_{120} & V_2 & V_3 & V_1 \\\\ \\hline\n",
    " V_1 & V_2 & V_3 & R_0 & R_{120} & R_{240} \\\\ \\hline\n",
    " V_2 & V_3 & V_1 & R_{240} & R_0 & R_{120} \\\\ \\hline\n",
    " V_3 & V_1 & V_2 & R_{120} & R_{240} & R_0 \\\\ \\hline\n",
    " \\end{array}$$\n"
   ]
  },
  {
   "cell_type": "code",
   "execution_count": 1,
   "id": "3e4f6dce",
   "metadata": {},
   "outputs": [
    {
     "name": "stdout",
     "output_type": "stream",
     "text": [
      "    1    5    7   11\n",
      "    5    1   11    7\n",
      "    7   11    1    5\n",
      "   11    7    5    1\n"
     ]
    }
   ],
   "source": [
    "#Construct a Cayley table for U(12)\n",
    "#U(n): The integers modulo n which are coprime with n and go from 1 to n-1.\n",
    "#The Table does not include the row and column headers.\n",
    "\n",
    "from sympy import gcd, totient\n",
    "n=12\n",
    "L=[]\n",
    "for i in range(1,n+1):\n",
    "    if gcd(i,n)==1: L.append(i)\n",
    "#print(L)\n",
    "\n",
    "for row in range(len(L)):\n",
    "    for col in range(len(L)):\n",
    "        print(\"{0:5d}\".format((L[col]*L[row])%n),end='')\n",
    "    print()"
   ]
  },
  {
   "cell_type": "code",
   "execution_count": 5,
   "id": "f872bc99",
   "metadata": {},
   "outputs": [
    {
     "name": "stdout",
     "output_type": "stream",
     "text": [
      "    0    1    2    3    4\n",
      "    1    2    3    4    0\n",
      "    2    3    4    0    1\n",
      "    3    4    0    1    2\n",
      "    4    0    1    2    3\n"
     ]
    }
   ],
   "source": [
    "#Construct a Cayley table for Z/nZ^+\n",
    "#Z/nZ^+: The integers modulo n under addition.\n",
    "\n",
    "from sympy import gcd, totient\n",
    "n=5\n",
    "L=[]\n",
    "for i in range(n):\n",
    "    L.append(i)\n",
    "#print(L)\n",
    "\n",
    "for row in range(len(L)):\n",
    "    for col in range(len(L)):\n",
    "        print(\"{0:5d}\".format((L[col]+L[row])%n),end='')\n",
    "    print()"
   ]
  }
 ],
 "metadata": {
  "kernelspec": {
   "display_name": "Python 3 (ipykernel)",
   "language": "python",
   "name": "python3"
  },
  "language_info": {
   "codemirror_mode": {
    "name": "ipython",
    "version": 3
   },
   "file_extension": ".py",
   "mimetype": "text/x-python",
   "name": "python",
   "nbconvert_exporter": "python",
   "pygments_lexer": "ipython3",
   "version": "3.9.7"
  }
 },
 "nbformat": 4,
 "nbformat_minor": 5
}
