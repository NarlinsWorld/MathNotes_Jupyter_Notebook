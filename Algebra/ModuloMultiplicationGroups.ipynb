{
 "cells": [
  {
   "cell_type": "markdown",
   "metadata": {},
   "source": [
    "<font size=4>\n",
    "A modulo multiplication group is a finite group $M_m$ of residue classes prime to $m$ under multiplication $\\bmod m.$ $M_m$ is Abelian of group order $\\phi(m),$ where $\\phi(m)$ is the totient function.\n",
    "    \n",
    "Each of the modulo multiplication classes forms a group under multiplication modulo $m$.\n",
    "\n",
    "\n",
    "</font>"
   ]
  },
  {
   "cell_type": "code",
   "execution_count": 7,
   "metadata": {},
   "outputs": [
    {
     "name": "stdout",
     "output_type": "stream",
     "text": [
      "k= 2 [1]\n",
      "k= 3 [1, 2]\n",
      "k= 4 [1, 3]\n",
      "k= 5 [1, 2, 3, 4]\n",
      "k= 6 [1, 5]\n",
      "k= 7 [1, 2, 3, 4, 5, 6]\n",
      "k= 8 [1, 3, 5, 7]\n",
      "k= 9 [1, 2, 4, 5, 7, 8]\n",
      "k= 10 [1, 3, 7, 9]\n",
      "k= 11 [1, 2, 3, 4, 5, 6, 7, 8, 9, 10]\n",
      "k= 12 [1, 5, 7, 11]\n",
      "k= 13 [1, 2, 3, 4, 5, 6, 7, 8, 9, 10, 11, 12]\n",
      "k= 14 [1, 3, 5, 9, 11, 13]\n",
      "k= 15 [1, 2, 4, 7, 8, 11, 13, 14]\n",
      "k= 16 [1, 3, 5, 7, 9, 11, 13, 15]\n",
      "k= 17 [1, 2, 3, 4, 5, 6, 7, 8, 9, 10, 11, 12, 13, 14, 15, 16]\n",
      "k= 18 [1, 5, 7, 11, 13, 17]\n",
      "k= 19 [1, 2, 3, 4, 5, 6, 7, 8, 9, 10, 11, 12, 13, 14, 15, 16, 17, 18]\n",
      "k= 20 [1, 3, 7, 9, 11, 13, 17, 19]\n",
      "k= 21 [1, 2, 4, 5, 8, 10, 11, 13, 16, 17, 19, 20]\n",
      "k= 22 [1, 3, 5, 7, 9, 13, 15, 17, 19, 21]\n",
      "k= 23 [1, 2, 3, 4, 5, 6, 7, 8, 9, 10, 11, 12, 13, 14, 15, 16, 17, 18, 19, 20, 21, 22]\n",
      "k= 24 [1, 5, 7, 11, 13, 17, 19, 23]\n"
     ]
    }
   ],
   "source": [
    "from numpy import *\n",
    "for k in range (2,25):\n",
    "    L=[]\n",
    "    for i in range(1,k):\n",
    "        if gcd(i,k)==1:\n",
    "            L.append(i)\n",
    "    print(\"k=\",k,L)\n",
    "        "
   ]
  },
  {
   "cell_type": "code",
   "execution_count": null,
   "metadata": {},
   "outputs": [],
   "source": []
  }
 ],
 "metadata": {
  "kernelspec": {
   "display_name": "Python 3",
   "language": "python",
   "name": "python3"
  },
  "language_info": {
   "codemirror_mode": {
    "name": "ipython",
    "version": 3
   },
   "file_extension": ".py",
   "mimetype": "text/x-python",
   "name": "python",
   "nbconvert_exporter": "python",
   "pygments_lexer": "ipython3",
   "version": "3.7.3"
  }
 },
 "nbformat": 4,
 "nbformat_minor": 2
}
