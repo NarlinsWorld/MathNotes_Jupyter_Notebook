{
 "cells": [
  {
   "cell_type": "markdown",
   "metadata": {},
   "source": [
    "<font size=3>\n",
    "Here we use the Euclidean algorithm to find the greatest common divisor (gcd) of two polynomials."
   ]
  },
  {
   "cell_type": "code",
   "execution_count": 64,
   "metadata": {},
   "outputs": [
    {
     "name": "stdout",
     "output_type": "stream",
     "text": [
      "f =\n"
     ]
    },
    {
     "data": {
      "text/latex": [
       "$\\displaystyle 3 x^{4} - 5 x^{3} - 4 x^{2} + 11 x - 5$"
      ],
      "text/plain": [
       "   4      3      2           \n",
       "3⋅x  - 5⋅x  - 4⋅x  + 11⋅x - 5"
      ]
     },
     "metadata": {},
     "output_type": "display_data"
    },
    {
     "name": "stdout",
     "output_type": "stream",
     "text": [
      "g =\n"
     ]
    },
    {
     "data": {
      "text/latex": [
       "$\\displaystyle - \\frac{56 x^{3}}{9} + \\frac{179 x^{2}}{9} - \\frac{190 x}{9} + \\frac{67}{9}$"
      ],
      "text/plain": [
       "      3        2             \n",
       "  56⋅x    179⋅x    190⋅x   67\n",
       "- ───── + ────── - ───── + ──\n",
       "    9       9        9     9 "
      ]
     },
     "metadata": {},
     "output_type": "display_data"
    },
    {
     "name": "stdout",
     "output_type": "stream",
     "text": [
      "f =\n"
     ]
    },
    {
     "data": {
      "text/latex": [
       "$\\displaystyle - \\frac{56 x^{3}}{9} + \\frac{179 x^{2}}{9} - \\frac{190 x}{9} + \\frac{67}{9}$"
      ],
      "text/plain": [
       "      3        2             \n",
       "  56⋅x    179⋅x    190⋅x   67\n",
       "- ───── + ────── - ───── + ──\n",
       "    9       9        9     9 "
      ]
     },
     "metadata": {},
     "output_type": "display_data"
    },
    {
     "name": "stdout",
     "output_type": "stream",
     "text": [
      "g =\n"
     ]
    },
    {
     "data": {
      "text/latex": [
       "$\\displaystyle \\frac{1539 x^{2}}{3136} - \\frac{1539 x}{1568} + \\frac{1539}{3136}$"
      ],
      "text/plain": [
       "      2                \n",
       "1539⋅x    1539⋅x   1539\n",
       "─────── - ────── + ────\n",
       "  3136     1568    3136"
      ]
     },
     "metadata": {},
     "output_type": "display_data"
    },
    {
     "name": "stdout",
     "output_type": "stream",
     "text": [
      "f =\n"
     ]
    },
    {
     "data": {
      "text/latex": [
       "$\\displaystyle \\frac{1539 x^{2}}{3136} - \\frac{1539 x}{1568} + \\frac{1539}{3136}$"
      ],
      "text/plain": [
       "      2                \n",
       "1539⋅x    1539⋅x   1539\n",
       "─────── - ────── + ────\n",
       "  3136     1568    3136"
      ]
     },
     "metadata": {},
     "output_type": "display_data"
    },
    {
     "name": "stdout",
     "output_type": "stream",
     "text": [
      "g =\n"
     ]
    },
    {
     "data": {
      "text/latex": [
       "$\\displaystyle 0$"
      ],
      "text/plain": [
       "0"
      ]
     },
     "metadata": {},
     "output_type": "display_data"
    },
    {
     "name": "stdout",
     "output_type": "stream",
     "text": [
      "Ergo: GCD =  1539*x**2/3136 - 1539*x/1568 + 1539/3136\n"
     ]
    }
   ],
   "source": [
    "%reset -f \n",
    "from sympy import * \n",
    "from IPython import display\n",
    "#import numpy as np\n",
    "#import matplotlib.pyplot as plt\n",
    "#%matplotlib inline\n",
    "init_printing(use_latex='mathjax')\n",
    "\n",
    "x = Symbol('x')\n",
    "\n",
    "def gcd_poly(a,b):\n",
    "    q,r = div(a,b,domain='QQ')\n",
    "    a=g\n",
    "    b=r\n",
    "    return a,b\n",
    "\n",
    "g = 3*x**4 - 5*x**3 - 4*x**2 + 11*x - 5\n",
    "f = x**5 + x**4 - 12*x**3 + 20*x**2 - 13*x + 3\n",
    "  \n",
    "# Using sympy.div() method \n",
    "while g!=0:\n",
    "    f,g = gcd_poly(f,g) \n",
    "    print('f =')\n",
    "    display.display(f)\n",
    "    print('g =')\n",
    "    display.display(g)\n",
    "print('Ergo: GCD = ',f)\n"
   ]
  },
  {
   "cell_type": "code",
   "execution_count": 61,
   "metadata": {},
   "outputs": [
    {
     "data": {
      "text/latex": [
       "$\\displaystyle x^{2} - 2 x + 1$"
      ],
      "text/plain": [
       " 2          \n",
       "x  - 2⋅x + 1"
      ]
     },
     "metadata": {},
     "output_type": "display_data"
    }
   ],
   "source": [
    "display.display(3136*f/1539)"
   ]
  },
  {
   "cell_type": "code",
   "execution_count": 54,
   "metadata": {},
   "outputs": [
    {
     "data": {
      "text/latex": [
       "$\\displaystyle \\left(x - 1\\right)^{3} \\left(x^{2} + 4 x - 3\\right)$"
      ],
      "text/plain": [
       "       3 ⎛ 2          ⎞\n",
       "(x - 1) ⋅⎝x  + 4⋅x - 3⎠"
      ]
     },
     "metadata": {},
     "output_type": "display_data"
    },
    {
     "data": {
      "text/latex": [
       "$\\displaystyle x^{5} + x^{4} - 12 x^{3} + 20 x^{2} - 13 x + 3$"
      ],
      "text/plain": [
       " 5    4       3       2           \n",
       "x  + x  - 12⋅x  + 20⋅x  - 13⋅x + 3"
      ]
     },
     "metadata": {},
     "output_type": "display_data"
    }
   ],
   "source": [
    "%reset -f \n",
    "from sympy import * \n",
    "from IPython import display\n",
    "import numpy as np\n",
    "#import matplotlib.pyplot as plt\n",
    "#%matplotlib inline\n",
    "init_printing(use_latex='mathjax')\n",
    "\n",
    "x = Symbol('x')\n",
    "f=((x-1)**3*(x**2+4*x-3))\n",
    "display.display(f)\n",
    "f=expand(f)\n",
    "display.display(f)"
   ]
  },
  {
   "cell_type": "markdown",
   "metadata": {},
   "source": [
    "<font size=3>\n",
    "The code below will fetch coefficients from a polynomial.\n",
    "If we divide through by the leading coefficient, we get a monic polynomial."
   ]
  },
  {
   "cell_type": "code",
   "execution_count": 74,
   "metadata": {},
   "outputs": [
    {
     "data": {
      "text/plain": [
       "array([ 0.49075255, -0.9815051 ,  0.49075255])"
      ]
     },
     "metadata": {},
     "output_type": "display_data"
    },
    {
     "name": "stdout",
     "output_type": "stream",
     "text": [
      "[ 1. -2.  1.]\n"
     ]
    }
   ],
   "source": [
    "%reset -f \n",
    "from sympy import * \n",
    "from IPython import display\n",
    "import numpy as np\n",
    "#import matplotlib.pyplot as plt\n",
    "#%matplotlib inline\n",
    "init_printing(use_latex='mathjax')\n",
    "\n",
    "# yields the coefficients from highest to lowest degree\n",
    "def extract_coefficients(p, degree):\n",
    "    n = degree + 1\n",
    "    sample_x = [ x for x in range(n) ]\n",
    "    sample_y = [ p(x) for x in sample_x ]\n",
    "    A = [ [ 0 for _ in range(n) ] for _ in range(n) ]\n",
    "    for line in range(n):   \n",
    "        for column in range(n):\n",
    "            A[line][column] = sample_x[line] ** column\n",
    "    c = np.linalg.solve(A, sample_y)\n",
    "    return c[::-1]\n",
    "\n",
    "h=extract_coefficients(lambda x: 1539*x**2/3136 - 1539*x/1568 + 1539/3136,2)\n",
    "display.display(h)\n",
    "print(h/h[0])"
   ]
  }
 ],
 "metadata": {
  "kernelspec": {
   "display_name": "Python 3",
   "language": "python",
   "name": "python3"
  },
  "language_info": {
   "codemirror_mode": {
    "name": "ipython",
    "version": 3
   },
   "file_extension": ".py",
   "mimetype": "text/x-python",
   "name": "python",
   "nbconvert_exporter": "python",
   "pygments_lexer": "ipython3",
   "version": "3.7.10"
  }
 },
 "nbformat": 4,
 "nbformat_minor": 4
}
