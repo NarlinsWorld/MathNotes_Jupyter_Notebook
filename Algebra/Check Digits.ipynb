{
 "cells": [
  {
   "cell_type": "code",
   "execution_count": 28,
   "id": "a2c6c364",
   "metadata": {},
   "outputs": [
    {
     "data": {
      "text/html": [
       "<style>\n",
       "div{\n",
       "    font-size:medium;\n",
       "}\n",
       ".theorem{\n",
       "    color: navy;\n",
       "    font-weight: bold;\n",
       "    font-size:x-large;\n",
       "}\n",
       ".lemma {\n",
       "    color: blue;\n",
       "    font-style: italic;\n",
       "}\n",
       ".proof {\n",
       "    color: red;\n",
       "    font-weight: bold;\n",
       "}\n",
       ".red {\n",
       "    color: red;\n",
       "}\n",
       ".blue {\n",
       "    color: blue;\n",
       "}\n",
       "hr{\n",
       "    border-top: 2px purple solid;\n",
       "}\n",
       ".oomph{\n",
       "    color:darkgreen;\n",
       "    font-weight: bold;\n",
       "}\n",
       "</style>\n"
      ],
      "text/plain": [
       "<IPython.core.display.HTML object>"
      ]
     },
     "metadata": {},
     "output_type": "display_data"
    }
   ],
   "source": [
    "%%html\n",
    "<style>\n",
    "div{\n",
    "    font-size:medium;\n",
    "}\n",
    ".theorem{\n",
    "    color: navy;\n",
    "    font-weight: bold;\n",
    "    font-size:x-large;\n",
    "}\n",
    ".lemma {\n",
    "    color: blue;\n",
    "    font-style: italic;\n",
    "}\n",
    ".proof {\n",
    "    color: red;\n",
    "    font-weight: bold;\n",
    "}\n",
    ".red {\n",
    "    color: red;\n",
    "}\n",
    ".blue {\n",
    "    color: blue;\n",
    "}\n",
    "hr{\n",
    "    border-top: 2px purple solid;\n",
    "}\n",
    ".oomph{\n",
    "    color:darkgreen;\n",
    "    font-weight: bold;\n",
    "}\n",
    "</style>"
   ]
  },
  {
   "cell_type": "markdown",
   "id": "1da18ba9",
   "metadata": {},
   "source": [
    "<hr>\n",
    "<font size=\"4\">\n",
    "Check digits on a US postal money order are modulo 9, and appended as the last digit. There are 10 working digits and an eleventh digit which is the check digit.<br><br>\n",
    "A decimal calculator will give the check digit (from input of the postal code without the check digit) as its decimal portion when divided by 9. A python program gets it as $digit = number\\%9$"
   ]
  },
  {
   "cell_type": "code",
   "execution_count": 29,
   "id": "3482a396",
   "metadata": {},
   "outputs": [
    {
     "name": "stdout",
     "output_type": "stream",
     "text": [
      "a 11 digit postal code24535\n",
      "Your number =  24535\n",
      "Your check digit was  5\n",
      "Your number without the check digit is 2453\n",
      "5\n"
     ]
    }
   ],
   "source": [
    "from sympy import floor\n",
    "a= input('a 11 digit postal code')\n",
    "b= a[:len(a)-1] #a with right character removed\n",
    "CD = a[-1:]     #the right most digit of a as a character\n",
    "a=int(a)\n",
    "b=int(b)\n",
    "CD=int(CD)\n",
    "\n",
    "print('Your number = ',a)\n",
    "print('Your check digit was ',CD)\n",
    "print('Your number without the check digit is',b)\n",
    "print(b%9)"
   ]
  },
  {
   "cell_type": "markdown",
   "id": "6c61042e",
   "metadata": {},
   "source": [
    " Airline companies, the United Parcel Service, and\n",
    "the rental-car companies Avis and National use the mod 7 values of\n",
    "identification numbers to assign check digits. Thus, the identification\n",
    "number 00121373147367 (00 121 373 147 367 3) has the check digit 3 appended.\n",
    "\n",
    "<div class='blue'>The methods used by the Postal Service and the airline companies\n",
    "do not detect all single-digit errors (see Exercises 41 and 45). However,\n",
    "detection of all single-digit errors, as well as nearly all errors involving the transposition of two adjacent digits, is easily achieved. </div>\n",
    "\n",
    "One method that does this is the one used to assign the so-called Universal Product Code (UPC) to most retail items (see Figure 0.4). <span class='blue'>A UPC identification number has 12 digits. </span>The first six digits identify the manufacturer, the next five identify the product, and the last is a check. (For many items, the 12th digit is not printed, but it is always bar-coded.)\n",
    "\n",
    "An item with the UPC identification number $a_1a_2a_3\\ldots a_{12}$ satisfies the condition $$\\left[\\begin{array}{c}a_1\\\\a_2\\\\a_3\\\\a_4\\\\a_5\\\\a_6\\\\a_7\\\\a_8\\\\a_9\\\\a_{10}\\\\a_{11}\\\\a_{12}\\end{array}\\right]\\cdot \n",
    "\\left[\\begin{array}{c}3\\\\1\\\\3\\\\1\\\\3\\\\1\\\\3\\\\1\\\\3\\\\1\\\\3\\\\1\\end{array}\\right]\n",
    "\\bmod{10}=0$$\n",
    "<div class='red'>The fixed k-tuple used in the calculation of check digits is called the weighting vector.</div>\n",
    "<img src=\"../Images/UPC_code.png\" width=50%>\n",
    "\n",
    "In the image, the UPC code is $0\\, 21000\\, 65897\\,8.$  Notice that it has 12 digits, because that information tells you whether it is an 'old' or 'new' system.  Twelve digits is the 'old' and 13 digit is the new.\n",
    "\n",
    "Use the code in the cell below to verify that the number in the image satisfies the condition."
   ]
  },
  {
   "cell_type": "code",
   "execution_count": 4,
   "id": "054b68af",
   "metadata": {},
   "outputs": [
    {
     "name": "stdout",
     "output_type": "stream",
     "text": [
      "sum= 90 and mod 10 = 0\n"
     ]
    }
   ],
   "source": [
    "#a_str = input(\"your number = \")\n",
    "# print(a_str[0],a_str[1],a_str[2])\n",
    "# print(int(a_str[1]))\n",
    "\n",
    "a_str=\"021000658978\"\n",
    "sum=0\n",
    "for i in range(len(a_str)):\n",
    "    if i%2==0:\n",
    "        sum=sum+3*int(a_str[i])\n",
    "    else:\n",
    "        sum=sum+1*int(a_str[i])\n",
    "print('sum=',sum,'and mod 10 =',sum%10)"
   ]
  },
  {
   "cell_type": "code",
   "execution_count": 5,
   "id": "e86b1fac",
   "metadata": {},
   "outputs": [],
   "source": [
    "#Subroutine to do the extended Euclidean algorithm. gcd(a,b)=a*s+b*t\n",
    "from numpy import mod,gcd,floor\n",
    "\n",
    "def extended_euclidean(a, b):\n",
    "    #print(a,b)\n",
    "    if b == 0:\n",
    "        gcd, s, t = a, 1, 0\n",
    "        return (gcd, s, t)\n",
    "    else:\n",
    "        s2, t2, s1, t1 = 1, 0, 0, 1\n",
    "        while b > 0:\n",
    "            q= a // b\n",
    "            r, s, t = (a - b * q),(s2 - q * s1),( t2 - q * t1)\n",
    "            a,b,s2,t2,s1,t1=b,r,s1,t1,s,t\n",
    "        gcd,s,t=a,s2,t2\n",
    "        return (gcd,s,t)\n",
    "\n"
   ]
  },
  {
   "cell_type": "markdown",
   "id": "08fba35d",
   "metadata": {},
   "source": [
    "The 10-digit International Standard Book Number (ISBN-10) $a_1a_2a_3a_4a_5a_6a_7a_8 a_9a_{10}$ has the property $$(a_1, a_2,\\ldots , a_{10})\\cdot (10, 9, 8, 7,6, 5, 4, 3, 2, 1) \\bmod{11}= 0.$$  The digit $a_{10}$ is the check digit. When $a_{10}$ is required to be $10$ to make the dot product $0,$ the character $X$ is used as the check digit. Verify the check digit for the ISBN-10 assigned to this book.\n",
    "\n",
    "This is a valid ISBN10: $113360675X.$"
   ]
  },
  {
   "cell_type": "code",
   "execution_count": 65,
   "id": "8f7286b1",
   "metadata": {},
   "outputs": [
    {
     "name": "stdout",
     "output_type": "stream",
     "text": [
      "sum= 209\n",
      "verification =  0\n"
     ]
    }
   ],
   "source": [
    "#ISBN Verification code\n",
    "import sys\n",
    "ISBN = \"113360675X\"\n",
    "#ISBN='0669093254'\n",
    "ISBN = '0544272994'\n",
    "sum=0\n",
    "#verify the ISBN length.\n",
    "if len(ISBN)!=10:\n",
    "    print('ISBN10 must have exactly 10 characters all numeric except the last, which might be an X.')\n",
    "    sys.exit()\n",
    "    \n",
    "    \n",
    "#sum the first 9 digits with their weighting factor which are numeric.\n",
    "#The weighting vector is[[10,9,8,7,6,5,4,3,2]]\n",
    "for i in range(9):\n",
    "    sum=sum+int(ISBN[i])*(10-i)\n",
    "if ISBN[9]=='X':\n",
    "    sum=sum+10*1\n",
    "else:\n",
    "    sum=sum+int(ISBN[9])*1\n",
    "    \n",
    "print('sum=',sum)\n",
    "print('verification = ',sum%11)\n",
    "    "
   ]
  },
  {
   "cell_type": "code",
   "execution_count": 67,
   "id": "cacb0897",
   "metadata": {},
   "outputs": [
    {
     "name": "stdout",
     "output_type": "stream",
     "text": [
      "205 cd_correct = 4\n",
      "257 cd_other = 7\n"
     ]
    }
   ],
   "source": [
    "\n",
    "\n",
    "\n",
    "# Do NOT USE.  this is code for problem 53 in Gallian and not correct for ISBN10\n",
    "ISBN10 = '0544272994'\n",
    "#ISBN10 = '222822252y'\n",
    "vector9=[10,9,8,7,6,5,4,3,2]\n",
    "ivector9=[1,2,3,4,5,6,7,8,9]\n",
    "ISBNs=ISBN10[0:9]       #the first 9 digits\n",
    "\n",
    "#the correct vector sum\n",
    "sum=0\n",
    "for i in range(len(ISBNs)):\n",
    "    sum=sum+int(ISBNs[i])*vector9[i]\n",
    "print(sum,'cd_correct =',(-sum)%11)\n",
    "\n",
    "#the other vector sum\n",
    "sum=0\n",
    "for i in range(len(ISBNs)):\n",
    "    sum=sum+int(ISBNs[i])*ivector9[i]\n",
    "print(sum,'cd_other =',(-sum)%11)\n"
   ]
  },
  {
   "cell_type": "code",
   "execution_count": 63,
   "id": "15f9df55",
   "metadata": {},
   "outputs": [
    {
     "name": "stdout",
     "output_type": "stream",
     "text": [
      "0\n",
      "9\n",
      "2\n"
     ]
    }
   ],
   "source": [
    "a_i=117;i=5\n",
    "print((a_i*11)%11)\n",
    "print((a_i*11-a_i*i)%11)\n",
    "print((a_i*i)%11)"
   ]
  },
  {
   "cell_type": "markdown",
   "id": "c526f17d",
   "metadata": {},
   "source": [
    "<hr>\n",
    "The new ISBN-13 numbers have 12 digits (all digits no characters) and a 13th check digit that causes the entire 13 digit number to be zero mod 10.  The weighting vector is very much like the UPC code vector. It is $$\\left[ 1 3 1 3 1 3 1 3 1 3 1 3 1\\right]$$\n",
    "Currently, all issued ISBN-13 numbers start with 978, but eventually that will become 979.  In theory, any 3 digit number would be possible.\n",
    "\n",
    "Recently published books carry both ISBN's\n",
    "$$ISBN-10: 0544272994\\\\\n",
    "ISBN-13: 9780544272996$$"
   ]
  },
  {
   "cell_type": "code",
   "execution_count": 42,
   "id": "1519e887",
   "metadata": {},
   "outputs": [
    {
     "name": "stdout",
     "output_type": "stream",
     "text": [
      "112\n",
      "CD13= 8\n",
      "ISBN13= 9781133606758\n"
     ]
    }
   ],
   "source": [
    "#Convert an ISBN-10 to an ISBN-13\n",
    "ISBN10 = '0544272994'\n",
    "ISBN10='113360675X'\n",
    "ISBN13_vector=[1,3,1,3,1,3,1,3,1,3,1,3,1]\n",
    "Prefix ='978'\n",
    "\n",
    "ISBN10short=ISBN10[0:9] #the first 9 digits\n",
    "ISBN13short=Prefix+ISBN10short\n",
    "sum=0\n",
    "for i in range(len(ISBN13short)):\n",
    "    sum=sum+int(ISBN13short[i])*ISBN13_vector[i]\n",
    "print(sum)\n",
    "CD13=(-sum)%10\n",
    "print('CD13=',CD13)\n",
    "ISBN13=ISBN13short+str(CD13)\n",
    "print('ISBN13=',ISBN13)"
   ]
  },
  {
   "cell_type": "markdown",
   "id": "d576d8e0",
   "metadata": {},
   "source": [
    "<hr>\n",
    "<font size=\"4\">\n",
    "<span class=\"proof\">Problem 0.53(Gallian)</span> Suppose the weighting vector for ISBN10 was changed to (1, 2,3, 4, 5, 6, 7, 8, 9, 10). Explain how this would affect the check digit.\n",
    "    \n",
    "<span class='proof'>Solution</span> The new check digit will be 11-'the old check digit'.  Here is an explanation:<br> Let $a_i$ be the first 9 digits of the ISBN. \n",
    "With the proper weight vector, the algorithm for computing the check digit is $$\\begin{align}\n",
    "sum &= \\sum_{i=1}^9 a_i(11-i)\\tag{1}\\\\\n",
    "sum + (1)x&\\equiv 0\\pmod{11}\\\\\n",
    "x&=(-sum)\\bmod{11}\\\\\n",
    "\\end{align}$$\n",
    "    \n",
    "When doing the check digit calculation with the new vector, the check digit is\n",
    "$$\\begin{align}\n",
    "sum &= \\sum_{i=1}^9 a_i\\cdot i\\tag{2}\\\\\n",
    "sum+10x &\\equiv 0\\pmod{11}\\\\\n",
    "x&=(sum)\\bmod{11}\n",
    "\\end{align}$$\n",
    "    \n",
    "Expanding equation (1):\n",
    "    $$a_i\\cdot 11-a_i\\cdot i$$\n",
    " but $$a_i\\cdot 11\\equiv 0\\pmod{11}$$\n",
    "    So equation (1) becomes $$\\sum_{i=1}^9-a_i\\cdot i\\tag{3}$$\n",
    " That is, the two sums are just different by a sign mod 11.\n",
    "$$n+-n\\equiv 11\\pmod{11}$$\n"
   ]
  },
  {
   "cell_type": "markdown",
   "id": "1d2b74dd",
   "metadata": {},
   "source": [
    "<hr>\n",
    "<font size=\"4\">\n",
    "<span class=\"proof\">Problem 0.54(Gallian)</span> Use the two-check-digit error-correction method described in this chapter to append two check digits to the number $73445860.$\n",
    "    \n",
    "<span class='proof'>Solution</span> The idea is to start with an 8 digit number and assign 2 digits such that\n",
    "  $$(a_1+a_2+\\ldots+a_9+a_{10})\\bmod{11}=0$$\n",
    "and $$(a_1,a_s\\ldots,a_{10})\\cdot (1,2,\\ldots,10)\\mod11=0$$\n",
    " The 8 digit sum of $73445860$ is $37$ and $37\\bmod{11}=4.$\n",
    " Our first equation can be<br><br> $$(4+a_9+a_{10})\\equiv 0\\pmod{11}\\tag{1}$$<br><br>\n",
    " Our second equation has an 8 digit vector sum which is $156\\equiv 2\\pmod{11}$<br><br>\n",
    "  $$(2+(9)a_9+(10)a_{10})=0\\bmod{11}\\tag{2}$$\n",
    "<br><br>Change (2) by subtracting 11 everywhere, and then add it to (1)\n",
    "  $$\\begin{align}\n",
    "  (4+a_9+a_{10})&\\equiv 0\\pmod{11} \\tag{1}\\\\\n",
    "  (-9-2a_9-a{10}&\\equiv 0\\pmod{11} \\tag{2}\\\\\n",
    "  \\text{--------}&\\text{----------}\\\\\n",
    "  (-5-a_9)&\\equiv 0\\pmod{11}\\\\\n",
    "   a_9&\\equiv 6\\pmod{11}\n",
    "  \\end{align}$$\n",
    "    \n",
    "  With a_9 known, we get equation (1) as \n",
    "  $$\\begin{align}\n",
    "  10+a_{10}&\\equiv 0\\pmod{11}\\\\\n",
    "  a_{10}&\\equiv 1\\pmod{11}\n",
    "  \\end{align}$$\n",
    "  So the final number is $7344586061.$"
   ]
  },
  {
   "cell_type": "markdown",
   "id": "928c8329",
   "metadata": {},
   "source": [
    "<hr>\n",
    "<font size=\"4\">\n",
    "<span class=\"proof\">Problem 0.55(Gallian)</span> Suppose that an eight-digit number has two check digits appended using the error-correction method described in this chapter and it is incorrectly transcribed as 4302511568. If exactly one digit is incorrect, determine the correct number.\n",
    "\n",
    "<span class='proof'>Solution</span> If we just compute the digit sum, it should be $0\\bmod{11}$ but we find that it is $2.$  That gives us the magnitude of the error.  It is 2 too large. Computing the weight vector sum yields \n",
    "$$7(1) + 8(2) + 2(3) + 4(4) + 5(5) + 0(6) + 1(7) + 8(8) + 7(9) + 7(10)=230$$\n",
    "    $$230\\bmod{11}=10$$\n",
    " So $$230\\bmod{11}=10=2\\cdot position$$\n",
    "    $$position=5.$$\n",
    "Thus we lower the value in position 5 by 2 units.\n",
    "    $$Num = 4302\\color{red}{3}11568$$"
   ]
  },
  {
   "cell_type": "code",
   "execution_count": 74,
   "id": "cffd750f",
   "metadata": {},
   "outputs": [
    {
     "name": "stdout",
     "output_type": "stream",
     "text": [
      "33 0\n",
      "220 0\n"
     ]
    }
   ],
   "source": [
    "def add_digits(digitstr):\n",
    "    sum=0\n",
    "    for i in range(len(digitstr)):\n",
    "        sum=sum+int(digitstr[i])\n",
    "    return sum\n",
    "\n",
    "def add_vectorsum(digitstr):\n",
    "    V=[1,2,3,4,5,6,7,8,9,10]\n",
    "    sum=0\n",
    "    for i in range(len(digitstr)):\n",
    "        sum=sum+int(digitstr[i])*V[i]\n",
    "    return sum\n",
    "\n",
    "num= '4302311568'    #'4302511568'\n",
    "#num='7824501877' #7324501877\n",
    "\n",
    "print(add_digits(num),add_digits(num)%11)\n",
    "print(add_vectorsum(num),add_vectorsum(num)%11)"
   ]
  }
 ],
 "metadata": {
  "kernelspec": {
   "display_name": "Python 3 (ipykernel)",
   "language": "python",
   "name": "python3"
  },
  "language_info": {
   "codemirror_mode": {
    "name": "ipython",
    "version": 3
   },
   "file_extension": ".py",
   "mimetype": "text/x-python",
   "name": "python",
   "nbconvert_exporter": "python",
   "pygments_lexer": "ipython3",
   "version": "3.11.0"
  }
 },
 "nbformat": 4,
 "nbformat_minor": 5
}
