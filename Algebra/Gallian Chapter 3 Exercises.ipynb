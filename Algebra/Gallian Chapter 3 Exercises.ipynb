{
 "cells": [
  {
   "cell_type": "code",
   "execution_count": 19,
   "id": "47ff57f3",
   "metadata": {},
   "outputs": [
    {
     "data": {
      "text/html": [
       "<style>\n",
       "div{\n",
       "    font-size:medium;\n",
       "}\n",
       ".box{\n",
       "    border: 2px red solid;\n",
       "    padding: 10px;\n",
       "}\n",
       ".theorem{\n",
       "    color: navy;\n",
       "    font-weight: bold;\n",
       "    font-size:x-large;\n",
       "}\n",
       ".lemma {\n",
       "    color: blue;\n",
       "    font-style: italic;\n",
       "}\n",
       ".proof {\n",
       "    color: red;\n",
       "    font-weight: bold;\n",
       "}\n",
       ".red {\n",
       "    color: red;\n",
       "}\n",
       ".blue {\n",
       "    color: blue;\n",
       "}\n",
       "hr{\n",
       "    border-top: 2px purple solid;\n",
       "}\n",
       ".oomph{\n",
       "    color:darkgreen;\n",
       "    font-weight: bold;\n",
       "}\n",
       "</style>\n"
      ],
      "text/plain": [
       "<IPython.core.display.HTML object>"
      ]
     },
     "metadata": {},
     "output_type": "display_data"
    }
   ],
   "source": [
    "%%html\n",
    "<style>\n",
    "div{\n",
    "    font-size:medium;\n",
    "}\n",
    ".box{\n",
    "    border: 2px red solid;\n",
    "    padding: 10px;\n",
    "}\n",
    ".theorem{\n",
    "    color: navy;\n",
    "    font-weight: bold;\n",
    "    font-size:x-large;\n",
    "}\n",
    ".lemma {\n",
    "    color: blue;\n",
    "    font-style: italic;\n",
    "}\n",
    ".proof {\n",
    "    color: red;\n",
    "    font-weight: bold;\n",
    "}\n",
    ".red {\n",
    "    color: red;\n",
    "}\n",
    ".blue {\n",
    "    color: blue;\n",
    "}\n",
    "hr{\n",
    "    border-top: 2px purple solid;\n",
    "}\n",
    ".oomph{\n",
    "    color:darkgreen;\n",
    "    font-weight: bold;\n",
    "}\n",
    "</style>"
   ]
  },
  {
   "cell_type": "markdown",
   "id": "628cf809",
   "metadata": {},
   "source": [
    "<hr>\n",
    "<font size=\"3\">\n",
    "    <h2>Preliminary Notes</h2>\n",
    "    <span class='theorem'>Theorem 3.3: The Finite Group Test</span> <span class='red'>A closed subset of a group is a subgroup.</span> If $H$ is a subset of $G$ and if $H$ is closed under the operation of $G,$ then $H$ is a subgroup of $G.$\n",
    "    \n",
    "<span class='proof'>Proof:</span> We assume by the theorem condition that $H$ is a closed subset of $G.$ We need to prove that it has associativity, identity and inverse.\n",
    "    \n",
    "1. Associativity. This property is inherited from $G$ since the group operation is the same.<br>\n",
    "2. Identity. Choose some element $x\\in H.$ If the element happens to be $e$ then we are done. Otherwise, the element has order and $|x|=n$ for some $n\\in\\{1,2,3,4\\ldots\\}$ But the order of an element is by definition, the smallest positive integer, $n$ for which $x^n=e.$ Since $H$ is closed $x^n\\in H$ and identity is proven.\n",
    "3. Inverse. Again choose some element $a\\in H.$ If $a=e$ then $e^{-1}=e\\in H$ and inverse is established. Otherwise observe that all of the elements $a,a^2,a^3\\ldots \\in H.$ Since $H$ is closed the order of $a,$ $|a|=n>1^\\dagger$ and since we can go on forever with the sequence $a,a^2\\ldots,$ there must exist duplicate values because $H$ is finite. Hence we can pick two such duplicates such that<br> $i>j$ and $a^i=a^j.$<br>\n",
    "That means that<br> $a^i-a^j=a^{i-j}=e. $<br>  \n",
    "But, since $|a|>1,\\quad i-j>1$ we can write<br>\n",
    "$a^{i-j-1} = a^{i-j}a^{-1}=ea^{-1}=a^{-1} \\tag*{$\\square$}$\n",
    " \n",
    "$^\\dagger$ If $n=1$ then $1$ is the smallest positive number for which $x^n=e$ and we have the first case, i.e. $a^{1}=e.$ So $n>1.$ "
   ]
  },
  {
   "cell_type": "markdown",
   "id": "b90b9a19",
   "metadata": {},
   "source": [
    "<hr>\n",
    "<font size='3'>\n",
    "<span class='theorem'>Theorem 3.1: The One Step Subgroup Test: </span>\n",
    "    If $G$ is a group, and $H$ is a nonempty subset of $G,$ then $H$ is a subgroup of $G$ if $ab^{-1}\\in H$ whenever $a,b\\in H.$\n",
    "    \n",
    "<span class='proof'>Proof: </span> If $ab^{-1}\\in H,$ we will show that $H$ then meets the definition of a group.<br>\n",
    " <span class='blue'> 1. Associativity</span> This property is granted as $H$ and $G$ use the same operation.<br>\n",
    " <span class='blue'> 2. Identity</span>  Let $a=b=x\\in H,$ then $ab^{-1}=xx^{-1}=e,$ thus showing that $e\\in H.$<br> \n",
    "<span class='blue'> 3. Inverse</span>  Let $a=e$ and $b=x.$  This is OK because we have already shown that $e\\in H.$  Thus $ab^{-1}=ex^{-1}=x^{-1}$ thus showing that if $x\\in H$ then $x^{-1}\\in H.$<br>\n",
    "<span class='blue'> 4. Closure</span>  We have established that for any element, $y\\in H$ that $y^{-1}\\in H.$ So let $a=x$ and $b=y^{-1}.$ Then $ab^{-1}=x\\left(y^{-1}\\right)^{-1}=xy,$ thus showing that $H$ is closed. $$\\tag*{$\\square$}$$"
   ]
  },
  {
   "cell_type": "markdown",
   "id": "ceaf61c1",
   "metadata": {},
   "source": [
    "<hr>\n",
    "<font size='3'>\n",
    "<span class='theorem'>Theorem 3.2: Two Step Subgroup Test:</span> If $G$ is a group and $H$ is a nonempty subset of $G,$ then $H$ is a subgroup of $G$ if $ab\\in H$ whenever $a,b\\in H$ and $a^{-1}\\in H$ whenever $a\\in H.$\n",
    "    \n",
    "<span class='proof'>Proof: </span> Here we need to show that if $H$ is closed and $a^{-1}\\in H$ that $H$ is a subgroup of $G.$ That is, that $H$ has associativity and identity.<br>\n",
    " <span class='blue'> 1. Associativity</span> This property is granted since $H$ and $G$ have the same operation.<br>\n",
    " <span class='blue'> 2. Identity</span> Let $a=x\\in H.$ We are given that $H$ has an inverse, and that $H$ is closed. Therefore, $xx^{-1}=e\\in H$ and we are done. $$\\tag*{$\\square$}$$"
   ]
  },
  {
   "cell_type": "markdown",
   "id": "12e3f699",
   "metadata": {},
   "source": [
    "<hr>\n",
    "<font size=\"3\">\n",
    "    <h3>Using the Subgroup Tests</h3>\n",
    "    Using these tests is the opposite of proving them!  <br>\n",
    "    <span class='blue'>Finite group test. </span> We have to prove that finite subset $H$ is closed.<br>\n",
    "    <span class='blue'>One step test.</span> We have to prove that $\\forall (a,b)\\in H$ that $ab^{-1}\\in H.$ This typically means stating the property that makes every element of $H$ a bonafide member.<br>\n",
    "    1. Identify the property $P$ that distinguishes the elements of $H;$ that is,identify a defining condition.<br>\n",
    "    2. Prove that the identity has property $P.$ (This verifies that H is nonempty.)<br>\n",
    "    3. Assume that two elements $a$ and $b$ have property $P.$<br>\n",
    "    4. Use the assumption that $a$ and $b$ have property $P$ to show that $ab^{-1}$ has property $P.$<br>\n",
    "    <span class='blue'>Two step test.</span> Here we need to show that closure and inverse exist for $H.$ Then quote the theorem."
   ]
  },
  {
   "cell_type": "markdown",
   "id": "a277b2db",
   "metadata": {},
   "source": [
    "Symbol <span class='lemma'>Definition: $\\langle x \\rangle$</span>  is the subgroup generated by $x$, that is the unique minimal subgroup of $G$ containing $x$. This is the definition. It is called <span class='red'>The cyclic subgroup of $G$ generated by $a.$</span>\n",
    "\n",
    "It is not hard to show that  $\\langle x \\rangle = \\{x^i:i\\in \\mathbb{Z}\\}$  (with the convention that $x^0$ is the identity element), which is frequently a more useful characterization."
   ]
  },
  {
   "cell_type": "markdown",
   "id": "7837a5eb",
   "metadata": {},
   "source": [
    "<img src=\"../Images/Group Generators Cyclic.png\">"
   ]
  },
  {
   "cell_type": "code",
   "execution_count": 26,
   "id": "9b130b2c",
   "metadata": {},
   "outputs": [
    {
     "name": "stdout",
     "output_type": "stream",
     "text": [
      "Z/20Z is [1, 2, 3, 4, 5, 6, 7, 8, 9, 10, 11, 12, 13, 14, 15, 16, 17, 18, 19, 0]\n",
      "Z/20Z generated by 12 is [12, 4, 16, 8, 0]\n",
      "Ord(12) is 5\n",
      "-------------\n",
      "U( 20 )= [1, 3, 7, 9, 11, 13, 17, 19]\n",
      "Order of U(n) is 8\n",
      "Inverse of 12 mod 20 = 2\n",
      "[12, 4, 8, 16] Order of 12  is 4\n",
      "[2, 1, 18, 19] Order= 4\n"
     ]
    }
   ],
   "source": [
    "from sympy import totient\n",
    "#Code to return U(n) Integers {1,2,... n-1} coprime to n.\n",
    "def U(n):\n",
    "    L=[]\n",
    "    for i in range(1,n):\n",
    "        g,x,y=xgcd(i,n)\n",
    "        if g==1:L.append(i)\n",
    "    return L\n",
    "\n",
    "#Code to return <a> in Z/nZ the additive group of integers modulo n\n",
    "#<a> is the number to begin generating these integers. Not all numbers\n",
    "# will generate the entire set.\n",
    "def Zn(a,n):\n",
    "    L=[]\n",
    "    for i in range(1,n+1):\n",
    "        val=int((a*i)%n)\n",
    "        if val==0:\n",
    "            L.append(val)\n",
    "            return L\n",
    "        else:\n",
    "            L.append(val)\n",
    "    return L\n",
    "\n",
    "#print(Zn(127,12))\n",
    "\n",
    "def xgcd (a, b):\n",
    "#extended Euclidean for python3 . Returns gcd (a,b),x,y\n",
    "# if b=modulus, then the returned x is the inverse of 'a' mod b.\n",
    "    if b == 0:\n",
    "        return a ,1, 0\n",
    "    else :\n",
    "        q, r = divmod (a, b)\n",
    "        g,x, y = xgcd (b, r)\n",
    "    return g,y, x - q * y # returns g,x,y\n",
    "\n",
    "def Inv(a,n): #inverse of a mod n\n",
    "    gcd,x,y=xgcd(a,n)\n",
    "    if x<0:x=x+n\n",
    "    return x # means (x*a)%n=1\n",
    "\n",
    "\n",
    "#Code to return <a> in U(n). the multiplicative group of integers modulo n and coprime to n\n",
    "#<a> is the number to begin generating these integers. a^n=1, because e=1.\n",
    "#{a^1%n, a^2%n, a^3%n, . . .}stop the series when it repeats.\n",
    "def Un(a,n):\n",
    "    L=[]\n",
    "    for i in range(1,n):  #the positive series.\n",
    "        val=int((a**i)%n)\n",
    "        if val not in L: L.append(val)\n",
    "    return L\n",
    "\n",
    "\n",
    "\n",
    "def Uneg(a,n):\n",
    "    L=[]\n",
    "    for i in range(-1,-n,-1):  #the negative series\n",
    "        val=Inv(a**(-i),n)\n",
    "        if val not in L: L.append(val)\n",
    "    return L\n",
    "#--------------------------------------------------------------------------\n",
    "a=12; n=20\n",
    "print('Z/'+str(n)+'Z is',Zn(1,n))\n",
    "print('Z/'+str(n)+'Z generated by',a,'is',Zn(a,n))\n",
    "print('Ord('+str(a)+') is',len(Zn(a,n)))\n",
    "print('-------------')\n",
    "print('U(',n,')=',U(n))\n",
    "print('Order of U(n) is',totient(n))\n",
    "\n",
    "u=Inv(a,n)\n",
    "print('Inverse of',a,'mod',n,'=',u)\n",
    "\n",
    "P=Un(a,n)\n",
    "print(P,end=' ') #prints the positive series {a^1,a^2,...} generated by a mod n\n",
    "print('Order of',a,' is',len(P))\n",
    "N=Uneg(a,n); \n",
    "print(N,end=' ') #prints the negative series {a^-1, a^-2, ...} generated by a mod n\n",
    "print('Order=',len(N))\n"
   ]
  },
  {
   "cell_type": "markdown",
   "id": "e2392132",
   "metadata": {},
   "source": [
    "<hr><h1>Exercises</h1>"
   ]
  },
  {
   "cell_type": "markdown",
   "id": "23ca42ed",
   "metadata": {},
   "source": [
    "<hr>\n",
    "<font size=\"3\">\n",
    "<span class=\"proof\">Problem 3.01 (Gallian):</span> 1. For each group in the following list, find the order of the group and the order of each element in the group. What relation do you see between the orders of the elements of a group and the order of the group?\n",
    "$Z_{12}, U(10), U(12), U(20), D_4$\n",
    "    \n",
    "<span class='proof'>Answer: </span><br>\n",
    "    <span class='blue'>Definition Order of a Group</span>The number of elements of a group (finite or infinite) is called its order. We will use |G| to denote the order of G.\n",
    "    \n",
    " <span class='blue'>Definition Order of an Element</span> The order of an element $g$ in a group G is the smallest <u>positive integer</u> $n$ such that $g^n=e.$ (In additive notation, this would be ng=0.) If no such integer exists, we say that $g$ has infinite order. The order of an element g is denoted by |g|.\n",
    "\n",
    "<div class='box'>\n",
    "$\\mid Z_{12}\\mid = 12\\qquad$  $|0|=1\\qquad$ i.e. $n\\cdot 0=0$ Solve for $n=1$<br>\n",
    "    |1| Solve $n \\cdot 1 = 0.\\qquad |1|=12$<br>\n",
    "    |2|=6<br>\n",
    "    |3|=4<br>\n",
    "    |4|=3<br>\n",
    "    |5|=12<br>\n",
    "    |6|=2<br>\n",
    "    |7|=12<br>\n",
    "    |8|=3<br>\n",
    "    |9|=4<br>\n",
    "    |10|=6<br>\n",
    "    |11|=12<br>\n",
    "    </div>   <br> \n",
    "<div class='box'>    \n",
    "$U(10)=\\{1,3,7,9\\} \\qquad |U(10)|=4$<br>\n",
    "    $1^1\\bmod{10}=1,$ so $|1|=1$<br>\n",
    "    $3^4=81=1\\bmod{10}$ so $|3|=4$<br>\n",
    "    $7^4=2401=1\\bmod{10}$ so $|7|=4$<br>\n",
    "    $9^2=81=1\\bmod{10}$ so $|9|=2$ </div><br>\n",
    "    \n",
    "<div class='box'>\n",
    "$U(12)=\\{ 1,5,7,11 \\} \\qquad |U(12)|=4$<br>\n",
    "  $1^1=1$ so $|1|=1$<br> \n",
    "  $5^2=1\\bmod{12}$ so $|5|=2$<br>\n",
    "  $7^2=1\\bmod{12}$ so $|7|=2$<br>\n",
    "  $11^2=1\\bmod{12}$ so $|11|=2$</div><br>\n",
    "    \n",
    "<div class='box'>\n",
    "  $U(20)=\\{1,3,7,9,11,13,17,19\\}\\qquad |U(20)|=8$<br>\n",
    "  The following list is the [element,order of element] in U(20). <br>\n",
    "    [1, 1], [3, 4], [7, 4], [9, 2], [11, 2], [13, 4], [17, 4], [19, 2]\n",
    "    \n",
    " In each case, notice that the order of the element divides the order of the group. This would limit the amount of work needed to find element orders."
   ]
  },
  {
   "cell_type": "code",
   "execution_count": 156,
   "id": "fc9618cf",
   "metadata": {},
   "outputs": [
    {
     "name": "stdout",
     "output_type": "stream",
     "text": [
      "[[1, 1], [3, 4], [7, 4], [9, 2], [11, 2], [13, 4], [17, 4], [19, 2]]\n"
     ]
    }
   ],
   "source": [
    "#Take the list, U(20) and find the order of each element. \n",
    "G=[1,3,7,9,11,13,17,19]; H=[]\n",
    "for g in G:\n",
    "    #print(g)\n",
    "    j=20\n",
    "    while(j>0):\n",
    "        if(g**j)%20==1:\n",
    "            it=[g,j]\n",
    "        j=j-1\n",
    "    H.append(it)\n",
    "print(H)"
   ]
  },
  {
   "cell_type": "markdown",
   "id": "6a1643d3",
   "metadata": {},
   "source": [
    "<hr>\n",
    "<font size=\"4\">\n",
    "<span class=\"proof\">Problem 3.02 (Gallian):</span> Let $Q$ be the group of rational numbers under addition and let $Q^*$ be the group of nonzero rational numbers under multiplication. In $Q,$ list the elements in $\\langle\\frac{1}{2}\\rangle.$ In $Q^*,$ list the elements in $\\langle\\frac{1}{2}\\rangle.$\n",
    "\n",
    "    \n",
    "<span class='proof'>Answer: </span> In $Q,$ $\\langle \\frac{1}{2}\\rangle=\\{\\frac{n}{2}:n\\in\\mathbb{Z}\\}=\\{0,\\pm\\frac{1}{2},\\pm,\\frac{2}{2},\\pm\\frac{3}{2}\\cdots\\}$<br>\n",
    " In $Q^*,$ $\\langle \\frac{1}{2}\\rangle=\\{ (\\frac{1}{2})^n : n\\in\\mathbb{Z} \\}$\n",
    "  $=\\{ \\frac{1}{2},\\frac{1}{4},\\frac{1}{8}\\cdots;\\ 2,4,8,16\\cdots \\}$"
   ]
  },
  {
   "cell_type": "markdown",
   "id": "2ba3bf4f",
   "metadata": {},
   "source": [
    "<hr>\n",
    "<font size=\"4\">\n",
    "<span class=\"proof\">Problem 3.03 (Gallian):</span> Let $Q$ and $Q*$ be as in Exercise 2. Find the order of each element in $Q$ and in $Q*.$\n",
    "\n",
    "    \n",
    "<span class='proof'>Answer: </span> In $Q$ the identity element is 0.  In $Q*$ the identity element is 1. \n",
    "    \n",
    " So in $Q$ if $n$ is the order of the element,g, we need $ng=0,$ and $n>0.$ For element $g=0, |0|=1$ but all else have infinite order, since no positive integer times any non-zero number is equal to zero.\n",
    "    \n",
    "In Q*, we need $g^n=1:n>0.$ All elements have infinite order."
   ]
  },
  {
   "cell_type": "markdown",
   "id": "1c9913f3",
   "metadata": {},
   "source": [
    "<hr>\n",
    "<font size=\"4\">\n",
    "<span class=\"proof\">Problem 3.04 (Gallian):</span> Prove that in any group, an element and its inverse have the same order.\n",
    "\n",
    "    \n",
    "<span class='proof'>Answer: </span> By definition, if Let $a^n$ be $e$, then $e=(aa^{-1})^n=a^n(a^{-1})^n=e(a^{-1})^n=(a^{-1})^n$. Let $(a^{-1})^n=e$, then $e=(aa^{-1})^n=a^n(a^{-1})^n=a^ne=a^n$. So, $a^n=e \\iff (a^{-1})^n=e$.\n",
    "    \n",
    "  <span class='blue'>Definition Order of an Element</span> The order of an element $g$ in a group G is the smallest <u>positive integer</u> $n$ such that $g^n=e.$ (In additive notation, this would be ng=0.) If no such integer exists, we say that $g$ has infinite order. The order of an element g is denoted by |g|.\n",
    "    \n",
    "<span class='blue'>Definition Subgroup Generated by $a.$</span> The subgroup generated by $a$ is the intersection of all subgroups containing $a.$\n",
    "    \n",
    "  <span class='lemma'>Lemma:</span> Let $a$ be some element of group $G$. The set of powers generated by, $\\{a^n: n\\in\\mathbb{Z}\\}$ is a subgroup.\n",
    "<br><span class='proof'>Proof:</span> Let $H\\subset G =\\{a^n: n\\in\\mathbb{Z}\\}$ By closure of $G$ we are assured that $a^2\\in G$ ergo $(a^2\\cdot a)\\in G$ and $a^n\\in G.$  If $a=a^2,$ then $a=e$ and we have a trivial group with only the identity element. Otherwise, let $x\\ne e \\in H.$ Then $x^{-1}\\in H$ because $-1\\in \\mathbb{Z}$ and $H=\\{a^n:n\\in\\mathbb{Z}\\}.$  Then $ax^{-1}\\in H$ and by the one step subgroup test, $H\\le G.$\n",
    "  "
   ]
  },
  {
   "cell_type": "markdown",
   "id": "a9190f90",
   "metadata": {},
   "source": [
    "<hr>\n",
    "<font size=\"4\">\n",
    "<span class=\"proof\">Problem 3.05 (Gallian):</span> Without actually computing the orders, explain why the two elements in each of the following pairs of elements from $Z_{30}$ must have the same order: $\\{2, 28\\}, \\{8, 22\\}.$ Do the same for the following pairs of elements from $U(15): \\{2, 8\\}, \\{7, 13\\}.$\n",
    "\n",
    "    \n",
    "<span class='proof'>Answer: </span> The elements are in the same subgroup because in the first question, they are additive inverses of each other. i.e. $$2^{-1}\\equiv 28^{-1}\\equiv 2+28\\equiv 8+22\\equiv 0 \\pmod{30}$$  In the second question, they are multiplicative inverses of each other."
   ]
  },
  {
   "cell_type": "markdown",
   "id": "12added7",
   "metadata": {},
   "source": [
    "<hr>\n",
    "<font size=\"4\">\n",
    "<span class=\"proof\">Problem 3.06 (Gallian):</span> In the group $Z_{12},$ find $|a|, |b|,$ and $|a + b|$ for each case.<br>\n",
    "a. a=6, b=2<br>\n",
    "b. a=3, b=8<br>\n",
    "c. a=5, b=4<br>\n",
    "Do you see any relationship between |a|, |b|, and |a+b|?<br>\n",
    "    \n",
    "<span class='proof'>Answer: </span> \n",
    " $$\\begin{array} {|r|r|} \\hline\n",
    " a & |a| & b & |b| & a+b & |a+b| \\\\ \\hline \n",
    " 6 & 2 & 2 & 6 & 8 & 3 \\\\ \\hline \n",
    " 3 & 4 & 8 & 3 & 11 & 12 \\\\ \\hline\n",
    " 5 & 12 & 4 & 3 & 9 & 4 \\\\ \\hline\n",
    " \\end{array}$$\n",
    "Certainly not obvious, but: $|a+b|$ divides $\\text{lcm}(|a|,|b|).$ "
   ]
  },
  {
   "cell_type": "markdown",
   "id": "d7f85e1b",
   "metadata": {},
   "source": [
    "<hr>\n",
    "<font size=\"3\">\n",
    "<span class=\"proof\">Problem 3.07 (Gallian):</span> If a, b, and c are group elements and $|a|=6, |b|=7,$ express $(a^4c^{-2}b^4)^{-1}$ without using negative exponents.\n",
    "\n",
    "    \n",
    "<span class='proof'>Answer </span> If i know the order of an element, then I know which powers of that element are inverses of one another, without needing the actual group. \n",
    "  $$ (a^4c^{-2}b^4)^{-1}=b^{-4}c^2a^{-4} = b^3c^2a^2 $$"
   ]
  },
  {
   "cell_type": "markdown",
   "id": "3a02a316",
   "metadata": {},
   "source": [
    "<hr>\n",
    "<font size=\"3\">\n",
    "<span class=\"proof\">Problem 3.08 (Gallian):</span> What can you say about a subgroup of D3 that contains $R_{240}$ and a reflection F? What can you say about a subgroup of D3 that contains two reflections?\n",
    "\n",
    "    \n",
    "<span class='proof'>Answer </span> Any two elements in D3, which exclude the identity, will generate the whole group. So $R_{240}$ and $F$ or two reflections both generate D3."
   ]
  },
  {
   "cell_type": "markdown",
   "id": "b0702686",
   "metadata": {},
   "source": [
    "<hr>\n",
    "<font size=\"3\">\n",
    "<span class=\"proof\">Problem 3.09 (Gallian):</span> What can you say about a subgroup of D4 that contains $R_{270}$ and a reflection? What can you say about a subgroup of D4 that contains $H$ and $D?$ What can you say about a subgroup of D4 that contains $H$ and $V?$\n",
    "    \n",
    "<span class='proof'>Answer </span> Pretty much the same as the answer to 3.08."
   ]
  },
  {
   "cell_type": "markdown",
   "id": "fe3a09b9",
   "metadata": {},
   "source": [
    "<hr>\n",
    "<font size=\"3\">\n",
    "<span class=\"proof\">Problem 3.10 (Gallian):</span> How many subgroups of order 4 does D4 have?\n",
    "\n",
    "    \n",
    "<span class='proof'> Answer</span> <br>\n",
    "  1. The subgroup of rotations.<br>\n",
    "  2. $\\{R_0,R_{180},H,V  \\}$<br>\n",
    "  3. $\\{R_0,R_{180},D,D'  \\}$<br><br>\n",
    "   The rotations form a cyclic subgroup, which has subgroups of its own. Show that one rotation and one reflection generate the entire dihedral group. Then investigate what happens with two distinct reflections.\n",
    "    \n",
    "<img src='../Images/D4 group.png'>"
   ]
  },
  {
   "cell_type": "markdown",
   "id": "45d9024e",
   "metadata": {},
   "source": [
    "<hr>\n",
    "<font size=\"3\">\n",
    "<span class=\"proof\">Problem 3.11 (Gallian):</span> Determine all elements of finite order in R*, the group of nonzero real numbers under multiplication.\n",
    "\n",
    "    \n",
    "<span class='proof'>Answer </span>  $\\pm1.$"
   ]
  },
  {
   "cell_type": "markdown",
   "id": "319ade1f",
   "metadata": {},
   "source": [
    "<hr>\n",
    "<font size=\"3\">\n",
    "<span class=\"proof\">Problem 3.12 (Gallian):</span> If a and b are group elements and $ab\\ne ba,$ prove that $aba\\ne e.$\n",
    "\n",
    "    \n",
    "<span class='proof'>Answer </span> Suppose $aba=e,$ then $b=a^{-2}$ so $ab$ commutes. That is a contradiction."
   ]
  },
  {
   "cell_type": "markdown",
   "id": "5d44990c",
   "metadata": {},
   "source": [
    "<hr>\n",
    "<font size=\"3\">\n",
    "<span class=\"proof\">Problem 3.13 (Gallian):</span> Suppose that H is a nonempty subset of a group G that is closed under the group operation and has the property that if $a$ is not in $H$ then $a^{-1}$ is not in $H.$ Is $H$ a subgroup?\n",
    "\n",
    "    \n",
    "<span class='proof'>Answer </span> $H$ is a subgroup by the finite group test. A closed subset of a group is a subgroup."
   ]
  },
  {
   "cell_type": "markdown",
   "id": "09a13bff",
   "metadata": {},
   "source": [
    "<hr>\n",
    "<font size=\"3\">\n",
    "<span class=\"proof\">Problem 3.14 (Gallian):</span> Let G be the group of polynomials under addition with coefficients from $Z_{10}.$ Find the orders of<br> $f(x)=7x^2+5x+4,$ <br>\n",
    "$g(x)=4x^2+8x+6,$<br>\n",
    "$f(x)+g(x)=x^2+3x.$<br> \n",
    "If $h(x)a_nx^n + a_{n-1}x^{n-1}+\\cdots +a_0$ belongs to $G,$ determine $|h(x)|$ given that $\\text{gcd}(a_1, a_2,\\ldots , a_n) = 1;$<br>\n",
    "$\\text{gcd}(a_1, a_2,\\ldots , a_n) = 2;$<br>\n",
    "$\\text{gcd}(a_1, a_2,\\ldots , a_n) = 5;$<br>\n",
    "$\\text{gcd}(a_1, a_2,\\ldots , a_n) = 10;$<br>\n",
    "\n",
    "    \n",
    "<span class='proof'>Answer </span> In the first one, $f(x)=7x^2+5x+4$ we are concerned only with the coefficients. So we will list those noting that every coefficient is mod 10.<br>\n",
    " $$\\begin{array} {|r|r|} \\hline\n",
    " 1\\cdot eq & 6 & 5 & 4 \\\\ \\hline \n",
    " 2\\cdot eq & 4 & 0 & 4 \\\\ \\hline\n",
    " 3\\cdot eq & 1 & 5 & 2 \\\\ \\hline\n",
    " 4\\cdot eq & 8 & 0 & 6 \\\\ \\hline\n",
    " 5\\cdot eq & 5 & 5 & 0 \\\\ \\hline\n",
    " 6 & 2 & 0 & 4 \\\\ \\hline\n",
    " 7 & 9 & 5 & 8 \\\\ \\hline\n",
    " 8 & 6 & 0 & 4 \\\\ \\hline\n",
    " 9 & 3 & 5 & 6 \\\\ \\hline\n",
    " 10 & 0 & 0 & 0 \\\\ \\hline\n",
    " \\end{array}$$\n",
    "Having arrived at the identity element, the order is 10.\n",
    "    <br><span class='blue'>2nd one,</span> g(x) order is 5. (Done the same as the first one.)\n",
    "    <br><span class='blue'>3rd one,</span> order of $f(x)+g(x)=10.$<br>\n",
    "  <br><span class='blue'>4th one,</span> The order will be $10/gcd\\left(a_1,a_2,\\cdots,a_n\\right).$  "
   ]
  },
  {
   "cell_type": "markdown",
   "id": "83cd85cf",
   "metadata": {},
   "source": [
    "<hr>\n",
    "<font size=\"3\">\n",
    "<span class=\"proof\">Problem 3.15 (Gallian):</span> If $a$ is an element of a group $G$ and $|a|=7,$ show that $a$ is the cube\n",
    "of some element of $G.$\n",
    "\n",
    "    \n",
    "<span class='proof'>Answer </span> $(a^5)^3=a^{15}=a\\cdot a^{14}=a(a^{7})^2=ae=a$"
   ]
  },
  {
   "cell_type": "markdown",
   "id": "0d796615",
   "metadata": {},
   "source": [
    "<hr>\n",
    "<font size=\"3\">\n",
    "<span class=\"proof\">Problem 3.16 (Gallian):</span> Suppose that H is a nonempty subset of a group $G$ with the property that if $a$ and $b$ belong to $H$ then $a^{-1}b^{-1}$ belongs to $H.$ Prove or disprove that this is enough to guarantee that $H$ is a subgroup of $G.$\n",
    "\n",
    "    \n",
    "<span class='proof'>Answer </span> This is not enough to make $H$ a subgroup. Suppose the group is $Z_5.$ A subset of $Z_5$ is $H=\\{1,4\\}$ The subset would need to be a group under the same operation which is addition mod 5.  If $a=1$ and $b=4$ then $a,a^{-1}$ and $b,b^{-1}$ are in the subset, but $(4+4)\\bmod{5}=3$ so the subset is not closed under the operation and it is not a subgroup. "
   ]
  },
  {
   "cell_type": "markdown",
   "id": "0753a2bb",
   "metadata": {},
   "source": [
    "<hr>\n",
    "<font size=\"3\">\n",
    "<span class=\"proof\">Problem 3.17 (Gallian):</span> Prove that if an Abelian group has more than three elements of order 2, then it has at least 7 elements of order 2. Find an example that shows this is not true for non-Abelian groups.\n",
    "\n",
    "    \n",
    "<span class='proof'>Answer </span> Each group of order $2$ has an element and $e$ in the group. Suppose we have 4 groups of order 2, with the non identity element in each being $a,b,c,d.$ If these are Abelian, the $ab$ must be or order 2 because $abab=ab^2a=a^2=e$ proving that $ab$ is of order 2. But then $ac$ and $ad$ and $abc$ are also of order 2 by the same argument. Thus the 7 elements are $a,b,c,d,ab,ac,abc$\n",
    "    \n",
    "D4 has exactly 5 elements of order 2, but it is not Abelian."
   ]
  },
  {
   "cell_type": "markdown",
   "id": "a881e988",
   "metadata": {},
   "source": [
    "<hr>\n",
    "<font size=\"3\">\n",
    "<span class=\"proof\">Problem 3.18 (Gallian):</span> Suppose that a is a group element and $a^6=e.$ What are the possibilities for |a|? Provide reasons for your answer.\n",
    "    \n",
    "<span class='proof'>Answer </span> By the definition of 'order of an element in a group, <br>it could be 6, since \"The smallest positive integer $n$ for which $g^n=e$ is the order of the element.\" But <br>it could also be $e,$ since $e^6=3$<br>\n",
    "it could be that $|a|=2$ since $a^2=e$ and $(a^2)^3=a^6=e$ or <br>\n",
    "it could be 3, since $(a^3)=e$ so $(a^3)^2=3$\n",
    "    \n",
    "    "
   ]
  },
  {
   "cell_type": "markdown",
   "id": "4cb5bd55",
   "metadata": {},
   "source": [
    "<hr>\n",
    "<font size=\"3\">\n",
    "<span class=\"proof\">Problem 3.19 (Gallian):</span> If $a$ is a group element and $a$ has infinite order, prove that $a^m\\ne a^n$ when $m\\ne n.$\n",
    "    \n",
    "<span class='proof'>Answer </span> Having infinite order means $a\\ne e.$ It also means that the group has an infinite number of elements. Assume $a^m=a^n$ and $m\\ne n.$  Then the group will have a repeat pattern and cannot be infinite. We have a contradiction."
   ]
  },
  {
   "cell_type": "markdown",
   "id": "c6d2a45f",
   "metadata": {},
   "source": [
    "<hr>\n",
    "<font size=\"3\">\n",
    "<span class=\"proof\">Problem 3.20 (Gallian):</span> Let $x$ belong to a group. If $x^2\\ne e$ and $x^6=e,$ prove that $x^4\\ne e$ and $x^5\\ne e.$ What can we say about the order of $x?$\n",
    "\n",
    "    \n",
    "<span class='proof'>Answer </span> The $|G| \\le 6$ since $x^6=e$\n",
    " <br>It cannot be order 1 or 2 since $x^2\\ne e.$\n",
    " <br>It could be order 3, and if |G|=3, then $x^4=x^3x=ex=x\\text{ and }x^5=x^2 \\tag*{$\\square$}$\n",
    " <br>It cannot be order 4, because if $x^4=e,$ then $x^6=x^2$ which is a contradiction.\n",
    " <br>It cannot be order 5, because if $x^5=e,$ then $x^6=x,$ also a contradiction.\n",
    " <br>If $|G|=6$ then $x^4\\ne e$ and $x^5\\ne e$ by the definition of order of an element."
   ]
  },
  {
   "cell_type": "markdown",
   "id": "1c39454a",
   "metadata": {},
   "source": [
    "<hr>\n",
    "<font size=\"3\">\n",
    "<span class=\"proof\">Problem 3.21 (Gallian):</span> Show that if $a$ is an element of a group $G,$ then $|a| \\le |G|.$\n",
    "    \n",
    "<span class='proof'>Answer </span> The order of $G$ is the number of elements in $G.$  The order of an element of $G$ is the order of the subgroup generated by that element. Using the same operation as $G$ it could generate as many elements as are in $G$ or it could generate less."
   ]
  },
  {
   "cell_type": "markdown",
   "id": "768ddfcf",
   "metadata": {},
   "source": [
    "<hr>\n",
    "<font size=\"3\">\n",
    "<span class=\"proof\">Problem 3.22 (Gallian):</span> Show that $U(14)=\\langle 3\\rangle=\\langle 5\\rangle.$ [Hence, U(14) is cyclic.] Is $U(14)=\\langle 11\\rangle?$\n",
    "    \n",
    "<span class='proof'>Answer </span> $U(14)=\\{1,3,5,9,11,13\\}$ <br>\n",
    "    $\\langle 3\\rangle = \\{3^1,3^2,3^3,3^4,3^5,3^6\\}\\bmod{14}=\\{3,9,13,11,5,1\\}.$<br>\n",
    "    $\\langle 5\\rangle = \\{5^1,5^2,5^3,5^4,5^5,5^6\\}\\bmod{14}=\\{5,11,13,9,3,1\\}.$<br>\n",
    "    $\\langle 11\\rangle= \\{11^1,11^2,11^3\\}\\bmod{14}=\\{11,9,1\\}.$ <br>So, $U(14)\\ne \\langle 11\\rangle.$"
   ]
  },
  {
   "cell_type": "markdown",
   "id": "c1f6da77",
   "metadata": {},
   "source": [
    "<hr>\n",
    "<font size=\"3\">\n",
    "<span class=\"proof\">Problem 3.23 (Gallian):</span> Show that $U(20)\\ne \\langle k \\rangle$ for any $k\\in U(20).$ [Hence, $U(20)$ is not cyclic.]\n",
    "\n",
    "    \n",
    "<span class='proof'>Answer </span> $|U(20)|=8$ Its elements are $\\{1,3,7,9,11,13,17,19 \\}$<br>\n",
    "    $9^2,11^2,19^2\\equiv 1\\pmod{20}$<br>\n",
    "    $3^4,7^4,13^4,17^4\\equiv 1\\pmod{20}$<br>\n",
    "    and since $|1|=1,$ no element can generate $U(20).$"
   ]
  },
  {
   "cell_type": "markdown",
   "id": "9ef93f72",
   "metadata": {},
   "source": [
    "<hr>\n",
    "<font size=\"3\">\n",
    "<span class=\"proof\">Problem 3.24 (Gallian):</span> Suppose $n$ is an $\\mathbf{even}$ positive integer and $H$ is a subgroup of $Z_n.$  Prove that either every member of $H$ is even or exactly half of the members of $H$ are even.\n",
    "\n",
    "    \n",
    "<span class='proof'>Answer </span> Now let H be a subgroup. If all the elements of H are even, we’re done. Otherwise let E and O denote the even and the odd elements of H, so $E\\bigcup O = H.$  Let $a\\in O$\n",
    "and define a map $E\\rightarrow O$ via $x\\mapsto x+a.$ Then adding $a$ to an element also defines a\n",
    "map in the reverse direction. Clearly these maps are inverses of each other, since $x+2a$\n",
    "has the same parity as $x.$ Thus the two sets E and O have the same order, and we are\n",
    "done."
   ]
  },
  {
   "cell_type": "markdown",
   "id": "cfa19b49",
   "metadata": {},
   "source": [
    "<hr>\n",
    "<font size=\"3\">\n",
    "<span class=\"proof\">Problem 3.25 (Gallian):</span> Prove that for every subgroup of $D_n,$ either every member of the subgroup is a rotation or exactly half of the members are rotations.\n",
    "    \n",
    "<span class='proof'>Answer </span> In a dihedral group, )a flip(reflection) always results in a rotation and 2) a rotation always results in a rotation.  The rotations can be ordered $\\{R_0,R_1,\\ldots,R_n\\}$ Any flip(F) will map to a rotation. $\\{R_0F,R_1F,\\ldots,R_nF\\}$ So there will either be all rotations, or an even number of rotations and flips in every group."
   ]
  },
  {
   "cell_type": "markdown",
   "id": "ca83cc31",
   "metadata": {},
   "source": [
    "<hr>\n",
    "<font size=\"3\">\n",
    "<span class=\"proof\">Problem 3.26 (Gallian):</span> Prove that a group with two elements of order 2 that commute must have a subgroup of order 4.\n",
    "\n",
    "    \n",
    "<span class='proof'>Answer </span> Let $a$ and $b$ be two elements of order 2 that commute.\n",
    "Then there must exists a subgroup $\\{e,a,b,ab\\}$ which has order $4.$"
   ]
  },
  {
   "cell_type": "markdown",
   "id": "835e3d0c",
   "metadata": {},
   "source": [
    "<hr>\n",
    "<font size=\"3\">\n",
    "<span class=\"proof\">Problem 3.27 (Gallian):</span> For every even integer $n,$ show that $D_n$ has a subgroup of order $4.$\n",
    "    \n",
    "<span class='proof'>Answer </span> See question 3.26.  We showed the subgroup of order 4."
   ]
  },
  {
   "cell_type": "markdown",
   "id": "7c684d14",
   "metadata": {},
   "source": [
    "<hr>\n",
    "<font size=\"3\">\n",
    "<span class=\"proof\">Problem 3.28 (Gallian):</span> Suppose that H is a proper subgroup of Z under addition and H contains 18, 30, and 40. Determine H.\n",
    " \n",
    " <span class='proof'>Answer </span><br> Notice that $Z_n$ under addition modulo n is not a subgroup of Z under addition, since addition modulo n is not the operation of Z.\n",
    " Since the only common factor is $2,$ the answer is $\\langle 2 \\rangle$"
   ]
  },
  {
   "cell_type": "markdown",
   "id": "fa404918",
   "metadata": {},
   "source": [
    "<hr>\n",
    "<font size=\"3\">\n",
    "<span class=\"proof\">Problem 3.29 (Gallian):</span> Suppose that $H$ is a proper subgroup of $Z$ under addition and that $H$ contains 12, 30, and 54. What are the possibilities for $H?$\n",
    "    \n",
    "<span class='proof'>Answer </span><br>\n",
    "Notice that $Z_n$ under addition modulo n is not a subgroup of Z under\n",
    "addition, since addition modulo n is not the operation of Z.\n",
    "We can generate proper subgroups with $\\langle 2\\rangle$ or $\\langle 3\\rangle$ or $\\langle 6\\rangle$ that contain those elements."
   ]
  },
  {
   "cell_type": "code",
   "execution_count": null,
   "id": "084c8660",
   "metadata": {},
   "outputs": [],
   "source": [
    "<hr>\n",
    "<font size=\"3\">\n",
    "<span class=\"proof\">Problem 3.xx (Gallian):</span> \n",
    "    \n",
    "<span class='proof'>Answer </span>"
   ]
  },
  {
   "cell_type": "markdown",
   "id": "4bce70c0",
   "metadata": {},
   "source": [
    "<hr>\n",
    "<font size=\"3\">\n",
    "<span class=\"proof\">Problem 3.30 (Gallian):</span> Prove that the dihedral group of order 6 does not have a subgroup of order 4.\n",
    "\n",
    "    \n",
    "<span class='proof'>Answer </span> Here is $D_3,$ the dihedral group of order 6.<br>\n",
    "<img src=\"../Images/D3 group.png\" width=50%>\n",
    "  The largest group generated from any element is of order 2. That occurs with $R_{120}$ and $R_{240}.$ To get order $4$ and be a group, we have to add identity, $R_0.$ Having used all of the rotation elements, we have to add a reflection - call if $F.$ Whichever $V_n$ we add, it has to apply to all elements in the group. But with only 4 elements, the reflection applied to $R_{120}$ and $R_{240}$ causes closure to fail.\n",
    "  "
   ]
  },
  {
   "cell_type": "markdown",
   "id": "81d448a2",
   "metadata": {},
   "source": [
    "<hr>\n",
    "<font size=\"3\">\n",
    "<span class=\"proof\">Problem 3.31 (Gallian):</span> For each divisor $k>1$ of $n,$ let $U_k(n)=\\{  x\\in U(n)\\ :\\ x\\bmod{k}=1 \\}.$<br>\n",
    " [e.g. $U_3(21)=\\{ 1,4,10,13,16,19 \\}  $ and $U_7(21)=\\{1,8\\}$]\n",
    "List the elements of $U_4(20),\\  U_5(20),\\ U_5(30),\\ U_{10}(30).$<br>\n",
    "  Prove that $U_k(n)$ is a subgroup of $U(n).$<br>\n",
    " Let $H=\\{ x\\in U(10)\\ :\\ x\\bmod{3}=1 \\}.$ Is $H$ a subgroup of $U(10)?$\n",
    "\n",
    "    \n",
    "<span class='proof'>Answer </span>\n",
    " First, we will just list $U(20)=[1,3,7,9,11,13,17,19]$ and $U(30)=[1, 7, 11, 13, 17, 19, 23, 29]$<br>\n",
    "  To get $U_k(n),$ for each element,$a$ in $U(n)$ we ask if $a\\equiv 1\\pmod{k}$\n",
    " $U_4(20)=\\{1,9,13,17\\}$<br>\n",
    " $U_5(20)=\\{1,11\\}$<br>\n",
    " $U_5(30)=\\{1,11\\}$<br>\n",
    " $U_{10}(30)=\\{1,11 \\}$<br>\n",
    "  $Uk(n)$ is closed because $(ab) \\bmod{k} = (a \\bmod{k})(b \\bmod{k}) = 1 · 1 = 1$ (here we used the fact that $k$ divides $n$). $H$ is not closed since $7\\in H$ but $7 · 7 = 9$ is not in $H.$ "
   ]
  },
  {
   "cell_type": "code",
   "execution_count": 15,
   "id": "ec07dd20",
   "metadata": {},
   "outputs": [
    {
     "name": "stdout",
     "output_type": "stream",
     "text": [
      "[1, 9, 13, 17]\n",
      "[1, 11]\n",
      "[1, 11]\n",
      "[1, 11]\n",
      "[1, 7]\n"
     ]
    }
   ],
   "source": [
    "#This code used to answer problem 31\n",
    "U30=[1,7,11,13,17,19,23,29]\n",
    "U20=[1,3,7,9,11,13,17,19]\n",
    "U10=[1,3,7,9]\n",
    "def Ukn(k,n,S):     #S is the incoming set. e.g. U(20) or U(30)\n",
    "    R=[]\n",
    "    for a in S:\n",
    "        if(a%k==1):R.append(a)\n",
    "    return R\n",
    "\n",
    "print(Ukn(4,20,U20))\n",
    "print(Ukn(5,20,U20))\n",
    "print(Ukn(5,30,U30))\n",
    "print(Ukn(10,30,U30))\n",
    "print(Ukn(3,10,U10))"
   ]
  },
  {
   "cell_type": "markdown",
   "id": "308ddd11",
   "metadata": {},
   "source": [
    "<hr>\n",
    "<font size=\"3\">\n",
    "<span class=\"proof\">Problem 3.32 (Gallian):</span> If $H$ and $K$ are subgroups of $G,$ show that $H\\bigcap K$ is a subgroup of $G.$ (Can you see that the same proof shows that the intersection of any number of subgroups of $G,$ finite or infinite, is again a subgroup of $G?)$\n",
    "\n",
    "    \n",
    "<span class='proof'>Answer </span> $H \\cap K\\ne \\varnothing$, since $e\\in H\\cap K.$ Now suppose that $x,y\\in H\\cap K.$\n",
    "Then, since $H$ and $K$ are subgroups, we know $xy^{−1}\\in H$ and\n",
    "$xy^{−1}\\in K.$ That is, $xy^{−1}\\in H\\cap K.$"
   ]
  },
  {
   "cell_type": "markdown",
   "id": "e8437c41",
   "metadata": {},
   "source": [
    "<hr>\n",
    "<font size=\"3\">\n",
    "<span class=\"proof\">Problem 3.33 (Gallian):</span> Let G be a group. Show that $Z(G)=\\bigcap_{a\\in G}C(a)\\ $      This means the intersection of all subgroups of the form $C(a).$\n",
    "\n",
    "    \n",
    "<span class='proof'>Answer </span> The Zentrum in the intersection of all centralizers.<br>\n",
    "    If $x$ is an element of $Z(G)$ then $x$ is an element of $C(a)\\ \\forall\\ a.\\implies x\\in \\bigcap_{a\\in G}C(a).$<br>\n",
    "    Moreover, if $x\\in \\bigcap_{a\\in G}C(a), xa=ax\\  \\forall\\ a\\in G, \\therefore x\\in Z(G)$\n",
    "    \n",
    "    \n",
    "<span class='blue'>Definition</span> The Zentrum, $Z(G)$ of a group $G$ is the subset of elements which commute with all elements of $G.$  <br>\n",
    "    \n",
    "    \n",
    "<span class='blue'>Definition</span>The Centralizer of $a$ in $G$, $C(a),$ is the set of all elements that commute with $a.$  The notion of centralizer can be thought of as a generalization of centers, since the centralizer $C_G(A)$ works for every subset $A$\n",
    " of $G.$  (Note that it doesn't have to be a subgroup)."
   ]
  },
  {
   "cell_type": "markdown",
   "id": "244e48ca",
   "metadata": {},
   "source": [
    "<hr>\n",
    "<font size=\"3\">\n",
    "<span class=\"proof\">Problem 3.34 (Gallian):</span> Let G be a group, and let $a\\in G.$ Prove that $C(a)=C(a^{-1}).$\n",
    "    \n",
    "<span class='proof'>Answer </span> Let $x \\in C(a),$ Then $xa=ax\\implies a^{-1}xa=a^{-1}ax=ex=x$ From which we conclude that \n",
    "$$a^{-1}xa=x\\implies a^{-1}x=xa^{-1}$$ but that suggests that $x\\in C(a^{-1})$ Since $x$ can represent each and every element of $C(a)$ we infer that $C(a)=C(a^{-1})$"
   ]
  },
  {
   "cell_type": "markdown",
   "id": "32acb321",
   "metadata": {},
   "source": []
  },
  {
   "cell_type": "markdown",
   "id": "b71ca201",
   "metadata": {},
   "source": [
    "<hr>\n",
    "<font size=\"3\">\n",
    "<span class=\"proof\">Problem 3.35 (Gallian):</span> For any group element $a$ and any integer $k,$ show that $C(a)\\subseteq C(a^k).$  Use this fact to complete the following statement: “In a group, if $x$ commutes with $a,$ then . . . .” Is the converse true?\n",
    "    \n",
    "<span class='proof'>Answer </span> If $k=1,$ then $C(a)=C(a)$ and we are done. Otherwise, let $k\\in\\mathbb{Z}>1.$ If $x\\in C(a)$ then $xa^{k+1}=xaa^k=axa^k=aa^kx=a^{k+1}x$ Thus $C(a)\\subseteq C(a^k)$"
   ]
  },
  {
   "cell_type": "markdown",
   "id": "8bcd93c5",
   "metadata": {},
   "source": [
    "<hr>\n",
    "<font size=\"3\">\n",
    "<span class=\"proof\">Problem 3.36 (Gallian):</span> Complete the partial Cayley group table.\n",
    "    <img src=\"../Images/Gallian 3.36.png\" width=40%>\n",
    "    \n",
    "<span class='proof'>Answer </span>"
   ]
  },
  {
   "cell_type": "markdown",
   "id": "dafcb7a0",
   "metadata": {},
   "source": [
    "$$\\begin{array}{cccccccc}\n",
    "1 &  2  &  3  &  4  &  5  &  6  &  7  & 8\\\\\n",
    "2 &  1  &  4  &  3  &  6  &  5  &  8  & 7\\\\\n",
    "3 &  4  &  2  &  1  &  7  &  8  &  6  & 5\\\\\n",
    "4 &  3  &  1  &  2  &  8  &  7  &  5  & 6\\\\\n",
    "5 &  6  &  8  &  7  &  1  &  \\color{red}{2}  &  3  & 4\\\\\n",
    "6 &  5  &  7  &  8  &  \\color{red}{2}  &  1  &  4  & 3\\\\\n",
    "7 &  8  &  6  &  5  &  3  &  4  &  1  & 2\\\\\n",
    "8 &  7  &  5  &  6  &  4  &  3  &  2  & 1\\\\\n",
    "\\end{array}$$"
   ]
  },
  {
   "cell_type": "markdown",
   "id": "0c978b05",
   "metadata": {},
   "source": [
    "<hr>\n",
    "<font size=\"3\">\n",
    "<span class=\"proof\">Problem 3.37 (Gallian):</span> Suppose G is the group defined by the following Cayley table. <img src=\"../Images/Gallian 3.37.png\" width=50%><br>\n",
    "a. Find the centralizer of each member of $G.$<br>\n",
    "b. Find $Z(G).$<br>\n",
    "c. Find the order of each element of $G.$ How are these orders arithmetically related to the order of the group?\n",
    "    \n",
    "<span class='proof'>Answer </span> The Centralizer, $C(a),$ of $a$ in $G$ is the set of elements in $G$ that commute with $a.$  $C(a)=\\{x\\in G: xa=ax\\}$<br>$|G|=8$<br>\n",
    "$C(1)=\\{1,2,3,4,5,6,7,8\\}$<br>\n",
    "$C(2)=\\{1,2,5,6\\}$<br>\n",
    "$C(3)=\\{1,3,5,7 \\}$<br>\n",
    "$C(4)=\\{1,4,5,8 \\}$<br>\n",
    "$C(5)=\\{1,2,3,4,5,6,7,8 \\}$<br>\n",
    "$C(6)=\\{1,2,5,6 \\}$<br>\n",
    "$C(7)=\\{1,3,5,7 \\}$<br>\n",
    "$C(8)=\\{1,4,5,8 \\}$<br>\n",
    "Z(G) is the set of elements that commute with every element. Based on the answer above, that means that $$Z(G)=\\{1,5\\}$$\n",
    "The order of an element in $G$ is $g^n$ such that $n$ is the smallest positive integer which yields the identity element.<br>The order of each element will divide the order of the group."
   ]
  },
  {
   "cell_type": "markdown",
   "id": "b909f7a2",
   "metadata": {},
   "source": [
    "<hr>\n",
    "<font size=\"3\">\n",
    "<span class=\"proof\">Problem 3.38 (Gallian):</span> If a and b are distinct group elements, prove that either $a^2\\ne b^2$ or $a^3\\ne b^3$\n",
    "    \n",
    "<span class='proof'>Answer </span> Assume $a^2=b^2$ and $a^3=b^3.$ Begin with the cube equality and substitute.\n",
    "$$\\begin{align}\n",
    "a^2\\cdot a &=b^2\\cdot b\\\\\n",
    "b^2\\cdot a &=b^2\\cdot b\\\\\n",
    "a &=b \\quad\\text{ a contradiction}\\\\\n",
    "\\end{align}$$"
   ]
  },
  {
   "cell_type": "markdown",
   "id": "f3042e9d",
   "metadata": {},
   "source": [
    "<hr>\n",
    "<font size=\"3\">\n",
    "<span class=\"proof\">Problem 3.39 (Gallian):</span> Let $S$ be a subset of a group and let $H$ be the intersection of all subgroups of $G$ that contain $S.$<br>\n",
    "a. Prove that $\\langle S\\rangle = H.$<br>\n",
    "    b. If S is nonempty, prove that $\\langle S \\rangle = \\{s_1^{n_1} s_2^{n_2}\\cdots s_m^{n_m} \\mid m\\ge 1, s_i\\in S, n_i\\in Z\\}$ (The $s_i$ terms need not be distinct.)\n",
    "    \n",
    "<span class='proof'>Answer </span>First observe that because $\\langle A \\rangle$ is a subgroup of $G$ containing S, it is a member of the intersection.  So, $H\\subseteq \\langle S \\rangle.$ On the other hand, since $H$ is a subgroup of $G$ and $H$ contains $S$ by definition $\\langle S \\rangle \\subseteq H.$<br>\n",
    "<br> Let $K=\\{s_1^{n_1} s_2^{n_2}\\cdots s_m^{n_m}\\mid m\\ge 1,s_i\\in S,n_i \\in \\mathbb{Z}.$ Then because $K$ satisfies the subgroup test and contains $S$ we have $\\langle S \\rangle \\subseteq K.$ On the other hand, if $L$ is any subgroup of $G$ that contains $S$ then $L$ also contains $K$ by closure. Thus, by the first part, $H=\\langle S\\rangle$ contains $K.$"
   ]
  },
  {
   "cell_type": "markdown",
   "id": "b7e1f78f",
   "metadata": {},
   "source": [
    "<hr>\n",
    "<font size=\"3\">\n",
    "<span class=\"proof\">Problem 3.40 (Gallian):</span> In the group $Z,$ find <br>\n",
    "    a. $\\langle 8, 14 \\rangle$<br>\n",
    "    b. $\\langle 8, 13\\rangle$<br>\n",
    "    c. $\\langle 6, 15\\rangle$<br>\n",
    "    d. $\\langle m, n\\rangle$<br>\n",
    "    e. $\\langle 12,18,45 \\rangle$<br>\n",
    "    In each part, find an integer $k$ such that the subgroup is $\\langle k \\rangle$.\n",
    "    \n",
    "<span class='proof'>Answer </span><br>a. The set generated by $\\langle 8,14\\rangle = \\{8,16,24,32,40\\ldots,\\quad 14,28,42,56\\ldots\\}$ and the set is not a subgroup onto itself but rather the elements of a group defined by $\\langle \\gcd(8,14)\\rangle=\\langle 2 \\rangle.$<br>\n",
    "<br>b. $\\langle 1\\rangle$<br>\n",
    "c. $\\langle 3 \\rangle$<br>\n",
    "d. $\\langle \\gcd(m,n)\\rangle$<br>\n",
    "e. $\\langle 3 \\rangle$"
   ]
  },
  {
   "cell_type": "markdown",
   "id": "b29c3dee",
   "metadata": {},
   "source": [
    "<hr>\n",
    "<font size=\"3\">\n",
    "<span class=\"proof\">Problem 3.41 (Gallian):</span> Prove Theorem 3.6\n",
    "    \n",
    "<span class='proof'>Answer </span> Theorem 3.6: For each element $a$ in a group $G,$ the Centralizer of $a$ is a group. That is, $C(a)\\le G\\ \\forall a\\in G.$\n",
    "    \n",
    "We need to show that if $a\\in C(a)$ commutes with all $x\\in G$ that $C(a)$ is a subgroup of $G.$\n",
    "    \n",
    "Identity, $e$ is an element of C(a) as it obviously commutes with all elements.<br>\n",
    "All elements of $C(a)$ have associativity since they are a subset of $G$ and $G$ is a group.<br>\n",
    "Suppose $(a,b)\\in C(a)$ and $x\\in G.$  Then \n",
    "$$\\begin{align}\n",
    "x(ab) &= (xa)b &= (ax)b\\\\\n",
    "      &= a(xb) &= a(bx)\\\\\n",
    "      &= (ab)x\n",
    "\\end{align}$$ Which shows closure. That is, for all $(a,b)\\in C(a)$ an element (ab) must be in C(a) since element (ab) commutes with every element in $G.$  If subset $C(a)$ is finite, then we are done by Theorem 3.3.<br><br>\n",
    "Else, we can show that $a^{-1}\\in C(a).$ Let $a\\in C(a).$ Then \n",
    "$$\\begin{align}\n",
    "ax &= xa&:\\\\\n",
    "a^{-1}(ax)a^{-1} &= a^{-1}(xa)a^{-1}&:\\\\\n",
    "eax^{-1} &= a^{-1}xe&:\\\\ \n",
    "ax^{-1} &= a^{-1}x&:\n",
    "\\end{align}$$\n",
    "    "
   ]
  },
  {
   "cell_type": "markdown",
   "id": "e8cb7eb2",
   "metadata": {},
   "source": [
    "<hr>\n",
    "<font size=\"3\">\n",
    "<span class=\"proof\">Problem 3.42 (Gallian):</span> If $H$ is a subgroup of $G,$ then by the centralizer $C(H)$ of $H$ we mean the set $\\{x\\in G: xh=hx\\}$ for all $h\\in H.$ Prove that $C(H)$ is a subgroup of $G.$\n",
    "    \n",
    "<span class='proof'>Answer </span> $C(H)$ is defined such that it is the center of group $H.$ If $C(H)$ is shown to be a group, and since all of its elements are in $G,$ it will necessarily be a subgroup of $G.$<br>\n",
    "Let $(a,b)\\in C(H.)$  Identity, $e$ is in $C(H)$ because it commutes with everything. <br>\n",
    "Let $x\\in H.$ Then $x(ab)=(xa)b=(ax)b=a(xb)=a(bx)=(ab)x$ thus showing that $ab$ is in $C(H).$ and establishing that $C(H)$ is closed.<br>\n",
    "<br>Consider any element $a\\in C(H)$ and $x\\in H,$\n",
    "$$\\begin{align}\n",
    "ax &= xa&:\\\\\n",
    "a^{-1}(ax)a^{-1} &= a^{-1}(xa)a^{-1}&:\\\\\n",
    "eax^{-1} &= a^{-1}xe&:\\\\ \n",
    "ax^{-1} &= a^{-1}x&:\n",
    "\\end{align}$$\n",
    "Thus we have shown that the inverse of $a$ is in $C(H)$ and that $C(H)$ is a group."
   ]
  },
  {
   "cell_type": "markdown",
   "id": "1c62feee",
   "metadata": {},
   "source": [
    "<hr>\n",
    "<font size=\"3\">\n",
    "<span class=\"proof\">Problem 3.43 (Gallian):</span> Must the centralizer of an element of a group be Abelian?\n",
    "    \n",
    "<span class='proof'>Answer </span> If an element only commutes with itself and $e,$ then the element is not considered Abelian, even though $C(a)=\\{e,a\\}$ is an Abelian subgroup. An example is $R_{180}$ in $D4.$  Thus the answer is no.\n",
    "    <img src=\"../Images/D4 Group.png\" width=\"50%\">"
   ]
  },
  {
   "cell_type": "markdown",
   "id": "3dfc9ee7",
   "metadata": {},
   "source": [
    "<hr>\n",
    "<font size=\"3\">\n",
    "<span class=\"proof\">Problem 3.44 (Gallian):</span> Must the center of a group be Abelian?\n",
    "\n",
    "    \n",
    "<span class='proof'>Answer </span> By the definition of \"Center of a Group,\" yes."
   ]
  },
  {
   "cell_type": "markdown",
   "id": "7f6267dd",
   "metadata": {},
   "source": [
    "<hr>\n",
    "<font size=\"3\">\n",
    "<span class=\"proof\">Problem 3.45 (Gallian):</span> Let $G$ be an Abelian group with identity $e$ and let $n$ be some fixed integer. Prove that the set of all elements of $G$ that satisfy the equation $x^n= e$ is a subgroup of $G.$ Give an example of a group $G$ in which the set of all elements of $G$ that satisfy the equation $x^2 = e$ does not form a subgroup of $G.$\n",
    "    \n",
    "<span class='lemma'>Lemma:</span> Let $a$ be some element of group $G$. The set of powers generated by, $\\{a^n: n\\in\\mathbb{Z}\\}$ is a subgroup.\n",
    "<br><span class='proof'>Proof:</span> Let $H\\subset G =\\{a^n: n\\in\\mathbb{Z}\\}$ By closure of $G$ we are assured that $a^2\\in G$ ergo $(a^2\\cdot a)\\in G$ and $a^n\\in G.$  If $a=a^2,$ then $a=e$ and we have a trivial group with only the identity element. Otherwise, let $x\\ne e \\in H.$ Then $x^{-1}\\in H$ because $-1\\in \\mathbb{Z}$ and $H=\\{a^n:n\\in\\mathbb{Z}\\}.$  Then $ax^{-1}\\in H$ and by the one step subgroup test, $H\\le G.$\n",
    "\n",
    "<span class='proof'>Answer </span> $x^n = e$ is the definition of $|x|=n.$ By the lemma, $x^n=e$ is a subgroup.<br><br>But the reverese does not hold!<br><br> An example of a group such that $x^2=e$  but $x^2$ is not a subgroup is $D4,$\n",
    "$\\{x:x^2=e \\} = \\{R_0,R_{180},H,V,D,D'\\}$ This subset is not a group because it is not closed\n",
    "because $HD = R_{90}.$"
   ]
  },
  {
   "cell_type": "markdown",
   "id": "36142920",
   "metadata": {},
   "source": [
    "<hr>\n",
    "<font size=\"3\">\n",
    "<span class=\"proof\">Problem 3.46 (Gallian):</span> Suppose $a$ belongs to a group and $|a|=5.$ Prove that $C(a)=C(a^3).$ Find an element $a$ from some group such that $|a|=6$ and $C(a)\\ne C(a^3).$\n",
    "    \n",
    "<span class='proof'>Answer </span> <span class='red'>I give up. Can't get this one even with the book answer.</span>\n",
    "<br>In group $G$ with element $a,$ let $|a|=5.$ $C(a)\\subseteq C(a^3)$\n",
    "<img src=\"../Images/D6 group.png\">\n",
    "Cayley Table for D6 using numbered elements.<br>\n",
    "$$\\begin{array}{cccccccccccc}\n",
    "[1& 2& 3& 4& 5& 6& 7& 8& 9& 10& 11& 12]\\\\\n",
    "[2& 3& 4& 5& 6& 1& 12& 7& 8& 9& 10& 11]\\\\\n",
    "[3& 4& 5& 6& 1& 2& 11& 12& 7& 8& 9& 10]\\\\\n",
    "[4& 5& 6& 1& 2& 3& 10& 11& 12& 7& 8& 9]\\\\\n",
    "[5& 6& 1& 2& 3& 4& 9& 10& 11& 12& 7& 8]\\\\\n",
    "[6& 1& 2& 3& 4& 5& 8& 9& 10& 11& 12& 7]\\\\\n",
    "[7& 8& 9& 10& 11& 12& 1& 2& 3& 4& 5& 6]\\\\\n",
    "[8& 9& 10& 11& 12& 7& 6& 1& 2& 3& 4& 5]\\\\\n",
    "[9& 10& 11& 12& 7& 8& 5& 6& 1& 2& 3& 4]\\\\\n",
    "[10& 11& 12& 7& 8& 9& 4& 5& 6& 1& 2& 3]\\\\\n",
    "[11& 12& 7& 8& 9& 10& 3& 4& 5& 6& 1& 2]\\\\\n",
    "[12& 7& 8& 9& 10& 11& 2& 3& 4& 5& 6& 1] \n",
    "\\end{array}$$"
   ]
  },
  {
   "cell_type": "markdown",
   "id": "865ecd1b",
   "metadata": {},
   "source": [
    "<hr>\n",
    "<font size=\"3\">\n",
    "<span class=\"proof\">Problem 3.47 (Gallian):</span> Let $G$ be the set of all polynomials with coefficients from the set $\\{0, 1, 2, 3\\}.$ We can make $G$ a group under addition by adding the polynomials in the usual way, except that we use modulo $4$ to combine the coefficients. With this group operation, determine the orders of the elements of $G.$ Determine a necessary and sufficient condition for an element of $G$ to have order $2.$\n",
    "    \n",
    "<span class='proof'>Answer </span> The condition that must be met for an element to have one of the orders (maximum of 4) is that $g^n=e$ but in additive notation,it becomes $n\\cdot g=0.$ Therefore, no element can have order 3 because $3\\cdot a_i\\equiv 0\\pmod{3}\\implies a_i=0.$ For $G$ to have order $2,$ the a_i would have to be $0$ or $2.$"
   ]
  },
  {
   "cell_type": "markdown",
   "id": "5c9d6861",
   "metadata": {},
   "source": [
    "<hr>\n",
    "<font size=\"3\">\n",
    "<span class=\"proof\">Problem 3.48 (Gallian):</span>  In each case, find elements $a$ and $b$ from a group such that $|a|=|b| =2.$<br>\n",
    "a) $|ab| = 3$<br>\n",
    "b) $|ab|= 4$<br>\n",
    "c) $|ab|= 5$<br>\n",
    "Can you see any relationship among $|a|,\\  |b|,$ and $|ab|?$\n",
    "\n",
    "    \n",
    "<span class='proof'>Answer</span> In the dihedral groups, $D_n$ the rotations all have order $n.$ For part (a), group $D_3,$ let $a=flip_1$ and $b=flip_2.$ The $|ab|=rotation$ with order $3,$ but $|a|=|b|=2$.  Similarly (b) use $D_4$ and (c) use $D_5.$ "
   ]
  },
  {
   "cell_type": "markdown",
   "id": "63c97548",
   "metadata": {},
   "source": [
    "<hr>\n",
    "<font size=\"3\">\n",
    "<span class=\"proof\">Problem 3.49 (Gallian):</span> Suppose a group contains elements $a$ and $b$ such that $|a| = 4,\\ |b|= 2,$ and $a^3b= ba.$ Find $|ab|.$\n",
    "    \n",
    "<span class='proof'>Answer </span> We see that $(ab)^2=abab=a(ba)b,$ Substitute with the equality given. <br>\n",
    "$=a(a^3b)b=a^4b^2$ Since each element is raised to its order, $a^4=e$ and $b^2=e$<br>\n",
    "$a^4b^2=ee=e$ This means that the order of $ab$ must be $2.$ since $(ab)^2=e.$"
   ]
  },
  {
   "cell_type": "markdown",
   "id": "46794332",
   "metadata": {},
   "source": [
    "<hr>\n",
    "<font size=\"3\">\n",
    "<span class=\"proof\">Problem 3.50 (Gallian):</span> Suppose $a$ and $b$ are group elements such that $|a|=2,$ $b\\ne e,$ and $aba= b^2.$ Determine $|b|.$\n",
    "    \n",
    "<span class='proof'>Answer </span> $b^4=abaaba$ but $a^2=e$ so <br>$b^4=abaaba=ab^2a.\\quad$ Now substitute $aba=b^2$ to get<br>\n",
    "$b^4=abaaba=ab^2a=a(aba)a$ and since $a^2=e,$ $a(aba)a=b$<br>\n",
    "Which implies that since $b^4=b$ then $b^4=b^3b=b$ so $b^3=3$ thus $|b|=3$"
   ]
  },
  {
   "cell_type": "markdown",
   "id": "a3941a6e",
   "metadata": {},
   "source": [
    "<hr>\n",
    "<font size=\"3\">\n",
    "<span class=\"proof\">Problem 3.51 (Gallian):</span> Let $a$ be a group element of order $n,$ and suppose that $d$ is a positive divisor of $n.$ Prove that $|a^d|= n/d.$\n",
    "\n",
    "    \n",
    "<span class='proof'>Answer </span> We are given that $|a|=n$ which means $a^n=e.$ Notice that $a^n = (a^d)^{n/d}.$  So $|a^d| \\le n/d.$ But if $|a|=n,$ then $|a^d|=n/d.$"
   ]
  },
  {
   "cell_type": "markdown",
   "id": "a02876ac",
   "metadata": {},
   "source": [
    "<hr>\n",
    "<font size=\"3\">\n",
    "<span class=\"proof\">Problem 3.52 (Gallian):</span> Consider the elements $$A=\\left[\\begin{array}{cc}0&-1\\\\1&0  \\end{array}  \\right]\\quad\\text{ and }\\quad \n",
    "B=\\left[\\begin{array}{cc}0&1\\\\-1&-1  \\end{array}  \\right]$$ from $SL(2, \\mathbb{R}).$ Find $|A|, |B|,$ and $|AB|.$ Does your answer surprise you?\n",
    "    \n",
    "<span class='proof'>Answer </span> $A^4=e$ I worked this out with Geogebra. So $|A|=4.$ Similarly, $B^3=e$ so $|B|=3.$  $AB=\\left[\\begin{array}{cc}1&-1\\\\0&1  \\end{array}  \\right]$ and <br>$(AB)^2=\\left[\\begin{array}{cc}1&-2\\\\0&1  \\end{array}  \\right]$<br>\n",
    "and $(AB)^3=\\left[\\begin{array}{cc}1&-3\\\\0&1  \\end{array}  \\right]$ and this goes on forever, so $|AB|=\\infty.$"
   ]
  },
  {
   "cell_type": "markdown",
   "id": "c08393fe",
   "metadata": {},
   "source": [
    "<hr>\n",
    "<font size=\"3\">\n",
    "<span class=\"proof\">Problem 3.xx (Gallian):</span> \n",
    "    \n",
    "<span class='proof'>Answer </span>$\\unlhd$"
   ]
  }
 ],
 "metadata": {
  "kernelspec": {
   "display_name": "Python 3 (ipykernel)",
   "language": "python",
   "name": "python3"
  },
  "language_info": {
   "codemirror_mode": {
    "name": "ipython",
    "version": 3
   },
   "file_extension": ".py",
   "mimetype": "text/x-python",
   "name": "python",
   "nbconvert_exporter": "python",
   "pygments_lexer": "ipython3",
   "version": "3.9.7"
  }
 },
 "nbformat": 4,
 "nbformat_minor": 5
}
