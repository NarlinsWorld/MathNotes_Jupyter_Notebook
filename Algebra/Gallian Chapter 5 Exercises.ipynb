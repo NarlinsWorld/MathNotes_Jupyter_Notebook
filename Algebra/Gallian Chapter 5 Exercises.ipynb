{
 "cells": [
  {
   "cell_type": "markdown",
   "id": "da97afd2-2ccf-4e08-9ffa-6ba96692be9a",
   "metadata": {},
   "source": [
    "<h1>Permutations</h1>\n",
    "see <a href=\"https://math.stackexchange.com/questions/1382105/what-does-it-means-to-multiply-a-permutation-by-a-cycle-pix-1-cdots-x-n-pi/1382253#1382253\"> This</a> \n",
    "<h2>Basics:</h2>\n",
    "Cycles are permutations.  Take cycle $\\alpha=(1,2,3)$ in $S_4.$  Write its cycle in 1-line notation.  Note that 1-line notation is just the bottom line of 2-line notation.  <h4 class='red'>One-line notation is not cycle notation.</h4>\n",
    "\n",
    "Answer = $\\begin{align}1\\rightarrow 2\\\\ 2\\rightarrow 3\\\\ 3\\rightarrow 1\\\\ 4\\rightarrow 4 \\end{align}$ So the 1-line notation is $(2 3 1 4)$\n",
    "\n",
    "$\\alpha$ is a function.  <br>$\\begin{align}\\alpha(1)=2\\\\ \\alpha(2)=3\\\\ \\alpha(3)=1\\\\ \\alpha(4)=4 \\end{align}$\n",
    "<div>\n",
    "<h3>Even or Odd</h3> Having written a permutation in cycle notation, it can futher be written in 'transpositions'. Do it like this: $$(a b c d)=(a b)(b c)(c d)$$ Compose each of the disjoint cycles as transpositions and string them all together. For example, $$(a b c)(d e f g)=(a b)(b c)(d e)(e f)(f g)$$ If the number of transpositions is odd, then the cycle is odd.  If it is even, then the cycle is even\n",
    "\n",
    "If there are an odd number of elements in a single cycle, it composes into an even number of transpostions, and vice versa.  So for example if some permutation when written in disjoint cycle form has a (cycle of 27 elements)(cycle of 14 elements)(cycle of 6 elements), then we have: $$27\\rightarrow \\text{even number of transpositions}$$  $$14\\rightarrow \\text{odd no. of transp.}$$ $$6\\rightarrow \\text{odd no. of transp.}$$ Since (27+14+6)=47 total transpositions is an odd number, the permutation will be odd.\n",
    "</div>\n",
    "<br><br><span class='theorem'>Theorem 1: Every permutation of a finite set can be written as a cycle or a product of disjoint cycles.</span>\n",
    "\n",
    "<span class='proof'>Proof:</span> Let $A$ be a cyclic set. $A=\\{1,2,\\ldots,n\\}$ and $\\alpha$ be a permutation on $A.$  To write $\\alpha$ in <i class='blue'>disjoint cycle form,</i> we start by choosing some element of $A$ (say $a_1,$) and let<br> $$a_2= \\alpha(a_1)\\qquad a_3=\\alpha(\\alpha(a_1)) = \\alpha^2(a_1).$$ <br> continuing in this way until $$\\alpha^m(a_1)=a_1$$ We know this will eventually happen because the set is finite.\n",
    "\n",
    "<div class='box'>Example:\n",
    "\n",
    "Let $A=\\{1,2,3\\}$ and $\\alpha=(2,1,3) \\leftarrow$ some permutation of set $A.$\n",
    "\n",
    "Choose $a_1=1.$ Then $\\alpha(1)=3 \\quad \\alpha$ sends $1 \\rightarrow 3$<br> \n",
    "$\\alpha(3)=2=\\alpha^2(a_1))\\qquad \\alpha$ sends $3 \\rightarrow 2$  <br>\n",
    "$\\alpha(2)=1 = \\alpha^3(a_1)$ That is, $\\alpha$ sends $2 \\rightarrow 1$ so $m=3.$<br>\n",
    "Thus the disjoint cycle form for $\\alpha$ is $(1\\ 3\\  2)$<br>\n",
    "In 2-line notation this is $$\\left(\\begin{array}{cc}1&2&3 \\\\ 3&1&2 \\end{array} \\right)$$\n",
    "</div>\n",
    "<div>\n",
    "But $m$ may not be equal to $n.$ If it is, we will have $\\alpha=(a_1,a_2,\\cdots a_n)$ but if $m\\ne n$ we will have to proceed to a new series $\\beta$ by choosing a yet unused element a $A$ and beginning anew. This iterative procedure can continue until we have exhausted the elements of $A.$\n",
    "</div>\n",
    "\n",
    "<div class='box'><h4>Example</h4>\n",
    "Convert this 1-line notation to disjoint cycle notation. Permutation = [4 5 2 1 3].\n",
    "$$\\left(\\begin{array}{cc}1& 2& 3& 4& 5\\\\4& 5& 2& 1& 3\\end{array}\\right)=(1 4)(2 5 3)$$\n",
    "</div>\n",
    "\n",
    "<h4>Definition: The <span class='red'>support</span> of a permutation is the set of elements that it actually moves.  The complement of the support is the set of fixed points.</h4>"
   ]
  },
  {
   "cell_type": "code",
   "execution_count": 1,
   "id": "140cf80e-72cd-4a1f-ab20-57d1ccd1a8ed",
   "metadata": {},
   "outputs": [
    {
     "data": {
      "text/html": [
       "<style>\n",
       "div{\n",
       "    font-size:medium;\n",
       "}\n",
       ".box{\n",
       "    border: 2px red solid;\n",
       "    padding: 10px;\n",
       "    }\n",
       ".theorem{\n",
       "    color: navy;\n",
       "    font-weight: bold;\n",
       "    font-size:x-large;\n",
       "}\n",
       ".lemma {\n",
       "    color: blue;\n",
       "    font-style: italic;\n",
       "}\n",
       ".proof {\n",
       "    color: red;\n",
       "    font-weight: bold;\n",
       "}\n",
       ".red {\n",
       "    color: red;\n",
       "}\n",
       ".blue {\n",
       "    color: blue;\n",
       "}\n",
       "hr{\n",
       "    border-top: 2px purple solid;\n",
       "}\n",
       ".oomph{\n",
       "    color:darkgreen;\n",
       "    font-weight: bold;\n",
       "}\n",
       "\n",
       "\n",
       "</style>\n"
      ],
      "text/plain": [
       "<IPython.core.display.HTML object>"
      ]
     },
     "metadata": {},
     "output_type": "display_data"
    }
   ],
   "source": [
    "%%html\n",
    "<style>\n",
    "div{\n",
    "    font-size:medium;\n",
    "}\n",
    ".box{\n",
    "    border: 2px red solid;\n",
    "    padding: 10px;\n",
    "    }\n",
    ".theorem{\n",
    "    color: navy;\n",
    "    font-weight: bold;\n",
    "    font-size:x-large;\n",
    "}\n",
    ".lemma {\n",
    "    color: blue;\n",
    "    font-style: italic;\n",
    "}\n",
    ".proof {\n",
    "    color: red;\n",
    "    font-weight: bold;\n",
    "}\n",
    ".red {\n",
    "    color: red;\n",
    "}\n",
    ".blue {\n",
    "    color: blue;\n",
    "}\n",
    "hr{\n",
    "    border-top: 2px purple solid;\n",
    "}\n",
    ".oomph{\n",
    "    color:darkgreen;\n",
    "    font-weight: bold;\n",
    "}\n",
    "\n",
    "\n",
    "</style>"
   ]
  },
  {
   "cell_type": "markdown",
   "id": "5eaf1b66-78f6-485b-bc1a-91ffa7ce06f2",
   "metadata": {},
   "source": [
    "<br><br><span class='theorem'>Theorem 2: Disjoint cycles commute.</span>\n"
   ]
  },
  {
   "cell_type": "markdown",
   "id": "26408a5e-bfee-472d-8d3f-114199721d34",
   "metadata": {},
   "source": [
    "<div>\n",
    "<span class='red theorem'>Definition: Order of a Permutation</span> The least positive integer $n$ such that $$\\alpha^n = identity.$$ Furthermore, the order of the identity permutation is defined to be $1,$ and a cycle of length $n$ has order $n.$\n",
    "\n",
    "<span class='theorem'>Theorem 3. The order of an element permutation over a finite set, written as disjoint cycles, is the least common multiple of the lengths of the cycles.</span>\n",
    "\n",
    "<span class='red proof'>Proof: </span> Suppose that $a$ and $b$ are disjoint cycles of lengths $m$ and $ n$ and let $k$  be the least common multipe of $ $m an $ n$ It follows from our theorem 1 that $a^k=\\epsilon$ and $b^k=\\epsilon$ are both identity permutations for the two cycles.  Also, since $a$ and $b$ commute, $a^kb^k=\\epsilon$ as well.   But, $a^k=\\epsilon\\implies \\ |a|\\  divides\\  k.$  Likewise, $(ab)^k=a^kb^k=\\epsilon .$  .\n",
    "</div>"
   ]
  },
  {
   "cell_type": "markdown",
   "id": "aeb68048-3594-49be-b618-137c7d78b7e8",
   "metadata": {},
   "source": [
    "<div>\n",
    "    <span class='red proof'>Example </span>Determine the possible orders of permutations in $S_5.$\n",
    "\n",
    "<span class='red proof'>Answer </span> There are $5!=120$ different permutation in $S_5.$ Imagine the possible disjoint order structures. \n",
    "1. (a b c d e) = 5 elements in 1 cycles LCM=5<br>\n",
    "2. (a b c d)(e) = 4 and 1               LCM=4<br>\n",
    "3. (a b c)(d e) = 3 and 2               LCM=6<br>\n",
    "4. (a b c)(d)(e) = 3,1,1                LCM=3<br>\n",
    "5. (a b)(c d)(e) = 2,2,1                LCM=2<br>\n",
    "6. (a b)(c)(d)(e)= 2,1,1,1              LCM=2<br>\n",
    "7. (a)(b)(c)(d)(e)= 1,1,1,1,1           LCM=1<br>\n",
    "The LCM of each structure is the order for all permutations that have that structure.\n",
    "</div>"
   ]
  },
  {
   "cell_type": "markdown",
   "id": "339aaa86-ee5b-4ed3-9c4e-455922caa803",
   "metadata": {},
   "source": [
    "<div>\n",
    "\n",
    " <span class='proof'>Definition:</span> Alternating Group of Degree $n:$ The group of even permutations of $n$ symbols is denoted by $A_n$ and is called the alternating group of degree $n.$\n",
    " \n",
    " <span class='proof'>Theorem 6:</span><span class='lemma'>The set of even permutations of $S_n$ forms a subgroup of $S_n.$</span>\n",
    "\n",
    " <span class='proof'>Proof: </span> See problem 17 below.\n",
    "</div><hr>\n"
   ]
  },
  {
   "cell_type": "markdown",
   "id": "8969fe7b-7ef1-47da-8edc-edb04fa7e240",
   "metadata": {},
   "source": [
    "<div>\n",
    "<span class='proof'>Theorem 7:</span> <span class='blue'> For $n>1, A_n$ has order $n!/2.$</span><br>\n",
    "<span class='proof'>Proof</span> For each odd permutation, $\\alpha$ in $S_n$ we can multiply it by $(12)\\alpha$ to get an even permutation. By the cancellation property of groups, \n",
    "$(12)\\alpha \\ne (12)\\beta$ unless $\\alpha = \\beta.$  Therefore, we can conclude that there are at least as many even permutations as there are odd ones.<br><br>\n",
    "In reverse, we can begin with all even permutations in $S_n$ and compose each with (12) to get an odd permutation. As above, $(12)\\alpha \\ne (12)\\beta \\iff \\alpha \\ne \\beta.$  Thus there are at least as many odd permutation as even ones.  This leads to the conclusion that the odd permutations in $S_n$ is equal to the even permutations.  Since $|S_n|=n!,$ the $|A_n|=n!/2$\n",
    "</div><hr>"
   ]
  },
  {
   "cell_type": "markdown",
   "id": "c18e8d2b-96e3-4f4a-921d-8215f3d81b89",
   "metadata": {},
   "source": [
    "<div><span class='oomph'>\n",
    "The identity permutation is always even. The number of 2-cycles is zero.  Zero is an even number.</span><br>\n",
    "Consider $S_2$ written in cycle notation: $S_2 = \\{\\epsilon, (12)\\}.$ It has two members.  Clearly, (12) is odd.  Ergo, $\\epsilon$ must be even.<br>\n",
    "Consider $S_3$ in cycle notation: $S_3=\\{\\epsilon, (12),(13),(23),(123),(132) \\}.$ Clearly, the elements (12), (13), (23) are odd, thus \\epsilon must be even for equal parity.\n",
    "</div>"
   ]
  },
  {
   "cell_type": "markdown",
   "id": "c4b72850-f276-4f0a-9d74-dba4115c120c",
   "metadata": {},
   "source": [
    "<div>\n",
    "<span class=\"proof\">Problem 5.xx (Gallian):</span> \n",
    "<br><br>\n",
    "\n",
    "<span class='proof'>Answer </span>\n",
    "</div><hr>"
   ]
  },
  {
   "cell_type": "markdown",
   "id": "22746845-7513-4fc8-9f31-45a05252c3eb",
   "metadata": {},
   "source": [
    "<span class=\"proof\">Problem 5.01 (Gallian):</span> Let $$\\alpha = \\left(\\begin{array}{cc}1&2&3&4&5&6 \\\\ 2 &1 &3 &5 &4 &6\\end{array}\\right)\\qquad \\beta = \\left(\\begin{array}{cc}1&2&3&4&5&6 \\\\ 6 &1 &2 &4 &3 &5\\end{array}\\right)$$\n",
    "Compute each of the following<br>\n",
    "$\\alpha^{-1}$<br>\n",
    "$\\beta\\alpha$<br>\n",
    "$\\alpha\\beta$<br>\n",
    "\n",
    "    \n",
    "<span class='proof'>Answer </span> To obtain $\\alpha^{-1},$ invert the 2-line notation and then rearrange the top line. \n",
    "$$\\alpha^{-1}=\\left[\\begin{array}{cc}2&1&3&5&4&6 \\\\ 1&2&3&4&5&6\\end{array}\\right] = \\left[ \\begin{array}{cc}1&2&3&4&5&6 \\\\ 2&1&3&5&4&6 \\end{array}\\right]$$\n",
    "<br><br>\n",
    "$$\\beta\\alpha=\\left(\\begin{array}{cc}1&2&3&4&5&6 \\\\ 1&6&2&3&4&5\\end{array} \\right)$$\n",
    "In 1-line notation,\n",
    "$$\\alpha\\beta=(6 2 1 5 3 4)$$\n",
    "<hr>"
   ]
  },
  {
   "cell_type": "markdown",
   "id": "95661490-7e2f-4ba2-9495-ab31f9b4de7f",
   "metadata": {},
   "source": [
    "<span class=\"proof\">Problem 5.02 (Gallian):</span>\n",
    "Let $$\\alpha=\\left[2 3 4 5 1 7 8 6 \\right]\\qquad \\beta = \\left[1 3 8 7 6 5 2 4 \\right]$$\n",
    "Write $\\alpha  \\beta,$ and $\\alpha\\beta$ as<br>\n",
    "a. products of disjoint cycles;<br>\n",
    "b. products of 2-cycles.<br><br>\n",
    "<span class='proof'>Answer </span> As disjoint cycles<br>\n",
    "$$\\alpha = (1 2 3 4 5)(6 7 8)=(1 5)(1 4)(1 3)(1 2)(6 8)(6 7)$$\n",
    "$$\\beta = (2 3 8 4 7)(5 6)=(2 7)(2 4)(2 8)(2 3)(5 6)$$\n",
    "$$\\alpha\\beta = (1 2 4 8 5 7 3 6)=(1 6)(1 3)(1 7)(1 5)(1 8)(1 4)(1 2)$$\n",
    "<hr>"
   ]
  },
  {
   "cell_type": "markdown",
   "id": "70fc1193-677c-4ec4-8163-e6f949352e0b",
   "metadata": {},
   "source": [
    "<span class=\"proof\">Problem 5.03 (Gallian):</span> Write each of the following permutations as a product of disjoint cycles.<br>\n",
    "a. (1235)(413)<br>\n",
    "b. (13256)(23)(46512)<br>\n",
    "c. (1 2)(1 3)(2 3)(1 4 2) \n",
    "    \n",
    "<span class='proof'>Answer </span>\n",
    "a. $(1235)(413)=(1 5)(2 3 4)$<br>\n",
    "b. $(1 2 4)(3 5)(6)$<br>\n",
    "c. $(1 4 2 3)$\n",
    "<hr>"
   ]
  },
  {
   "cell_type": "markdown",
   "id": "ae74074c-459a-45ad-8d04-7620cded1b1f",
   "metadata": {},
   "source": [
    "<span class=\"proof\">Problem 5.04 (Gallian):</span> \n",
    "Find the order of each of the following permutations.<br>\n",
    "a. (14)<br>  b. (147)<br>  c. (14762)<br> d. $(a_1a_2. . .a_k)$<br><br>\n",
    "<span class='proof'>Answer </span> A cycle of length $n$ and order $n.$<br>\n",
    "a. order 2<br>\n",
    "b. order 3<br>\n",
    "c. order 5<br>\n",
    "d. order k\n",
    "<hr>"
   ]
  },
  {
   "cell_type": "markdown",
   "id": "dacd103a-f6ab-461d-9794-8e7da879eab2",
   "metadata": {},
   "source": [
    "<span class=\"proof\">Problem 5.05 (Gallian):</span>What is the order of each of the following permutations?<br>\n",
    "a. (124)(357)<br>\n",
    "b. (124)(3567)<br>\n",
    "c. (124)(35)<br>\n",
    "d. (124)(357869)<br>\n",
    "e. (1235)(24567)<br>\n",
    "f. (345)(245)\n",
    "    \n",
    "<span class='proof'>Answer </span> When permutations are written in \"disjoint\" cycle form then the order of the cycles is the LCM of the lenghts of the cycles. <br>\n",
    "a. LCM(3,3)=3<br>\n",
    "b. LCM(3,4)=12<br>\n",
    "c. LCM(3,2)=6<br>\n",
    "d. LCM(3,6)=6<br>\n",
    "e. First write into disjoint form. (1 2 4)(3 5 6 7) then LCM(3,4)=12<br>\n",
    "f. Disjoint form = (2 5)(3 4) then LCM(2,2)=2.\n",
    "<hr>"
   ]
  },
  {
   "cell_type": "markdown",
   "id": "475e42e7-b102-453a-8ba6-17bd5e19c5b4",
   "metadata": {},
   "source": [
    "<span class='proof'>Problem 5.06 (Gallian):</span> What is the order of each of the following permutations?<br>\n",
    "a. $\\left[\\begin{array}{cc}1&2&3&4&5&6\\\\ 2 &1 &5 &4 &6 &3\\end{array}\\right]$<br>\n",
    "b. $\\left[\\begin{array}{cc}1&2&3&4&5&6&7 \\\\7&6&1&2&3&4&5\\end{array}\\right]$<br><br>\n",
    "<span class='proof'>Answer </span>\n",
    "Just to check the disjoint cycle form, <br>\n",
    "a. $(1 2)(3 5 6)(4) LCM(2,3)=6$<br>\n",
    "b. $(1 7 5 3)(2 6 4)$ and $LCM(4,3)=12$\n",
    "<hr>"
   ]
  },
  {
   "cell_type": "markdown",
   "id": "0a006eb5-36c3-445b-8ef6-5fc7cad42988",
   "metadata": {},
   "source": [
    "<div>\n",
    "<span class='proof'>Problem 5.07 (Gallian):</span>What is the order of a pair of disjoint cycles of length 4 and 6?\n",
    "<br><br>\n",
    "<span class='proof'>Answer</span>The LCM(4,6)=12.\n",
    "</div><hr>"
   ]
  },
  {
   "cell_type": "markdown",
   "id": "59d5e8ee-3ee6-4379-bd28-dd44f24f0f26",
   "metadata": {},
   "source": [
    "<div>\n",
    "<span class='proof'>Problem 5.08 (Gallian):</span>Show that $A_8$ contains an element of order 15.<br><br>\n",
    "<span class='proof'>Answer</span>$A_8$ includes all of the even permutations of $S_8.$ One or more of those has the structure $(a_1a_2a_3)(a_4a_5a_6a_7a_8)$ which is a 3-element by 5 element disjoint cycle form.  LCM(3,5)=15. So it will have order 15.\n",
    "</div><hr>"
   ]
  },
  {
   "cell_type": "markdown",
   "id": "bb5af946-816e-4859-aa4b-5649e464fc2f",
   "metadata": {},
   "source": [
    "<div>\n",
    "<span class='proof'>Problem 5.09 (Gallian):</span>What are the possible orders for the elements $S_6$ and $A_6?$ What about $A_7?$\n",
    "<br><br>\n",
    "<span class='proof'>Answer</span>The disjoint cycle structures for $S_6:$<br>\n",
    "    Possible disjoint structures: are 6,5,4,3,2,1<br><br>\n",
    "\n",
    "Ignore items with only 1 element, indicated by (1)<br>\n",
    "    (6) order <span class='red'>6</span> with an odd number of transpositions<br>\n",
    "    (5)(1) order <span class='red'>5</span> both with an <u>even</u> number of transpositions<br>\n",
    "    (4)(2) order LCM(4,2)=<span class='red'>4</span> and 2 odds make an <u>even</u> number of transpositions.<br>\n",
    "    (4)(1)(1) order LCM(4,1)=<span class='red'>4</span> with an <u>odd</u> number of transpositions<br>\n",
    "    (3)(3) order <span class='red'>3</span> with an <u>even</u> number of transpositions<br>\n",
    "    (3)(2)(1) order LCM(3,2)=<span class='red'>6</span> even+odd = <u>odd</u> transpositions<br>\n",
    "    (3)(1)(1)(1) order <span class='red'>3</span> and even = <u>even</u> transpositions<br>\n",
    "    (2)(2)(2) order <span class='red'>2</span> and 3 odds=<u>odd</u> transpositions<br>\n",
    "    (2)(2)(1)(1) order <span class='red'>2</span> and <u>even</u> transpositions<br>\n",
    "    (2)(1)(1)(1)(1) order <span class='red'>2</span> and <u>odd</u> transpositions<br>\n",
    "    (1)(1)(1)(1)(1)(1) order <span class='red'>1</span> and <u>no</u> transpositions. IDENTITY<br><br>\n",
    "\n",
    "$A_6$ has to have an even number of transpositions and an odd number of elements in a cycle composes into an even number of transpositions. So the only possible structures are<br>\n",
    "(5)(1)<br>\n",
    "(4)(2)<br>\n",
    "(3)(3)<br>\n",
    "(3)(1)(1)(1)<br>\n",
    "(2)(2)(1)(1)<br>\n",
    "(2)(1)(1)(1)(1)<br>\n",
    "and possible orders of $A_6=5,4,3,2,1$\n",
    "\n",
    "Similarly, the possible orders of $A_7$ are 1,2,3,4,5,6,7.\n",
    "\n",
    "</div><hr>"
   ]
  },
  {
   "cell_type": "markdown",
   "id": "e6d00161-8cdd-4398-8b91-c252eea2e22f",
   "metadata": {},
   "source": [
    "<div>\n",
    "<span class='proof'>Problem 5.10 (Gallian):</span> What is the maximum order of an element in $A_{10}$?\n",
    "<br><br>\n",
    "<span class='proof'>Answer</span> Although the group order for $A_{10}$ is $10!/2,$ any one element will have a much lower order based on the element's possible disjoint cycle structure.<br>\n",
    "    $(10)\\leftarrow$ 10 cyclic elements can't be in $A_{10}$ because it would have an odd number of transpositions.<br>\n",
    "    $(9)(1)=(a_1,a_2,\\ldots,a_9)(a_{10})\\quad$ order=8<br>\n",
    "    $(8)(2)\\quad$ order $LCM(8,2)=8$<br>\n",
    "    $(7)(3)\\quad$ order $LCM(7,3)=21\\leftarrow\\quad$ maximum order or an element in $A_{10}$<br>\n",
    "    $(7)(2)(1)\\leftarrow\\quad$ \"odd\" thus not in $A_{10}$<br>\n",
    "</div><hr>"
   ]
  },
  {
   "cell_type": "markdown",
   "id": "14cbeb1e-b187-4ec9-8cdf-eb79a1c25858",
   "metadata": {},
   "source": [
    "<div>\n",
    "<span class='proof'>Problem 5.11 (Gallian):</span> Are the following permuations even or odd?<br>\n",
    "a. (135)<br>\n",
    "b. (1356)<br>\n",
    "c. (13567)<br>\n",
    "d. (12)(134)(152)<br>\n",
    "e. (1243)(3521)<br>\n",
    "<br><br>\n",
    "<span class='proof'>Answer</span><br>\n",
    "a. (15)(13) even<br>\n",
    "b. (16)(15)(13) odd<br>\n",
    "c. (17)(16)(15)(13) even<br>\n",
    "d. First, we need disjoint cycles. So convert the cycles to 2-notation.<br>\n",
    "$\\left( \\begin{array}{cc} 1&2&3&4&5\\\\5&3&4&2&1 \\end{array} \\right)$ <br>\n",
    "Now convert back to disjoint cycle notation and then write transpositions.<br>\n",
    "$(15)(234)=(15)(24)(23)\\  \\mathbf{odd}$<br>\n",
    "<span class='blue'>A faster way is to just write transpositions for each of the original cycles. (12)(14)(13)(12)(15)=odd</span><br>\n",
    "e. Using the process of d., this can be written as (1)(2)(354) even.\n",
    "</div><hr>"
   ]
  },
  {
   "cell_type": "markdown",
   "id": "852b6841-4b0f-43ea-8380-8dcb0d8951dc",
   "metadata": {},
   "source": [
    "<div>\n",
    "<span class='proof'>Problem 5.12 (Gallian):</span> Show that a function from a finite set, $S$ to itself is one to one if and only if it is onto. What about for an infinite set?\n",
    "<br><br>\n",
    "<span class='proof'>Answer</span> Let $S=\\{s_1,s_2,\\cdots,s_n \\}$ and let function $\\phi$ be one-to-one from $S\\rightarrow S.$ The $\\phi(s_1),\\phi(s_2)\\ldots \\phi(s_n)$ are all distinct and all in $S.$ Now suppose $\\phi(s_i)=\\phi(s_j)$ and $i\\ne j$ then $\\phi(S)$ must have $n-1$ or less members showing that in order to be one to one, it must also be onto.<br>\n",
    "For an infinite set, it is possible to be one to one not onto. For example $\\phi(x)=2x$ is one to one in $\\mathbb{Z}$ but it is not onto since there is no $\\phi(x)=3:x\\in\\mathbb{Z}$\n",
    "</div><hr>"
   ]
  },
  {
   "cell_type": "markdown",
   "id": "334b5354-25b3-40ff-a470-9ac0275478bd",
   "metadata": {},
   "source": [
    "<div>\n",
    "<span class='proof'>Problem 5.13 (Gallian):</span> Suppose that $\\alpha$ is a function that maps set $S$ to itself and that $\\alpha(\\alpha(x))=x$ for all $x\\in S.$ Prove that $\\alpha$ is one to one and onto. \n",
    "<br><br>\n",
    "<span class='proof'>Answer</span> To prove that $\\alpha$ is one to one, assume that $x_1 = \\alpha(\\alpha(x_1)) = \\alpha(\\alpha(x_2))=x_2$  This satisfies the \"$\\alpha$ is one to one\".<br>\n",
    "A function, $g$ is called onto if for every $y$ there exists and $x$ such that $f(x)=y.$ Then $$\\alpha(\\alpha(x))=y$$ and for any $s\\in S$ we have $\\alpha(\\alpha(s))=s$\n",
    "</div><hr>"
   ]
  },
  {
   "cell_type": "markdown",
   "id": "95fc46b0-efc8-48e1-8b3a-4dcc56206a15",
   "metadata": {},
   "source": [
    "<div>\n",
    "<span class='proof'>Problem 5.14 (Gallian):</span> Find 8 elements in $S_6$ that commute with $(12)(34)(56).$ Do they form a subgroup of $S_6?$\n",
    "<br><br>\n",
    "<span class='proof'>Answer</span> The following elements will commute with $(12)(34)(56)$ since they can be multiplied from either side without changing the outcome.<br>\n",
    "Remember that (12) in one line notation means [213456].  That is, all possible elements of $S_6$ must have 6 numbers in the permutation.<br>\n",
    "$(1),\\ (12),\\ (13)(34),\\ (34),\\ (56),\\ (12)(56),\\ (34)(56),\\ (12)(34)(56)$ The group is its own inverse, it is associative, it is closed, its identity is (1) = (1-line):[123456]<br> The order of the subgroup is 8, since there are 8 elements.  Each element in turn has its own order. \n",
    "</div><hr>"
   ]
  },
  {
   "cell_type": "markdown",
   "id": "2d23e150-e224-404f-995e-47dd804b583a",
   "metadata": {},
   "source": [
    "<div>\n",
    "<span class=\"proof\">Problem 5.15 (Gallian):</span> Let $n$ be a positive integer.  If $n$ is odd is an n-cycle an odd or even permutation?  If $n$ is even, is an n-cycle an odd or even permutation?<br><br>\n",
    "    \n",
    "<span class='proof'>Answer </span> A 3-cycle is an even permutation because it can be written as two 2-cycles. So if $n$ is odd, the n-cycle will be an even permutation.<br>\n",
    "When $n$ is even, the n-cycle will be an odd permutation.\n",
    "</div><hr>"
   ]
  },
  {
   "cell_type": "markdown",
   "id": "e1752391-7050-4e50-bbe0-45f1c007ddfe",
   "metadata": {},
   "source": [
    "<div>\n",
    "<span class=\"proof\">Problem 5.16 (Gallian):</span> If $\\alpha$ is even, prove that $\\alpha^{-1}$ is even.  If $\\alpha$ is odd, prove that $\\alpha^{-1}$ is odd.\n",
    "<br><br>\n",
    "\n",
    "<span class='proof'>Answer </span> An $n$ permutation, $\\alpha,$ will be a product of (n-1) 2-cycles. Its inverse, which is still an $n$ permutation must also have $n-1$ 2-cycles. Therefore, the parity of the permutation matches the parity of the inverse.\n",
    "</div><hr>"
   ]
  },
  {
   "cell_type": "markdown",
   "id": "485aab23-f257-42d0-bc1a-3d25069d9c83",
   "metadata": {},
   "source": [
    "<div>\n",
    "<span class=\"proof\">Problem 5.17 (Gallian):</span> Prove: The set of even permutations of $S_n$ forms a subgroup of $S_n.$</span>\n",
    "<br><br>\n",
    "\n",
    "<span class='proof'>Answer </span> <br>1. Subsets inherit associativity. <br>2. The prior problem proves that the inverse is in the subset. <br>3. Each even permutation composes with another even permutation to give an even permutation, so the subset is closed. <br>In $S_n,\\ e=[123...n].$ If $a,b$ are any two element in $S,:a\\ne b$ then $(ab)(ba)=e$ and since an even permutation can be written as the product of an even number of transpositions, <br>4. the identity is even.  \n",
    "</div><hr>"
   ]
  },
  {
   "cell_type": "markdown",
   "id": "ea49a7ff-6576-40b3-9d63-932b390a64bc",
   "metadata": {},
   "source": [
    "<div>\n",
    "<span class=\"proof\">Problem 5.18 (Gallian):</span> In $S_n$ let $\\alpha,\\ \\beta\\ \\gamma$ be an r-cycle, s-cycle, t-cycle respectively. $\\alpha\\beta$ is even $\\iff$ r+s is (even or odd)?  Also, $\\alpha\\beta\\gamma$ is even $\\iff$ r+s+t is (even or odd)?\n",
    "<br><br>\n",
    "\n",
    "<span class='proof'>Answer </span> $\\alpha\\beta$ is even $\\iff$ r+s is even, Even r means odd number of 2-cycles, but 2 odd 2-cycles will give even number of 2-cycles.<br>\n",
    "Analogously, r+s+t has to be odd so that the three sets of even 2-cycles added together will be even.\n",
    "</div><hr>"
   ]
  },
  {
   "cell_type": "markdown",
   "id": "91eb40d9-9263-4f9c-9fe5-ff4d4deb0f6d",
   "metadata": {},
   "source": [
    "<div>\n",
    "<span class=\"proof\">Problem 5.19 (Gallian):</span> Let $\\alpha$ and $\\beta$ belong to $S_n.$ Prove that $\\alpha\\beta$ are even $\\iff \\alpha$ and $\\beta$ are both even or both odd.\n",
    "<br><br>\n",
    "\n",
    "<span class='proof'>Answer </span> Two even numbers add to give an even number.  Likewise, two odd numbers add to give an even number.\n",
    "</div><hr>"
   ]
  },
  {
   "cell_type": "markdown",
   "id": "0c454e68-68f0-4d48-bc3b-41fc520604db",
   "metadata": {},
   "source": [
    "<div>\n",
    "<span class=\"proof\">Problem 5.20 (Gallian):</span> Associate +1 with an even permutation and -1 with an odd permutation. Draw an analogy between multiplying even and odd permutations and multiplying their $\\pm 1$ associations.\n",
    "<br><br>\n",
    "\n",
    "<span class='proof'>Answer </span> Multiplying 2 even permutation given an even, so $(1)\\times(1)=1$ goes with even.  Likewise, multiplying 2 odd permutations gives an even as in $-1\\times -1=1$ goes with even.  Finally, multiplying an odd and an even in either order gives and odd.  $-1\\times 1=-1=odd$.\n",
    "</div><hr>"
   ]
  },
  {
   "cell_type": "markdown",
   "id": "ce3e26f9-7a76-458b-aefe-5a4d115847ce",
   "metadata": {},
   "source": [
    "<div>\n",
    "<span class=\"proof\">Problem 5.21 (Gallian):</span> Let $\\sigma$ be the permuation of letters below that takes each letter to the one directly below it.  Write $\\sigma$ in cycle form.<br>\n",
    "$\\left(\\begin{array}{cc}\n",
    "A&B&C&D&E&F&G&H&I&J&K&L&M&N&O&P&Q&R&S&T&U&V&W&X&Y&Z \\\\\n",
    "H&D&B&G&J&E&C&M&I&L&O&N&P&F&K&R&U&S&A&W&Q&T&V&Z&X&Y\n",
    "\\end{array}\\right)$\n",
    "<br><br>\n",
    "\n",
    "<span class='proof'>Answer </span>$(AHMPRS)(BDGC)(EJLNF)(I)(KO)(QU)(TWV)(XZY)$\n",
    "</div><hr>"
   ]
  },
  {
   "cell_type": "markdown",
   "id": "2f804b8d-0489-4567-bee2-15b36d365f93",
   "metadata": {},
   "source": [
    "<div>\n",
    "<span class=\"proof\">Problem 5.22 (Gallian):</span> If $\\alpha$ and $\\beta$ are distinct 2-cycles what are the possibilities for the order of $\\alpha\\beta = |\\alpha\\beta|.$\n",
    "<br><br>\n",
    "\n",
    "<span class='proof'>Answer </span> If $\\alpha\\beta$ are disjoint 2-cycles, then LCM(2,2)=2 for their order.  If they have 1 symbol in common, then (ab)(ac)=(acb)  so $|\\alpha\\beta|=3$ \n",
    "</div><hr>"
   ]
  },
  {
   "cell_type": "markdown",
   "id": "9e05dcc7-66d9-4faf-a712-cbfbd4987d6f",
   "metadata": {},
   "source": [
    "<div>\n",
    "  <span class=\"proof\">Problem 5.23 (Gallian):</span> Show that if $H$ is a subgroup of $S_n,$ then either every member of $H$ is an even permutation or exactly half of the members are even.\n",
    "<br><br>\n",
    "\n",
    "<span class='proof'>Answer </span> If all elements of $H$ are even then we are done.<br>\n",
    "Suppose that at least one element of $H$ is odd. Call that permutation $\\sigma.$ For each odd permutation, $\\beta$ in $H$ it must be that $\\sigma\\beta$ is even. And of course, different $\\beta s$ give different $\\sigma\\beta s.$  From this, we conclude that <span class='blue'>there are at least as many even permutations as odd ones.</span><br>\n",
    "Conversely, for each even permutation $\\beta$ in H observe that $\\sigma\\beta$ is odd and, by cancellation, different $\\beta s$ give different $\\sigma\\beta s.$  Thus <span class='blue'>there are at least as many odd permutations as there are even ones.</span><br>\n",
    "Therefore the number of even and odd permuations in a subgroup of $S_n$ must be equal, OR they are all even.\n",
    "</div><hr>"
   ]
  },
  {
   "cell_type": "markdown",
   "id": "395b124f-e827-489c-b341-16c4a35b2882",
   "metadata": {},
   "source": [
    "<div>\n",
    "<span class=\"proof\">Problem 5.24 (Gallian):</span> Suppose H is a subgroup of $S_n$ with odd order. Prove that H is a subgroup of $A_n.$\n",
    "<br><br>\n",
    "\n",
    "<span class='proof'>Answer </span> $A_n$ is the group of even permutations of $n$ symbols. Any subgroup, H, of $S_n$ with odd order must have even parity. That is, it can be expressed with an even number of transpositions. $A_n$ contains all of the even parity elements. Therefore, if H is a subgroup of $S_n$ with even parity, it is also a subgroup of $A_n.$ \n",
    "</div><hr>"
   ]
  },
  {
   "cell_type": "markdown",
   "id": "59abf4d6-32c9-49d8-91da-5d76f2790df7",
   "metadata": {},
   "source": [
    "<div>\n",
    "<span class=\"proof\">Problem 5.25 (Gallian):</span> Give two reasons why the set of odd permutations in $S_n$ is not a subgroup. \n",
    "<br><br>\n",
    "\n",
    "<span class='proof'>Answer </span> <br>First, the identity element is always even, so the set of odd permutations would not have an identity element. <br>Second, we proved in problem 23 that all subgroups of $S_n$ are either all even or have an equal number of odd and even elements. <br>Third, the set is not closed, since $odd\\times odd=even.$\n",
    "</div><hr>"
   ]
  },
  {
   "cell_type": "markdown",
   "id": "d13d4244-b1dd-4dae-88d5-2601cf01c096",
   "metadata": {},
   "source": [
    "<div>\n",
    "<span class=\"proof\">Problem 5.26 (Gallian):</span> Let $\\alpha$ and $\\beta$ belong to $S_n.$ Prove that $\\alpha^{-1}\\beta^{-1}\\alpha\\beta$ is an even permutation.\n",
    "<br><br>\n",
    "\n",
    "<span class='proof'>Answer </span>If $\\alpha$ is parity odd, then its inverse is also parity odd. Similarly with $\\beta.$ Therefore, $\\alpha^{-1}\\beta^{-1}\\alpha\\beta=-1\\times -1\\times -1\\times -1=+1=even$  If the parity is even, we of course get even.  So $\\alpha^{-1}\\alpha$ aways has even parity and the same with $\\beta.$\n",
    "</div><hr>"
   ]
  },
  {
   "cell_type": "markdown",
   "id": "742a7002-f9cc-4ba5-84e0-8f8df641b016",
   "metadata": {},
   "source": [
    "<img src='../Images/Gallian Figure 5.1.png'>\n",
    "<div>\n",
    "<span class='oomph'>Definition: Centralizer of $a$ in $G$: Let $a$ be a fixed element of group $G.$  The centralizer of $a$ in $G,\\  C(a),$ is the set of all elements in $G$ that commute with $a.$</span><br><br>\n",
    "<span class=\"proof\">Problem 5.27 (Gallian):</span> Use Table 5.1 to compute the following.<br>\n",
    "a. The centralizer of $\\alpha_3$ is $(13)(24)$<br>\n",
    "b. The centralizer of $\\alpha_{12}$ is (124).\n",
    "<br><br>\n",
    "\n",
    "<span class='proof'>Answer </span> To commute with $\\alpha_3$ means that $\\sigma\\alpha=\\alpha\\sigma$.  The $\\sigma s$ that commute with $\\alpha_3$ are $\\alpha_1,\\alpha_2,\\alpha_3,\\alpha_4$<br>\n",
    "The $\\sigma s$ that commute with $\\alpha_{12}$ are<br>\n",
    "$\\alpha_1, \\alpha_7, \\alpha_{12}$\n",
    "</div><hr>"
   ]
  },
  {
   "cell_type": "markdown",
   "id": "117881aa-8493-45ff-b856-2d4f39eb5bba",
   "metadata": {},
   "source": [
    "<div>\n",
    "<span class=\"proof\">Problem 5.28 (Gallian):</span> How many elements of order 5 are in $S_7?$\n",
    "<br><br>\n",
    "<span class='blue'>The order of permutation of a finite set written in disjoint cycle form is the LCM of the lengths of the cycles.</span><br><br>\n",
    "\n",
    "<span class='proof'>Answer </span> $S_7$ can be written as $(a_1a_2a_3a_4a_5)(a_6a_7)$ or $(a_1a_2a_3a_4a_5)(a_6)(a_7)$ which can be represented by length as (5)(2), LCM=10 or (5)(1)(1), LCM=5. Since we are only interested in 5, we take the 2nd one.\n",
    "<br>The ways to select 5 distinct elements are 5!=120. \n",
    "</div><hr>"
   ]
  },
  {
   "cell_type": "markdown",
   "id": "62e957a3-298a-4ac1-a142-970dee368e7f",
   "metadata": {},
   "source": [
    "<div>\n",
    "<span class=\"proof\">Problem 5.29 (Gallian):</span> How many elements of order 4 are in $S_6?$<br>How many elements of order 2 are in $S_6?$\n",
    "<br><br>\n",
    "\n",
    "<span class='proof'>Answer </span> In $S_6$ we can have $(a_1a_2a_3a_4)(a_5)(a_6)$ which is an odd permutation or $a_1a_2a_3a_4)(a_5)(a_6)$ which is an even permutation.<br>\n",
    "In the odds we could have $6\\cdot 5\\cdot 4\\cdot 3$ but since it is a cycle of 4, we have to divide by 4, giving 90 odd permutations.  In the even permutations, $(a_5a_6)$ is the same as $(a_6a_5)$ so we again just get 90, But 90+90=180 permutations of order 4.<br><br>\n",
    "How many elements of order 2 are n $S_6?$<br>\n",
    "$(a_1a_2)=6\\cdot 5/2=15$<br>\n",
    "$(a_1a_2)(a_3a_4)=6\\cdot 5\\cdot 4\\cdot 3)$ but $(a_1a_2)=(a_2a_1)$ and  $(a_3a_4)=(a_4a_3)$ and $(a_1a_2)(a_3a_4)=(a_3a_4)(a_1a_2)$ so we have to divide by $2\\cdot 2\\cdot 2$<br>\n",
    "so $6\\cdot 5\\cdot 4\\cdot 3)/8=45$<br>\n",
    "$(a_1a_2)(a_3a_4)(a_5a_6)$ has $2\\cdot 2\\cdot 2\\cdot 3!$ redundancies since each of the three 2-cycles can be \n",
    "written 2 ways and the three 2-cycles can be permuted 3! ways So $6\\cdot 5\\cdot 4\\cdot 3\\cdot 2/(2\\cdot 2\\cdot 2\\cdot 3!)=15$<br>\n",
    "Finally, 15+45+15=90 elements of order 2 in $S_6.$.\n",
    "\n",
    "</div><hr>"
   ]
  },
  {
   "cell_type": "markdown",
   "id": "8fc54c6e-82b2-4e6d-89ff-1ed509099026",
   "metadata": {},
   "source": [
    "<div>\n",
    "<span class=\"proof\">Problem 5.30 (Gallian):</span> Prove that (1234) is not the product of 3-cycles.\n",
    "<br><br>\n",
    "\n",
    "<span class='proof'>Answer </span> Permutation (1234) has order 4, but any product of 3-cycles would have order 3.\n",
    "</div><hr>"
   ]
  },
  {
   "cell_type": "markdown",
   "id": "d81515e2-6f77-4d1a-becf-bf1c2efc25c8",
   "metadata": {},
   "source": [
    "<div>\n",
    "<span class=\"proof\">Problem 5.31 (Gallian):</span> Let $\\beta \\in S_7.$ Suppose $\\beta^4 = (2143567)$ Find $\\beta.$  What are the possibilities if $\\beta \\in S_9?$\n",
    "<br><br>\n",
    "\n",
    "<span class='proof'>Answer </span> The order of $\\beta$ has to divide $28$ because $(\\beta^4)^7=e.$  Well, $\\beta^4 \\ne e,$ and we know that $\\beta^4\\mid 28,$ so $|\\beta|\\ne 1,2,$ or $4.$ The order of $\\beta$ cannot be 14 because then in disjoint cycle form it would be a 7-cycle and a 2-cycle, which requires 9 symbols and we only have 7.  That pretty much means that $|\\beta|=7.$  Ergo, $\\beta = \\beta^8 = (\\beta^4)^2$ $$(2143567)(2143567)=(1362457)$$\n",
    "In $S_9$ it can be the same this but with the 2-cycle $(89)$ tagged on.\n",
    "</div><hr>"
   ]
  },
  {
   "cell_type": "markdown",
   "id": "37323e17-f854-4284-91db-f2a4267c5418",
   "metadata": {},
   "source": [
    "<div>\n",
    "<span class=\"proof\">Problem 5.32 (Gallian):</span>Let $\\beta=(123)(145).$ Write $\\beta^{99}$ in disjoint cycle form.\n",
    "<br><br>\n",
    "\n",
    "<span class='proof'>Answer </span> $\\beta$ in disjoint cycle form is $(14523),$ which is order 5. So $\\beta^{99}=\\beta^4=\\beta^{-1}$ and the inverse of $(14523)$ is $(13254).$\n",
    "</div><hr>"
   ]
  },
  {
   "cell_type": "markdown",
   "id": "64e6ba10-d36b-4ef2-a29f-94ecab5349e8",
   "metadata": {},
   "source": [
    "<div>\n",
    "<span class=\"proof\">Problem 5.33 (Gallian):</span> Find three elements, $\\sigma,$ in $S_9$ such that $\\sigma^3 = (157)(283)(469)$\n",
    "<br><br>\n",
    "\n",
    "<span class='proof'>Answer </span> Let's cube element $e$ of $S_9.$<br>\n",
    "$$(123456789)(123456789)(123456789)=(147)(258)(369)$$ This tells how the numbers in $\\sigma$ need to be arranged in order to get the disjoint cycle form shown.<br>\n",
    "So, since $\\sigma^3=(157)(283)(469)$ that $\\sigma = (124586739)$<br>\n",
    "<span class='red'>$\\mathbf{Notice}$ that to write $\\sigma$ from $\\sigma^3$ disjoint cycle form that we just take the first number in each cycle, then the 2nd number in each cycle, then be 3rd number in each cycle.</span><br>\n",
    "Proof: (124586739)(124586739)(124586739)=(157)(283)(469).<br>\n",
    "but, we can commute disjoint cycles. If $a=(157), b=(283), c=(469)$ we could have <br>\n",
    "abc acb bac bca cab cba,<br> giving 6 different $\\sigma s$ that will cube to the same disjoint cycle. $\\mathbf{Notice}$ that to write $\\sigma$ from $\\sigma^3$ disjoint cycle form that we just take the first number in each cycle, then the 2nd number in each cycle, then be 3rd number in each cycle.So<br>\n",
    "abc=(157)(283)(469)=(124586739)<br>\n",
    "acb=(157)(469)(283)=(142568793)<br>\n",
    "bca=(283)(469)(157)=(241865397)<br>\n",
    "bac=(283)(157)(469)=(214856379)<br>\n",
    "cab=(469)(157)(283)=(412658973)<br>\n",
    "cba(469)(283)(157)=(421685937)<br>\n",
    "Any one of these 6 elements can be $\\sigma$ and it will cube to (157)(283)(469).<br>\n",
    "As an example, let's do 'bca'. $$(241865397)(241865397)(241865397)=(157)(283)(469) $$\n",
    "</div><hr>"
   ]
  },
  {
   "cell_type": "markdown",
   "id": "b5a12edb-cfbe-44ee-b3a0-f0cecf4f26de",
   "metadata": {},
   "source": [
    "<div>\n",
    "<span class=\"proof\">Problem 5.34 (Gallian):</span>What cycle is $(a_1a_2a_3\\cdots a_n)^{-1}?$\n",
    "<br><br>\n",
    "\n",
    "<span class='proof'>Answer </span> Just reverse the cycle order. $$(a_1a_2a_3\\cdots a_n)^{-1}=(a_na_{n-1}a_{n-2}\\cdots a_1)$$\n",
    "</div><hr>"
   ]
  },
  {
   "cell_type": "markdown",
   "id": "6721fcfd-dfc0-450e-baf8-0c6168fd63a5",
   "metadata": {},
   "source": [
    "<div>\n",
    "<span class=\"proof\">Definition: stab$(x)$</span> The stabilizer of x is the set of all elements in $G$ that do not move $x$ when they act on $x.$<br>\n",
    "<span class=\"proof\">Problem 5.35 (Gallian):</span> Let G be a group of permutations on a set X. Let $a\\in X.$  Prove that stab($a$) is a subgroup of $G.$ (This subgroup was introduced by Galois in 1832.\n",
    "<br><br>\n",
    "\n",
    "<span class='proof'>Answer</span> The action is element composition of permutations.  Clearly element $e$ is in the group since by definition it doesn't change $x.$ Therefore the subgroup is not empty.  Suppose $\\alpha\\beta\\in stab(x),$ then $\\alpha(\\beta(x))=\\alpha(x)=x$ Also, $a=\\alpha^{-1}(\\alpha(a))=\\alpha^{-1}(a)$ so $\\alpha^{-1}\\in stab(a).$ Ergo $stab(a)$ is a subgroup.\n",
    "</div><hr>"
   ]
  },
  {
   "cell_type": "markdown",
   "id": "ec7b0eb3-5848-41f0-a733-7f223f453e9a",
   "metadata": {},
   "source": [
    "<div>\n",
    "<span class=\"proof\">Problem 5.36 (Gallian):</span> Let $\\beta = (1,3,5,7,9,8,6)(2,4,10).$ What is the smallest positive integer $n$ for which $\\beta^n=\\beta^{-5}?$\n",
    "<br><br>\n",
    "<span class='proof'>Answer</span> The order of $\\beta$ is 21 because that is the LCM(7,3) since $\\beta$ is already expressed in disjoint cycles. So we want $x\\mod{21}=-5$  Clearly $x=16.$\n",
    "</div><hr>"
   ]
  },
  {
   "cell_type": "markdown",
   "id": "14364c4c-b34d-4633-b0ba-7ba51a409358",
   "metadata": {},
   "source": [
    "<div>\n",
    "<span class='proof'>Problem 5.37 (Gallian):</span>Let $\\alpha = (1,3,5,7,9)(2,4,6)(8,10).$ If $\\alpha^m$ is a 5-cycle, what can you say about $m?$\n",
    "<br><br>\n",
    "<span class='proof'>Answer</span> For $\\alpha^m$ to be a 5-cycle, we mean that there is only one cycle that is not trivial and that it is a 5-cycle. $|\\alpha |=LCM(5,3,2)=30.$  If $\\alpha^m$ is a 5-cycle, it will have order 5.<br>\n",
    "Since $\\alpha^m=(1,3,5,7,9)^m(2,4,6)^m(8,10)^m$ and the result is a 5-cycle we deduce that $(2,4,6)^m$ and $(8,10)^m=e$. So 3 and 2 divide m.  Since $(1,3,5,7,8)^m\\ne e$ we know that 5 does not divide m. Thus we can say that m is a multiple of 6 but not a multple of 30.\n",
    "</div><hr>"
   ]
  },
  {
   "cell_type": "markdown",
   "id": "4f31a3d6-8c9c-4135-8f7b-e77f9cb29efc",
   "metadata": {},
   "source": [
    "<div>\n",
    "<span class='proof'>Problem 5.38 (Gallian):</span>\n",
    "Let $H=\\{\\beta\\in S_5 \\mid \\beta(1)= 1; \\beta (3)= 3\\}.$ Prove that $H$ is a subgroup of $S_5.$ How many elements are in $H?$ Is your argument valid when $S_5$ is replaced by $S_n$ for $n\\ge 3?$ How many elements are in $H$ when $S_5$ is replaced by $A_n$ for $n\\ge 4?$\n",
    "<br><br>\n",
    "<span class='proof'>Answer</span> Recall Th. 3.3: <span class='theorem'>Let H be a nonempty finite subset of a group G. If H is closed under the operation of G, then H is a subgroup of G</span>. <br> Let $\\alpha \\le H$ and $\\beta\\le H.$ Then $\\alpha\\beta(1)\\in H$ i.e. \n",
    "$$\\alpha\\beta(1)=\\alpha(\\beta(1))=\\alpha(1)=1$$ Similarly,\n",
    "$$\\alpha\\beta(3)=\\alpha(\\beta(3))=\\alpha(3)=3$$ So by the theorem, $H$ is a subgroup.<br><br>\n",
    "The number of elements in $H$ is 6. They are [12345],[12354],[14325],[14352],[15324],[15342]. A way to compute $|H|$ is to use $|S_n|=n!$ but reduce n by the fixed values. So it would have been $5!$ but instead becomes $(n-2)!$ <br><br>\n",
    "The argument is valid for all $n\\ge 3.$<br><br>\n",
    "When $S_n$ is replace by $A^n$ the order calculation changes to $|A_n|=n!/2,$ and since we are reducing n by 2, we get $(n-2)!/2.$\n",
    "</div><hr>"
   ]
  },
  {
   "cell_type": "markdown",
   "id": "0b1b752b-aed9-4d1a-8b53-57539b913162",
   "metadata": {},
   "source": [
    "<div>\n",
    "<span class=\"proof\">Problem 5.39 (Gallian):</span>How many elements of order 5 are in $A_6$\n",
    "<br><br>\n",
    "\n",
    "<span class='proof'>Answer </span> The number of order 5 elements in $A_6$ should be $6\\cdot 5\\cdot 4\\cdot 3\\cdot 2=720$ but there are 5 identical ways to write each cycle, so $720/5=144$\n",
    "</div><hr>"
   ]
  },
  {
   "cell_type": "markdown",
   "id": "4a5bac4c-f73d-408c-a364-3291d03c3f38",
   "metadata": {},
   "source": [
    "<div>\n",
    "<span class=\"proof\">Problem 5.40 (Gallian):</span>In $S_4$ find a cyclic subgroup of order 4 and a non-cyclic subgroup of order 4.\n",
    "<br><br>\n",
    "Note that $S_5$ has order 120, and is NOT cyclic. But there are many cyclic subgroups of $S_5.$\n",
    " e.g., the element $\\alpha=(134)(25)$ is an element of order 6 in $S_5,$ but $\\alpha$ also generates the cyclic subgroup $⟨(134)(25)⟩=\\{e,\\alpha,\\alpha^2,\\alpha^3,\\alpha^4,\\alpha^5\\},$ whereas $(15)(34)$ generates the cyclic subgroup of order two: $\\{(e)(15)(34)\\}.$ <span class='blue'>Remember that all and only those groups which are generated by a single element are cyclic.</span><br><br>\n",
    "\n",
    "\n",
    "<span class='proof'>Answer </span> A cyclic subgroup of order 4 is (1234).  Its four elements are<br>\n",
    "$\\{\\alpha=(1234),\\alpha^2=(13)(24),\\alpha^3=(1432),\\alpha^4=(1)\\}$<br>\n",
    "A non-cyclic subgroup of order 4 is $\\{(1),(12),(34),(12)(34)\\}$\n",
    "</div><hr>"
   ]
  },
  {
   "cell_type": "markdown",
   "id": "adc3e605-0864-4316-a336-6a83c7952ba6",
   "metadata": {},
   "source": [
    "<div>\n",
    "<span class=\"proof\">Problem 5.41 (Gallian):</span> Suppose that $\\beta$ is a 10-cycle. For which integers $i$ between 2 and 10, is $\\beta^i$ also a 10-cycle?\n",
    "<br><br>\n",
    "\n",
    "<span class='proof'>Answer </span> A 10-cycle means that the permutation has 10 entries which point one to another until they get back to the start.  So the order of the 10-cycle is 10.<br>\n",
    "<span class='lemma'>If $G$ is a group and $g\\in G$ has order $n,$ then $g^i$ has order $\\frac{n}{gcd(n,i)}.$</span><br>\n",
    "Also The set $A = \\{i \\mid lcm(i,10) = 10i \\}$ is the set of $i$ such that $S_i$\n",
    " is also a 10-cycle. This is just another way to say the same thing.<br><br>\n",
    " $$\\frac{10}{gcd(3,10)}=10 \\qquad \\frac{lcm(3,10)}{3} = 10\\cdot 3$$\n",
    " $$\\frac{10}{gcd(7,10)}=10 \\qquad \\frac{lcm(7,10)}{7}=10\\cdot 7$$\n",
    " $$\\frac{10}{gcd(9,10)}=10 \\qquad \\frac{lcm(9,10)}{9}=10\\cdot 9$$\n",
    "</div><hr>"
   ]
  },
  {
   "cell_type": "markdown",
   "id": "297b0f53-4022-4a67-b658-423acab7611a",
   "metadata": {},
   "source": [
    "<div>\n",
    "<span class=\"proof\">Problem 5.42 (Gallian):</span> In $S_3,$ find elements $\\alpha$ and $\\beta$ such that $|\\alpha|=2,\\quad |\\beta|= 2,$ and $|\\alpha\\beta|=3.$\n",
    "<br><br>\n",
    "\n",
    "<span class='proof'>Answer </span> $S_3$ is the symmetric group of 3 characters. It has order $3!=6.$  It's elements in cycle notation are<br>\n",
    "$\\{(1), (123), (132), (12),(13),(23)\\}$<br>\n",
    "Let $\\alpha=(12),$ order 2 $\\beta=(13),$ order 2 $\\alpha\\beta=(12)(13)=(132),$ order 3.\n",
    "</div><hr>"
   ]
  },
  {
   "cell_type": "markdown",
   "id": "1a7c6299-0ff1-4237-b063-d2a20a9ac7b8",
   "metadata": {},
   "source": [
    "<div>\n",
    "<span class=\"proof\">Problem 5.43 (Gallian):</span> Find group elements $\\alpha$ and $\\beta$ in $S_5$ such that $|\\alpha|=3, |\\beta|=3,$ and $|\\alpha \\beta|= 5.$\n",
    "<br><br>\n",
    "\n",
    "<span class='proof'>Answer </span> By trial and error, I found<br>\n",
    "$\\alpha = (123)$ order 3 <br>\n",
    "$\\beta = (345)$ order 3 <br>\n",
    "$\\alpha\\beta=(12345)$ order 5\n",
    "</div><hr>"
   ]
  },
  {
   "cell_type": "markdown",
   "id": "8a3fe55e-75b0-49b2-b0fa-a4744584a086",
   "metadata": {},
   "source": [
    "<div>\n",
    "<span class=\"proof\">Problem 5.44 (Gallian):</span> Represent the symmetry group of an equilateral triangle as a group of permutations of its vertices (see Example 3).\n",
    "<br><br>\n",
    "\n",
    "<span class='proof'>Answer </span> <img src=\"../Images/Gallian answer to 5.44.jpg\" width=500>\n",
    "</div><hr>"
   ]
  },
  {
   "cell_type": "markdown",
   "id": "d2e9e32b-2be3-43ba-9c5a-87300732074a",
   "metadata": {},
   "source": [
    "<div>\n",
    "<span class=\"proof\">Problem 5.45 (Gallian):</span> Prove that $S_n$ is non-Abelian for all $n\\ge 3.$\n",
    "<br><br>\n",
    "$S_n$ is the symmetric group of $n$ characters. It has order $n!$. Each element can be associated with a permutation of those characters.  To be Abelian would mean that <span class='oomph'>for all permutations, composing elements $\\alpha\\beta$ would give the same result as $\\beta\\alpha.$ </span><br><br>\n",
    "\n",
    "<span class='proof'>Answer </span> Starting with $S_3$ and using cycle notation, we see that permutations (12) and (123) are always members of $S_n$.  They don't commute, thus we have a contradiction to the notion that some $n$ for $S_n$ could be Abelian.\n",
    "$$(12)\\circ(123)=(12)$$\n",
    "$$(123)\\circ(12)=(123)$$\n",
    "</div><hr>"
   ]
  },
  {
   "cell_type": "markdown",
   "id": "57e644bc-7d74-4402-9d0b-5e2454e2fbc3",
   "metadata": {},
   "source": [
    "<div>\n",
    "<span class=\"proof\">Problem 5.46 (Gallian):</span> Prove that $A_n$ is non-Abelian for all $n\\ge 4.$\n",
    "<br><br>\n",
    "\n",
    "<span class='proof'>Answer </span>In $A_n$ for $n\\ge 4$ (123) and (132) will always be members and they do not commute.  $$(123)\\circ(132)=(13)$$  $$(132)\\circ(123)=(23)$$\n",
    "</div><hr>"
   ]
  },
  {
   "cell_type": "markdown",
   "id": "4edd2643-d811-4585-b231-ae8eba75a7b2",
   "metadata": {},
   "source": [
    "<div>\n",
    "<span class=\"proof\">Problem 5.47 (Gallian):</span> For $n\\ge 3,$ let $H= \\{\\beta \\in S_n \\mid \\beta(1)= 1$ or $2$ and $\\beta(2)= 1$ or $2\\}.$ Prove that $H$ is a subgroup of $S_n.$ Determine $|H|.$\n",
    "\n",
    "<br><br>\n",
    "The book answer is copied below.<br><br>\n",
    "\n",
    "<span class='proof'>Answer </span>Let α and β belong to H. Then α(1) is 1 or 2, and α(2) is the unused choice between 1 and 2 for α(1). Likewise, β(1) is 1 or 2,and β(2) is the unused choice between 1 and 2 not used β(1). Thus αβ(1) = α(1) or αβ(1) = α(2). This means that αβ(1) = α(1) or α(2) and these are 1 or 2. The same argument applies to αβ(2). To find |H| observe that in matrix form we have 2 choices (1 or 2) for the image of 1, the second entry must be the choice of 1 or 2 not used as the image of 1, and (n − 2)! choices for the remaining n − 2 images. So,|H| =2(n-2)!\n",
    "</div><hr>"
   ]
  },
  {
   "cell_type": "markdown",
   "id": "6e402c9c-ab33-4727-b6a0-555c4f98ff3c",
   "metadata": {},
   "source": [
    "<div>\n",
    "<span class=\"proof\">Problem 5.48 (Gallian):</span> Show that in $S_7,$ the equation $x^2= (1234)$ has no solutions but the\n",
    "equation $x^3= (1234)$ has at least two.\n",
    "<br><br>\n",
    "\n",
    "<span class='proof'>Answer </span> Use (1432) or (1432)(567) as a solution.  To prove that there is not solution for the square, consider that (1234) is an odd permutation, but that any even permutation squares to an even and any odd permutation also squares to an even, so there can be no solution.\n",
    "</div><hr>"
   ]
  },
  {
   "cell_type": "markdown",
   "id": "00b54832-a9bd-47e6-9741-392dcf4964e8",
   "metadata": {},
   "source": [
    "<div>\n",
    "<span class=\"proof\">Problem 5.49 (Gallian):</span> If (ab) and (cd) are distinct 2-cycles in $S_n$, prove that (ab) and (cd) commute if and only if they are disjoint.\n",
    "<br><br>\n",
    "\n",
    "<span class='proof'>Answer </span> If a pair of 2-cycles is not disjoint, then, we have one of the following cases and can see that none of them commute.<br>\n",
    "$(ab)(bc)=(abc)\\qquad (bc)(ab)=(acb)$<br>\n",
    "$(ab)(cb)=(abc)\\qquad (cb)(ab)=(acb)$<br>\n",
    "$(ba)(bc)=(abc)\\qquad (bc)(ba)=(acb)$<br>\n",
    "$(ba)(cb)=(abc)\\qquad (cb)(ba)=(acb)$<br><br>\n",
    "Now suppose the cycles are disjoint.  Then we have $(ab)(cd)=(ab)(cd),$ and if we let them commute, then $(cd)(ab)=(ab)(cd)$ we get the same composition. $$\\tag*{$\\blacksquare$}$$\n",
    "</div><hr>"
   ]
  },
  {
   "cell_type": "markdown",
   "id": "158ded77-2667-4598-b024-6603063ee42f",
   "metadata": {},
   "source": [
    "<div>\n",
    "<span class=\"proof\">Problem 5.50 (Gallian):</span> Let $\\alpha$ be a 2-cycle and $\\beta$ be a t-cycle in $S_n.$ Prove that $\\alpha\\beta\\alpha$ is a t-cycle.\n",
    "<br><br>\n",
    "\n",
    "<span class='proof'>Answer </span> We need to consider 3 cases.<br>\n",
    "Case 1: $\\alpha=(ab);\\  \\beta=(abc\\cdots t)$ Then $\\alpha\\beta\\alpha=(acde\\cdots tb)$ which, although rearranged is still a t=cycle.<br>\n",
    "Case 2: $\\alpha=(ab);\\  \\beta=(cde\\cdots t)$ Then $\\alpha\\beta\\alpha=(cdef\\cdots t)$ which is a t-cycle <br>\n",
    "Case 3a: $\\alpha=(ab);\\  \\beta=(bcde\\cdots t)$ Then $\\alpha\\beta\\alpha=(acde\\cdots t)(b)$ which is a t-cycle<br>\n",
    "Case 3b: $\\alpha=(ab);\\  \\beta=(acde\\cdots t)$ Then $\\alpha\\beta\\alpha=(bcde\\cdots t)(a)$ which is a t-cycle. $$\\tag*{$\\blacksquare$}$$\n",
    "</div><hr>"
   ]
  },
  {
   "cell_type": "markdown",
   "id": "bbaa7ba3-be91-4458-975b-37e93674083e",
   "metadata": {},
   "source": [
    "<div>\n",
    "<span class=\"proof\">Problem 5.51 (Gallian):</span> Use the previous exercise to prove that, if $\\alpha$ and $\\beta$ belong to $S_n$ and $\\beta$ is the product of k-cycles of lengths $n_1, n_2,\\cdots,n_k,$ then $\\alpha\\beta\\alpha^{-1}$ is the product of k-cycles of lengths $n_1, n_2,\\cdots,n_k.$\n",
    "<br><br>\n",
    "\n",
    "<span class='proof'>Answer </span>The inverse of a 2-cycle, say (ab) is (ba), but $(ab)(ba)=(ab)(ab)=\\epsilon=(a)(b)$<br>\n",
    "1. From the result of the proof in 5.50, Case 2, disjoint cycles that are a part of $\\beta$ are just passed through to the result unaltered.<br>\n",
    "2. From the result of Case 1, the cycle is rearranged, but stays the same length.<br>\n",
    "3. From the result of Case 3a & 3b, if either of the 2-cycle elements are a part of some other cycle, then that cycles is rearranged but again stays the same length. <br>\n",
    "4. Every possible cycle length has been considered in either the steps 1,2, or 3 here. Therefore the statement is proved. $\\blacksquare$\n",
    "</div><hr>"
   ]
  },
  {
   "cell_type": "markdown",
   "id": "b1145e88-34c2-46e3-b226-75cef5bab0b0",
   "metadata": {},
   "source": [
    "<div>\n",
    "<span class=\"proof\">Problem 5.52 (Gallian):</span> Let $\\alpha$ and $\\beta$ belong to $S_n$. Prove that $\\beta\\alpha\\beta^{-1}$ and $\\alpha$ are both even or  both odd.\n",
    "<br><br>\n",
    "\n",
    "<span class='proof'>Answer </span>Let an odd permutation be represented by -1 and an even one by 1. \n",
    "$$\\begin{array}{|c|c|c|c|}\\beta\\alpha\\beta^{-1}& sign & result & observation\\\\\n",
    "\\hline\\\\\n",
    "eee & 1\\cdot 1\\cdot 1 & even & \\beta\\alpha\\beta^{-1}=even\\ and\\ \\alpha=even\\\\\n",
    "oeo & -1\\cdot 1 \\cdot 1 & even & \\beta\\alpha\\beta^{-1}=even\\ and\\ \\alpha=even\\\\\n",
    "eoe & 1 \\cdot -1\\cdot 1 & odd & \\beta\\alpha\\beta^{-1}=odd\\ and\\ \\alpha=odd\\\\\n",
    "ooo & -1\\cdot -1\\cdot -1 &odd & \\beta\\alpha\\beta^{-1}=odd\\ and\\ \\alpha=odd\\\\\n",
    "\\end{array}$$\n",
    "</div><hr>"
   ]
  },
  {
   "cell_type": "markdown",
   "id": "e3b9368b-5785-4256-8ec6-c36f0053044f",
   "metadata": {},
   "source": [
    "<div>\n",
    "<span class=\"proof\">Problem 5.53 (Gallian):</span> What is the smallest positive integer $n$ such that $S_n$ has an element of order greater than $2n?$\n",
    "<br><br>\n",
    "\n",
    "<span class='proof'>Answer </span> Checking all examples, we will see that $S_9$ is the smallest symmetric group that has elements with order greater than $2n.$  The way I check these is to list the possible lengths of elements and then find the LCM of those lengths. So for example we will first do $S_5.$<br>\n",
    "(5)<br>\n",
    "(4)(1)<br>\n",
    "(3)(2) LCM(3,2)=6<br><br>\n",
    "\n",
    "Now we will do $S_9$<br>\n",
    "(9)<br>\n",
    "(8)(1)<br>\n",
    "(7)(2)<br>\n",
    "(6)(3)<br>\n",
    "(5)(4) LCM(5,4)=<span class='red'>20</span> and $20>2\\cdot 9$ We have a winner.<br>\n",
    "</div><hr>"
   ]
  },
  {
   "cell_type": "markdown",
   "id": "23fbbc07-2731-4816-9310-392645f8a644",
   "metadata": {},
   "source": [
    "<div>\n",
    "<span class=\"proof\">Problem 5.54 (Gallian):</span>  Let $n$ be an even positive integer. Prove that $A_n$ has an element of order greater than $n$ if and only if $n \\ge 8.$\n",
    "<br><br>\n",
    "\n",
    "<span class='proof'>Answer </span> $A_n$ includes only the even permutations in $S_n.$ <br><br>\n",
    "If $n=2$ then $S_n=\\{\\epsilon,(12)\\}$ and $A_n=\\epsilon.\\qquad$ Both elements are order 1.<br><br>\n",
    "From the structure, the permutation $elements$ formed from (n) must be of order LCM(cycle lengths).<br>We can also do a quick parity check (it has to be even) by subtracting 1 from inside each parenthesis and adding the result.<br><br> \n",
    "If $n=4$ then $A_n$ has the structure:<br>\n",
    "$(4)\\leftarrow\\quad$ not in $A_n$ because it is an odd parity permutation.<br>\n",
    "(3)(1); LCM=3 $\\qquad$ Elements are order 3<br>\n",
    "(2)(2); LCM=2 $\\qquad$ Elements are order 2<br><br>\n",
    "If $n=6$ then $A_n$ has the structure:<br>\n",
    "$(5)(1) \\equiv (abcde)\\equiv (ae)(ad)(ac)(ab);$ LCM=5<br>\n",
    "$(4)(2)\\equiv (abcd)(ef)\\equiv (ad)(ac)(ab)(ef)$ LCM=4<br>\n",
    "$(3)(3)\\equiv (abc)(def)\\equiv (ac)(ab)(df)(de)$ LCM=3<br><br>\n",
    "if $n=8$ then $A_n$ has the structure:<br>\n",
    "$(7)(1);$ LCM=7<br>\n",
    "$(6)(2);$ LCM=6<br>\n",
    "$(5)(3);\\equiv (abcde)(fgh)\\equiv (ae)(ad)(ac)(ab)(fh)(fg)$ LCM=15<br> So for $n=8, A_n $ has an element of order greater than 8.<br><br>\n",
    "\n",
    "If $n=10$<br>\n",
    "(9)(1) LCM=9<br>\n",
    "(8)(2) LCM=8<br>\n",
    "(7)(3) LCM=21<br> \n",
    "\n",
    "If $n>10$ and even<br>\n",
    "In the first parenthesis use the first prime number, $p \\le n-3$ and in the 2nd parenthesis use $n-p.$ The LCM of these will by greater than $n$. <br>\n",
    "$$\\begin{array}{|c|c|c|}n & prime & n-prime & LCM(p,n-p)\\\\\n",
    "\\hline\n",
    "12 & (7) & (5) & LCM=35\\\\\n",
    "14 & (11) & (3) & LCM=33\\\\\n",
    "16 & (13) & (3) & LCM=39\\\\\n",
    "18 & (13) & (5) & LCM=65\\\\\n",
    "20 & (17) & (3) & LCM=51\\\\\n",
    "\\end{array}$$\n",
    "<br><br>For $n\\ge 12$ the permutation $(1,2,...,n-5)(n-4,n-3)(n-2,n-1)$ is in $A_n$ and has order $2(n-5),$ which is greater than $n.$ \n",
    "\n",
    "\n",
    "</div><hr>"
   ]
  },
  {
   "cell_type": "code",
   "execution_count": 13,
   "id": "901300d3-40f5-4c30-a5a9-840b9c018250",
   "metadata": {},
   "outputs": [
    {
     "name": "stdout",
     "output_type": "stream",
     "text": [
      "done\n"
     ]
    }
   ],
   "source": [
    "from sympy import *\n",
    "for n in range (12,200022,2):\n",
    "    p = prevprime(n-2)\n",
    "    c = lcm(p,n-p)\n",
    "    if c<=n:\n",
    "        print(n,p,n-p,c)\n",
    "print('done')"
   ]
  },
  {
   "cell_type": "markdown",
   "id": "f0e038a8-44b8-4414-b8eb-c3ae5cb20113",
   "metadata": {},
   "source": [
    "<div>\n",
    "<span class=\"proof\">Problem 5.55 (Gallian):</span> Let $n$ be an odd positive integer.  Prove that $A_n$ has an element of order greater than $2n\\iff n\\ge 13.$\n",
    "<br><br>\n",
    "\n",
    "<span class='proof'>Answer </span> Up to 11, we can just try all the cases to prove the result.<br>\n",
    "Beyond 11, we see that each permutation in $A_n$ contains the following elements.<br>\n",
    "$$(1,2,\\ldots,n-6)(n-5,n-4,n-3,n-2)(n-1,n)$$ and that the last two parenthesis have length 4 & 2, while the first has length n-6.<br>\n",
    "Since $n$ is odd, $n-6$ is odd, and the lcm(n-6,4) must be $4\\times (n-6).$  At n=12, 2n and $4\\times (n-6)$ are equal, but from n=13 on, $4\\times (n-6) > 2n$ $$\\tag*{$\\blacksquare$}$$\n",
    "</div><hr>"
   ]
  },
  {
   "cell_type": "code",
   "execution_count": 26,
   "id": "8e0a4c2e-9fe9-4dc5-8e8e-bb8c7eba0f03",
   "metadata": {},
   "outputs": [
    {
     "name": "stdout",
     "output_type": "stream",
     "text": [
      "(1,2,...,7)(8,9,10,11)(12,13) 28 26\n",
      "(1,2,...,9)(10,11,12,13)(14,15) 36 30\n",
      "(1,2,...,11)(12,13,14,15)(16,17) 44 34\n",
      "(1,2,...,13)(14,15,16,17)(18,19) 52 38\n",
      "(1,2,...,15)(16,17,18,19)(20,21) 60 42\n",
      "(1,2,...,17)(18,19,20,21)(22,23) 68 46\n",
      "(1,2,...,19)(20,21,22,23)(24,25) 76 50\n",
      "(1,2,...,21)(22,23,24,25)(26,27) 84 54\n",
      "(1,2,...,23)(24,25,26,27)(28,29) 92 58\n",
      "(1,2,...,25)(26,27,28,29)(30,31) 100 62\n"
     ]
    }
   ],
   "source": [
    "from sympy import *\n",
    "for n in range (13,13+20,2):\n",
    "    e1='(1,2,...,'+str(n-6)+')';\n",
    "    e2='('+str(n-5)+','+str(n-4)+','+str(n-3)+','+str(n-2)+')';\n",
    "    e3='('+str(n-1)+','+str(n)+')';\n",
    "    c=lcm(lcm(n-6,4),2)\n",
    "    print(e1+e2+e3,c,2*n)"
   ]
  },
  {
   "cell_type": "markdown",
   "id": "364f6bf5-19b0-4811-90e5-5011b0b825a4",
   "metadata": {},
   "source": [
    "<div>\n",
    "<span class=\"proof\">Problem 5.56 (Gallian):</span> Let $n$ be an even positive integer. Prove that $A_n$ has an element of order greater than $2n$ if and only if $n\\ge 14.$\n",
    "<br><br>\n",
    "\n",
    "<span class='proof'>Answer </span> This is exactly the same argument as was made in the prior problem, except now we are starting at $n=14$ and the 1st set of parenthesis will go to $n-7.$<br>\n",
    "Up to 14, we can just try all the cases to prove the result.<br> When n=14 we have a crossover for the two lines (y=2n) and y=4(n-7)\n",
    "Beyond 14, we see that each permutation in $A_n$ contains the following elements.<br>\n",
    "$$(1,2,\\ldots,n-7)(n-5,n-4,n-3,n-2)(n-1,n)$$ and that the last two parenthesis have length 4 & 2, while the first has length n-7.<br>\n",
    "Since $n$ is even, $n-7$ is odd, and the lcm(n-7,4) must be $4\\times (n-7).$  At n=14, 2n and $4\\times (n-7)$ are equal, but from n=16 on, $4\\times (n-7) > 2n$ $$\\tag*{$\\blacksquare$}$$\n",
    "</div><hr>"
   ]
  },
  {
   "cell_type": "code",
   "execution_count": 30,
   "id": "36a99e27-0389-4305-a9cf-e2f6717b4b83",
   "metadata": {},
   "outputs": [
    {
     "name": "stdout",
     "output_type": "stream",
     "text": [
      "(1,2,...,8)(9,10,11,12)(13,14) 28 28\n",
      "(1,2,...,10)(11,12,13,14)(15,16) 36 32\n",
      "(1,2,...,12)(13,14,15,16)(17,18) 44 36\n",
      "(1,2,...,14)(15,16,17,18)(19,20) 52 40\n",
      "(1,2,...,16)(17,18,19,20)(21,22) 60 44\n",
      "(1,2,...,18)(19,20,21,22)(23,24) 68 48\n",
      "(1,2,...,20)(21,22,23,24)(25,26) 76 52\n",
      "(1,2,...,22)(23,24,25,26)(27,28) 84 56\n",
      "(1,2,...,24)(25,26,27,28)(29,30) 92 60\n",
      "(1,2,...,26)(27,28,29,30)(31,32) 100 64\n"
     ]
    }
   ],
   "source": [
    "from sympy import *\n",
    "for n in range (14,14+20,2):\n",
    "    e1='(1,2,...,'+str(n-6)+')';\n",
    "    e2='('+str(n-5)+','+str(n-4)+','+str(n-3)+','+str(n-2)+')';\n",
    "    e3='('+str(n-1)+','+str(n)+')';\n",
    "    c=lcm(lcm(n-7,4),2)\n",
    "    print(e1+e2+e3,c,2*n)"
   ]
  },
  {
   "cell_type": "markdown",
   "id": "f8469597-6102-4b75-9543-018436d19000",
   "metadata": {},
   "source": [
    "<hr>\n",
    "<div>\n",
    "<span class=\"proof\">Problem 5.57 (Gallian):</span> Viewing the members of $D_4$ as a group of permutations of a square labeled 1, 2, 3, 4 as described in Example 3, which geometric symmetries correspond to even permutations?\n",
    "<br><br>\n",
    "\n",
    "<span class='proof'>Answer </span> $R_0$ is EVEN since it is the identity permutation.<br>\n",
    "$R_0$ is a square. The numbering is CCW with 1 in the lower right. $\\begin{array}{cc}3&2\\\\4&1 \\end{array}$<br>\n",
    "$R_{180}$ is CCW with 1 in the upper left. $\\begin{array}{cc}1&4\\\\2&3\\end{array}$<br>\n",
    "$$R_{180}=\\left[\\begin{array}{cccc}1&2&3&4\\\\3&4&1&2\\end{array}\\right]=[3412]=(13)(24)\\qquad EVEN$$\n",
    "V is a square with a vertical flip. That is, $R_0\\rightarrow V$<br>\n",
    "$$V=\\begin{array}{cc}4&1\\\\ \\hline 3&2\\end{array}=[2143]=(12)(34)\\qquad EVEN$$\n",
    "H is a square with a horizontal flip.  that is, $R_0\\rightarrow H$<br>\n",
    "$$H=\\begin{array}{c|c}2&3\\\\1&4\\end{array}=[4321]=(14)(32)\\qquad EVEN$$\n",
    "The other 4 permutations are odd.\n",
    "</div><hr>"
   ]
  },
  {
   "cell_type": "markdown",
   "id": "0ca5574c-04cf-4fed-a250-aa9ec6cc796a",
   "metadata": {},
   "source": [
    "<div>\n",
    "<span class=\"proof\">Problem 5.xx (Gallian):</span> \n",
    "<br><br>\n",
    "\n",
    "<span class='proof'>Answer </span>\n",
    "</div><hr>"
   ]
  },
  {
   "cell_type": "markdown",
   "id": "d8b82c11-a5aa-4d13-8788-bf675942a03d",
   "metadata": {},
   "source": [
    "<div>\n",
    "<span class=\"proof\">Problem 5.58 (Gallian):</span> Viewing the members of $D_5$ as a group of permutations of a regular pentagon with consecutive vertices labeled 1, 2, 3, 4, 5, what geometric symmetry corresponds to the permutation (14253)? Which symmetry corresponds to the permutation (25)(34)?\n",
    "\n",
    "<br><br>\n",
    "\n",
    "<span class='proof'>Answer</span> Part 'a' is a CCW rotation of $144^\\circ$ and part 'b' is a reflexion about the axis between Vertex 1 and the opposite side.<br>\n",
    "</span> <img src=\"../Images/Gallian Excersize 5.58a.png\" width='70%'>\n",
    "<br> <img src=\"../Images/Gallian Excersize 5.58b.png\" width='60%'>\n",
    "</div><hr>"
   ]
  },
  {
   "cell_type": "markdown",
   "id": "187ab106-72f2-476b-b6dd-d3cd4e8df390",
   "metadata": {},
   "source": [
    "<div>\n",
    "<span class=\"proof\">Problem 5.59 (Gallian):</span> Let $n$ be an odd integer greater than 1. Viewing $D_n$ as a group of permutations of a regular n-gon with consecutive vertices labeled 1, 2,..., n, explain why the rotation subgroup of $D_n$ is a subgroup of $A_n.$\n",
    "<br><br>\n",
    "\n",
    "<span class='proof'>Answer </span> For odd $n$ each rotational group from $D_n$ represents an even parity permutation.  The identity permutation is included. The inverse is always just a different rotation. Associativity is inherited. It is a subgroup.\n",
    "</div><hr>"
   ]
  },
  {
   "cell_type": "markdown",
   "id": "f836e86b-be13-4958-8b58-66ee86c880e3",
   "metadata": {},
   "source": [
    "<div>\n",
    "<span class=\"proof\">Problem 5.60 (Gallian):</span> Let n be an integer greater than 1. Viewing $D_n$ as a group of permutations of a regular n-gon with consecutive vertices labeled $1, 2,...,n,$ determine for which $n$ all the permutations corresponding to reflections in $D_n$ are even permutations. Hint: Consider the fourscases for $n {\\mod 4}.$\n",
    "<br><br>\n",
    "\n",
    "<span class='proof'>Answer </span> Any n-gon which has $n \\mod 4$ will be even in all permutations of the reflexion set. \n",
    "</div><hr>"
   ]
  },
  {
   "cell_type": "raw",
   "id": "64fd8c8f-405c-4b1d-a290-0c9f2e626063",
   "metadata": {},
   "source": [
    "59. Let n be an odd integer greater than 1. Viewing Dn as a group ofpermutations of a regular n-gon with consecutive vertices labeled1, 2, . . . , n, explain why the rotation subgroup of Dn is a subgroup of An.\n",
    "\n",
    "60. Let n be an integer greater than 1. Viewing Dn as a group of permutations of a regular n-gon with consecutive vertices labeled 1, 2, . . . ,n, determine for which n all the permutations corresponding to reflections in Dn are even permutations. Hint: Consider the fourscases for n mod 4.61. Show tha"
   ]
  },
  {
   "cell_type": "markdown",
   "id": "fb7970ec-fa72-48c9-813d-d32dbc58fbf6",
   "metadata": {},
   "source": [
    "<div>\n",
    "<span class=\"proof\">Problem 5.xx (Gallian):</span> \n",
    "<br><br>\n",
    "\n",
    "<span class='proof'>Answer </span>\n",
    "</div><hr>"
   ]
  }
 ],
 "metadata": {
  "kernelspec": {
   "display_name": "Python 3 (ipykernel)",
   "language": "python",
   "name": "python3"
  },
  "language_info": {
   "codemirror_mode": {
    "name": "ipython",
    "version": 3
   },
   "file_extension": ".py",
   "mimetype": "text/x-python",
   "name": "python",
   "nbconvert_exporter": "python",
   "pygments_lexer": "ipython3",
   "version": "3.11.4"
  }
 },
 "nbformat": 4,
 "nbformat_minor": 5
}
