{
 "cells": [
  {
   "cell_type": "markdown",
   "metadata": {},
   "source": [
    "<H2> Group Properties Proof</H2>\n",
    "<font size=4><br>\n",
    "    <hr>\n",
    "<strong>Lemma:</strong> If $G$ is a group, then<br> a) The identity element of G is unique.<br>b) Each $a\\in G$ have a unique inverse in $G.$ <br>c) For every $$a\\in G, \\left(a^{-1}\\right)^{-1}=a$$ <br>d) For all $$a,b \\in G, (a\\cdot b)^{-1}=b^{-1}\\cdot a^{-1}.$$\n",
    "<hr style=\"border-top: black 1px solid\" >   \n",
    "Some explanation: In part (a) we want to show that if\n",
    "two elements $e$ and $f\\in G$ have the property that for every $a\\in G,$ $$a =a\\cdot e = e\\cdot a$$ and $$a=a\\cdot f = f\\cdot a,$$ then $$e=f$$\n",
    "    <i style=\"color: blue\">Proof for Part a</i><br>Suppose $e$ is an identity element, and $f$ is another identity element, then it is true that  $e\\cdot f = f.$  It is also true that $f\\cdot e = e.$ But by the commutative property of an identity element, $e\\cdot f=f\\cdot e =e$ and $f\\cdot e=e\\cdot f=f\\,$ $\\therefore e=f\\qquad\\blacksquare$\n",
    "<hr style=\"border-top: black 1px solid\" >  \n",
    "    <strong>Definition: Inverse of an element</strong>  Element $a$ is an inverse of element $b$ if and only if\n",
    "    $$b\\cdot a = e = a\\cdot b$$\n",
    "    \n",
    " <hr style=\"border-top: blue 1px solid\" >    \n",
    " <i style=\"color: blue\">Proof for Part b</i><br>\n",
    " Suppose element $a$ has two inverses called $x$ and $y,$ then \n",
    " $$\\begin{align}x & = x\\cdot e \\\\ e&=a\\cdot y  \\text{ by the inverse definition}\\\\ \\text{so } x&=x\\cdot (a\\cdot y)\\text{ by substitution}\\\\\n",
    " \\text{and } x &= (x\\cdot a)\\cdot y \\text{ by associativity}\\\\ \\text{so } x &=e\\cdot y \\text{ since } e=a\\cdot x\\\\ \\text{and }x&=y \\qquad\\blacksquare\n",
    " \\end{align} $$\n",
    " \n",
    " <hr style=\"border-top: black 1px solid\" > \n",
    " <i style=\"color: blue\">Proof for Part c</i><br>\n",
    "    Let $a^{-1}=x$\n",
    "    $$\\begin{align}\n",
    "    a^{-1}&=x\\\\\n",
    "    x^{-1}\\cdot x &=e \\text{ by definition of an inverse}\\\\\n",
    "\\left(a^{-1}\\right)^{-1}\\cdot a^{-1} &=e \\text{ by substitution}\\\\ \n",
    " a \\cdot a^{-1} &= e \\text{ by definition of an inverse}\\\\\n",
    "\\therefore \\left(a^{-1}\\right)^{-1}\\cdot a^{-1} &= a\\cdot a^{-1}\\\\\n",
    "\\left(a^{-1}\\right)^{-1} &= a \\text{ cancellation of } a^{-1} \\text{ from both sides} \\qquad\\blacksquare\n",
    "    \\end{align}$$\n",
    "    \n",
    "<hr style=\"border-top: black 1px solid\" >\n",
    "<i style=\"color: blue\">Proof for Part d</i><br>\n",
    "We want to show that $(a\\cdot b)^{-1}=a^{-1}\\cdot b^{-1}$<br>\n",
    "First note that the inverse of $(a\\cdot b)$ is $\\left(a\\cdot b\\right)^{-1}.$\n",
    "$$\\begin{align}\n",
    "(a\\cdot b)\\left(b^{-1}\\cdot a^{-1}\\right) &=\\\\\n",
    "&=a\\cdot\\left(b\\cdot b^{-1} \\right)a^{-1}\\\\\n",
    "&=a\\cdot e \\cdot a^{-1} = e\\\\\n",
    "\\end{align}$$\n",
    "But that proves that both $(a\\cdot b)^{-1}$ and $a^{-1}b^{-1}$ are each the inverse of $a\\cdot b$ and thus they must be equal. $$(a\\cdot b)^{-1}=a^{-1}\\cdot b^{-1}\\qquad\\blacksquare$$"
   ]
  },
  {
   "cell_type": "markdown",
   "metadata": {},
   "source": []
  }
 ],
 "metadata": {
  "kernelspec": {
   "display_name": "Python 3 (ipykernel)",
   "language": "python",
   "name": "python3"
  },
  "language_info": {
   "codemirror_mode": {
    "name": "ipython",
    "version": 3
   },
   "file_extension": ".py",
   "mimetype": "text/x-python",
   "name": "python",
   "nbconvert_exporter": "python",
   "pygments_lexer": "ipython3",
   "version": "3.11.0"
  }
 },
 "nbformat": 4,
 "nbformat_minor": 2
}
