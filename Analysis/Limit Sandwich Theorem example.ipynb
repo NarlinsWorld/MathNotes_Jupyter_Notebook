{
 "cells": [
  {
   "cell_type": "markdown",
   "metadata": {},
   "source": [
    "I want to find the sequence limit, $$\\lim_{n=1}^{\\infty}\\left(100+5^n)^{1/n}\\right)$$\n",
    "Geogebra will give me the answer. it is 5. I also found the problem in an analysis book https://www.amazon.com/Another-Introduction-Analysis-Victor-Bryant/dp/052138835X along with his answer!  <br>It says: <i>Here the nth term of the sequence is </i> $(100+5^n)^{1/n}$ <i>which equals</i> $5(100/5^n+1)^{1/n}$. <br>He continues, getting the limit using a 'sandwiching theorem' which I profess to understanding, although barely.   The $5$ has been taken out from under the power of $(1/n)$\n",
    "$$(100+5^n)^{1/n}$$\n",
    "$$\\left(5^n \\left(\\frac{100}{5^n}+\\frac{5^n}{5^n}\\right)\\right)^{1/n}$$\n",
    "$$5\\left(\\frac{100}{5^n}+1\\right)^{1/n}$$<br>\n",
    "\n",
    "\\begin{equation}\n",
    "\\underset{\\begin{subarray}{l}\n",
    "\\big\\downarrow\\\\\n",
    "5\n",
    "\\end{subarray}}\n",
    "5=5(0+1)^{1/n}\n",
    "\\le \\overbrace{5\\left(\\frac{100}{5^n}+1\\right)^{1/n}}^{=x_n}\n",
    "\\le 5(20+1)^{1/n}\n",
    "=5 \\underset{\\begin{subarray}{l}\n",
    "\\big\\downarrow\\\\\n",
    "5\n",
    "\\end{subarray}}\\times 21^{1/n}\n",
    "\\end{equation}"
   ]
  },
  {
   "cell_type": "markdown",
   "metadata": {},
   "source": [
    "$\\require{AMScd}$\n",
    "\\begin{CD}\n",
    "\\mathbb{Z}/p^n\\mathbb{Z} @>{\\theta_{n+1,\\alpha}}>> U_1/U_{n+1}\\\\\n",
    "@VVV @VVV\\\\\n",
    "\\mathbb{Z}/p^{n-1}\\mathbb{Z} @>{\\theta_{n,\\alpha}}>> U_1/U_n\n",
    "\\end{CD}"
   ]
  },
  {
   "cell_type": "markdown",
   "metadata": {},
   "source": [
    "\\begin{equation}\n",
    "\\underset{\\begin{subarray}{c}\n",
    "  i_1+\\dots+i_k=n \\\\\n",
    "  i_1<\\dots<i_k\n",
    "  \\end{subarray}}{\\sum} x_1^{i_1} \\dots x_k^{i_k}.\n",
    "  \\end{equation}"
   ]
  },
  {
   "cell_type": "code",
   "execution_count": null,
   "metadata": {},
   "outputs": [],
   "source": []
  }
 ],
 "metadata": {
  "kernelspec": {
   "display_name": "SageMath 9.1",
   "language": "sage",
   "name": "sagemath"
  },
  "language_info": {
   "codemirror_mode": {
    "name": "ipython",
    "version": 3
   },
   "file_extension": ".py",
   "mimetype": "text/x-python",
   "name": "python",
   "nbconvert_exporter": "python",
   "pygments_lexer": "ipython3",
   "version": "3.7.3"
  }
 },
 "nbformat": 4,
 "nbformat_minor": 2
}
