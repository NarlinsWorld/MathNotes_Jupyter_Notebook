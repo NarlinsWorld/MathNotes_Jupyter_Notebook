{
 "cells": [
  {
   "cell_type": "code",
   "execution_count": 45,
   "metadata": {},
   "outputs": [
    {
     "data": {
      "application/javascript": [
       "IPython.notebook.set_autosave_interval(0)"
      ],
      "text/plain": [
       "<IPython.core.display.Javascript object>"
      ]
     },
     "metadata": {},
     "output_type": "display_data"
    },
    {
     "name": "stdout",
     "output_type": "stream",
     "text": [
      "Autosave disabled\n"
     ]
    }
   ],
   "source": [
    "%autosave 0"
   ]
  },
  {
   "cell_type": "markdown",
   "metadata": {},
   "source": [
    "Let $\\displaystyle{a_n=\\sum_{n=0}^\\infty\\frac{1}{n+1} }$ and $\\displaystyle{b_n=\\sum_{n=0}^\\infty \\frac{1}{(n)!}}$ We can write out a few terms of each series.\n",
    "$$a_n=\\left\\{1+\\frac{1}{4}+\\frac{1}{9}+\\frac{1}{16}+\\cdots\\right\\}$$\n",
    "$$b_n=\\left\\{1+\\frac{1}{2}+\\frac{1}{6}+\\frac{1}{24}+\\frac{1}{120}+\\cdots\\right\\}$$\n",
    "The $\\color{red}{\\text{Cauchy product}}$ can be written as\n",
    "$$\\sum_{n=0}^\\infty \\left( \\sum_{i=0}^\\infty a_ib_{n-i}\\right) x^n$$\n",
    "I will program this from $n=0$ to $8$ and $i=0$ to $n$<br><br>\n",
    "I have printed the coefficient without the power of x.<br>\n",
    "When these coefficients are summed to about 1600 terms, I get $4.69\\approx \\frac{e\\pi}{6}$\n",
    "I have plotted the coefficient (y-axis) vs. the power of x (x-axis)>br>\n",
    "Notice there is a point at (0,1). The generating function for $b_n$ is $\\frac{e^x-1}{x}$ but the G.F. for $a_n$ is $\\frac{Li_2(x)}{x}$"
   ]
  },
  {
   "cell_type": "code",
   "execution_count": 100,
   "metadata": {},
   "outputs": [
    {
     "data": {
      "text/html": [
       "<html><script type=\"math/tex; mode=display\">\\newcommand{\\Bold}[1]{\\mathbf{#1}}\\left[1, \\frac{5}{4}, \\frac{31}{36}, \\frac{67}{144}, \\frac{869}{3600}, \\frac{92}{675}, \\frac{11471}{132300}, \\frac{256829}{4233600}, \\frac{95723}{2116800}, \\frac{8933257}{254016000}, \\frac{866598707}{30735936000}, \\frac{25599945601}{1106493696000}, \\frac{3616562793523}{186997434624000}, \\frac{21486876182969}{1308982042368000}, \\frac{277065704619901}{19634730635520000}, \\frac{1926233287302923}{157077845084160000}\\right]</script></html>"
      ],
      "text/plain": [
       "[1,\n",
       " 5/4,\n",
       " 31/36,\n",
       " 67/144,\n",
       " 869/3600,\n",
       " 92/675,\n",
       " 11471/132300,\n",
       " 256829/4233600,\n",
       " 95723/2116800,\n",
       " 8933257/254016000,\n",
       " 866598707/30735936000,\n",
       " 25599945601/1106493696000,\n",
       " 3616562793523/186997434624000,\n",
       " 21486876182969/1308982042368000,\n",
       " 277065704619901/19634730635520000,\n",
       " 1926233287302923/157077845084160000]"
      ]
     },
     "metadata": {},
     "output_type": "display_data"
    },
    {
     "name": "stdout",
     "output_type": "stream",
     "text": [
      "0.01226292152\n",
      "4.29529179508210\n"
     ]
    },
    {
     "data": {
      "image/png": "[encoded data removed]",
      "text/plain": [
       "Graphics object consisting of 1 graphics primitive"
      ]
     },
     "metadata": {},
     "output_type": "display_data"
    }
   ],
   "source": [
    "def a(n):\n",
    "    return 1/(n+1)^2\n",
    "\n",
    "def b(n):\n",
    "    return (1)/factorial(n)\n",
    "\n",
    "var('x');s=[]; L=[]\n",
    "for n in range(16):\n",
    "    sum=0; \n",
    "    for i in range(n+1):\n",
    "        sum=sum+a(i)*b(n-i)\n",
    "    L.append(sum)\n",
    "    s.append([n,sum])\n",
    "show(L)\n",
    "length = len(L)\n",
    "sum=0;\n",
    "for i in range(length):\n",
    "    sum=sum+L[i]\n",
    "print(sum.n())\n",
    "R=list_plot(s,figsize=4)\n",
    "show(R)"
   ]
  },
  {
   "cell_type": "code",
   "execution_count": 141,
   "metadata": {},
   "outputs": [
    {
     "data": {
      "text/html": [
       "<html><script type=\"math/tex; mode=display\">\\newcommand{\\Bold}[1]{\\mathbf{#1}}\\left[a = 3.345943610243293, b = 0.6282813819016784, c = 1.570371781244906, d = 1.4943880230664712\\right]</script></html>"
      ],
      "text/plain": [
       "[a == 3.345943610243293,\n",
       " b == 0.6282813819016784,\n",
       " c == 1.570371781244906,\n",
       " d == 1.4943880230664712]"
      ]
     },
     "metadata": {},
     "output_type": "display_data"
    },
    {
     "data": {
      "image/png": "[encoded data removed]",
      "text/plain": [
       "Graphics object consisting of 2 graphics primitives"
      ]
     },
     "metadata": {},
     "output_type": "display_data"
    }
   ],
   "source": [
    "# for this example, we first generate some data with built-in variance:\n",
    "data = [(i, 1.2 * sin(0.5*i-0.2) + 0.1 * normalvariate(0, 1)) for i in xsrange(0, 4*pi, 0.2)]\n",
    "data=s\n",
    "# design a model with adjustable parameters a,b,c that describes the data\n",
    "var('a, b, c, d, x')\n",
    "model(x) = a*e^(-b*x)+c*e^(-d*x)*(-d)\n",
    "\n",
    "# calculate the values of the parameters that best fit the model to the data\n",
    "sol = find_fit(data,model)\n",
    "show(sol)\n",
    "\n",
    "# define f(x), the model with the parameters set to the fitted values\n",
    "f(x) = model(a=sol[0].rhs(),b=sol[1].rhs(),c=sol[2].rhs(),d=sol[3].rhs())\n",
    "#f(x) = model(a=.7,b=-.31,c=-.4)\n",
    "# create an empty plot object\n",
    "a = plot([])\n",
    "# add a plot of the model, with respect to x from -0.5 to 12.5\n",
    "a += plot(f(x),x,[-0.5,12.5],xmax=16,ymin=0,ymax=1.6)\n",
    "\n",
    "# add a plot of the data, in red\n",
    "a += list_plot(data,color='red')\n",
    "show(a)"
   ]
  },
  {
   "cell_type": "markdown",
   "metadata": {},
   "source": [
    "<hr style=\"border-top: 1px solid blue;\">\n",
    "I will find the Cauchy product for $\\displaystyle{\\left(\\sum_{n=1}^\\infty\\left(\\frac{1}{n}\\right)\\right)^2.}$ The generating function for the harmonic series is $ln(1/1-x)=-ln(1-x)$ If I square the G.F., I get $$\\left(ln(1-x)\\right)^2$$ and the Taylor series for that is $$x^{2} + x^{3} + \\frac{11}{12} \\; x^{4} + \\frac{5}{6} \\; x^{5} + \\frac{137}{180} \\; x^{6} + \\frac{7}{10} \\; x^{7} + \\frac{363}{560} \\; x^{8} + \\frac{761}{1260} \\; x^{9} + \\frac{7129}{12600} \\; x^{10}$$"
   ]
  },
  {
   "cell_type": "code",
   "execution_count": 72,
   "metadata": {},
   "outputs": [
    {
     "data": {
      "text/html": [
       "<html><script type=\"math/tex; mode=display\">\\newcommand{\\Bold}[1]{\\mathbf{#1}}\\left[1, x, \\frac{11}{12} \\, x^{2}, \\frac{5}{6} \\, x^{3}, \\frac{137}{180} \\, x^{4}, \\frac{7}{10} \\, x^{5}, \\frac{363}{560} \\, x^{6}, \\frac{761}{1260} \\, x^{7}, \\frac{7129}{12600} \\, x^{8}\\right]</script></html>"
      ],
      "text/plain": [
       "[1,\n",
       " x,\n",
       " 11/12*x^2,\n",
       " 5/6*x^3,\n",
       " 137/180*x^4,\n",
       " 7/10*x^5,\n",
       " 363/560*x^6,\n",
       " 761/1260*x^7,\n",
       " 7129/12600*x^8]"
      ]
     },
     "metadata": {},
     "output_type": "display_data"
    },
    {
     "data": {
      "image/png": "[encoded data removed]",
      "text/plain": [
       "Graphics object consisting of 1 graphics primitive"
      ]
     },
     "execution_count": 72,
     "metadata": {},
     "output_type": "execute_result"
    }
   ],
   "source": [
    "def a(n):\n",
    "    return 1/(n+1)\n",
    "\n",
    "def b(n):\n",
    "    return 1/(n+1)\n",
    "\n",
    "var('x');s=[]; L=[]\n",
    "for n in range(9):\n",
    "    sum=0; \n",
    "    for i in range(n+1):\n",
    "        sum=sum+a(i)*b(n-i)\n",
    "    L.append(sum*x^n)\n",
    "    s.append([n,sum])\n",
    "show(L)\n",
    "list_plot(s,figsize=4)"
   ]
  },
  {
   "cell_type": "markdown",
   "metadata": {},
   "source": [
    "In the next Cauchy Product, $$a_n=\\sum_{n=0}^\\infty \\frac{1}{n+1}\\qquad b_n=\\sum_{n=0}^\\infty 1$$ So $a_n$ is the harmonic series and $b_n$ has the geometric series coefficients. Does this series converge? Since it is the product of two divergent series, it diverges."
   ]
  },
  {
   "cell_type": "code",
   "execution_count": 64,
   "metadata": {},
   "outputs": [
    {
     "data": {
      "text/html": [
       "<html><script type=\"math/tex; mode=display\">\\newcommand{\\Bold}[1]{\\mathbf{#1}}\\left[1, \\frac{3}{2} \\, x, \\frac{11}{6} \\, x^{2}, \\frac{25}{12} \\, x^{3}, \\frac{137}{60} \\, x^{4}, \\frac{49}{20} \\, x^{5}, \\frac{363}{140} \\, x^{6}, \\frac{761}{280} \\, x^{7}, \\frac{7129}{2520} \\, x^{8}, \\frac{7381}{2520} \\, x^{9}\\right]</script></html>"
      ],
      "text/plain": [
       "[1,\n",
       " 3/2*x,\n",
       " 11/6*x^2,\n",
       " 25/12*x^3,\n",
       " 137/60*x^4,\n",
       " 49/20*x^5,\n",
       " 363/140*x^6,\n",
       " 761/280*x^7,\n",
       " 7129/2520*x^8,\n",
       " 7381/2520*x^9]"
      ]
     },
     "metadata": {},
     "output_type": "display_data"
    },
    {
     "data": {
      "image/png": "[encoded data removed]",
      "text/plain": [
       "Graphics object consisting of 1 graphics primitive"
      ]
     },
     "execution_count": 64,
     "metadata": {},
     "output_type": "execute_result"
    }
   ],
   "source": [
    "def a(n):\n",
    "    return 1/(n+1)\n",
    "\n",
    "def b(n):\n",
    "    return 1\n",
    "\n",
    "var('x');s=[]; L=[]\n",
    "for n in range(10):\n",
    "    sum=0; \n",
    "    for i in range(n+1):\n",
    "        sum=sum+a(i)*b(n-i)\n",
    "    L.append(sum*x^n)\n",
    "    s.append([n,sum])\n",
    "show(L)\n",
    "list_plot(s,figsize=4)"
   ]
  },
  {
   "cell_type": "code",
   "execution_count": 61,
   "metadata": {},
   "outputs": [
    {
     "data": {
      "text/html": [
       "<html><script type=\"math/tex; mode=display\">\\newcommand{\\Bold}[1]{\\mathbf{#1}}\\frac{1}{10} \\, x^{10} + \\frac{1}{9} \\, x^{9} + \\frac{1}{8} \\, x^{8} + \\frac{1}{7} \\, x^{7} + \\frac{1}{6} \\, x^{6} + \\frac{1}{5} \\, x^{5} + \\frac{1}{4} \\, x^{4} + \\frac{1}{3} \\, x^{3} + \\frac{1}{2} \\, x^{2} + x</script></html>"
      ],
      "text/plain": [
       "1/10*x^10 + 1/9*x^9 + 1/8*x^8 + 1/7*x^7 + 1/6*x^6 + 1/5*x^5 + 1/4*x^4 + 1/3*x^3 + 1/2*x^2 + x"
      ]
     },
     "metadata": {},
     "output_type": "display_data"
    },
    {
     "data": {
      "text/html": [
       "<html><script type=\"math/tex; mode=display\">\\newcommand{\\Bold}[1]{\\mathbf{#1}}x^{10} + x^{9} + x^{8} + x^{7} + x^{6} + x^{5} + x^{4} + x^{3} + x^{2} + x + 1</script></html>"
      ],
      "text/plain": [
       "x^10 + x^9 + x^8 + x^7 + x^6 + x^5 + x^4 + x^3 + x^2 + x + 1"
      ]
     },
     "metadata": {},
     "output_type": "display_data"
    }
   ],
   "source": [
    "f=taylor(-ln(1-x),x,0,10)\n",
    "show(f)\n",
    "g=taylor((1/(1-x)),x,0,10)\n",
    "show(g)"
   ]
  },
  {
   "cell_type": "code",
   "execution_count": 1,
   "metadata": {},
   "outputs": [
    {
     "data": {
      "text/html": [
       "<html><script type=\"math/tex; mode=display\">\\newcommand{\\Bold}[1]{\\mathbf{#1}}x^{5} + 5 \\, x^{4} + 10 \\, x^{3} + 10 \\, x^{2} + 5 \\, x + 1</script></html>"
      ],
      "text/plain": [
       "x^5 + 5*x^4 + 10*x^3 + 10*x^2 + 5*x + 1"
      ]
     },
     "metadata": {},
     "output_type": "display_data"
    },
    {
     "data": {
      "text/html": [
       "<html><script type=\"math/tex; mode=display\">\\newcommand{\\Bold}[1]{\\mathbf{#1}}\\left[1, 5, 10, 10, 5, 1\\right]</script></html>"
      ],
      "text/plain": [
       "[1, 5, 10, 10, 5, 1]"
      ]
     },
     "metadata": {},
     "output_type": "display_data"
    }
   ],
   "source": [
    "reset()\n",
    "def nCr(n,r):\n",
    "    return binomial(n,r)\n",
    "\n",
    "var('a b x n k'); C=[];\n",
    "u(a)=expand((x+a)^2); v(b)=expand((x+b)^3)\n",
    "w(a,b)=u*v\n",
    "show(expand(w(1,1)))\n",
    "for k in range(5+1):\n",
    "    s=nCr(2+3,k)\n",
    "    C.append(s)\n",
    "\n",
    "show(C)"
   ]
  },
  {
   "cell_type": "code",
   "execution_count": 74,
   "metadata": {},
   "outputs": [
    {
     "data": {
      "text/html": [
       "<html><script type=\"math/tex; mode=display\">\\newcommand{\\Bold}[1]{\\mathbf{#1}}b^{3} + 3 \\, b^{2} x + 3 \\, b x^{2} + x^{3}</script></html>"
      ],
      "text/plain": [
       "b^3 + 3*b^2*x + 3*b*x^2 + x^3"
      ]
     },
     "metadata": {},
     "output_type": "display_data"
    }
   ],
   "source": [
    "s=0;\n",
    "for k in range(3+1):\n",
    "    s=s+ nCr(3,k)*b^(3-k)*x^k\n",
    "show(s)"
   ]
  },
  {
   "cell_type": "code",
   "execution_count": 54,
   "metadata": {},
   "outputs": [
    {
     "data": {
      "text/html": [
       "<html><script type=\"math/tex; mode=display\">\\newcommand{\\Bold}[1]{\\mathbf{#1}}a^{2} + 2 \\, a x + x^{2}</script></html>"
      ],
      "text/plain": [
       "a^2 + 2*a*x + x^2"
      ]
     },
     "metadata": {},
     "output_type": "display_data"
    },
    {
     "data": {
      "text/html": [
       "<html><script type=\"math/tex; mode=display\">\\newcommand{\\Bold}[1]{\\mathbf{#1}}b^{3} + 3 \\, b^{2} x + 3 \\, b x^{2} + x^{3}</script></html>"
      ],
      "text/plain": [
       "b^3 + 3*b^2*x + 3*b*x^2 + x^3"
      ]
     },
     "metadata": {},
     "output_type": "display_data"
    },
    {
     "data": {
      "text/html": [
       "<html><script type=\"math/tex; mode=display\">\\newcommand{\\Bold}[1]{\\mathbf{#1}}a^{2} b^{3} + 3 \\, a^{2} b^{2} x + 2 \\, a b^{3} x + 3 \\, a^{2} b x^{2} + 6 \\, a b^{2} x^{2} + b^{3} x^{2} + a^{2} x^{3} + 6 \\, a b x^{3} + 3 \\, b^{2} x^{3} + 2 \\, a x^{4} + 3 \\, b x^{4} + x^{5}</script></html>"
      ],
      "text/plain": [
       "a^2*b^3 + 3*a^2*b^2*x + 2*a*b^3*x + 3*a^2*b*x^2 + 6*a*b^2*x^2 + b^3*x^2 + a^2*x^3 + 6*a*b*x^3 + 3*b^2*x^3 + 2*a*x^4 + 3*b*x^4 + x^5"
      ]
     },
     "metadata": {},
     "output_type": "display_data"
    },
    {
     "name": "stdout",
     "output_type": "stream",
     "text": [
      "a^{2} b^{3} + 3 \\, a^{2} b^{2} x + 2 \\, a b^{3} x + 3 \\, a^{2} b x^{2} + 6 \\, a b^{2} x^{2} + b^{3} x^{2} + a^{2} x^{3} + 6 \\, a b x^{3} + 3 \\, b^{2} x^{3} + 2 \\, a x^{4} + 3 \\, b x^{4} + x^{5}\n"
     ]
    },
    {
     "data": {
      "text/html": [
       "<html><script type=\"math/tex; mode=display\">\\newcommand{\\Bold}[1]{\\mathbf{#1}}x^{5} + 17 \\, x^{4} + 115 \\, x^{3} + 387 \\, x^{2} + 648 \\, x + 432</script></html>"
      ],
      "text/plain": [
       "x^5 + 17*x^4 + 115*x^3 + 387*x^2 + 648*x + 432"
      ]
     },
     "metadata": {},
     "output_type": "display_data"
    }
   ],
   "source": [
    "reset()\n",
    "var('a b')\n",
    "show(expand((x+a)^2))\n",
    "show(expand((x+b)^3))\n",
    "show(expand((x+a)^2*(x+b)^3))\n",
    "print(latex(expand((x+a)^2*(x+b)^3)))\n",
    "f(a,b)=expand((x+a)^2*(x+b)^3)\n",
    "show(f(4,3))"
   ]
  },
  {
   "cell_type": "code",
   "execution_count": 58,
   "metadata": {},
   "outputs": [
    {
     "data": {
      "text/html": [
       "<html><script type=\"math/tex; mode=display\">\\newcommand{\\Bold}[1]{\\mathbf{#1}}0 0 \\verb|.......| 432</script></html>"
      ],
      "text/plain": [
       "0 0 '.......     ' 432"
      ]
     },
     "metadata": {},
     "output_type": "display_data"
    },
    {
     "data": {
      "text/html": [
       "<html><script type=\"math/tex; mode=display\">\\newcommand{\\Bold}[1]{\\mathbf{#1}}0 1 \\verb|.......| 432 \\, x</script></html>"
      ],
      "text/plain": [
       "0 1 '.......     ' 432*x"
      ]
     },
     "metadata": {},
     "output_type": "display_data"
    },
    {
     "data": {
      "text/html": [
       "<html><script type=\"math/tex; mode=display\">\\newcommand{\\Bold}[1]{\\mathbf{#1}}0 2 \\verb|.......| 144 \\, x^{2}</script></html>"
      ],
      "text/plain": [
       "0 2 '.......     ' 144*x^2"
      ]
     },
     "metadata": {},
     "output_type": "display_data"
    },
    {
     "data": {
      "text/html": [
       "<html><script type=\"math/tex; mode=display\">\\newcommand{\\Bold}[1]{\\mathbf{#1}}0 3 \\verb|.......| 16 \\, x^{3}</script></html>"
      ],
      "text/plain": [
       "0 3 '.......     ' 16*x^3"
      ]
     },
     "metadata": {},
     "output_type": "display_data"
    },
    {
     "data": {
      "text/html": [
       "<html><script type=\"math/tex; mode=display\">\\newcommand{\\Bold}[1]{\\mathbf{#1}}1 0 \\verb|.......| 216 \\, x</script></html>"
      ],
      "text/plain": [
       "1 0 '.......     ' 216*x"
      ]
     },
     "metadata": {},
     "output_type": "display_data"
    },
    {
     "data": {
      "text/html": [
       "<html><script type=\"math/tex; mode=display\">\\newcommand{\\Bold}[1]{\\mathbf{#1}}1 1 \\verb|.......| 216 \\, x^{2}</script></html>"
      ],
      "text/plain": [
       "1 1 '.......     ' 216*x^2"
      ]
     },
     "metadata": {},
     "output_type": "display_data"
    },
    {
     "data": {
      "text/html": [
       "<html><script type=\"math/tex; mode=display\">\\newcommand{\\Bold}[1]{\\mathbf{#1}}1 2 \\verb|.......| 72 \\, x^{3}</script></html>"
      ],
      "text/plain": [
       "1 2 '.......     ' 72*x^3"
      ]
     },
     "metadata": {},
     "output_type": "display_data"
    },
    {
     "data": {
      "text/html": [
       "<html><script type=\"math/tex; mode=display\">\\newcommand{\\Bold}[1]{\\mathbf{#1}}1 3 \\verb|.......| 8 \\, x^{4}</script></html>"
      ],
      "text/plain": [
       "1 3 '.......     ' 8*x^4"
      ]
     },
     "metadata": {},
     "output_type": "display_data"
    },
    {
     "data": {
      "text/html": [
       "<html><script type=\"math/tex; mode=display\">\\newcommand{\\Bold}[1]{\\mathbf{#1}}2 0 \\verb|.......| 27 \\, x^{2}</script></html>"
      ],
      "text/plain": [
       "2 0 '.......     ' 27*x^2"
      ]
     },
     "metadata": {},
     "output_type": "display_data"
    },
    {
     "data": {
      "text/html": [
       "<html><script type=\"math/tex; mode=display\">\\newcommand{\\Bold}[1]{\\mathbf{#1}}2 1 \\verb|.......| 27 \\, x^{3}</script></html>"
      ],
      "text/plain": [
       "2 1 '.......     ' 27*x^3"
      ]
     },
     "metadata": {},
     "output_type": "display_data"
    },
    {
     "data": {
      "text/html": [
       "<html><script type=\"math/tex; mode=display\">\\newcommand{\\Bold}[1]{\\mathbf{#1}}2 2 \\verb|.......| 9 \\, x^{4}</script></html>"
      ],
      "text/plain": [
       "2 2 '.......     ' 9*x^4"
      ]
     },
     "metadata": {},
     "output_type": "display_data"
    },
    {
     "data": {
      "text/html": [
       "<html><script type=\"math/tex; mode=display\">\\newcommand{\\Bold}[1]{\\mathbf{#1}}2 3 \\verb|.......| x^{5}</script></html>"
      ],
      "text/plain": [
       "2 3 '.......     ' x^5"
      ]
     },
     "metadata": {},
     "output_type": "display_data"
    }
   ],
   "source": [
    "reset()\n",
    "var('x')\n",
    "a=4; b=3; m=2; n=3;\n",
    "A=[a^2,2*a*x,x^2];\n",
    "B=[b^3, 3*b^2*x,3*b*x^2, x^3]\n",
    "\n",
    "for i in range(2+1):\n",
    "    for j in range(3+1):\n",
    "        #print(i,A[i])\n",
    "        show(i,j,\".......     \",A[i]*B[j])\n",
    "        "
   ]
  },
  {
   "cell_type": "code",
   "execution_count": null,
   "metadata": {},
   "outputs": [],
   "source": []
  }
 ],
 "metadata": {
  "kernelspec": {
   "display_name": "SageMath 9.1",
   "language": "sage",
   "name": "sagemath"
  },
  "language_info": {
   "codemirror_mode": {
    "name": "ipython",
    "version": 3
   },
   "file_extension": ".py",
   "mimetype": "text/x-python",
   "name": "python",
   "nbconvert_exporter": "python",
   "pygments_lexer": "ipython3",
   "version": "3.7.3"
  }
 },
 "nbformat": 4,
 "nbformat_minor": 2
}
