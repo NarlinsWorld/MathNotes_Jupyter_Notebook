{
 "cells": [
  {
   "cell_type": "code",
   "execution_count": 27,
   "metadata": {},
   "outputs": [
    {
     "data": {
      "application/javascript": [
       "IPython.notebook.set_autosave_interval(0)"
      ],
      "text/plain": [
       "<IPython.core.display.Javascript object>"
      ]
     },
     "metadata": {},
     "output_type": "display_data"
    },
    {
     "name": "stdout",
     "output_type": "stream",
     "text": [
      "Autosave disabled\n"
     ]
    }
   ],
   "source": [
    "%autosave 0"
   ]
  },
  {
   "cell_type": "markdown",
   "metadata": {},
   "source": [
    "I've implemented Newton's Method by two slightly different codes.\n",
    "$$f_{n+1}=f(n)-\\frac{f(n)}{f^{\\prime}(n)}$$\n",
    "1. Use a list named S and set S=[guess]. That is, S[0]=guess.\n",
    "2. From there, we just iterate the formula a finite number of times until the output quits changing.\n",
    "3. For the second method, no list is created and the values are stuffed back into guess to iterate."
   ]
  },
  {
   "cell_type": "code",
   "execution_count": 57,
   "metadata": {},
   "outputs": [
    {
     "name": "stdout",
     "output_type": "stream",
     "text": [
      "0.000000000000000\n",
      "0.125000000000000\n",
      "0.129454926624738\n",
      "0.129461280789465\n",
      "0.129461280802440\n",
      "0.129461280802440\n",
      "0.129461280802440\n",
      "0.129461280802440\n"
     ]
    }
   ],
   "source": [
    "guess=0;\n",
    "f(x)=x^3+2*x^2-8*x+1;\n",
    "fp(x)=3*x^2+4*x-8;\n",
    "S=[guess];\n",
    "for n in range(8):\n",
    "    S.append(S[n]-f(S[n])/fp(S[n]))\n",
    "    print(S[n].n());"
   ]
  },
  {
   "cell_type": "code",
   "execution_count": 54,
   "metadata": {},
   "outputs": [
    {
     "name": "stdout",
     "output_type": "stream",
     "text": [
      "-4.04166666666667\n",
      "-4.04096479578761\n",
      "-4.04096459487748\n",
      "-4.04096459487746\n",
      "-4.04096459487746\n"
     ]
    }
   ],
   "source": [
    "guess=-4; prior=1;\n",
    "f(x)=x^3+2*x^2-8*x+1;\n",
    "fp(x)=3*x^2+4*x-8;\n",
    "while(abs(guess-prior)>10^(-14)):\n",
    "    prior=guess\n",
    "    guess=(guess-f(guess)/fp(guess))   \n",
    "    print(guess.n())"
   ]
  },
  {
   "cell_type": "code",
   "execution_count": null,
   "metadata": {},
   "outputs": [],
   "source": []
  }
 ],
 "metadata": {
  "kernelspec": {
   "display_name": "SageMath 9.3",
   "language": "sage",
   "name": "sagemath"
  },
  "language_info": {
   "codemirror_mode": {
    "name": "ipython",
    "version": 3
   },
   "file_extension": ".py",
   "mimetype": "text/x-python",
   "name": "python",
   "nbconvert_exporter": "python",
   "pygments_lexer": "ipython3",
   "version": "3.7.10"
  }
 },
 "nbformat": 4,
 "nbformat_minor": 2
}
