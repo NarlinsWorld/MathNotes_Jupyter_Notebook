{
 "cells": [
  {
   "cell_type": "markdown",
   "metadata": {},
   "source": [
    "Let's look at the harmonic series, $f(n)=1/n$, and we will sketch in the uppersum and lowersum as rectangles. Based on the uppersum, the area under the curve is  approximately $$A=1+\\frac{1}{2}+\\frac{1}{3}+\\frac{1}{4}+\\cdots$$ That is exactly also the curve $f(n)=1/n$, but each of the rectangles overestimates the area. $$Area\\approx \\sum_{n=1}^\\infty \\frac{1}{n}>\\int_1^\\infty \\frac{1}{n}dx$$\n",
    "<img src=\"../Images/IntegralTest1.png\" height=50% width=50% />\n",
    "The improper integral evaluates to $\\ln(|n|)$ and we can take the limit. \n",
    "$$\\begin{aligned}\n",
    "\\int_1^\\infty \\frac{1}{n}dn &=\\lim_{x\\rightarrow\\infty}\\ln(n)\\Big|_1^x\\\\\n",
    "&=\\lim_{x\\rightarrow\\infty}(\\ln(x)-\\ln\\;1)\\\\\n",
    "&=\\infty\n",
    "\\end{aligned}\n",
    "$$\n",
    "Since the limit is infinite, the integral is divergent and we have shown that the harmonic series has a value even greater than infinity! That is, the harmonic series too is divergent. The improper integral and the series had the same convergence property."
   ]
  },
  {
   "cell_type": "markdown",
   "metadata": {},
   "source": [
    "Now we will look at $$\\sum_{n=1}^\\infty \\frac{1}{n^2}.$$ We decided that this converged because its sequence of terms had the limit zero.\n",
    "$$Area = \\int^x_1 \\frac{1}{n^2}dn=-\\frac{1}{n}\\Big|_1^x=1-\\frac{1}{x}\\\\\n",
    "$$\n",
    "Now let's evaluate the limit.\n",
    "$$Area = \\lim_{x\\rightarrow\\infty}\\left(1-\\frac{1}{x} \\right)=1$$ which proves that this integral converges.<br><br>\n",
    "As before, we will compare to the summed rectangles, but this time we will use the lowersum. \n",
    "<img src=\"../Images/IntegralTest2.png\" height=50% width=50% />Now if we look at area for the rectangles:\n",
    "$$Area=\\frac{1}{2^2}+\\frac{1}{3^2}+\\frac{1}{4^2}\\cdots$$\n",
    "Because we used the lowersum for the rectangles, the sum underestimates the area given by the integral. However, let's compare this set of lowersum rectangles with the uppersum rectangles for this particular function.\n",
    "<img src=\"../Images/IntegralTest3.png\" height=75% width=75% /> Look closely and we will see that progressing to infinity, the only difference in area is that the uppersum on the right has one extra rectangle with $area=1.$ <br>\n",
    "We have already shown that the integral area is $1$ and now we have shown that the Uppersum rectangle area is exactly $1$ greater than the Lowersum rectangle area, hence the series $$\\sum_{n=1}^\\infty\\frac{1}{n^2}<2$$ At first blush, it seems that we have bounded it, but in fact, showing that it is less than $2$ doesn't establish that it doesn't go to negative infinity. However, we know that this is an increasing monotonic sequence with an upper bound of two, hence it is convergent."
   ]
  },
  {
   "cell_type": "markdown",
   "metadata": {},
   "source": [
    "<h3>Integral Test for Convergence</h3>\n",
    "Given a series, $\\sum_{n=1}^{\\infty}a_{n}$ and $f(n)=a_{n},$ for $n\\ge1.$ The function, $f(n)$ is used to compute each term and it must be non-negative and decreasing.  Then $\\sum_{n=1}^{\\infty}a_{n}$ converges if and only if $\\int_{1}^{\\infty}f(x)dx$ converges.<br>\n",
    "If the Series begins at zero, instead of one, then the integral must too begin at zero."
   ]
  },
  {
   "cell_type": "markdown",
   "metadata": {},
   "source": [
    "<h4>Proof</h4>\n",
    "   Given series $\\sum_{n=1}^\\infty a_n$ and that  $f(n)=a_n$. The function, $f(n)$ has a finite integral in the interval $(1,\\infty)$.  By constructing the Lowersum of rectangles for the series, we know that the area of the series is less than the area of the integral.\n",
    "    $$\\sum_{k=2}^n a_k=a_2+a_3+\\cdots a_n<\\int_1^n f(x)dx$$\n",
    "Because $f(x)$ is positive, $$\\int_1^n f(x)dx<\\int_1^\\infty f(x)dx$$\n",
    "Thus $$\\sum_{k=2}^{n}a_k<\\int_1^n f(x)dx<\\int_1^\\infty f(x)dx$$\n",
    "But because our series starts at $1$ we have to add back the first term:\n",
    "$$\\sum_{k=1}^n a_k=a_1+\\sum_{k=2}^n a_k<a_1+\\int_1^\\infty f(x)dx=\\{finite\\}$$\n",
    "Thus the series is bounded above and because its terms constitute a monotonic increasing sequence, we have established convergence. <br><br>\n",
    "\n",
    "We know that the Uppersum of rectangles is greater than the integral, so if the integral evaluates to infinity, then the series also evaluates to infinity and thus is divergent."
   ]
  },
  {
   "cell_type": "code",
   "execution_count": null,
   "metadata": {},
   "outputs": [],
   "source": []
  }
 ],
 "metadata": {
  "kernelspec": {
   "display_name": "SageMath 9.3",
   "language": "sage",
   "name": "sagemath"
  },
  "language_info": {
   "codemirror_mode": {
    "name": "ipython",
    "version": 3
   },
   "file_extension": ".py",
   "mimetype": "text/x-python",
   "name": "python",
   "nbconvert_exporter": "python",
   "pygments_lexer": "ipython3",
   "version": "3.7.10"
  }
 },
 "nbformat": 4,
 "nbformat_minor": 2
}
