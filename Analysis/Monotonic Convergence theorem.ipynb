{
 "cells": [
  {
   "cell_type": "markdown",
   "metadata": {},
   "source": [
    "Let $r$ be any number in the range -1 to 1. Show that the sequence $r^n$ converges to $0.$  \n",
    "Assume $0\\le r < 1$ then whatever $r^n$ may be, $\\left(r\\cdot r^n\\right)$ is going to be a fraction of it. $$r^{n+1}=r\\cdot r^n \\le r^n$$ and thus the sequence given by $r^n$ is decreasing and bounded below by zero. Then, by the Monotone Convergence Theorem the lower bound is zero.<br><br>\n",
    "Similarly, Assume $-1 < r \\le 0$ then <br>Case 1; n is odd, $$r^{n+1}=r\\cdot r^n \\ge r^n$$ and thus the sequence given by $r^n$ is increasing and bounded above by zero. Then, by the Monotone Convergence Theorem the upper bound is zero.\n",
    "<br>Case 2: n is even, $$r^{n+1}=r\\cdot r^n \\le r^n$$ and thus the sequence given by $r^n$ is decreasing and bounded below by zero. Then, by the Monotone Convergence Theorem the lower bound is zero.\n",
    "\n",
    "<br><br><span style='color:red;'>Monotonic Convergence Theorem:</span> A sequence of real numbers, which is increasing and bounded above (Case 1) has a limit at its supremum. Likewise, a sequence of real numbers, which is deceasing and bounded below (Case 2) has a limit at its infimum.<br>\n",
    "Proof for Case 1: Let $a_n$ be bounded with an upper bound. Then by definition it has  a supremum.\n",
    "$$c=sup\\{a_n | n\\in\\mathbb{N}\\}$$\n",
    "Let $\\epsilon>0$ then there exists $a_N>c-\\epsilon$ and $\\forall n>N,$ $$a_n>a_N>c-\\epsilon.\\tag{Eq 1} \\label{Eq 1}$$\n",
    "Taking just the left and right terms, $a_n>c-\\epsilon$ and then exchanging sides, $$c-\\epsilon<a_n$$\n",
    "<img src=../images/Monotonic_Convergence.png width=256 height=504>\n",
    "Because c is a supremum, we can write <span style=\"color:blue;\">$$c-\\epsilon<a_n\\le c$$</span>Then if we add $\\epsilon$ to the right side, it permits removal of the \"less than or equal to\". \n",
    "$$\\mathbf{c-\\epsilon<a_n<c+\\epsilon}$$  Next, we can subtract $c$ from all three pieces:\n",
    "$$\\mathbf{-\\epsilon<a_n-c<\\epsilon}$$which is equivalent to $$\\mathbf{|a_n-c|<\\epsilon}\\label{Eq 2}\\tag{Eq 2}.$$ $\\ref{Eq 2}$ is also clear from the figure if we interpret $|a_n-c|$ as the distance between $c$ and $a_n$ and it is clear that $|a_n-c|<\\epsilon.$ This proves that $a_n$ converges to $c.$\n",
    "<hr style=\"border-top: 1px solid green;\">\n",
    "Case 2: Let $a_n$ be bounded below by $\\inf\\{a_n | n\\in \\mathbb{N}\\}=b$<br>\n",
    "Let $\\mathbf{\\epsilon>0}$ then $\\exists a_N<b+\\epsilon \\quad \\forall n>N,$\n",
    "$$\\mathbf{a_n\\le a_N<b+\\epsilon}$$ From just the left and right terms,\n",
    "$$\\mathbf{a_n<b+\\epsilon}$$ and since $b$ is an infimum, $$\\mathbf{b\\le a_n<b+\\epsilon}$$ To remove the \"less than or equal to\", we can subtract $\\epsilon$ from $b.$\n",
    "$$\\mathbf{b-\\epsilon<a_n<b+\\epsilon}$$ and like before, subtract $b$ from all three terms.\n",
    "$$\\mathbf{-\\epsilon<a_n-b<\\epsilon}$$ which is equivalent to $$\\mathbf{|a_n-b|<\\epsilon}$$ This\n",
    "proves that $a_n$ converges to $b.$"
   ]
  },
  {
   "cell_type": "code",
   "execution_count": null,
   "metadata": {},
   "outputs": [],
   "source": []
  }
 ],
 "metadata": {
  "kernelspec": {
   "display_name": "SageMath 9.1",
   "language": "sage",
   "name": "sagemath"
  },
  "language_info": {
   "codemirror_mode": {
    "name": "ipython",
    "version": 3
   },
   "file_extension": ".py",
   "mimetype": "text/x-python",
   "name": "python",
   "nbconvert_exporter": "python",
   "pygments_lexer": "ipython3",
   "version": "3.7.3"
  }
 },
 "nbformat": 4,
 "nbformat_minor": 2
}
