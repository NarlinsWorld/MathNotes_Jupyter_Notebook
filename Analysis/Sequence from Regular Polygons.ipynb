{
 "cells": [
  {
   "cell_type": "markdown",
   "metadata": {},
   "source": [
    "The perimeter of a regular polygon is $Perimeter=\\text{Sidelength}\\cdot{\\text{number of sides}}\\Longrightarrow \\color{blue}{p=s\\cdot n}$\n",
    "\n",
    "The apothem ($a$) is the shortest distance from the center to a side. In the equation below, $\\frac{\\pi}{n}$ comes from the central angle $\\frac{360^{\\circ}}{n}\\text{ and half of that angle is }\\frac{\\pi}{n}.$\n",
    "$$a=\\frac{s}{2\\tan\\left(\\frac{\\pi}{n}\\right)}$$\n",
    "\n",
    "The area ($A$) is $$A=\\frac{p\\cdot a}{2}.$$\n",
    "So a composite area can be given either with perimeter or just sidelength and number of sides.\n",
    "$$ A=\\frac{1}{4}\\frac{ns^2}{\\tan\\left( \\frac{\\pi}{n} \\right)} \\text{  or  }\n",
    "   A=\\frac{1}{4}\\frac{p^2/n}{\\tan\\left( \\frac{\\pi}{n} \\right)}\n",
    "$$\n",
    "\n",
    "What we want to do is look at the convergence of area as the perimeter is held constant and the number of sides increase linearly. Since this approximates the Area of a circle with radius=apothem, it should converge to $\\pi r^2$ where r=apothem."
   ]
  },
  {
   "cell_type": "code",
   "execution_count": 56,
   "metadata": {},
   "outputs": [
    {
     "name": "stdout",
     "output_type": "stream",
     "text": [
      "0.0795728882507760\n",
      "theoretical area= 0.0795774715459477\n"
     ]
    },
    {
     "data": {
      "image/png": "[encoded data removed]",
      "text/plain": [
       "Graphics object consisting of 1 graphics primitive"
      ]
     },
     "metadata": {},
     "output_type": "display_data"
    }
   ],
   "source": [
    "C=[]; #a container for the data list\n",
    "numsides=240; #the maximum number of sides to look at\n",
    "p=1; #perimeter will be constant at 1 unit.\n",
    "for n in range(3,numsides): #n is the number of sides\n",
    "    s=p/n; #calc the sidelength\n",
    "    a=s/(2*tan(pi/n));  #calc the apothem\n",
    "    A=p*a/2; #calc the Area\n",
    "    C.append([n,A]);\n",
    "print(C[-1][1].n()) #the last area at largest n\n",
    "r=p/(2*pi) #radius of the circle at infinity\n",
    "print('theoretical area=',(pi*r^2).n())\n",
    "#for i in range(numsides-3):\n",
    "#   show(C[i]);\n",
    "G=list_plot(C,figsize=4,ymin=0)\n",
    "show(G)"
   ]
  },
  {
   "cell_type": "markdown",
   "metadata": {},
   "source": [
    "Derive the apothem formula.\n",
    "<img src=\"../Images/RegularPolgon.png\" height='271px' width='284px'>\n",
    "In a regular polygon there are $n$ equal sides, forming $n$ isosceles triangles with the center point. \n",
    "$\n",
    "\\text{The central angle of a regular polygon is }\\frac{2\\pi}{n}\\\\\n",
    "\\text{Half of that is }\\frac{\\pi}{n}. \\text{  }h \\text{ is the apothem and it }\\\\\n",
    "\\text{can be found from }\\tan\\left(\\frac{\\alpha}{2}\\right)=\\frac{s/2}{h}\\Longrightarrow\\tan\\left(\\frac{\\pi}{n}\\right)=\\frac{s/2}{h} \\\\\n",
    "h=\\displaystyle\\frac{\\displaystyle\\frac{s}{2}}{\\displaystyle\\tan\\left(\\frac{\\pi}{n}\\right)}\n",
    "$\n",
    "$$h=\\frac{s}{2\\tan\\left(\\frac{\\pi}{n}\\right)}\n",
    "$$"
   ]
  },
  {
   "cell_type": "code",
   "execution_count": null,
   "metadata": {},
   "outputs": [],
   "source": []
  }
 ],
 "metadata": {
  "kernelspec": {
   "display_name": "SageMath 9.1",
   "language": "sage",
   "name": "sagemath"
  },
  "language_info": {
   "codemirror_mode": {
    "name": "ipython",
    "version": 3
   },
   "file_extension": ".py",
   "mimetype": "text/x-python",
   "name": "python",
   "nbconvert_exporter": "python",
   "pygments_lexer": "ipython3",
   "version": "3.7.3"
  }
 },
 "nbformat": 4,
 "nbformat_minor": 2
}
