{
 "cells": [
  {
   "cell_type": "markdown",
   "metadata": {},
   "source": [
    "<font size='4'>\n",
    "The sequence to be looked at here is $n^{1/n}$<br>\n",
    "We will compute a few terms and guess the limit.\n",
    "    <br>Based on this example plot, we conclude that it converges to $1.$\n",
    "    The first 10 terms of the sequence are<br>\n",
    "    $$ \\left\\{ 1, \\sqrt{2}, \\sqrt[3]{3}, \\sqrt[4]{4}, \\sqrt[5]{5}, \\sqrt[6]{6}, \\sqrt[7]{7}, \\sqrt[8]{8}, \\sqrt[9]{9}, \\sqrt[10]{10} \\right\\} $$\n",
    "1.00000000000000<br>\n",
    "1.41421356237310<br>\n",
    "1.44224957030741<br>\n",
    "1.41421356237310<br>\n",
    "1.37972966146121<br>\n",
    "1.34800615459728<br>\n",
    "1.32046924775612<br>\n",
    "1.29683955465101<br>\n",
    "1.27651800700924<br>\n",
    "1.25892541179417<br>\n",
    "    \n",
    "</font>"
   ]
  },
  {
   "cell_type": "code",
   "execution_count": 5,
   "metadata": {},
   "outputs": [
    {
     "data": {
      "image/png": "[encoded data removed]",
      "text/plain": [
       "Graphics object consisting of 1 graphics primitive"
      ]
     },
     "metadata": {},
     "output_type": "display_data"
    },
    {
     "name": "stdout",
     "output_type": "stream",
     "text": [
      "1.00092154050608\n"
     ]
    }
   ],
   "source": [
    "A=[]; r=10000;\n",
    "for n in range(1,r):\n",
    "    val=n^(1/n);\n",
    "    A.append([n,val]);\n",
    "Q=list_plot(A, size='20');\n",
    "show(Q,figsize='4');\n",
    "print(A[-1][1].n())"
   ]
  },
  {
   "cell_type": "markdown",
   "metadata": {},
   "source": [
    "<hr style='border-top: 1px blue solid;'>\n",
    "We will prove that $n^{1/n}$ converges to $1.$\n",
    "Recall Bernoulli's inequality: $$(1+x)^n \\ge 1+nx, \\quad(x\\ge -1)$$ and let $x=\\frac{1}{\\sqrt{n}}$<br>\n",
    "Replacing the right side with $x=\\frac{1}{\\sqrt{n}}$\n",
    "$$1+n\\left( \\frac{1}{\\sqrt{n}} \\right)=1+\\sqrt{n}$$ \n",
    "By Bernoulli's inequality, $$(1+x)^n=\\left( 1+\\frac{1}{\\sqrt{n}}  \\right)^n \\ge 1+\\sqrt{n}$$\n",
    "Next, square both sides and take the $n^{th}$ root of both sides.\n",
    "$$\\left(1+\\frac{1}{\\sqrt{n}}\\right)^2 \\ge \\Big( 1+\\sqrt{n} \\Big)^{2/n}$$\n",
    "As $n\\rightarrow \\infty,$ the left side goes to 1. On the right side, we can say that \n",
    "$$\\Big( 1+\\sqrt{n} \\Big)^{2/n}>\\Big(\\sqrt{n}\\Big)^{2/n}=n^{1/n}$$\n",
    "but, $n^{1/n}\\ge 1,$ therefore, it is sandwiched between $1$ and $1$ and thus has limit $1$\n",
    "<hr style='border-top: 1px blue solid;'>\n"
   ]
  },
  {
   "cell_type": "code",
   "execution_count": null,
   "metadata": {},
   "outputs": [],
   "source": []
  },
  {
   "cell_type": "markdown",
   "metadata": {},
   "source": [
    "<hr style='border-top: 1px blue solid;'>\n",
    "<strong>Proof of Bernoulli' inequality.</strong>\n",
    "This is a duplicate of my proof found in \"Induction for Proofs\".<br>\n",
    "Prove that for each positive integer $n$ that\n",
    "$$(1+x)^n \\ge 1+nx, \\quad(x\\ge -1)$$\n",
    "$P(n): (1+x)^n \\ge 1+nx$ for $(x\\ge -1)$<br>\n",
    "<span style='color: blue;'>Base Case:</span>\n",
    "Let $n=1$ then $(1+x)^1 = 1+1\\cdot x$ The base case is proved.<br>\n",
    "<span style='color: red;'>Hypothesis:</span>\n",
    "Assume $(1+x)^{k} \\ge 1+kx$<br>\n",
    "<span style='color: red;'>Show:</span> P(n) is true for $n=k+1$ that is, $$(1+x)^{k+1}\\ge 1+(k+1)x \\text{ when } (x \\ge -1). \\tag{eq 1}$$\n",
    "Begin with our assumption $$(1+x)^k \\ge 1+kx$$\n",
    "Multiply both sides by $(1+x)$\n",
    "$$(1+x)^k(1+x) \\ge (1+kx)(1+x)$$\n",
    "On the left, we have $(1+x)^{k+1}.$ which is like eq 1. We will work on the right.\n",
    "\\begin{align}\n",
    "& \\ge (1+kx)(1+x)\\\\\n",
    "& \\ge 1+kx+x+kx^2\\\\\n",
    "& \\ge 1+(k+1)x+kx^2\\\\\n",
    "& \\ge 1+(k+1)x \n",
    "\\end{align}\n",
    "The last line being true because $(x\\ge -1)$ $\\qquad\\blacksquare$"
   ]
  },
  {
   "cell_type": "code",
   "execution_count": null,
   "metadata": {},
   "outputs": [],
   "source": []
  }
 ],
 "metadata": {
  "kernelspec": {
   "display_name": "SageMath 9.1",
   "language": "sage",
   "name": "sagemath"
  },
  "language_info": {
   "codemirror_mode": {
    "name": "ipython",
    "version": 3
   },
   "file_extension": ".py",
   "mimetype": "text/x-python",
   "name": "python",
   "nbconvert_exporter": "python",
   "pygments_lexer": "ipython3",
   "version": "3.7.3"
  }
 },
 "nbformat": 4,
 "nbformat_minor": 2
}
