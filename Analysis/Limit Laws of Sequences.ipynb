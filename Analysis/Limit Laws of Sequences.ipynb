{
 "cells": [
  {
   "cell_type": "markdown",
   "metadata": {},
   "source": [
    "<strong style='color:red;'>Theorem:</strong> Two convergent sequences when added, have a limit that is the sum of the two sequence limits.<br>\n",
    "A convincing example is given further down this page.<br>\n",
    "This proof comes from https://math.stackexchange.com/questions/1214225/my-proof-that-sum-of-convergent-sequences-converges-to-sum-of-limits <br>\n",
    "Proof: Let $(a_n)_{n\\in N}$ and $(b_n)_{n\\in N}$ be convergent real sequences.<br>\n",
    "Let $A=\\lim_{n\\rightarrow\\infty}a_n$<br>\n",
    "Let $B=\\lim_{n\\rightarrow\\infty}b_n$<br>\n",
    "Let $\\varepsilon>0.$ We will prove that there is $N\\in\\mathbb{N}$ such that, for every natural number m>N, we have $$\\left| a_m+b_m-A-B\\right|<\\varepsilon. $$\n",
    "By assumption, there is $N_a∈N$ such that, for every natural number $m>N_a$, we have\n",
    "$$\\left|a_m−A\\right|<\\frac{\\varepsilon}{2}.\\tag{eq1}$$\n",
    "and similarly for $N_b\\in\\mathbb{N}$ and $m>N_b.$\n",
    "$$\\left|b_m-B\\right|<\\frac{\\varepsilon}{2}. \\tag{eq2}$$\n",
    "We choose $N:=\\max(N_a,N_b).$  Let $m\\in\\mathbb{N}$ such that $m>N.$ For this $m$, each of eq1 and eq2 holds. Thus, we may add the inequalities to obtain\n",
    "$$\\begin{equation*}\n",
    "\\begin{split}\n",
    "\\varepsilon = \\varepsilon / 2 + \\varepsilon / 2\n",
    "& >\n",
    "\\left|\n",
    "  a_m -\n",
    "  A\n",
    "\\right|\n",
    "+\n",
    "\\left|\n",
    "  b_m -\n",
    "  B\n",
    "\\right| \\\\\n",
    "& \\ge\n",
    "\\left|\n",
    "  a_m - A + b_m - B\n",
    "\\right| &\\quad& \\text{by subadditivity of abs. val.} \\\\\n",
    "& =\n",
    "\\left|\n",
    "  a_m + b_m -A - B\n",
    "\\right| .\n",
    "\\end{split}\n",
    "\\end{equation*}$$\n",
    "\n",
    "Hence, by transitivity,\n",
    "$$\\begin{equation*}\n",
    "\\varepsilon >\n",
    "\\left|\n",
    "  a_m + b_m - A -  B\n",
    "\\right|,\n",
    "\\end{equation*}$$\n",
    "QED."
   ]
  },
  {
   "cell_type": "markdown",
   "metadata": {},
   "source": [
    "<hr style='border-top: solid 1px blue;'>\n",
    "<font size='5'>Example:</font> <span style='color: blue;'>(This is the Basel Problem: Fourteen proofs compiled by Robin Chapman.\n",
    "http://empslocal.ex.ac.uk/people/staff/rjchapma/etc/zeta2.pdf)</span><br> Suppose we have a series as follows. First I will write it in Geogebra notation:\n",
    "$$A:=Sequence(Sum(1/n^2,n,1,j),j,1,10)$$\n",
    "and then I will write it in a math notation.\n",
    "$$\\left(\\sum_{n=1}^{1}\\frac{1}{n^2},\\sum_{n=1}^{2}\\frac{1}{n^2},\\sum_{n=1}^{3}\\frac{1}{n^2},\\cdots,\\sum_{n=1}^{\\infty}\\frac{1}{n^2}\\right)=\\left(\\sum_{n=1}^{k}\\frac{1}{n^2}\\right)_{k=1}^{\\infty}$$"
   ]
  },
  {
   "cell_type": "code",
   "execution_count": 12,
   "metadata": {},
   "outputs": [
    {
     "name": "stdout",
     "output_type": "stream",
     "text": [
      "[1, 5/4, 49/36, 205/144, 5269/3600, 5369/3600, 266681/176400, 1077749/705600]\n"
     ]
    }
   ],
   "source": [
    "A=[];A_1=[];\n",
    "for j in range(2,10):\n",
    "    sum=0;\n",
    "    for n in range(1,j):\n",
    "        sum=sum+1/n^2;\n",
    "    A.append([n,sum]);\n",
    "    A_1.append(sum)\n",
    "print(A_1)"
   ]
  },
  {
   "cell_type": "markdown",
   "metadata": {},
   "source": [
    "Now we will do a second sequence, first in Geogebra notation. $$B:=Sequence(Sum(1/n^3,n,1,j),j,1,10)$$\n",
    "and then in math notation,\n",
    "$$\\left(\\sum_{n=1}^{1}\\frac{1}{n^3},\\sum_{n=1}^{2}\\frac{1}{n^3},\\sum_{n=1}^{3}\\frac{1}{n^3},\\cdots,\\sum_{n=1}^{\\infty}\\frac{1}{n^3}\\right)=\\left(\\sum_{n=1}^{k}\\frac{1}{n^3}\\right)_{k=1}^{\\infty}$$\n",
    "It is obvious that for large n, we approach a limit with both sequences, and that since we are just adding the two sequences together term by term, then the limit of the added sequences will just be the sum of limits of each sequence."
   ]
  },
  {
   "cell_type": "code",
   "execution_count": 19,
   "metadata": {},
   "outputs": [
    {
     "name": "stdout",
     "output_type": "stream",
     "text": [
      "1.63478186977983\n"
     ]
    }
   ],
   "source": [
    "#Find the 100th term of sequence A_1.\n",
    "A_1=[];\n",
    "for j in range(2,100):\n",
    "    sum=0;\n",
    "    for n in range(1,j):\n",
    "        sum=sum+1/n^2;\n",
    "    A_1.append(sum);\n",
    "print(A_1[-1].n());"
   ]
  },
  {
   "cell_type": "code",
   "execution_count": 18,
   "metadata": {},
   "outputs": [
    {
     "name": "stdout",
     "output_type": "stream",
     "text": [
      "1.20200537004953\n"
     ]
    }
   ],
   "source": [
    "#Find the 100th term of sequence B_1.\n",
    "B=[];B_1=[];\n",
    "for j in range(2,100):\n",
    "    sum=0;\n",
    "    for n in range(1,j):\n",
    "        sum=sum+1/n^3;\n",
    "    B.append([n,sum]);\n",
    "    B_1.append(sum)\n",
    "print(B_1[-1].n())\n"
   ]
  },
  {
   "cell_type": "code",
   "execution_count": 21,
   "metadata": {},
   "outputs": [
    {
     "name": "stdout",
     "output_type": "stream",
     "text": [
      "[1, 5/4, 49/36, 205/144, 5269/3600, 5369/3600, 266681/176400, 1077749/705600]\n"
     ]
    },
    {
     "data": {
      "image/png": "[encoded data removed]",
      "text/plain": [
       "Graphics object consisting of 1 graphics primitive"
      ]
     },
     "execution_count": 21,
     "metadata": {},
     "output_type": "execute_result"
    }
   ],
   "source": [
    "A=[];A_1=[];\n",
    "for j in range(2,10):\n",
    "    sum=0;\n",
    "    for n in range(1,j):\n",
    "        sum=sum+1/n^2;\n",
    "    A.append([n,sum]);\n",
    "    A_1.append(sum)\n",
    "print(A_1)\n",
    "list_plot(A)"
   ]
  },
  {
   "cell_type": "code",
   "execution_count": null,
   "metadata": {},
   "outputs": [],
   "source": []
  }
 ],
 "metadata": {
  "kernelspec": {
   "display_name": "SageMath 9.1",
   "language": "sage",
   "name": "sagemath"
  },
  "language_info": {
   "codemirror_mode": {
    "name": "ipython",
    "version": 3
   },
   "file_extension": ".py",
   "mimetype": "text/x-python",
   "name": "python",
   "nbconvert_exporter": "python",
   "pygments_lexer": "ipython3",
   "version": "3.7.3"
  }
 },
 "nbformat": 4,
 "nbformat_minor": 2
}
