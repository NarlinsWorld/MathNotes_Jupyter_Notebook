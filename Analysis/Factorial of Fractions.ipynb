{
 "cells": [
  {
   "cell_type": "markdown",
   "metadata": {},
   "source": [
    "A video explanation is found here:<br>\n",
    "https://www.youtube.com/watch?v=UWeMVUi9GPY"
   ]
  },
  {
   "cell_type": "code",
   "execution_count": null,
   "metadata": {},
   "outputs": [],
   "source": [
    "print(factorial(-1/4).n())\n",
    "print(gamma(3/4).n()) #t-1=-1/4  so t=3/4 to move from factorial to gamma.\n",
    "print(factorial(1/2).n())\n",
    "print(factorial(-1/2).n()) #same as gamma(1/2) in geogebra\n",
    "print(gamma(1/2).n())"
   ]
  },
  {
   "cell_type": "code",
   "execution_count": 7,
   "metadata": {},
   "outputs": [
    {
     "name": "stdout",
     "output_type": "stream",
     "text": [
      "4\n",
      "1.33333333333333\n",
      "2.22222222222222\n",
      "2.81481481481481\n",
      "3.20987654320988\n",
      "3.47325102880658\n",
      "3.64883401920439\n",
      "3.76588934613626\n",
      "3.84392623075751\n"
     ]
    }
   ],
   "source": [
    "x=2;sum=0;\n",
    "print(x^2/(3-x))\n",
    "for n in range(8):\n",
    "    sum=sum+(1/3)^(n+1)*x^(n+2)\n",
    "    print(sum.n())"
   ]
  },
  {
   "cell_type": "code",
   "execution_count": 13,
   "metadata": {},
   "outputs": [
    {
     "name": "stdout",
     "output_type": "stream",
     "text": [
      "1.01000000000000\n",
      "1.00999999999991\n"
     ]
    }
   ],
   "source": [
    "print(102.01/101)\n",
    "print(112.682503013187/111.566834666532)"
   ]
  },
  {
   "cell_type": "code",
   "execution_count": null,
   "metadata": {},
   "outputs": [],
   "source": []
  }
 ],
 "metadata": {
  "kernelspec": {
   "display_name": "SageMath 9.1",
   "language": "sage",
   "name": "sagemath"
  },
  "language_info": {
   "codemirror_mode": {
    "name": "ipython",
    "version": 3
   },
   "file_extension": ".py",
   "mimetype": "text/x-python",
   "name": "python",
   "nbconvert_exporter": "python",
   "pygments_lexer": "ipython3",
   "version": "3.7.3"
  }
 },
 "nbformat": 4,
 "nbformat_minor": 2
}
