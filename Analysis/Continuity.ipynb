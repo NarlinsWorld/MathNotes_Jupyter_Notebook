{
 "cells": [
  {
   "cell_type": "code",
   "execution_count": 2,
   "metadata": {
    "scrolled": true
   },
   "outputs": [
    {
     "data": {
      "application/javascript": [
       "IPython.notebook.set_autosave_interval(0)"
      ],
      "text/plain": [
       "<IPython.core.display.Javascript object>"
      ]
     },
     "metadata": {},
     "output_type": "display_data"
    },
    {
     "name": "stdout",
     "output_type": "stream",
     "text": [
      "Autosave disabled\n"
     ]
    }
   ],
   "source": [
    "%autosave 0"
   ]
  },
  {
   "cell_type": "markdown",
   "metadata": {},
   "source": [
    "Much of this is taken from https://math.berkeley.edu/~kmill/math1afa2014/poly.pdf by Kyle Miller.\n",
    "\n",
    "\n",
    "<strong>Limits</strong>\n",
    "When we use \"limit from the right\" we mean $$\\lim_{x\\rightarrow a^+}f(x)$$\n",
    "Likewise, \"limit from the left\" means $$\\lim_{x\\rightarrow a^-}f(x)$$\n",
    "If the limit from both directions exist and if they converge to the same value $a$, then we call it a two sided limit.\n",
    "\n",
    "\n",
    "<strong>Definition: Continuity at a point</strong><br>\n",
    "$$\\text{A function }f(x)\\text{ has continuity at }a \\Rightarrow \\begin{cases}\n",
    "f(a) \\text{ exists}\\\\\n",
    "\\lim_{x\\rightarrow a^+}f(x) =\\lim_{x\\rightarrow a^-}f(x)\\\\\n",
    "\\lim_{x\\rightarrow a}f(x)=f(a)\n",
    "\\end{cases}$$\n",
    "\n",
    "<strong>Definition: Limit</strong> Given a function $f(x), x\\in \\mathbb{R}: \\mathbb{R} \\mapsto \\mathbb{R}$ and if $a,L \\in \\mathbb{R}$ we say that $$\\lim_{x\\rightarrow a}f(x)=L$$\n",
    "if and only if, for every $\\epsilon > 0$ there exists a $\\delta > 0$ such that when $x$ meets the condion  $0<|x-a| < \\delta,$ then $|f(x)-L|<\\epsilon.$\n",
    "\n",
    "<strong>Definition: Continuity on an interval.</strong> $\\;\\;$A function, $f(x), x\\in \\mathbb{R}$ is continuous on a defined interval $(a,b)$ if it is continuous for each point in $(a,b)$.\n",
    "\n",
    "<span style='color: blue;'><strong>Theorem:</strong> If $c\\in\\mathbb{R}$ and $a\\in \\mathbb{R}$ then $f(x)=c$ implies $f(a)=c$ and that $f(x)$ is continuous at $a.$</span>\n",
    "<i>Proof: </i> Let $\\epsilon\\in\\mathbb{R} >0.$ Let $\\delta \\in\\mathbb{R}>0.$ Then $0<|x-a|<\\delta$ implies $|f(x)-f(a)|=|c-c|=0<\\epsilon.$  We have\n",
    "found a $\\delta > 0$ for all $\\epsilon > 0,$ thus $\\lim_{x\\rightarrow a} f(x) = f(a)$ (by the definition of the\n",
    "limit), and so $f$ is continuous at $a.$\n",
    "\n",
    "<span style='color: blue;'><strong>Theorem:</strong> Let $a\\in\\mathbb{R}$ Then the function $f(x) = x$ is continuous at $a.$</span>\n",
    "\n",
    "<i>Proof:</i> Assume $\\epsilon\\in\\mathbb{R}>0$. Let $\\delta=\\epsilon.$\n",
    "Then whenever $x$ is such that\n",
    "$0 < |x − a| < \\delta,$ then $|f(x) − f(a)| = |x − a| < \\epsilon$ (since $\\epsilon = \\delta).$ By the\n",
    "definition of the limit, since $\\epsilon$ was arbitrary, this means $\\lim_{x\\rightarrow a} f(x) = f(a),$ and so $f$ is\n",
    "continuous at $a$, and since $a$ is any real number, $f(x)=x$ is continuous on the interval $(-\\infty , \\infty)$.\n",
    "\n",
    "\n",
    "<p style= \"border: 1px solid #FF0000;\">  \n",
    "<span style='color: blue;'><strong>Theorem:</strong> (Addition rule). Let $a\\in\\mathbb{R},$ and let $f, g$ be two functions defined on an open interval of a such that $$\\lim_{x\\rightarrow a} f(x) = L_f$$ and $$\\lim_{x\\rightarrow a} g(x) = L_g$$ (i.e., both of\n",
    "these limits exist, and let $L_f$ and $L_g$ be the values of the limits). Then $$\\lim_{x\\rightarrow a}(f(x)+g(x)) =\n",
    "L_f + L_g.$$</span>\n",
    "</p>\n",
    "<i>Proof:</i> Assume $\\epsilon\\in\\mathbb{R}>0$. Since $f$ and $g$ approach $L_f$ and $L_g,$ respectively,\n",
    "as $x$ approaches $a$, we may obtain from the definition of the limit that $\\delta f > 0$ and $\\delta g > 0$ such\n",
    "that\n",
    "1. whenever $x$ is such that $0 < |x − a| < \\delta f$ then $|f(x) − L_f | < \\frac{\\epsilon}{2}$ and \n",
    "2. whenever $x$ is such that $0 < |x − a| < \\delta g$ then $|g(x) − L_g| < \\frac{\\epsilon}{2}.$\n",
    "\n",
    "Let $\\delta=\\left(\\min{\\delta f,\\delta g}\\right).$ So, whenever $x$ is such that $0<|x-a|<\\delta,$ then by the triangle inequality and substitution,\n",
    "$$\\begin{align}\n",
    "|\\left(f(x)+g(x)\\right)-(L_f+L_g)| &= |(f(x)-L_f)+(g(x)-L_g)|\\\\\n",
    "                      &\\le |f(x)-L_f|+|g(x)-L_g|\\\\\n",
    "                      &< \\frac{\\epsilon}{2}+ \\frac{\\epsilon}{2}\\\\\n",
    "                      &= \\epsilon\n",
    "\\end{align}\n",
    "$$\n",
    "Since $\\epsilon$ was arbitrary, there is a $\\delta$ for every $\\epsilon >0,$ so the limit of $f(x)+g(x)$ as $x$ approaches $a$ exists, and it is $L_f + L_g$."
   ]
  },
  {
   "cell_type": "code",
   "execution_count": null,
   "metadata": {},
   "outputs": [],
   "source": []
  }
 ],
 "metadata": {
  "kernelspec": {
   "display_name": "SageMath 9.1",
   "language": "sage",
   "name": "sagemath"
  },
  "language_info": {
   "codemirror_mode": {
    "name": "ipython",
    "version": 3
   },
   "file_extension": ".py",
   "mimetype": "text/x-python",
   "name": "python",
   "nbconvert_exporter": "python",
   "pygments_lexer": "ipython3",
   "version": "3.7.3"
  }
 },
 "nbformat": 4,
 "nbformat_minor": 4
}
