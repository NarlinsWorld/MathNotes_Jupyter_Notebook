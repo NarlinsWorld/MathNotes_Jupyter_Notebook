{
 "cells": [
  {
   "cell_type": "markdown",
   "metadata": {},
   "source": [
    "<font size=4>\n",
    "<script type=\"text/x-mathjax-config\">\n",
    "  MathJax.Hub.Config({ TeX: { extensions: [\"color.js\"] }});\n",
    "    \\definecolor{energy}{RGB}{114,0,172}\n",
    "</script>\n",
    "\n",
    "\n",
    "<h2>Solve Recurrsion from the Generating Function</h2>\n",
    "<br>Sometimes it is possible to start with a recurrsive sequence definition, find its generating function, and then solve for the nth term from the generating function. In this section, we are going to begin with the G.F. as a given and try to find the nth term.  The way we will go about it, is to try and make the GF match the geometric function, $\\frac{1}{1-x}=\\sum_{n\\ge 0}x^n$<br>\n",
    "Let's begin with a pretty simple example. $$f(x)=\\frac{3}{1-x}$$ Clearly, this can be written as $$3\\frac{1}{1-x}=3\\sum_{n\\ge 0}x^n=\\sum_{x\\ge 0}3x^n \\Longrightarrow 3+3x+3x^2+3x^3+\\cdots\\Longrightarrow \\{3,3,3,3,\\cdots \\}$$\n",
    "<hr style=\"border-top:2px solid blue;\" />\n",
    "\n",
    "$$\\color{blue}{G.F.=\\frac{1}{(1-x)^2}}$$\n",
    "This one gets bit harder. Let's start by differentiating both sides of the geometric series expression.  \n",
    "$$\\frac{1}{1-x}=\\sum_{x\\ge 0}x^n$$\n",
    "On the left we will have\n",
    "$$\\frac{d}{dx}\\frac{1}{1-x}=\\frac{d}{dx}(1-x)^-1= -(1-x)^{-2}\\cdot \\frac{d}{dx}(-x)=\\frac{1}{(1-x)^2}$$ This is good.  Clearly we have the starting GF. Now to differentiate the right hand side.\n",
    "$$\\frac{d}{dx}\\sum_{x\\ge 0}x^n=\\sum_{x\\ge 0}nx^{n-1}$$\n",
    "$$\\therefore,\\qquad \\frac{1}{(1-x)^2}=\\sum_{x\\ge 0}nx^{n-1}=\\color{blue}{\\sum_{x\\ge 1}nx^{n-1}}\\Longleftarrow \\text{ nth term}$$\n",
    "$$\\Longrightarrow 1+2x+3x^2+4x^3+\\cdots$$\n",
    "<hr style=\"border-top:2px solid blue;\" />\n",
    "\n",
    "Now we will look at the geometric series expanded about a point other than 0.  We will select -3.  Recall that the series is $$\\sum_{n=0}^{\\infty}c_n(x-a)^n$$ where $c_n$ is a coefficient. Well that means that instead of using $\\frac{1}{1-x}$ we are going to need $\\frac{1}{1-(x-a)}$ In order to get that, we are going to have to do a little algebra. <br><br>\n",
    "Let's do a specific one.  Let $a=-3$, so we will expand the geometric series about $\\color{blue}{a=-3}$\n",
    "$$\\color{blue}{\\frac{1}{1-x}=\\frac{1}{4-(x+3)}}$$\n",
    "On the right side, we have to have the exact form $$\\frac{1}{1-(x-a)}$$ and since $a=-3$, we have to have $(x--3)=(x+3)$ but if we put that, then it messes with the bottom fraction and we have to put in a $4$ so that $4-3=1$ and the equation is still correct.<br>\n",
    "Next, we need to factor the expression so it looks exactly like the geometric series. $$\\frac{1}{4}\\left(\\frac{1}{4-(x+3)}\\right)=\\frac{1}{4}\\left(\\frac{1}{1-\\frac{x+3}{4}}\\right)$$\n",
    "$$=\\frac{1}{4}\\sum_{x\\ge0}\\left( \\frac{x+3}{4} \\right)^n= \\sum_{n=0}^\\infty \\frac{1}{4^{n+1}(x+3)^n}$$\n",
    "<hr style=\"border-top: 2px solid blue;\" />\n",
    "\n",
    "Let's do another one of a similar type.  Let the G.F. be: $$\\color{blue}{f(x)= \\frac{3x}{2-x} \\text{ with }a=-2}$$\n",
    "<br><br><br>\n",
    "</font>"
   ]
  },
  {
   "cell_type": "code",
   "execution_count": null,
   "metadata": {},
   "outputs": [],
   "source": []
  }
 ],
 "metadata": {
  "kernelspec": {
   "display_name": "SageMath 9.1",
   "language": "sage",
   "name": "sagemath"
  },
  "language_info": {
   "codemirror_mode": {
    "name": "ipython",
    "version": 3
   },
   "file_extension": ".py",
   "mimetype": "text/x-python",
   "name": "python",
   "nbconvert_exporter": "python",
   "pygments_lexer": "ipython3",
   "version": "3.7.3"
  }
 },
 "nbformat": 4,
 "nbformat_minor": 2
}
