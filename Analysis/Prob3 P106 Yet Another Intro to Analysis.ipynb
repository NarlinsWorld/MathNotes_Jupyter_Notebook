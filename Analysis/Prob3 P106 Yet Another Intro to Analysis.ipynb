{
 "cells": [
  {
   "cell_type": "code",
   "execution_count": 17,
   "metadata": {},
   "outputs": [
    {
     "data": {
      "application/javascript": [
       "IPython.notebook.set_autosave_interval(0)"
      ],
      "text/plain": [
       "<IPython.core.display.Javascript object>"
      ]
     },
     "metadata": {},
     "output_type": "display_data"
    },
    {
     "name": "stdout",
     "output_type": "stream",
     "text": [
      "Autosave disabled\n"
     ]
    }
   ],
   "source": [
    "%autosave 0"
   ]
  },
  {
   "cell_type": "markdown",
   "metadata": {},
   "source": [
    "Let $f$ be a continuous function with domain $D$ and range contained in $D,$ and let $a\\in D$. \n",
    "\n",
    "Suppose that we define a sequence $(x_n)$ by the recurrence relation\n",
    "$$x_1=a \\;\\;\\text{ and }\\;\\;x_n=f(x_{n-1})\\text{  for  }n>1$$\n",
    "and that the sequence converges to $x_0$. Show that x_0 = f(x_0).\n",
    "<span style='color: red;'>\n",
    "The recurrence means: Starting with $f(1)=0$ compute the next term as $f(2)=f(f(1))$ \n",
    "</span>\n",
    "\n",
    "Note that the function $f$ given by\n",
    "$$f(x)=\\frac{x^3+2x^2+1}{8}\\;\\;x\\in\\mathbb{R}$$\n",
    "is continuous.  Let $x_1=0$ and use $f$ to define a sequence $(x_b)$ in the above way. Find a few terms of the sequence and thus find a root of the equation $$x^3 +2x^2-8x+1=0$$ \n",
    "<hr style='border-top: 1px black solid;'>\n",
    "Let $x_1=a$ and for $n>1$ let $x_n=f(x_{n-1})$ where $f$ is a continuous function and assume convergence. Then $$x_1, x_2, x_3, x_4,\\cdots\\rightarrow x_0$$\n",
    "Then by the continuity of $f$ we have \n",
    "$$f(x_1),f(x_2)\\ldots \\rightarrow f(x_0)$$\n",
    "which is merely a subsequence of $$\\underbrace{x_1}_{x_2}, \\underbrace{x_2}_{x_3}, x_3, x_4,\\cdots\\rightarrow x_0$$ \n",
    "So they both converge to $x_0$ <span style='color: red;'>This means that the function, when evaluated with $x_0$ will return $x_0.$</span>\n",
    "\n",
    "The function $f(x)=\\frac{x^3+2x^2+1}{8}$ when iterated converges to a 'fixed point'.  If we start with $$g(x): \\;x^3+2x^2-8x+1=0$$ and algebraically isolate $x^1$ on the left, f(x) remains on the right.  In an iteration sequence as we have defined, we get 1 (of 3 total) solution for $g(x).$ "
   ]
  },
  {
   "cell_type": "code",
   "execution_count": 16,
   "metadata": {},
   "outputs": [
    {
     "name": "stdout",
     "output_type": "stream",
     "text": [
      "1/8\n",
      "0.129150390625000\n",
      "0.129439231563083\n",
      "0.129459715104884\n"
     ]
    }
   ],
   "source": [
    "f=(x^3+2*x^2+1)/8\n",
    "S=[f(0)];\n",
    "for n in range(4):\n",
    "    S.append(f(S[n]).n())\n",
    "for i in range(4):\n",
    "    print(S[i]);"
   ]
  },
  {
   "cell_type": "code",
   "execution_count": 19,
   "metadata": {},
   "outputs": [
    {
     "name": "stdout",
     "output_type": "stream",
     "text": [
      "0.125000000000000\n",
      "0.129454926624738\n",
      "0.129461280789465\n",
      "0.129461280802440\n",
      "0.129461280802440\n"
     ]
    }
   ],
   "source": [
    "#A better way to just solve the eq. is to use Newton's Method\n",
    "guess=0; prior=1;\n",
    "f(x)=x^3+2*x^2-8*x+1;\n",
    "fp(x)=3*x^2+4*x-8;\n",
    "while(abs(guess-prior)>10^(-14)):\n",
    "    prior=guess\n",
    "    guess=(guess-f(guess)/fp(guess))   \n",
    "    print(guess.n())"
   ]
  },
  {
   "cell_type": "code",
   "execution_count": null,
   "metadata": {},
   "outputs": [],
   "source": []
  }
 ],
 "metadata": {
  "kernelspec": {
   "display_name": "SageMath 9.1",
   "language": "sage",
   "name": "sagemath"
  },
  "language_info": {
   "codemirror_mode": {
    "name": "ipython",
    "version": 3
   },
   "file_extension": ".py",
   "mimetype": "text/x-python",
   "name": "python",
   "nbconvert_exporter": "python",
   "pygments_lexer": "ipython3",
   "version": "3.7.3"
  }
 },
 "nbformat": 4,
 "nbformat_minor": 2
}
