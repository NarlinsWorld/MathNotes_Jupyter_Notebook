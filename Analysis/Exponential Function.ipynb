{
 "cells": [
  {
   "cell_type": "markdown",
   "metadata": {},
   "source": [
    "The code below shows $e^x$ computed from its series formula.\n",
    "$$\n",
    "e^x = \\sum_{n=1}^{\\infty}\\frac{x^n}{n!}\n",
    "$$\n",
    "Futher down the page, we prove that $$\\underbrace{1+x+\\frac{x^2}{2!}+\\frac{x^3}{3!}+\\cdots}_{\\displaystyle{exp(x)}}=\n",
    "\\underbrace{\\left( 1+1+\\frac{1}{2!}+\\frac{1}{3!}+\\cdots \\right)^x}_{\\displaystyle{e^x}}$$\n",
    "and\n",
    "$$\\exp(x)\\times \\exp(y)=\\exp(x+y)$$\n",
    "and\n",
    "$$\\lim_{n\\rightarrow\\infty}\\left(1+\\frac{1}{n} \\right)^n = e$$\n",
    "and\n",
    "$$\\lim_{n\\rightarrow \\infty}\\left(1+\\frac{x}{n} \\right)^n=e^x$$\n",
    "and\n",
    "$$\\lim_{x\\rightarrow 0}\\frac{e^x-1}{x}=1$$\n",
    "and less formally\n",
    "$$\\frac{d\\left(e^x\\right)}{dx}=e^x$$"
   ]
  },
  {
   "cell_type": "code",
   "execution_count": 2,
   "metadata": {},
   "outputs": [
    {
     "data": {
      "image/png": "[encoded data removed]",
      "text/plain": [
       "Graphics object consisting of 1 graphics primitive"
      ]
     },
     "metadata": {},
     "output_type": "display_data"
    },
    {
     "name": "stdout",
     "output_type": "stream",
     "text": [
      "2.71828182845905\n"
     ]
    }
   ],
   "source": [
    "reset()\n",
    "var('x')\n",
    "A=[]; G=plot ([] , figsize =(3))\n",
    "x=1;\n",
    "sum=0;\n",
    "for i in range(1,100):\n",
    "    term=(x)^(i)/(factorial(i))\n",
    "    sum=sum+term;\n",
    "    #print(sum.n())\n",
    "    A.append([i,sum])\n",
    "G+=list_plot(A,size=2)\n",
    "show(G)\n",
    "print(((e^x)).n())"
   ]
  },
  {
   "cell_type": "markdown",
   "metadata": {},
   "source": [
    "<hr style='border-top: 1px blue solid;'>\n",
    "In the analysis above, we can let $x=1$ and generate the number $e$.\n",
    "$$\\underbrace{1+x+\\frac{x^2}{2!}+\\frac{x^3}{3!}+\\cdots}_{\\displaystyle{exp(x)}}=\n",
    "\\underbrace{\\left( 1+1+\\frac{1}{2!}+\\frac{1}{3!}+\\cdots \\right)^x}_{\\displaystyle{e^x}}$$"
   ]
  },
  {
   "cell_type": "markdown",
   "metadata": {},
   "source": [
    "<hr style='border-top: 2px orange solid;'>\n",
    "<span style='color: blue;'><strong>Theorem</strong> $exp(x)=e^x$ for each $x \\in \\mathbb{R}$</span>\n",
    "<i>Proof</i>\n",
    "Let $f$ be any function with domain $\\mathbb{R}$ for which: \n",
    "\n",
    "1.  $f(1)$ is positive (call it $a$);\n",
    "2.  $f(x)\\times f(y) = f(x+y)$ for each pair of rationals $x$ and $y$. <span style='color: red;'>This is assumed for this proof! We prove it further down the page.</span>\n",
    "\n",
    "By first dealing with the integers show that $f(x)=a^x$ for each rational number $x$\n",
    "\n",
    "Now assume in addition that $f$ has the property that\n",
    "$$\\text{if }x_1,x_x,x_3,\\ldots \\rightarrow x \\text{ then }f(x_1),f(x_2),\\ldots \\rightarrow f(x)$$ Deduce that $f(x)=a^x$ for each number $x$.\n",
    "<hr style='border-top: 1px orange solid;'>\n",
    "We are given that $f(1)$ is positive. The first pair of rational integers are $(0,1)$ but $$\\begin{align}f(x+y) &=f(0+1)\\\\&= f(1) \\\\&=f(0)\\times f(1)\\end{align}$$ thus $$f(0)=\\frac{f(1)}{f(1)}=1 $$\n",
    "Now for any positive integer, $n,$ it is true that\n",
    "$$f(n)=f\\underbrace{(1+1+\\cdots+1)}_{\\text{n times}} = \\underbrace{f(1)\\times f(1)\\times \\cdots \\times f(1)}_{\\text{n times}}=\\left(f(1)\\right)^n=a^n$$\n",
    "And to take in the negative integers,\n",
    "$$f(-n)=\\frac{f(n)\\times f(-n)}{f(-n)}=\n",
    "\\frac{f(n+(-n))}{f(n)}=\\frac{f(0)}{f(n)}=\\frac{1}{a^n}=a^{-n}$$\n",
    "Therefore, $f(x)=a^x$ for each integer $x$.<br><br>\n",
    "To extend this idea to the rationals, repeat for integers $m$ and $n$ with $n>0:$\n",
    "$$\\begin{align}\\left(f\\left( \\frac{m}{n}  \\right)  \\right)^n &=\n",
    "\\underbrace{f\\left( \\frac{m}{n} \\right)\\times f\\left( \\frac{m}{n} \\right)\\times \\cdots \\times f\\left( \\frac{m}{n} \\right)}_{\\text{n times}}\\\\\n",
    "&=f\\underbrace{\\left(\\frac{m}{n}+\\frac{m}{n}+\\cdots + \\frac{m}{n}  \\right)}_{\\text{n times}} = f(m)=a^m\n",
    "\\end{align}\n",
    "$$\n",
    "and $$\\sqrt[n]{\\left(f\\left( \\frac{m}{n}  \\right)  \\right)^n}=f\\left(\\frac{m}{n}\\right)=\\sqrt[n]{a^m}=a^{m/n}$$\n",
    "and we have shown that $f(x)=a^x$ for any rational $x.$\n",
    "\n",
    "Since $f(n), \\forall n = a^n$, and using the given assumption that \n",
    "$$\\text{if }x_1,x_x,x_3,\\ldots \\rightarrow x \\text{ then }f(x_1),f(x_2),\\ldots \\rightarrow f(x)$$\n",
    "it must be that $\\forall x, f(x)=a^x \\qquad \\square$"
   ]
  },
  {
   "cell_type": "markdown",
   "metadata": {},
   "source": [
    "<hr style='border-top: 1px, solid, blue'>\n",
    "We need to show that the exp function has that weird property,$$\\exp(x)\\times \\exp(y)=\\exp(x+y)$$ but first, we need two lemmas.\n",
    "\n",
    "<hr style='border-top: blue 1px solid;'>\n",
    "<strong>Lemma-1 </strong> $\\lim_{n\\rightarrow\\infty}\\left(1+\\frac{1}{n} \\right)^n = e$\n",
    "\n",
    "\n",
    "We can prove this from the binomial theorem.<br>\n",
    "$$\n",
    "\\begin{align}\\left(1+\\frac{1}{x}\\right)^x &=1\n",
    "+x\\left(\\frac{1}{x}\\right)\n",
    "+\\frac{x(x–1)}{2!}\\left(\\frac{1}{x}\\right)^2\n",
    "+\\frac{x(x–1)(x–2)}{3!}\\left(\\frac{1}{x}\\right)^3\n",
    "+\\cdots\\\\\n",
    "&= 1+1+\\frac{x^2\\left(1-\\frac{1}{x}\\right)}{2!}\\frac{1}{x^2}\n",
    "+ \\frac{x^3\\left(1-\\frac{1}{x}\\right)\\left(1-\\frac{2}{x}\\right)  }{3!} \\frac{1}{x^3}\n",
    "+\\cdots\\\\\n",
    "&= 1+1+\\frac{1}{2!}\\left(1-\\frac{1}{x} \\right)\n",
    "+ \\frac{1}{3!}\\left(1-\\frac{1}{x} \\right)\\left(1-\\frac{2}{x} \\right)\n",
    "+ \\cdots\n",
    "\\end{align}\n",
    "$$\n",
    "Now we can take the $\\lim_{x\\rightarrow\\infty}$\n",
    "$$\\lim_{x\\rightarrow\\infty}\\left(1+\\frac{1}{x}\\right)^x\n",
    "=1+1+\\frac{1}{2!}+\\frac{1}{3!}+\\frac{1}{4!}+\\cdots = e\n",
    "$$"
   ]
  },
  {
   "cell_type": "markdown",
   "metadata": {},
   "source": [
    "<hr style='border-top: 1px blue solid;'>\n",
    "<strong>Lemma-2 </strong> $\\lim_{n\\rightarrow \\infty}\\left(1+\\frac{x}{n} \\right)^n=e^x$<br>\n",
    "For $x=1$ the result is true by lemma-1.<br>\n",
    "Suppose we let $\\frac{x}{n}=\\frac{1}{k}$, then $n=kx$ and\n",
    "$$\\lim_{k\\rightarrow\\infty}=\\left(1+\\frac{x}{kx}  \\right)^{kx}=\\lim_{k\\rightarrow\\infty}\\left[\\left( 1+\\frac{1}{k} \\right)^k   \\right]^x\n",
    "$$\n",
    "So, from Lemma-1, the part in parenthesis is $e$, and it is raised to the power of $x$ \n",
    "$$\\lim_{k\\rightarrow\\infty}=\\left(1+\\frac{x}{kx}  \\right)^{kx}=\\lim_{k\\rightarrow\\infty}\\left[\\left( 1+\\frac{1}{k} \\right)^k   \\right]^x = e^x\n",
    "$$"
   ]
  },
  {
   "cell_type": "markdown",
   "metadata": {},
   "source": [
    "<hr style='border-top: 1px navy solid;'>\n",
    "\n",
    "The argument here is from https://math.stackexchange.com/questions/3016162/proof-that-expxy-expx-expy-using-limit-definition-of-expx  as explained by user Yiorgos S. Smyrlis Dept. of Mathematics and Statistics, Univ. of Cyprus.\n",
    "\n",
    "\n",
    "We want to show that $$\\exp(x)\\cdot \\exp(y)=exp(x+y)$$\n",
    "We will use the definition: $$\\exp(x)=\\lim_{n\\rightarrow\\infty}\\left(1+\\frac{x}{n}\\right)^n$$\n",
    "\n",
    "$$\\lim_{n\\rightarrow\\infty}\\left(1+\\frac{x}{n}\\right)^n\n",
    "\\cdot \\lim_{n\\rightarrow\\infty}\\left(1+\\frac{y}{n}\\right)^n\n",
    "= \\lim_{n\\rightarrow\\infty}\\left(1+\\frac{x+y}{n}\\right)^n\n",
    "\\tag{Eq 1}\\label{Eq 1}\n",
    "$$\n",
    "The left side can be rewritten as \n",
    "$$\n",
    "\\lim_{n\\rightarrow\\infty}\\left(1+\\frac{x}{n}+\\frac{y}{n}+\\frac{xy}{n^2}\\right)^n\n",
    "=\\lim_{n\\rightarrow\\infty}\\left(1+\\frac{x+y+\\frac{xy}{n}}{n}\\right)^n\n",
    "$$\n",
    "Thus to prove $\\eqref{Eq 1},$ it suffices to prove\n",
    "$$\\frac{\\lim_{n\\rightarrow\\infty}\\left(1+\\frac{x+y+\\frac{xy}{n}}{n}\\right)^n}{\\lim_{n\\rightarrow\\infty}\\left(1+\\frac{x+y}{n}\\right)^n}\n",
    "= 1\n",
    "$$\n",
    "Reframe the numerator:\n",
    "$$\n",
    "  \\frac{  \\left(1+\\frac{x+y}{n}+\\frac{xy}{n^2}\\right)^n}{\\left(1+\\frac{x+y}{n}\\right)^n}\n",
    "$$\n",
    "Multiply by $\\frac{n^2}{n^2}$ to get:\n",
    "$$\n",
    "\\frac{\\left(1+\\frac{x+y}{n}+\\frac{xy}{n^2}\\right)^n}{\\left(1+\\frac{x+y}{n}\\right)^n}=\n",
    "\\left(1+\\frac{xy}{n^2\\left(1+\\frac{x+y}{n}\\right)}\\right)^n \\tag{Eq 2} \\label{Eq 2}\n",
    "$$\n",
    "Now we will invent some terms that can be used in a squeeze theorem sense.\n",
    "$$\\left(1+\\frac{xy}{2n^2}\\right)^n\n",
    "< \\frac{\\left(1+\\frac{x+y}{n}+\\frac{xy}{n^2}\\right)^n}{\\left(1+\\frac{x+y}{n}\\right)^n} \\tag{Eq 3}\\label{Eq 3}\n",
    "$$\n",
    "$\\eqref{Eq 3}$ is obviously true for $xy$ positive and for sufficiently large $n$, since the right side has an added numerator term and will be divided by a positive term greater than zero. Additionally, the right side of \\eqref{Eq 2} is less than the following:\n",
    "$$\n",
    "\\left(1+\\frac{xy}{n^2\\left(1+\\frac{x+y}{n}\\right)}\\right)^n < \\left(1+\\frac{2xy}{n^2}\\right)^n\n",
    "$$\n",
    "Finally, for all $z \\in \\mathbb{R},$ we have\n",
    "$$\n",
    "\\left(1+\\frac{z}{n^2}\\right)^n = \\left(\\left(1+\\frac{z}{n^2}\\right)^{n^2}\\right)^{1/n}\\rightarrow 1,\n",
    "$$\n",
    "since $\\lim_{n\\rightarrow\\infty}\\left(1+\\frac{z}{n^2}\\right)^{n^2}\\rightarrow e^z.$\n",
    "Therefore:\n",
    "$$\n",
    "\\lim_{n\\to\\infty}\\left(1+\\frac{xy}{2n^2}\\right)^n=\\lim_{n\\to\\infty}\\left(1+\\frac{2xy}{n^2}\\right)^n=1,\n",
    "$$\n",
    "and by the squeeze theorem, the theorem is proved. $\\qquad\\blacksquare$"
   ]
  },
  {
   "cell_type": "markdown",
   "metadata": {},
   "source": [
    "<hr style='border-top: 1px solid purple;'>\n",
    "Prove (informally) that the gradient of $e^x=e^x.$\n",
    "We will use $$\\lim_{x\\rightarrow 0}\\frac{e^x-1}{x}=1.\\tag{Eq 4} \\label{Eq 4} $$ This is easy to show from our definition.\n",
    "$$\\begin{align}\n",
    "e^x &= 1+\\frac{x^1}{1!}+\\frac{x^2}{2!}\\cdots\\\\\n",
    "e^x-1 &= \\frac{x^1}{1!}+\\frac{x^2}{2!}\\cdots\\\\\n",
    "\\frac{e^x-1}{x} &= 1+\\frac{x}{2!}+\\frac{x^2}{3!}+\\cdots\\\\\n",
    "\\lim_{x\\rightarrow 0}\\frac{e^x-1}{x} &= 1\\\\\n",
    "\\end{align} \n",
    "$$\n",
    "<hr style='border-top: 1px solid purple;'>\n",
    "<i>Proof:</i> $\\frac{d\\left(e^x\\right)}{dx}=e^x$\n",
    "<img src='../Images/e to the x derivative proof.png' height=248 width=174>\n",
    "Let point $P=(x_0,e^{x_0}$ and point $Q=(x,e^x).$ Note that Q represents any point on the curve while $P$ is specific.  The gradient $$PQ=\\frac{e^x-e^{x_0}}{x-x_0}$$\n",
    "can be factored in the numerator as\n",
    "$$PQ=e^{x_0}\\left(\\frac{e^{x-x_0}-1}{(x-x_0)}   \\right)$$ to give it the form of \\eqref{Eq 4} Thus in the limit\n",
    "$$PQ=\\lim_{x\\rightarrow x_0}e^{x_0}\\left(\\frac{e^{x-x_0}-1}{(x-x_0)}   \\right)=e^{x_0}\\cdot 1=e^{x_0}$$\n",
    "and we have shown that the gradient (derivative) of $e^x$ at $\\left(x_0,e^{x_0}\\right)=e^{x_0}$     $\\blacksquare$"
   ]
  },
  {
   "cell_type": "code",
   "execution_count": null,
   "metadata": {},
   "outputs": [],
   "source": []
  }
 ],
 "metadata": {
  "kernelspec": {
   "display_name": "SageMath 9.1",
   "language": "sage",
   "name": "sagemath"
  },
  "language_info": {
   "codemirror_mode": {
    "name": "ipython",
    "version": 3
   },
   "file_extension": ".py",
   "mimetype": "text/x-python",
   "name": "python",
   "nbconvert_exporter": "python",
   "pygments_lexer": "ipython3",
   "version": "3.7.3"
  }
 },
 "nbformat": 4,
 "nbformat_minor": 2
}
