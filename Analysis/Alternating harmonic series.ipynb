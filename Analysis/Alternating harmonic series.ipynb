{
 "cells": [
  {
   "cell_type": "markdown",
   "metadata": {},
   "source": [
    "$$1-\\frac{1}{2}+\\frac{1}{3}-\\frac{1}{4}+\\frac{1}{5}-\\frac{1}{6}$$\n",
    "This sequence appears to be converging to the $\\ln(2)$ which can be shown true with a little calculus."
   ]
  },
  {
   "cell_type": "code",
   "execution_count": 2,
   "metadata": {},
   "outputs": [
    {
     "name": "stdout",
     "output_type": "stream",
     "text": [
      "0.693147680560253\n",
      "0.693147180559945\n"
     ]
    }
   ],
   "source": [
    "A=[]; sig=1; sum=0\n",
    "for n in range(1,1000000):\n",
    "    sum=(sum+sig*1/n).n();\n",
    "    A.append([n,sig*1/n]);\n",
    "    #print(sig*(1/n));\n",
    "    sig=sig*(-1);\n",
    "print(sum.n());\n",
    "#G=list_plot(A,size=20);\n",
    "#show(G, figsize=4)\n",
    "print(ln(2).n())"
   ]
  },
  {
   "cell_type": "markdown",
   "metadata": {},
   "source": [
    "$$1-\\frac{1}{2}+\\frac{1}{3}-\\frac{1}{4}+\\frac{1}{5}-\\frac{1}{6}+\\cdots$$\n",
    "This alternating harmonic series can be written as $$\\sum_{n=1}^{\\infty} \\left(-1 \\right)^{n+1} \\frac{1}{n}$$\n",
    "and it is a Maclaurin Series for $ln(1+x)$ whenever $x=1$, so $\\ln(2)$"
   ]
  },
  {
   "cell_type": "code",
   "execution_count": 66,
   "metadata": {},
   "outputs": [
    {
     "data": {
      "text/html": [
       "<html><script type=\"math/tex; mode=display\">\\newcommand{\\Bold}[1]{\\mathbf{#1}}\\verb|1|\\phantom{\\verb!x!}\\verb|-1/2|\\phantom{\\verb!x!}\\verb|1/3|\\phantom{\\verb!x!}\\verb|-1/4|\\phantom{\\verb!x!}\\verb|1/5|\\phantom{\\verb!x!}\\verb|-1/6|\\phantom{\\verb!x!}\\verb|1/7|\\phantom{\\verb!x!}\\verb|-1/8|\\phantom{\\verb!x!}\\verb|1/9|\\phantom{\\verb!x!}\\verb|-1/10|\\phantom{\\verb!x!}\\verb|1/11|\\phantom{\\verb!x!}\\verb|-1/12|\\phantom{\\verb!x!}\\verb|1/13|\\phantom{\\verb!x!}\\verb|-1/14|\\phantom{\\verb!x!}\\verb|1/15|\\phantom{\\verb!x!}\\verb|-1/16|\\phantom{\\verb!x!}\\verb|1/17|\\phantom{\\verb!x!}\\verb|-1/18|\\phantom{\\verb!x!}\\verb|1/19|\\phantom{\\verb!x!}\\verb|-1/20|</script></html>"
      ],
      "text/plain": [
       "'1 -1/2 1/3 -1/4 1/5 -1/6 1/7 -1/8 1/9 -1/10 1/11 -1/12 1/13 -1/14 1/15 -1/16 1/17 -1/18 1/19 -1/20 '"
      ]
     },
     "metadata": {},
     "output_type": "display_data"
    }
   ],
   "source": [
    "x=1;f=\"\";\n",
    "for n in range(1,21):\n",
    "    dn=(-1)^(n+1)*factorial(n-1);\n",
    "    term=dn*x^n/factorial(n);\n",
    "    f=str(f)+str(term)+\" \";\n",
    "show(f)"
   ]
  },
  {
   "cell_type": "markdown",
   "metadata": {},
   "source": [
    "<hr style='border-top: solid 1px green;'>\n",
    "The Maclaurin Series in general is given by\n",
    "$$\n",
    "f(x)=f(0)+f'(0)x+f''(0)\\frac{x^{2}}{2}+\\cdots+f^{(n)}(0)\\frac{x^{n}}{n!}=\\sum_{n=0}^{\\infty}f^{(n)}(0)\\frac{x^{n}}{n!}\n",
    "$$\n",
    "\n",
    "In this case, $f(0)$ means the function, $f(x)$, evaluated at $x=0.$\n",
    "This formula is not useful until $f(x)$ has been defined and its\n",
    "derivatives acquired.\n",
    "\n",
    "Our function:\n",
    "$$\n",
    "f(x)=ln(1+x),\n",
    "$$\n",
    "and $f(1+0)=\\ln(1)=0.$\n",
    "\n",
    "Now we need the derivtives:\n",
    "$$\n",
    "\\frac{d(\\ln(1+x)}{dx}=\\frac{1}{1+x}\n",
    "$$\n",
    "$$\n",
    "f^{\\prime\\prime}\\ln(1+x)=f^{\\prime}\\frac{1}{1+x}=f^{\\prime}(1+x)^{-1}=-1(1+x)^{-2}=-\\frac{1}{(1+x)^{2}}\n",
    "$$\n",
    "$$\n",
    "f^{\\prime\\prime\\prime}\\ln(1+x)=f^{\\prime}\\left(-1(1+x)^{-2}\\right)=2(1+x)^{-3}=\\frac{2}{(1+x)^{3}}\n",
    "$$\n",
    "$$\n",
    "f^{(4)}\\ln(1+x)=f^{\\prime}2(1+x)^{-3}=-6(1+x)^{-4}=\\frac{-6}{(1+x)^{4}}\n",
    "$$\n",
    "\n",
    "The alternating signs can be written as $(-1)^{n+1},\\quad(n=1,2,3,\\ldots)$.\n",
    "The numerator is just $(n-1)!,\\quad(n=1,2,3,\\ldots),$ and the denominator\n",
    "is $(1+x)^{n}$. Thus a term for the $n^{th}$ derivative is\n",
    "$$\n",
    "f^{(n)}(\\ln(1+x)=(-1)^{n+1}\\frac{(n-1)!}{(1+x)^{n}}\n",
    "$$\n",
    "\n",
    "So the $n^{th}$ derivative evaluated at $x=0$ will be \n",
    "$$\n",
    "f^{(n)}(0)=(-1)^{n+1}\\frac{(n-1)!}{(1+0)^{n}}=(-1)^{n+1}(n-1)!\n",
    "$$\n",
    "Now we can write the general term for the series.\n",
    "$$\n",
    "(-1)^{n+1}(n-1)!\\frac{x^{n}}{n!},\\quad(n=1,2,3\\cdots)\n",
    "$$\n",
    "\n",
    "But, $n!=n(n-1)!$ and we can factor out $(n-1)!$ to get\n",
    "$$\n",
    "\\ln(1+x)=(-1)^{n+1}\\frac{x^{n}}{n},\\quad(n=1,2,3\\ldots).\n",
    "$$\n",
    "\n",
    "Next write the series for $x=1.$\n",
    "\n",
    "$$\n",
    "\\left(1-\\frac{1}{2}+\\frac{1}{3}-\\frac{1}{4}+\\ldots\\right)=\\ln(1+1)=\\ln(2)\n",
    "$$"
   ]
  },
  {
   "cell_type": "code",
   "execution_count": 42,
   "metadata": {},
   "outputs": [
    {
     "name": "stdout",
     "output_type": "stream",
     "text": [
      "0.693147680560253\n",
      "0.693147180559945\n"
     ]
    }
   ],
   "source": [
    " sum=0\n",
    "for n in range(1,1000000):\n",
    "    sum=(sum+(-1)^(n+1)*1/n).n();\n",
    "print(sum.n());\n",
    "print(ln(2).n())"
   ]
  },
  {
   "cell_type": "markdown",
   "metadata": {},
   "source": [
    "<hr style='border-top: solid, green,1px;'>\n",
    "$$\\frac{1}{1}+\\frac{1}{3}-\\frac{1}{2}+\\frac{1}{5}+\\frac{1}{7}-\\frac{1}{4}+\\frac{1}{9}+\\frac{1}{11}-\\frac{1}{6}=\\frac{3}{2}\\ln(2)$$\n",
    "Here we have rearranged the terms of the sequence above.\n",
    "This new sequence will have the value $$\\color{red}{\\ln(2)+\\frac{1}{2}\\ln(\\frac{p}{n})}$$ where $p=\\text{the number of positive terms in a block and }q=\\text{the number of negative terms in the negative block.}$ For the series shown, $p=2$ and $n=1.$"
   ]
  },
  {
   "cell_type": "code",
   "execution_count": 4,
   "metadata": {},
   "outputs": [
    {
     "name": "stdout",
     "output_type": "stream",
     "text": [
      "1.03972052083936\n",
      "1.03972077083992\n"
     ]
    }
   ],
   "source": [
    "odd=1; even=2; cnt=0; L=[]; sum=0;\n",
    "for _ in range(1,1000000,):\n",
    "    a=(1/odd).n();\n",
    "    odd=odd+2;\n",
    "    b=(1/odd).n();\n",
    "    odd=odd+2;\n",
    "    c=(-1/even).n();\n",
    "    even=even+2;\n",
    "    #print(a, end=\" +\");\n",
    "    #print(b, end=\" \");\n",
    "    #print(c, end=\" +\");\n",
    "    sum=sum+a+b+c;\n",
    "    #L.append([cnt,a]);\n",
    "   # L.append([cnt+1,b]);\n",
    "    #L.append([cnt+2,c]);\n",
    "    #cnt=cnt+3\n",
    "print(sum.n());\n",
    "#G=list_plot(L,size=20);\n",
    "#show(G,figsize=4);\n",
    "print((ln(2)+ln(2)/2).n())"
   ]
  },
  {
   "cell_type": "code",
   "execution_count": null,
   "metadata": {},
   "outputs": [],
   "source": [
    "J=[];\n",
    "J.append([10,     1.01252103071235])\n",
    "J.append([100,    1.03720030094416])\n",
    "J.append([1000,   1.03947056755855])\n",
    "J.append([10000,  1.03969576880849])\n",
    "J.append([100000, 1.03971827081953])\n",
    "J.append([1000000,1.03972052083936])"
   ]
  }
 ],
 "metadata": {
  "kernelspec": {
   "display_name": "SageMath 9.1",
   "language": "sage",
   "name": "sagemath"
  },
  "language_info": {
   "codemirror_mode": {
    "name": "ipython",
    "version": 3
   },
   "file_extension": ".py",
   "mimetype": "text/x-python",
   "name": "python",
   "nbconvert_exporter": "python",
   "pygments_lexer": "ipython3",
   "version": "3.7.3"
  }
 },
 "nbformat": 4,
 "nbformat_minor": 2
}
