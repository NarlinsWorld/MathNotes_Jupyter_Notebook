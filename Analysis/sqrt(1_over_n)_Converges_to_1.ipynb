{
 "cells": [
  {
   "cell_type": "markdown",
   "metadata": {},
   "source": [
    "<strong>Prove that for $x\\ge 1$ that the sequence $x^{1/n}$ is decreasing and converges to 1.</strong>"
   ]
  },
  {
   "cell_type": "markdown",
   "metadata": {},
   "source": [
    "<font size='4'>\n",
    "We can readily see that $x^{n+1}\\ge x^n.$ and we can raise both sides to the power of $\\frac{1}{n(n+1)}$ which is the same as taking the $\\left(n(n+1)\\right)^{th}$ root of both sides.\n",
    "$$x^{n+1}\\ge x^n$$\n",
    "$$\\left(x^{n+1}\\right)^{1/n(n+1)} \\ge \\left(x^n\\right)^{1/n(n+1)}$$\n",
    "$$x^{1/n} \\ge x^{1/{n+1}}$$\n",
    "    This proves that each term is greater than the following term and the sequence is decreasing.<br>\n",
    "    It is also bounded below by 1 (since an nth root of a number greater than 1 must itself be greater\n",
    "than 1).\n",
    "</font>"
   ]
  },
  {
   "cell_type": "code",
   "execution_count": 26,
   "metadata": {},
   "outputs": [
    {
     "data": {
      "image/png": "[encoded data removed]",
      "text/plain": [
       "Graphics object consisting of 2 graphics primitives"
      ]
     },
     "metadata": {},
     "output_type": "display_data"
    },
    {
     "name": "stdout",
     "output_type": "stream",
     "text": [
      "1.02122660631536\n"
     ]
    }
   ],
   "source": [
    "A=[]; x=8; r=100\n",
    "for n in range(1,r):\n",
    "    val=x^(1/n);\n",
    "    A.append([n,val]);\n",
    "Q=list_plot(A,size='20');\n",
    "Q+=line([(0,1),(r,1)],color='red');\n",
    "show(Q,figsize=4,ymin=0,ymax=2)\n",
    "print(A[-1][1].n())"
   ]
  },
  {
   "cell_type": "code",
   "execution_count": null,
   "metadata": {},
   "outputs": [],
   "source": []
  }
 ],
 "metadata": {
  "kernelspec": {
   "display_name": "SageMath 9.1",
   "language": "sage",
   "name": "sagemath"
  },
  "language_info": {
   "codemirror_mode": {
    "name": "ipython",
    "version": 3
   },
   "file_extension": ".py",
   "mimetype": "text/x-python",
   "name": "python",
   "nbconvert_exporter": "python",
   "pygments_lexer": "ipython3",
   "version": "3.7.3"
  }
 },
 "nbformat": 4,
 "nbformat_minor": 2
}
