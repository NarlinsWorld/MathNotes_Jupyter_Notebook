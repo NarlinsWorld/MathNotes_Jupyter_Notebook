{
 "cells": [
  {
   "cell_type": "code",
   "execution_count": 161,
   "metadata": {},
   "outputs": [
    {
     "data": {
      "image/png": "[encoded data removed]",
      "text/plain": [
       "Graphics object consisting of 52 graphics primitives"
      ]
     },
     "metadata": {},
     "output_type": "display_data"
    },
    {
     "name": "stdout",
     "output_type": "stream",
     "text": [
      "0.00000\n",
      "0.0098039\n",
      "0.019804\n",
      "0.030008\n",
      "0.040425\n",
      "0.051063\n",
      "0.061933\n",
      "0.073044\n",
      "0.084407\n",
      "0.096035\n",
      "0.10794\n",
      "0.12014\n",
      "0.13264\n",
      "0.14546\n",
      "0.15861\n",
      "0.17213\n",
      "0.18602\n",
      "0.20030\n",
      "0.21501\n",
      "0.23016\n",
      "0.24578\n",
      "0.26191\n",
      "0.27858\n",
      "0.29582\n",
      "0.31368\n",
      "0.33220\n",
      "0.35143\n",
      "0.37143\n",
      "0.39226\n",
      "0.41400\n",
      "0.43673\n",
      "0.46054\n",
      "0.48554\n",
      "0.51185\n",
      "0.53963\n",
      "0.56904\n",
      "0.60029\n",
      "0.63363\n",
      "0.66934\n",
      "0.70780\n",
      "0.74947\n",
      "0.79492\n",
      "0.84492\n",
      "0.90048\n",
      "0.96298\n",
      "1.0344\n",
      "1.1177\n",
      "1.2177\n",
      "1.3427\n",
      "1.5094\n",
      "1.7594\n",
      "2.2594\n"
     ]
    }
   ],
   "source": [
    "reset()\n",
    "L=[]; L1=[]; F=[]\n",
    "nmax=52;\n",
    "S=0\n",
    "for i in range(nmax+1):\n",
    "    L.append([[0,i],[1,i]])\n",
    "    #print(L[i])\n",
    "\n",
    "for i in range(nmax-1,0,-1): #This block settles the lines all at zero.\n",
    "    L[i]=[[S,i],[S+1,i]]\n",
    "    #print(L[i])\n",
    "\n",
    "for i in range(nmax-1,0,-1): #Creates the Sequence with the smallest value first\n",
    "    S=1/(2*i);\n",
    "    F.append([S])\n",
    "#show(F)\n",
    "\n",
    "B=[[[0,0],[1,0]]]; S=0\n",
    "for i in range(1,nmax):    \n",
    "#     print('i',i)\n",
    "#     print(F[i-1][0])\n",
    "    S=S+F[i-1][0];\n",
    "    B.append([flatten([S,i]),flatten([S+1,i])])\n",
    "#show(B)\n",
    "\n",
    "\n",
    "## Create a plot object\n",
    "a = plot ([] , figsize =(5))\n",
    "\n",
    "## Set the plot parameters\n",
    "#a.set_axes_range (-5 ,xmax ,ymin , ymax )\n",
    "\n",
    "for i in range(0,nmax):\n",
    "    a+=line(B[i])\n",
    "a. axes ( False )\n",
    "show (a, frame = True,xmin=0,xmax=4,ymax=nmax+8,figsize=8,aspect_ratio=.02 )\n",
    "\n",
    "#this printed list is the x axis start value for each line.\n",
    "for i in range(0,nmax):\n",
    "    print(B[i][0][0].n(digits=5))"
   ]
  },
  {
   "cell_type": "code",
   "execution_count": 104,
   "metadata": {},
   "outputs": [
    {
     "name": "stdout",
     "output_type": "stream",
     "text": [
      "[[[1, 2], [4, 5], [7, 8]]]\n",
      "[[1, 2], [4, 5], [7, 8]]\n"
     ]
    }
   ],
   "source": [
    "reset()\n",
    "L=[[[1,2], [4,5], [7,8]]]\n",
    "print(L)\n",
    "L=L[0]\n",
    "\n",
    "print(L)"
   ]
  },
  {
   "cell_type": "code",
   "execution_count": null,
   "metadata": {},
   "outputs": [],
   "source": []
  },
  {
   "cell_type": "code",
   "execution_count": null,
   "metadata": {},
   "outputs": [],
   "source": []
  }
 ],
 "metadata": {
  "kernelspec": {
   "display_name": "SageMath 9.1",
   "language": "sage",
   "name": "sagemath"
  },
  "language_info": {
   "codemirror_mode": {
    "name": "ipython",
    "version": 3
   },
   "file_extension": ".py",
   "mimetype": "text/x-python",
   "name": "python",
   "nbconvert_exporter": "python",
   "pygments_lexer": "ipython3",
   "version": "3.7.3"
  }
 },
 "nbformat": 4,
 "nbformat_minor": 2
}
