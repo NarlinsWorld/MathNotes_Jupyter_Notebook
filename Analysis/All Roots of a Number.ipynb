import numpy as np
import matplotlib.pyplot as plt
fig, ax=plt.subplots()
fig.set_dpi(256)

fig.suptitle('bold figure suptitle', fontsize=34, fontweight='bold')
ax.plot([1,2,3,4],[1,4,9,16],'bD-',linewidth=5,markersize=10)

ax.axis([0,6,0,20])

#set aspect ratio to 1 This makes the plot square, not making the grid square !
ratio=1.0
x_left,x_right=ax.get_xlim()
y_low, y_high = ax.get_ylim()
ax.set_aspect(abs((x_right-x_left)/(y_low-y_high))*ratio)

plt.show()

#create simple line plot
#ax.plot([0, 10],[0, 20])



