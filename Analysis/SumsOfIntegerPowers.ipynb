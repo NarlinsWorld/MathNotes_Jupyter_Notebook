{
 "cells": [
  {
   "cell_type": "markdown",
   "metadata": {},
   "source": [
    "<h2>Sums of the Integer Powers</h2>\n",
    "<font size=4>\n",
    "<br>$$Sm(n) = 1^m + 2^m + 3^m + · · · + n^m$$\n",
    "By way of example, the code below shows the sequence whenever $m=2$ or $3$ or whatever you set it to.\n",
    "<br><br>\n",
    "When $n=2$ the are called Square pyramidal numbers (OEIS: A000330) and they have a closed formula.\n",
    "    $$n\\cdot (n+1)\\cdot (2\\cdot n+1)/6$$\n",
    "   <br><br>\n",
    "In the two code sections below, i have used $m=2$ and then $m=3$"
   ]
  },
  {
   "cell_type": "code",
   "execution_count": 47,
   "metadata": {},
   "outputs": [
    {
     "name": "stdout",
     "output_type": "stream",
     "text": [
      "[    0     1     5    14    30    55    91   140   204   285   385   506\n",
      "   650   819  1015  1240  1496  1785  2109  2470  2870  3311  3795  4324\n",
      "  4900  5525  6201  6930  7714  8555  9455 10416 11440 12529 13685 14910\n",
      " 16206 17575 19019 20540 22140 23821 25585 27434] \n",
      "\n",
      "Start over and use the closed formula\n",
      "[    0     1     5    14    30    55    91   140   204   285   385   506\n",
      "   650   819  1015  1240  1496  1785  2109  2470  2870  3311  3795  4324\n",
      "  4900  5525  6201  6930  7714  8555  9455 10416 11440 12529 13685 14910\n",
      " 16206 17575 19019 20540 22140 23821 25585 27434] "
     ]
    }
   ],
   "source": [
    "%reset -f\n",
    "from numpy import *\n",
    "import matplotlib.pyplot as plt\n",
    "%matplotlib inline\n",
    "\n",
    "siz=44; m=2\n",
    "x=linspace(0,0,num=siz,dtype=int)\n",
    "# print(x,end=\" \")\n",
    "# print(\"\")\n",
    "\n",
    "for n in range(1,siz):\n",
    "    sum=0\n",
    "    for j in range(n+1):\n",
    "        sum=sum+j**m\n",
    "    x[n]=sum\n",
    "print(x,end=\" \")\n",
    "print(\"\\n\")\n",
    "print(\"Start over and use the closed formula\")        \n",
    "\n",
    "x=linspace(0,0,num=siz,dtype=int)\n",
    "for n in range(44):\n",
    "    x[n]=n*(n+1)*(2*n+1)/6\n",
    "print(x,end=\" \")        "
   ]
  },
  {
   "cell_type": "markdown",
   "metadata": {},
   "source": [
    "<hr style=\"border-top: 2px gold solid\">\n",
    "<font size=4>\n",
    "OEIS: A000537\tSum of first n cubes; or n-th triangular number squared.<br>\n",
    "A closed formula for $m=3$ is $$a(n)=(n\\cdot (n+1)/2)^2$$"
   ]
  },
  {
   "cell_type": "code",
   "execution_count": 55,
   "metadata": {},
   "outputs": [
    {
     "name": "stdout",
     "output_type": "stream",
     "text": [
      "[     0      1      9     36    100    225    441    784   1296   2025\n",
      "   3025   4356   6084   8281  11025  14400  18496  23409  29241  36100\n",
      "  44100  53361  64009  76176  90000 105625 123201 142884 164836 189225\n",
      " 216225 246016 278784 314721 354025 396900 443556 494209 549081 608400\n",
      " 672400 741321 815409 894916] \n",
      "\n",
      "Start over and use the closed formula\n",
      "[     0      1      9     36    100    225    441    784   1296   2025\n",
      "   3025   4356   6084   8281  11025  14400  18496  23409  29241  36100\n",
      "  44100  53361  64009  76176  90000 105625 123201 142884 164836 189225\n",
      " 216225 246016 278784 314721 354025 396900 443556 494209 549081 608400\n",
      " 672400 741321 815409 894916] "
     ]
    }
   ],
   "source": [
    "%reset -f\n",
    "from numpy import *\n",
    "import matplotlib.pyplot as plt\n",
    "%matplotlib inline\n",
    "\n",
    "siz=44; m=3\n",
    "x=linspace(0,0,num=siz,dtype=int)\n",
    "# print(x,end=\" \")\n",
    "# print(\"\")\n",
    "\n",
    "for n in range(1,siz):\n",
    "    sum=0\n",
    "    for j in range(n+1):\n",
    "        sum=sum+j**m\n",
    "    x[n]=sum\n",
    "print(x,end=\" \")\n",
    "\n",
    " \n",
    "print(\"\\n\")\n",
    "print(\"Start over and use a closed formula\")        \n",
    "\n",
    "x=linspace(0,0,num=siz,dtype=int)\n",
    "for n in range(44):\n",
    "    x[n]=(n*(n+1)/2)**2\n",
    "print(x,end=\" \")   "
   ]
  },
  {
   "cell_type": "code",
   "execution_count": null,
   "metadata": {},
   "outputs": [],
   "source": []
  }
 ],
 "metadata": {
  "kernelspec": {
   "display_name": "Python 3",
   "language": "python",
   "name": "python3"
  },
  "language_info": {
   "codemirror_mode": {
    "name": "ipython",
    "version": 3
   },
   "file_extension": ".py",
   "mimetype": "text/x-python",
   "name": "python",
   "nbconvert_exporter": "python",
   "pygments_lexer": "ipython3",
   "version": "3.7.3"
  }
 },
 "nbformat": 4,
 "nbformat_minor": 2
}
