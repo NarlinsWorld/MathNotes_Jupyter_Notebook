{
 "cells": [
  {
   "cell_type": "markdown",
   "metadata": {},
   "source": [
    "<strong>Definition of Functional Limit</strong>  Let $f:A\\rightarrow\\mathbb{R},$ and let $c$ be a limit point of the domain $A$.  Then,\n",
    "$$\n",
    "\\lim_{x\\rightarrow c}f(x)=L\n",
    "$$\n",
    "when $\\forall \\epsilon >0, \\exists\\; \\delta > 0$ and whenever $0<|x-c|<\\delta,$ then $|f(x)-L|<\\epsilon$ \n",
    "\n",
    "Of course, the definition assumes $x\\in A.$\n",
    "Succinctly, $$0<|x-c|<\\delta\\Longrightarrow |f(x)-L|<\\epsilon.$$\n",
    "In using the definition in a proof, it is often \"given an $\\epsilon$\", find $\\delta$"
   ]
  },
  {
   "cell_type": "markdown",
   "metadata": {},
   "source": [
    "<hr style='border-top: 1px brown solid;'>\n",
    "Example 1: Let $f(x)=3x+1.$ Show that $\\lim_{x\\rightarrow 2}f(x)=7$\n",
    "\n",
    "\n",
    "<i>Proof</i> We need to find $\\delta$ such that $0<|x-7|<\\delta \\Longrightarrow |f(x)-7|<\\epsilon$\n",
    "$$|3x+1-7|=|3x-6|=3|x-2|<\\epsilon$$\n",
    "So by algebra, $$|x-2|<\\frac{\\epsilon}{3}=\\delta$$\n",
    "<hr style='border-top: 1px brown solid;'>\n",
    "\n",
    "Example 2: Let $f(x)=3x^2+2x+1$ Show that $lim_{x\\rightarrow 2}f(x)=17$\n",
    "\n",
    "<i>Proof: </i> We need to find $\\delta$ such that $0<|x-17|<\\delta \\Longrightarrow |f(x)-17|<\\epsilon$\n",
    "$$|3x^2+2x+1-17|=|3x^2+2x-16|=|3x+8|\\cdot |x-2|<\\epsilon$$\n",
    "By algebra, $$|x-2|=\\frac{\\epsilon}{|3x+8|}=\\delta$$\n",
    "Whenever $x\\rightarrow 2$, $$\\color{red}{\\delta=\\frac{\\epsilon}{|3\\cdot 2+8|}=\\frac{\\epsilon}{14}}$$\n",
    "Numerically, say I want $|x-2|\\le\\frac{1}{2},$ then $\\delta \\le \\frac{\\frac{1}{2}}{14}=\\frac{1}{28}.$"
   ]
  },
  {
   "cell_type": "markdown",
   "metadata": {},
   "source": [
    "<hr style='border-top: 1px black solid;'>\n",
    "<strong>Definition for Functional Limit (Topology version)</strong><br>\n",
    "Let $c$ be a limit point of the domain of $f s.t. A\\rightarrow \\mathbb{R}.$ We say\n",
    "$$\\lim_{x\\rightarrow c}f(x)=L$$\n",
    "provided that, for every $\\epsilon$-neighborhood $V_{\\epsilon}(L)$ of $L$, there exists a $\\delta$-neighborhood $V_{\\delta}(c)$ around $c$ with the property that for all $x \\in V_{\\delta}(c)$ different from $c$ (with $x \\in A$) it follows that $f(x)\\in V_{\\epsilon}(L).$\n",
    "$$\n",
    "\\text{Succinctly: }x\\in V_{\\delta}(c)\\Longrightarrow f(x) \\in V_{\\epsilon}(L) \n",
    "$$"
   ]
  },
  {
   "cell_type": "code",
   "execution_count": null,
   "metadata": {},
   "outputs": [],
   "source": []
  }
 ],
 "metadata": {
  "kernelspec": {
   "display_name": "SageMath 9.1",
   "language": "sage",
   "name": "sagemath"
  },
  "language_info": {
   "codemirror_mode": {
    "name": "ipython",
    "version": 3
   },
   "file_extension": ".py",
   "mimetype": "text/x-python",
   "name": "python",
   "nbconvert_exporter": "python",
   "pygments_lexer": "ipython3",
   "version": "3.7.3"
  }
 },
 "nbformat": 4,
 "nbformat_minor": 2
}
