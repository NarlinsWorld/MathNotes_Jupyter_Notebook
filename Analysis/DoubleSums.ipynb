{
 "cells": [
  {
   "cell_type": "markdown",
   "metadata": {},
   "source": [
    "Let’s say we are given a grid of real numbers ${a_{ij} : i, j \\in N},$ <br>where\n",
    "$a_{ij} = \\frac{1}{2^{j−i}}$ if $j > i,$  <br>$a_{ij} = −1$ if $j = i,$ and <br>$a_{ij} = 0$ if $j < i.$"
   ]
  },
  {
   "cell_type": "code",
   "execution_count": 50,
   "metadata": {},
   "outputs": [
    {
     "name": "stdout",
     "output_type": "stream",
     "text": [
      "-1/16384\n",
      "-1/8192\n",
      "-1/4096\n",
      "-1/2048\n",
      "-1/1024\n",
      "-1/512\n",
      "-1/256\n",
      "-1/128\n",
      "-1/64\n",
      "-1/32\n",
      "-1/16\n",
      "-1/8\n",
      "-1/4\n",
      "-1/2\n",
      "-1\n",
      "sum of rows = -1.99993896484375\n",
      "-1\n",
      "-1/2\n",
      "-1/4\n",
      "-1/8\n",
      "-1/16\n",
      "-1/32\n",
      "-1/64\n",
      "-1/128\n",
      "-1/256\n",
      "-1/512\n",
      "-1/1024\n",
      "-1/2048\n",
      "-1/4096\n",
      "-1/8192\n",
      "-1/16384\n",
      "sum of cols = -1.99993896484375\n"
     ]
    },
    {
     "data": {
      "text/html": [
       "<html><script type=\"math/tex; mode=display\">\\newcommand{\\Bold}[1]{\\mathbf{#1}}\\left(\\begin{array}{rrrrrrrrrrrrrrr}\n",
       "-1 & \\frac{1}{2} & \\frac{1}{4} & \\frac{1}{8} & \\frac{1}{16} & \\frac{1}{32} & \\frac{1}{64} & \\frac{1}{128} & \\frac{1}{256} & \\frac{1}{512} & \\frac{1}{1024} & \\frac{1}{2048} & \\frac{1}{4096} & \\frac{1}{8192} & \\frac{1}{16384} \\\\\n",
       "0 & -1 & \\frac{1}{2} & \\frac{1}{4} & \\frac{1}{8} & \\frac{1}{16} & \\frac{1}{32} & \\frac{1}{64} & \\frac{1}{128} & \\frac{1}{256} & \\frac{1}{512} & \\frac{1}{1024} & \\frac{1}{2048} & \\frac{1}{4096} & \\frac{1}{8192} \\\\\n",
       "0 & 0 & -1 & \\frac{1}{2} & \\frac{1}{4} & \\frac{1}{8} & \\frac{1}{16} & \\frac{1}{32} & \\frac{1}{64} & \\frac{1}{128} & \\frac{1}{256} & \\frac{1}{512} & \\frac{1}{1024} & \\frac{1}{2048} & \\frac{1}{4096} \\\\\n",
       "0 & 0 & 0 & -1 & \\frac{1}{2} & \\frac{1}{4} & \\frac{1}{8} & \\frac{1}{16} & \\frac{1}{32} & \\frac{1}{64} & \\frac{1}{128} & \\frac{1}{256} & \\frac{1}{512} & \\frac{1}{1024} & \\frac{1}{2048} \\\\\n",
       "0 & 0 & 0 & 0 & -1 & \\frac{1}{2} & \\frac{1}{4} & \\frac{1}{8} & \\frac{1}{16} & \\frac{1}{32} & \\frac{1}{64} & \\frac{1}{128} & \\frac{1}{256} & \\frac{1}{512} & \\frac{1}{1024} \\\\\n",
       "0 & 0 & 0 & 0 & 0 & -1 & \\frac{1}{2} & \\frac{1}{4} & \\frac{1}{8} & \\frac{1}{16} & \\frac{1}{32} & \\frac{1}{64} & \\frac{1}{128} & \\frac{1}{256} & \\frac{1}{512} \\\\\n",
       "0 & 0 & 0 & 0 & 0 & 0 & -1 & \\frac{1}{2} & \\frac{1}{4} & \\frac{1}{8} & \\frac{1}{16} & \\frac{1}{32} & \\frac{1}{64} & \\frac{1}{128} & \\frac{1}{256} \\\\\n",
       "0 & 0 & 0 & 0 & 0 & 0 & 0 & -1 & \\frac{1}{2} & \\frac{1}{4} & \\frac{1}{8} & \\frac{1}{16} & \\frac{1}{32} & \\frac{1}{64} & \\frac{1}{128} \\\\\n",
       "0 & 0 & 0 & 0 & 0 & 0 & 0 & 0 & -1 & \\frac{1}{2} & \\frac{1}{4} & \\frac{1}{8} & \\frac{1}{16} & \\frac{1}{32} & \\frac{1}{64} \\\\\n",
       "0 & 0 & 0 & 0 & 0 & 0 & 0 & 0 & 0 & -1 & \\frac{1}{2} & \\frac{1}{4} & \\frac{1}{8} & \\frac{1}{16} & \\frac{1}{32} \\\\\n",
       "0 & 0 & 0 & 0 & 0 & 0 & 0 & 0 & 0 & 0 & -1 & \\frac{1}{2} & \\frac{1}{4} & \\frac{1}{8} & \\frac{1}{16} \\\\\n",
       "0 & 0 & 0 & 0 & 0 & 0 & 0 & 0 & 0 & 0 & 0 & -1 & \\frac{1}{2} & \\frac{1}{4} & \\frac{1}{8} \\\\\n",
       "0 & 0 & 0 & 0 & 0 & 0 & 0 & 0 & 0 & 0 & 0 & 0 & -1 & \\frac{1}{2} & \\frac{1}{4} \\\\\n",
       "0 & 0 & 0 & 0 & 0 & 0 & 0 & 0 & 0 & 0 & 0 & 0 & 0 & -1 & \\frac{1}{2} \\\\\n",
       "0 & 0 & 0 & 0 & 0 & 0 & 0 & 0 & 0 & 0 & 0 & 0 & 0 & 0 & -1\n",
       "\\end{array}\\right)</script></html>"
      ],
      "text/plain": [
       "[     -1     1/2     1/4     1/8    1/16    1/32    1/64   1/128   1/256   1/512  1/1024  1/2048  1/4096  1/8192 1/16384]\n",
       "[      0      -1     1/2     1/4     1/8    1/16    1/32    1/64   1/128   1/256   1/512  1/1024  1/2048  1/4096  1/8192]\n",
       "[      0       0      -1     1/2     1/4     1/8    1/16    1/32    1/64   1/128   1/256   1/512  1/1024  1/2048  1/4096]\n",
       "[      0       0       0      -1     1/2     1/4     1/8    1/16    1/32    1/64   1/128   1/256   1/512  1/1024  1/2048]\n",
       "[      0       0       0       0      -1     1/2     1/4     1/8    1/16    1/32    1/64   1/128   1/256   1/512  1/1024]\n",
       "[      0       0       0       0       0      -1     1/2     1/4     1/8    1/16    1/32    1/64   1/128   1/256   1/512]\n",
       "[      0       0       0       0       0       0      -1     1/2     1/4     1/8    1/16    1/32    1/64   1/128   1/256]\n",
       "[      0       0       0       0       0       0       0      -1     1/2     1/4     1/8    1/16    1/32    1/64   1/128]\n",
       "[      0       0       0       0       0       0       0       0      -1     1/2     1/4     1/8    1/16    1/32    1/64]\n",
       "[      0       0       0       0       0       0       0       0       0      -1     1/2     1/4     1/8    1/16    1/32]\n",
       "[      0       0       0       0       0       0       0       0       0       0      -1     1/2     1/4     1/8    1/16]\n",
       "[      0       0       0       0       0       0       0       0       0       0       0      -1     1/2     1/4     1/8]\n",
       "[      0       0       0       0       0       0       0       0       0       0       0       0      -1     1/2     1/4]\n",
       "[      0       0       0       0       0       0       0       0       0       0       0       0       0      -1     1/2]\n",
       "[      0       0       0       0       0       0       0       0       0       0       0       0       0       0      -1]"
      ]
     },
     "metadata": {},
     "output_type": "display_data"
    }
   ],
   "source": [
    "L=15;\n",
    "m = matrix(SR,L,L)\n",
    "for j in range(L):\n",
    "    for i in range(L):\n",
    "        if(j>i):\n",
    "            m[i,j]=(1/(2^(j-i)))\n",
    "        elif(i==j):\n",
    "            m[i,j]=-1\n",
    "        else:\n",
    "            m[i,j]=0        \n",
    "\n",
    "sumrws=0\n",
    "for i in range(L):\n",
    "    rws=0; \n",
    "    for j in range(L):\n",
    "            rws=rws+m[i,j]\n",
    "    print(rws)\n",
    "    sumrws=sumrws+rws\n",
    "print('sum of rows =',sumrws.n())\n",
    "\n",
    "sumcols=0\n",
    "for j in range(L):\n",
    "    col=0; \n",
    "    for i in range(L):\n",
    "            col=col+m[i,j]\n",
    "    print(col)\n",
    "    sumcols=sumcols+col\n",
    "print('sum of cols =',sumcols.n())\n",
    "\n",
    "show(m)"
   ]
  },
  {
   "cell_type": "code",
   "execution_count": null,
   "metadata": {},
   "outputs": [],
   "source": []
  }
 ],
 "metadata": {
  "kernelspec": {
   "display_name": "SageMath 9.1",
   "language": "sage",
   "name": "sagemath"
  },
  "language_info": {
   "codemirror_mode": {
    "name": "ipython",
    "version": 3
   },
   "file_extension": ".py",
   "mimetype": "text/x-python",
   "name": "python",
   "nbconvert_exporter": "python",
   "pygments_lexer": "ipython3",
   "version": "3.7.3"
  }
 },
 "nbformat": 4,
 "nbformat_minor": 2
}
