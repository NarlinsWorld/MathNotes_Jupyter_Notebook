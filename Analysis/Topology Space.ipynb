{
 "cells": [
  {
   "cell_type": "markdown",
   "metadata": {},
   "source": [
    "A topological space is an ordered pair $(X,\\tau )$ where $X$ is a set and $\\tau$  is a collection of subsets of $X$, satisfying the following axioms:[8]\n",
    "\n",
    "1. The empty set, $\\varnothing$ and $X$ itself belong to $\\tau.$\n",
    "2. Any arbitrary (finite or infinite) union of members of $\\tau$  belongs to $\\tau .$\n",
    "3. The intersection of any finite number of members of $\\tau$  belongs to $\\tau.$\n",
    "<hr style=\"border-top: 1px green solid;\">\n",
    "In the figures below, circles indicate sets of the topological space.<br>\n",
    "\n",
    "\n",
    "1. In set $1,$ The space is $(\\varnothing,X)$ This is the indiscrete or Trivial topology.\n",
    "2. In set 2, The space consists of $\\emptyset,X,\\{a\\},\\{ab\\}$\n",
    "3. In set 3, The space consists of $\\varnothing,X,\\{ab\\},\\{b\\},\\{bc\\}$\n",
    "4. In set 4, The space consists of $\\varnothing,X,\\{b\\}$\n",
    "5. In set 5, The space consists of $\\varnothing,X,\\{a\\},\\{bc\\}$\n",
    "6. In set 6, The space consists of $\\varnothing,X,\\{ab,b\\},\\{c\\},\\{bc\\}$\n",
    "7. In set 7, The space consists of $\\varnothing,X,\\{ab\\}$\n",
    "8. In set 8, The space consists of $\\varnothing,X,\\{a\\},\\{b\\},\\{ab\\}$\n",
    "9. In set 9, The space consists of $\\varnothing,X,\\{a\\},\\{b\\},\\{c\\},\\{ab\\},\\{ac\\},\\{bc\\}$ The discrete topology on X (has all subsets).\n",
    "10. In set 10, <span style=\"color: red;\">The space consists of $\\varnothing,X,\\{a\\},\\{b\\} \\ne$ Topological Space because, $\\{a\\}\\cup \\{b\\}=\\{ab\\}\\notin X$ but it is required under step 2 of the definition.</span>\n",
    "11. In set 11, <span style=\"color: red;\">The space consists of $\\varnothing,X,\\{ab\\},\\{bc\\} \\ne$ Topological Space because, $\\{ab\\}\\cap \\{bc\\}=\\{b\\}\\notin X$ but it is required by step 3 of the definition.</span>"
   ]
  },
  {
   "cell_type": "markdown",
   "metadata": {},
   "source": [
    "<img src=\"../Topological Space.png\" width=\"50%\" height=\"50%\">"
   ]
  },
  {
   "cell_type": "markdown",
   "metadata": {},
   "source": [
    "<hr style='border-top: 1px purple solid;'>\n",
    "“Usual topology” for $\\mathbb{R}$ is the one where the basic open sets have the form \n",
    "$(a,b)= \\{x∈R:a<x<b\\}$<br><br>\n",
    "If $\\mathcal{A}$ is a collection of sets, then\n",
    "$$\\bigcup \\mathcal{A}=\\bigcup_{X\\in \\mathcal{A}}X.$$\n",
    "In words, $\\bigcup \\mathcal{A}$ is the set containing all the elements of all the sets in $\\mathcal{A}.$\n",
    "\n",
    "<span style='color: red;'>Cover:</span> If the set $X$ is a topological space, then a cover $C$ of $X$ is a collection of subsets $\\{U_{\\alpha}\\}_{\\alpha \\in A}$ of $X$ whose union is the whole space $X$. In this case we say that $C$ covers $X$, or that the sets $U_{\\alpha }$ cover $X.$\n",
    "\n",
    "\n",
    "<strong>Definition:</strong>Let $X$ be a set. A collection of sets $\\mathcal{B}\\subseteq \\mathcal{P}(X)$ is called a <span style='color: red;'><strong>basis</strong></span> on $X$ if the following two properties hold:\n",
    "1. $\\mathcal{B}$ covers $X.$ That means $\\forall x\\in X,\\exists B\\in \\mathcal{B}$ such that $x\\in B \\subseteq B_1 \\cap B_2.$ Said otherwise, $X = \\bigcup \\mathcal{B}$\n",
    "2. $\\forall B_1,B_2 \\in \\mathcal{B}, \\forall x \\in B_1\\cap B_2, \\exists B\\in \\mathcal{B} : x\\in B\\subseteq B_1\\cap B_2.$\n",
    "\n",
    "<i>In words, the second property says: given a point x in the intersection of two elements of the\n",
    "basis, there is some element of the basis containing x and contained in this intersection.\n",
    "</i>\n",
    "\n",
    "Any open set in a topology can be generated through a union of base elements.\n",
    "$$B\\subseteq \\tau\\; s.t. \\forall U \\in \\tau, \\exists \\{B_i\\}_{i \\in I} \\subseteq B \\text{ with } \\bigcup_{i \\in I}B_i=U.$$\n",
    "<hr style='border-top: 1px purple solid;'>\n",
    "Let's say this another way.\n",
    "\n",
    "Basis for a Topology: $\\mathscr{B}$ is a collection of subsets of $X$ s.t. \n",
    "1. for any $p\\in X$, there is $B\\in \\mathscr{B}$ s.t. $p\\in B$.\n",
    "2. if $B_1,B_2 \\in \\mathscr{B},$ and $p\\in B_1 \\cap B_2$, then there will be a $B_3\\in \\mathscr{B}$ s.t. $B_3 \\subseteq B_1\\cap B_2$  \n",
    "\n",
    "It should be clear from this that a basis generates a topology.  One doesn't have to first have the topology and then get the basis.  It can be vice versa."
   ]
  },
  {
   "cell_type": "code",
   "execution_count": null,
   "metadata": {},
   "outputs": [],
   "source": []
  }
 ],
 "metadata": {
  "kernelspec": {
   "display_name": "SageMath 9.1",
   "language": "sage",
   "name": "sagemath"
  },
  "language_info": {
   "codemirror_mode": {
    "name": "ipython",
    "version": 3
   },
   "file_extension": ".py",
   "mimetype": "text/x-python",
   "name": "python",
   "nbconvert_exporter": "python",
   "pygments_lexer": "ipython3",
   "version": "3.7.3"
  }
 },
 "nbformat": 4,
 "nbformat_minor": 2
}
