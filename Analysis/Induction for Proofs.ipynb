{
 "cells": [
  {
   "cell_type": "markdown",
   "metadata": {},
   "source": [
    "When learning the induction proof method, it appears that there is a formula-like method to follow.\n",
    "1. State the Proposition.\n",
    "2. Prove the Base Case.\n",
    "3. State the Hypothesis. This is the proposition with n=k+1.\n",
    "4. State the Inductive Step. \"We want to $\\textbf{show}$ that $P(n)$ is true for $n=k+1.$\"<br>\n",
    "Beyond this, there is <strong>no rote method or fomula.</strong>   You have to begin with the assumption (hypothesis) and try to algebraically rearrange things to arrive at what you want to show.\n",
    "Induction is real because there is not a clear procedure for the “proof” part."
   ]
  },
  {
   "cell_type": "markdown",
   "metadata": {},
   "source": [
    "<hr style='border-top: 1px,solid,blue;'>\n",
    "The following proofs are included on this page.\n",
    "<li>$P(n): \\left\\{ 2+5+8+11+\\ldots +\\color{green}{\\left[2+3(n-1)\\right]} = n^2+1 \\right\\}$ Prove this false</li>\n",
    "<li>$P(n): \\left\\{ 2+5+8+11+\\ldots +\\color{green}{\\left[2+3(n-1)\\right]} = \\frac{n}{2}\\big(a_1+2+3(n-1)\\big) \\right\\}$</li>\n",
    "<li>$P(n): \\big\\{ \\text{ for }n\\ge 5, 4n<2^n \\big\\}$</li>\n",
    "<li>For $n≥1, 8^n−3^n$ is divisible by 5. Read '|' as 'divides'.</li>\n",
    "<li>Prove that for an arithmetic sequence that the nth term is given by $P(n): a_n=a_1+(n-1)d$</li>\n",
    "<li>Prove that for each positive integer $n$ that \n",
    "$(1+x)^n \\ge 1+nx, \\quad(x\\ge -1)$</li>\n",
    "<li>$P(n): \\frac{1}{2}+\\frac{1}{6}+...+\\frac{1}{n(n+1)}=\\frac{n}{n+1}$</li>\n",
    "<li>$P(n):$ for $n\\in\\mathbb{N}, 0<\\frac{n!}{n^n}$</li>\n",
    "<li>Prove that the sum of the first $n$ odd numbers is $n^2$.</li>"
   ]
  },
  {
   "cell_type": "markdown",
   "metadata": {},
   "source": [
    "<hr style='border-top: solid 1px blue;'>\n",
    "Try to prove the following <span style='color: red;'>false statement</span> using induction.<br>\n",
    "Proof by Induction  \n",
    "We will try to prove that $P(n): \\left\\{ 2+5+8+11+\\ldots +\\color{green}{\\left[2+3(n-1)\\right]} = n^2+1 \\right\\}$ <br> \n",
    "$\\color{blue}{\\text{Base Case:}}$ first term, $n=1$ is $2.$ $(1)^2+1=2.$  We have shown that it is true for the 1st term.<br>\n",
    "$\\color{red}{\\text{Hypothesis:}}$ Assume $n=k$ such that $2+5+8+\\cdots +\\left[2+3(k-1)\\right]=k^2+1$<br>\n",
    "$\\color{purple}{\\text{The Inductive Step:}}$We want to show $P(n)$ is true for  $n=k+1.$<br> \n",
    "Begin with the hypothesis.\n",
    "$$2+5+8+\\cdots +\\left[2+3(k-1)\\right]=k^2+1$$\n",
    "On the LHS, show the sum up to term (k+1) and on the RHS, since it is the $\\sum_{k=1}^{k}\\big(2+3(k-1)\\big),$ we can just add the $(k+1)$ term, which is $2+3[(k+1)-1]$<br>\n",
    "$$2+5+8+\\cdots +\\Big(2+3\\big((k+1)-1\\big)\\Big)=k^2+1+\\Big(2+3\\big((k+1)-1\\big)\\Big)$$\n",
    "but the right side simplifies to $k^2+3k+3 \\ne (k+1)^2+1$ so the proof fails."
   ]
  },
  {
   "cell_type": "markdown",
   "metadata": {},
   "source": [
    "<hr style='border-top: 1px solid;'>\n",
    "Proof by Induction  \n",
    "We will try to prove that $P(n): \\left\\{ 2+5+8+11+\\ldots +\\color{green}{\\left[2+3(n-1)\\right]} = \\frac{n}{2}\\big(a_1+2+3(n-1)\\big) \\right\\}$ where the $P(n)$ stands for Proposition<br>   \n",
    "$\\color{blue}{\\text{Base Case:}}$ first term, $a_1=2$ for $n=1$ is $$\\frac{1}{2}\\Big((2)+\\big(2+3(1-1)\\big)\\Big)=2$$  We have shown that $P(n)$ is true for the 1st term.<br>\n",
    "$\\color{red}{\\text{Hypothesis:}}$ Assume $n=k$ such that $2+5+8+\\cdots +\\left[2+3(k-1)\\right]=\\frac{k}{2}\\left(a_1+2+3(k-1)\\right)$<br>\n",
    "$\\color{purple}{\\text{The Inductive Step:}}$We want to show $P(n)$ is true for  $n=k+1.$<br> \n",
    "Begin with the hypothesis, substituting $\\mathbf{2}$ for $a_1$.\n",
    "$$2+5+8+\\cdots +\\left[2+3(k-1)\\right]=\\frac{k}{2}\\left(2+2+3(k-1)\\right)$$\n",
    "Now we can add the (k+1) term to both sides. \n",
    "$$2+5+8+\\cdots +\\left[2+3(k-1)\\right]+\\left[2+3((k+1)-1)\\right]=\\frac{k}{2}\\left(2+2+3(k-1)\\right)+\\left[2+3((k+1)-1)\\right]$$\n",
    "By algebra, the $RHS=\\frac{1}{2}(3k+4)(k+1)$<br>\n",
    "Which rearranges to $$\\frac{k+1}{2}(4+3k)=\\frac{k+1}{2}(2+2+3((k+1)-1))$$\n",
    "which proves that $P(n)$ is true for $n=k+1.\\qquad\\qquad\\blacksquare$"
   ]
  },
  {
   "cell_type": "markdown",
   "metadata": {},
   "source": [
    "<hr style='border-top: 1px solid lightgray;' />\n",
    "Prove the proposition $P(n): \\big\\{ \\text{ for }n\\ge 5, 4n<2^n \\big\\}$<br>\n",
    "<span style='color: red;'>Base Case: </span> for $n=5$,&ensp; $4(5)<2^5$ &ensp; $20<32.$ The base case is true.<br>\n",
    "<span style='color: red;'>Hypothesis: </span> Assume $4k<2^k$<br>  \n",
    "<span style='color: red;'>Show: </span> $4(k+1)<2^{k+1}$<br>\n",
    "Starting with the inductive step:$$4k<2^k \\tag{eq 1}$$\n",
    "Add 4 to both sides, $$4k+4<2^k+4 \\tag{eq 2}$$\n",
    "But, $$2^k+4 < 2^k+2^k \\tag{eq 3}$$ because $k\\ge 5.$ i.e. $2^5+4 < 2^5+2^5$<br>\n",
    "Putting together Eqs 1,2, and 3<br>\n",
    "$$4k+4=4(k+1)<2^k+4<2^k+2^k=2^{k+1}$$\n",
    "$$4(k+1)<2^{k+1} \\qquad \\blacksquare$$"
   ]
  },
  {
   "cell_type": "markdown",
   "metadata": {},
   "source": [
    "<hr style='border-top: 1px solid;'>\n",
    "Prove: For $n≥1, 8^n−3^n$ is divisible by 5. Read '|' as 'divides'.<br>\n",
    "<span style='color: red;'>Base Case: </span> $5 | \\big(8^1-3^1\\big)\\Rightarrow 5 | 5$ The base case is true.<br>\n",
    "<span style='color: red;'>Hypothesis: </span> Assume $5|\\big(8^k-3^k\\big)$<br>\n",
    "<span style='color: red;'>Show:</span> $5|\\big( 8^{k+1}-3^{k+1} \\big)$"
   ]
  },
  {
   "cell_type": "markdown",
   "metadata": {},
   "source": [
    "Starting with the inductive step: $$5|\\big(8^k-3^k\\big)$$\n",
    "Add $8^k$ and subtract $3^k$ to both sides: $$\\big(5+8^k-3^k\\big) | \\big( 8^k+8^k -3^k -3^k  \\big)$$\n",
    "Write the terms on the right as exponents\n",
    "$$\\big(5+8^k-3^k\\big) | \\big( 8^{k+1} -3^{k+1}  \\big) $$ \n",
    "\n",
    "From the hypothesis, the LHS is divisible by 5 since $\\big(8^k-3^k\\big)$ is divisible by 5, thus 5 is a factor of both sides<br>\n",
    "$$5 | \\big( 8^{k+1} -3^{k+1}  \\big) \\qquad \\blacksquare$$ \n"
   ]
  },
  {
   "cell_type": "markdown",
   "metadata": {},
   "source": [
    "<hr style='border-top: 1px blue solid;'>\n",
    "Definition: An arithmetic sequence is one that differs by a constant, d, between each term.<br>\n",
    "Prove that for an arithmetic sequence that the nth term is given by $P(n): a_n=a_1+(n-1)d$<br>\n",
    "<span style='color: blue;'>Base Case: </span> $a_1+(1-1)d=a_1+0\\cdot d=a_1.$ The base case is proved.<br>\n",
    "<span style='color: red;'>Hypothesis: </span> Assume $a_k=a_1+(k-1)d$<br>\n",
    "<span style='color: red;'>Show: </span> We want to show that P(n) is true for $n=k+1$\n",
    "$$a_{k+1}=a_1+\\big((k+1)-1\\big)d \\tag{eq 1}$$\n",
    "Begin with our Assumption: $$a_k=a_1+(k-1)d$$\n",
    "By the definition, the next term is: $a_k+d=a_{k+1}$ so add $d$ to both sides.\n",
    "$$a_{k+1}=a_1+(k-1)d+d$$\n",
    "$$a_{k+1}=a_1+kd-d+d$$\n",
    "$$a_{k+1}=a_1+kd$$\n",
    "$$a_{k+1}=a_1+\\big((k+1)-1\\big)d \\qquad \\blacksquare$$"
   ]
  },
  {
   "cell_type": "markdown",
   "metadata": {},
   "source": [
    "<hr style='border-top: 1px blue solid;'>\n",
    "Prove that for each positive integer $n$ that\n",
    "$$(1+x)^n \\ge 1+nx, \\quad(x\\ge -1)$$\n",
    "$P(n): (1+x)^n \\ge 1+nx$ for $(x\\ge -1)$<br>\n",
    "<span style='color: blue;'>Base Case:</span>\n",
    "Let $n=1$ then $(1+x)^1 = 1+1\\cdot x$ The base case is proved.<br>\n",
    "<span style='color: red;'>Hypothesis:</span>\n",
    "Assume $(1+x)^{k} \\ge 1+kx$<br>\n",
    "<span style='color: red;'>Show:</span> P(n) is true for $n=k+1$ that is, $$(1+x)^{k+1}\\ge 1+(k+1)x \\text{ when } (x \\ge -1). \\tag{eq 1}$$\n",
    "Begin with our assumption $$(1+x)^k \\ge 1+kx$$\n",
    "Multiply both sides by $(1+x)$\n",
    "$$(1+x)^k(1+x) \\ge (1+kx)(1+x)$$\n",
    "On the left, we have $(1+x)^{k+1}.$ which is like eq 1. We will work on the right.\n",
    "\\begin{align}\n",
    "& \\ge (1+kx)(1+x)\\\\\n",
    "& \\ge 1+kx+x+kx^2\\\\\n",
    "& \\ge 1+(k+1)x+kx^2\\\\\n",
    "& \\ge 1+(k+1)x \n",
    "\\end{align}\n",
    "The last line being true because $(x\\ge -1)$ $\\qquad\\blacksquare$"
   ]
  },
  {
   "cell_type": "markdown",
   "metadata": {},
   "source": [
    "<hr style='border-top: 1px blue solid;'>\n",
    "Given the following Telescoping Series,\n",
    "$$\\frac{1}{2}+\\frac{1}{6}+...+\\frac{1}{n(n+1)}$$ \n",
    "Prove that it sums to $\\displaystyle{\\frac{n}{n+1}}$<br><br>\n",
    "$P(n): \\frac{1}{2}+\\frac{1}{6}+...+\\frac{1}{n(n+1)}=\\frac{n}{n+1}$<br><br>\n",
    "<span style='color: blue;'>Base Case: </span> $a_1=\\frac{1}{2}$ and $\\frac{n}{n+1}=\\frac{1}{1+1}=1/2.$ So the statement is true for n=1.<br>\n",
    "<span style='color: red;'>Hypothesis:</span>\n",
    "$\\frac{1}{2}+\\frac{1}{6}+...+\\frac{1}{k(k+1)}=\\frac{k}{k+1}$<br>\n",
    "<span style='color: red;'>Show:</span> P(n) is true for $n=k+1$<br>\n",
    "Begin by assuming the hypothesis and add the k+1  term to both sides. The term is given by $\\frac{1}{(k+1)(k+1+1)}$<br>\n",
    "$$\\frac{1}{2}+\\frac{1}{6}+...+\\frac{1}{k(k+1)} + \\frac{1}{(k+1)(k+1+1)} =\\frac{k}{k+1}+\\frac{1}{(k+1)(k+1+1)}$$ \n",
    "If the RHS can be algebraically shown to be $\\frac{k+1}{k+1+1}$ then we will have proved our case.<br>\n",
    "$$\\begin{align}RHS &=\\frac{k}{k+1}+\\frac{1}{(k+1)(k+1+1)}\\\\\n",
    "&= \\frac{k(k+2)+1}{(k+1)(k+2)}\\\\\n",
    "&= \\frac{k^2+2k+1}{(k+1)(k+2)}\\\\\n",
    "&= \\frac{(k+1)(k+1}{(k+1)(k+2)}\\\\\n",
    "&= \\frac{(k+1)}{(k+2)} \\quad \\blacksquare\n",
    "\\end{align}$$"
   ]
  },
  {
   "cell_type": "markdown",
   "metadata": {},
   "source": [
    "<hr style='border-top: 1px green solid;'>\n",
    "Prove that for $n\\in\\mathbb{N},$ $$ 0<\\frac{n!}{n^n}.$$<br>\n",
    "$P(n):$ for $n\\in\\mathbb{N}, 0<\\frac{n!}{n^n}$<br>\n",
    "<span style='color: blue;'>Base Case: </span> Let $n=1$ then $$0<\\frac{1!}{1^1}\\Leftrightarrow0<1.$$ The base case is true.<br>\n",
    "<span style='color: red;'>Hypothesis: </span> Assume $n=k$ such that $0<\\frac{k!}{k^k}$<br>\n",
    "<span style='color: red;'>Show:</span> P(n) is true for $n=k+1$<br>\n",
    "Since $k$ is an integer $>0$, $0<k!$ for all $k.$ Therefore $0<(k+1)!$ And, since $k+1$ is an integer $>0,$ $0<(k+1)^{(k+1)}$.  Since $0<(k+1)!$ and $0<(k+1)^{k+1},$ then because a positive integer divided by a positive integer is always greater than zero, $$0<\\frac{(k+1)!}{(k+1)^{k+1}}\\qquad\\blacksquare$$"
   ]
  },
  {
   "cell_type": "markdown",
   "metadata": {},
   "source": [
    "<hr style=\"border-top: 1px solid blue;\">\n",
    "Prove that the sum of the first $n$ odd numbers is $n^2$.<br>\n",
    "$P(n):$ for $n\\in \\mathbb{N}$ \\;then $1+3+5+...+2n-1 = n^2$<br>\n",
    "$\\color{blue}{\\text{Base Case:}}$ Let $n=1$ then $1=1^2$ The base case is true.<br>\n",
    "<span style='color: red;'>Hypothesis:</span> Assume $n=k$ such that $1+2+\\ldots +2k-1 = k^2.$<br>\n",
    "    <span style='color: red;'>Show:</span> $P(n)$ is true for $n=k+1.$  <br>\n",
    "We will add the next term to the left.  That term is $2k+1$.  On the right, we should get $(k+1)^2$\n",
    "$$1+3+\\ldots +(2k-1)+(2k+1)=(k+1)^2$$\n",
    "By the hypothesis, all of the terms on the left up to $2k-1$ are equal to $k^2$<br>\n",
    "$$k^2+(2k+1)=(k+1)^2$$\n",
    "Simplify the left and expand the right.<br>\n",
    "$$k^2+2k+1 = k^2+2k+1 \\qquad\\qquad\\mathbf{\\square}$$\n",
    "\n",
    " "
   ]
  },
  {
   "cell_type": "code",
   "execution_count": null,
   "metadata": {},
   "outputs": [],
   "source": []
  }
 ],
 "metadata": {
  "kernelspec": {
   "display_name": "SageMath 9.1",
   "language": "sage",
   "name": "sagemath"
  },
  "language_info": {
   "codemirror_mode": {
    "name": "ipython",
    "version": 3
   },
   "file_extension": ".py",
   "mimetype": "text/x-python",
   "name": "python",
   "nbconvert_exporter": "python",
   "pygments_lexer": "ipython3",
   "version": "3.7.3"
  }
 },
 "nbformat": 4,
 "nbformat_minor": 2
}
