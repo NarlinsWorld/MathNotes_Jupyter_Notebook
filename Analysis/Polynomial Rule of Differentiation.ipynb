{
 "cells": [
  {
   "cell_type": "code",
   "execution_count": 89,
   "metadata": {},
   "outputs": [
    {
     "data": {
      "application/javascript": [
       "IPython.notebook.set_autosave_interval(0)"
      ],
      "text/plain": [
       "<IPython.core.display.Javascript object>"
      ]
     },
     "metadata": {},
     "output_type": "display_data"
    },
    {
     "name": "stdout",
     "output_type": "stream",
     "text": [
      "Autosave disabled\n"
     ]
    }
   ],
   "source": [
    "%autosave 0"
   ]
  },
  {
   "cell_type": "code",
   "execution_count": 48,
   "metadata": {},
   "outputs": [
    {
     "data": {
      "text/html": [
       "<html><script type=\"math/tex; mode=display\">\\newcommand{\\Bold}[1]{\\mathbf{#1}}x + y</script></html>"
      ],
      "text/plain": [
       "x + y"
      ]
     },
     "metadata": {},
     "output_type": "display_data"
    },
    {
     "data": {
      "text/html": [
       "<html><script type=\"math/tex; mode=display\">\\newcommand{\\Bold}[1]{\\mathbf{#1}}x^{2} - y^{2}</script></html>"
      ],
      "text/plain": [
       "x^2 - y^2"
      ]
     },
     "metadata": {},
     "output_type": "display_data"
    }
   ],
   "source": [
    "var('x y')\n",
    "n=2\n",
    "g=x^(n-1)+y^(n-1)\n",
    "show(expand(g))\n",
    "f=(x-y)*g\n",
    "show( expand(f) )"
   ]
  },
  {
   "cell_type": "code",
   "execution_count": 54,
   "metadata": {},
   "outputs": [
    {
     "data": {
      "text/html": [
       "<html><script type=\"math/tex; mode=display\">\\newcommand{\\Bold}[1]{\\mathbf{#1}}x^{4} + x^{3} y + x^{2} y^{2} + x y^{3} + y^{4}</script></html>"
      ],
      "text/plain": [
       "x^4 + x^3*y + x^2*y^2 + x*y^3 + y^4"
      ]
     },
     "metadata": {},
     "output_type": "display_data"
    },
    {
     "data": {
      "text/html": [
       "<html><script type=\"math/tex; mode=display\">\\newcommand{\\Bold}[1]{\\mathbf{#1}}x^{5} - y^{5}</script></html>"
      ],
      "text/plain": [
       "x^5 - y^5"
      ]
     },
     "metadata": {},
     "output_type": "display_data"
    }
   ],
   "source": [
    "var('x y n')\n",
    "n=5\n",
    "g=x^(n-1)+x^(n-2)*y +x^(n-3)*y^2+x^(n-4)*y^3+x^(n-5)*y^4\n",
    "show(expand(g))\n",
    "f=(x-y)*g\n",
    "show( expand(f) )"
   ]
  },
  {
   "cell_type": "code",
   "execution_count": 88,
   "metadata": {},
   "outputs": [
    {
     "data": {
      "text/html": [
       "<html><script type=\"math/tex; mode=display\">\\newcommand{\\Bold}[1]{\\mathbf{#1}}{\\left(x^{4} + x^{3} y + x^{2} y^{2} + x y^{3} + y^{4}\\right)} {\\left(x - y\\right)}</script></html>"
      ],
      "text/plain": [
       "(x^4 + x^3*y + x^2*y^2 + x*y^3 + y^4)*(x - y)"
      ]
     },
     "metadata": {},
     "output_type": "display_data"
    },
    {
     "data": {
      "text/html": [
       "<html><script type=\"math/tex; mode=display\">\\newcommand{\\Bold}[1]{\\mathbf{#1}}x^{5} - y^{5}</script></html>"
      ],
      "text/plain": [
       "x^5 - y^5"
      ]
     },
     "metadata": {},
     "output_type": "display_data"
    }
   ],
   "source": [
    "var('x y'); f=0; p=5;\n",
    "for n in range(p,0,-1):\n",
    "    f=x^(n-1)*y^(p-n)+f\n",
    "g=(x-y)*f\n",
    "show(g)\n",
    "show(expand(g))"
   ]
  },
  {
   "cell_type": "markdown",
   "metadata": {},
   "source": [
    "<hr style='border-top 1px solid navy;'>\n",
    "$\n",
    "x^{n-1}y^{0}+x^{n-2}y^{1}+x^{n-3}y^{2}+\\cdots+x^{2}y^{n-3}+x^{1}y^{n-2}+x^{0}y^{n-1}\n",
    "$<br>\n",
    "If we let $n=5$ we get $x^4+x^3y+x^2y^2+xy^3+y^4$<br>\n",
    "So the powers of $x$ decrease from $n-1$ to $0$ and the powers of $y$ increase from $0$ to $n-1$<br>\n",
    "Next, we will multiply by $(x-y)$<br>\n",
    "$\n",
    "(x-y)\\left(x^{n-1}y^{0}+x^{n-2}y^{1}+x^{n-3}y^{2}+\\cdots+x^{2}y^{n-3}+x^{1}y^{n-2}+x^{0}y^{n-1} \\right)\n",
    "$<br>\n",
    "Here we have multiplied $x$ times the first term, folowed by $-y$ times the first term, then $x$ times the 2nd term. Notice that the 2nd and third term in this multiplication are the same and cancel.<br>\n",
    "$\n",
    "x\\cdot x^{n-1}-y\\cdot x^{n-1}+x\\cdot x^{n-2}y^1+\\cdots\n",
    "$<br> The next pair of terms will do likewise. Look carefully to note that they are the same and cancel<br>\n",
    "$-y\\cdot x^{n-2}y+x\\cdot x^{n-3}y^2$<br>\n",
    "When we get to $-y$ times the last term, it will not cancel and we will be left with $x^n-y^n$<br>"
   ]
  },
  {
   "cell_type": "markdown",
   "metadata": {},
   "source": [
    "<hr style='border-top: 1px solid blue;'>\n",
    "Show that $$\n",
    "\\lim_{x\\rightarrow a}\\frac{x^n-a^n}{x-a}=na^{n-1}\n",
    "$$\n",
    "<i>Proof:</i> Begin by defining $f(x)=x^n$ The instantaneous rate of change is<br>\n",
    "$$\n",
    "\\lim_{x\\rightarrow a}\\frac{f(x)-f(a)}{x-a}\n",
    "$$\n",
    "Replace $x$ with $a+h$ as a change of variable.\n",
    "$$\n",
    "\\lim_{a+h\\rightarrow h}\\frac{f(a+h)-f(a)}{a+h-a}=\\lim_{h\\rightarrow 0}\\frac{f(a+h)-f(a)}{h}\n",
    "$$\n",
    "This is $f^\\prime(a).$ More common is to see it written as $$f^\\prime(x)=\\lim_{h\\rightarrow 0}\\frac{f(x+h)-f(x)}{h}$$\n",
    "\n",
    "\n",
    "\n",
    "\n",
    "\n",
    "\n",
    "\n",
    "\n",
    "\n",
    "<br>Previously we showed that<br>\n",
    "$$\n",
    "\\begin{align} \n",
    "f^\\prime(a) =\\lim_{x\\rightarrow a}\\frac{x^n-a^n}{x-a} \n",
    "&=(x-a)\\cdot\n",
    "\\frac{\\left(x^{n-1}a^{0}+x^{n-2}a^{1}+x^{n-3}a^{2}+\\cdots+x^{2}a^{n-3}+x^{1}a^{n-2}+x^{0}a^{n-1} \\right)}{x-a}\\\\\n",
    "\\text{Now cancel }(x-a) \\text{ and substitute }a \\text{ for }x \\text{ as }x\\rightarrow a\\\\\n",
    "&= a^{n-1}+\n",
    "a^{n-2}a+\n",
    "a^{n-3}a^2+\n",
    "a^{n-4}a^3+\\cdots+a^{0}a^{n-1}\\\\\n",
    "&= a^{n-1}+a^{n-1}+a^{n-1}+a^{n-1}+\\cdots+a^{n-1}\\\\\n",
    "&= n\\cdot a^{n-1}\n",
    "\\end{align}\n",
    "$$\n",
    "So $f^\\prime(a)=na^{n-1}$, which can be expressed in $x$ to give $$f^\\prime(x)=nx^{n-1}$$"
   ]
  },
  {
   "cell_type": "markdown",
   "metadata": {},
   "source": [
    "$$\n",
    "\\begin{align} \n",
    "x &= y\\\\ \n",
    "&= z\n",
    "\\end{align}\n",
    "$$"
   ]
  }
 ],
 "metadata": {
  "kernelspec": {
   "display_name": "SageMath 9.1",
   "language": "sage",
   "name": "sagemath"
  },
  "language_info": {
   "codemirror_mode": {
    "name": "ipython",
    "version": 3
   },
   "file_extension": ".py",
   "mimetype": "text/x-python",
   "name": "python",
   "nbconvert_exporter": "python",
   "pygments_lexer": "ipython3",
   "version": "3.7.3"
  }
 },
 "nbformat": 4,
 "nbformat_minor": 2
}
