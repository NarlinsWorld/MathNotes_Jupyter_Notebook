{
 "cells": [
  {
   "cell_type": "markdown",
   "metadata": {},
   "source": [
    "Suppose we have a finite geometric series with $n$ terms.<br>\n",
    "$$ar^{n-1}+ar^{n-2}+\\ldots +ar^2+ar+a = \\sum_{k=n}^{1}ar^{k-1}$$<br>\n",
    "Turned around, this would be $\\displaystyle{\\sum_{k=1}^{n}ar^{k-1}=a+ar+ar^2+\\cdots+ar^{k-2}+ar^{k-1}}$<br>\n",
    "Factor out $a$<br>\n",
    "$a\\left( r^{n-1}+r^{n-2}+\\ldots + r^2+r+1 \\right)$<br>\n",
    "Recall from polynomial long division that $$\\frac{x^n-1}{x-1}=x^{n-1}+x^{n-2}+\\cdots+x+1$$\n",
    "Therefore, we have $$\\sum_{k=1}^n ar^{k-1}=a\\left(\\frac{r^n-1}{r-1}\\right)$$\n",
    "In a series with a summation symbol, we can adjust the indices, <span style='color: red;'>without changing the RHS.</span> \n",
    "<ol>\n",
    "    <li>If $k$ in the general term increases, then the indices both(top and bottom) decrease.</li>\n",
    "    Example: $\\displaystyle{\\sum_{k=0}^{n-1} ar^{k}=a\\left(\\frac{r^n-1}{r-1}\\right)}$\n",
    "    <li>If $k$ in the general term decreases, then the indices both increase.</li>\n",
    "    <li>If the summation indices decrease, then $n$ in the term increases.</li>\n",
    "    <li>If the summation indices increase, the $n$ in the term decreases.</li>\n",
    "</ol>"
   ]
  },
  {
   "cell_type": "markdown",
   "metadata": {},
   "source": [
    "<hr style=border-top: green,1px,solid>\n",
    "It’s the formula for the sum of a finite geometric series:\n",
    "\n",
    "$$\\sum_{k=0}^{n-1}x^k=\\frac{1-x^n}{1-x}\\;,$$\n",
    "\n",
    "here with $x=\\frac13$. Specifically,\n",
    "\n",
    "$$\\begin{align}\n",
    "\\sum_{k=1}^n\\frac1{3^{k-1}} \n",
    "&=\\sum_{k=0}^{n-1}\\frac1{3^k}\\\\\n",
    "&=\\sum_{k=0}^{n-1}\\left(\\frac13\\right)^k\\\\\n",
    "&=\\frac{1-(1/3)^n}{1-1/3}\\\\\n",
    "&=\\frac32\\left(1-\\left(\\frac13\\right)^n\\right)\\\\\n",
    "&=\\frac32\\left(1-\\frac1{3^n}\\right)\\;.\n",
    "\\end{align}$$"
   ]
  },
  {
   "cell_type": "code",
   "execution_count": null,
   "metadata": {},
   "outputs": [],
   "source": []
  }
 ],
 "metadata": {
  "kernelspec": {
   "display_name": "SageMath 9.1",
   "language": "sage",
   "name": "sagemath"
  },
  "language_info": {
   "codemirror_mode": {
    "name": "ipython",
    "version": 3
   },
   "file_extension": ".py",
   "mimetype": "text/x-python",
   "name": "python",
   "nbconvert_exporter": "python",
   "pygments_lexer": "ipython3",
   "version": "3.7.3"
  }
 },
 "nbformat": 4,
 "nbformat_minor": 2
}
