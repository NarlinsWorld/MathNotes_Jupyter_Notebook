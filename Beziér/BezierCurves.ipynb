{
 "cells": [
  {
   "cell_type": "code",
   "execution_count": 37,
   "metadata": {},
   "outputs": [
    {
     "data": {
      "image/png": "[encoded data removed]",
      "text/plain": [
       "Graphics object consisting of 11 graphics primitives"
      ]
     },
     "metadata": {},
     "output_type": "display_data"
    }
   ],
   "source": [
    "t = var('t')\n",
    "P_0=vector([1,2])\n",
    "P_1=vector([2,5])\n",
    "P_2=vector([3,6])\n",
    "P_3=vector([4,5])\n",
    "P_4=vector([6,2])\n",
    "L1=point((P_0,P_1,P_2,P_3,P_4),size=40)\n",
    "a=(1-t)*P_0+t*P_1\n",
    "b=(1-t)*P_1+t*P_2\n",
    "c=(1-t)*P_2+t*P_3\n",
    "d=(1-t)*P_3+t*P_4\n",
    "\n",
    "m=(1-t)*a+t*b\n",
    "n=(1-t)*b+t*c\n",
    "p=(1-t)*c+t*d\n",
    "\n",
    "r=(1-t)*m+t*n\n",
    "s=(1-t)*n+t*p\n",
    "\n",
    "u=(1-t)*r+t*s\n",
    "\n",
    "L1+=parametric_plot(a,(t,0,1),color='purple')\n",
    "L1+=parametric_plot(b,(t,0,1),color='purple')\n",
    "L1+=parametric_plot(c,(t,0,1),color='purple')\n",
    "L1+=parametric_plot(d,(t,0,1),color='purple')\n",
    "L1+=parametric_plot(m,(t,0,1),color='black')\n",
    "L1+=parametric_plot(n,(t,0,1),color='black')\n",
    "L1+=parametric_plot(p,(t,0,1),color='black')\n",
    "\n",
    "L1+=parametric_plot(r,(t,0,1),color='red')\n",
    "L1+=parametric_plot(s,(t,0,1),color='red')\n",
    "\n",
    "L1+=parametric_plot(u,(t,0,1),color='blue')\n",
    "\n",
    "show(L1,figsize=4,aspect_ratio=1,xmax=8,ymax=6,ymin=0,frame=true, axes=false)"
   ]
  },
  {
   "cell_type": "code",
   "execution_count": 72,
   "metadata": {},
   "outputs": [
    {
     "name": "stdout",
     "output_type": "stream",
     "text": [
      "-((P_0*(t - 1) - P_1*t)*(t - 1) - (P_1*(t - 1) - P_2*t)*t)*(t - 1) + ((P_1*(t - 1) - P_2*t)*(t - 1) - (P_2*(t - 1) - P_3*t)*t)*t\n"
     ]
    },
    {
     "data": {
      "text/html": [
       "<html><script type=\"math/tex; mode=display\">\\newcommand{\\Bold}[1]{\\mathbf{#1}}-P_{0} t^{3} + 3 \\, P_{1} t^{3} - 3 \\, P_{2} t^{3} + P_{3} t^{3} + 3 \\, P_{0} t^{2} - 6 \\, P_{1} t^{2} + 3 \\, P_{2} t^{2} - 3 \\, P_{0} t + 3 \\, P_{1} t + P_{0}</script></html>"
      ],
      "text/plain": [
       "-P_0*t^3 + 3*P_1*t^3 - 3*P_2*t^3 + P_3*t^3 + 3*P_0*t^2 - 6*P_1*t^2 + 3*P_2*t^2 - 3*P_0*t + 3*P_1*t + P_0"
      ]
     },
     "metadata": {},
     "output_type": "display_data"
    }
   ],
   "source": [
    "reset()\n",
    "var('t P_0 P_1 P_2 P_3')\n",
    "\n",
    "\n",
    "a=(1-t)*P_0+t*P_1\n",
    "b=(1-t)*P_1+t*P_2\n",
    "c=(1-t)*P_2+t*P_3\n",
    "\n",
    "\n",
    "m=(1-t)*a+t*b\n",
    "n=(1-t)*b+t*c\n",
    "\n",
    "\n",
    "r=(1-t)*m+t*n\n",
    "\n",
    "print(r)\n",
    "show(r.expand())"
   ]
  },
  {
   "cell_type": "code",
   "execution_count": null,
   "metadata": {},
   "outputs": [],
   "source": []
  }
 ],
 "metadata": {
  "kernelspec": {
   "display_name": "SageMath 9.2",
   "language": "sage",
   "name": "sagemath"
  },
  "language_info": {
   "codemirror_mode": {
    "name": "ipython",
    "version": 3
   },
   "file_extension": ".py",
   "mimetype": "text/x-python",
   "name": "python",
   "nbconvert_exporter": "python",
   "pygments_lexer": "ipython3",
   "version": "3.7.7"
  }
 },
 "nbformat": 4,
 "nbformat_minor": 2
}
