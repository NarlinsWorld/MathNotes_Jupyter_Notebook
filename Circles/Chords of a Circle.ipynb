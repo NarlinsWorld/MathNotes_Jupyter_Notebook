{
 "cells": [
  {
   "cell_type": "code",
   "execution_count": 1,
   "id": "247169d2",
   "metadata": {},
   "outputs": [
    {
     "data": {
      "text/html": [
       "<style>\n",
       ".RedItalic {\n",
       "    color: red;\n",
       "    font-style: italic;\n",
       "}\n",
       "</style>\n"
      ],
      "text/plain": [
       "<IPython.core.display.HTML object>"
      ]
     },
     "metadata": {},
     "output_type": "display_data"
    }
   ],
   "source": [
    "%%html\n",
    "<style>\n",
    ".RedItalic {\n",
    "    color: red;\n",
    "    font-style: italic;\n",
    "}\n",
    "</style>"
   ]
  },
  {
   "cell_type": "markdown",
   "id": "7c2c813d",
   "metadata": {},
   "source": [
    "<font size=\"3\">\n",
    "<h1>Intersecting Chord Theorem</h1>\n",
    "If two chords in a circle intersect inside the circle, then the two segments of the first chord when multiplied together will equal the two segements of the second chord when they are multiplied together.\n",
    "    \n",
    "<img src=\"../Images/Chords of a Circle Ratio.png\" width=\"50%\">\n",
    "    \n",
    "Proof: Consider the image below.\n",
    "<img src=\"../Images/Intersecting Chord Theorem.png\" width=\"40%\">\n"
   ]
  },
  {
   "cell_type": "markdown",
   "id": "409c324d",
   "metadata": {},
   "source": [
    "<font size=\"3\">\n",
    "We want to prove that $a\\cdot b=c\\cdot d.$ I have drawn dashed lines to obtain two similar triangles.  Angles $\\gamma$ and $\\delta$ are the same because they are opposite angles of intersecting lines.  Angles $\\alpha$ and $\\beta$ are the same due to the central angle theorem: <span class=\"RedItalic\">the central angle subtended by two points on a circle is always going to be twice the inscribed angle subtended by those points.</span> With two angles the same, the triangles are similar, and their similar leg lengths are in equal ratio.\n",
    "$$\\frac{a}{c}=\\frac{d}{b}$$\n",
    "Multiplying these out we get $$a\\cdot b = c\\cdot d \\tag*{$\\blacksquare$}$$"
   ]
  }
 ],
 "metadata": {
  "kernelspec": {
   "display_name": "Python 3 (ipykernel)",
   "language": "python",
   "name": "python3"
  },
  "language_info": {
   "codemirror_mode": {
    "name": "ipython",
    "version": 3
   },
   "file_extension": ".py",
   "mimetype": "text/x-python",
   "name": "python",
   "nbconvert_exporter": "python",
   "pygments_lexer": "ipython3",
   "version": "3.9.7"
  }
 },
 "nbformat": 4,
 "nbformat_minor": 5
}
