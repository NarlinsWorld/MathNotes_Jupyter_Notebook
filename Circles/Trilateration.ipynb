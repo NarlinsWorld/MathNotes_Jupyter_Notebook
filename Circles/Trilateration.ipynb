{
 "cells": [
  {
   "cell_type": "code",
   "execution_count": 2,
   "metadata": {},
   "outputs": [
    {
     "name": "stdout",
     "output_type": "stream",
     "text": [
      "(array([-1.125     ,  5.4267767 ,  1.77144661]), array([-1.125     ,  5.0732233 ,  2.47855339]))\n"
     ]
    }
   ],
   "source": [
    "from numpy import *                                           \n",
    "\n",
    "# Find the intersection of three spheres                 \n",
    "# P1,P2,P3 are the centers, r1,r2,r3 are the radii       \n",
    "# Implementaton based on Wikipedia Trilateration article.                              \n",
    "def trilaterate(P1,P2,P3,r1,r2,r3):                      \n",
    "    temp1 = P2-P1                                        \n",
    "    e_x = temp1/linalg.norm(temp1)                              \n",
    "    temp2 = P3-P1                                        \n",
    "    i = dot(e_x,temp2)                                   \n",
    "    temp3 = temp2 - i*e_x                                \n",
    "    e_y = temp3/linalg.norm(temp3)                              \n",
    "    e_z = cross(e_x,e_y)                                 \n",
    "    d = linalg.norm(P2-P1)                                      \n",
    "    j = dot(e_y,temp2)                                   \n",
    "    x = (r1*r1 - r2*r2 + d*d) / (2*d)                    \n",
    "    y = (r1*r1 - r3*r3 -2*i*x + i*i + j*j) / (2*j)       \n",
    "    temp4 = r1*r1 - x*x - y*y                            \n",
    "    if temp4<0:                                          \n",
    "        raise Exception(\"The three spheres do not intersect!\");\n",
    "    z = sqrt(temp4)                                      \n",
    "    p_12_a = P1 + x*e_x + y*e_y + z*e_z                  \n",
    "    p_12_b = P1 + x*e_x + y*e_y - z*e_z                  \n",
    "    return p_12_a,p_12_b          \n",
    "\n",
    "A=array((-2,5,2))\n",
    "B=array((-1,7,3))\n",
    "C=array((-1,5,2))\n",
    "r_1=1\n",
    "r_2=2\n",
    "r_3=1/2\n",
    "print(trilaterate(A,B,C,r_1,r_2,r_3))"
   ]
  },
  {
   "cell_type": "code",
   "execution_count": null,
   "metadata": {},
   "outputs": [],
   "source": []
  }
 ],
 "metadata": {
  "kernelspec": {
   "display_name": "Python 3",
   "language": "python",
   "name": "python3"
  },
  "language_info": {
   "codemirror_mode": {
    "name": "ipython",
    "version": 3
   },
   "file_extension": ".py",
   "mimetype": "text/x-python",
   "name": "python",
   "nbconvert_exporter": "python",
   "pygments_lexer": "ipython3",
   "version": "3.7.3"
  }
 },
 "nbformat": 4,
 "nbformat_minor": 2
}
