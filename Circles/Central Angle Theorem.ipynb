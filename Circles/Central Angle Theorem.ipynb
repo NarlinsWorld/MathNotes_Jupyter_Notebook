{
 "cells": [
  {
   "cell_type": "code",
   "execution_count": 2,
   "id": "86807251",
   "metadata": {},
   "outputs": [
    {
     "data": {
      "text/html": [
       "<style>\n",
       ".RedItalic {\n",
       "    color: red;\n",
       "    font-style: italic;\n",
       "}\n",
       "</style>\n"
      ],
      "text/plain": [
       "<IPython.core.display.HTML object>"
      ]
     },
     "metadata": {},
     "output_type": "display_data"
    }
   ],
   "source": [
    "%%html\n",
    "<style>\n",
    ".RedItalic {\n",
    "    color: red;\n",
    "    font-style: italic;\n",
    "}\n",
    "</style>"
   ]
  },
  {
   "cell_type": "markdown",
   "id": "e9897af2",
   "metadata": {},
   "source": [
    "<font size=\"3\">\n",
    "    <h1>Central Angle Theorem</h1>\n",
    "<span class=\"RedItalic\"> Definition: Central Angle.</span> The angle at the center of a circle formed by two radii coming from the ends of a chord.<br><br>\n",
    "<span class=\"RedItalic\">Definition: Inscribed Angle.</span> The angle at a perimiter point on a circle formed by two lines going to the endpoints of a chord.\n",
    "<img src=\"../Images/CentralAngleTheorem Case 1.png\" width=\"50%\">"
   ]
  },
  {
   "cell_type": "markdown",
   "id": "abee5201",
   "metadata": {},
   "source": [
    "<font size=\"3\">\n",
    "    \n",
    "Case 1. One of the legs of the inscribed angle happens to go through the circle center.\n",
    "    \n",
    "    \n",
    "Proof: Triangle $ICB$ is isosceles since two of its legs are radii. Therefore, $\\beta = \\beta_1.$  It has $3$ angles, $\\beta,\\beta_1,$ and $\\gamma$ that add to $180^\\circ.$\n",
    "At point $C$, there are $2$ angles, $\\gamma$ and $\\alpha,$ that add to $180^\\circ$ and one of them, $\\gamma$ is shared with triangle $ICB.$  Therefore, it is true that $$\\alpha = 2\\beta$$ Case 1 is proven. "
   ]
  }
 ],
 "metadata": {
  "kernelspec": {
   "display_name": "Python 3 (ipykernel)",
   "language": "python",
   "name": "python3"
  },
  "language_info": {
   "codemirror_mode": {
    "name": "ipython",
    "version": 3
   },
   "file_extension": ".py",
   "mimetype": "text/x-python",
   "name": "python",
   "nbconvert_exporter": "python",
   "pygments_lexer": "ipython3",
   "version": "3.9.7"
  }
 },
 "nbformat": 4,
 "nbformat_minor": 5
}
