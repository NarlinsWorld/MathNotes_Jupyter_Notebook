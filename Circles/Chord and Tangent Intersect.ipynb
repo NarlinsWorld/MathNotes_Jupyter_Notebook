{
 "cells": [
  {
   "cell_type": "markdown",
   "id": "95c3ce00",
   "metadata": {},
   "source": [
    "<font size=\"3\">\n",
    "    <h1>Lemma: \"Alternate Segment Theorem\"</h1>\n",
    "\n",
    "    \n",
    "<h3>With a circle, the angle between a tangent and a chord through the point of tangency is equal to the angle made by the chord in the alternate segment.</h3>\n",
    "This lemma is harder to understand than it is to prove.\n",
    "\n",
    "When a chord goes through a circle and misses the center point, then it creates two arcs (by arc we also mean segments of the circle) of unequal length (i.e. the segments are of unequal size).  Now suppose that one end of the chord passes through a tangent point coming from an external point, $P,$ and that the other end of the chord goes to any point, $A,$ in the alternate segment of the circle.  Then, the angle between the first chord and the tangent point is equal to the angle between point $A$ and the two ends of the chord.\n",
    "<img src=\"../Images/Alternate Segment Theorem_1.png\" width=\"70%\">"
   ]
  },
  {
   "cell_type": "markdown",
   "id": "b949d3d0",
   "metadata": {},
   "source": [
    "<font size=\"3\">\n",
    "We want to prove that in the figure, $\\angle\\gamma = \\angle\\beta.$\n",
    "    \n",
    "Let $T$ be a tangent point of a line coming from $P.$ Angle $\\beta$ is the segment angle between our chord $(\\overline{BT})$ and the tangent line.\n",
    "Dotted lines $CT$ and $CB$ come from the circle center and are radii of the isosceles triangle $TCB$ (i.e. $\\angle CTB = \\angle CBT)$ so $$\\angle TCB = 180^\\circ - 2\\cdot CTB \\tag{EQ 1}$$\n",
    "    \n",
    "Meanwhile, $\\angle CTP$ is a $90^\\circ$ angle formed between a circle radius and tangent line, which implies that\n",
    "    $$\\angle\\beta = 90^\\circ - \\angle CTB$$ and by algebra,\n",
    "    $$\\angle CTB = 90^\\circ - \\beta \\tag{EQ 2}$$\n",
    "Now we can substitute that result into EQ 1:\n",
    "  $$\\begin{align}\n",
    "  \\angle TCB &= 180^\\circ -2\\cdot (90^\\circ - \\beta)\\\\\n",
    "\\angle TCB &= 2\\beta\n",
    "\\end{align}$$\n",
    "Finally, we can use the central angle theorem to say that\n",
    "    $$\\gamma = \\frac{2\\beta}{2}=\\beta \\tag*{$\\blacksquare$}$$"
   ]
  },
  {
   "cell_type": "markdown",
   "id": "60a59963",
   "metadata": {},
   "source": [
    "<h1>Chord and Tangent Intersect at P</h1>\n",
    "<h2>$$\\overline{PA}\\cdot \\overline{PB} = \\overline{PT}^2$$</h2>\n",
    "<img src=\"../Images/Chord Tangent External Point.png\" width=\"40%\">"
   ]
  },
  {
   "cell_type": "markdown",
   "id": "8352e5a1",
   "metadata": {},
   "source": [
    "<font size=\"3\">\n",
    "This is Euclid's Book 3 Proposition 36.  \n",
    "\n",
    "Given an external point $P,$ which is tangent to a circle at $T,$ and also a line from $P$ that cuts the circle at $A$ and $B,$ then\n",
    "<h2>$$\\overline{PA}\\cdot \\overline{PB} = \\overline{PT}^2$$</h2>\n",
    "\n",
    "\n",
    "Proof: Consider triangles APT and BPT. The two triangles share a vertex at $P,$ thus they have the common angle, $\\alpha.$  Also, angles $\\gamma$ and $\\beta$ are equal because \"An angle between chord and tangent $(\\alpha),$ is equal to the angle in the alternate segment $(\\beta).$\" Having established two angles the same in APT and BPT, we conclude that they are similar triangles. Therefore,\n",
    "    $$\\frac{AP}{TP}=\\frac{TP}{BP}\\Rightarrow\\,\\overline{AP}\\cdot \\overline{BP} = \\overline{TP}^2 \\tag*{$\\blacksquare$}$$"
   ]
  }
 ],
 "metadata": {
  "kernelspec": {
   "display_name": "Python 3 (ipykernel)",
   "language": "python",
   "name": "python3"
  },
  "language_info": {
   "codemirror_mode": {
    "name": "ipython",
    "version": 3
   },
   "file_extension": ".py",
   "mimetype": "text/x-python",
   "name": "python",
   "nbconvert_exporter": "python",
   "pygments_lexer": "ipython3",
   "version": "3.9.7"
  }
 },
 "nbformat": 4,
 "nbformat_minor": 5
}
