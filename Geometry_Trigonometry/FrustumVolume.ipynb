{
 "cells": [
  {
   "cell_type": "code",
   "execution_count": null,
   "metadata": {},
   "outputs": [],
   "source": []
  },
  {
   "cell_type": "raw",
   "metadata": {},
   "source": []
  },
  {
   "cell_type": "markdown",
   "metadata": {},
   "source": [
    "<font size=3>\n",
    "Find the volume of the frustum of a pyramid with square base, being given that the side\n",
    "of the lower base is $a$, the side of the upper base $b$, and the altitude of the frustum $h$.<br>\n",
    "    <img src=\"../Images/FrustumOfPyramid.png\">\n",
    "    The insight here is knowing that the volume of a pyramid is $$Vol = \\frac{1}{3}\\times Base\\ Area \\times Peak\\ height$$Then we can imagine that there are two full pyramids and just subtract the volume of the smaller from the larger. However, there is a  little bit of work to do in finding the apex point above this frustum.  The idea here is to define two 3d lines going up the edges of the pyramid, and get their intersection at the top.  In order to define the lines, we need to get their coordinates in terms $a,b,$ and $h.$  We can start by giving some names to the points and designating a coordinate system.\n",
    "    <img src=\"../Images/FrustumOfPyramid_2.png\">\n",
    "    We will let point $A=(0,0,0)$ and we will be treating them as point vectors. Point $D$ is just $a$ units along the $x$ axis, and so its coordinates will be $D=(a,0,0).$ Now let's look at just the $x\\,z$ axes and try to get the coordinates of point $B.$\n",
    "    <img src=\"../Images/xz_FrustumOfPyramid_3.png\">\n",
    "    So the $x$ coordinate of the point $B$ should be distance $\\ell$, which we can work out from $a=\\ell+b+\\ell$ to be $$x_B=\\frac{a-b}{2}.$$ Of course, the height of the $B$ coordinate will be $h,$ and we can imagine the figure drawn for the $y\\,z$ axes, which will look remarkably like the $x\\,z$ axes, and say that the $y$ coordinate of $B$ is also $$y_B=\\frac{a-b}{2}.$$ $$B=\\left(\\frac{a-b}{2},\\frac{a-b}{2},h \\right)$$\n",
    "    Now we need to specify coordinates for point $C.$ From the diagram, $$C=\\left(b+\\frac{a-b}{2},\\frac{a-b}{2},h  \\right)$$\n",
    "    For convenience, let's show all four coordinates as vectors.\n",
    "    $$\n",
    "    A=\\left(\\begin{array}{c}0\\\\0\\\\0 \\end{array}  \\right)\\quad\n",
    "    B=\\left(\\begin{array}{c}\\frac{a-b}{2}\\\\\\frac{a-b}{2}\\\\h \\end{array}  \\right)\\quad\n",
    "    C=\\left(\\begin{array}{c}b+\\frac{a-b}{2}\\\\\\frac{a-b}{2}\\\\h \\end{array}  \\right)\\quad\n",
    "    D=\\left(\\begin{array}{c}a\\\\0\\\\0 \\end{array}  \\right)\n",
    "    $$\n",
    "    The two lines easy to write in parametric form. $$\\left(\\begin{array}{c}x\\\\y\\\\z \\end{array}\\right)=A+t\\cdot(B-A)\\tag{eq 1}$$\n",
    "    $$\\left(\\begin{array}{c}x\\\\y\\\\z \\end{array}\\right)=D+s\\cdot(C-D)\\tag{eq 2}$$\n",
    "\n",
    "Eq 1 resolves to the vector: $$\\left(\\begin{array}{c}x\\\\y\\\\z \\end{array}\\right)=\\left( \\begin{array}{c}\\frac{1}{2} \\; t \\; \\left(a - b \\right)\\\\\\frac{1}{2} \\; t \\; \\left(a - b \\right)\\\\ h \\; t\\\\ \\end{array} \\right)\\tag{eq 1a}\t$$\n",
    "    \n",
    "Eq 2 resolves tothe vector: \n",
    "$$\\left(\\begin{array}{c}x\\\\y\\\\z \\end{array}\\right)=\\left( \\begin{array}{c}s \\; \\left(\\frac{1}{2} \\; \\left(a - b \\right) - a + b \\right) + a\\\\\\frac{1}{2} \\; s \\; \\left(a - b \\right)\\\\ h \\; s\\\\ \\end{array} \\right)\t\\tag{eq 2a}$$\n",
    "    \n",
    "These two lines will intersect at the real apex of the pyramid. To find that, we can equate their $x$ and $y$ components and solve for $t$ and $s.$<br><br>\n",
    "    $$\\frac{1}{2} \\; t \\; \\left(a - b \\right) = s \\; \\left(\\frac{1}{2} \\; \\left(a - b \\right) - a + b \\right) + a$$\n",
    "$$\\frac{1}{2} \\; t \\; \\left(a - b \\right) = \\frac{1}{2} \\; s \\; \\left(a - b \\right)$$\n",
    "$$t=\\frac{a}{a-b}\\qquad s=\\frac{a}{a-b}$$\n",
    "    \n",
    "Now we can sub $t$ back into equation 1a and obtain the intersection at the apex.\n",
    "$$\n",
    "\\left(\\begin{array}{c}x\\\\y\\\\z \\end{array}\\right)=\n",
    "\\left(\\begin{array}{c}\\frac{1}{2} \\cdot \\frac{a}{a - b}\\left(a - b \\right)\\\\\n",
    "\\frac{1}{2} \\cdot \\frac{a}{a - b}\\left(a - b \\right)\\\\\n",
    "h  \\frac{a}{a - b} \n",
    "\\end{array}\\right)\n",
    "$$\n"
   ]
  },
  {
   "cell_type": "markdown",
   "metadata": {},
   "source": [
    "<font size=3>\n",
    "Mostly we don't need the above information, but we do need the apex height which we now know to be $$apex=h\\frac{a}{a-b}$$\n",
    "The top pyramid begins at level $h$ and goes to $h\\frac{a}{a-b}$ so its height is $$h\\frac{a}{a-b}-h$$ Its base is $b^2$ and it vol is\n",
    "    $$Vol_{top}=\\frac{1}{3}b^2\\cdot\\left(h\\frac{a}{a-b}-h \\right) $$\n",
    "The larger volume is \n",
    "    $$Vol_{pyramid}=\\frac{1}{3}a^2\\left(h\\frac{a}{a-b}\\right)$$ and the volume of the frustum is\n",
    "    $$Frustum_{volume}=\\frac{1}{3}a^2\\left(h\\frac{a}{a-b}\\right)-\\frac{1}{3}b^2\\cdot\\left(h\\frac{a}{a-b}-h \\right)$$"
   ]
  },
  {
   "cell_type": "code",
   "execution_count": 3,
   "metadata": {},
   "outputs": [
    {
     "name": "stdout",
     "output_type": "stream",
     "text": [
      "pyramid height = 2.5\n",
      "Small Vol = 18.0\n",
      "Pyramid volume = 83.33333333333331\n",
      "Frustum volume = 65.33333333333331\n"
     ]
    }
   ],
   "source": [
    "a=10\n",
    "b=6\n",
    "h=1\n",
    "Small=1/3*b**2*(h*a/(a-b)-h)\n",
    "Whole = 1/3*a**2*(h*a/(a-b))\n",
    "Vol=Whole-Small\n",
    "print(\"pyramid height =\",h*a/(a-b))\n",
    "print(\"Small Vol =\",Small)\n",
    "print(\"Pyramid volume =\",Whole)\n",
    "print(\"Frustum volume =\",Vol)"
   ]
  }
 ],
 "metadata": {
  "kernelspec": {
   "display_name": "Python 3",
   "language": "python",
   "name": "python3"
  },
  "language_info": {
   "codemirror_mode": {
    "name": "ipython",
    "version": 3
   },
   "file_extension": ".py",
   "mimetype": "text/x-python",
   "name": "python",
   "nbconvert_exporter": "python",
   "pygments_lexer": "ipython3",
   "version": "3.7.10"
  }
 },
 "nbformat": 4,
 "nbformat_minor": 4
}
